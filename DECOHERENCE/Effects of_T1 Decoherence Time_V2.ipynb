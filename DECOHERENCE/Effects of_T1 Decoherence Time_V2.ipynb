{
 "cells": [
  {
   "cell_type": "code",
   "execution_count": 1,
   "id": "1e9be8ad-aa93-4d72-8281-b0f4d6013221",
   "metadata": {},
   "outputs": [
    {
     "name": "stderr",
     "output_type": "stream",
     "text": [
      "<frozen importlib._bootstrap>:219: RuntimeWarning: scipy._lib.messagestream.MessageStream size changed, may indicate binary incompatibility. Expected 56 from C header, got 64 from PyObject\n"
     ]
    },
    {
     "data": {
      "text/plain": [
       "<AccountProvider for IBMQ(hub='ibm-q', group='open', project='main')>"
      ]
     },
     "execution_count": 1,
     "metadata": {},
     "output_type": "execute_result"
    }
   ],
   "source": [
    "import numpy as np\n",
    "\n",
    "# Importing standard Qiskit libraries\n",
    "from qiskit import QuantumRegister, ClassicalRegister\n",
    "from qiskit import QuantumCircuit, execute,IBMQ\n",
    "from qiskit.tools.monitor import job_monitor\n",
    "from qiskit import transpile\n",
    "\n",
    "from qiskit.tools.jupyter import *\n",
    "from qiskit.visualization import *\n",
    "from ibm_quantum_widgets import *\n",
    "from qiskit.providers.aer import QasmSimulator\n",
    "from qiskit.providers.ibmq import least_busy\n",
    "\n",
    "\n",
    "# Load local account information\n",
    "IBMQ.load_account()"
   ]
  },
  {
   "cell_type": "code",
   "execution_count": 2,
   "id": "af1b46c3-e813-4ca0-a740-2ee704373ecb",
   "metadata": {},
   "outputs": [
    {
     "data": {
      "text/plain": [
       "[<IBMQSimulator('ibmq_qasm_simulator') from IBMQ(hub='ibm-q-education', group='uni-antioquia-1', project='qcudea2022-1')>,\n",
       " <IBMQBackend('ibmq_armonk') from IBMQ(hub='ibm-q-education', group='uni-antioquia-1', project='qcudea2022-1')>,\n",
       " <IBMQBackend('ibmq_lima') from IBMQ(hub='ibm-q-education', group='uni-antioquia-1', project='qcudea2022-1')>,\n",
       " <IBMQBackend('ibmq_belem') from IBMQ(hub='ibm-q-education', group='uni-antioquia-1', project='qcudea2022-1')>,\n",
       " <IBMQBackend('ibmq_quito') from IBMQ(hub='ibm-q-education', group='uni-antioquia-1', project='qcudea2022-1')>,\n",
       " <IBMQSimulator('simulator_statevector') from IBMQ(hub='ibm-q-education', group='uni-antioquia-1', project='qcudea2022-1')>,\n",
       " <IBMQSimulator('simulator_mps') from IBMQ(hub='ibm-q-education', group='uni-antioquia-1', project='qcudea2022-1')>,\n",
       " <IBMQSimulator('simulator_extended_stabilizer') from IBMQ(hub='ibm-q-education', group='uni-antioquia-1', project='qcudea2022-1')>,\n",
       " <IBMQSimulator('simulator_stabilizer') from IBMQ(hub='ibm-q-education', group='uni-antioquia-1', project='qcudea2022-1')>,\n",
       " <IBMQBackend('ibmq_jakarta') from IBMQ(hub='ibm-q-education', group='uni-antioquia-1', project='qcudea2022-1')>,\n",
       " <IBMQBackend('ibmq_manila') from IBMQ(hub='ibm-q-education', group='uni-antioquia-1', project='qcudea2022-1')>,\n",
       " <IBMQBackend('ibm_lagos') from IBMQ(hub='ibm-q-education', group='uni-antioquia-1', project='qcudea2022-1')>,\n",
       " <IBMQBackend('ibm_nairobi') from IBMQ(hub='ibm-q-education', group='uni-antioquia-1', project='qcudea2022-1')>,\n",
       " <IBMQBackend('ibm_perth') from IBMQ(hub='ibm-q-education', group='uni-antioquia-1', project='qcudea2022-1')>,\n",
       " <IBMQBackend('ibm_oslo') from IBMQ(hub='ibm-q-education', group='uni-antioquia-1', project='qcudea2022-1')>]"
      ]
     },
     "execution_count": 2,
     "metadata": {},
     "output_type": "execute_result"
    }
   ],
   "source": [
    "# Get the least busy backend\n",
    "#provider = IBMQ.get_provider(hub='ibm-q')\n",
    "provider = IBMQ.get_provider(hub='ibm-q-education', group='uni-antioquia-1', project='qcudea2022-1')\n",
    "provider.backends()"
   ]
  },
  {
   "cell_type": "code",
   "execution_count": 3,
   "id": "08ae0a03-47b5-419b-a049-6ca4ed6c5ce7",
   "metadata": {},
   "outputs": [
    {
     "name": "stdout",
     "output_type": "stream",
     "text": [
      "El computador cuántico menos ocupado es el ibm_perth\n"
     ]
    }
   ],
   "source": [
    "remote_backend = least_busy(provider.backends(filters=lambda x: x.configuration().n_qubits >= 2 \n",
    "                                       and not x.configuration().simulator \n",
    "                                       and x.status().operational==True))\n",
    "\n",
    "print(\"El computador cuántico menos ocupado es el \" + remote_backend.name())\n",
    "\n",
    "#backend = provider.get_backend('ibmq_armonk')"
   ]
  },
  {
   "cell_type": "code",
   "execution_count": 4,
   "id": "a9d5e5b2-906b-41c8-8347-94fdb7b180f8",
   "metadata": {},
   "outputs": [],
   "source": [
    "q = QuantumRegister(1,'q')\n",
    "c = ClassicalRegister(1,'c')"
   ]
  },
  {
   "cell_type": "code",
   "execution_count": 5,
   "id": "8a2c64e2-29cb-44de-a8da-d9c5efab0e9b",
   "metadata": {},
   "outputs": [],
   "source": [
    "def withoutDelay():\n",
    "    circuit = QuantumCircuit(q,c)\n",
    "\n",
    "    circuit.x(q[0])\n",
    "    circuit.measure(q[0],c[0]) #Measuring the qubit\n",
    "\n",
    "    nShots = 8192\n",
    "\n",
    "    job = execute(circuit, remote_backend, shots=nShots)\n",
    "    job_monitor(job)\n",
    "\n",
    "    counts = job.result().get_counts()\n",
    "\n",
    "    print(\"No delay: \",counts)\n",
    "    plot_histogram(job.result().get_counts())\n",
    "    \n",
    "    return circuit"
   ]
  },
  {
   "cell_type": "code",
   "execution_count": 6,
   "id": "584043ac-e20d-41fc-b87e-20ca6b31e85d",
   "metadata": {},
   "outputs": [],
   "source": [
    "def withDelay():  \n",
    "    circuit = QuantumCircuit(q,c)\n",
    "    circuit.x(q[0])\n",
    "    circuit.delay(200, unit=\"us\") # Amplitude Damping of 118.82 us microseconds      \n",
    "    circuit.measure(q[0],c[0]) #Measuring the qubit\n",
    "\n",
    "    transpiled_circ = transpile(circuit, remote_backend, scheduling_method='alap')  \n",
    "\n",
    "    nShots = 8192\n",
    "    \n",
    "    job = execute(transpiled_circ, remote_backend, shots=nShots)\n",
    "    job_monitor(job)\n",
    "\n",
    "    counts = job.result().get_counts()\n",
    "\n",
    "    print(\"With delay: \",counts)\n",
    "    plot_histogram(job.result().get_counts())\n",
    "    \n",
    "    return circuit"
   ]
  },
  {
   "cell_type": "code",
   "execution_count": 7,
   "id": "b793d499-79b8-4bfa-878a-c71a820f899c",
   "metadata": {},
   "outputs": [
    {
     "name": "stdout",
     "output_type": "stream",
     "text": [
      "Job Status: job has successfully run\n",
      "No delay:  {'0': 898, '1': 7294}\n"
     ]
    }
   ],
   "source": [
    "circuit=withoutDelay()"
   ]
  },
  {
   "cell_type": "code",
   "execution_count": 8,
   "id": "5336de97-ce3b-49eb-a710-27a8a0caabc3",
   "metadata": {},
   "outputs": [
    {
     "data": {
      "image/png": "[encoded data removed]",
      "text/plain": [
       "<Figure size 193.726x144.48 with 1 Axes>"
      ]
     },
     "execution_count": 8,
     "metadata": {},
     "output_type": "execute_result"
    }
   ],
   "source": [
    "circuit.draw()"
   ]
  },
  {
   "cell_type": "code",
   "execution_count": 9,
   "id": "4fc3a29e-cdbb-41ff-b5fa-602869e68625",
   "metadata": {},
   "outputs": [
    {
     "name": "stdout",
     "output_type": "stream",
     "text": [
      "Job Status: job has successfully run\n",
      "With delay:  {'0': 6085, '1': 2107}\n"
     ]
    }
   ],
   "source": [
    "circuit_delay=withDelay()"
   ]
  },
  {
   "cell_type": "code",
   "execution_count": 10,
   "id": "72a77fd4-fc76-4e28-8e3b-eaa00de0996f",
   "metadata": {},
   "outputs": [
    {
     "data": {
      "image/png": "[encoded data removed]",
      "text/plain": [
       "<Figure size 253.926x144.48 with 1 Axes>"
      ]
     },
     "execution_count": 10,
     "metadata": {},
     "output_type": "execute_result"
    }
   ],
   "source": [
    "circuit_delay.draw()"
   ]
  },
  {
   "cell_type": "code",
   "execution_count": 11,
   "id": "c16608d6-539e-416b-a489-20d4e957d0d6",
   "metadata": {},
   "outputs": [
    {
     "data": {
      "text/html": [
       "<h3>Version Information</h3><table><tr><th>Qiskit Software</th><th>Version</th></tr><tr><td><code>qiskit-terra</code></td><td>0.21.0</td></tr><tr><td><code>qiskit-aer</code></td><td>0.10.4</td></tr><tr><td><code>qiskit-ibmq-provider</code></td><td>0.19.2</td></tr><tr><td><code>qiskit</code></td><td>0.37.0</td></tr><tr><td><code>qiskit-nature</code></td><td>0.4.2</td></tr><tr><td><code>qiskit-finance</code></td><td>0.3.3</td></tr><tr><td><code>qiskit-optimization</code></td><td>0.4.0</td></tr><tr><td><code>qiskit-machine-learning</code></td><td>0.4.0</td></tr><tr><th>System information</th></tr><tr><td>Python version</td><td>3.8.13</td></tr><tr><td>Python compiler</td><td>GCC 10.3.0</td></tr><tr><td>Python build</td><td>default, Mar 25 2022 06:04:10</td></tr><tr><td>OS</td><td>Linux</td></tr><tr><td>CPUs</td><td>8</td></tr><tr><td>Memory (Gb)</td><td>31.211315155029297</td></tr><tr><td colspan='2'>Fri Aug 05 18:27:25 2022 UTC</td></tr></table>"
      ],
      "text/plain": [
       "<IPython.core.display.HTML object>"
      ]
     },
     "metadata": {},
     "output_type": "display_data"
    },
    {
     "data": {
      "text/html": [
       "<div style='width: 100%; background-color:#d5d9e0;padding-left: 10px; padding-bottom: 10px; padding-right: 10px; padding-top: 5px'><h3>This code is a part of Qiskit</h3><p>&copy; Copyright IBM 2017, 2022.</p><p>This code is licensed under the Apache License, Version 2.0. You may<br>obtain a copy of this license in the LICENSE.txt file in the root directory<br> of this source tree or at http://www.apache.org/licenses/LICENSE-2.0.<p>Any modifications or derivative works of this code must retain this<br>copyright notice, and modified files need to carry a notice indicating<br>that they have been altered from the originals.</p></div>"
      ],
      "text/plain": [
       "<IPython.core.display.HTML object>"
      ]
     },
     "metadata": {},
     "output_type": "display_data"
    }
   ],
   "source": [
    "import qiskit.tools.jupyter\n",
    "%qiskit_version_table\n",
    "%qiskit_copyright"
   ]
  },
  {
   "cell_type": "code",
   "execution_count": null,
   "id": "bf89be41-9653-4332-bd35-093013d06561",
   "metadata": {},
   "outputs": [],
   "source": []
  }
 ],
 "metadata": {
  "kernelspec": {
   "display_name": "Python 3 (ipykernel)",
   "language": "python",
   "name": "python3"
  },
  "language_info": {
   "codemirror_mode": {
    "name": "ipython",
    "version": 3
   },
   "file_extension": ".py",
   "mimetype": "text/x-python",
   "name": "python",
   "nbconvert_exporter": "python",
   "pygments_lexer": "ipython3",
   "version": "3.8.13"
  },
  "widgets": {
   "application/vnd.jupyter.widget-state+json": {
    "state": {
     "024fa0244b4a4463b758e0e345e6b2e7": {
      "model_module": "@jupyter-widgets/controls",
      "model_module_version": "1.5.0",
      "model_name": "DescriptionStyleModel",
      "state": {
       "description_width": ""
      }
     },
     "069f3d252abc44e88621418b4b62a2ed": {
      "model_module": "@jupyter-widgets/base",
      "model_module_version": "1.2.0",
      "model_name": "LayoutModel",
      "state": {
       "grid_area": "right",
       "padding": "0px 0px 0px 0px",
       "width": "70px"
      }
     },
     "0b8832334f0f4019b6cc00afa2383d37": {
      "model_module": "@jupyter-widgets/controls",
      "model_module_version": "1.5.0",
      "model_name": "ButtonStyleModel",
      "state": {}
     },
     "1208ff777ea64235bcdf315248fe5dba": {
      "model_module": "@jupyter-widgets/controls",
      "model_module_version": "1.5.0",
      "model_name": "HTMLModel",
      "state": {
       "layout": "IPY_MODEL_cd545ec12bfb495999a55b5c7ce83a55",
       "style": "IPY_MODEL_f24def88be924693b761cfb94c66876f",
       "value": "-"
      }
     },
     "1930175c4d044120899a17e584536d6a": {
      "model_module": "@jupyter-widgets/base",
      "model_module_version": "1.2.0",
      "model_name": "LayoutModel",
      "state": {
       "width": "190px"
      }
     },
     "1c83febf528e4e958f13da14fc0e86f8": {
      "model_module": "@jupyter-widgets/controls",
      "model_module_version": "1.5.0",
      "model_name": "DescriptionStyleModel",
      "state": {
       "description_width": ""
      }
     },
     "1ca76b36cb90419787ec6121ac3b1e52": {
      "model_module": "@jupyter-widgets/controls",
      "model_module_version": "1.5.0",
      "model_name": "DescriptionStyleModel",
      "state": {
       "description_width": ""
      }
     },
     "1ea53e19a3344e4e9e73adf11608cac6": {
      "model_module": "@jupyter-widgets/base",
      "model_module_version": "1.2.0",
      "model_name": "LayoutModel",
      "state": {
       "max_width": "700px",
       "min_width": "700px"
      }
     },
     "22d2d26c96b344da867d0a5ad10ed9f5": {
      "model_module": "@jupyter-widgets/controls",
      "model_module_version": "1.5.0",
      "model_name": "DescriptionStyleModel",
      "state": {
       "description_width": ""
      }
     },
     "233154e7253e440ab3c12e22dfe9eb03": {
      "model_module": "@jupyter-widgets/controls",
      "model_module_version": "1.5.0",
      "model_name": "HTMLModel",
      "state": {
       "layout": "IPY_MODEL_30eb983c5fe94800acfb6220597b4ff1",
       "style": "IPY_MODEL_8c6132e5a5c84a9f8159be4a2aa38a90",
       "value": "<font style='color:#34BC6E'>DONE</font>"
      }
     },
     "2c7c61310ec14a35979240d2d906c6f2": {
      "model_module": "@jupyter-widgets/controls",
      "model_module_version": "1.5.0",
      "model_name": "HTMLModel",
      "state": {
       "layout": "IPY_MODEL_d268bcea751d48a18648f3324ec83b64",
       "style": "IPY_MODEL_1ca76b36cb90419787ec6121ac3b1e52",
       "value": "job has successfully run"
      }
     },
     "2f3de62ce78e4cf484c71f10854d0251": {
      "model_module": "@jupyter-widgets/controls",
      "model_module_version": "1.5.0",
      "model_name": "HTMLModel",
      "state": {
       "layout": "IPY_MODEL_c76648fb525d4775ae97c8da308ee552",
       "style": "IPY_MODEL_c6d85a3ce2b445999cc12960e2d9101f",
       "value": "<font style='color:#34BC6E'>DONE</font>"
      }
     },
     "30eb983c5fe94800acfb6220597b4ff1": {
      "model_module": "@jupyter-widgets/base",
      "model_module_version": "1.2.0",
      "model_name": "LayoutModel",
      "state": {
       "width": "95px"
      }
     },
     "40695ada6f1d4258bcf6845e95e7e7f4": {
      "model_module": "@jupyter-widgets/base",
      "model_module_version": "1.2.0",
      "model_name": "LayoutModel",
      "state": {
       "margin": "0px 0px 10px 0px"
      }
     },
     "42af0d74c5af42c9b93f796163aa12f2": {
      "model_module": "@jupyter-widgets/controls",
      "model_module_version": "1.5.0",
      "model_name": "DescriptionStyleModel",
      "state": {
       "description_width": ""
      }
     },
     "4c00c6aab1544f34accd49008dedc9b3": {
      "model_module": "@jupyter-widgets/controls",
      "model_module_version": "1.5.0",
      "model_name": "DescriptionStyleModel",
      "state": {
       "description_width": ""
      }
     },
     "505c5d2a11404e51aacaa4b003ba7cef": {
      "model_module": "@jupyter-widgets/controls",
      "model_module_version": "1.5.0",
      "model_name": "ButtonModel",
      "state": {
       "icon": "close",
       "layout": "IPY_MODEL_68f9c7da2c1e4f7fafeedf65aaf4d690",
       "style": "IPY_MODEL_f11a720c0eff46c7a07bc17050f65652"
      }
     },
     "514408327e484429895242a8f18cda29": {
      "model_module": "@jupyter-widgets/base",
      "model_module_version": "1.2.0",
      "model_name": "LayoutModel",
      "state": {
       "width": "190px"
      }
     },
     "528b478d4e2544f58b74d9dbcd2f1893": {
      "model_module": "@jupyter-widgets/controls",
      "model_module_version": "1.5.0",
      "model_name": "HTMLModel",
      "state": {
       "layout": "IPY_MODEL_1930175c4d044120899a17e584536d6a",
       "style": "IPY_MODEL_840bedc9b383451da77adc2feb23b273",
       "value": "62ed5fea77309f5c3094525a"
      }
     },
     "58155aa35ffe4536b94dc93801db617f": {
      "model_module": "@jupyter-widgets/base",
      "model_module_version": "1.2.0",
      "model_name": "LayoutModel",
      "state": {
       "margin": "0px 5px 0px 0px",
       "width": "32px"
      }
     },
     "5868ee0d144c43eb8b12f3d184c53a68": {
      "model_module": "@jupyter-widgets/controls",
      "model_module_version": "1.5.0",
      "model_name": "HTMLModel",
      "state": {
       "layout": "IPY_MODEL_950fbd3aed7e4184acf1086ae31010d2",
       "style": "IPY_MODEL_9d6be40acbb64477a6bcdc203b510947",
       "value": "ibm_perth"
      }
     },
     "5960e0fe694f4a619b96e480acac7808": {
      "model_module": "@jupyter-widgets/base",
      "model_module_version": "1.2.0",
      "model_name": "LayoutModel",
      "state": {
       "width": "190px"
      }
     },
     "5b5eb6c8b8d644568b598bb71ac81077": {
      "model_module": "@jupyter-widgets/controls",
      "model_module_version": "1.5.0",
      "model_name": "DescriptionStyleModel",
      "state": {
       "description_width": ""
      }
     },
     "68f9c7da2c1e4f7fafeedf65aaf4d690": {
      "model_module": "@jupyter-widgets/base",
      "model_module_version": "1.2.0",
      "model_name": "LayoutModel",
      "state": {
       "margin": "0px 5px 0px 0px",
       "width": "32px"
      }
     },
     "68fc2a92e7a8470e81e4083a1444168e": {
      "model_module": "@jupyter-widgets/base",
      "model_module_version": "1.2.0",
      "model_name": "LayoutModel",
      "state": {
       "width": "145px"
      }
     },
     "69aae5f6c9b840b3a3cd18603ad72936": {
      "model_module": "@jupyter-widgets/controls",
      "model_module_version": "1.5.0",
      "model_name": "HTMLModel",
      "state": {
       "layout": "IPY_MODEL_514408327e484429895242a8f18cda29",
       "style": "IPY_MODEL_024fa0244b4a4463b758e0e345e6b2e7",
       "value": "62ed5f13bf063e91b4c1c358"
      }
     },
     "6abae54ff04847f0b48c2c4c1c414aca": {
      "model_module": "@jupyter-widgets/controls",
      "model_module_version": "1.5.0",
      "model_name": "DescriptionStyleModel",
      "state": {
       "description_width": ""
      }
     },
     "6c1cf6a5900748f996a026d5ee160634": {
      "model_module": "@jupyter-widgets/controls",
      "model_module_version": "1.5.0",
      "model_name": "ButtonStyleModel",
      "state": {
       "button_color": "white"
      }
     },
     "7ad516a157ae4d40a8caaf683d5be15e": {
      "model_module": "@jupyter-widgets/base",
      "model_module_version": "1.2.0",
      "model_name": "LayoutModel",
      "state": {
       "width": "70px"
      }
     },
     "7e2b4c3e09ca4ebdaec4a475ef568a56": {
      "model_module": "@jupyter-widgets/controls",
      "model_module_version": "1.5.0",
      "model_name": "ButtonModel",
      "state": {
       "icon": "close",
       "layout": "IPY_MODEL_58155aa35ffe4536b94dc93801db617f",
       "style": "IPY_MODEL_6c1cf6a5900748f996a026d5ee160634"
      }
     },
     "80c36dfd77d0400d893b167cff290306": {
      "model_module": "@jupyter-widgets/controls",
      "model_module_version": "1.5.0",
      "model_name": "DescriptionStyleModel",
      "state": {
       "description_width": ""
      }
     },
     "840bedc9b383451da77adc2feb23b273": {
      "model_module": "@jupyter-widgets/controls",
      "model_module_version": "1.5.0",
      "model_name": "DescriptionStyleModel",
      "state": {
       "description_width": ""
      }
     },
     "86335b09929547418c7a9ff977588704": {
      "model_module": "@jupyter-widgets/controls",
      "model_module_version": "1.5.0",
      "model_name": "HTMLModel",
      "state": {
       "layout": "IPY_MODEL_68fc2a92e7a8470e81e4083a1444168e",
       "style": "IPY_MODEL_6abae54ff04847f0b48c2c4c1c414aca",
       "value": "<h5>Backend</h5>"
      }
     },
     "8762839fdc394a7fadfb2e02f048b666": {
      "model_module": "@jupyter-widgets/controls",
      "model_module_version": "1.5.0",
      "model_name": "DescriptionStyleModel",
      "state": {
       "description_width": ""
      }
     },
     "8c6132e5a5c84a9f8159be4a2aa38a90": {
      "model_module": "@jupyter-widgets/controls",
      "model_module_version": "1.5.0",
      "model_name": "DescriptionStyleModel",
      "state": {
       "description_width": ""
      }
     },
     "950fbd3aed7e4184acf1086ae31010d2": {
      "model_module": "@jupyter-widgets/base",
      "model_module_version": "1.2.0",
      "model_name": "LayoutModel",
      "state": {
       "width": "145px"
      }
     },
     "95d4d5529bae4544b19847b501dd647b": {
      "model_module": "@jupyter-widgets/base",
      "model_module_version": "1.2.0",
      "model_name": "LayoutModel",
      "state": {
       "grid_template_areas": "\n                                       \". . . . right \"\n                                        ",
       "grid_template_columns": "20% 20% 20% 20% 20%",
       "width": "100%"
      }
     },
     "9791f74b61464acfaaeba1c0c65e2daa": {
      "model_module": "@jupyter-widgets/controls",
      "model_module_version": "1.5.0",
      "model_name": "HTMLModel",
      "state": {
       "layout": "IPY_MODEL_f6076a4fc47946b99ca221d13aa6dfd4",
       "style": "IPY_MODEL_42af0d74c5af42c9b93f796163aa12f2",
       "value": "ibm_perth"
      }
     },
     "98aecb1e2c5c4ad3a9c7ca4b2b40b25f": {
      "model_module": "@jupyter-widgets/controls",
      "model_module_version": "1.5.0",
      "model_name": "HBoxModel",
      "state": {
       "children": [
        "IPY_MODEL_505c5d2a11404e51aacaa4b003ba7cef",
        "IPY_MODEL_528b478d4e2544f58b74d9dbcd2f1893",
        "IPY_MODEL_5868ee0d144c43eb8b12f3d184c53a68",
        "IPY_MODEL_233154e7253e440ab3c12e22dfe9eb03",
        "IPY_MODEL_b00766df532a40a091298235da02c8d8",
        "IPY_MODEL_f1b16dd217714df2977f63ebeba10079"
       ],
       "layout": "IPY_MODEL_1ea53e19a3344e4e9e73adf11608cac6"
      }
     },
     "9a6be34e933045e7ba8e8ff73de38097": {
      "model_module": "@jupyter-widgets/controls",
      "model_module_version": "1.5.0",
      "model_name": "HBoxModel",
      "state": {
       "children": [
        "IPY_MODEL_c28ae1bf297544619374428707d8f993",
        "IPY_MODEL_86335b09929547418c7a9ff977588704",
        "IPY_MODEL_e04a1b1b4ca74d3fb6e7df3664fad938",
        "IPY_MODEL_9c92fd58ad18452a8ddf8353ac8826e1",
        "IPY_MODEL_fa9f5c8cec7a4f1fb42df7ae10c32f15"
       ],
       "layout": "IPY_MODEL_ecb804354c7d4678b3f0ac5d64d6981d"
      }
     },
     "9c92fd58ad18452a8ddf8353ac8826e1": {
      "model_module": "@jupyter-widgets/controls",
      "model_module_version": "1.5.0",
      "model_name": "HTMLModel",
      "state": {
       "layout": "IPY_MODEL_7ad516a157ae4d40a8caaf683d5be15e",
       "style": "IPY_MODEL_d297ab42bcc34e83950b91e527442f99",
       "value": "<h5>Queue</h5>"
      }
     },
     "9d6be40acbb64477a6bcdc203b510947": {
      "model_module": "@jupyter-widgets/controls",
      "model_module_version": "1.5.0",
      "model_name": "DescriptionStyleModel",
      "state": {
       "description_width": ""
      }
     },
     "b00766df532a40a091298235da02c8d8": {
      "model_module": "@jupyter-widgets/controls",
      "model_module_version": "1.5.0",
      "model_name": "HTMLModel",
      "state": {
       "layout": "IPY_MODEL_cadd08f9c3354cc0811ba043ebe11aaf",
       "style": "IPY_MODEL_4c00c6aab1544f34accd49008dedc9b3",
       "value": "-"
      }
     },
     "c28ae1bf297544619374428707d8f993": {
      "model_module": "@jupyter-widgets/controls",
      "model_module_version": "1.5.0",
      "model_name": "HTMLModel",
      "state": {
       "layout": "IPY_MODEL_5960e0fe694f4a619b96e480acac7808",
       "style": "IPY_MODEL_5b5eb6c8b8d644568b598bb71ac81077",
       "value": "<h5>Job ID</h5>"
      }
     },
     "c6d85a3ce2b445999cc12960e2d9101f": {
      "model_module": "@jupyter-widgets/controls",
      "model_module_version": "1.5.0",
      "model_name": "DescriptionStyleModel",
      "state": {
       "description_width": ""
      }
     },
     "c76648fb525d4775ae97c8da308ee552": {
      "model_module": "@jupyter-widgets/base",
      "model_module_version": "1.2.0",
      "model_name": "LayoutModel",
      "state": {
       "width": "95px"
      }
     },
     "ca280f9c62c74a818bc5f5dd108a09be": {
      "model_module": "@jupyter-widgets/base",
      "model_module_version": "1.2.0",
      "model_name": "LayoutModel",
      "state": {
       "max_width": "700px",
       "min_width": "700px"
      }
     },
     "cadd08f9c3354cc0811ba043ebe11aaf": {
      "model_module": "@jupyter-widgets/base",
      "model_module_version": "1.2.0",
      "model_name": "LayoutModel",
      "state": {
       "width": "70px"
      }
     },
     "cb11ca97f2e04038b1f3d73e5b5e58dc": {
      "model_module": "@jupyter-widgets/base",
      "model_module_version": "1.2.0",
      "model_name": "LayoutModel",
      "state": {
       "overflow_x": "scroll"
      }
     },
     "cd545ec12bfb495999a55b5c7ce83a55": {
      "model_module": "@jupyter-widgets/base",
      "model_module_version": "1.2.0",
      "model_name": "LayoutModel",
      "state": {
       "width": "70px"
      }
     },
     "d268bcea751d48a18648f3324ec83b64": {
      "model_module": "@jupyter-widgets/base",
      "model_module_version": "1.2.0",
      "model_name": "LayoutModel",
      "state": {
       "overflow_x": "scroll"
      }
     },
     "d297ab42bcc34e83950b91e527442f99": {
      "model_module": "@jupyter-widgets/controls",
      "model_module_version": "1.5.0",
      "model_name": "DescriptionStyleModel",
      "state": {
       "description_width": ""
      }
     },
     "dfe135aaf7bf4b4f8707617e4543cb90": {
      "model_module": "@jupyter-widgets/base",
      "model_module_version": "1.2.0",
      "model_name": "LayoutModel",
      "state": {
       "width": "95px"
      }
     },
     "e04a1b1b4ca74d3fb6e7df3664fad938": {
      "model_module": "@jupyter-widgets/controls",
      "model_module_version": "1.5.0",
      "model_name": "HTMLModel",
      "state": {
       "layout": "IPY_MODEL_dfe135aaf7bf4b4f8707617e4543cb90",
       "style": "IPY_MODEL_80c36dfd77d0400d893b167cff290306",
       "value": "<h5>Status</h5>"
      }
     },
     "e137820d29c84164b9e5ed7311e8eb93": {
      "model_module": "@jupyter-widgets/controls",
      "model_module_version": "1.5.0",
      "model_name": "GridBoxModel",
      "state": {
       "children": [
        "IPY_MODEL_fb57ccbb037d4fedae04052d6bd5e55f"
       ],
       "layout": "IPY_MODEL_95d4d5529bae4544b19847b501dd647b"
      }
     },
     "ecb804354c7d4678b3f0ac5d64d6981d": {
      "model_module": "@jupyter-widgets/base",
      "model_module_version": "1.2.0",
      "model_name": "LayoutModel",
      "state": {
       "margin": "0px 0px 0px 37px",
       "width": "600px"
      }
     },
     "f04c25e10a9242e08966d9807be0a58d": {
      "model_module": "@jupyter-widgets/controls",
      "model_module_version": "1.5.0",
      "model_name": "HBoxModel",
      "state": {
       "children": [
        "IPY_MODEL_7e2b4c3e09ca4ebdaec4a475ef568a56",
        "IPY_MODEL_69aae5f6c9b840b3a3cd18603ad72936",
        "IPY_MODEL_9791f74b61464acfaaeba1c0c65e2daa",
        "IPY_MODEL_2f3de62ce78e4cf484c71f10854d0251",
        "IPY_MODEL_1208ff777ea64235bcdf315248fe5dba",
        "IPY_MODEL_2c7c61310ec14a35979240d2d906c6f2"
       ],
       "layout": "IPY_MODEL_ca280f9c62c74a818bc5f5dd108a09be"
      }
     },
     "f11a720c0eff46c7a07bc17050f65652": {
      "model_module": "@jupyter-widgets/controls",
      "model_module_version": "1.5.0",
      "model_name": "ButtonStyleModel",
      "state": {
       "button_color": "white"
      }
     },
     "f1b16dd217714df2977f63ebeba10079": {
      "model_module": "@jupyter-widgets/controls",
      "model_module_version": "1.5.0",
      "model_name": "HTMLModel",
      "state": {
       "layout": "IPY_MODEL_cb11ca97f2e04038b1f3d73e5b5e58dc",
       "style": "IPY_MODEL_22d2d26c96b344da867d0a5ad10ed9f5",
       "value": "job has successfully run"
      }
     },
     "f24def88be924693b761cfb94c66876f": {
      "model_module": "@jupyter-widgets/controls",
      "model_module_version": "1.5.0",
      "model_name": "DescriptionStyleModel",
      "state": {
       "description_width": ""
      }
     },
     "f6076a4fc47946b99ca221d13aa6dfd4": {
      "model_module": "@jupyter-widgets/base",
      "model_module_version": "1.2.0",
      "model_name": "LayoutModel",
      "state": {
       "width": "145px"
      }
     },
     "fa9f5c8cec7a4f1fb42df7ae10c32f15": {
      "model_module": "@jupyter-widgets/controls",
      "model_module_version": "1.5.0",
      "model_name": "HTMLModel",
      "state": {
       "layout": "IPY_MODEL_feb9f992d0204f0aabca29916a742e9f",
       "style": "IPY_MODEL_1c83febf528e4e958f13da14fc0e86f8",
       "value": "<h5>Message</h5>"
      }
     },
     "fb57ccbb037d4fedae04052d6bd5e55f": {
      "model_module": "@jupyter-widgets/controls",
      "model_module_version": "1.5.0",
      "model_name": "ButtonModel",
      "state": {
       "button_style": "primary",
       "description": "Clear",
       "layout": "IPY_MODEL_069f3d252abc44e88621418b4b62a2ed",
       "style": "IPY_MODEL_0b8832334f0f4019b6cc00afa2383d37"
      }
     },
     "fbfc0b918c7e41bd86950b031d52996e": {
      "model_module": "@jupyter-widgets/controls",
      "model_module_version": "1.5.0",
      "model_name": "HTMLModel",
      "state": {
       "layout": "IPY_MODEL_40695ada6f1d4258bcf6845e95e7e7f4",
       "style": "IPY_MODEL_8762839fdc394a7fadfb2e02f048b666",
       "value": "<p style='font-family: IBM Plex Sans, Arial, Helvetica, sans-serif; font-size: 20px; font-weight: medium;'>Circuit Properties</p>"
      }
     },
     "feb9f992d0204f0aabca29916a742e9f": {
      "model_module": "@jupyter-widgets/base",
      "model_module_version": "1.2.0",
      "model_name": "LayoutModel",
      "state": {}
     }
    },
    "version_major": 2,
    "version_minor": 0
   }
  }
 },
 "nbformat": 4,
 "nbformat_minor": 5
}
