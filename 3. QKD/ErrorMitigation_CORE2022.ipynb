{
 "cells": [
  {
   "cell_type": "code",
   "execution_count": 1,
   "id": "fe7c0a38",
   "metadata": {},
   "outputs": [],
   "source": [
    "#****************************************************************************************************#\n",
    "# Mitigación de Errores en la Medida debido al ruido en Circuitos Cuánticos\n",
    "#****************************************************************************************************#\n",
    "\n",
    "#****************************************************************************************************#\n",
    "# Para esta implementación se ha tenido en cuenta la descripción del circuito dada en el siguiente \n",
    "# tutorial del libro de Qiskit:\n",
    "# https://github.com/qiskit-community/qiskit-community-tutorials/blob/master/Coding_With_Qiskit/ep8_Noise_and_Error_Mitigation.ipynb\n",
    "#****************************************************************************************************#\n",
    "\n",
    "#****************************************************************************************************#\n",
    "# Taller de Computación Cuántica\n",
    "# Prof. Gustavo Patino (adolfo.patino@udea.edu.co)\n",
    "# CORE 2022\n",
    "# CIC - IPN \n",
    "# Ciudad de México - México\n",
    "# Septiembre del 2022\n",
    "#****************************************************************************************************#"
   ]
  },
  {
   "cell_type": "code",
   "execution_count": 2,
   "id": "44cb43e8",
   "metadata": {},
   "outputs": [],
   "source": [
    "import numpy as np\n",
    "\n",
    "# Importing standard Qiskit libraries\n",
    "from qiskit import QuantumCircuit, transpile, Aer, IBMQ, execute\n",
    "from qiskit.tools.jupyter import *\n",
    "from qiskit.visualization import *\n",
    "from ibm_quantum_widgets import *\n",
    "from qiskit.providers.aer import QasmSimulator"
   ]
  },
  {
   "cell_type": "code",
   "execution_count": 3,
   "id": "0ee9dfab-b4c2-4e57-b980-fcf0a7fdf02b",
   "metadata": {},
   "outputs": [],
   "source": [
    "from qiskit.providers.ibmq import least_busy\n",
    "from qiskit.tools.monitor import job_monitor\n",
    "from qiskit.visualization import plot_histogram"
   ]
  },
  {
   "cell_type": "code",
   "execution_count": 8,
   "id": "27716fcc-5b17-4463-b196-b7a8f1cd4ed8",
   "metadata": {},
   "outputs": [],
   "source": [
    "# First, see what devices we are allowed to use by loading our saved accounts\n",
    "IBMQ.load_account()\n",
    "provider = IBMQ.get_provider(hub='ibm-q-education', group='uni-antioquia-1', project='qc2021')\n",
    "Remote_QProcessor = provider.get_backend('ibm_nairobi') # Maquina reservada temporalmente"
   ]
  },
  {
   "cell_type": "code",
   "execution_count": 9,
   "id": "f1cabbea-4d19-4c48-a251-96fb7750dc55",
   "metadata": {},
   "outputs": [],
   "source": [
    "#Remote_QProcessor = least_busy(provider.backends(filters=lambda qprocessor: qprocessor.configuration().n_qubits >= 2 \n",
    "#                                       and not qprocessor.configuration().simulator \n",
    "#                                       and qprocessor.status().operational==True))\n",
    "#print(\"El computador cuántico menos ocupado es el \" + Remote_QProcessor.name())"
   ]
  },
  {
   "cell_type": "code",
   "execution_count": 10,
   "id": "1d6213d1",
   "metadata": {},
   "outputs": [
    {
     "name": "stdout",
     "output_type": "stream",
     "text": [
      "La cantidad de ejecuciones (jobs) pendientes en este procesador real es:  516\n"
     ]
    }
   ],
   "source": [
    "pending=Remote_QProcessor.status().pending_jobs\n",
    "print(\"La cantidad de ejecuciones (jobs) pendientes en este procesador real es: \", pending)"
   ]
  },
  {
   "cell_type": "code",
   "execution_count": null,
   "id": "dde49698-8ede-4a75-9c4e-71c49abd2fff",
   "metadata": {},
   "outputs": [],
   "source": [
    "# Descomente la siguiente linea si desea ver las imágenes más grandes.\n",
    "%config InlineBackend.figure_format = 'svg' # Makes the images look nice"
   ]
  },
  {
   "cell_type": "code",
   "execution_count": null,
   "id": "ddcd0892",
   "metadata": {},
   "outputs": [],
   "source": [
    "nqubits = 3\n",
    "circuit = QuantumCircuit(nqubits, nqubits)"
   ]
  },
  {
   "cell_type": "code",
   "execution_count": null,
   "id": "af82fdec",
   "metadata": {},
   "outputs": [],
   "source": [
    "circuit.h(0)\n",
    "circuit.cx(0,1)\n",
    "circuit.cx(1,2)\n",
    "circuit.barrier()"
   ]
  },
  {
   "cell_type": "code",
   "execution_count": null,
   "id": "f3a8cb85-3f91-4dba-ac85-ccf134ae6632",
   "metadata": {},
   "outputs": [],
   "source": [
    "circuit.measure([0,1,2], [0,1,2])\n",
    "circuit.draw(output='mpl')"
   ]
  },
  {
   "cell_type": "code",
   "execution_count": null,
   "id": "15b2b716-b2f2-4c54-b9c0-fd2a90bf03e9",
   "metadata": {},
   "outputs": [],
   "source": [
    "simulator = Aer.get_backend('qasm_simulator')\n",
    "sim_result = execute(circuit, backend=simulator, shots=1024).result()"
   ]
  },
  {
   "cell_type": "code",
   "execution_count": null,
   "id": "8af3f694-bc26-47e0-a9a3-86d3ad983c27",
   "metadata": {},
   "outputs": [],
   "source": [
    "plot_histogram(sim_result.get_counts(circuit))"
   ]
  },
  {
   "cell_type": "code",
   "execution_count": null,
   "id": "8e3f7f61",
   "metadata": {},
   "outputs": [],
   "source": [
    "job = execute(circuit, backend=Remote_QProcessor, shots=1024)\n",
    "print('El id de esta ejecución (job) es: ', job.job_id()) # Este Id puede ser retomado para recuperar luego el job ejecutado."
   ]
  },
  {
   "cell_type": "code",
   "execution_count": null,
   "id": "9df23c9f-70ec-4068-8186-736f7a6cb6e8",
   "metadata": {},
   "outputs": [],
   "source": [
    "job_monitor(job)"
   ]
  },
  {
   "cell_type": "code",
   "execution_count": null,
   "id": "59be15d0-3954-4147-a825-e9192df8b4ba",
   "metadata": {},
   "outputs": [],
   "source": [
    "device_result = job.result()\n",
    "plot_histogram(device_result.get_counts(circuit))"
   ]
  },
  {
   "cell_type": "code",
   "execution_count": null,
   "id": "1fc6036e-a040-4825-8944-9f2d6ad94bac",
   "metadata": {},
   "outputs": [],
   "source": [
    "# Definition of Calibration Circuits to mitigate the measurement error."
   ]
  },
  {
   "cell_type": "code",
   "execution_count": null,
   "id": "73fa775e-92b0-432e-a3dd-3b0c7662e296",
   "metadata": {},
   "outputs": [],
   "source": [
    "from qiskit.utils.mitigation import (complete_meas_cal, tensored_meas_cal,\n",
    "                                        CompleteMeasFitter, TensoredMeasFitter)"
   ]
  },
  {
   "cell_type": "code",
   "execution_count": null,
   "id": "6d4366ee-e74b-467f-a271-c18ec09f79bd",
   "metadata": {},
   "outputs": [],
   "source": [
    "calibration_circuits, quantum_states = complete_meas_cal(qr=circuit.qregs[0], \n",
    "                                               circlabel='measurement_calibration')"
   ]
  },
  {
   "cell_type": "code",
   "execution_count": null,
   "id": "9f555bc9-0a9a-4b1c-9313-02d7b857bb75",
   "metadata": {},
   "outputs": [],
   "source": [
    "quantum_states"
   ]
  },
  {
   "cell_type": "code",
   "execution_count": null,
   "id": "43611b0b-25c3-46a8-9a03-6fb437f6544e",
   "metadata": {},
   "outputs": [],
   "source": [
    "calibration_circuits[7].draw(output='mpl')"
   ]
  },
  {
   "cell_type": "code",
   "execution_count": null,
   "id": "4fa20442-82b5-408b-90f2-0036d6b96b83",
   "metadata": {},
   "outputs": [],
   "source": [
    "len(calibration_circuits)"
   ]
  },
  {
   "cell_type": "code",
   "execution_count": null,
   "id": "a73e2db5",
   "metadata": {},
   "outputs": [],
   "source": [
    "cal_job = execute(calibration_circuits,\n",
    "             backend=Remote_QProcessor,\n",
    "             shots=8192,\n",
    "             optimization_level=0)\n",
    "\n",
    "print('El id de esta nueva ejecución (cal_job) es: ', cal_job.job_id()) # Este Id puede ser retomado para recuperar luego el job ejecutado."
   ]
  },
  {
   "cell_type": "code",
   "execution_count": null,
   "id": "aa0cb7c0",
   "metadata": {},
   "outputs": [],
   "source": [
    "job_monitor(cal_job)"
   ]
  },
  {
   "cell_type": "code",
   "execution_count": null,
   "id": "c359f347-9ff5-4be1-ac77-7a8e0d3ffcd7",
   "metadata": {},
   "outputs": [],
   "source": [
    "calibration_results = cal_job.result()"
   ]
  },
  {
   "cell_type": "code",
   "execution_count": null,
   "id": "7db93ec4-2fe2-4847-88f5-f41a30041d7f",
   "metadata": {},
   "outputs": [],
   "source": [
    "plot_histogram(calibration_results.get_counts(calibration_circuits[3]))"
   ]
  },
  {
   "cell_type": "code",
   "execution_count": null,
   "id": "a69ba04b-d539-4014-9b35-ab3052139afb",
   "metadata": {},
   "outputs": [],
   "source": [
    "My_fitter = CompleteMeasFitter(calibration_results, quantum_states)"
   ]
  },
  {
   "cell_type": "code",
   "execution_count": null,
   "id": "4e2716b7-af0e-4dfb-a9fc-4afac0360850",
   "metadata": {},
   "outputs": [],
   "source": [
    "from qiskit.visualization import array_to_latex\n",
    "\n",
    "print('La matriz de calibración para mitigar el error en la medida es:')\n",
    "array_to_latex(My_fitter.cal_matrix)"
   ]
  },
  {
   "cell_type": "code",
   "execution_count": null,
   "id": "0bcf79d6-68ae-4767-905d-785baeeec7a7",
   "metadata": {},
   "outputs": [],
   "source": [
    "Measurement_Filter = My_fitter.filter"
   ]
  },
  {
   "cell_type": "markdown",
   "id": "2097ba94-e458-46d7-81a4-d2119b443e49",
   "metadata": {},
   "source": [
    "# Mitigating the measurement errors in our previous device run"
   ]
  },
  {
   "cell_type": "code",
   "execution_count": null,
   "id": "602969e4-4897-4dad-877a-ee8def8f2f88",
   "metadata": {},
   "outputs": [],
   "source": [
    "mitigated_result = Measurement_Filter.apply(device_result)"
   ]
  },
  {
   "cell_type": "code",
   "execution_count": null,
   "id": "080c05db-5445-4b43-ad72-ff824c5e6b60",
   "metadata": {},
   "outputs": [],
   "source": [
    "device_counts = device_result.get_counts(circuit)\n",
    "mitigated_counts = mitigated_result.get_counts(circuit)\n",
    "plot_histogram([device_counts, mitigated_counts], \n",
    "               legend=['device, noisy', 'device, mitigated'])"
   ]
  },
  {
   "cell_type": "markdown",
   "id": "15bed040-5738-40f9-b4cf-e3275f85a900",
   "metadata": {},
   "source": [
    "# Running error mitigation on a second circuit"
   ]
  },
  {
   "cell_type": "code",
   "execution_count": null,
   "id": "987e50f1-244e-4cee-a66f-d98afe0805c1",
   "metadata": {},
   "outputs": [],
   "source": [
    "circuit2 = QuantumCircuit(3,3)\n",
    "circuit2.x(1)\n",
    "circuit2.h(0)\n",
    "circuit2.cx(0,1)\n",
    "circuit2.cx(1,2)\n",
    "circuit2.measure([0,1,2], [0,1,2])\n",
    "circuit2.draw(output='mpl')"
   ]
  },
  {
   "cell_type": "code",
   "execution_count": null,
   "id": "a5e6eff0-e675-4eff-8112-6955226f8fcf",
   "metadata": {},
   "outputs": [],
   "source": [
    "# Simulating the circuit and plotting the corresponding histogram:\n",
    "Simulation_counts_2 = execute(circuit2, backend=simulator, shots=1024).result().get_counts(circuit2)\n",
    "plot_histogram(Simulation_counts_2)"
   ]
  },
  {
   "cell_type": "code",
   "execution_count": null,
   "id": "d3d70df7-c628-4b07-bda1-e9e48a9c519d",
   "metadata": {},
   "outputs": [],
   "source": [
    "# Executing the circuit and plotting the corresponding histogram:\n",
    "job2 = execute(circuit2, backend=Remote_QProcessor, shots=1024)\n",
    "job_monitor(job2)"
   ]
  },
  {
   "cell_type": "code",
   "execution_count": null,
   "id": "d01d0ef8-cee4-4fb9-a78e-d4f9b1df0ee8",
   "metadata": {},
   "outputs": [],
   "source": [
    "device_counts_2=job2.result().get_counts(circuit2)\n",
    "plot_histogram(device_counts_2)"
   ]
  },
  {
   "cell_type": "code",
   "execution_count": null,
   "id": "55db6bc7-1f8c-4da5-89cc-6911946ba149",
   "metadata": {},
   "outputs": [],
   "source": [
    "mitigated_counts_2 = Measurement_Filter.apply(device_counts_2)"
   ]
  },
  {
   "cell_type": "code",
   "execution_count": null,
   "id": "038413c6-af6b-49b1-b4a8-5169d528109b",
   "metadata": {},
   "outputs": [],
   "source": [
    "plot_histogram([device_counts_2, mitigated_counts_2], legend=['device, noisy','device, mitigated'])"
   ]
  },
  {
   "cell_type": "code",
   "execution_count": null,
   "id": "1d5762da-1b30-4321-8c10-50120fe0d5b4",
   "metadata": {},
   "outputs": [],
   "source": [
    "import qiskit.tools.jupyter\n",
    "%qiskit_version_table\n",
    "%qiskit_copyright"
   ]
  }
 ],
 "metadata": {
  "kernelspec": {
   "display_name": "Python 3 (ipykernel)",
   "language": "python",
   "name": "python3"
  },
  "language_info": {
   "codemirror_mode": {
    "name": "ipython",
    "version": 3
   },
   "file_extension": ".py",
   "mimetype": "text/x-python",
   "name": "python",
   "nbconvert_exporter": "python",
   "pygments_lexer": "ipython3",
   "version": "3.8.13"
  },
  "widgets": {
   "application/vnd.jupyter.widget-state+json": {
    "state": {},
    "version_major": 2,
    "version_minor": 0
   }
  }
 },
 "nbformat": 4,
 "nbformat_minor": 5
}
