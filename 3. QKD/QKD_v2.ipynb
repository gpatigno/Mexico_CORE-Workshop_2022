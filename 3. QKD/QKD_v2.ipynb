{
 "cells": [
  {
   "cell_type": "code",
   "execution_count": 1,
   "metadata": {},
   "outputs": [],
   "source": [
    "#*************************************************************************************************************#\n",
    "# Implementación de circuito Cuántico de Distribución de Clave Cuántica (QKD) en la plataforma Qiskit de IBM\n",
    "#*************************************************************************************************************#\n",
    "\n",
    "#*************************************************************************************************************#\n",
    "# Para esta implementación se ha tenido en cuenta la descripción del circuito dada en el siguiente \n",
    "# tutorial del libro de Qiskit:\n",
    "# https://qiskit.org/textbook/ch-algorithms/quantum-key-distribution.html\n",
    "#*************************************************************************************************************#\n",
    "\n",
    "#*************************************************************************************************************#\n",
    "# Taller de Computación Cuántica\n",
    "# Prof. Gustavo Patino (adolfo.patino@udea.edu.co)\n",
    "# CORE 2022\n",
    "# CIC - IPN \n",
    "# Ciudad de México - México\n",
    "# Septiembre del 2022\n",
    "#*************************************************************************************************************#"
   ]
  },
  {
   "cell_type": "code",
   "execution_count": 2,
   "metadata": {
    "scrolled": true,
    "tags": [
     "thebelab-init"
    ]
   },
   "outputs": [
    {
     "name": "stdout",
     "output_type": "stream",
     "text": [
      "Imports Successful\n"
     ]
    }
   ],
   "source": [
    "from qiskit import QuantumCircuit, Aer, transpile, assemble\n",
    "from qiskit.visualization import plot_histogram, plot_bloch_multivector\n",
    "from numpy.random import randint\n",
    "import numpy as np\n",
    "print(\"Imports Successful\")"
   ]
  },
  {
   "cell_type": "code",
   "execution_count": 3,
   "metadata": {},
   "outputs": [],
   "source": [
    "# Descomente la siguiente linea si desea ver las imágenes más grandes.\n",
    "%config InlineBackend.figure_format = 'svg' # Makes the images look nice"
   ]
  },
  {
   "cell_type": "markdown",
   "metadata": {},
   "source": [
    "If Alice prepares a qubit in the state $|+\\rangle$ (`0` in the $X$-basis), and Bob measures it in the $X$-basis, Bob is sure to measure `0`:"
   ]
  },
  {
   "cell_type": "markdown",
   "metadata": {},
   "source": [
    "## 3. Qiskit Example: Without Interception\n",
    "\n",
    "Let’s first see how the protocol works when no one is listening in, then we can see how Alice and Bob are able to detect an eavesdropper. As always, let's start by importing everything we need:"
   ]
  },
  {
   "cell_type": "markdown",
   "metadata": {},
   "source": [
    "To generate pseudo-random keys, we will use the `randint` function from numpy."
   ]
  },
  {
   "cell_type": "code",
   "execution_count": 4,
   "metadata": {},
   "outputs": [],
   "source": [
    "np.random.seed()"
   ]
  },
  {
   "cell_type": "markdown",
   "metadata": {},
   "source": [
    "We will call the length of Alice's initial message `n`. In this example, Alice will send a message 100 qubits long:"
   ]
  },
  {
   "cell_type": "code",
   "execution_count": 5,
   "metadata": {},
   "outputs": [],
   "source": [
    "n = 100"
   ]
  },
  {
   "cell_type": "markdown",
   "metadata": {},
   "source": [
    "### 3.1 Step 1:\n",
    "\n",
    "Alice generates her random set of bits:"
   ]
  },
  {
   "cell_type": "code",
   "execution_count": 6,
   "metadata": {
    "scrolled": true
   },
   "outputs": [
    {
     "name": "stdout",
     "output_type": "stream",
     "text": [
      "[0 1 1 0 0 0 0 1 0 1 0 1 1 0 1 1 1 0 1 1 0 0 0 1 1 1 0 0 1 0 1 1 0 0 1 0 0\n",
      " 1 0 1 1 0 0 0 0 1 0 0 1 1 1 1 0 0 0 1 0 1 1 1 1 1 0 1 0 1 1 0 0 0 0 1 0 1\n",
      " 1 1 0 0 0 1 1 0 0 0 1 1 1 1 1 0 0 1 1 1 0 0 1 1 1 1]\n"
     ]
    }
   ],
   "source": [
    "## Step 1\n",
    "# Alice generates bits\n",
    "alice_bits = randint(2, size=n)\n",
    "print(alice_bits)"
   ]
  },
  {
   "cell_type": "markdown",
   "metadata": {},
   "source": [
    "At the moment, the set of bits '`alice_bits`' is only known to Alice. We will keep track of what information is only known to Alice, what information is only known to Bob, and what has been sent over Eve's channel in a table like this:\n",
    "\n",
    "| Alice's Knowledge |Over Eve's Channel| Bob's Knowledge |\n",
    "|:-----------------:|:----------------:|:---------------:|\n",
    "|     alice_bits    |                  |       &nbsp;    |\n",
    "\n",
    "### 3.2 Step 2:\n",
    "\n",
    "Alice chooses to encode each bit on qubit in the $X$ or $Z$-basis at random, and stores the choice for each qubit in `alice_bases`. In this case, a `0` means \"prepare in the $Z$-basis\", and a `1` means \"prepare in the $X$-basis\":"
   ]
  },
  {
   "cell_type": "code",
   "execution_count": 7,
   "metadata": {
    "tags": []
   },
   "outputs": [
    {
     "name": "stdout",
     "output_type": "stream",
     "text": [
      "[0 1 0 1 1 1 1 0 1 0 0 1 0 1 0 0 1 1 1 1 0 1 0 1 1 0 1 0 0 0 0 0 1 1 1 1 1\n",
      " 0 0 1 1 1 1 1 0 0 1 1 0 1 0 0 1 1 1 1 0 0 0 1 0 0 1 1 1 1 0 0 0 1 1 0 1 0\n",
      " 0 0 1 1 0 0 0 0 1 0 1 1 0 1 0 1 1 0 1 0 1 1 0 1 1 1]\n"
     ]
    }
   ],
   "source": [
    "## Step 2\n",
    "# Create an array to tell us which qubits\n",
    "# are encoded in which bases\n",
    "alice_bases = randint(2, size=n)\n",
    "print(alice_bases)"
   ]
  },
  {
   "cell_type": "code",
   "execution_count": 8,
   "metadata": {
    "tags": [
     "thebelab-init"
    ]
   },
   "outputs": [],
   "source": [
    "def encode_message(bits, bases):\n",
    "    message = []\n",
    "    for i in range(n):\n",
    "        qc = QuantumCircuit(1,1)\n",
    "        if bases[i] == 0: \n",
    "            if bits[i] == 0:\n",
    "                pass \n",
    "            else:\n",
    "                qc.x(0)\n",
    "        else: \n",
    "            if bits[i] == 0:\n",
    "                qc.h(0)\n",
    "            else:\n",
    "                qc.x(0)\n",
    "                qc.h(0)\n",
    "        qc.barrier()\n",
    "        message.append(qc)\n",
    "    return message"
   ]
  },
  {
   "cell_type": "markdown",
   "metadata": {},
   "source": [
    "Alice also keeps this knowledge private:\n",
    "\n",
    "| Alice's Knowledge |Over Eve's Channel| Bob's Knowledge |\n",
    "|:-----------------:|:----------------:|:---------------:|\n",
    "|     alice_bits    |                  |                 |\n",
    "|    alice_bases    |                  |     &nbsp;      |\n",
    "\n",
    "The function `encode_message` below, creates a list of `QuantumCircuit`s, each representing a single qubit in Alice's message:"
   ]
  },
  {
   "cell_type": "code",
   "execution_count": 9,
   "metadata": {},
   "outputs": [],
   "source": [
    "message = encode_message(alice_bits, alice_bases)"
   ]
  },
  {
   "cell_type": "code",
   "execution_count": 10,
   "metadata": {},
   "outputs": [
    {
     "name": "stdout",
     "output_type": "stream",
     "text": [
      "bit = 0\n",
      "basis = 0\n"
     ]
    }
   ],
   "source": [
    "print('bit = %i' % alice_bits[0])\n",
    "print('basis = %i' % alice_bases[0])"
   ]
  },
  {
   "cell_type": "code",
   "execution_count": 11,
   "metadata": {},
   "outputs": [
    {
     "data": {
      "image/svg+xml": [
       "<?xml version=\"1.0\" encoding=\"utf-8\" standalone=\"no\"?>\n",
       "<!DOCTYPE svg PUBLIC \"-//W3C//DTD SVG 1.1//EN\"\n",
       "  \"http://www.w3.org/Graphics/SVG/1.1/DTD/svg11.dtd\">\n",
       "<svg xmlns:xlink=\"http://www.w3.org/1999/xlink\" width=\"115.212135pt\" height=\"123.482399pt\" viewBox=\"0 0 115.212135 123.482399\" xmlns=\"http://www.w3.org/2000/svg\" version=\"1.1\">\n",
       " <metadata>\n",
       "  <rdf:RDF xmlns:dc=\"http://purl.org/dc/elements/1.1/\" xmlns:cc=\"http://creativecommons.org/ns#\" xmlns:rdf=\"http://www.w3.org/1999/02/22-rdf-syntax-ns#\">\n",
       "   <cc:Work>\n",
       "    <dc:type rdf:resource=\"http://purl.org/dc/dcmitype/StillImage\"/>\n",
       "    <dc:date>2022-11-18T02:34:48.406683</dc:date>\n",
       "    <dc:format>image/svg+xml</dc:format>\n",
       "    <dc:creator>\n",
       "     <cc:Agent>\n",
       "      <dc:title>Matplotlib v3.5.1, https://matplotlib.org/</dc:title>\n",
       "     </cc:Agent>\n",
       "    </dc:creator>\n",
       "   </cc:Work>\n",
       "  </rdf:RDF>\n",
       " </metadata>\n",
       " <defs>\n",
       "  <style type=\"text/css\">*{stroke-linejoin: round; stroke-linecap: butt}</style>\n",
       " </defs>\n",
       " <g id=\"figure_1\">\n",
       "  <g id=\"patch_1\">\n",
       "   <path d=\"M 0 123.482399 \n",
       "L 115.212135 123.482399 \n",
       "L 115.212135 0 \n",
       "L 0 0 \n",
       "z\n",
       "\" style=\"fill: #ffffff\"/>\n",
       "  </g>\n",
       "  <g id=\"axes_1\">\n",
       "   <g id=\"line2d_1\">\n",
       "    <path d=\"M 53.470935 43.5608 \n",
       "L 103.467035 43.5608 \n",
       "\" clip-path=\"url(#p45cf31b171)\" style=\"fill: none; stroke: #000000; stroke-width: 2; stroke-linecap: square\"/>\n",
       "   </g>\n",
       "   <g id=\"line2d_2\">\n",
       "    <path d=\"M 53.470935 87.534641 \n",
       "L 103.467035 87.534641 \n",
       "\" clip-path=\"url(#p45cf31b171)\" style=\"fill: none; stroke: #778899; stroke-width: 2; stroke-linecap: square\"/>\n",
       "   </g>\n",
       "   <g id=\"line2d_3\">\n",
       "    <path d=\"M 53.470935 90.488956 \n",
       "L 103.467035 90.488956 \n",
       "\" clip-path=\"url(#p45cf31b171)\" style=\"fill: none; stroke: #778899; stroke-width: 2; stroke-linecap: square\"/>\n",
       "   </g>\n",
       "   <g id=\"line2d_4\">\n",
       "    <path d=\"M 62.561135 93.556899 \n",
       "L 67.106235 84.466699 \n",
       "\" clip-path=\"url(#p45cf31b171)\" style=\"fill: none; stroke: #778899; stroke-width: 1.5; stroke-linecap: square\"/>\n",
       "   </g>\n",
       "   <g id=\"patch_2\">\n",
       "    <path d=\"M 69.15153 66.286299 \n",
       "L 86.87742 66.286299 \n",
       "L 86.87742 20.8353 \n",
       "L 69.15153 20.8353 \n",
       "z\n",
       "\" clip-path=\"url(#p45cf31b171)\" style=\"fill: #bdbdbd; opacity: 0.6\"/>\n",
       "   </g>\n",
       "   <g id=\"text_1\">\n",
       "    <g clip-path=\"url(#p45cf31b171)\">\n",
       "     <!-- ${q}$ -->\n",
       "     <g transform=\"translate(33.980736 48.011776)scale(0.1625 -0.1625)\">\n",
       "      <defs>\n",
       "       <path id=\"DejaVuSans-Oblique-71\" d=\"M 2669 525 \n",
       "Q 2438 222 2123 65 \n",
       "Q 1809 -91 1428 -91 \n",
       "Q 897 -91 595 267 \n",
       "Q 294 625 294 1253 \n",
       "Q 294 1759 480 2231 \n",
       "Q 666 2703 1013 3078 \n",
       "Q 1238 3322 1530 3453 \n",
       "Q 1822 3584 2144 3584 \n",
       "Q 2531 3584 2781 3431 \n",
       "Q 3031 3278 3144 2969 \n",
       "L 3244 3494 \n",
       "L 3822 3494 \n",
       "L 2888 -1319 \n",
       "L 2309 -1319 \n",
       "L 2669 525 \n",
       "z\n",
       "M 891 1338 \n",
       "Q 891 875 1084 633 \n",
       "Q 1278 391 1644 391 \n",
       "Q 2188 391 2572 911 \n",
       "Q 2956 1431 2956 2175 \n",
       "Q 2956 2625 2757 2864 \n",
       "Q 2559 3103 2188 3103 \n",
       "Q 1916 3103 1684 2976 \n",
       "Q 1453 2850 1281 2606 \n",
       "Q 1100 2350 995 2006 \n",
       "Q 891 1663 891 1338 \n",
       "z\n",
       "\" transform=\"scale(0.015625)\"/>\n",
       "      </defs>\n",
       "      <use xlink:href=\"#DejaVuSans-Oblique-71\"/>\n",
       "     </g>\n",
       "    </g>\n",
       "   </g>\n",
       "   <g id=\"text_2\">\n",
       "    <g clip-path=\"url(#p45cf31b171)\">\n",
       "     <!-- 1 -->\n",
       "     <g transform=\"translate(58.016035 82.303824)scale(0.104 -0.104)\">\n",
       "      <defs>\n",
       "       <path id=\"DejaVuSans-31\" d=\"M 794 531 \n",
       "L 1825 531 \n",
       "L 1825 4091 \n",
       "L 703 3866 \n",
       "L 703 4441 \n",
       "L 1819 4666 \n",
       "L 2450 4666 \n",
       "L 2450 531 \n",
       "L 3481 531 \n",
       "L 3481 0 \n",
       "L 794 0 \n",
       "L 794 531 \n",
       "z\n",
       "\" transform=\"scale(0.015625)\"/>\n",
       "      </defs>\n",
       "      <use xlink:href=\"#DejaVuSans-31\"/>\n",
       "     </g>\n",
       "    </g>\n",
       "   </g>\n",
       "   <g id=\"text_3\">\n",
       "    <g clip-path=\"url(#p45cf31b171)\">\n",
       "     <!-- c -->\n",
       "     <g transform=\"translate(35.445775 93.495783)scale(0.1625 -0.1625)\">\n",
       "      <defs>\n",
       "       <path id=\"DejaVuSans-63\" d=\"M 3122 3366 \n",
       "L 3122 2828 \n",
       "Q 2878 2963 2633 3030 \n",
       "Q 2388 3097 2138 3097 \n",
       "Q 1578 3097 1268 2742 \n",
       "Q 959 2388 959 1747 \n",
       "Q 959 1106 1268 751 \n",
       "Q 1578 397 2138 397 \n",
       "Q 2388 397 2633 464 \n",
       "Q 2878 531 3122 666 \n",
       "L 3122 134 \n",
       "Q 2881 22 2623 -34 \n",
       "Q 2366 -91 2075 -91 \n",
       "Q 1284 -91 818 406 \n",
       "Q 353 903 353 1747 \n",
       "Q 353 2603 823 3093 \n",
       "Q 1294 3584 2113 3584 \n",
       "Q 2378 3584 2631 3529 \n",
       "Q 2884 3475 3122 3366 \n",
       "z\n",
       "\" transform=\"scale(0.015625)\"/>\n",
       "      </defs>\n",
       "      <use xlink:href=\"#DejaVuSans-63\"/>\n",
       "     </g>\n",
       "    </g>\n",
       "   </g>\n",
       "   <g id=\"line2d_5\">\n",
       "    <path d=\"M 78.014475 20.8353 \n",
       "L 78.014475 66.286299 \n",
       "\" clip-path=\"url(#p45cf31b171)\" style=\"fill: none; stroke-dasharray: 3.7,1.6; stroke-dashoffset: 0; stroke: #000000\"/>\n",
       "   </g>\n",
       "  </g>\n",
       " </g>\n",
       " <defs>\n",
       "  <clipPath id=\"p45cf31b171\">\n",
       "   <rect x=\"7.2\" y=\"7.2\" width=\"100.812135\" height=\"109.082399\"/>\n",
       "  </clipPath>\n",
       " </defs>\n",
       "</svg>\n"
      ],
      "text/plain": [
       "<Figure size 133.526x144.48 with 1 Axes>"
      ]
     },
     "execution_count": 11,
     "metadata": {},
     "output_type": "execute_result"
    }
   ],
   "source": [
    "message[0].draw('mpl')"
   ]
  },
  {
   "cell_type": "code",
   "execution_count": 12,
   "metadata": {
    "scrolled": true
   },
   "outputs": [
    {
     "name": "stdout",
     "output_type": "stream",
     "text": [
      "bit = 0\n",
      "basis = 1\n"
     ]
    },
    {
     "data": {
      "image/svg+xml": [
       "<?xml version=\"1.0\" encoding=\"utf-8\" standalone=\"no\"?>\n",
       "<!DOCTYPE svg PUBLIC \"-//W3C//DTD SVG 1.1//EN\"\n",
       "  \"http://www.w3.org/Graphics/SVG/1.1/DTD/svg11.dtd\">\n",
       "<svg xmlns:xlink=\"http://www.w3.org/1999/xlink\" width=\"160.663134pt\" height=\"123.482399pt\" viewBox=\"0 0 160.663134 123.482399\" xmlns=\"http://www.w3.org/2000/svg\" version=\"1.1\">\n",
       " <metadata>\n",
       "  <rdf:RDF xmlns:dc=\"http://purl.org/dc/elements/1.1/\" xmlns:cc=\"http://creativecommons.org/ns#\" xmlns:rdf=\"http://www.w3.org/1999/02/22-rdf-syntax-ns#\">\n",
       "   <cc:Work>\n",
       "    <dc:type rdf:resource=\"http://purl.org/dc/dcmitype/StillImage\"/>\n",
       "    <dc:date>2022-11-18T02:34:48.531763</dc:date>\n",
       "    <dc:format>image/svg+xml</dc:format>\n",
       "    <dc:creator>\n",
       "     <cc:Agent>\n",
       "      <dc:title>Matplotlib v3.5.1, https://matplotlib.org/</dc:title>\n",
       "     </cc:Agent>\n",
       "    </dc:creator>\n",
       "   </cc:Work>\n",
       "  </rdf:RDF>\n",
       " </metadata>\n",
       " <defs>\n",
       "  <style type=\"text/css\">*{stroke-linejoin: round; stroke-linecap: butt}</style>\n",
       " </defs>\n",
       " <g id=\"figure_1\">\n",
       "  <g id=\"patch_1\">\n",
       "   <path d=\"M 0 123.482399 \n",
       "L 160.663134 123.482399 \n",
       "L 160.663134 0 \n",
       "L 0 0 \n",
       "z\n",
       "\" style=\"fill: #ffffff\"/>\n",
       "  </g>\n",
       "  <g id=\"axes_1\">\n",
       "   <g id=\"line2d_1\">\n",
       "    <path d=\"M 53.470935 43.5608 \n",
       "L 148.918034 43.5608 \n",
       "\" clip-path=\"url(#p248025d60f)\" style=\"fill: none; stroke: #000000; stroke-width: 2; stroke-linecap: square\"/>\n",
       "   </g>\n",
       "   <g id=\"line2d_2\">\n",
       "    <path d=\"M 53.470935 87.534641 \n",
       "L 148.918034 87.534641 \n",
       "\" clip-path=\"url(#p248025d60f)\" style=\"fill: none; stroke: #778899; stroke-width: 2; stroke-linecap: square\"/>\n",
       "   </g>\n",
       "   <g id=\"line2d_3\">\n",
       "    <path d=\"M 53.470935 90.488956 \n",
       "L 148.918034 90.488956 \n",
       "\" clip-path=\"url(#p248025d60f)\" style=\"fill: none; stroke: #778899; stroke-width: 2; stroke-linecap: square\"/>\n",
       "   </g>\n",
       "   <g id=\"line2d_4\">\n",
       "    <path d=\"M 62.561135 93.556899 \n",
       "L 67.106235 84.466699 \n",
       "\" clip-path=\"url(#p248025d60f)\" style=\"fill: none; stroke: #778899; stroke-width: 1.5; stroke-linecap: square\"/>\n",
       "   </g>\n",
       "   <g id=\"patch_2\">\n",
       "    <path d=\"M 114.60253 66.286299 \n",
       "L 132.328419 66.286299 \n",
       "L 132.328419 20.8353 \n",
       "L 114.60253 20.8353 \n",
       "z\n",
       "\" clip-path=\"url(#p248025d60f)\" style=\"fill: #bdbdbd; opacity: 0.6\"/>\n",
       "   </g>\n",
       "   <g id=\"patch_3\">\n",
       "    <path d=\"M 63.2429 58.332374 \n",
       "L 92.78605 58.332374 \n",
       "L 92.78605 28.789225 \n",
       "L 63.2429 28.789225 \n",
       "z\n",
       "\" clip-path=\"url(#p248025d60f)\" style=\"fill: #6fa4ff; stroke: #6fa4ff; stroke-width: 1.5; stroke-linejoin: miter\"/>\n",
       "   </g>\n",
       "   <g id=\"text_1\">\n",
       "    <g clip-path=\"url(#p248025d60f)\">\n",
       "     <!-- ${q}$ -->\n",
       "     <g transform=\"translate(33.980736 48.011776)scale(0.1625 -0.1625)\">\n",
       "      <defs>\n",
       "       <path id=\"DejaVuSans-Oblique-71\" d=\"M 2669 525 \n",
       "Q 2438 222 2123 65 \n",
       "Q 1809 -91 1428 -91 \n",
       "Q 897 -91 595 267 \n",
       "Q 294 625 294 1253 \n",
       "Q 294 1759 480 2231 \n",
       "Q 666 2703 1013 3078 \n",
       "Q 1238 3322 1530 3453 \n",
       "Q 1822 3584 2144 3584 \n",
       "Q 2531 3584 2781 3431 \n",
       "Q 3031 3278 3144 2969 \n",
       "L 3244 3494 \n",
       "L 3822 3494 \n",
       "L 2888 -1319 \n",
       "L 2309 -1319 \n",
       "L 2669 525 \n",
       "z\n",
       "M 891 1338 \n",
       "Q 891 875 1084 633 \n",
       "Q 1278 391 1644 391 \n",
       "Q 2188 391 2572 911 \n",
       "Q 2956 1431 2956 2175 \n",
       "Q 2956 2625 2757 2864 \n",
       "Q 2559 3103 2188 3103 \n",
       "Q 1916 3103 1684 2976 \n",
       "Q 1453 2850 1281 2606 \n",
       "Q 1100 2350 995 2006 \n",
       "Q 891 1663 891 1338 \n",
       "z\n",
       "\" transform=\"scale(0.015625)\"/>\n",
       "      </defs>\n",
       "      <use xlink:href=\"#DejaVuSans-Oblique-71\"/>\n",
       "     </g>\n",
       "    </g>\n",
       "   </g>\n",
       "   <g id=\"text_2\">\n",
       "    <g clip-path=\"url(#p248025d60f)\">\n",
       "     <!-- 1 -->\n",
       "     <g transform=\"translate(58.016035 82.303824)scale(0.104 -0.104)\">\n",
       "      <defs>\n",
       "       <path id=\"DejaVuSans-31\" d=\"M 794 531 \n",
       "L 1825 531 \n",
       "L 1825 4091 \n",
       "L 703 3866 \n",
       "L 703 4441 \n",
       "L 1819 4666 \n",
       "L 2450 4666 \n",
       "L 2450 531 \n",
       "L 3481 531 \n",
       "L 3481 0 \n",
       "L 794 0 \n",
       "L 794 531 \n",
       "z\n",
       "\" transform=\"scale(0.015625)\"/>\n",
       "      </defs>\n",
       "      <use xlink:href=\"#DejaVuSans-31\"/>\n",
       "     </g>\n",
       "    </g>\n",
       "   </g>\n",
       "   <g id=\"text_3\">\n",
       "    <g clip-path=\"url(#p248025d60f)\">\n",
       "     <!-- c -->\n",
       "     <g transform=\"translate(35.445775 93.495783)scale(0.1625 -0.1625)\">\n",
       "      <defs>\n",
       "       <path id=\"DejaVuSans-63\" d=\"M 3122 3366 \n",
       "L 3122 2828 \n",
       "Q 2878 2963 2633 3030 \n",
       "Q 2388 3097 2138 3097 \n",
       "Q 1578 3097 1268 2742 \n",
       "Q 959 2388 959 1747 \n",
       "Q 959 1106 1268 751 \n",
       "Q 1578 397 2138 397 \n",
       "Q 2388 397 2633 464 \n",
       "Q 2878 531 3122 666 \n",
       "L 3122 134 \n",
       "Q 2881 22 2623 -34 \n",
       "Q 2366 -91 2075 -91 \n",
       "Q 1284 -91 818 406 \n",
       "Q 353 903 353 1747 \n",
       "Q 353 2603 823 3093 \n",
       "Q 1294 3584 2113 3584 \n",
       "Q 2378 3584 2631 3529 \n",
       "Q 2884 3475 3122 3366 \n",
       "z\n",
       "\" transform=\"scale(0.015625)\"/>\n",
       "      </defs>\n",
       "      <use xlink:href=\"#DejaVuSans-63\"/>\n",
       "     </g>\n",
       "    </g>\n",
       "   </g>\n",
       "   <g id=\"text_4\">\n",
       "    <g clip-path=\"url(#p248025d60f)\">\n",
       "     <!-- H -->\n",
       "     <g transform=\"translate(73.126272 47.147987)scale(0.13 -0.13)\">\n",
       "      <defs>\n",
       "       <path id=\"DejaVuSans-48\" d=\"M 628 4666 \n",
       "L 1259 4666 \n",
       "L 1259 2753 \n",
       "L 3553 2753 \n",
       "L 3553 4666 \n",
       "L 4184 4666 \n",
       "L 4184 0 \n",
       "L 3553 0 \n",
       "L 3553 2222 \n",
       "L 1259 2222 \n",
       "L 1259 0 \n",
       "L 628 0 \n",
       "L 628 4666 \n",
       "z\n",
       "\" transform=\"scale(0.015625)\"/>\n",
       "      </defs>\n",
       "      <use xlink:href=\"#DejaVuSans-48\"/>\n",
       "     </g>\n",
       "    </g>\n",
       "   </g>\n",
       "   <g id=\"line2d_5\">\n",
       "    <path d=\"M 123.465474 20.8353 \n",
       "L 123.465474 66.286299 \n",
       "\" clip-path=\"url(#p248025d60f)\" style=\"fill: none; stroke-dasharray: 3.7,1.6; stroke-dashoffset: 0; stroke: #000000\"/>\n",
       "   </g>\n",
       "  </g>\n",
       " </g>\n",
       " <defs>\n",
       "  <clipPath id=\"p248025d60f\">\n",
       "   <rect x=\"7.2\" y=\"7.2\" width=\"146.263134\" height=\"109.082399\"/>\n",
       "  </clipPath>\n",
       " </defs>\n",
       "</svg>\n"
      ],
      "text/plain": [
       "<Figure size 193.726x144.48 with 1 Axes>"
      ]
     },
     "execution_count": 12,
     "metadata": {},
     "output_type": "execute_result"
    }
   ],
   "source": [
    "print('bit = %i' % alice_bits[4])\n",
    "print('basis = %i' % alice_bases[4])\n",
    "message[4].draw('mpl')"
   ]
  },
  {
   "cell_type": "markdown",
   "metadata": {},
   "source": [
    "This message of qubits is then sent to Bob over Eve's quantum channel:\n",
    "\n",
    "| Alice's Knowledge |Over Eve's Channel| Bob's Knowledge |\n",
    "|:-----------------:|:----------------:|:---------------:|\n",
    "|     alice_bits    |                  |                 |\n",
    "|    alice_bases    |                  |                 |\n",
    "|      message      |     message      |     message     |\n",
    "\n",
    "### 3.3 Step 3:\n",
    "\n",
    "Bob then measures each qubit in the $X$ or $Z$-basis at random and stores this information:"
   ]
  },
  {
   "cell_type": "code",
   "execution_count": 13,
   "metadata": {},
   "outputs": [
    {
     "name": "stdout",
     "output_type": "stream",
     "text": [
      "[0 1 0 1 0 0 1 1 1 0 1 0 1 0 1 0 1 1 0 1 0 1 0 0 0 0 0 0 0 1 1 1 0 0 0 0 1\n",
      " 0 0 0 1 0 0 0 0 1 1 1 1 0 1 0 0 1 0 0 0 0 0 1 1 1 1 1 0 1 1 0 1 0 1 1 1 0\n",
      " 1 0 1 1 1 1 0 1 1 0 0 1 0 0 0 0 0 0 0 1 1 1 0 1 1 0]\n"
     ]
    }
   ],
   "source": [
    "## Step 3\n",
    "# Decide which basis to measure in:\n",
    "bob_bases = randint(2, size=n)\n",
    "print(bob_bases)"
   ]
  },
  {
   "cell_type": "markdown",
   "metadata": {},
   "source": [
    "`bob_bases` stores Bob's choice for which basis he measures each qubit in.\n",
    "\n",
    "| Alice's Knowledge |Over Eve's Channel| Bob's Knowledge |\n",
    "|:-----------------:|:----------------:|:---------------:|\n",
    "|     alice_bits    |                  |                 |\n",
    "|    alice_bases    |                  |                 |\n",
    "|      message      |     message      |     message     |\n",
    "|                   |                  |    bob_bases    |\n",
    "\n",
    "Below, the function `measure_message` applies the corresponding measurement and simulates the result of measuring each qubit. We store the measurement results in `bob_results`."
   ]
  },
  {
   "cell_type": "code",
   "execution_count": 14,
   "metadata": {
    "tags": [
     "thebelab-init"
    ]
   },
   "outputs": [],
   "source": [
    "def bob_measure(bases):\n",
    "    measurements = []\n",
    "    for q in range(n):\n",
    "        qc = QuantumCircuit(1,1)        \n",
    "        if bases[q] == 0: \n",
    "            qc.measure(0,0)\n",
    "        if bases[q] == 1: \n",
    "            qc.h(0)\n",
    "            qc.measure(0,0)\n",
    "        measurements.append(qc)            \n",
    "    return measurements"
   ]
  },
  {
   "cell_type": "code",
   "execution_count": 15,
   "metadata": {},
   "outputs": [],
   "source": [
    "measurements=bob_measure(bob_bases)"
   ]
  },
  {
   "cell_type": "code",
   "execution_count": 16,
   "metadata": {},
   "outputs": [
    {
     "data": {
      "image/svg+xml": [
       "<?xml version=\"1.0\" encoding=\"utf-8\" standalone=\"no\"?>\n",
       "<!DOCTYPE svg PUBLIC \"-//W3C//DTD SVG 1.1//EN\"\n",
       "  \"http://www.w3.org/Graphics/SVG/1.1/DTD/svg11.dtd\">\n",
       "<svg xmlns:xlink=\"http://www.w3.org/1999/xlink\" width=\"160.663134pt\" height=\"123.482399pt\" viewBox=\"0 0 160.663134 123.482399\" xmlns=\"http://www.w3.org/2000/svg\" version=\"1.1\">\n",
       " <metadata>\n",
       "  <rdf:RDF xmlns:dc=\"http://purl.org/dc/elements/1.1/\" xmlns:cc=\"http://creativecommons.org/ns#\" xmlns:rdf=\"http://www.w3.org/1999/02/22-rdf-syntax-ns#\">\n",
       "   <cc:Work>\n",
       "    <dc:type rdf:resource=\"http://purl.org/dc/dcmitype/StillImage\"/>\n",
       "    <dc:date>2022-11-18T02:34:51.119754</dc:date>\n",
       "    <dc:format>image/svg+xml</dc:format>\n",
       "    <dc:creator>\n",
       "     <cc:Agent>\n",
       "      <dc:title>Matplotlib v3.5.1, https://matplotlib.org/</dc:title>\n",
       "     </cc:Agent>\n",
       "    </dc:creator>\n",
       "   </cc:Work>\n",
       "  </rdf:RDF>\n",
       " </metadata>\n",
       " <defs>\n",
       "  <style type=\"text/css\">*{stroke-linejoin: round; stroke-linecap: butt}</style>\n",
       " </defs>\n",
       " <g id=\"figure_1\">\n",
       "  <g id=\"patch_1\">\n",
       "   <path d=\"M 0 123.482399 \n",
       "L 160.663134 123.482399 \n",
       "L 160.663134 0 \n",
       "L 0 0 \n",
       "z\n",
       "\" style=\"fill: #ffffff\"/>\n",
       "  </g>\n",
       "  <g id=\"axes_1\">\n",
       "   <g id=\"line2d_1\">\n",
       "    <path d=\"M 53.470935 43.5608 \n",
       "L 148.918034 43.5608 \n",
       "\" clip-path=\"url(#p34a062275c)\" style=\"fill: none; stroke: #000000; stroke-width: 2; stroke-linecap: square\"/>\n",
       "   </g>\n",
       "   <g id=\"line2d_2\">\n",
       "    <path d=\"M 53.470935 87.534641 \n",
       "L 148.918034 87.534641 \n",
       "\" clip-path=\"url(#p34a062275c)\" style=\"fill: none; stroke: #778899; stroke-width: 2; stroke-linecap: square\"/>\n",
       "   </g>\n",
       "   <g id=\"line2d_3\">\n",
       "    <path d=\"M 53.470935 90.488956 \n",
       "L 148.918034 90.488956 \n",
       "\" clip-path=\"url(#p34a062275c)\" style=\"fill: none; stroke: #778899; stroke-width: 2; stroke-linecap: square\"/>\n",
       "   </g>\n",
       "   <g id=\"line2d_4\">\n",
       "    <path d=\"M 62.561135 93.556899 \n",
       "L 67.106235 84.466699 \n",
       "\" clip-path=\"url(#p34a062275c)\" style=\"fill: none; stroke: #778899; stroke-width: 1.5; stroke-linecap: square\"/>\n",
       "   </g>\n",
       "   <g id=\"patch_2\">\n",
       "    <path d=\"M 114.60253 66.286299 \n",
       "L 132.328419 66.286299 \n",
       "L 132.328419 20.8353 \n",
       "L 114.60253 20.8353 \n",
       "z\n",
       "\" clip-path=\"url(#p34a062275c)\" style=\"fill: #bdbdbd; opacity: 0.6\"/>\n",
       "   </g>\n",
       "   <g id=\"patch_3\">\n",
       "    <path d=\"M 63.2429 58.332374 \n",
       "L 92.78605 58.332374 \n",
       "L 92.78605 28.789225 \n",
       "L 63.2429 28.789225 \n",
       "z\n",
       "\" clip-path=\"url(#p34a062275c)\" style=\"fill: #6fa4ff; stroke: #6fa4ff; stroke-width: 1.5; stroke-linejoin: miter\"/>\n",
       "   </g>\n",
       "   <g id=\"text_1\">\n",
       "    <g clip-path=\"url(#p34a062275c)\">\n",
       "     <!-- ${q}$ -->\n",
       "     <g transform=\"translate(33.980736 48.011776)scale(0.1625 -0.1625)\">\n",
       "      <defs>\n",
       "       <path id=\"DejaVuSans-Oblique-71\" d=\"M 2669 525 \n",
       "Q 2438 222 2123 65 \n",
       "Q 1809 -91 1428 -91 \n",
       "Q 897 -91 595 267 \n",
       "Q 294 625 294 1253 \n",
       "Q 294 1759 480 2231 \n",
       "Q 666 2703 1013 3078 \n",
       "Q 1238 3322 1530 3453 \n",
       "Q 1822 3584 2144 3584 \n",
       "Q 2531 3584 2781 3431 \n",
       "Q 3031 3278 3144 2969 \n",
       "L 3244 3494 \n",
       "L 3822 3494 \n",
       "L 2888 -1319 \n",
       "L 2309 -1319 \n",
       "L 2669 525 \n",
       "z\n",
       "M 891 1338 \n",
       "Q 891 875 1084 633 \n",
       "Q 1278 391 1644 391 \n",
       "Q 2188 391 2572 911 \n",
       "Q 2956 1431 2956 2175 \n",
       "Q 2956 2625 2757 2864 \n",
       "Q 2559 3103 2188 3103 \n",
       "Q 1916 3103 1684 2976 \n",
       "Q 1453 2850 1281 2606 \n",
       "Q 1100 2350 995 2006 \n",
       "Q 891 1663 891 1338 \n",
       "z\n",
       "\" transform=\"scale(0.015625)\"/>\n",
       "      </defs>\n",
       "      <use xlink:href=\"#DejaVuSans-Oblique-71\"/>\n",
       "     </g>\n",
       "    </g>\n",
       "   </g>\n",
       "   <g id=\"text_2\">\n",
       "    <g clip-path=\"url(#p34a062275c)\">\n",
       "     <!-- 1 -->\n",
       "     <g transform=\"translate(58.016035 82.303824)scale(0.104 -0.104)\">\n",
       "      <defs>\n",
       "       <path id=\"DejaVuSans-31\" d=\"M 794 531 \n",
       "L 1825 531 \n",
       "L 1825 4091 \n",
       "L 703 3866 \n",
       "L 703 4441 \n",
       "L 1819 4666 \n",
       "L 2450 4666 \n",
       "L 2450 531 \n",
       "L 3481 531 \n",
       "L 3481 0 \n",
       "L 794 0 \n",
       "L 794 531 \n",
       "z\n",
       "\" transform=\"scale(0.015625)\"/>\n",
       "      </defs>\n",
       "      <use xlink:href=\"#DejaVuSans-31\"/>\n",
       "     </g>\n",
       "    </g>\n",
       "   </g>\n",
       "   <g id=\"text_3\">\n",
       "    <g clip-path=\"url(#p34a062275c)\">\n",
       "     <!-- c -->\n",
       "     <g transform=\"translate(35.445775 93.495783)scale(0.1625 -0.1625)\">\n",
       "      <defs>\n",
       "       <path id=\"DejaVuSans-63\" d=\"M 3122 3366 \n",
       "L 3122 2828 \n",
       "Q 2878 2963 2633 3030 \n",
       "Q 2388 3097 2138 3097 \n",
       "Q 1578 3097 1268 2742 \n",
       "Q 959 2388 959 1747 \n",
       "Q 959 1106 1268 751 \n",
       "Q 1578 397 2138 397 \n",
       "Q 2388 397 2633 464 \n",
       "Q 2878 531 3122 666 \n",
       "L 3122 134 \n",
       "Q 2881 22 2623 -34 \n",
       "Q 2366 -91 2075 -91 \n",
       "Q 1284 -91 818 406 \n",
       "Q 353 903 353 1747 \n",
       "Q 353 2603 823 3093 \n",
       "Q 1294 3584 2113 3584 \n",
       "Q 2378 3584 2631 3529 \n",
       "Q 2884 3475 3122 3366 \n",
       "z\n",
       "\" transform=\"scale(0.015625)\"/>\n",
       "      </defs>\n",
       "      <use xlink:href=\"#DejaVuSans-63\"/>\n",
       "     </g>\n",
       "    </g>\n",
       "   </g>\n",
       "   <g id=\"text_4\">\n",
       "    <g clip-path=\"url(#p34a062275c)\">\n",
       "     <!-- H -->\n",
       "     <g transform=\"translate(73.126272 47.147987)scale(0.13 -0.13)\">\n",
       "      <defs>\n",
       "       <path id=\"DejaVuSans-48\" d=\"M 628 4666 \n",
       "L 1259 4666 \n",
       "L 1259 2753 \n",
       "L 3553 2753 \n",
       "L 3553 4666 \n",
       "L 4184 4666 \n",
       "L 4184 0 \n",
       "L 3553 0 \n",
       "L 3553 2222 \n",
       "L 1259 2222 \n",
       "L 1259 0 \n",
       "L 628 0 \n",
       "L 628 4666 \n",
       "z\n",
       "\" transform=\"scale(0.015625)\"/>\n",
       "      </defs>\n",
       "      <use xlink:href=\"#DejaVuSans-48\"/>\n",
       "     </g>\n",
       "    </g>\n",
       "   </g>\n",
       "   <g id=\"line2d_5\">\n",
       "    <path d=\"M 123.465474 20.8353 \n",
       "L 123.465474 66.286299 \n",
       "\" clip-path=\"url(#p34a062275c)\" style=\"fill: none; stroke-dasharray: 3.7,1.6; stroke-dashoffset: 0; stroke: #000000\"/>\n",
       "   </g>\n",
       "  </g>\n",
       " </g>\n",
       " <defs>\n",
       "  <clipPath id=\"p34a062275c\">\n",
       "   <rect x=\"7.2\" y=\"7.2\" width=\"146.263134\" height=\"109.082399\"/>\n",
       "  </clipPath>\n",
       " </defs>\n",
       "</svg>\n"
      ],
      "text/plain": [
       "<Figure size 193.726x144.48 with 1 Axes>"
      ]
     },
     "execution_count": 16,
     "metadata": {},
     "output_type": "execute_result"
    }
   ],
   "source": [
    "message[4].draw('mpl')"
   ]
  },
  {
   "cell_type": "code",
   "execution_count": 17,
   "metadata": {},
   "outputs": [
    {
     "data": {
      "image/svg+xml": [
       "<?xml version=\"1.0\" encoding=\"utf-8\" standalone=\"no\"?>\n",
       "<!DOCTYPE svg PUBLIC \"-//W3C//DTD SVG 1.1//EN\"\n",
       "  \"http://www.w3.org/Graphics/SVG/1.1/DTD/svg11.dtd\">\n",
       "<svg xmlns:xlink=\"http://www.w3.org/1999/xlink\" width=\"115.212135pt\" height=\"123.482399pt\" viewBox=\"0 0 115.212135 123.482399\" xmlns=\"http://www.w3.org/2000/svg\" version=\"1.1\">\n",
       " <metadata>\n",
       "  <rdf:RDF xmlns:dc=\"http://purl.org/dc/elements/1.1/\" xmlns:cc=\"http://creativecommons.org/ns#\" xmlns:rdf=\"http://www.w3.org/1999/02/22-rdf-syntax-ns#\">\n",
       "   <cc:Work>\n",
       "    <dc:type rdf:resource=\"http://purl.org/dc/dcmitype/StillImage\"/>\n",
       "    <dc:date>2022-11-18T02:34:51.817809</dc:date>\n",
       "    <dc:format>image/svg+xml</dc:format>\n",
       "    <dc:creator>\n",
       "     <cc:Agent>\n",
       "      <dc:title>Matplotlib v3.5.1, https://matplotlib.org/</dc:title>\n",
       "     </cc:Agent>\n",
       "    </dc:creator>\n",
       "   </cc:Work>\n",
       "  </rdf:RDF>\n",
       " </metadata>\n",
       " <defs>\n",
       "  <style type=\"text/css\">*{stroke-linejoin: round; stroke-linecap: butt}</style>\n",
       " </defs>\n",
       " <g id=\"figure_1\">\n",
       "  <g id=\"patch_1\">\n",
       "   <path d=\"M 0 123.482399 \n",
       "L 115.212135 123.482399 \n",
       "L 115.212135 0 \n",
       "L 0 0 \n",
       "z\n",
       "\" style=\"fill: #ffffff\"/>\n",
       "  </g>\n",
       "  <g id=\"axes_1\">\n",
       "   <g id=\"patch_2\">\n",
       "    <path d=\"M 72.105845 78.671697 \n",
       "L 83.923105 78.671697 \n",
       "L 78.014475 87.193759 \n",
       "z\n",
       "\" clip-path=\"url(#pf289d20ec0)\" style=\"fill: #778899\"/>\n",
       "   </g>\n",
       "   <g id=\"line2d_1\">\n",
       "    <path d=\"M 53.470935 43.5608 \n",
       "L 103.467035 43.5608 \n",
       "\" clip-path=\"url(#pf289d20ec0)\" style=\"fill: none; stroke: #000000; stroke-width: 2; stroke-linecap: square\"/>\n",
       "   </g>\n",
       "   <g id=\"line2d_2\">\n",
       "    <path d=\"M 53.470935 87.534641 \n",
       "L 103.467035 87.534641 \n",
       "\" clip-path=\"url(#pf289d20ec0)\" style=\"fill: none; stroke: #778899; stroke-width: 2; stroke-linecap: square\"/>\n",
       "   </g>\n",
       "   <g id=\"line2d_3\">\n",
       "    <path d=\"M 53.470935 90.488956 \n",
       "L 103.467035 90.488956 \n",
       "\" clip-path=\"url(#pf289d20ec0)\" style=\"fill: none; stroke: #778899; stroke-width: 2; stroke-linecap: square\"/>\n",
       "   </g>\n",
       "   <g id=\"line2d_4\">\n",
       "    <path d=\"M 62.561135 93.556899 \n",
       "L 67.106235 84.466699 \n",
       "\" clip-path=\"url(#pf289d20ec0)\" style=\"fill: none; stroke: #778899; stroke-width: 1.5; stroke-linecap: square\"/>\n",
       "   </g>\n",
       "   <g id=\"line2d_5\">\n",
       "    <path d=\"M 79.491633 43.5608 \n",
       "L 79.491633 78.671697 \n",
       "\" clip-path=\"url(#pf289d20ec0)\" style=\"fill: none; stroke: #778899; stroke-width: 2; stroke-linecap: square\"/>\n",
       "   </g>\n",
       "   <g id=\"line2d_6\">\n",
       "    <path d=\"M 76.537318 43.5608 \n",
       "L 76.537318 78.671697 \n",
       "\" clip-path=\"url(#pf289d20ec0)\" style=\"fill: none; stroke: #778899; stroke-width: 2; stroke-linecap: square\"/>\n",
       "   </g>\n",
       "   <g id=\"patch_3\">\n",
       "    <path d=\"M 63.2429 58.332374 \n",
       "L 92.78605 58.332374 \n",
       "L 92.78605 28.789225 \n",
       "L 63.2429 28.789225 \n",
       "z\n",
       "\" clip-path=\"url(#pf289d20ec0)\" style=\"stroke: #000000; stroke-width: 1.5; stroke-linejoin: miter\"/>\n",
       "   </g>\n",
       "   <g id=\"patch_4\">\n",
       "    <path d=\"M 88.354577 47.992272 \n",
       "C 88.354577 45.250958 87.264433 42.619117 85.326032 40.680715 \n",
       "C 83.38763 38.742314 80.755789 37.65217 78.014475 37.65217 \n",
       "C 75.273161 37.65217 72.64132 38.742314 70.702919 40.680715 \n",
       "C 68.764517 42.619117 67.674373 45.250958 67.674373 47.992272 \n",
       "\" clip-path=\"url(#pf289d20ec0)\" style=\"fill: none; stroke: #ffffff; stroke-width: 2; stroke-linejoin: miter\"/>\n",
       "   </g>\n",
       "   <g id=\"line2d_7\">\n",
       "    <path d=\"M 78.014475 47.992272 \n",
       "L 88.354577 37.65217 \n",
       "\" clip-path=\"url(#pf289d20ec0)\" style=\"fill: none; stroke: #ffffff; stroke-width: 2; stroke-linecap: square\"/>\n",
       "   </g>\n",
       "   <g id=\"text_1\">\n",
       "    <g clip-path=\"url(#pf289d20ec0)\">\n",
       "     <!-- ${q}$ -->\n",
       "     <g transform=\"translate(33.980736 48.011776)scale(0.1625 -0.1625)\">\n",
       "      <defs>\n",
       "       <path id=\"DejaVuSans-Oblique-71\" d=\"M 2669 525 \n",
       "Q 2438 222 2123 65 \n",
       "Q 1809 -91 1428 -91 \n",
       "Q 897 -91 595 267 \n",
       "Q 294 625 294 1253 \n",
       "Q 294 1759 480 2231 \n",
       "Q 666 2703 1013 3078 \n",
       "Q 1238 3322 1530 3453 \n",
       "Q 1822 3584 2144 3584 \n",
       "Q 2531 3584 2781 3431 \n",
       "Q 3031 3278 3144 2969 \n",
       "L 3244 3494 \n",
       "L 3822 3494 \n",
       "L 2888 -1319 \n",
       "L 2309 -1319 \n",
       "L 2669 525 \n",
       "z\n",
       "M 891 1338 \n",
       "Q 891 875 1084 633 \n",
       "Q 1278 391 1644 391 \n",
       "Q 2188 391 2572 911 \n",
       "Q 2956 1431 2956 2175 \n",
       "Q 2956 2625 2757 2864 \n",
       "Q 2559 3103 2188 3103 \n",
       "Q 1916 3103 1684 2976 \n",
       "Q 1453 2850 1281 2606 \n",
       "Q 1100 2350 995 2006 \n",
       "Q 891 1663 891 1338 \n",
       "z\n",
       "\" transform=\"scale(0.015625)\"/>\n",
       "      </defs>\n",
       "      <use xlink:href=\"#DejaVuSans-Oblique-71\"/>\n",
       "     </g>\n",
       "    </g>\n",
       "   </g>\n",
       "   <g id=\"text_2\">\n",
       "    <g clip-path=\"url(#pf289d20ec0)\">\n",
       "     <!-- 1 -->\n",
       "     <g transform=\"translate(58.016035 82.303824)scale(0.104 -0.104)\">\n",
       "      <defs>\n",
       "       <path id=\"DejaVuSans-31\" d=\"M 794 531 \n",
       "L 1825 531 \n",
       "L 1825 4091 \n",
       "L 703 3866 \n",
       "L 703 4441 \n",
       "L 1819 4666 \n",
       "L 2450 4666 \n",
       "L 2450 531 \n",
       "L 3481 531 \n",
       "L 3481 0 \n",
       "L 794 0 \n",
       "L 794 531 \n",
       "z\n",
       "\" transform=\"scale(0.015625)\"/>\n",
       "      </defs>\n",
       "      <use xlink:href=\"#DejaVuSans-31\"/>\n",
       "     </g>\n",
       "    </g>\n",
       "   </g>\n",
       "   <g id=\"text_3\">\n",
       "    <g clip-path=\"url(#pf289d20ec0)\">\n",
       "     <!-- c -->\n",
       "     <g transform=\"translate(35.445775 93.495783)scale(0.1625 -0.1625)\">\n",
       "      <defs>\n",
       "       <path id=\"DejaVuSans-63\" d=\"M 3122 3366 \n",
       "L 3122 2828 \n",
       "Q 2878 2963 2633 3030 \n",
       "Q 2388 3097 2138 3097 \n",
       "Q 1578 3097 1268 2742 \n",
       "Q 959 2388 959 1747 \n",
       "Q 959 1106 1268 751 \n",
       "Q 1578 397 2138 397 \n",
       "Q 2388 397 2633 464 \n",
       "Q 2878 531 3122 666 \n",
       "L 3122 134 \n",
       "Q 2881 22 2623 -34 \n",
       "Q 2366 -91 2075 -91 \n",
       "Q 1284 -91 818 406 \n",
       "Q 353 903 353 1747 \n",
       "Q 353 2603 823 3093 \n",
       "Q 1294 3584 2113 3584 \n",
       "Q 2378 3584 2631 3529 \n",
       "Q 2884 3475 3122 3366 \n",
       "z\n",
       "\" transform=\"scale(0.015625)\"/>\n",
       "      </defs>\n",
       "      <use xlink:href=\"#DejaVuSans-63\"/>\n",
       "     </g>\n",
       "    </g>\n",
       "   </g>\n",
       "   <g id=\"text_4\">\n",
       "    <g clip-path=\"url(#pf289d20ec0)\">\n",
       "     <!-- 0 -->\n",
       "     <g transform=\"translate(89.377225 82.303824)scale(0.104 -0.104)\">\n",
       "      <defs>\n",
       "       <path id=\"DejaVuSans-30\" d=\"M 2034 4250 \n",
       "Q 1547 4250 1301 3770 \n",
       "Q 1056 3291 1056 2328 \n",
       "Q 1056 1369 1301 889 \n",
       "Q 1547 409 2034 409 \n",
       "Q 2525 409 2770 889 \n",
       "Q 3016 1369 3016 2328 \n",
       "Q 3016 3291 2770 3770 \n",
       "Q 2525 4250 2034 4250 \n",
       "z\n",
       "M 2034 4750 \n",
       "Q 2819 4750 3233 4129 \n",
       "Q 3647 3509 3647 2328 \n",
       "Q 3647 1150 3233 529 \n",
       "Q 2819 -91 2034 -91 \n",
       "Q 1250 -91 836 529 \n",
       "Q 422 1150 422 2328 \n",
       "Q 422 3509 836 4129 \n",
       "Q 1250 4750 2034 4750 \n",
       "z\n",
       "\" transform=\"scale(0.015625)\"/>\n",
       "      </defs>\n",
       "      <use xlink:href=\"#DejaVuSans-30\"/>\n",
       "     </g>\n",
       "    </g>\n",
       "   </g>\n",
       "  </g>\n",
       " </g>\n",
       " <defs>\n",
       "  <clipPath id=\"pf289d20ec0\">\n",
       "   <rect x=\"7.2\" y=\"7.2\" width=\"100.812135\" height=\"109.082399\"/>\n",
       "  </clipPath>\n",
       " </defs>\n",
       "</svg>\n"
      ],
      "text/plain": [
       "<Figure size 133.526x144.48 with 1 Axes>"
      ]
     },
     "execution_count": 17,
     "metadata": {},
     "output_type": "execute_result"
    }
   ],
   "source": [
    "measurements[4].draw('mpl')"
   ]
  },
  {
   "cell_type": "code",
   "execution_count": 18,
   "metadata": {},
   "outputs": [
    {
     "data": {
      "image/svg+xml": [
       "<?xml version=\"1.0\" encoding=\"utf-8\" standalone=\"no\"?>\n",
       "<!DOCTYPE svg PUBLIC \"-//W3C//DTD SVG 1.1//EN\"\n",
       "  \"http://www.w3.org/Graphics/SVG/1.1/DTD/svg11.dtd\">\n",
       "<svg xmlns:xlink=\"http://www.w3.org/1999/xlink\" width=\"206.114133pt\" height=\"123.482399pt\" viewBox=\"0 0 206.114133 123.482399\" xmlns=\"http://www.w3.org/2000/svg\" version=\"1.1\">\n",
       " <metadata>\n",
       "  <rdf:RDF xmlns:dc=\"http://purl.org/dc/elements/1.1/\" xmlns:cc=\"http://creativecommons.org/ns#\" xmlns:rdf=\"http://www.w3.org/1999/02/22-rdf-syntax-ns#\">\n",
       "   <cc:Work>\n",
       "    <dc:type rdf:resource=\"http://purl.org/dc/dcmitype/StillImage\"/>\n",
       "    <dc:date>2022-11-18T02:34:52.065638</dc:date>\n",
       "    <dc:format>image/svg+xml</dc:format>\n",
       "    <dc:creator>\n",
       "     <cc:Agent>\n",
       "      <dc:title>Matplotlib v3.5.1, https://matplotlib.org/</dc:title>\n",
       "     </cc:Agent>\n",
       "    </dc:creator>\n",
       "   </cc:Work>\n",
       "  </rdf:RDF>\n",
       " </metadata>\n",
       " <defs>\n",
       "  <style type=\"text/css\">*{stroke-linejoin: round; stroke-linecap: butt}</style>\n",
       " </defs>\n",
       " <g id=\"figure_1\">\n",
       "  <g id=\"patch_1\">\n",
       "   <path d=\"M 0 123.482399 \n",
       "L 206.114133 123.482399 \n",
       "L 206.114133 0 \n",
       "L 0 0 \n",
       "z\n",
       "\" style=\"fill: #ffffff\"/>\n",
       "  </g>\n",
       "  <g id=\"axes_1\">\n",
       "   <g id=\"patch_2\">\n",
       "    <path d=\"M 163.007844 78.671697 \n",
       "L 174.825104 78.671697 \n",
       "L 168.916474 87.193759 \n",
       "z\n",
       "\" clip-path=\"url(#p0c61f138a3)\" style=\"fill: #778899\"/>\n",
       "   </g>\n",
       "   <g id=\"line2d_1\">\n",
       "    <path d=\"M 53.470935 43.5608 \n",
       "L 194.369034 43.5608 \n",
       "\" clip-path=\"url(#p0c61f138a3)\" style=\"fill: none; stroke: #000000; stroke-width: 2; stroke-linecap: square\"/>\n",
       "   </g>\n",
       "   <g id=\"line2d_2\">\n",
       "    <path d=\"M 53.470935 87.534641 \n",
       "L 194.369034 87.534641 \n",
       "\" clip-path=\"url(#p0c61f138a3)\" style=\"fill: none; stroke: #778899; stroke-width: 2; stroke-linecap: square\"/>\n",
       "   </g>\n",
       "   <g id=\"line2d_3\">\n",
       "    <path d=\"M 53.470935 90.488956 \n",
       "L 194.369034 90.488956 \n",
       "\" clip-path=\"url(#p0c61f138a3)\" style=\"fill: none; stroke: #778899; stroke-width: 2; stroke-linecap: square\"/>\n",
       "   </g>\n",
       "   <g id=\"line2d_4\">\n",
       "    <path d=\"M 62.561135 93.556899 \n",
       "L 67.106235 84.466699 \n",
       "\" clip-path=\"url(#p0c61f138a3)\" style=\"fill: none; stroke: #778899; stroke-width: 1.5; stroke-linecap: square\"/>\n",
       "   </g>\n",
       "   <g id=\"patch_3\">\n",
       "    <path d=\"M 114.60253 66.286299 \n",
       "L 132.328419 66.286299 \n",
       "L 132.328419 20.8353 \n",
       "L 114.60253 20.8353 \n",
       "z\n",
       "\" clip-path=\"url(#p0c61f138a3)\" style=\"fill: #bdbdbd; opacity: 0.6\"/>\n",
       "   </g>\n",
       "   <g id=\"line2d_5\">\n",
       "    <path d=\"M 170.393631 43.5608 \n",
       "L 170.393631 78.671697 \n",
       "\" clip-path=\"url(#p0c61f138a3)\" style=\"fill: none; stroke: #778899; stroke-width: 2; stroke-linecap: square\"/>\n",
       "   </g>\n",
       "   <g id=\"line2d_6\">\n",
       "    <path d=\"M 167.439316 43.5608 \n",
       "L 167.439316 78.671697 \n",
       "\" clip-path=\"url(#p0c61f138a3)\" style=\"fill: none; stroke: #778899; stroke-width: 2; stroke-linecap: square\"/>\n",
       "   </g>\n",
       "   <g id=\"patch_4\">\n",
       "    <path d=\"M 63.2429 58.332374 \n",
       "L 92.78605 58.332374 \n",
       "L 92.78605 28.789225 \n",
       "L 63.2429 28.789225 \n",
       "z\n",
       "\" clip-path=\"url(#p0c61f138a3)\" style=\"fill: #6fa4ff; stroke: #6fa4ff; stroke-width: 1.5; stroke-linejoin: miter\"/>\n",
       "   </g>\n",
       "   <g id=\"patch_5\">\n",
       "    <path d=\"M 154.144899 58.332374 \n",
       "L 183.688049 58.332374 \n",
       "L 183.688049 28.789225 \n",
       "L 154.144899 28.789225 \n",
       "z\n",
       "\" clip-path=\"url(#p0c61f138a3)\" style=\"stroke: #000000; stroke-width: 1.5; stroke-linejoin: miter\"/>\n",
       "   </g>\n",
       "   <g id=\"patch_6\">\n",
       "    <path d=\"M 179.256576 47.992272 \n",
       "C 179.256576 45.250958 178.166432 42.619117 176.22803 40.680715 \n",
       "C 174.289629 38.742314 171.657788 37.65217 168.916474 37.65217 \n",
       "C 166.17516 37.65217 163.543319 38.742314 161.604917 40.680715 \n",
       "C 159.666516 42.619117 158.576372 45.250958 158.576372 47.992272 \n",
       "\" clip-path=\"url(#p0c61f138a3)\" style=\"fill: none; stroke: #ffffff; stroke-width: 2; stroke-linejoin: miter\"/>\n",
       "   </g>\n",
       "   <g id=\"line2d_7\">\n",
       "    <path d=\"M 168.916474 47.992272 \n",
       "L 179.256576 37.65217 \n",
       "\" clip-path=\"url(#p0c61f138a3)\" style=\"fill: none; stroke: #ffffff; stroke-width: 2; stroke-linecap: square\"/>\n",
       "   </g>\n",
       "   <g id=\"text_1\">\n",
       "    <g clip-path=\"url(#p0c61f138a3)\">\n",
       "     <!-- ${q}$ -->\n",
       "     <g transform=\"translate(33.980736 48.011776)scale(0.1625 -0.1625)\">\n",
       "      <defs>\n",
       "       <path id=\"DejaVuSans-Oblique-71\" d=\"M 2669 525 \n",
       "Q 2438 222 2123 65 \n",
       "Q 1809 -91 1428 -91 \n",
       "Q 897 -91 595 267 \n",
       "Q 294 625 294 1253 \n",
       "Q 294 1759 480 2231 \n",
       "Q 666 2703 1013 3078 \n",
       "Q 1238 3322 1530 3453 \n",
       "Q 1822 3584 2144 3584 \n",
       "Q 2531 3584 2781 3431 \n",
       "Q 3031 3278 3144 2969 \n",
       "L 3244 3494 \n",
       "L 3822 3494 \n",
       "L 2888 -1319 \n",
       "L 2309 -1319 \n",
       "L 2669 525 \n",
       "z\n",
       "M 891 1338 \n",
       "Q 891 875 1084 633 \n",
       "Q 1278 391 1644 391 \n",
       "Q 2188 391 2572 911 \n",
       "Q 2956 1431 2956 2175 \n",
       "Q 2956 2625 2757 2864 \n",
       "Q 2559 3103 2188 3103 \n",
       "Q 1916 3103 1684 2976 \n",
       "Q 1453 2850 1281 2606 \n",
       "Q 1100 2350 995 2006 \n",
       "Q 891 1663 891 1338 \n",
       "z\n",
       "\" transform=\"scale(0.015625)\"/>\n",
       "      </defs>\n",
       "      <use xlink:href=\"#DejaVuSans-Oblique-71\"/>\n",
       "     </g>\n",
       "    </g>\n",
       "   </g>\n",
       "   <g id=\"text_2\">\n",
       "    <g clip-path=\"url(#p0c61f138a3)\">\n",
       "     <!-- 1 -->\n",
       "     <g transform=\"translate(58.016035 82.303824)scale(0.104 -0.104)\">\n",
       "      <defs>\n",
       "       <path id=\"DejaVuSans-31\" d=\"M 794 531 \n",
       "L 1825 531 \n",
       "L 1825 4091 \n",
       "L 703 3866 \n",
       "L 703 4441 \n",
       "L 1819 4666 \n",
       "L 2450 4666 \n",
       "L 2450 531 \n",
       "L 3481 531 \n",
       "L 3481 0 \n",
       "L 794 0 \n",
       "L 794 531 \n",
       "z\n",
       "\" transform=\"scale(0.015625)\"/>\n",
       "      </defs>\n",
       "      <use xlink:href=\"#DejaVuSans-31\"/>\n",
       "     </g>\n",
       "    </g>\n",
       "   </g>\n",
       "   <g id=\"text_3\">\n",
       "    <g clip-path=\"url(#p0c61f138a3)\">\n",
       "     <!-- c -->\n",
       "     <g transform=\"translate(35.445775 93.495783)scale(0.1625 -0.1625)\">\n",
       "      <defs>\n",
       "       <path id=\"DejaVuSans-63\" d=\"M 3122 3366 \n",
       "L 3122 2828 \n",
       "Q 2878 2963 2633 3030 \n",
       "Q 2388 3097 2138 3097 \n",
       "Q 1578 3097 1268 2742 \n",
       "Q 959 2388 959 1747 \n",
       "Q 959 1106 1268 751 \n",
       "Q 1578 397 2138 397 \n",
       "Q 2388 397 2633 464 \n",
       "Q 2878 531 3122 666 \n",
       "L 3122 134 \n",
       "Q 2881 22 2623 -34 \n",
       "Q 2366 -91 2075 -91 \n",
       "Q 1284 -91 818 406 \n",
       "Q 353 903 353 1747 \n",
       "Q 353 2603 823 3093 \n",
       "Q 1294 3584 2113 3584 \n",
       "Q 2378 3584 2631 3529 \n",
       "Q 2884 3475 3122 3366 \n",
       "z\n",
       "\" transform=\"scale(0.015625)\"/>\n",
       "      </defs>\n",
       "      <use xlink:href=\"#DejaVuSans-63\"/>\n",
       "     </g>\n",
       "    </g>\n",
       "   </g>\n",
       "   <g id=\"text_4\">\n",
       "    <g clip-path=\"url(#p0c61f138a3)\">\n",
       "     <!-- H -->\n",
       "     <g transform=\"translate(73.126272 47.147987)scale(0.13 -0.13)\">\n",
       "      <defs>\n",
       "       <path id=\"DejaVuSans-48\" d=\"M 628 4666 \n",
       "L 1259 4666 \n",
       "L 1259 2753 \n",
       "L 3553 2753 \n",
       "L 3553 4666 \n",
       "L 4184 4666 \n",
       "L 4184 0 \n",
       "L 3553 0 \n",
       "L 3553 2222 \n",
       "L 1259 2222 \n",
       "L 1259 0 \n",
       "L 628 0 \n",
       "L 628 4666 \n",
       "z\n",
       "\" transform=\"scale(0.015625)\"/>\n",
       "      </defs>\n",
       "      <use xlink:href=\"#DejaVuSans-48\"/>\n",
       "     </g>\n",
       "    </g>\n",
       "   </g>\n",
       "   <g id=\"line2d_8\">\n",
       "    <path d=\"M 123.465474 20.8353 \n",
       "L 123.465474 66.286299 \n",
       "\" clip-path=\"url(#p0c61f138a3)\" style=\"fill: none; stroke-dasharray: 3.7,1.6; stroke-dashoffset: 0; stroke: #000000\"/>\n",
       "   </g>\n",
       "   <g id=\"text_5\">\n",
       "    <g clip-path=\"url(#p0c61f138a3)\">\n",
       "     <!-- 0 -->\n",
       "     <g transform=\"translate(180.279224 82.303824)scale(0.104 -0.104)\">\n",
       "      <defs>\n",
       "       <path id=\"DejaVuSans-30\" d=\"M 2034 4250 \n",
       "Q 1547 4250 1301 3770 \n",
       "Q 1056 3291 1056 2328 \n",
       "Q 1056 1369 1301 889 \n",
       "Q 1547 409 2034 409 \n",
       "Q 2525 409 2770 889 \n",
       "Q 3016 1369 3016 2328 \n",
       "Q 3016 3291 2770 3770 \n",
       "Q 2525 4250 2034 4250 \n",
       "z\n",
       "M 2034 4750 \n",
       "Q 2819 4750 3233 4129 \n",
       "Q 3647 3509 3647 2328 \n",
       "Q 3647 1150 3233 529 \n",
       "Q 2819 -91 2034 -91 \n",
       "Q 1250 -91 836 529 \n",
       "Q 422 1150 422 2328 \n",
       "Q 422 3509 836 4129 \n",
       "Q 1250 4750 2034 4750 \n",
       "z\n",
       "\" transform=\"scale(0.015625)\"/>\n",
       "      </defs>\n",
       "      <use xlink:href=\"#DejaVuSans-30\"/>\n",
       "     </g>\n",
       "    </g>\n",
       "   </g>\n",
       "  </g>\n",
       " </g>\n",
       " <defs>\n",
       "  <clipPath id=\"p0c61f138a3\">\n",
       "   <rect x=\"7.2\" y=\"7.2\" width=\"191.714133\" height=\"109.082399\"/>\n",
       "  </clipPath>\n",
       " </defs>\n",
       "</svg>\n"
      ],
      "text/plain": [
       "<Figure size 253.926x144.48 with 1 Axes>"
      ]
     },
     "execution_count": 18,
     "metadata": {},
     "output_type": "execute_result"
    }
   ],
   "source": [
    "circ_t=message[4].compose(measurements[4])\n",
    "circ_t.draw('mpl')"
   ]
  },
  {
   "cell_type": "code",
   "execution_count": 19,
   "metadata": {},
   "outputs": [],
   "source": [
    "def exec_simulation(message, measurements):\n",
    "    backend = Aer.get_backend('aer_simulator')\n",
    "    results = []\n",
    "    for q in range(n):\n",
    "        full_circuit=message[q].compose(measurements[q])\n",
    "        qobj = assemble(full_circuit, shots=1, memory=True)\n",
    "        result = backend.run(qobj).result()\n",
    "        measured_bit = int(result.get_memory()[0])\n",
    "        results.append(measured_bit)\n",
    "    return results"
   ]
  },
  {
   "cell_type": "code",
   "execution_count": 20,
   "metadata": {},
   "outputs": [
    {
     "name": "stdout",
     "output_type": "stream",
     "text": [
      "[0, 1, 1, 0, 0, 0, 0, 1, 0, 1, 0, 1, 0, 0, 1, 1, 1, 0, 0, 1, 0, 0, 0, 1, 1, 1, 0, 0, 1, 0, 1, 1, 0, 0, 0, 1, 0, 1, 0, 1, 1, 1, 0, 1, 0, 0, 0, 0, 1, 0, 0, 1, 0, 0, 1, 1, 0, 1, 1, 1, 0, 1, 0, 1, 0, 1, 1, 0, 0, 1, 0, 1, 0, 1, 1, 1, 0, 0, 1, 0, 1, 1, 0, 0, 0, 1, 1, 0, 1, 0, 0, 1, 1, 0, 0, 0, 1, 1, 1, 1]\n"
     ]
    },
    {
     "name": "stderr",
     "output_type": "stream",
     "text": [
      "<frozen importlib._bootstrap>:219: RuntimeWarning: scipy._lib.messagestream.MessageStream size changed, may indicate binary incompatibility. Expected 56 from C header, got 64 from PyObject\n"
     ]
    }
   ],
   "source": [
    "bob_results = exec_simulation(message, measurements)\n",
    "print(bob_results)"
   ]
  },
  {
   "cell_type": "markdown",
   "metadata": {},
   "source": [
    "Bob keeps his results private.\n",
    "\n",
    "| Alice's Knowledge | Over Eve's Channel | Bob's Knowledge |\n",
    "|:-----------------:|:------------------:|:---------------:|\n",
    "|     alice_bits    |                    |                 |\n",
    "|    alice_bases    |                    |                 |\n",
    "|      message      |       message      |     message     |\n",
    "|                   |                    |    bob_bases    |\n",
    "|                   |                    |   bob_results   |\n",
    "\n",
    "### 3.4 Step 4:\n",
    "\n",
    "After this, Alice reveals (through Eve's channel) which qubits were encoded in which basis: \n",
    "\n",
    "| Alice's Knowledge | Over Eve's Channel | Bob's Knowledge |\n",
    "|:-----------------:|:------------------:|:---------------:|\n",
    "|     alice_bits    |                    |                 |\n",
    "|    alice_bases    |                    |                 |\n",
    "|      message      |       message      |     message     |\n",
    "|                   |                    |    bob_bases    |\n",
    "|                   |                    |   bob_results   |\n",
    "|                   |     alice_bases    |   alice_bases   |\n",
    "\n",
    "And Bob reveals which basis he measured each qubit in:\n",
    "\n",
    "| Alice's Knowledge | Over Eve's Channel | Bob's Knowledge |\n",
    "|:-----------------:|:------------------:|:---------------:|\n",
    "|     alice_bits    |                    |                 |\n",
    "|    alice_bases    |                    |                 |\n",
    "|      message      |       message      |     message     |\n",
    "|                   |                    |    bob_bases    |\n",
    "|                   |                    |   bob_results   |\n",
    "|                   |     alice_bases    |   alice_bases   |\n",
    "|     bob_bases     |      bob_bases     |      &nbsp;     |\n",
    "\n",
    "If Bob happened to measure a bit in the same basis Alice prepared it in, this means the entry in `bob_results` will match the corresponding entry in `alice_bits`, and they can use that bit as part of their key. If they measured in different bases, Bob's result is random, and they both throw that entry away. Here is a function `remove_garbage` that does this for us:"
   ]
  },
  {
   "cell_type": "code",
   "execution_count": 21,
   "metadata": {
    "scrolled": true,
    "tags": [
     "thebelab-init"
    ]
   },
   "outputs": [],
   "source": [
    "def remove_garbage(a_bases, b_bases, bits):\n",
    "    good_bits = []\n",
    "    for q in range(n):\n",
    "        if a_bases[q] == b_bases[q]:\n",
    "            # If both used the same basis, add\n",
    "            # this to the list of 'good' bits\n",
    "            good_bits.append(bits[q])\n",
    "    return good_bits"
   ]
  },
  {
   "cell_type": "code",
   "execution_count": 22,
   "metadata": {},
   "outputs": [
    {
     "name": "stdout",
     "output_type": "stream",
     "text": [
      "[0, 1, 1, 0, 0, 0, 1, 1, 1, 0, 1, 0, 0, 0, 1, 0, 1, 0, 1, 0, 1, 0, 0, 0, 1, 0, 0, 1, 1, 1, 0, 1, 1, 0, 0, 0, 1, 1, 0, 0, 1, 0, 0, 1, 1, 1, 1, 0, 0, 1, 1, 1]\n"
     ]
    }
   ],
   "source": [
    "## Step 4\n",
    "alice_key = remove_garbage(alice_bases, bob_bases, alice_bits)\n",
    "print(alice_key)"
   ]
  },
  {
   "cell_type": "markdown",
   "metadata": {},
   "source": [
    "| Alice's Knowledge | Over Eve's Channel | Bob's Knowledge |\n",
    "|:-----------------:|:------------------:|:---------------:|\n",
    "|     alice_bits    |                    |                 |\n",
    "|    alice_bases    |                    |                 |\n",
    "|      message      |       message      |     message     |\n",
    "|                   |                    |    bob_bases    |\n",
    "|                   |                    |   bob_results   |\n",
    "|                   |     alice_bases    |   alice_bases   |\n",
    "|     bob_bases     |      bob_bases     |                 |\n",
    "|     alice_key     |                    |     &nbsp;      |"
   ]
  },
  {
   "cell_type": "code",
   "execution_count": 23,
   "metadata": {
    "scrolled": true
   },
   "outputs": [
    {
     "name": "stdout",
     "output_type": "stream",
     "text": [
      "[0, 1, 1, 0, 0, 0, 1, 1, 1, 0, 1, 0, 0, 0, 1, 0, 1, 0, 1, 0, 1, 0, 0, 0, 1, 0, 0, 1, 1, 1, 0, 1, 1, 0, 0, 0, 1, 1, 0, 0, 1, 0, 0, 1, 1, 1, 1, 0, 0, 1, 1, 1]\n"
     ]
    }
   ],
   "source": [
    "bob_key = remove_garbage(alice_bases, bob_bases, bob_results)\n",
    "print(bob_key)"
   ]
  },
  {
   "cell_type": "markdown",
   "metadata": {},
   "source": [
    "| Alice's Knowledge | Over Eve's Channel | Bob's Knowledge |\n",
    "|:-----------------:|:------------------:|:---------------:|\n",
    "|     alice_bits    |                    |                 |\n",
    "|    alice_bases    |                    |                 |\n",
    "|      message      |       message      |     message     |\n",
    "|                   |                    |    bob_bases    |\n",
    "|                   |                    |   bob_results   |\n",
    "|                   |     alice_bases    |   alice_bases   |\n",
    "|     bob_bases     |      bob_bases     |                 |\n",
    "|     alice_key     |                    |     bob_key     |"
   ]
  },
  {
   "cell_type": "markdown",
   "metadata": {},
   "source": [
    "### 3.5 Step 5:\n",
    "\n",
    "Finally, Bob and Alice compare a random selection of the bits in their keys to make sure the protocol has worked correctly:"
   ]
  },
  {
   "cell_type": "code",
   "execution_count": 24,
   "metadata": {
    "tags": [
     "thebelab-init"
    ]
   },
   "outputs": [],
   "source": [
    "def sample_bits(bits, selection):\n",
    "    sample = []\n",
    "    for i in selection:\n",
    "        # use np.mod to make sure the\n",
    "        # bit we sample is always in \n",
    "        # the list range\n",
    "        i = np.mod(i, len(bits))\n",
    "        # pop(i) removes the element of the\n",
    "        # list at index 'i'\n",
    "        sample.append(bits.pop(i))\n",
    "    return sample"
   ]
  },
  {
   "cell_type": "markdown",
   "metadata": {},
   "source": [
    "Alice and Bob both broadcast these publicly, and remove them from their keys as they are no longer secret:"
   ]
  },
  {
   "cell_type": "code",
   "execution_count": 25,
   "metadata": {},
   "outputs": [
    {
     "name": "stdout",
     "output_type": "stream",
     "text": [
      "  bob_sample = [1, 1, 1, 1, 0, 1, 0, 0, 0, 0, 1, 1, 1, 1, 0]\n",
      "alice_sample = [1, 1, 1, 1, 0, 1, 0, 0, 0, 0, 1, 1, 1, 1, 0]\n"
     ]
    }
   ],
   "source": [
    "## Step 5\n",
    "sample_size = 15\n",
    "bit_selection = randint(n, size=sample_size)\n",
    "\n",
    "bob_sample = sample_bits(bob_key, bit_selection)\n",
    "print(\"  bob_sample = \" + str(bob_sample))\n",
    "alice_sample = sample_bits(alice_key, bit_selection)\n",
    "print(\"alice_sample = \"+ str(alice_sample))"
   ]
  },
  {
   "cell_type": "markdown",
   "metadata": {},
   "source": [
    "| Alice's Knowledge | Over Eve's Channel | Bob's Knowledge |\n",
    "|:-----------------:|:------------------:|:---------------:|\n",
    "|     alice_bits    |                    |                 |\n",
    "|    alice_bases    |                    |                 |\n",
    "|      message      |       message      |     message     |\n",
    "|                   |                    |    bob_bases    |\n",
    "|                   |                    |   bob_results   |\n",
    "|                   |     alice_bases    |   alice_bases   |\n",
    "|     bob_bases     |      bob_bases     |                 |\n",
    "|     alice_key     |                    |     bob_key     |\n",
    "|     bob_sample    |     bob_sample     |    bob_sample   |\n",
    "|    alice_sample   |    alice_sample    |   alice_sample  |"
   ]
  },
  {
   "cell_type": "markdown",
   "metadata": {},
   "source": [
    "If the protocol has worked correctly without interference, their samples should match:"
   ]
  },
  {
   "cell_type": "code",
   "execution_count": 26,
   "metadata": {},
   "outputs": [
    {
     "data": {
      "text/plain": [
       "True"
      ]
     },
     "execution_count": 26,
     "metadata": {},
     "output_type": "execute_result"
    }
   ],
   "source": [
    "bob_sample == alice_sample"
   ]
  },
  {
   "cell_type": "markdown",
   "metadata": {},
   "source": [
    "If their samples match, it means (with high probability) `alice_key == bob_key`. They now share a secret key they can use to encrypt their messages!\n",
    "\n",
    "| Alice's Knowledge | Over Eve's Channel | Bob's Knowledge |\n",
    "|:-----------------:|:------------------:|:---------------:|\n",
    "|     alice_bits    |                    |                 |\n",
    "|    alice_bases    |                    |                 |\n",
    "|      message      |       message      |     message     |\n",
    "|                   |                    |    bob_bases    |\n",
    "|                   |                    |   bob_results   |\n",
    "|                   |     alice_bases    |   alice_bases   |\n",
    "|     bob_bases     |      bob_bases     |                 |\n",
    "|     alice_key     |                    |     bob_key     |\n",
    "|     bob_sample    |     bob_sample     |    bob_sample   |\n",
    "|    alice_sample   |    alice_sample    |   alice_sample  |\n",
    "|     shared_key    |                    |    shared_key   |"
   ]
  },
  {
   "cell_type": "code",
   "execution_count": 27,
   "metadata": {},
   "outputs": [
    {
     "name": "stdout",
     "output_type": "stream",
     "text": [
      "[1, 1, 0, 0, 0, 1, 0, 0, 1, 0, 1, 0, 1, 0, 0, 0, 1, 0, 1, 0, 1, 1, 0, 0, 0, 0, 0, 1, 0, 1, 1, 1, 0, 0, 1, 1, 1]\n",
      "[1, 1, 0, 0, 0, 1, 0, 0, 1, 0, 1, 0, 1, 0, 0, 0, 1, 0, 1, 0, 1, 1, 0, 0, 0, 0, 0, 1, 0, 1, 1, 1, 0, 0, 1, 1, 1]\n",
      "key length = 37\n"
     ]
    }
   ],
   "source": [
    "print(bob_key)\n",
    "print(alice_key)\n",
    "print(\"key length = %i\" % len(alice_key))"
   ]
  },
  {
   "cell_type": "code",
   "execution_count": 28,
   "metadata": {},
   "outputs": [
    {
     "name": "stdout",
     "output_type": "stream",
     "text": [
      "1100010010101000101011000001011100111\n"
     ]
    }
   ],
   "source": [
    "AKeStringInts = [str(int) for int in alice_key]\n",
    "Akey = \"\".join(AKeStringInts)\n",
    "print(Akey)"
   ]
  },
  {
   "cell_type": "code",
   "execution_count": 29,
   "metadata": {},
   "outputs": [
    {
     "name": "stdout",
     "output_type": "stream",
     "text": [
      "1100010010101000101011000001011100111\n"
     ]
    }
   ],
   "source": [
    "BKeStringInts = [str(int) for int in bob_key]\n",
    "Bkey = \"\".join(BKeStringInts)\n",
    "print(Bkey)"
   ]
  },
  {
   "cell_type": "code",
   "execution_count": 30,
   "metadata": {},
   "outputs": [
    {
     "name": "stdout",
     "output_type": "stream",
     "text": [
      "Tu mensaje supersecreto a ser comunicado es :  ....increible! CDMX es enorme!.....\n",
      "El tamaño inicial del mensaje secreto es:  105\n"
     ]
    }
   ],
   "source": [
    "#Super secret message\n",
    "mes = '....increible! CDMX es enorme!.....'\n",
    "print('Tu mensaje supersecreto a ser comunicado es : ',mes)\n",
    "\n",
    "#initial size of key\n",
    "n = len(mes)*3\n",
    "\n",
    "#break up message into smaller parts if length > 10\n",
    "nlist = []\n",
    "for i in range(int(n/10)):\n",
    "    nlist.append(10)\n",
    "if n%10 != 0:\n",
    "    nlist.append(n%10)\n",
    "\n",
    "print('El tamaño inicial del mensaje secreto es: ',n)"
   ]
  },
  {
   "cell_type": "code",
   "execution_count": 31,
   "metadata": {},
   "outputs": [
    {
     "name": "stdout",
     "output_type": "stream",
     "text": [
      "El mensaje codificado es:   ÉÐÃÒÇÉÄÌÇ£¦­ºÇÕÅÎÏÒÏÅ\n"
     ]
    }
   ],
   "source": [
    "#make key same length has message\n",
    "shortened_Akey = Akey[:len(mes)]\n",
    "encoded_m=''\n",
    "\n",
    "#encrypt message mes using encryption key final_key\n",
    "for m,k in zip(mes,shortened_Akey):\n",
    "    encoded_c = chr(ord(m) + 2*ord(k) % 256)\n",
    "    encoded_m += encoded_c\n",
    "print('El mensaje codificado es:  ',encoded_m)"
   ]
  },
  {
   "cell_type": "code",
   "execution_count": 32,
   "metadata": {},
   "outputs": [],
   "source": [
    "#### *************************************** ####\n",
    "# Aqui se envía el mensaje secreto codificado....\n",
    "#### *************************************** ####"
   ]
  },
  {
   "cell_type": "code",
   "execution_count": 33,
   "metadata": {},
   "outputs": [],
   "source": [
    "#make key same length has message\n",
    "shortened_Bkey = Bkey[:len(mes)]\n",
    "\n",
    "#decrypt message mes using encryption key final_key\n",
    "result = ''\n",
    "for m,k in zip(encoded_m,shortened_Bkey):\n",
    "    encoded_c = chr(ord(m) - 2*ord(k) % 256)\n",
    "    result += encoded_c\n",
    "    "
   ]
  },
  {
   "cell_type": "code",
   "execution_count": 34,
   "metadata": {},
   "outputs": [
    {
     "name": "stdout",
     "output_type": "stream",
     "text": [
      "recovered message: ....increible! CDMX es enorme!.....\n"
     ]
    }
   ],
   "source": [
    "print('recovered message:',result)"
   ]
  },
  {
   "cell_type": "code",
   "execution_count": 35,
   "metadata": {},
   "outputs": [
    {
     "data": {
      "text/html": [
       "<h3>Version Information</h3><table><tr><th>Qiskit Software</th><th>Version</th></tr><tr><td><code>qiskit-terra</code></td><td>0.22.2</td></tr><tr><td><code>qiskit-aer</code></td><td>0.11.1</td></tr><tr><td><code>qiskit-ibmq-provider</code></td><td>0.19.2</td></tr><tr><td><code>qiskit</code></td><td>0.39.2</td></tr><tr><td><code>qiskit-nature</code></td><td>0.5.0</td></tr><tr><td><code>qiskit-finance</code></td><td>0.3.4</td></tr><tr><td><code>qiskit-optimization</code></td><td>0.4.0</td></tr><tr><td><code>qiskit-machine-learning</code></td><td>0.5.0</td></tr><tr><th>System information</th></tr><tr><td>Python version</td><td>3.8.13</td></tr><tr><td>Python compiler</td><td>GCC 10.3.0</td></tr><tr><td>Python build</td><td>default, Mar 25 2022 06:04:10</td></tr><tr><td>OS</td><td>Linux</td></tr><tr><td>CPUs</td><td>8</td></tr><tr><td>Memory (Gb)</td><td>31.211326599121094</td></tr><tr><td colspan='2'>Fri Nov 18 02:34:56 2022 UTC</td></tr></table>"
      ],
      "text/plain": [
       "<IPython.core.display.HTML object>"
      ]
     },
     "metadata": {},
     "output_type": "display_data"
    }
   ],
   "source": [
    "import qiskit.tools.jupyter\n",
    "%qiskit_version_table"
   ]
  }
 ],
 "metadata": {
  "kernelspec": {
   "display_name": "Python 3 (ipykernel)",
   "language": "python",
   "name": "python3"
  },
  "language_info": {
   "codemirror_mode": {
    "name": "ipython",
    "version": 3
   },
   "file_extension": ".py",
   "mimetype": "text/x-python",
   "name": "python",
   "nbconvert_exporter": "python",
   "pygments_lexer": "ipython3",
   "version": "3.8.13"
  },
  "widgets": {
   "application/vnd.jupyter.widget-state+json": {
    "state": {
     "1366dc2ae4854f96a958565626c180b8": {
      "model_module": "@jupyter-widgets/base",
      "model_module_version": "1.2.0",
      "model_name": "LayoutModel",
      "state": {
       "margin": "0px 0px 0px 37px",
       "width": "600px"
      }
     },
     "1d5f2f87cb5748d4bb45c90c58b7dfba": {
      "model_module": "@jupyter-widgets/controls",
      "model_module_version": "1.5.0",
      "model_name": "DescriptionStyleModel",
      "state": {
       "description_width": ""
      }
     },
     "247930a72a894c9397f3a9dba756d627": {
      "model_module": "@jupyter-widgets/controls",
      "model_module_version": "1.5.0",
      "model_name": "ButtonModel",
      "state": {
       "button_style": "primary",
       "description": "Clear",
       "layout": "IPY_MODEL_a46b9b8dfc914cdba185e2937518195d",
       "style": "IPY_MODEL_7e8dc6196c6e4b22a5fa67202628783b"
      }
     },
     "32f1524ec90f461d911be3367c7663b7": {
      "model_module": "@jupyter-widgets/controls",
      "model_module_version": "1.5.0",
      "model_name": "HTMLModel",
      "state": {
       "layout": "IPY_MODEL_e6b8f1b262964056b65e9211078e2d0f",
       "style": "IPY_MODEL_cd026da72f514dc39a70b8da360c1429",
       "value": "<h5>Queue</h5>"
      }
     },
     "446a9935f51942e6b690a2b2cc8d5da3": {
      "model_module": "@jupyter-widgets/controls",
      "model_module_version": "1.5.0",
      "model_name": "HTMLModel",
      "state": {
       "layout": "IPY_MODEL_beddea0912294eaba98f2b795afc8a1a",
       "style": "IPY_MODEL_becda8a0606e43d08a91ca0a3b615956",
       "value": "<h5>Job ID</h5>"
      }
     },
     "502bf16dbbcc441b9be09b58aba1101d": {
      "model_module": "@jupyter-widgets/base",
      "model_module_version": "1.2.0",
      "model_name": "LayoutModel",
      "state": {}
     },
     "58ccea8b4c1a468e8a20f14ea475e3eb": {
      "model_module": "@jupyter-widgets/controls",
      "model_module_version": "1.5.0",
      "model_name": "DescriptionStyleModel",
      "state": {
       "description_width": ""
      }
     },
     "6241fed472214f56af562b22594547f2": {
      "model_module": "@jupyter-widgets/controls",
      "model_module_version": "1.5.0",
      "model_name": "HBoxModel",
      "state": {
       "children": [
        "IPY_MODEL_446a9935f51942e6b690a2b2cc8d5da3",
        "IPY_MODEL_b86657b59a6c48d6b6fa6e4e058720f5",
        "IPY_MODEL_f01bbdbcba6a443b977195cd64925d09",
        "IPY_MODEL_32f1524ec90f461d911be3367c7663b7",
        "IPY_MODEL_c41d23e5d39740c69ff5168116730e2c"
       ],
       "layout": "IPY_MODEL_1366dc2ae4854f96a958565626c180b8"
      }
     },
     "6c81f705a2bb4ee4a222edc40ebcbe88": {
      "model_module": "@jupyter-widgets/controls",
      "model_module_version": "1.5.0",
      "model_name": "DescriptionStyleModel",
      "state": {
       "description_width": ""
      }
     },
     "72763599102b45318d093d7d39e341e0": {
      "model_module": "@jupyter-widgets/base",
      "model_module_version": "1.2.0",
      "model_name": "LayoutModel",
      "state": {
       "width": "145px"
      }
     },
     "7e8dc6196c6e4b22a5fa67202628783b": {
      "model_module": "@jupyter-widgets/controls",
      "model_module_version": "1.5.0",
      "model_name": "ButtonStyleModel",
      "state": {}
     },
     "8a2047f65e22437caa0256a8454dbae5": {
      "model_module": "@jupyter-widgets/controls",
      "model_module_version": "1.5.0",
      "model_name": "GridBoxModel",
      "state": {
       "children": [
        "IPY_MODEL_247930a72a894c9397f3a9dba756d627"
       ],
       "layout": "IPY_MODEL_e282a78e05c9411495251721525d14d5"
      }
     },
     "923a71624a084012959900d794babc01": {
      "model_module": "@jupyter-widgets/controls",
      "model_module_version": "1.5.0",
      "model_name": "DescriptionStyleModel",
      "state": {
       "description_width": ""
      }
     },
     "a46b9b8dfc914cdba185e2937518195d": {
      "model_module": "@jupyter-widgets/base",
      "model_module_version": "1.2.0",
      "model_name": "LayoutModel",
      "state": {
       "grid_area": "right",
       "padding": "0px 0px 0px 0px",
       "width": "70px"
      }
     },
     "b86657b59a6c48d6b6fa6e4e058720f5": {
      "model_module": "@jupyter-widgets/controls",
      "model_module_version": "1.5.0",
      "model_name": "HTMLModel",
      "state": {
       "layout": "IPY_MODEL_72763599102b45318d093d7d39e341e0",
       "style": "IPY_MODEL_58ccea8b4c1a468e8a20f14ea475e3eb",
       "value": "<h5>Backend</h5>"
      }
     },
     "becda8a0606e43d08a91ca0a3b615956": {
      "model_module": "@jupyter-widgets/controls",
      "model_module_version": "1.5.0",
      "model_name": "DescriptionStyleModel",
      "state": {
       "description_width": ""
      }
     },
     "beddea0912294eaba98f2b795afc8a1a": {
      "model_module": "@jupyter-widgets/base",
      "model_module_version": "1.2.0",
      "model_name": "LayoutModel",
      "state": {
       "width": "190px"
      }
     },
     "c41d23e5d39740c69ff5168116730e2c": {
      "model_module": "@jupyter-widgets/controls",
      "model_module_version": "1.5.0",
      "model_name": "HTMLModel",
      "state": {
       "layout": "IPY_MODEL_502bf16dbbcc441b9be09b58aba1101d",
       "style": "IPY_MODEL_1d5f2f87cb5748d4bb45c90c58b7dfba",
       "value": "<h5>Message</h5>"
      }
     },
     "cd026da72f514dc39a70b8da360c1429": {
      "model_module": "@jupyter-widgets/controls",
      "model_module_version": "1.5.0",
      "model_name": "DescriptionStyleModel",
      "state": {
       "description_width": ""
      }
     },
     "d33db2ad4e38457f9f6f175a3d6e3020": {
      "model_module": "@jupyter-widgets/controls",
      "model_module_version": "1.5.0",
      "model_name": "HTMLModel",
      "state": {
       "layout": "IPY_MODEL_ede59c278f774db3aea339e3ac7f49ce",
       "style": "IPY_MODEL_6c81f705a2bb4ee4a222edc40ebcbe88",
       "value": "<p style='font-family: IBM Plex Sans, Arial, Helvetica, sans-serif; font-size: 20px; font-weight: medium;'>Circuit Properties</p>"
      }
     },
     "e282a78e05c9411495251721525d14d5": {
      "model_module": "@jupyter-widgets/base",
      "model_module_version": "1.2.0",
      "model_name": "LayoutModel",
      "state": {
       "grid_template_areas": "\n                                       \". . . . right \"\n                                        ",
       "grid_template_columns": "20% 20% 20% 20% 20%",
       "width": "100%"
      }
     },
     "e6b8f1b262964056b65e9211078e2d0f": {
      "model_module": "@jupyter-widgets/base",
      "model_module_version": "1.2.0",
      "model_name": "LayoutModel",
      "state": {
       "width": "70px"
      }
     },
     "ede59c278f774db3aea339e3ac7f49ce": {
      "model_module": "@jupyter-widgets/base",
      "model_module_version": "1.2.0",
      "model_name": "LayoutModel",
      "state": {
       "margin": "0px 0px 10px 0px"
      }
     },
     "f01bbdbcba6a443b977195cd64925d09": {
      "model_module": "@jupyter-widgets/controls",
      "model_module_version": "1.5.0",
      "model_name": "HTMLModel",
      "state": {
       "layout": "IPY_MODEL_fd287203166a4fe69f6e46ceff250537",
       "style": "IPY_MODEL_923a71624a084012959900d794babc01",
       "value": "<h5>Status</h5>"
      }
     },
     "fd287203166a4fe69f6e46ceff250537": {
      "model_module": "@jupyter-widgets/base",
      "model_module_version": "1.2.0",
      "model_name": "LayoutModel",
      "state": {
       "width": "95px"
      }
     }
    },
    "version_major": 2,
    "version_minor": 0
   }
  }
 },
 "nbformat": 4,
 "nbformat_minor": 4
}
