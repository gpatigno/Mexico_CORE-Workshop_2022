{
 "cells": [
  {
   "cell_type": "code",
   "execution_count": 1,
   "metadata": {},
   "outputs": [],
   "source": [
    "#****************************************************************************************************#\n",
    "# Implementación de los circuitos cuánticos de los Estados de Bell en la plataforma Qiskit de IBM.\n",
    "#****************************************************************************************************#\n",
    "\n",
    "#****************************************************************************************************#\n",
    "# Para esta implementación se ha tenido en cuenta la descripción del circuito dada en el siguiente \n",
    "# tutorial del libro de Qiskit:\n",
    "# https://qiskit.org/textbook/ch-gates/multiple-qubits-entangled-states.html\n",
    "#****************************************************************************************************#\n",
    "\n",
    "#****************************************************************************************************#\n",
    "# Taller de Computación Cuántica\n",
    "# Prof. Gustavo Patino (adolfo.patino@udea.edu.co)\n",
    "# CORE 2022\n",
    "# CIC - IPN \n",
    "# Ciudad de México - México\n",
    "# Septiembre del 2022\n",
    "#****************************************************************************************************#"
   ]
  },
  {
   "cell_type": "code",
   "execution_count": 2,
   "metadata": {},
   "outputs": [],
   "source": [
    "%matplotlib inline\n",
    "# Importing standard Qiskit libraries and configuring account\n",
    "from qiskit import QuantumCircuit, execute, Aer, IBMQ, QuantumRegister, ClassicalRegister\n",
    "from qiskit.compiler import transpile, assemble\n",
    "from qiskit.tools.jupyter import *\n",
    "from qiskit.visualization import *"
   ]
  },
  {
   "cell_type": "code",
   "execution_count": 3,
   "metadata": {},
   "outputs": [],
   "source": [
    "# Descomente la siguiente linea si desea ver las imágenes más grandes.\n",
    "%config InlineBackend.figure_format = 'svg' # Makes the images look nice"
   ]
  },
  {
   "cell_type": "code",
   "execution_count": null,
   "metadata": {},
   "outputs": [],
   "source": [
    "# Loading your IBM Q account(s)\n",
    "#IBMQ.load_account()\n",
    "#provider = IBMQ.get_provider(hub='ibm-q-education')\n",
    "#backend =provider.get_backend('ibmq_qasm_simulator')\n",
    "#backend = Aer.get_backend('aer_simulator')"
   ]
  },
  {
   "cell_type": "code",
   "execution_count": null,
   "metadata": {},
   "outputs": [],
   "source": [
    "# First, see what devices we are allowed to use by loading our saved accounts\n",
    "IBMQ.load_account()\n",
    "provider = IBMQ.get_provider(hub='ibm-q-education', group='uni-antioquia-1', project='qc2021')\n",
    "backend = provider.get_backend('ibm_nairobi') # Maquina reservada temporalmente"
   ]
  },
  {
   "cell_type": "code",
   "execution_count": null,
   "metadata": {},
   "outputs": [],
   "source": [
    "qreg_q = QuantumRegister(2, 'q')\n",
    "creg_c = ClassicalRegister(2, 'c')\n",
    "circuit = QuantumCircuit(qreg_q, creg_c)"
   ]
  },
  {
   "cell_type": "code",
   "execution_count": null,
   "metadata": {},
   "outputs": [],
   "source": [
    "circuit.reset(qreg_q[0])\n",
    "circuit.x(qreg_q[0])\n",
    "circuit.reset(qreg_q[1])\n",
    "circuit.h(qreg_q[0])\n",
    "circuit.cx(qreg_q[0], qreg_q[1])"
   ]
  },
  {
   "cell_type": "code",
   "execution_count": null,
   "metadata": {},
   "outputs": [],
   "source": [
    "circuit.draw('mpl')"
   ]
  },
  {
   "cell_type": "code",
   "execution_count": null,
   "metadata": {},
   "outputs": [],
   "source": [
    "circuit.save_statevector()\n",
    "qobj = assemble(circuit)\n",
    "final_state = backend.run(qobj).result().get_statevector()\n",
    "\n",
    "# In Jupyter Notebooks we can display this nicely using Latex.\n",
    "# If not using Jupyter Notebooks you may need to remove the \n",
    "# array_to_latex function and use print(final_state) instead.\n",
    "from qiskit.visualization import array_to_latex\n",
    "array_to_latex(final_state, prefix=\"\\\\text{Statevector} = \")"
   ]
  },
  {
   "cell_type": "code",
   "execution_count": null,
   "metadata": {},
   "outputs": [],
   "source": [
    "circuit.measure(qreg_q[0], creg_c[0])\n",
    "circuit.measure(qreg_q[1], creg_c[1])"
   ]
  },
  {
   "cell_type": "code",
   "execution_count": null,
   "metadata": {},
   "outputs": [],
   "source": [
    "shots = 8192\n",
    "job = execute(circuit, backend=backend, shots=shots)\n",
    "result = job.result()"
   ]
  },
  {
   "cell_type": "code",
   "execution_count": null,
   "metadata": {},
   "outputs": [],
   "source": [
    "counts = result.get_counts(circuit)\n",
    "print(counts)"
   ]
  },
  {
   "cell_type": "code",
   "execution_count": null,
   "metadata": {},
   "outputs": [],
   "source": [
    "plot_histogram(counts)"
   ]
  },
  {
   "cell_type": "code",
   "execution_count": null,
   "metadata": {},
   "outputs": [],
   "source": [
    "import qiskit.tools.jupyter\n",
    "%qiskit_version_table\n",
    "%qiskit_copyright"
   ]
  },
  {
   "cell_type": "code",
   "execution_count": null,
   "metadata": {},
   "outputs": [],
   "source": []
  }
 ],
 "metadata": {
  "kernelspec": {
   "display_name": "Python 3 (ipykernel)",
   "language": "python",
   "name": "python3"
  },
  "language_info": {
   "codemirror_mode": {
    "name": "ipython",
    "version": 3
   },
   "file_extension": ".py",
   "mimetype": "text/x-python",
   "name": "python",
   "nbconvert_exporter": "python",
   "pygments_lexer": "ipython3",
   "version": "3.8.13"
  },
  "widgets": {
   "application/vnd.jupyter.widget-state+json": {
    "state": {
     "0532547d997a4dedaea31177cd946ae6": {
      "model_module": "@jupyter-widgets/controls",
      "model_module_version": "1.5.0",
      "model_name": "HTMLModel",
      "state": {
       "layout": "IPY_MODEL_e4dd6f1ab2404d4ea2c723892d51e8dc",
       "style": "IPY_MODEL_542cf67b9dd44932ac14e2c65df22e30",
       "value": "<h5>Message</h5>"
      }
     },
     "1065be057f814221a5f79219ed5856cb": {
      "model_module": "@jupyter-widgets/controls",
      "model_module_version": "1.5.0",
      "model_name": "HTMLModel",
      "state": {
       "layout": "IPY_MODEL_87e89eb4a13a4d8aaebfa329625e436f",
       "style": "IPY_MODEL_10d03645a4444d728b26de01b74d8054",
       "value": "<h5>Queue</h5>"
      }
     },
     "10d03645a4444d728b26de01b74d8054": {
      "model_module": "@jupyter-widgets/controls",
      "model_module_version": "1.5.0",
      "model_name": "DescriptionStyleModel",
      "state": {
       "description_width": ""
      }
     },
     "1e5f136829cb4ec28bed3fda2ffae6c6": {
      "model_module": "@jupyter-widgets/controls",
      "model_module_version": "1.5.0",
      "model_name": "ButtonStyleModel",
      "state": {}
     },
     "31a9c9e0bfa34137a8fa0d39831f8107": {
      "model_module": "@jupyter-widgets/controls",
      "model_module_version": "1.5.0",
      "model_name": "GridBoxModel",
      "state": {
       "children": [
        "IPY_MODEL_f2e7d5bb54d4476da6762e9a029bc3ec"
       ],
       "layout": "IPY_MODEL_3cb03994f00344d1a02918eeaf32c44e"
      }
     },
     "3a519ab5801c4438933ee9ba9dd3d299": {
      "model_module": "@jupyter-widgets/controls",
      "model_module_version": "1.5.0",
      "model_name": "HBoxModel",
      "state": {
       "children": [
        "IPY_MODEL_e2ecb7c7bf9e4e84b32d3ea9e42c3e86",
        "IPY_MODEL_cad65957097a4d69814e56560030ef4f",
        "IPY_MODEL_8372f85122704fd3b15a4ec6a034cfa1",
        "IPY_MODEL_1065be057f814221a5f79219ed5856cb",
        "IPY_MODEL_0532547d997a4dedaea31177cd946ae6"
       ],
       "layout": "IPY_MODEL_64356b92a4154c9c8adfdb79240c3450"
      }
     },
     "3b12cfaf501a42cd8778e071ecb17131": {
      "model_module": "@jupyter-widgets/controls",
      "model_module_version": "1.5.0",
      "model_name": "DescriptionStyleModel",
      "state": {
       "description_width": ""
      }
     },
     "3cb03994f00344d1a02918eeaf32c44e": {
      "model_module": "@jupyter-widgets/base",
      "model_module_version": "1.2.0",
      "model_name": "LayoutModel",
      "state": {
       "grid_template_areas": "\n                                       \". . . . right \"\n                                        ",
       "grid_template_columns": "20% 20% 20% 20% 20%",
       "width": "100%"
      }
     },
     "4016a4913f7548978c1bcef27d3e9866": {
      "model_module": "@jupyter-widgets/controls",
      "model_module_version": "1.5.0",
      "model_name": "DescriptionStyleModel",
      "state": {
       "description_width": ""
      }
     },
     "4fe939402224472399f0766f1a143e38": {
      "model_module": "@jupyter-widgets/base",
      "model_module_version": "1.2.0",
      "model_name": "LayoutModel",
      "state": {
       "width": "95px"
      }
     },
     "5039cdf0b4c84932a4765a67efe12999": {
      "model_module": "@jupyter-widgets/controls",
      "model_module_version": "1.5.0",
      "model_name": "DescriptionStyleModel",
      "state": {
       "description_width": ""
      }
     },
     "542cf67b9dd44932ac14e2c65df22e30": {
      "model_module": "@jupyter-widgets/controls",
      "model_module_version": "1.5.0",
      "model_name": "DescriptionStyleModel",
      "state": {
       "description_width": ""
      }
     },
     "64356b92a4154c9c8adfdb79240c3450": {
      "model_module": "@jupyter-widgets/base",
      "model_module_version": "1.2.0",
      "model_name": "LayoutModel",
      "state": {
       "margin": "0px 0px 0px 37px",
       "width": "600px"
      }
     },
     "8372f85122704fd3b15a4ec6a034cfa1": {
      "model_module": "@jupyter-widgets/controls",
      "model_module_version": "1.5.0",
      "model_name": "HTMLModel",
      "state": {
       "layout": "IPY_MODEL_4fe939402224472399f0766f1a143e38",
       "style": "IPY_MODEL_3b12cfaf501a42cd8778e071ecb17131",
       "value": "<h5>Status</h5>"
      }
     },
     "87e89eb4a13a4d8aaebfa329625e436f": {
      "model_module": "@jupyter-widgets/base",
      "model_module_version": "1.2.0",
      "model_name": "LayoutModel",
      "state": {
       "width": "70px"
      }
     },
     "9d158e1125704473ba2ff8c6c28a0a48": {
      "model_module": "@jupyter-widgets/base",
      "model_module_version": "1.2.0",
      "model_name": "LayoutModel",
      "state": {
       "width": "145px"
      }
     },
     "b294f6536c0a4205a10dd9126b9e1bc3": {
      "model_module": "@jupyter-widgets/base",
      "model_module_version": "1.2.0",
      "model_name": "LayoutModel",
      "state": {
       "width": "190px"
      }
     },
     "c40a5d74afdc476d99aa78c3eaf404bd": {
      "model_module": "@jupyter-widgets/base",
      "model_module_version": "1.2.0",
      "model_name": "LayoutModel",
      "state": {
       "margin": "0px 0px 10px 0px"
      }
     },
     "c6cf7c7cff84441fb2464b61a23b9134": {
      "model_module": "@jupyter-widgets/controls",
      "model_module_version": "1.5.0",
      "model_name": "HTMLModel",
      "state": {
       "layout": "IPY_MODEL_c40a5d74afdc476d99aa78c3eaf404bd",
       "style": "IPY_MODEL_4016a4913f7548978c1bcef27d3e9866",
       "value": "<p style='font-family: IBM Plex Sans, Arial, Helvetica, sans-serif; font-size: 20px; font-weight: medium;'>Circuit Properties</p>"
      }
     },
     "cad65957097a4d69814e56560030ef4f": {
      "model_module": "@jupyter-widgets/controls",
      "model_module_version": "1.5.0",
      "model_name": "HTMLModel",
      "state": {
       "layout": "IPY_MODEL_9d158e1125704473ba2ff8c6c28a0a48",
       "style": "IPY_MODEL_5039cdf0b4c84932a4765a67efe12999",
       "value": "<h5>Backend</h5>"
      }
     },
     "d45954221f464263b9c09d489194db09": {
      "model_module": "@jupyter-widgets/base",
      "model_module_version": "1.2.0",
      "model_name": "LayoutModel",
      "state": {
       "grid_area": "right",
       "padding": "0px 0px 0px 0px",
       "width": "70px"
      }
     },
     "e2ecb7c7bf9e4e84b32d3ea9e42c3e86": {
      "model_module": "@jupyter-widgets/controls",
      "model_module_version": "1.5.0",
      "model_name": "HTMLModel",
      "state": {
       "layout": "IPY_MODEL_b294f6536c0a4205a10dd9126b9e1bc3",
       "style": "IPY_MODEL_e787de38f00347a2888c12965b9c4876",
       "value": "<h5>Job ID</h5>"
      }
     },
     "e4dd6f1ab2404d4ea2c723892d51e8dc": {
      "model_module": "@jupyter-widgets/base",
      "model_module_version": "1.2.0",
      "model_name": "LayoutModel",
      "state": {}
     },
     "e787de38f00347a2888c12965b9c4876": {
      "model_module": "@jupyter-widgets/controls",
      "model_module_version": "1.5.0",
      "model_name": "DescriptionStyleModel",
      "state": {
       "description_width": ""
      }
     },
     "f2e7d5bb54d4476da6762e9a029bc3ec": {
      "model_module": "@jupyter-widgets/controls",
      "model_module_version": "1.5.0",
      "model_name": "ButtonModel",
      "state": {
       "button_style": "primary",
       "description": "Clear",
       "layout": "IPY_MODEL_d45954221f464263b9c09d489194db09",
       "style": "IPY_MODEL_1e5f136829cb4ec28bed3fda2ffae6c6"
      }
     }
    },
    "version_major": 2,
    "version_minor": 0
   }
  }
 },
 "nbformat": 4,
 "nbformat_minor": 4
}
