{
 "cells": [
  {
   "cell_type": "markdown",
   "metadata": {
    "id": "msMIDAMIMdej"
   },
   "source": [
    "# Book: Hands-On-Quantum-Machine-Learning-With-Python-Vol-1\n",
    "# Chapter 2\n",
    "\n",
    "################################################\n",
    "## 1. Look at the data\n",
    "################################################\n"
   ]
  },
  {
   "cell_type": "code",
   "execution_count": 1,
   "metadata": {},
   "outputs": [],
   "source": [
    "import sys\n",
    "sys.path.insert(0, '..')"
   ]
  },
  {
   "cell_type": "code",
   "execution_count": 2,
   "metadata": {
    "executionInfo": {
     "elapsed": 764,
     "status": "ok",
     "timestamp": 1647611985584,
     "user": {
      "displayName": "GUSTAVO ADOLFO PATIÑO ALVAREZ",
      "photoUrl": "https://lh3.googleusercontent.com/a-/AOh14GieSUQzF1vNVYjcMUZgrtxqAu0TcXwUtMBe44CUwBOW-bk3mEezr-XmVi0ZK8noQUcqQESH8607oqnn7eKdDGzTF--XuISzdvm8X4MkAYW0Ufoi61dZPOCqBwU_yBH21FI9dh3fcBIRjmlSrIvvm6ZZl-5g0YNMZqW4eIxWa0hTNfomlFAcHHaquQ8TYKoT9-csEJYLRQVhktcfek9Vx3o6QNhfcHPOkzHQ1xrGBd1F7kw-FUohyEP7585HRH-JUvAr2Lva8apRMJ5cwaRFOCzWtSvl633xlUtyQuxeO2ZsWacYxNVE10WjyRlzVTyFpEoikaN_248A6gotKCBNCnq1U4MuhdURb8ni9mi1nxrylMooE8zbFvBalDHqGW04tgLZq30cD8-g7dogr8xVsLRJ1hesGtJFka4TktSKxLanKkN-kQpRpV1DZSfKLCMsZ25gXd6qFbZ_9UPM1TIGn2EqurdNpbl1GxDH6zXknTyE9rzacVXTyhzK7Y6inYpX4myYbwX1zgnQSTTuvNl3svFHgIq0jCGutyrO5nj0-u5wUs5yY2crPGXPj5on1QK6iFVx6NhF2jOsQH-GJoP37N3yXIlHThuLTZHtmtLyNOfpZ42yVmq5S5zc-6IyZDVdBsCGATnUX7TZvURhysLCpRswu5NBRlJw5VxXxn_O6GV2KYYl4vgJPfPsw51OM0KmRWLVxzvtiBhFT9JyhnXvGxDpTo9Zu96fjGDemhis9_Q9_iv2MNU2g6AG_gGY_0cwO49mIMQ=s64",
      "userId": "13728227204889328138"
     },
     "user_tz": 300
    },
    "id": "wqO2N-xuMden"
   },
   "outputs": [],
   "source": [
    "# Listing 2.1: Load the data from the csv‐files\n",
    "import pandas as pd\n",
    "\n",
    "test = pd.read_csv('../QML/data/test.csv')\n",
    "train = pd.read_csv('../QML/data/train.csv')"
   ]
  },
  {
   "cell_type": "code",
   "execution_count": 3,
   "metadata": {
    "colab": {
     "base_uri": "https://localhost:8080/"
    },
    "executionInfo": {
     "elapsed": 23,
     "status": "ok",
     "timestamp": 1647611985588,
     "user": {
      "displayName": "GUSTAVO ADOLFO PATIÑO ALVAREZ",
      "photoUrl": "https://lh3.googleusercontent.com/a-/AOh14GieSUQzF1vNVYjcMUZgrtxqAu0TcXwUtMBe44CUwBOW-bk3mEezr-XmVi0ZK8noQUcqQESH8607oqnn7eKdDGzTF--XuISzdvm8X4MkAYW0Ufoi61dZPOCqBwU_yBH21FI9dh3fcBIRjmlSrIvvm6ZZl-5g0YNMZqW4eIxWa0hTNfomlFAcHHaquQ8TYKoT9-csEJYLRQVhktcfek9Vx3o6QNhfcHPOkzHQ1xrGBd1F7kw-FUohyEP7585HRH-JUvAr2Lva8apRMJ5cwaRFOCzWtSvl633xlUtyQuxeO2ZsWacYxNVE10WjyRlzVTyFpEoikaN_248A6gotKCBNCnq1U4MuhdURb8ni9mi1nxrylMooE8zbFvBalDHqGW04tgLZq30cD8-g7dogr8xVsLRJ1hesGtJFka4TktSKxLanKkN-kQpRpV1DZSfKLCMsZ25gXd6qFbZ_9UPM1TIGn2EqurdNpbl1GxDH6zXknTyE9rzacVXTyhzK7Y6inYpX4myYbwX1zgnQSTTuvNl3svFHgIq0jCGutyrO5nj0-u5wUs5yY2crPGXPj5on1QK6iFVx6NhF2jOsQH-GJoP37N3yXIlHThuLTZHtmtLyNOfpZ42yVmq5S5zc-6IyZDVdBsCGATnUX7TZvURhysLCpRswu5NBRlJw5VxXxn_O6GV2KYYl4vgJPfPsw51OM0KmRWLVxzvtiBhFT9JyhnXvGxDpTo9Zu96fjGDemhis9_Q9_iv2MNU2g6AG_gGY_0cwO49mIMQ=s64",
      "userId": "13728227204889328138"
     },
     "user_tz": 300
    },
    "id": "-G_OwRb1Mdep",
    "outputId": "4ac38787-1a25-466b-d7b5-23d5785fdde6",
    "tags": []
   },
   "outputs": [
    {
     "name": "stdout",
     "output_type": "stream",
     "text": [
      "train has 891 rows and 12 columns\n",
      "test has 418 rows and 11 columns\n"
     ]
    }
   ],
   "source": [
    "# Listing 2.2: The shapes of the Titanic datasets\n",
    "print('train has {} rows and {} columns'.format(*train.shape))\n",
    "print('test has {} rows and {} columns'.format(*test.shape))"
   ]
  },
  {
   "cell_type": "code",
   "execution_count": 4,
   "metadata": {
    "colab": {
     "base_uri": "https://localhost:8080/"
    },
    "executionInfo": {
     "elapsed": 22,
     "status": "ok",
     "timestamp": 1647611985590,
     "user": {
      "displayName": "GUSTAVO ADOLFO PATIÑO ALVAREZ",
      "photoUrl": "https://lh3.googleusercontent.com/a-/AOh14GieSUQzF1vNVYjcMUZgrtxqAu0TcXwUtMBe44CUwBOW-bk3mEezr-XmVi0ZK8noQUcqQESH8607oqnn7eKdDGzTF--XuISzdvm8X4MkAYW0Ufoi61dZPOCqBwU_yBH21FI9dh3fcBIRjmlSrIvvm6ZZl-5g0YNMZqW4eIxWa0hTNfomlFAcHHaquQ8TYKoT9-csEJYLRQVhktcfek9Vx3o6QNhfcHPOkzHQ1xrGBd1F7kw-FUohyEP7585HRH-JUvAr2Lva8apRMJ5cwaRFOCzWtSvl633xlUtyQuxeO2ZsWacYxNVE10WjyRlzVTyFpEoikaN_248A6gotKCBNCnq1U4MuhdURb8ni9mi1nxrylMooE8zbFvBalDHqGW04tgLZq30cD8-g7dogr8xVsLRJ1hesGtJFka4TktSKxLanKkN-kQpRpV1DZSfKLCMsZ25gXd6qFbZ_9UPM1TIGn2EqurdNpbl1GxDH6zXknTyE9rzacVXTyhzK7Y6inYpX4myYbwX1zgnQSTTuvNl3svFHgIq0jCGutyrO5nj0-u5wUs5yY2crPGXPj5on1QK6iFVx6NhF2jOsQH-GJoP37N3yXIlHThuLTZHtmtLyNOfpZ42yVmq5S5zc-6IyZDVdBsCGATnUX7TZvURhysLCpRswu5NBRlJw5VxXxn_O6GV2KYYl4vgJPfPsw51OM0KmRWLVxzvtiBhFT9JyhnXvGxDpTo9Zu96fjGDemhis9_Q9_iv2MNU2g6AG_gGY_0cwO49mIMQ=s64",
      "userId": "13728227204889328138"
     },
     "user_tz": 300
    },
    "id": "oNu0VNBaMdeq",
    "outputId": "6afda95b-ffcd-446e-ed36-3c90c74129be",
    "tags": []
   },
   "outputs": [
    {
     "name": "stdout",
     "output_type": "stream",
     "text": [
      "<class 'pandas.core.frame.DataFrame'>\n",
      "RangeIndex: 891 entries, 0 to 890\n",
      "Data columns (total 12 columns):\n",
      " #   Column       Non-Null Count  Dtype  \n",
      "---  ------       --------------  -----  \n",
      " 0   PassengerId  891 non-null    int64  \n",
      " 1   Survived     891 non-null    int64  \n",
      " 2   Pclass       891 non-null    int64  \n",
      " 3   Name         891 non-null    object \n",
      " 4   Sex          891 non-null    object \n",
      " 5   Age          714 non-null    float64\n",
      " 6   SibSp        891 non-null    int64  \n",
      " 7   Parch        891 non-null    int64  \n",
      " 8   Ticket       891 non-null    object \n",
      " 9   Fare         891 non-null    float64\n",
      " 10  Cabin        204 non-null    object \n",
      " 11  Embarked     889 non-null    object \n",
      "dtypes: float64(2), int64(5), object(5)\n",
      "memory usage: 83.7+ KB\n"
     ]
    }
   ],
   "source": [
    "# Listing 2.3: The structure of the train dataset\n",
    "train.info()"
   ]
  },
  {
   "cell_type": "code",
   "execution_count": 5,
   "metadata": {
    "colab": {
     "base_uri": "https://localhost:8080/"
    },
    "executionInfo": {
     "elapsed": 19,
     "status": "ok",
     "timestamp": 1647611985591,
     "user": {
      "displayName": "GUSTAVO ADOLFO PATIÑO ALVAREZ",
      "photoUrl": "https://lh3.googleusercontent.com/a-/AOh14GieSUQzF1vNVYjcMUZgrtxqAu0TcXwUtMBe44CUwBOW-bk3mEezr-XmVi0ZK8noQUcqQESH8607oqnn7eKdDGzTF--XuISzdvm8X4MkAYW0Ufoi61dZPOCqBwU_yBH21FI9dh3fcBIRjmlSrIvvm6ZZl-5g0YNMZqW4eIxWa0hTNfomlFAcHHaquQ8TYKoT9-csEJYLRQVhktcfek9Vx3o6QNhfcHPOkzHQ1xrGBd1F7kw-FUohyEP7585HRH-JUvAr2Lva8apRMJ5cwaRFOCzWtSvl633xlUtyQuxeO2ZsWacYxNVE10WjyRlzVTyFpEoikaN_248A6gotKCBNCnq1U4MuhdURb8ni9mi1nxrylMooE8zbFvBalDHqGW04tgLZq30cD8-g7dogr8xVsLRJ1hesGtJFka4TktSKxLanKkN-kQpRpV1DZSfKLCMsZ25gXd6qFbZ_9UPM1TIGn2EqurdNpbl1GxDH6zXknTyE9rzacVXTyhzK7Y6inYpX4myYbwX1zgnQSTTuvNl3svFHgIq0jCGutyrO5nj0-u5wUs5yY2crPGXPj5on1QK6iFVx6NhF2jOsQH-GJoP37N3yXIlHThuLTZHtmtLyNOfpZ42yVmq5S5zc-6IyZDVdBsCGATnUX7TZvURhysLCpRswu5NBRlJw5VxXxn_O6GV2KYYl4vgJPfPsw51OM0KmRWLVxzvtiBhFT9JyhnXvGxDpTo9Zu96fjGDemhis9_Q9_iv2MNU2g6AG_gGY_0cwO49mIMQ=s64",
      "userId": "13728227204889328138"
     },
     "user_tz": 300
    },
    "id": "ttZxa9JFMder",
    "outputId": "c174b1dc-af6f-4181-bf24-cdb94b527f9a",
    "tags": []
   },
   "outputs": [
    {
     "name": "stdout",
     "output_type": "stream",
     "text": [
      "<class 'pandas.core.frame.DataFrame'>\n",
      "RangeIndex: 418 entries, 0 to 417\n",
      "Data columns (total 11 columns):\n",
      " #   Column       Non-Null Count  Dtype  \n",
      "---  ------       --------------  -----  \n",
      " 0   PassengerId  418 non-null    int64  \n",
      " 1   Pclass       418 non-null    int64  \n",
      " 2   Name         418 non-null    object \n",
      " 3   Sex          418 non-null    object \n",
      " 4   Age          332 non-null    float64\n",
      " 5   SibSp        418 non-null    int64  \n",
      " 6   Parch        418 non-null    int64  \n",
      " 7   Ticket       418 non-null    object \n",
      " 8   Fare         417 non-null    float64\n",
      " 9   Cabin        91 non-null     object \n",
      " 10  Embarked     418 non-null    object \n",
      "dtypes: float64(2), int64(4), object(5)\n",
      "memory usage: 36.0+ KB\n"
     ]
    }
   ],
   "source": [
    "# Listing 2.4: The structure of the test dataset\n",
    "test.info()"
   ]
  },
  {
   "cell_type": "code",
   "execution_count": 6,
   "metadata": {
    "colab": {
     "base_uri": "https://localhost:8080/",
     "height": 206
    },
    "executionInfo": {
     "elapsed": 16,
     "status": "ok",
     "timestamp": 1647611985592,
     "user": {
      "displayName": "GUSTAVO ADOLFO PATIÑO ALVAREZ",
      "photoUrl": "https://lh3.googleusercontent.com/a-/AOh14GieSUQzF1vNVYjcMUZgrtxqAu0TcXwUtMBe44CUwBOW-bk3mEezr-XmVi0ZK8noQUcqQESH8607oqnn7eKdDGzTF--XuISzdvm8X4MkAYW0Ufoi61dZPOCqBwU_yBH21FI9dh3fcBIRjmlSrIvvm6ZZl-5g0YNMZqW4eIxWa0hTNfomlFAcHHaquQ8TYKoT9-csEJYLRQVhktcfek9Vx3o6QNhfcHPOkzHQ1xrGBd1F7kw-FUohyEP7585HRH-JUvAr2Lva8apRMJ5cwaRFOCzWtSvl633xlUtyQuxeO2ZsWacYxNVE10WjyRlzVTyFpEoikaN_248A6gotKCBNCnq1U4MuhdURb8ni9mi1nxrylMooE8zbFvBalDHqGW04tgLZq30cD8-g7dogr8xVsLRJ1hesGtJFka4TktSKxLanKkN-kQpRpV1DZSfKLCMsZ25gXd6qFbZ_9UPM1TIGn2EqurdNpbl1GxDH6zXknTyE9rzacVXTyhzK7Y6inYpX4myYbwX1zgnQSTTuvNl3svFHgIq0jCGutyrO5nj0-u5wUs5yY2crPGXPj5on1QK6iFVx6NhF2jOsQH-GJoP37N3yXIlHThuLTZHtmtLyNOfpZ42yVmq5S5zc-6IyZDVdBsCGATnUX7TZvURhysLCpRswu5NBRlJw5VxXxn_O6GV2KYYl4vgJPfPsw51OM0KmRWLVxzvtiBhFT9JyhnXvGxDpTo9Zu96fjGDemhis9_Q9_iv2MNU2g6AG_gGY_0cwO49mIMQ=s64",
      "userId": "13728227204889328138"
     },
     "user_tz": 300
    },
    "id": "J_pkTHDKMdet",
    "outputId": "8c9c1c7d-9c9c-447c-85ed-d4070d976fdc",
    "tags": [
     "Raw"
    ]
   },
   "outputs": [
    {
     "data": {
      "text/html": [
       "<div>\n",
       "<style scoped>\n",
       "    .dataframe tbody tr th:only-of-type {\n",
       "        vertical-align: middle;\n",
       "    }\n",
       "\n",
       "    .dataframe tbody tr th {\n",
       "        vertical-align: top;\n",
       "    }\n",
       "\n",
       "    .dataframe thead th {\n",
       "        text-align: right;\n",
       "    }\n",
       "</style>\n",
       "<table border=\"1\" class=\"dataframe\">\n",
       "  <thead>\n",
       "    <tr style=\"text-align: right;\">\n",
       "      <th></th>\n",
       "      <th>PassengerId</th>\n",
       "      <th>Survived</th>\n",
       "      <th>Pclass</th>\n",
       "      <th>Name</th>\n",
       "      <th>Sex</th>\n",
       "      <th>Age</th>\n",
       "      <th>SibSp</th>\n",
       "      <th>Parch</th>\n",
       "      <th>Ticket</th>\n",
       "      <th>Fare</th>\n",
       "      <th>Cabin</th>\n",
       "      <th>Embarked</th>\n",
       "    </tr>\n",
       "  </thead>\n",
       "  <tbody>\n",
       "    <tr>\n",
       "      <th>0</th>\n",
       "      <td>1</td>\n",
       "      <td>0</td>\n",
       "      <td>3</td>\n",
       "      <td>Braund, Mr. Owen Harris</td>\n",
       "      <td>male</td>\n",
       "      <td>22.0</td>\n",
       "      <td>1</td>\n",
       "      <td>0</td>\n",
       "      <td>A/5 21171</td>\n",
       "      <td>7.2500</td>\n",
       "      <td>NaN</td>\n",
       "      <td>S</td>\n",
       "    </tr>\n",
       "    <tr>\n",
       "      <th>1</th>\n",
       "      <td>2</td>\n",
       "      <td>1</td>\n",
       "      <td>1</td>\n",
       "      <td>Cumings, Mrs. John Bradley (Florence Briggs Th...</td>\n",
       "      <td>female</td>\n",
       "      <td>38.0</td>\n",
       "      <td>1</td>\n",
       "      <td>0</td>\n",
       "      <td>PC 17599</td>\n",
       "      <td>71.2833</td>\n",
       "      <td>C85</td>\n",
       "      <td>C</td>\n",
       "    </tr>\n",
       "    <tr>\n",
       "      <th>2</th>\n",
       "      <td>3</td>\n",
       "      <td>1</td>\n",
       "      <td>3</td>\n",
       "      <td>Heikkinen, Miss. Laina</td>\n",
       "      <td>female</td>\n",
       "      <td>26.0</td>\n",
       "      <td>0</td>\n",
       "      <td>0</td>\n",
       "      <td>STON/O2. 3101282</td>\n",
       "      <td>7.9250</td>\n",
       "      <td>NaN</td>\n",
       "      <td>S</td>\n",
       "    </tr>\n",
       "    <tr>\n",
       "      <th>3</th>\n",
       "      <td>4</td>\n",
       "      <td>1</td>\n",
       "      <td>1</td>\n",
       "      <td>Futrelle, Mrs. Jacques Heath (Lily May Peel)</td>\n",
       "      <td>female</td>\n",
       "      <td>35.0</td>\n",
       "      <td>1</td>\n",
       "      <td>0</td>\n",
       "      <td>113803</td>\n",
       "      <td>53.1000</td>\n",
       "      <td>C123</td>\n",
       "      <td>S</td>\n",
       "    </tr>\n",
       "    <tr>\n",
       "      <th>4</th>\n",
       "      <td>5</td>\n",
       "      <td>0</td>\n",
       "      <td>3</td>\n",
       "      <td>Allen, Mr. William Henry</td>\n",
       "      <td>male</td>\n",
       "      <td>35.0</td>\n",
       "      <td>0</td>\n",
       "      <td>0</td>\n",
       "      <td>373450</td>\n",
       "      <td>8.0500</td>\n",
       "      <td>NaN</td>\n",
       "      <td>S</td>\n",
       "    </tr>\n",
       "  </tbody>\n",
       "</table>\n",
       "</div>"
      ],
      "text/plain": [
       "   PassengerId  Survived  Pclass  \\\n",
       "0            1         0       3   \n",
       "1            2         1       1   \n",
       "2            3         1       3   \n",
       "3            4         1       1   \n",
       "4            5         0       3   \n",
       "\n",
       "                                                Name     Sex   Age  SibSp  \\\n",
       "0                            Braund, Mr. Owen Harris    male  22.0      1   \n",
       "1  Cumings, Mrs. John Bradley (Florence Briggs Th...  female  38.0      1   \n",
       "2                             Heikkinen, Miss. Laina  female  26.0      0   \n",
       "3       Futrelle, Mrs. Jacques Heath (Lily May Peel)  female  35.0      1   \n",
       "4                           Allen, Mr. William Henry    male  35.0      0   \n",
       "\n",
       "   Parch            Ticket     Fare Cabin Embarked  \n",
       "0      0         A/5 21171   7.2500   NaN        S  \n",
       "1      0          PC 17599  71.2833   C85        C  \n",
       "2      0  STON/O2. 3101282   7.9250   NaN        S  \n",
       "3      0            113803  53.1000  C123        S  \n",
       "4      0            373450   8.0500   NaN        S  "
      ]
     },
     "execution_count": 6,
     "metadata": {},
     "output_type": "execute_result"
    }
   ],
   "source": [
    "# Listing 2.5: Look at the data\n",
    "train.head()"
   ]
  },
  {
   "cell_type": "markdown",
   "metadata": {
    "id": "q7jtCKPBMdeu"
   },
   "source": [
    "################################################\n",
    "## 2. Data Preparation and Cleaning\n",
    "################################################\n"
   ]
  },
  {
   "cell_type": "code",
   "execution_count": 7,
   "metadata": {
    "colab": {
     "base_uri": "https://localhost:8080/"
    },
    "executionInfo": {
     "elapsed": 257,
     "status": "ok",
     "timestamp": 1647611985835,
     "user": {
      "displayName": "GUSTAVO ADOLFO PATIÑO ALVAREZ",
      "photoUrl": "https://lh3.googleusercontent.com/a-/AOh14GieSUQzF1vNVYjcMUZgrtxqAu0TcXwUtMBe44CUwBOW-bk3mEezr-XmVi0ZK8noQUcqQESH8607oqnn7eKdDGzTF--XuISzdvm8X4MkAYW0Ufoi61dZPOCqBwU_yBH21FI9dh3fcBIRjmlSrIvvm6ZZl-5g0YNMZqW4eIxWa0hTNfomlFAcHHaquQ8TYKoT9-csEJYLRQVhktcfek9Vx3o6QNhfcHPOkzHQ1xrGBd1F7kw-FUohyEP7585HRH-JUvAr2Lva8apRMJ5cwaRFOCzWtSvl633xlUtyQuxeO2ZsWacYxNVE10WjyRlzVTyFpEoikaN_248A6gotKCBNCnq1U4MuhdURb8ni9mi1nxrylMooE8zbFvBalDHqGW04tgLZq30cD8-g7dogr8xVsLRJ1hesGtJFka4TktSKxLanKkN-kQpRpV1DZSfKLCMsZ25gXd6qFbZ_9UPM1TIGn2EqurdNpbl1GxDH6zXknTyE9rzacVXTyhzK7Y6inYpX4myYbwX1zgnQSTTuvNl3svFHgIq0jCGutyrO5nj0-u5wUs5yY2crPGXPj5on1QK6iFVx6NhF2jOsQH-GJoP37N3yXIlHThuLTZHtmtLyNOfpZ42yVmq5S5zc-6IyZDVdBsCGATnUX7TZvURhysLCpRswu5NBRlJw5VxXxn_O6GV2KYYl4vgJPfPsw51OM0KmRWLVxzvtiBhFT9JyhnXvGxDpTo9Zu96fjGDemhis9_Q9_iv2MNU2g6AG_gGY_0cwO49mIMQ=s64",
      "userId": "13728227204889328138"
     },
     "user_tz": 300
    },
    "id": "_S7e5qaAMdeu",
    "outputId": "d2787f38-921c-452f-be23-a733cf130eb7",
    "tags": []
   },
   "outputs": [
    {
     "name": "stdout",
     "output_type": "stream",
     "text": [
      "<class 'pandas.core.frame.DataFrame'>\n",
      "Int64Index: 889 entries, 0 to 890\n",
      "Data columns (total 11 columns):\n",
      " #   Column       Non-Null Count  Dtype  \n",
      "---  ------       --------------  -----  \n",
      " 0   PassengerId  889 non-null    int64  \n",
      " 1   Survived     889 non-null    int64  \n",
      " 2   Pclass       889 non-null    int64  \n",
      " 3   Name         889 non-null    object \n",
      " 4   Sex          889 non-null    object \n",
      " 5   Age          889 non-null    float64\n",
      " 6   SibSp        889 non-null    int64  \n",
      " 7   Parch        889 non-null    int64  \n",
      " 8   Ticket       889 non-null    object \n",
      " 9   Fare         889 non-null    float64\n",
      " 10  Embarked     889 non-null    object \n",
      "dtypes: float64(2), int64(5), object(4)\n",
      "memory usage: 83.3+ KB\n"
     ]
    }
   ],
   "source": [
    "# Listing 2.6: Cope with missing values\n",
    "# option 1\n",
    "# We only have two passengers without it. This is bearable\n",
    "train = train.dropna(subset=[\"Embarked\"])    \n",
    "\n",
    "# option 2\n",
    "# We only have very few information about the cabin, let's drop it\n",
    "train = train.drop(\"Cabin\", axis=1)       \n",
    "\n",
    "# option 3\n",
    "# The age misses quite a few times. But intuition\n",
    "# says it might be important for someone's chance to survive.\n",
    "mean = train[\"Age\"].mean()\n",
    "train[\"Age\"] = train[\"Age\"].fillna(mean)     \n",
    "\n",
    "train.info()"
   ]
  },
  {
   "cell_type": "markdown",
   "metadata": {
    "id": "twkykY1XMdew"
   },
   "source": [
    "## 2.1 Deleting unuseful information"
   ]
  },
  {
   "cell_type": "code",
   "execution_count": 8,
   "metadata": {
    "colab": {
     "base_uri": "https://localhost:8080/"
    },
    "executionInfo": {
     "elapsed": 12,
     "status": "ok",
     "timestamp": 1647611985836,
     "user": {
      "displayName": "GUSTAVO ADOLFO PATIÑO ALVAREZ",
      "photoUrl": "https://lh3.googleusercontent.com/a-/AOh14GieSUQzF1vNVYjcMUZgrtxqAu0TcXwUtMBe44CUwBOW-bk3mEezr-XmVi0ZK8noQUcqQESH8607oqnn7eKdDGzTF--XuISzdvm8X4MkAYW0Ufoi61dZPOCqBwU_yBH21FI9dh3fcBIRjmlSrIvvm6ZZl-5g0YNMZqW4eIxWa0hTNfomlFAcHHaquQ8TYKoT9-csEJYLRQVhktcfek9Vx3o6QNhfcHPOkzHQ1xrGBd1F7kw-FUohyEP7585HRH-JUvAr2Lva8apRMJ5cwaRFOCzWtSvl633xlUtyQuxeO2ZsWacYxNVE10WjyRlzVTyFpEoikaN_248A6gotKCBNCnq1U4MuhdURb8ni9mi1nxrylMooE8zbFvBalDHqGW04tgLZq30cD8-g7dogr8xVsLRJ1hesGtJFka4TktSKxLanKkN-kQpRpV1DZSfKLCMsZ25gXd6qFbZ_9UPM1TIGn2EqurdNpbl1GxDH6zXknTyE9rzacVXTyhzK7Y6inYpX4myYbwX1zgnQSTTuvNl3svFHgIq0jCGutyrO5nj0-u5wUs5yY2crPGXPj5on1QK6iFVx6NhF2jOsQH-GJoP37N3yXIlHThuLTZHtmtLyNOfpZ42yVmq5S5zc-6IyZDVdBsCGATnUX7TZvURhysLCpRswu5NBRlJw5VxXxn_O6GV2KYYl4vgJPfPsw51OM0KmRWLVxzvtiBhFT9JyhnXvGxDpTo9Zu96fjGDemhis9_Q9_iv2MNU2g6AG_gGY_0cwO49mIMQ=s64",
      "userId": "13728227204889328138"
     },
     "user_tz": 300
    },
    "id": "FDxFnswJMdex",
    "outputId": "2d3b3961-f0fd-4b18-a930-2eb8d8a2f5d1",
    "tags": []
   },
   "outputs": [
    {
     "name": "stdout",
     "output_type": "stream",
     "text": [
      "There are 889 different (unique) PassengerIds in the data\n",
      "There are 889 different (unique) names in the data\n",
      "There are 680 different (unique) ticket numbers in the data\n"
     ]
    }
   ],
   "source": [
    "# Listing 2.7: Unique values in columns\n",
    "print('There are {} different (unique) PassengerIds in the data'\n",
    "    .format(train[\"PassengerId\"].nunique()))\n",
    "print('There are {} different (unique) names in the data'\n",
    "    .format(train[\"Name\"].nunique()))\n",
    "print('There are {} different (unique) ticket numbers in the data'\n",
    "    .format(train[\"Ticket\"].nunique()))"
   ]
  },
  {
   "cell_type": "code",
   "execution_count": 9,
   "metadata": {
    "colab": {
     "base_uri": "https://localhost:8080/"
    },
    "executionInfo": {
     "elapsed": 9,
     "status": "ok",
     "timestamp": 1647611985838,
     "user": {
      "displayName": "GUSTAVO ADOLFO PATIÑO ALVAREZ",
      "photoUrl": "https://lh3.googleusercontent.com/a-/AOh14GieSUQzF1vNVYjcMUZgrtxqAu0TcXwUtMBe44CUwBOW-bk3mEezr-XmVi0ZK8noQUcqQESH8607oqnn7eKdDGzTF--XuISzdvm8X4MkAYW0Ufoi61dZPOCqBwU_yBH21FI9dh3fcBIRjmlSrIvvm6ZZl-5g0YNMZqW4eIxWa0hTNfomlFAcHHaquQ8TYKoT9-csEJYLRQVhktcfek9Vx3o6QNhfcHPOkzHQ1xrGBd1F7kw-FUohyEP7585HRH-JUvAr2Lva8apRMJ5cwaRFOCzWtSvl633xlUtyQuxeO2ZsWacYxNVE10WjyRlzVTyFpEoikaN_248A6gotKCBNCnq1U4MuhdURb8ni9mi1nxrylMooE8zbFvBalDHqGW04tgLZq30cD8-g7dogr8xVsLRJ1hesGtJFka4TktSKxLanKkN-kQpRpV1DZSfKLCMsZ25gXd6qFbZ_9UPM1TIGn2EqurdNpbl1GxDH6zXknTyE9rzacVXTyhzK7Y6inYpX4myYbwX1zgnQSTTuvNl3svFHgIq0jCGutyrO5nj0-u5wUs5yY2crPGXPj5on1QK6iFVx6NhF2jOsQH-GJoP37N3yXIlHThuLTZHtmtLyNOfpZ42yVmq5S5zc-6IyZDVdBsCGATnUX7TZvURhysLCpRswu5NBRlJw5VxXxn_O6GV2KYYl4vgJPfPsw51OM0KmRWLVxzvtiBhFT9JyhnXvGxDpTo9Zu96fjGDemhis9_Q9_iv2MNU2g6AG_gGY_0cwO49mIMQ=s64",
      "userId": "13728227204889328138"
     },
     "user_tz": 300
    },
    "id": "SXF5HgFqMdey",
    "outputId": "f966cf98-69f4-445f-8519-225bedfa76f8",
    "tags": []
   },
   "outputs": [
    {
     "name": "stdout",
     "output_type": "stream",
     "text": [
      "<class 'pandas.core.frame.DataFrame'>\n",
      "Int64Index: 889 entries, 0 to 890\n",
      "Data columns (total 8 columns):\n",
      " #   Column    Non-Null Count  Dtype  \n",
      "---  ------    --------------  -----  \n",
      " 0   Survived  889 non-null    int64  \n",
      " 1   Pclass    889 non-null    int64  \n",
      " 2   Sex       889 non-null    object \n",
      " 3   Age       889 non-null    float64\n",
      " 4   SibSp     889 non-null    int64  \n",
      " 5   Parch     889 non-null    int64  \n",
      " 6   Fare      889 non-null    float64\n",
      " 7   Embarked  889 non-null    object \n",
      "dtypes: float64(2), int64(4), object(2)\n",
      "memory usage: 62.5+ KB\n"
     ]
    }
   ],
   "source": [
    "# Listing 2.8: Remove identifying data\n",
    "train = train.drop(\"PassengerId\", axis=1)\n",
    "train = train.drop(\"Name\", axis=1)\n",
    "train = train.drop(\"Ticket\", axis=1)\n",
    "\n",
    "train.info()"
   ]
  },
  {
   "cell_type": "code",
   "execution_count": 10,
   "metadata": {
    "colab": {
     "base_uri": "https://localhost:8080/",
     "height": 206
    },
    "executionInfo": {
     "elapsed": 787,
     "status": "ok",
     "timestamp": 1647611986620,
     "user": {
      "displayName": "GUSTAVO ADOLFO PATIÑO ALVAREZ",
      "photoUrl": "https://lh3.googleusercontent.com/a-/AOh14GieSUQzF1vNVYjcMUZgrtxqAu0TcXwUtMBe44CUwBOW-bk3mEezr-XmVi0ZK8noQUcqQESH8607oqnn7eKdDGzTF--XuISzdvm8X4MkAYW0Ufoi61dZPOCqBwU_yBH21FI9dh3fcBIRjmlSrIvvm6ZZl-5g0YNMZqW4eIxWa0hTNfomlFAcHHaquQ8TYKoT9-csEJYLRQVhktcfek9Vx3o6QNhfcHPOkzHQ1xrGBd1F7kw-FUohyEP7585HRH-JUvAr2Lva8apRMJ5cwaRFOCzWtSvl633xlUtyQuxeO2ZsWacYxNVE10WjyRlzVTyFpEoikaN_248A6gotKCBNCnq1U4MuhdURb8ni9mi1nxrylMooE8zbFvBalDHqGW04tgLZq30cD8-g7dogr8xVsLRJ1hesGtJFka4TktSKxLanKkN-kQpRpV1DZSfKLCMsZ25gXd6qFbZ_9UPM1TIGn2EqurdNpbl1GxDH6zXknTyE9rzacVXTyhzK7Y6inYpX4myYbwX1zgnQSTTuvNl3svFHgIq0jCGutyrO5nj0-u5wUs5yY2crPGXPj5on1QK6iFVx6NhF2jOsQH-GJoP37N3yXIlHThuLTZHtmtLyNOfpZ42yVmq5S5zc-6IyZDVdBsCGATnUX7TZvURhysLCpRswu5NBRlJw5VxXxn_O6GV2KYYl4vgJPfPsw51OM0KmRWLVxzvtiBhFT9JyhnXvGxDpTo9Zu96fjGDemhis9_Q9_iv2MNU2g6AG_gGY_0cwO49mIMQ=s64",
      "userId": "13728227204889328138"
     },
     "user_tz": 300
    },
    "id": "j6v021BRMdez",
    "outputId": "f2325a03-d760-40c2-cc0b-300b30759ce9",
    "tags": [
     "Raw"
    ]
   },
   "outputs": [
    {
     "name": "stderr",
     "output_type": "stream",
     "text": [
      "<frozen importlib._bootstrap>:219: RuntimeWarning: scipy._lib.messagestream.MessageStream size changed, may indicate binary incompatibility. Expected 56 from C header, got 64 from PyObject\n"
     ]
    },
    {
     "data": {
      "text/html": [
       "<div>\n",
       "<style scoped>\n",
       "    .dataframe tbody tr th:only-of-type {\n",
       "        vertical-align: middle;\n",
       "    }\n",
       "\n",
       "    .dataframe tbody tr th {\n",
       "        vertical-align: top;\n",
       "    }\n",
       "\n",
       "    .dataframe thead th {\n",
       "        text-align: right;\n",
       "    }\n",
       "</style>\n",
       "<table border=\"1\" class=\"dataframe\">\n",
       "  <thead>\n",
       "    <tr style=\"text-align: right;\">\n",
       "      <th></th>\n",
       "      <th>Survived</th>\n",
       "      <th>Pclass</th>\n",
       "      <th>Sex</th>\n",
       "      <th>Age</th>\n",
       "      <th>SibSp</th>\n",
       "      <th>Parch</th>\n",
       "      <th>Fare</th>\n",
       "      <th>Embarked</th>\n",
       "    </tr>\n",
       "  </thead>\n",
       "  <tbody>\n",
       "    <tr>\n",
       "      <th>0</th>\n",
       "      <td>0</td>\n",
       "      <td>3</td>\n",
       "      <td>1</td>\n",
       "      <td>22.0</td>\n",
       "      <td>1</td>\n",
       "      <td>0</td>\n",
       "      <td>7.2500</td>\n",
       "      <td>2</td>\n",
       "    </tr>\n",
       "    <tr>\n",
       "      <th>1</th>\n",
       "      <td>1</td>\n",
       "      <td>1</td>\n",
       "      <td>0</td>\n",
       "      <td>38.0</td>\n",
       "      <td>1</td>\n",
       "      <td>0</td>\n",
       "      <td>71.2833</td>\n",
       "      <td>0</td>\n",
       "    </tr>\n",
       "    <tr>\n",
       "      <th>2</th>\n",
       "      <td>1</td>\n",
       "      <td>3</td>\n",
       "      <td>0</td>\n",
       "      <td>26.0</td>\n",
       "      <td>0</td>\n",
       "      <td>0</td>\n",
       "      <td>7.9250</td>\n",
       "      <td>2</td>\n",
       "    </tr>\n",
       "    <tr>\n",
       "      <th>3</th>\n",
       "      <td>1</td>\n",
       "      <td>1</td>\n",
       "      <td>0</td>\n",
       "      <td>35.0</td>\n",
       "      <td>1</td>\n",
       "      <td>0</td>\n",
       "      <td>53.1000</td>\n",
       "      <td>2</td>\n",
       "    </tr>\n",
       "    <tr>\n",
       "      <th>4</th>\n",
       "      <td>0</td>\n",
       "      <td>3</td>\n",
       "      <td>1</td>\n",
       "      <td>35.0</td>\n",
       "      <td>0</td>\n",
       "      <td>0</td>\n",
       "      <td>8.0500</td>\n",
       "      <td>2</td>\n",
       "    </tr>\n",
       "  </tbody>\n",
       "</table>\n",
       "</div>"
      ],
      "text/plain": [
       "   Survived  Pclass  Sex   Age  SibSp  Parch     Fare  Embarked\n",
       "0         0       3    1  22.0      1      0   7.2500         2\n",
       "1         1       1    0  38.0      1      0  71.2833         0\n",
       "2         1       3    0  26.0      0      0   7.9250         2\n",
       "3         1       1    0  35.0      1      0  53.1000         2\n",
       "4         0       3    1  35.0      0      0   8.0500         2"
      ]
     },
     "execution_count": 10,
     "metadata": {},
     "output_type": "execute_result"
    }
   ],
   "source": [
    "# Listing 2.9: Transforming textual data into numbers\n",
    "from sklearn.preprocessing import LabelEncoder\n",
    "le = LabelEncoder()\n",
    "\n",
    "for col in ['Sex', 'Embarked']:\n",
    "    le.fit(train[col])\n",
    "    train[col] = le.transform(train[col])\n",
    "\n",
    "train.head()"
   ]
  },
  {
   "cell_type": "code",
   "execution_count": 11,
   "metadata": {},
   "outputs": [
    {
     "data": {
      "text/plain": [
       "0      1\n",
       "1      1\n",
       "2      0\n",
       "3      1\n",
       "4      0\n",
       "      ..\n",
       "886    0\n",
       "887    0\n",
       "888    1\n",
       "889    0\n",
       "890    0\n",
       "Name: SibSp, Length: 889, dtype: int64"
      ]
     },
     "execution_count": 11,
     "metadata": {},
     "output_type": "execute_result"
    }
   ],
   "source": [
    "train[\"SibSp\"]"
   ]
  },
  {
   "cell_type": "code",
   "execution_count": 12,
   "metadata": {
    "colab": {
     "base_uri": "https://localhost:8080/"
    },
    "executionInfo": {
     "elapsed": 13,
     "status": "ok",
     "timestamp": 1647611986621,
     "user": {
      "displayName": "GUSTAVO ADOLFO PATIÑO ALVAREZ",
      "photoUrl": "https://lh3.googleusercontent.com/a-/AOh14GieSUQzF1vNVYjcMUZgrtxqAu0TcXwUtMBe44CUwBOW-bk3mEezr-XmVi0ZK8noQUcqQESH8607oqnn7eKdDGzTF--XuISzdvm8X4MkAYW0Ufoi61dZPOCqBwU_yBH21FI9dh3fcBIRjmlSrIvvm6ZZl-5g0YNMZqW4eIxWa0hTNfomlFAcHHaquQ8TYKoT9-csEJYLRQVhktcfek9Vx3o6QNhfcHPOkzHQ1xrGBd1F7kw-FUohyEP7585HRH-JUvAr2Lva8apRMJ5cwaRFOCzWtSvl633xlUtyQuxeO2ZsWacYxNVE10WjyRlzVTyFpEoikaN_248A6gotKCBNCnq1U4MuhdURb8ni9mi1nxrylMooE8zbFvBalDHqGW04tgLZq30cD8-g7dogr8xVsLRJ1hesGtJFka4TktSKxLanKkN-kQpRpV1DZSfKLCMsZ25gXd6qFbZ_9UPM1TIGn2EqurdNpbl1GxDH6zXknTyE9rzacVXTyhzK7Y6inYpX4myYbwX1zgnQSTTuvNl3svFHgIq0jCGutyrO5nj0-u5wUs5yY2crPGXPj5on1QK6iFVx6NhF2jOsQH-GJoP37N3yXIlHThuLTZHtmtLyNOfpZ42yVmq5S5zc-6IyZDVdBsCGATnUX7TZvURhysLCpRswu5NBRlJw5VxXxn_O6GV2KYYl4vgJPfPsw51OM0KmRWLVxzvtiBhFT9JyhnXvGxDpTo9Zu96fjGDemhis9_Q9_iv2MNU2g6AG_gGY_0cwO49mIMQ=s64",
      "userId": "13728227204889328138"
     },
     "user_tz": 300
    },
    "id": "k_S6WHloMde0",
    "outputId": "f8f3a0b6-fd50-4ea2-c6d1-f45ef30b21bc",
    "tags": []
   },
   "outputs": [
    {
     "name": "stdout",
     "output_type": "stream",
     "text": [
      "The maximum age is 80.0\n",
      "The maximum fare is 512.3292\n",
      "The minimum SibSp is 0\n",
      "The maximum SibSp is 8\n",
      "The minimum Parch is 0\n",
      "The maximum Parch is 6\n"
     ]
    }
   ],
   "source": [
    "# Listing 2.10: The maximum values\n",
    "print('The maximum age is {}'.format(train[\"Age\"].max()))\n",
    "print('The maximum fare is {}'.format(train[\"Fare\"].max()))\n",
    "print('The minimum SibSp is {}'.format(train[\"SibSp\"].min()))\n",
    "print('The maximum SibSp is {}'.format(train[\"SibSp\"].max()))\n",
    "print('The minimum Parch is {}'.format(train[\"Parch\"].min()))\n",
    "print('The maximum Parch is {}'.format(train[\"Parch\"].max()))"
   ]
  },
  {
   "cell_type": "code",
   "execution_count": 13,
   "metadata": {
    "colab": {
     "base_uri": "https://localhost:8080/"
    },
    "executionInfo": {
     "elapsed": 12,
     "status": "ok",
     "timestamp": 1647611986622,
     "user": {
      "displayName": "GUSTAVO ADOLFO PATIÑO ALVAREZ",
      "photoUrl": "https://lh3.googleusercontent.com/a-/AOh14GieSUQzF1vNVYjcMUZgrtxqAu0TcXwUtMBe44CUwBOW-bk3mEezr-XmVi0ZK8noQUcqQESH8607oqnn7eKdDGzTF--XuISzdvm8X4MkAYW0Ufoi61dZPOCqBwU_yBH21FI9dh3fcBIRjmlSrIvvm6ZZl-5g0YNMZqW4eIxWa0hTNfomlFAcHHaquQ8TYKoT9-csEJYLRQVhktcfek9Vx3o6QNhfcHPOkzHQ1xrGBd1F7kw-FUohyEP7585HRH-JUvAr2Lva8apRMJ5cwaRFOCzWtSvl633xlUtyQuxeO2ZsWacYxNVE10WjyRlzVTyFpEoikaN_248A6gotKCBNCnq1U4MuhdURb8ni9mi1nxrylMooE8zbFvBalDHqGW04tgLZq30cD8-g7dogr8xVsLRJ1hesGtJFka4TktSKxLanKkN-kQpRpV1DZSfKLCMsZ25gXd6qFbZ_9UPM1TIGn2EqurdNpbl1GxDH6zXknTyE9rzacVXTyhzK7Y6inYpX4myYbwX1zgnQSTTuvNl3svFHgIq0jCGutyrO5nj0-u5wUs5yY2crPGXPj5on1QK6iFVx6NhF2jOsQH-GJoP37N3yXIlHThuLTZHtmtLyNOfpZ42yVmq5S5zc-6IyZDVdBsCGATnUX7TZvURhysLCpRswu5NBRlJw5VxXxn_O6GV2KYYl4vgJPfPsw51OM0KmRWLVxzvtiBhFT9JyhnXvGxDpTo9Zu96fjGDemhis9_Q9_iv2MNU2g6AG_gGY_0cwO49mIMQ=s64",
      "userId": "13728227204889328138"
     },
     "user_tz": 300
    },
    "id": "F8BcY7XGMde2",
    "outputId": "b1f80b92-c57e-43ed-8e9e-9b73e3849658",
    "tags": []
   },
   "outputs": [
    {
     "name": "stdout",
     "output_type": "stream",
     "text": [
      "The minimum value is 0.0 and the maximum value is 1.0\n"
     ]
    }
   ],
   "source": [
    "# Listing 2.11: Normalization of the data.\n",
    "from sklearn.preprocessing import MinMaxScaler\n",
    "\n",
    "scaler = MinMaxScaler()\n",
    "scaler.fit(train)\n",
    "train = scaler.transform(train)\n",
    "\n",
    "print('The minimum value is {} and the maximum value is {}'\n",
    "    .format(train.min(), train.max()))"
   ]
  },
  {
   "cell_type": "code",
   "execution_count": 14,
   "metadata": {},
   "outputs": [
    {
     "name": "stdout",
     "output_type": "stream",
     "text": [
      "                 0.0                 1.0                 1.0  0.2711736617240512               0.125                 0.00.014151057562208049                 1.0\n",
      "                 1.0                 0.0                 0.0  0.4722292033174164               0.125                 0.0 0.13913573538264068                 0.0\n",
      "                 1.0                 1.0                 0.0 0.32143754712239253                 0.0                 0.00.015468569817999833                 1.0\n",
      "                 1.0                 0.0                 0.0  0.4345312892686604               0.125                 0.0 0.10364429745562033                 1.0\n",
      "                 0.0                 1.0                 1.0  0.4345312892686604                 0.0                 0.00.015712553569072387                 1.0\n",
      "                 0.0                 1.0                 1.0  0.3672039796007691                 0.0                 0.0 0.01650950209357577                 0.5\n",
      "                 0.0                 0.0                 1.0  0.6732847449107816                 0.0                 0.0 0.10122885832000206                 1.0\n",
      "                 0.0                 1.0                 1.0 0.01985423473234481               0.375 0.16666666666666666 0.04113566043083236                 1.0\n",
      "                 1.0                 1.0                 0.0 0.33400351847197784                 0.0  0.33333333333333330.021730754366528396                 1.0\n",
      "                 1.0                 0.5                 0.0 0.17064589092736868               0.125                 0.00.058694292654020104                 0.0\n",
      "                 1.0                 1.0                 0.0 0.04498617743151546               0.125 0.16666666666666666 0.03259622914329302                 1.0\n",
      "                 1.0                 0.0                 0.0   0.723548630309123                 0.0                 0.00.051822148727810165                 1.0\n",
      "                 0.0                 1.0                 1.0 0.24604171902488062                 0.0                 0.00.015712553569072387                 1.0\n",
      "                 0.0                 1.0                 1.0  0.4847951746670017               0.125  0.8333333333333333 0.06104473451835265                 1.0\n",
      "                 0.0                 1.0                 0.0 0.17064589092736868                 0.0                 0.00.015330377421392339                 1.0\n",
      "                 1.0                 0.5                 0.0   0.685850716260367                 0.0                 0.0 0.03122992013728673                 1.0\n",
      "                 0.0                 1.0                 1.0 0.01985423473234481                 0.5 0.16666666666666666 0.05684821399990475                 0.5\n",
      "                 1.0                 0.5                 1.0  0.3672039796007691                 0.0                 0.00.025374310111545468                 1.0\n",
      "                 0.0                 1.0                 0.0 0.38426740387031916               0.125                 0.0 0.03513366015444757                 1.0\n",
      "                 1.0                 1.0                 0.0  0.3672039796007691                 0.0                 0.00.014102260811993537                 0.0\n",
      "                 0.0                 0.5                 1.0  0.4345312892686604                 0.0                 0.00.050748620223090936                 1.0\n",
      "                 1.0                 0.5                 1.0  0.4219653179190751                 0.0                 0.00.025374310111545468                 1.0\n",
      "                 1.0                 1.0                 0.0 0.18321186227695402                 0.0                 0.00.015671954672893913                 0.5\n",
      "                 1.0                 0.0                 1.0 0.34656948982156316                 0.0                 0.0 0.06929138530460494                 1.0\n",
      "                 0.0                 1.0                 0.0 0.09525006282985675               0.375 0.16666666666666666 0.04113566043083236                 1.0\n",
      "                 1.0                 1.0                 0.0  0.4722292033174164               0.125  0.8333333333333333 0.06126431989431795                 1.0\n",
      "                 0.0                 1.0                 1.0  0.3672039796007691                 0.0                 0.00.014102260811993537                 0.0\n",
      "                 0.0                 0.0                 1.0  0.2334757476752953               0.375  0.3333333333333333  0.5133418122566507                 1.0\n",
      "                 1.0                 1.0                 0.0  0.3672039796007691                 0.0                 0.0 0.01537917417160685                 0.5\n",
      "                 0.0                 1.0                 1.0  0.3672039796007691                 0.0                 0.00.015411575213749286                 1.0\n",
      "                 0.0                 0.0                 1.0 0.49736114601658704                 0.0                 0.0 0.05410739813385612                 0.0\n",
      "                 1.0                 0.0                 0.0  0.3672039796007691               0.125                 0.0  0.2859895551532101                 0.0\n",
      "                 1.0                 1.0                 0.0  0.3672039796007691                 0.0                 0.00.015126992566498259                 0.5\n",
      "                 0.0                 0.5                 1.0  0.8240764011058055                 0.0                 0.00.020494635090094415                 1.0\n",
      "                 0.0                 0.0                 1.0 0.34656948982156316               0.125                 0.0 0.16038672010106003                 0.0\n",
      "                 0.0                 0.0                 1.0  0.5224930887157577               0.125                 0.0 0.10149724044618187                 1.0\n",
      "                 1.0                 1.0                 1.0  0.3672039796007691                 0.0                 0.00.014110458666029575                 0.0\n",
      "                 0.0                 1.0                 1.0  0.2586076903744659                 0.0                 0.00.015712553569072387                 1.0\n",
      "                 0.0                 1.0                 0.0    0.22090977632571                0.25                 0.0 0.03513366015444757                 1.0\n",
      "                 1.0                 1.0                 0.0 0.17064589092736868               0.125                 0.00.021942337075458514                 0.0\n",
      "                 0.0                 1.0                 0.0 0.49736114601658704               0.125                 0.00.018493968331299484                 1.0\n",
      "                 0.0                 0.5                 0.0 0.33400351847197784               0.125                 0.0 0.04098927018018883                 1.0\n",
      "                 0.0                 1.0                 1.0  0.3672039796007691                 0.0                 0.00.015411575213749286                 0.0\n",
      "                 1.0                 0.5                 0.00.032420206081930136               0.125  0.3333333333333333 0.08115719346076702                 0.0\n",
      "                 1.0                 1.0                 0.0  0.2334757476752953                 0.0                 0.0 0.01537917417160685                 0.5\n",
      "                 0.0                 1.0                 1.0  0.3672039796007691                 0.0                 0.00.015712553569072387                 1.0\n",
      "                 0.0                 1.0                 1.0  0.3672039796007691               0.125                 0.00.030253985132996517                 0.5\n",
      "                 1.0                 1.0                 0.0  0.3672039796007691                 0.0                 0.00.015126992566498259                 0.5\n",
      "                 0.0                 1.0                 1.0  0.3672039796007691                0.25                 0.0 0.04231498029001666                 0.0\n",
      "                 0.0                 1.0                 0.0    0.22090977632571               0.125                 0.00.034743286152731485                 1.0\n",
      "                 0.0                 1.0                 1.0 0.08268409148027142                 0.5 0.16666666666666666 0.07746484096553544                 1.0\n",
      "                 0.0                 1.0                 1.0  0.2586076903744659                 0.0                 0.0 0.01522458606692728                 1.0\n",
      "                 1.0                 0.0                 0.0   0.610454888162855               0.125                 0.0  0.1497654242623688                 0.0\n",
      "                 1.0                 0.5                 0.0 0.35913546117114853               0.125                 0.00.050748620223090936                 1.0\n",
      "                 0.0                 0.0                 1.0  0.8115104297562202                 0.0 0.16666666666666666  0.1209753416358076                 0.0\n",
      "                 1.0                 0.0                 1.0  0.3672039796007691                 0.0                 0.0 0.06929138530460494                 1.0\n",
      "                 1.0                 0.5                 0.0  0.2586076903744659                 0.0                 0.00.020494635090094415                 1.0\n",
      "                 0.0                 1.0                 1.0 0.35285247549635584                 0.0                 0.00.014110458666029575                 0.0\n",
      "                 1.0                 0.5                 0.0 0.05755214878110078               0.125  0.3333333333333333 0.05416439273810667                 1.0\n",
      "                 0.0                 1.0                 1.0  0.1329479768786127               0.625  0.3333333333333333 0.09154270340242172                 1.0\n",
      "                 0.0                 1.0                 1.0  0.2711736617240512                 0.0                 0.00.014110458666029575                 0.0\n",
      "                 0.0                 0.0                 1.0  0.5601910027645137               0.125                 0.0 0.16293234896625058                 1.0\n",
      "                 0.0                 1.0                 1.0 0.04498617743151546               0.375  0.3333333333333333 0.05445717323939373                 1.0\n",
      "                 0.0                 0.0                 1.0  0.3672039796007691                 0.0                 0.0 0.05410739813385612                 0.0\n",
      "                 1.0                 1.0                 1.0  0.3672039796007691               0.125 0.166666666666666660.029757819776815374                 0.0\n",
      "                 1.0                 0.5                 0.0 0.35913546117114853                 0.0                 0.00.020494635090094415                 1.0\n",
      "                 0.0                 1.0                 1.0  0.2334757476752953                 0.0                 0.00.015923941091001644                 1.0\n",
      "                 1.0                 1.0                 0.0 0.20834380497612465                 0.5  0.33333333333333330.015468569817999833                 1.0\n",
      "                 0.0                 1.0                 1.0 0.32143754712239253                0.25                 0.00.016908073949327893                 1.0\n",
      "                 0.0                 0.5                 1.0 0.39683337521990447                 0.0                 0.00.020494635090094415                 1.0\n",
      "                 0.0                 1.0                 0.0 0.19577783362653933               0.625  0.3333333333333333 0.09154270340242172                 1.0\n",
      "                 0.0                 0.5                 1.0  0.2586076903744659                 0.0                 0.0  0.1434624456306609                 1.0\n",
      "                 0.0                 1.0                 1.0 0.32143754712239253               0.125                 0.00.028212719478023115                 0.0\n",
      "                 1.0                 1.0                 1.0 0.39683337521990447                 0.0                 0.0 0.11027245763075773                 1.0\n",
      "                 0.0                 1.0                 1.0  0.3088715757728072                 0.0                 0.00.014931805565640218                 1.0\n",
      "                 0.0                 1.0                 1.0  0.3672039796007691                 0.0                 0.00.015411575213749286                 1.0\n",
      "                 0.0                 1.0                 1.0  0.3672039796007691                 0.0                 0.00.015712553569072387                 1.0\n",
      "                 1.0                 0.5                 1.00.005152048253329982                 0.0  0.33333333333333330.056604230248832196                 1.0\n",
      "                 1.0                 1.0                 0.0 0.37170143252073384                 0.0                 0.00.024349578357040744                 1.0\n",
      "                 0.0                 1.0                 1.0  0.2711736617240512                 0.0                 0.00.017566830077223785                 1.0\n",
      "                 1.0                 1.0                 1.0 0.35913546117114853                 0.0                 0.00.018542765081513996                 1.0\n",
      "                 1.0                 1.0                 0.0  0.3672039796007691                 0.0                 0.00.015200187691820024                 0.5\n",
      "                 0.0                 0.0                 1.0 0.34656948982156316                 0.0                 0.0 0.09193307740413781                 1.0\n",
      "                 1.0                 0.5                 0.0 0.20834380497612465                 0.0                 0.00.020494635090094415                 1.0\n",
      "                 1.0                 1.0                 0.0  0.4093993465694898               0.375                 0.00.030937139635999665                 1.0\n",
      "                 0.0                 1.0                 1.0 0.19577783362653933               0.125                 0.5 0.06709553154495196                 1.0\n",
      "                 0.0                 1.0                 1.0  0.3672039796007691                 0.0                 0.00.015712553569072387                 1.0\n",
      "                 1.0                 0.0                 0.0  0.2837396330736366               0.375  0.3333333333333333  0.5133418122566507                 1.0\n",
      "                 0.0                 1.0                 1.0  0.2963056044232219                 0.0                 0.00.015712553569072387                 1.0\n",
      "                 0.0                 1.0                 1.0 0.35913546117114853                 0.0                 0.00.015712553569072387                 1.0\n",
      "                 0.0                 1.0                 1.0 0.24604171902488062                 0.0                 0.00.015330377421392339                 1.0\n",
      "                 0.0                 0.0                 1.0  0.5727569741140991               0.125                 0.0 0.11940564777490723                 1.0\n",
      "                 0.0                 1.0                 1.0 0.32143754712239253               0.125  0.3333333333333333 0.04015972542654215                 1.0\n",
      "                 0.0                 1.0                 1.0  0.7361146016587082                 0.0                 0.00.014151057562208049                 1.0\n",
      "                 0.0                 1.0                 1.0  0.3672039796007691                 0.0                 0.00.015712553569072387                 1.0\n",
      "                 0.0                 0.0                 1.0  0.8869062578537321                 0.0                 0.0 0.06764049365134761                 0.0\n",
      "                 1.0                 0.0                 1.0  0.2837396330736366                 0.0 0.16666666666666666 0.12366716556464086                 0.0\n",
      "                 1.0                 0.5                 0.0  0.4219653179190751                 0.0 0.166666666666666660.044893010197349675                 1.0\n",
      "                 0.0                 0.5                 1.0  0.4219653179190751               0.125                 0.00.050748620223090936                 1.0\n",
      "                 0.0                 1.0                 0.0 0.34656948982156316                 0.0                 0.00.015411575213749286                 1.0\n",
      "                 0.0                 1.0                 1.0  0.3672039796007691                 0.0                 0.00.015411575213749286                 1.0\n",
      "                 0.0                 0.0                 1.0  0.2586076903744659                 0.0 0.16666666666666666 0.15085515328815924                 1.0\n",
      "                 0.0                 1.0                 1.0  0.4093993465694898                 0.0                 0.00.016891873428256675                 1.0\n",
      "                 0.0                 1.0                 1.0  0.4596632319678311                0.25                 0.00.015468569817999833                 1.0\n",
      "                 0.0                 1.0                 1.0 0.34656948982156316                 0.0                 0.00.015411575213749286                 1.0\n",
      "                 1.0                 1.0                 0.0  0.2586076903744659                 0.0                 0.00.014931805565640218                 1.0\n",
      "                 1.0                 1.0                 1.0  0.3672039796007691                 0.0                 0.00.015175789316712771                 1.0\n",
      "                 0.0                 1.0                 1.0  0.4722292033174164                 0.0                 0.00.015411575213749286                 1.0\n",
      "                 1.0                 1.0                 0.0  0.3672039796007691               0.125                 0.0 0.04713766070721715                 0.5\n",
      "                 0.0                 0.0                 1.0  0.5853229454636844                 0.0                 0.0 0.10149724044618187                 1.0\n",
      "                 0.0                 1.0                 0.0 0.17692887660216136               0.125                 0.00.028212719478023115                 0.0\n",
      "                 0.0                 1.0                 1.0  0.2711736617240512                 0.0                 0.00.015712553569072387                 1.0\n",
      "                 0.0                 1.0                 0.0 0.24604171902488062               0.125                 0.00.019177122834302632                 1.0\n",
      "                 0.0                 1.0                 0.0 0.20834380497612465                 0.0                 0.00.028220722145058292                 0.0\n",
      "                 0.0                 1.0                 1.0  0.2586076903744659                 0.0                 0.00.015468569817999833                 1.0\n",
      "                 0.0                 1.0                 1.0  0.8806232721789394                 0.0                 0.00.015126992566498259                 0.5\n",
      "                 0.0                 0.5                 1.0 0.35913546117114853               0.125                 0.0 0.04098927018018883                 1.0\n",
      "                 0.0                 0.0                 1.0  0.2963056044232219                 0.0 0.16666666666666666  0.4831284260198326                 0.0\n",
      "                 0.0                 1.0                 0.0 0.01985423473234481                 0.5  0.3333333333333333 0.06104473451835265                 1.0\n",
      "                 0.0                 0.5                 1.0  0.2586076903744659                0.25                 0.0  0.1434624456306609                 1.0\n",
      "                 0.0                 1.0                 1.0  0.3672039796007691                 0.0                 0.00.015712553569072387                 1.0\n",
      "                 0.0                 0.5                 1.0 0.40311636089469716               0.125                 0.00.058694292654020104                 0.0\n",
      "                 1.0                 0.5                 0.0 0.40311636089469716                 0.0                 0.00.025374310111545468                 1.0\n",
      "                 0.0                 0.0                 1.0  0.6732847449107816                 0.0 0.16666666666666666 0.15085515328815924                 1.0\n",
      "                 1.0                 1.0                 1.0 0.14551394822819805               0.125                 0.00.021942337075458514                 0.0\n",
      "                 0.0                 1.0                 1.0  0.3672039796007691                 0.0                 0.00.015126992566498259                 0.5\n",
      "                 1.0                 1.0                 1.0  0.2963056044232219                 0.0                 0.0 0.01393967004027879                 1.0\n",
      "                 1.0                 1.0                 0.0  0.3672039796007691               0.125 0.16666666666666666 0.04364049521284362                 0.0\n",
      "                 0.0                 1.0                 1.0  0.5601910027645137                 0.0                 0.00.013614293309848433                 1.0\n",
      "                 0.0                 1.0                 1.0  0.4093993465694898                 0.0                 0.00.015411575213749286                 0.0\n",
      "                 0.0                 1.0                 1.0 0.24604171902488062                 0.0                 0.00.013760683560491965                 1.0\n",
      "                 0.0                 1.0                 0.0  0.5853229454636844               0.125                 0.00.028302115124416098                 1.0\n",
      "                 1.0                 0.5                 0.0 0.35913546117114853               0.125                 0.00.050748620223090936                 1.0\n",
      "                 0.0                 0.5                 1.0  0.3088715757728072                 0.0                 0.00.025374310111545468                 1.0\n",
      "                 0.0                 0.5                 1.0  0.2837396330736366                 0.0                 0.0 0.02936744577509929                 0.0\n",
      "                 1.0                 0.0                 0.0  0.2334757476752953                 0.0  0.33333333333333330.051301584996521765                 1.0\n",
      "                 0.0                 0.0                 1.0  0.4596632319678311               0.125                 0.0 0.10364429745562033                 1.0\n",
      "                 0.0                 1.0                 1.0 0.19577783362653933                 0.0                 0.0 0.01798980030808316                 1.0\n",
      "                 0.0                 0.0                 1.0  0.2963056044232219                 0.0                 0.0 0.15458810467956932                 0.0\n",
      "                 0.0                 1.0                 0.0  0.3672039796007691                 0.0  0.33333333333333330.029757819776815374                 0.0\n",
      "                 1.0                 1.0                 0.0  0.2711736617240512                 0.0                 0.00.015126992566498259                 1.0\n",
      "                 1.0                 1.0                 0.0  0.2963056044232219               0.125                 0.00.030937139635999665                 1.0\n",
      "                 0.0                 1.0                 1.0  0.2334757476752953                 0.0                 0.00.013175122557917838                 0.5\n",
      "                 0.0                 0.5                 1.0    0.22090977632571                 0.0                 0.00.022446505098674838                 1.0\n",
      "                 0.0                 0.5                 1.0  0.2334757476752953               0.125 0.16666666666666666 0.07173122281533045                 1.0\n",
      "                 1.0                 1.0                 1.0 0.33400351847197784                 0.0                 0.00.015216388212891242                 1.0\n",
      "                 0.0                 1.0                 0.0 0.10781603417944208                0.25  0.3333333333333333 0.06709553154495196                 1.0\n",
      "                 0.0                 0.5                 1.0  0.4533802462930384                 0.0  0.33333333333333330.050748620223090936                 1.0\n",
      "                 0.0                 0.5                 1.0  0.5224930887157577                 0.0                 0.00.025374310111545468                 1.0\n",
      "                 0.0                 0.5                 1.0  0.6355868308620256                 0.0                 0.0 0.02444717185746977                 1.0\n",
      "                 1.0                 0.0                 0.0  0.2711736617240512               0.125                 0.0 0.12999454257145598                 1.0\n",
      "                 0.0                 1.0                 1.0  0.6921337019351597                 0.0                 0.00.015712553569072387                 1.0\n",
      "                 0.0                 1.0                 1.0  0.5036441316913798                 0.0  0.33333333333333330.028302115124416098                 1.0\n",
      "                 0.0                 1.0                 1.0  0.3672039796007691                 0.0                 0.00.014273049437744325                 1.0\n",
      "                 0.0                 0.0                 1.0  0.6355868308620256                 0.0 0.16666666666666666 0.11980421963065935                 0.0\n",
      "                 1.0                 1.0                 0.0 0.19577783362653933                 0.0                 0.00.015094396337354966                 0.5\n",
      "                 0.0                 1.0                 1.0 0.37170143252073384                 0.0                 0.00.015712553569072387                 1.0\n",
      "                 0.0                 1.0                 1.0  0.3672039796007691                 0.0                 0.00.016908073949327893                 1.0\n",
      "                 0.0                 1.0                 1.0  0.3672039796007691                 1.0  0.3333333333333333 0.13575255909676825                 1.0\n",
      "                 0.0                 1.0                 1.0  0.5476250314149284                 0.0 0.166666666666666660.031425107138144774                 1.0\n",
      "                 1.0                 0.5                 0.0 0.49736114601658704                 0.0                 0.00.030741952635141623                 1.0\n",
      "                 0.0                 1.0                 1.0 0.32143754712239253                 0.0                 0.00.015175789316712771                 1.0\n",
      "                 0.0                 1.0                 1.0 0.20834380497612465                 0.0                 0.00.016908073949327893                 1.0\n",
      "                 0.0                 1.0                 1.00.007288263382759488                 0.5 0.16666666666666666 0.07746484096553544                 1.0\n",
      "                 1.0                 1.0                 1.0 0.10781603417944208                 0.0  0.3333333333333333 0.04006213192611313                 1.0\n",
      "                 1.0                 0.0                 0.0  0.3672039796007691                 0.0 0.16666666666666666 0.10735285047192313                 1.0\n",
      "                 0.0                 1.0                 0.0  0.5601910027645137               0.125  0.6666666666666666 0.05445717323939373                 1.0\n",
      "                 0.0                 0.0                 1.0  0.3672039796007691                 0.0                 0.00.050602229972447406                 1.0\n",
      "                 0.0                 1.0                 1.0 0.34656948982156316                 0.0                 0.0 0.11027245763075773                 1.0\n",
      "                 0.0                 0.0                 1.0  0.7612465443578789                 0.0                 0.0 0.06538764528744409                 1.0\n",
      "                 0.0                 1.0                 1.0 0.04498617743151546                 0.5 0.16666666666666666 0.05684821399990475                 0.5\n",
      "                 1.0                 1.0                 0.00.007288263382759488               0.125 0.166666666666666660.021730754366528396                 1.0\n",
      "                 0.0                 1.0                 1.0  0.2586076903744659                 0.0                 0.00.015468569817999833                 1.0\n",
      "                 0.0                 0.0                 1.0  0.6984166876099522                 0.0                 0.0 0.05991421140938287                 0.0\n",
      "                 0.0                 1.0                 1.0    0.22090977632571               0.125 0.166666666666666660.015330377421392339                 1.0\n",
      "                 0.0                 1.0                 1.0  0.3672039796007691               0.375 0.16666666666666666   0.049707687947515                 1.0\n",
      "                 0.0                 0.0                 0.0  0.6230208595124404                 0.0                 0.0 0.05604306762136532                 0.0\n",
      "                 0.0                 0.5                 1.0 0.37170143252073384                 0.0                 0.00.025374310111545468                 1.0\n",
      "                 0.0                 1.0                 1.0  0.4470972606182458                 0.0                 0.0                 0.0                 1.0\n",
      "                 0.0                 1.0                 0.0  0.3672039796007691                 1.0  0.3333333333333333 0.13575255909676825                 1.0\n",
      "                 0.0                 0.5                 1.0  0.3672039796007691                 0.0                 0.0 0.02937564362913533                 0.0\n",
      "                 0.0                 1.0                 1.0 0.10781603417944208                 0.5  0.3333333333333333 0.06126431989431795                 1.0\n",
      "                 1.0                 0.5                 1.00.007288263382759488                0.25 0.16666666666666666 0.07612293033463641                 1.0\n",
      "                 1.0                 1.0                 0.0 0.04498617743151546                 0.0  0.3333333333333333 0.04298993693898376                 1.0\n",
      "                 0.0                 0.0                 1.0  0.3672039796007691                 0.0                 0.0 0.09759350042902103                 1.0\n",
      "                 1.0                 1.0                 0.0  0.3672039796007691               0.125                 0.00.030253985132996517                 0.5\n",
      "                 1.0                 0.0                 1.0  0.5601910027645137                 0.0                 0.00.051822148727810165                 1.0\n",
      "                 0.0                 1.0                 1.0 0.49736114601658704               0.125 0.166666666666666660.030253985132996517                 0.5\n",
      "                 0.0                 1.0                 1.0  0.4470972606182458                 0.0                 0.00.015411575213749286                 1.0\n",
      "                 1.0                 0.5                 0.0 0.39683337521990447                 0.0                 0.00.025374310111545468                 1.0\n",
      "                 0.0                 0.5                 1.0  0.2334757476752953                 0.0                 0.00.025374310111545468                 1.0\n",
      "                 1.0                 1.0                 0.0  0.2334757476752953               0.125                 0.00.015330377421392339                 1.0\n",
      "                 1.0                 0.5                 1.00.032420206081930136               0.125 0.166666666666666660.050748620223090936                 1.0\n",
      "                 1.0                 0.0                 0.0  0.5476250314149284                 0.0                 0.0 0.05410739813385612                 0.0\n",
      "                 1.0                 0.0                 0.0   0.723548630309123                 0.0                 0.0  0.2859895551532101                 0.0\n",
      "                 0.0                 1.0                 1.0  0.3672039796007691                 0.0                 0.00.015126992566498259                 0.5\n",
      "                 0.0                 1.0                 1.0  0.5224930887157577                 0.0 0.16666666666666666 0.01640390592611157                 1.0\n",
      "                 1.0                 1.0                 0.0  0.3672039796007691                 0.0                 0.00.015126992566498259                 0.5\n",
      "                 0.0                 0.5                 0.0  0.2963056044232219                 0.0                 0.00.025374310111545468                 1.0\n",
      "                 0.0                 1.0                 1.0 0.34656948982156316                 0.0                 0.00.018542765081513996                 1.0\n",
      "                 0.0                 1.0                 1.0  0.3672039796007691                 1.0  0.3333333333333333 0.13575255909676825                 1.0\n",
      "                 0.0                 1.0                 1.0  0.4219653179190751                 0.0                 0.00.012678957201736696                 1.0\n",
      "                 0.0                 1.0                 1.0  0.5664739884393064                 0.0                 0.00.014102260811993537                 0.0\n",
      "                 1.0                 1.0                 1.0    0.22090977632571                 0.0                 0.00.015712553569072387                 1.0\n",
      "                 0.0                 1.0                 0.0 0.01985423473234481                 0.0 0.16666666666666666 0.02042143996477265                 1.0\n",
      "                 0.0                 1.0                 1.0 0.39683337521990447               0.125                 0.00.030937139635999665                 1.0\n",
      "                 1.0                 1.0                 1.0 0.32143754712239253                 0.0                 0.00.036670757786204655                 0.0\n",
      "                 1.0                 1.0                 0.0 0.19577783362653933                 0.0                 0.00.015126992566498259                 0.5\n",
      "                 1.0                 0.0                 1.0 0.49736114601658704                 0.0                 0.00.060507970265993034                 0.0\n",
      "                 0.0                 1.0                 1.0  0.2963056044232219                 0.0                 0.00.013760683560491965                 1.0\n",
      "                 1.0                 0.5                 0.0  0.4345312892686604                 0.0                 0.0 0.04098927018018883                 1.0\n",
      "                 0.0                 1.0                 1.0  0.2711736617240512                 0.0                 0.00.014151057562208049                 1.0\n",
      "                 0.0                 0.5                 1.0 0.37170143252073384                 0.0                 0.00.025374310111545468                 1.0\n",
      "                 0.0                 1.0                 1.0  0.3672039796007691               0.125                 0.00.015126992566498259                 0.5\n",
      "                 1.0                 0.0                 0.0 0.38426740387031916               0.125                 0.0 0.22109807522194713                 0.0\n",
      "                 1.0                 1.0                 0.0 0.33400351847197784                 0.0                 0.00.015468569817999833                 1.0\n",
      "                 0.0                 0.5                 1.0  0.5224930887157577               0.125                 0.0 0.05270049023167135                 1.0\n",
      "                 1.0                 0.0                 0.0 0.39683337521990447                 0.0                 0.0 0.14891148113361488                 0.0\n",
      "                 0.0                 0.5                 1.0 0.37170143252073384                 0.0                 0.00.020494635090094415                 1.0\n",
      "                 1.0                 1.0                 1.0 0.19577783362653933                 0.0                 0.00.015712553569072387                 1.0\n",
      "                 0.0                 0.5                 1.0 0.33400351847197784                 0.0                 0.00.025374310111545468                 1.0\n",
      "                 0.0                 1.0                 1.0  0.6355868308620256                 0.0                 0.00.015712553569072387                 1.0\n",
      "                 0.0                 1.0                 1.0  0.3672039796007691                 0.0                 0.00.015411575213749286                 1.0\n",
      "                 1.0                 0.0                 1.0  0.4722292033174164               0.125                 0.0 0.17566830077223786                 1.0\n",
      "                 0.0                 1.0                 1.0  0.2711736617240512                 0.0                 0.00.018249984580226933                 1.0\n",
      "                 1.0                 0.5                 1.0  0.2334757476752953                 0.0                 0.00.020494635090094415                 1.0\n",
      "                 0.0                 1.0                 1.0  0.2523247046996733                 0.0                 0.00.014151057562208049                 1.0\n",
      "                 0.0                 0.5                 1.0    0.22090977632571                 0.0                 0.00.025374310111545468                 1.0\n",
      "                 0.0                 1.0                 0.0  0.3672039796007691               0.375 0.16666666666666666   0.049707687947515                 1.0\n",
      "                 1.0                 0.0                 0.0  0.4345312892686604               0.125                 0.0 0.16293234896625058                 1.0\n",
      "                 0.0                 1.0                 1.0 0.35913546117114853                 0.0                 0.00.015175789316712771                 1.0\n",
      "                 0.0                 0.5                 1.0  0.7361146016587082                 0.0                 0.00.026350245115835676                 1.0\n",
      "                 1.0                 1.0                 0.0 0.05755214878110078                 0.5  0.3333333333333333 0.06126431989431795                 1.0\n",
      "                 0.0                 0.5                 1.0  0.2963056044232219                 0.0                 0.00.020494635090094415                 1.0\n",
      "                 0.0                 1.0                 0.0  0.3672039796007691                 0.0                 0.00.014736618564782174                 1.0\n",
      "                 0.0                 0.5                 1.0  0.5476250314149284               0.125                 0.00.050748620223090936                 1.0\n",
      "                 1.0                 0.5                 0.0 0.09525006282985675                 0.0  0.3333333333333333 0.05123658772523604                 1.0\n",
      "                 0.0                 0.5                 1.0  0.2334757476752953                 0.0                 0.00.020494635090094415                 1.0\n",
      "                 0.0                 0.5                 1.0  0.4093993465694898                 0.0                 0.00.023959204355324663                 1.0\n",
      "                 0.0                 1.0                 0.0  0.3672039796007691               0.125                 0.00.028212719478023115                 0.0\n",
      "                 1.0                 1.0                 0.0  0.3672039796007691               0.125                 0.00.030253985132996517                 0.5\n",
      "                 0.0                 0.5                 1.0 0.35913546117114853                 0.0                 0.00.020494635090094415                 1.0\n",
      "                 0.0                 1.0                 1.0  0.2711736617240512                 0.0                 0.00.013907073811135496                 1.0\n",
      "                 0.0                 1.0                 1.0 0.37170143252073384                 0.0                 0.00.014102260811993537                 0.0\n",
      "                 0.0                 0.0                 1.0  0.5476250314149284                0.25                 0.0 0.17566830077223786                 0.5\n",
      "                 0.0                 1.0                 0.0  0.3088715757728072                 0.0                 0.00.015175789316712771                 1.0\n",
      "                 1.0                 0.5                 0.0  0.2963056044232219                 0.0  0.33333333333333330.028302115124416098                 1.0\n",
      "                 1.0                 0.0                 1.0  0.4596632319678311               0.125 0.16666666666666666 0.10257896680493714                 1.0\n",
      "                 0.0                 0.5                 1.0  0.6732847449107816               0.125                 0.00.050748620223090936                 1.0\n",
      "                 0.0                 1.0                 1.0  0.3672039796007691                 0.0                 0.00.014151057562208049                 1.0\n",
      "                 0.0                 1.0                 0.0 0.35913546117114853               0.125 0.16666666666666666 0.02042143996477265                 1.0\n",
      "                 0.0                 0.0                 1.0  0.7738125157074642                 0.0                 0.00.051822148727810165                 1.0\n",
      "                 0.0                 1.0                 1.0 0.37170143252073384               0.125                 0.00.031425107138144774                 1.0\n",
      "                 0.0                 1.0                 0.0  0.5099271173661725                 0.0  0.33333333333333330.039452172548431745                 1.0\n",
      "                 1.0                 1.0                 0.0 0.35913546117114853                 0.0  0.33333333333333330.029757819776815374                 0.0\n",
      "                 1.0                 0.0                 0.0  0.3672039796007691                 0.0                 0.0 0.15458810467956932                 0.0\n",
      "                 1.0                 0.0                 0.0 0.37170143252073384                 0.0                 0.0 0.16883675574220638                 1.0\n",
      "                 1.0                 0.0                 0.0  0.4345312892686604                 0.0                 0.0                 1.0                 0.0\n",
      "                 1.0                 0.5                 0.0  0.6230208595124404                 0.0 0.166666666666666660.050748620223090936                 1.0\n",
      "                 0.0                 1.0                 1.0  0.3672039796007691                 0.0                 0.00.015126992566498259                 0.5\n",
      "                 1.0                 1.0                 1.00.032420206081930136                 0.5  0.3333333333333333 0.06126431989431795                 1.0\n",
      "                 0.0                 0.0                 1.0   0.648152802211611               0.125 0.16666666666666666  0.1554664461834305                 1.0\n",
      "                 0.0                 0.0                 1.0 0.49736114601658704                 0.0                 0.0                 0.0                 1.0\n",
      "                 0.0                 1.0                 0.0  0.3672039796007691                 0.0                 0.00.015126992566498259                 0.5\n",
      "                 0.0                 0.5                 1.0  0.4470972606182458                 0.0                 0.00.020494635090094415                 1.0\n",
      "                 0.0                 1.0                 1.0 0.19577783362653933                 0.5 0.16666666666666666 0.07746484096553544                 1.0\n",
      "                 1.0                 1.0                 1.0  0.3088715757728072               0.125                 0.00.015175789316712771                 1.0\n",
      "                 1.0                 0.0                 0.0   0.723548630309123                 0.0 0.16666666666666666  0.2995388511917728                 1.0\n",
      "                 1.0                 0.0                 0.0  0.4345312892686604                 0.0                 0.0  0.2647385704347907                 1.0\n",
      "                 0.0                 0.0                 1.0  0.3672039796007691                 0.0                 0.00.060507970265993034                 1.0\n",
      "                 1.0                 1.0                 1.0  0.3088715757728072                 0.0                 0.0                 0.0                 1.0\n",
      "                 1.0                 0.5                 0.0  0.5099271173661725                 0.0 0.166666666666666660.038061465167318204                 1.0\n",
      "                 0.0                 0.0                 1.0  0.4596632319678311                 0.0 0.166666666666666660.057970539254838485                 0.0\n",
      "                 1.0                 1.0                 0.0  0.3672039796007691                 0.0                 0.00.015126992566498259                 0.5\n",
      "                 1.0                 0.0                 0.0  0.7863784870570495               0.125                 0.0 0.15216446768991498                 1.0\n",
      "                 0.0                 1.0                 0.0  0.5601910027645137                 0.0                 0.00.015126992566498259                 1.0\n",
      "                 0.0                 0.5                 1.0  0.3672039796007691                 0.0                 0.0                 0.0                 1.0\n",
      "                 0.0                 1.0                 1.0 0.08268409148027142                 0.5 0.16666666666666666 0.05684821399990475                 0.5\n",
      "                 1.0                 1.0                 0.0  0.4345312892686604               0.125 0.16666666666666666 0.03952536767375352                 1.0\n",
      "                 0.0                 1.0                 1.0  0.8115104297562202                 0.0                 0.00.015126992566498259                 0.5\n",
      "                 0.0                 1.0                 1.0 0.34656948982156316                 0.0                 0.00.015330377421392339                 1.0\n",
      "                 0.0                 1.0                 1.0 0.19577783362653933                 0.0                 0.00.018542765081513996                 1.0\n",
      "                 1.0                 1.0                 1.0  0.2334757476752953                 0.0                 0.00.015712553569072387                 1.0\n",
      "                 0.0                 0.0                 1.0  0.3672039796007691                 0.0                 0.00.050748620223090936                 1.0\n",
      "                 0.0                 1.0                 1.0  0.4093993465694898                 0.0                 0.00.016908073949327893                 0.0\n",
      "                 1.0                 1.0                 1.0 0.37170143252073384                 0.0                 0.00.018542765081513996                 1.0\n",
      "                 0.0                 1.0                 1.0  0.2711736617240512                 0.0                 0.00.015411575213749286                 1.0\n",
      "                 1.0                 0.5                 1.0  0.5224930887157577                 0.0                 0.00.025374310111545468                 1.0\n",
      "                 1.0                 1.0                 0.0  0.2711736617240512                 0.0                 0.00.015126992566498259                 0.5\n",
      "                 1.0                 0.0                 0.0 0.32143754712239253                 0.0                 0.0 0.15390495017656614                 1.0\n",
      "                 1.0                 0.0                 0.0  0.2334757476752953               0.125                 0.0 0.17777475888549785                 0.0\n",
      "                 0.0                 0.5                 1.0  0.4470972606182458                 0.0                 0.00.025130326360472913                 0.0\n",
      "                 0.0                 1.0                 0.0  0.2963056044232219                 0.0                 0.0 0.01727404957593672                 1.0\n",
      "                 0.0                 1.0                 1.0  0.2963056044232219                 0.0                 0.00.015411575213749286                 1.0\n",
      "                 0.0                 0.0                 1.0  0.3672039796007691                 0.0                 0.0 0.05410739813385612                 0.0\n",
      "                 0.0                 1.0                 1.0  0.2900226187484292                 0.0                 0.00.014110458666029575                 0.0\n",
      "                 0.0                 0.0                 0.0 0.01985423473234481               0.125  0.3333333333333333 0.29580589980036276                 1.0\n",
      "                 1.0                 0.0                 1.0  0.3672039796007691                 0.0                 0.0 0.05953203526170282                 1.0\n",
      "                 1.0                 0.0                 0.0  0.6230208595124404                 0.0 0.16666666666666666  0.4831284260198326                 0.0\n",
      "                 1.0                 1.0                 0.0  0.3672039796007691                 0.0                 0.00.015126992566498259                 0.5\n",
      "                 1.0                 1.0                 1.0  0.3672039796007691                0.25                 0.0 0.04538097769949478                 0.5\n",
      "                 0.0                 1.0                 1.0  0.2334757476752953                 0.0                 0.0                 0.0                 1.0\n",
      "                 1.0                 0.5                 0.0  0.3672039796007691                 0.0                 0.00.024105594605968193                 0.5\n",
      "                 0.0                 1.0                 1.0  0.3672039796007691                 0.0                 0.00.015712553569072387                 1.0\n",
      "                 1.0                 0.0                 1.00.006282985674792663               0.125  0.3333333333333333 0.29580589980036276                 1.0\n",
      "                 1.0                 0.0                 0.0  0.3672039796007691                 0.0                 0.0 0.21642978772242535                 0.0\n",
      "                 1.0                 0.0                 0.0 0.20834380497612465               0.125                 0.0  0.2125586439344078                 0.0\n",
      "                 0.0                 0.5                 1.0 0.37170143252073384               0.125                 0.0 0.04684488020593009                 0.0\n",
      "                 1.0                 0.0                 0.0 0.37170143252073384                 0.0                 0.0 0.11111839809247648                 0.0\n",
      "                 1.0                 0.0                 0.0  0.2963056044232219                 0.0                 0.0 0.16231419173453318                 0.0\n",
      "                 1.0                 0.0                 0.0    0.22090977632571                0.25  0.3333333333333333  0.5121218935012878                 0.0\n",
      "                 0.0                 0.5                 0.0 0.32143754712239253               0.125 0.166666666666666660.050748620223090936                 1.0\n",
      "                 0.0                 1.0                 1.0 0.34656948982156316                 0.0                 0.00.015411575213749286                 1.0\n",
      "                 0.0                 0.5                 1.0  0.5350590600653431               0.125 0.16666666666666666 0.05123658772523604                 1.0\n",
      "                 1.0                 1.0                 0.0 0.32143754712239253                 0.0                 0.00.015330377421392339                 1.0\n",
      "                 1.0                 0.5                 0.0  0.2963056044232219               0.125                 0.00.050748620223090936                 1.0\n",
      "                 0.0                 0.5                 1.0  0.6732847449107816                 0.0                 0.00.027326180120125887                 1.0\n",
      "                 1.0                 0.0                 0.0 0.38426740387031916                 0.0  0.3333333333333333 0.32179836714362564                 1.0\n",
      "                 1.0                 0.0                 0.0 0.49736114601658704               0.125 0.16666666666666666  0.2625265161540666                 0.0\n",
      "                 0.0                 1.0                 1.0  0.2711736617240512                 0.0                 0.00.014151057562208049                 1.0\n",
      "                 0.0                 1.0                 1.0 0.33400351847197784                 0.0                 0.00.015411575213749286                 1.0\n",
      "                 1.0                 0.5                 0.0 0.37170143252073384                 0.0                 0.00.024105594605968193                 0.5\n",
      "                 1.0                 0.5                 0.0  0.2711736617240512               0.125 0.166666666666666660.056604230248832196                 1.0\n",
      "                 0.0                 1.0                 1.0  0.3672039796007691                 1.0  0.3333333333333333 0.13575255909676825                 1.0\n",
      "                 1.0                 0.0                 0.0  0.4470972606182458                 0.0                 0.0  0.2647385704347907                 0.0\n",
      "                 0.0                 1.0                 1.0  0.7612465443578789                 0.0                 0.00.012174789178520372                 1.0\n",
      "                 1.0                 0.5                 0.0  0.4470972606182458                 0.0                 0.00.025374310111545468                 1.0\n",
      "                 1.0                 1.0                 0.0 0.38426740387031916               0.125 0.16666666666666666 0.04006213192611313                 1.0\n",
      "                 1.0                 0.0                 0.0 0.19577783362653933                 0.0 0.16666666666666666 0.11316786160148591                 0.0\n",
      "                 1.0                 1.0                 0.0  0.3672039796007691                0.25                 0.0 0.04538097769949478                 0.5\n",
      "                 0.0                 0.0                 1.0  0.5664739884393064                 0.0                 0.00.055628295244541985                 1.0\n",
      "                 0.0                 0.0                 1.0  0.4722292033174164                 0.0 0.16666666666666666  0.2995388511917728                 1.0\n",
      "                 0.0                 1.0                 1.0 0.19577783362653933                0.25                 0.0 0.03513366015444757                 1.0\n",
      "                 1.0                 0.0                 0.0  0.3672039796007691               0.125                 0.0  0.2608674266467732                 1.0\n",
      "                 0.0                 1.0                 1.0  0.3672039796007691                 0.0                 0.00.015411575213749286                 1.0\n",
      "                 0.0                 0.0                 1.0 0.35913546117114853               0.125                 0.0 0.12999454257145598                 1.0\n",
      "                 1.0                 0.0                 0.0  0.5099271173661725                 0.0                 0.0  0.2625265161540666                 0.0\n",
      "                 1.0                 1.0                 1.0  0.5601910027645137                 0.0                 0.00.015712553569072387                 1.0\n",
      "                 0.0                 0.0                 1.0  0.5601910027645137                 0.0                 0.0 0.06929138530460494                 1.0\n",
      "                 1.0                 0.5                 1.0 0.01985423473234481               0.125 0.166666666666666660.050748620223090936                 1.0\n",
      "                 1.0                 0.0                 0.0  0.2963056044232219               0.375  0.3333333333333333  0.5133418122566507                 1.0\n",
      "                 0.0                 0.5                 1.0 0.34656948982156316                 0.0                 0.00.025374310111545468                 1.0\n",
      "                 0.0                 0.5                 1.0  0.3088715757728072                 0.0                 0.00.025374310111545468                 1.0\n",
      "                 0.0                 0.5                 1.0  0.4470972606182458                 0.0                 0.00.025374310111545468                 1.0\n",
      "                 1.0                 0.5                 0.0  0.2963056044232219                 0.0                 0.00.025374310111545468                 1.0\n",
      "                 1.0                 0.5                 0.0 0.49736114601658704                 0.0                 0.00.025374310111545468                 1.0\n",
      "                 1.0                 1.0                 0.0  0.3672039796007691               0.125                 0.00.031425107138144774                 1.0\n",
      "                 1.0                 1.0                 1.00.032420206081930136               0.125 0.166666666666666660.031034733136428686                 1.0\n",
      "                 0.0                 1.0                 1.0  0.5224930887157577                 0.0                 0.00.016908073949327893                 1.0\n",
      "                 0.0                 1.0                 1.0  0.2837396330736366                 0.0                 0.0 0.01800600082915438                 1.0\n",
      "                 0.0                 0.0                 1.0  0.3672039796007691                 0.0                 0.0 0.06831545030031472                 1.0\n",
      "                 0.0                 1.0                 1.0 0.18321186227695402               0.125 0.166666666666666660.014110458666029575                 0.0\n",
      "                 0.0                 1.0                 1.0  0.3088715757728072               0.125                 0.00.034743286152731485                 1.0\n",
      "                 0.0                 1.0                 1.0  0.3672039796007691                 0.0                 0.00.014102260811993537                 0.0\n",
      "                 0.0                 1.0                 1.0 0.34656948982156316                 0.0                 0.00.018542765081513996                 1.0\n",
      "                 1.0                 0.0                 0.0  0.2711736617240512                 0.0 0.16666666666666666 0.10735285047192313                 1.0\n",
      "                 0.0                 0.5                 0.0  0.4722292033174164                 0.0                 0.00.025374310111545468                 1.0\n",
      "                 1.0                 1.0                 0.0  0.3672039796007691                 0.0                 0.0 0.01537917417160685                 0.5\n",
      "                 1.0                 1.0                 0.0  0.3672039796007691                 0.0                 0.0 0.01537917417160685                 0.5\n",
      "                 0.0                 1.0                 1.0 0.49736114601658704               0.125  0.6666666666666666 0.05445717323939373                 1.0\n",
      "                 0.0                 0.5                 1.0 0.35913546117114853               0.125                 0.0 0.05410739813385612                 0.0\n",
      "                 0.0                 1.0                 0.0  0.5601910027645137                 0.0 0.166666666666666660.028212719478023115                 0.0\n",
      "                 0.0                 1.0                 1.0  0.4345312892686604                 0.0                 0.00.013760683560491965                 1.0\n",
      "                 0.0                 1.0                 1.0  0.3672039796007691               0.125                 0.00.030253985132996517                 0.5\n",
      "                 0.0                 1.0                 1.0 0.37170143252073384                 0.0                 0.00.014151057562208049                 1.0\n",
      "                 1.0                 0.0                 0.0  0.7486805730082936               0.125                 0.0 0.14687821814567664                 0.0\n",
      "                 1.0                 1.0                 0.0  0.3672039796007691                 0.0                 0.00.014110458666029575                 0.0\n",
      "                 1.0                 1.0                 0.0  0.3672039796007691                 0.0                 0.00.015126992566498259                 0.5\n",
      "                 1.0                 0.0                 0.0  0.2963056044232219                 0.0                 0.0 0.13526459159462315                 0.0\n",
      "                 1.0                 0.0                 1.0  0.3088715757728072               0.125                 0.0  0.1082149914547131                 0.0\n",
      "                 0.0                 1.0                 1.0    0.22090977632571               0.125                 0.00.012678957201736696                 1.0\n",
      "                 0.0                 1.0                 1.0  0.2334757476752953                 0.0                 0.00.015712553569072387                 1.0\n",
      "                 0.0                 0.0                 1.0  0.2711736617240512                 0.0                 0.0  0.2647385704347907                 0.0\n",
      "                 0.0                 1.0                 0.00.032420206081930136               0.375 0.16666666666666666 0.04113566043083236                 1.0\n",
      "                 1.0                 0.0                 0.0  0.3672039796007691               0.125                 0.0 0.16038672010106003                 0.0\n",
      "                 1.0                 1.0                 0.0  0.2711736617240512                 0.0                 0.00.014151057562208049                 1.0\n",
      "                 0.0                 0.0                 1.0 0.33400351847197784                 0.0  0.3333333333333333 0.41282050681475896                 0.0\n",
      "                 0.0                 1.0                 1.0 0.24604171902488062                 0.0                 0.00.007831878409428937                 0.0\n",
      "                 0.0                 1.0                 1.0  0.2334757476752953                 0.0                 0.00.015175789316712771                 1.0\n",
      "                 1.0                 0.0                 0.0  0.5224930887157577                 0.0                 0.0  0.4440992237022602                 0.0\n",
      "                 1.0                 1.0                 0.00.007288263382759488                 0.0  0.33333333333333330.030725752114070404                 0.0\n",
      "                 0.0                 1.0                 1.0 0.39683337521990447                 0.0                 0.00.015468569817999833                 1.0\n",
      "                 1.0                 0.0                 0.0  0.4345312892686604               0.125                 0.0 0.10149724044618187                 1.0\n",
      "                 0.0                 1.0                 1.0  0.3672039796007691                 0.0                 0.00.015411575213749286                 1.0\n",
      "                 0.0                 0.5                 1.0    0.22090977632571                 0.0                 0.0  0.1434624456306609                 1.0\n",
      "                 0.0                 1.0                 1.00.007288263382759488               0.625  0.3333333333333333 0.09154270340242172                 1.0\n",
      "                 1.0                 0.5                 0.0  0.4470972606182458                 0.0                 0.00.025374310111545468                 1.0\n",
      "                 0.0                 1.0                 1.0  0.3672039796007691                 0.0                 0.00.015086393670319786                 0.5\n",
      "                 1.0                 0.5                 0.0 0.20834380497612465                 0.0                 0.00.023422440102965045                 0.0\n",
      "                 1.0                 0.0                 1.0  0.4470972606182458               0.125  0.3333333333333333 0.23422440102965048                 1.0\n",
      "                 1.0                 1.0                 1.0  0.2586076903744659                 0.0                 0.00.015216388212891242                 1.0\n",
      "                 0.0                 1.0                 1.0 0.34656948982156316                0.25                 0.00.015468569817999833                 1.0\n",
      "                 1.0                 0.0                 0.0  0.2837396330736366               0.125                 0.0 0.22109807522194713                 0.0\n",
      "                 1.0                 1.0                 0.0  0.2963056044232219                 0.0  0.3333333333333333 0.03259622914329302                 1.0\n",
      "                 0.0                 1.0                 1.0  0.2711736617240512                 0.0                 0.00.015216388212891242                 1.0\n",
      "                 0.0                 1.0                 0.0 0.38426740387031916                 0.0                 0.00.015330377421392339                 1.0\n",
      "                 0.0                 0.5                 1.0  0.5727569741140991                 0.0                 0.00.050748620223090936                 1.0\n",
      "                 0.0                 0.5                 1.0  0.2837396330736366                 0.0                 0.00.020494635090094415                 1.0\n",
      "                 1.0                 0.5                 0.0 0.34656948982156316                 0.0                 0.0 0.02469115560854232                 1.0\n",
      "                 1.0                 1.0                 1.0  0.4847951746670017                 0.0                 0.00.015468569817999833                 1.0\n",
      "                 0.0                 1.0                 1.0 0.32143754712239253                 0.0                 0.00.015712553569072387                 1.0\n",
      "                 0.0                 1.0                 0.0  0.2586076903744659               0.125                 0.00.019177122834302632                 1.0\n",
      "                 0.0                 1.0                 1.0 0.34656948982156316               0.125                 0.00.030937139635999665                 1.0\n",
      "                 0.0                 1.0                 0.0 0.24604171902488062                 0.0                 0.00.016908073949327893                 1.0\n",
      "                 0.0                 0.5                 1.0  0.4219653179190751               0.125                 0.0 0.04098927018018883                 1.0\n",
      "                 0.0                 1.0                 1.0  0.6355868308620256                 0.0                 0.00.015126992566498259                 1.0\n",
      "                 1.0                 0.5                 1.00.032420206081930136               0.125 0.16666666666666666 0.03659756266088288                 1.0\n",
      "                 0.0                 1.0                 1.0  0.2586076903744659                 0.0                 0.00.015175789316712771                 1.0\n",
      "                 0.0                 1.0                 0.0  0.3672039796007691               0.375 0.16666666666666666   0.049707687947515                 1.0\n",
      "                 0.0                 1.0                 1.0  0.3672039796007691                 0.0                 0.00.015411575213749286                 1.0\n",
      "                 0.0                 1.0                 1.0  0.3672039796007691                 0.0                 0.00.013386510079847098                 0.5\n",
      "                 1.0                 0.0                 0.0  0.4093993465694898               0.125                 0.0 0.17566830077223786                 0.5\n",
      "                 0.0                 0.5                 1.0  0.3672039796007691                 0.0                 0.0                 0.0                 1.0\n",
      "                 1.0                 1.0                 1.0  0.5476250314149284                 0.0                 0.00.015468569817999833                 1.0\n",
      "                 0.0                 1.0                 0.0  0.3672039796007691                 0.0                 0.00.015712553569072387                 1.0\n",
      "                 1.0                 0.5                 0.0  0.4219653179190751               0.125 0.16666666666666666 0.06343577527886367                 1.0\n",
      "                 1.0                 0.5                 0.0    0.22090977632571                 0.0  0.33333333333333330.025374310111545468                 1.0\n",
      "                 0.0                 0.5                 1.0 0.37170143252073384                 0.0                 0.00.025374310111545468                 1.0\n",
      "                 0.0                 1.0                 0.0 0.12038200552902739                 0.0  0.3333333333333333 0.04713766070721715                 1.0\n",
      "                 0.0                 1.0                 1.0  0.3672039796007691                 0.0                 0.00.015411575213749286                 0.0\n",
      "                 0.0                 1.0                 1.0  0.2586076903744659                 0.0                 0.00.015094396337354966                 0.5\n",
      "                 0.0                 1.0                 1.0 0.35913546117114853                 0.0                 0.00.015370976317570811                 1.0\n",
      "                 0.0                 1.0                 0.0 0.34656948982156316               0.125 0.166666666666666660.028106928123558056                 1.0\n",
      "                 0.0                 1.0                 1.0    0.22090977632571               0.125 0.166666666666666660.039452172548431745                 1.0\n",
      "                 0.0                 1.0                 1.0  0.3672039796007691                 0.0                 0.00.014151057562208049                 1.0\n",
      "                 1.0                 0.5                 0.0 0.34656948982156316               0.125                 0.00.050748620223090936                 1.0\n",
      "                 1.0                 0.5                 0.0  0.2334757476752953                 0.0                 0.00.050748620223090936                 1.0\n",
      "                 0.0                 1.0                 1.0  0.3672039796007691                 0.0                 0.00.015126992566498259                 0.5\n",
      "                 1.0                 1.0                 1.0 0.39683337521990447                 0.0                 0.00.015712553569072387                 1.0\n",
      "                 1.0                 0.0                 1.0 0.34656948982156316                 0.0                 0.00.051822148727810165                 1.0\n",
      "                 1.0                 1.0                 0.0  0.3672039796007691               0.125                 0.00.031425107138144774                 1.0\n",
      "                 1.0                 0.5                 0.0  0.5224930887157577               0.125                 0.00.050748620223090936                 1.0\n",
      "                 0.0                 1.0                 1.0 0.20834380497612465                 0.0                 0.00.013907073811135496                 1.0\n",
      "                 0.0                 0.0                 1.0  0.6230208595124404               0.125                 0.0  0.1091095334796455                 1.0\n",
      "                 1.0                 0.0                 0.0 0.17064589092736868               0.125  0.3333333333333333 0.23422440102965048                 1.0\n",
      "                 0.0                 1.0                 0.0  0.2586076903744659                0.25  0.3333333333333333 0.06709553154495196                 1.0\n",
      "                 1.0                 0.5                 0.0  0.2963056044232219                0.25                 0.5 0.03659756266088288                 1.0\n",
      "                 0.0                 0.0                 1.0  0.7989444584066349               0.125  0.6666666666666666  0.5133418122566507                 1.0\n",
      "                 0.0                 0.5                 1.0 0.38426740387031916                 0.0                 0.00.020494635090094415                 1.0\n",
      "                 1.0                 0.5                 0.0  0.5601910027645137               0.125 0.16666666666666666 0.05123658772523604                 1.0\n",
      "                 0.0                 1.0                 1.0 0.24604171902488062                 0.0                 0.00.018542765081513996                 1.0\n",
      "                 0.0                 1.0                 1.0  0.3088715757728072               0.125                 0.00.015175789316712771                 1.0\n",
      "                 1.0                 0.5                 0.0 0.34656948982156316                 0.0                 0.00.025374310111545468                 1.0\n",
      "                 1.0                 1.0                 1.0  0.3672039796007691                 0.0                 0.00.015834545444608664                 1.0\n",
      "                 1.0                 0.0                 1.0 0.04498617743151546                 0.0  0.3333333333333333 0.15977676072337862                 1.0\n",
      "                 1.0                 0.5                 0.0 0.15807991957778336                 0.0 0.166666666666666660.038061465167318204                 1.0\n",
      "                 1.0                 0.0                 1.0  0.4219653179190751                 0.0                 0.00.051822148727810165                 1.0\n",
      "                 1.0                 1.0                 0.0 0.05755214878110078                0.25 0.16666666666666666 0.03758969818624431                 0.0\n",
      "                 1.0                 0.0                 1.0   0.648152802211611                 0.0                 0.0 0.05953203526170282                 1.0\n",
      "                 0.0                 0.5                 1.0  0.4470972606182458               0.125  0.3333333333333333 0.05416439273810667                 1.0\n",
      "                 0.0                 1.0                 1.0  0.3672039796007691               0.125                 0.0 0.03897240290032268                 1.0\n",
      "                 0.0                 0.0                 1.0 0.37170143252073384                 0.0                 0.0 0.05416439273810667                 0.0\n",
      "                 1.0                 0.0                 1.0   0.610454888162855               0.125                 0.0 0.17391981561855152                 0.0\n",
      "                 0.0                 1.0                 1.0  0.3672039796007691                 0.0                 0.00.015712553569072387                 1.0\n",
      "                 1.0                 1.0                 1.0 0.35913546117114853                 0.0                 0.00.015411575213749286                 0.0\n",
      "                 0.0                 0.0                 1.0  0.8115104297562202                 0.0                 0.00.051822148727810165                 1.0\n",
      "                 1.0                 0.0                 0.0  0.3672039796007691               0.125                 0.0 0.10122885832000206                 1.0\n",
      "                 1.0                 0.5                 0.0  0.6230208595124404                 0.0                 0.00.020494635090094415                 1.0\n",
      "                 0.0                 1.0                 1.0  0.3672039796007691                 0.0                 0.00.015126992566498259                 0.5\n",
      "                 1.0                 0.0                 1.0  0.5978889168132697                 0.0                 0.00.051822148727810165                 1.0\n",
      "                 0.0                 1.0                 1.0  0.4219653179190751                 0.0                 0.00.015712553569072387                 1.0\n",
      "                 0.0                 0.0                 1.0  0.5853229454636844                 0.0                 0.0 0.07514699533034619                 1.0\n",
      "                 0.0                 0.5                 1.0  0.5978889168132697                 0.0                 0.00.025374310111545468                 1.0\n",
      "                 0.0                 1.0                 1.0  0.3672039796007691                 0.0                 0.00.015712553569072387                 1.0\n",
      "                 0.0                 1.0                 1.0  0.4722292033174164                 0.0                 0.00.013760683560491965                 1.0\n",
      "                 0.0                 0.5                 1.0  0.3672039796007691                 0.0                 0.0                 0.0                 1.0\n",
      "                 0.0                 0.0                 1.0  0.6984166876099522                 0.0                 0.00.051822148727810165                 1.0\n",
      "                 0.0                 1.0                 1.0  0.3672039796007691                 0.0                 0.00.015078195816283748                 0.5\n",
      "                 1.0                 1.0                 0.00.0041467705453631576                0.25 0.16666666666666666 0.03758969818624431                 0.0\n",
      "                 0.0                 1.0                 1.0  0.3672039796007691                 0.0                 0.00.014151057562208049                 1.0\n",
      "                 0.0                 1.0                 1.0  0.4722292033174164                 0.0                 0.00.016908073949327893                 1.0\n",
      "                 1.0                 0.5                 0.0  0.4093993465694898               0.125  0.3333333333333333 0.05416439273810667                 1.0\n",
      "                 1.0                 0.5                 0.0  0.2837396330736366                 0.0                 0.00.026919605597338588                 0.0\n",
      "                 0.0                 1.0                 0.0  0.2711736617240512                 0.0                 0.00.019201521209409888                 1.0\n",
      "                 0.0                 0.0                 1.0  0.3672039796007691                 0.0                 0.0 0.10149724044618187                 1.0\n",
      "                 0.0                 0.5                 1.0  0.4219653179190751               0.125                 0.0 0.04098927018018883                 1.0\n",
      "                 0.0                 1.0                 1.0 0.35913546117114853               0.125                 0.00.013752485706455927                 1.0\n",
      "                 0.0                 1.0                 1.0  0.2711736617240512                 0.0                 0.00.014679623960531627                 1.0\n",
      "                 1.0                 1.0                 0.0 0.01985423473234481                 0.0 0.166666666666666660.023983602730431916                 1.0\n",
      "                 0.0                 1.0                 1.0 0.10781603417944208               0.625  0.3333333333333333 0.09154270340242172                 1.0\n",
      "                 0.0                 0.5                 1.0  0.3672039796007691                 0.0                 0.0                 0.0                 1.0\n",
      "                 0.0                 1.0                 1.0  0.6230208595124404                 0.0                 0.00.015712553569072387                 1.0\n",
      "                 1.0                 1.0                 0.0  0.7863784870570495                 0.0                 0.00.018713553707264782                 1.0\n",
      "                 1.0                 0.0                 1.0  0.3088715757728072               0.125                 0.0 0.17777475888549785                 0.0\n",
      "                 0.0                 1.0                 0.0  0.3672039796007691               0.375 0.16666666666666666   0.049707687947515                 1.0\n",
      "                 1.0                 0.0                 0.0  0.4345312892686604               0.125                 0.0 0.17566830077223786                 1.0\n",
      "                 0.0                 0.0                 1.0   0.723548630309123                 0.0                 0.00.057970539254838485                 0.0\n",
      "                 0.0                 1.0                 1.0 0.37170143252073384                 0.0                 0.00.015712553569072387                 1.0\n",
      "                 1.0                 1.0                 1.0 0.10781603417944208               0.125 0.166666666666666660.031034733136428686                 1.0\n",
      "                 0.0                 1.0                 1.0  0.3672039796007691               0.125                 0.0 0.03897240290032268                 1.0\n",
      "                 0.0                 1.0                 1.0  0.2586076903744659                 0.0                 0.00.014151057562208049                 1.0\n",
      "                 0.0                 0.0                 1.0   0.685850716260367                 0.0                 0.0 0.05953203526170282                 1.0\n",
      "                 0.0                 0.0                 1.0  0.8869062578537321                 0.0                 0.0 0.09662576327876685                 0.0\n",
      "                 0.0                 1.0                 1.0  0.2586076903744659                 0.0                 0.00.015712553569072387                 1.0\n",
      "                 0.0                 1.0                 1.0  0.3672039796007691                 0.0                 0.00.028220722145058292                 0.0\n",
      "                 1.0                 0.0                 0.0  0.6732847449107816               0.125                 0.0  0.1527664244005612                 0.0\n",
      "                 0.0                 1.0                 1.0  0.3672039796007691                 0.0                 0.00.029473237129564348                 1.0\n",
      "                 0.0                 0.0                 0.0  0.3088715757728072               0.125  0.3333333333333333 0.29580589980036276                 1.0\n",
      "                 0.0                 1.0                 1.0  0.2963056044232219                 0.0                 0.00.015216388212891242                 1.0\n",
      "                 0.0                 1.0                 1.0 0.20834380497612465                 0.0                 0.00.016908073949327893                 1.0\n",
      "                 0.0                 1.0                 0.0  0.2586076903744659                 0.0                 0.00.015126992566498259                 0.5\n",
      "                 0.0                 1.0                 0.0  0.3672039796007691                 0.0                 0.00.014891206669461744                 0.5\n",
      "                 0.0                 1.0                 0.0  0.4596632319678311                 0.0                 0.00.018713553707264782                 1.0\n",
      "                 1.0                 0.0                 0.0 0.19577783362653933                 0.0                 0.0 0.16883675574220638                 1.0\n",
      "                 0.0                 0.0                 1.0    0.22090977632571               0.125                 0.0  0.2125586439344078                 0.0\n",
      "                 1.0                 0.5                 0.0  0.4093993465694898                 0.0  0.33333333333333330.050748620223090936                 1.0\n",
      "                 1.0                 0.0                 1.0  0.3672039796007691                 0.0                 0.00.051822148727810165                 1.0\n",
      "                 0.0                 1.0                 1.0 0.34656948982156316                 0.0                 0.0 0.04396587194327397                 1.0\n",
      "                 1.0                 1.0                 1.0 0.32143754712239253                 0.0                 0.0 0.11027245763075773                 1.0\n",
      "                 1.0                 1.0                 1.0 0.35913546117114853                 0.0                 0.00.015126992566498259                 0.5\n",
      "                 0.0                 1.0                 1.0  0.3672039796007691                 0.0                 0.00.015712553569072387                 1.0\n",
      "                 1.0                 0.0                 1.0  0.4470972606182458                 0.0                 0.0 0.05130978285055781                 1.0\n",
      "                 1.0                 0.0                 0.0  0.6732847449107816               0.125                 0.0 0.11594107850967697                 0.0\n",
      "                 0.0                 1.0                 1.0  0.2963056044232219                 0.0                 0.00.014630827210317117                 1.0\n",
      "                 0.0                 0.0                 1.0  0.5853229454636844                 0.0                 0.0 0.06640417918791278                 1.0\n",
      "                 1.0                 0.5                 0.0  0.4219653179190751                 0.0                 0.00.020494635090094415                 1.0\n",
      "                 0.0                 1.0                 1.0  0.3672039796007691                 0.0                 0.0 0.04713766070721715                 0.5\n",
      "                 1.0                 0.5                 0.0  0.4470972606182458               0.125                 0.00.050748620223090936                 1.0\n",
      "                 0.0                 1.0                 1.0 0.39683337521990447                 0.0                 0.00.015411575213749286                 1.0\n",
      "                 1.0                 0.0                 0.0 0.37170143252073384                 0.0                 0.0 0.18249984580226933                 1.0\n",
      "                 0.0                 1.0                 1.0  0.2711736617240512                 0.0                 0.00.015411575213749286                 1.0\n",
      "                 0.0                 1.0                 1.0  0.3672039796007691                 0.0                 0.00.014102260811993537                 0.0\n",
      "                 1.0                 0.0                 0.0  0.5476250314149284                 0.0 0.16666666666666666 0.11316786160148591                 0.0\n",
      "                 0.0                 1.0                 1.0  0.3672039796007691                 0.0                 0.00.014110458666029575                 0.0\n",
      "                 0.0                 1.0                 1.0  0.5036441316913798                 0.0                 0.00.015126992566498259                 0.5\n",
      "                 1.0                 0.5                 0.0  0.6230208595124404                 0.0                 0.00.020494635090094415                 1.0\n",
      "                 0.0                 0.0                 1.0  0.3672039796007691                 0.0                 0.0  0.4328841690069588                 1.0\n",
      "                 0.0                 1.0                 1.0  0.4847951746670017                 0.0                 0.00.015468569817999833                 1.0\n",
      "                 0.0                 0.5                 1.0  0.2837396330736366                0.25 0.166666666666666660.022446505098674838                 1.0\n",
      "                 1.0                 0.5                 0.0 0.01985423473234481               0.125 0.166666666666666660.050748620223090936                 1.0\n",
      "                 0.0                 1.0                 1.0  0.3672039796007691                 0.0                 0.00.014110458666029575                 0.0\n",
      "                 0.0                 1.0                 1.0 0.20834380497612465               0.125 0.166666666666666660.014110458666029575                 0.0\n",
      "                 1.0                 1.0                 0.0  0.3672039796007691                 0.0  0.3333333333333333 0.04364049521284362                 0.0\n",
      "                 0.0                 1.0                 0.0 0.37170143252073384                 0.0                 0.00.016908073949327893                 1.0\n",
      "                 1.0                 0.5                 0.0 0.08268409148027142                 0.0  0.3333333333333333 0.05123658772523604                 1.0\n",
      "                 0.0                 0.0                 1.0  0.5601910027645137                 0.0                 0.00.051822148727810165                 1.0\n",
      "                 1.0                 0.0                 0.0 0.37170143252073384                 0.0                 0.0 0.20772776566317125                 0.0\n",
      "                 0.0                 1.0                 1.0  0.3672039796007691                 0.0                 0.00.028302115124416098                 1.0\n",
      "                 1.0                 0.0                 0.0  0.2711736617240512                 0.0  0.3333333333333333 0.09661756542473082                 0.0\n",
      "                 1.0                 0.0                 0.0  0.4470972606182458                 0.0  0.3333333333333333 0.13858277060920987                 1.0\n",
      "                 0.0                 1.0                 0.0 0.10781603417944208                 0.5  0.3333333333333333 0.06104473451835265                 1.0\n",
      "                 0.0                 1.0                 0.0  0.1329479768786127                 0.5  0.3333333333333333 0.06104473451835265                 1.0\n",
      "                 1.0                 0.5                 1.0 0.39683337521990447               0.125                 0.00.050748620223090936                 1.0\n",
      "                 0.0                 0.0                 1.0  0.6230208595124404               0.125                 0.0 0.20772776566317125                 0.0\n",
      "                 0.0                 0.0                 1.0  0.7989444584066349                 0.0                 0.00.050748620223090936                 1.0\n",
      "                 1.0                 0.5                 0.0  0.2334757476752953               0.125                 0.00.050748620223090936                 1.0\n",
      "                 1.0                 0.5                 1.0  0.3672039796007691                 0.0                 0.0 0.02705779799394608                 0.0\n",
      "                 0.0                 1.0                 1.0  0.4093993465694898               0.125 0.16666666666666666 0.04006213192611313                 1.0\n",
      "                 1.0                 0.5                 1.0 0.09525006282985675               0.125 0.16666666666666666 0.07173122281533045                 1.0\n",
      "                 1.0                 0.0                 1.0 0.20834380497612465                 0.0  0.3333333333333333 0.21642978772242535                 0.0\n",
      "                 0.0                 0.5                 1.0 0.33400351847197784                 0.0                 0.00.050748620223090936                 1.0\n",
      "                 0.0                 1.0                 1.0  0.3672039796007691                 0.0                 0.00.015281580671177828                 0.5\n",
      "                 1.0                 1.0                 1.0  0.2711736617240512                 0.0                 0.00.014102260811993537                 0.0\n",
      "                 1.0                 1.0                 0.0  0.2711736617240512                 0.0                 0.00.015175789316712771                 1.0\n",
      "                 0.0                 0.0                 1.0  0.7738125157074642                 0.0                 0.00.051822148727810165                 1.0\n",
      "                 1.0                 0.0                 0.0  0.5978889168132697               0.125                 0.0 0.07729405233978466                 0.0\n",
      "                 0.0                 0.0                 1.0  0.3672039796007691                 0.0                 0.0  0.4440992237022602                 0.0\n",
      "                 1.0                 0.0                 0.0  0.4847951746670017               0.125 0.16666666666666666  0.1554664461834305                 1.0\n",
      "                 1.0                 1.0                 0.0  0.4470972606182458               0.125                 0.00.033962538149299316                 1.0\n",
      "                 0.0                 1.0                 1.0  0.3672039796007691                 0.0                 0.00.015126992566498259                 0.5\n",
      "                 0.0                 1.0                 1.0 0.49736114601658704                 0.0                 0.00.015411575213749286                 1.0\n",
      "                 0.0                 0.5                 1.0 0.34656948982156316                 0.0                 0.00.026350245115835676                 1.0\n",
      "                 0.0                 1.0                 1.0  0.3672039796007691                 0.0                 0.00.015712553569072387                 1.0\n",
      "                 0.0                 1.0                 0.0  0.3672039796007691                 0.0                 0.00.015712553569072387                 1.0\n",
      "                 0.0                 1.0                 1.0  0.2963056044232219                0.25                 0.0 0.04713766070721715                 1.0\n",
      "                 0.0                 1.0                 1.0  0.2334757476752953                 0.0                 0.00.015411575213749286                 1.0\n",
      "                 0.0                 1.0                 0.0 0.35913546117114853                 0.0  0.6666666666666666 0.04113566043083236                 1.0\n",
      "                 0.0                 1.0                 1.0  0.3672039796007691                 0.0                 0.00.014110458666029575                 0.0\n",
      "                 1.0                 1.0                 1.0 0.39683337521990447                 0.0                 0.00.015330377421392339                 1.0\n",
      "                 1.0                 0.5                 1.0  0.7738125157074642                 0.0                 0.00.020494635090094415                 1.0\n",
      "                 1.0                 0.0                 0.0  0.6607187735611963                0.25                 0.0 0.10048070654571319                 1.0\n",
      "                 1.0                 0.0                 1.0  0.4470972606182458                 0.0                 0.00.051504969851415845                 1.0\n",
      "                 1.0                 1.0                 0.0  0.3672039796007691                 0.0                 0.00.015126992566498259                 0.5\n",
      "                 0.0                 1.0                 1.0 0.19577783362653933                 0.0                 0.00.015712553569072387                 1.0\n",
      "                 0.0                 1.0                 1.0  0.2334757476752953                 0.0                 0.00.028302115124416098                 1.0\n",
      "                 1.0                 0.5                 0.0  0.4219653179190751                 0.0                 0.00.025374310111545468                 1.0\n",
      "                 1.0                 0.0                 0.0  0.4847951746670017               0.125                 0.0  0.1091095334796455                 1.0\n",
      "                 0.0                 1.0                 0.0  0.3672039796007691               0.125                 0.00.028220722145058292                 0.0\n",
      "                 1.0                 1.0                 1.0 0.39683337521990447                 0.0                 0.00.015468569817999833                 1.0\n",
      "                 1.0                 0.5                 0.0  0.3088715757728072               0.125 0.16666666666666666 0.05855610025741262                 1.0\n",
      "                 1.0                 0.0                 0.0  0.4847951746670017               0.125 0.16666666666666666 0.21642978772242535                 0.0\n",
      "                 0.0                 0.5                 1.0  0.6732847449107816                 0.0                 0.00.050748620223090936                 1.0\n",
      "                 0.0                 0.0                 1.0  0.4470972606182458                 0.0                 0.0 0.07831878409428937                 0.0\n",
      "                 0.0                 1.0                 1.0  0.3672039796007691                 0.0                 0.00.017005667449756914                 0.0\n",
      "                 1.0                 0.0                 0.0    0.22090977632571                 0.0  0.3333333333333333  0.1554664461834305                 1.0\n",
      "                 0.0                 0.5                 1.0  0.5853229454636844                 0.0                 0.0 0.02927805012870631                 1.0\n",
      "                 1.0                 0.0                 1.0  0.7486805730082936               0.125 0.16666666666666666 0.15458810467956932                 0.0\n",
      "                 0.0                 1.0                 1.0  0.2711736617240512                 0.0                 0.00.015712553569072387                 1.0\n",
      "                 0.0                 1.0                 1.0  0.3672039796007691                 0.0                 0.00.015712553569072387                 1.0\n",
      "                 0.0                 1.0                 1.0  0.4345312892686604                 0.0                 0.00.013907073811135496                 1.0\n",
      "                 1.0                 0.0                 0.0   0.648152802211611               0.125                 0.0  0.1527664244005612                 0.0\n",
      "                 0.0                 1.0                 1.0  0.5853229454636844                 0.0                 0.00.014151057562208049                 1.0\n",
      "                 0.0                 1.0                 0.0  0.3672039796007691                 0.0  0.33333333333333330.015126992566498259                 0.5\n",
      "                 0.0                 0.5                 1.0  0.4596632319678311               0.125                 0.00.050748620223090936                 1.0\n",
      "                 0.0                 1.0                 1.0  0.4470972606182458               0.125 0.16666666666666666 0.04713766070721715                 1.0\n",
      "                 1.0                 0.5                 0.0  0.3672039796007691                 0.0                 0.0 0.06441171028315387                 1.0\n",
      "                 0.0                 1.0                 1.0   0.610454888162855                 0.0                 0.0                 0.0                 1.0\n",
      "                 0.0                 1.0                 1.0  0.3672039796007691                 0.0                 0.00.014102260811993537                 0.0\n",
      "                 1.0                 0.0                 1.0   0.610454888162855               0.125                 0.0 0.11111839809247648                 0.0\n",
      "                 1.0                 0.5                 0.0  0.2963056044232219                0.25 0.16666666666666666 0.05270049023167135                 1.0\n",
      "                 0.0                 1.0                 1.0  0.3672039796007691                 0.0                 0.00.015411575213749286                 1.0\n",
      "                 0.0                 0.0                 1.0  0.3672039796007691                 0.0                 0.0 0.08275928836380983                 1.0\n",
      "                 0.0                 1.0                 1.0  0.5476250314149284                 0.0                 0.00.015712553569072387                 1.0\n",
      "                 1.0                 0.0                 1.0  0.4345312892686604                 0.0                 0.00.051822148727810165                 0.0\n",
      "                 0.0                 1.0                 1.0  0.4470972606182458               0.125                 0.00.030351578633425542                 1.0\n",
      "                 0.0                 1.0                 1.0 0.37170143252073384                 0.0                 0.00.015411575213749286                 1.0\n",
      "                 1.0                 0.0                 1.0 0.33400351847197784                 0.0                 0.0 0.05953203526170282                 1.0\n",
      "                 1.0                 0.5                 0.0  0.2711736617240512               0.125  0.3333333333333333 0.08115719346076702                 0.0\n",
      "                 1.0                 0.0                 0.0 0.49736114601658704                 0.0                 0.0  0.2995388511917728                 1.0\n",
      "                 0.0                 1.0                 0.0  0.4847951746670017               0.125  0.8333333333333333 0.06104473451835265                 1.0\n",
      "                 0.0                 1.0                 1.0  0.3672039796007691                 0.0                 0.00.013760683560491965                 1.0\n",
      "                 1.0                 1.0                 0.0  0.3672039796007691               0.125                 0.00.030253985132996517                 0.5\n",
      "                 0.0                 1.0                 1.0  0.3672039796007691                 0.0                 0.00.015126992566498259                 0.5\n",
      "                 0.0                 1.0                 1.0  0.4345312892686604                 0.0                 0.00.015712553569072387                 1.0\n",
      "                 1.0                 0.5                 0.0  0.2963056044232219               0.125  0.3333333333333333 0.12687155055772734                 1.0\n",
      "                 0.0                 1.0                 1.0  0.4219653179190751               0.125 0.166666666666666660.028106928123558056                 1.0\n",
      "                 0.0                 1.0                 0.0 0.32143754712239253               0.125                 0.00.031425107138144774                 1.0\n",
      "                 1.0                 0.5                 0.0 0.04498617743151546                0.25 0.16666666666666666 0.07612293033463641                 1.0\n",
      "                 0.0                 0.5                 1.0 0.32143754712239253                 0.0                 0.00.020494635090094415                 1.0\n",
      "                 0.0                 1.0                 1.0 0.33400351847197784               0.125                 0.00.028212719478023115                 0.0\n",
      "                 1.0                 0.0                 1.0  0.5224930887157577               0.125                 0.0 0.10257896680493714                 1.0\n",
      "                 1.0                 1.0                 1.0 0.24604171902488062               0.125 0.166666666666666660.030725752114070404                 0.0\n",
      "                 0.0                 1.0                 1.0  0.2586076903744659                 0.0                 0.00.015330377421392339                 1.0\n",
      "                 0.0                 1.0                 1.0  0.2586076903744659                 0.0                 0.00.031425107138144774                 1.0\n",
      "                 0.0                 0.0                 1.0  0.7612465443578789                 0.0                 0.0 0.06308600017332605                 1.0\n",
      "                 0.0                 0.5                 1.0  0.7109826589595376                 0.0                 0.00.024105594605968193                 0.5\n",
      "                 1.0                 0.0                 0.0  0.2586076903744659                 0.0                 0.0 0.15216446768991498                 1.0\n",
      "                 0.0                 1.0                 1.0 0.32143754712239253                 0.0                 0.00.015411575213749286                 1.0\n",
      "                 0.0                 1.0                 1.0  0.3672039796007691                 0.0                 0.00.015094396337354966                 0.5\n",
      "                 1.0                 0.0                 1.0                 1.0                 0.0                 0.0 0.05855610025741262                 1.0\n",
      "                 0.0                 1.0                 1.0  0.6355868308620256                 0.0                 0.00.013768881414528002                 1.0\n",
      "                 1.0                 0.0                 1.0 0.39683337521990447                 0.0                 0.0 0.05953203526170282                 0.0\n",
      "                 0.0                 0.0                 1.0  0.3672039796007691                 0.0                 0.0                 0.0                 1.0\n",
      "                 0.0                 1.0                 0.0 0.10781603417944208               0.375  0.3333333333333333 0.05445717323939373                 1.0\n",
      "                 1.0                 0.5                 0.0 0.34656948982156316                 0.0                 0.00.025374310111545468                 1.0\n",
      "                 0.0                 1.0                 1.0 0.39683337521990447                 0.0                 0.00.015468569817999833                 1.0\n",
      "                 0.0                 0.5                 1.0 0.38426740387031916               0.125 0.16666666666666666 0.05123658772523604                 1.0\n",
      "                 0.0                 1.0                 0.0  0.5099271173661725                 0.0  0.8333333333333333 0.07746484096553544                 1.0\n",
      "                 0.0                 1.0                 1.0  0.3672039796007691               0.125                 0.00.031425107138144774                 1.0\n",
      "                 0.0                 1.0                 1.0 0.24604171902488062                 0.0                 0.00.015330377421392339                 1.0\n",
      "                 1.0                 0.0                 0.0  0.2963056044232219                 0.0                 0.0 0.13526459159462315                 0.0\n",
      "                 0.0                 1.0                 0.0 0.01985423473234481               0.375  0.3333333333333333 0.05445717323939373                 1.0\n",
      "                 1.0                 1.0                 1.0  0.3672039796007691                 0.0                 0.0 0.11027245763075773                 1.0\n",
      "                 1.0                 1.0                 0.00.0041467705453631576                0.25 0.16666666666666666 0.03758969818624431                 0.0\n",
      "                 1.0                 0.0                 1.0  0.5978889168132697               0.125                 0.0  0.1497654242623688                 0.0\n",
      "                 0.0                 1.0                 1.0  0.2334757476752953                 0.0                 0.00.015411575213749286                 1.0\n",
      "                 1.0                 0.0                 1.0  0.6984166876099522                 0.0                 0.0 0.06929138530460494                 0.0\n",
      "                 0.0                 1.0                 1.0  0.3672039796007691                 0.0                 0.00.014736618564782174                 1.0\n",
      "                 1.0                 1.0                 0.0  0.2837396330736366                 0.0                 0.00.014736618564782174                 1.0\n",
      "                 0.0                 1.0                 1.0  0.3672039796007691                 0.0                 0.00.015411575213749286                 1.0\n",
      "                 1.0                 0.5                 0.0    0.22090977632571                 0.0 0.166666666666666660.044893010197349675                 1.0\n",
      "                 0.0                 1.0                 1.0  0.2586076903744659                 0.0                 0.0 0.01646070534336126                 1.0\n",
      "                 1.0                 1.0                 0.0  0.3672039796007691                 0.0                 0.00.015281580671177828                 0.5\n",
      "                 0.0                 1.0                 0.0    0.22090977632571                 0.0                 0.00.013175122557917838                 0.5\n",
      "                 0.0                 0.5                 1.0  0.2963056044232219                0.25                 0.0  0.1434624456306609                 1.0\n",
      "                 0.0                 1.0                 1.0  0.3672039796007691                 0.0                 0.00.015411575213749286                 1.0\n",
      "                 0.0                 1.0                 0.0 0.39683337521990447               0.125 0.166666666666666660.030253985132996517                 0.5\n",
      "                 0.0                 0.5                 1.0  0.2837396330736366                 0.0                 0.00.025374310111545468                 1.0\n",
      "                 0.0                 0.0                 1.0   0.723548630309123                 0.0  0.3333333333333333 0.22109807522194713                 0.0\n",
      "                 1.0                 0.0                 1.0  0.6230208595124404                0.25                 0.0  0.2608674266467732                 1.0\n",
      "                 0.0                 1.0                 1.0 0.49736114601658704                 0.0                 0.00.014102260811993537                 0.0\n",
      "                 0.0                 0.0                 1.0  0.5853229454636844                 0.0                 0.0 0.04994347384455151                 1.0\n",
      "                 0.0                 1.0                 1.0  0.4470972606182458                 0.0                 0.00.014630827210317117                 1.0\n",
      "                 1.0                 1.0                 1.0 0.24604171902488062               0.125                 0.00.015468569817999833                 1.0\n",
      "                 0.0                 0.5                 1.0 0.39683337521990447                0.25                 0.0  0.1434624456306609                 1.0\n",
      "                 0.0                 0.5                 1.0  0.3088715757728072                 0.0                 0.00.025374310111545468                 1.0\n",
      "                 0.0                 1.0                 1.0  0.3672039796007691                 0.0                 0.00.015175789316712771                 1.0\n",
      "                 0.0                 1.0                 1.0  0.5350590600653431                 0.0                 0.00.015712553569072387                 1.0\n",
      "                 1.0                 0.0                 0.0  0.3672039796007691               0.125                 0.0 0.10149724044618187                 1.0\n",
      "                 1.0                 0.5                 0.0 0.49736114601658704               0.125 0.16666666666666666 0.07612293033463641                 1.0\n",
      "                 0.0                 0.0                 1.0 0.38426740387031916               0.125                 0.0 0.10149724044618187                 1.0\n",
      "                 0.0                 0.5                 1.0  0.8743402865041467                 0.0                 0.00.020494635090094415                 1.0\n",
      "                 1.0                 0.5                 1.0 0.38426740387031916                 0.0                 0.00.025374310111545468                 1.0\n",
      "                 0.0                 0.5                 1.0  0.3672039796007691                 0.0                 0.0                 0.0                 1.0\n",
      "                 0.0                 1.0                 1.0    0.22090977632571                 0.0                 0.00.015175789316712771                 1.0\n",
      "                 0.0                 1.0                 1.0 0.30258859009801453                 0.0                 0.00.015712553569072387                 1.0\n",
      "                 1.0                 1.0                 0.0    0.22090977632571                 0.0                 0.00.019209719063445922                 1.0\n",
      "                 0.0                 1.0                 0.0  0.5350590600653431               0.125                 1.0 0.09154270340242172                 1.0\n",
      "                 1.0                 0.0                 1.0  0.4470972606182458                 0.0 0.16666666666666666                 1.0                 0.0\n",
      "                 0.0                 1.0                 0.0  0.3672039796007691                 0.0                 0.0 0.01588334219482317                 0.5\n",
      "                 1.0                 0.0                 1.0 0.33400351847197784                 0.0                 0.0  0.1497654242623688                 0.0\n",
      "                 0.0                 1.0                 1.0 0.24604171902488062                 0.0                 0.0 0.01800600082915438                 1.0\n",
      "                 0.0                 1.0                 1.0 0.17064589092736868               0.625  0.3333333333333333 0.09154270340242172                 1.0\n",
      "                 0.0                 0.5                 1.0  0.7486805730082936               0.125 0.16666666666666666 0.07612293033463641                 1.0\n",
      "                 0.0                 0.5                 1.0  0.3088715757728072               0.125  0.3333333333333333 0.08115719346076702                 0.0\n",
      "                 0.0                 1.0                 1.0 0.17064589092736868                 0.5 0.16666666666666666 0.07746484096553544                 1.0\n",
      "                 0.0                 1.0                 1.0  0.2334757476752953                 0.0                 0.00.019852079483269742                 1.0\n",
      "                 0.0                 1.0                 1.0    0.22090977632571                 0.0                 0.00.015216388212891242                 1.0\n",
      "                 1.0                 0.0                 0.0 0.18321186227695402                 0.0 0.16666666666666666 0.41250332793836464                 1.0\n",
      "                 1.0                 0.0                 1.0 0.38426740387031916               0.125                 0.0 0.11125659048908397                 1.0\n",
      "                 1.0                 1.0                 0.0 0.04498617743151546                 0.0 0.166666666666666660.026187654344120927                 0.0\n",
      "                 1.0                 1.0                 1.0  0.3672039796007691                 0.0                 0.0 0.11027245763075773                 1.0\n",
      "                 0.0                 1.0                 1.0  0.3088715757728072                 0.0                 0.00.014102260811993537                 0.0\n",
      "                 0.0                 0.0                 1.0  0.7486805730082936                 0.0                 0.00.051822148727810165                 1.0\n",
      "                 0.0                 0.5                 1.0   0.648152802211611                 0.0                 0.00.026350245115835676                 1.0\n",
      "                 0.0                 1.0                 1.0  0.5476250314149284                 0.0                 0.00.015712553569072387                 1.0\n",
      "                 1.0                 1.0                 0.0  0.3672039796007691                 0.0                 0.00.015094396337354966                 0.5\n",
      "                 0.0                 0.0                 1.0   0.610454888162855               0.125 0.16666666666666666 0.21642978772242535                 0.0\n",
      "                 0.0                 1.0                 1.0  0.5224930887157577                 0.0                 0.00.014931805565640218                 1.0\n",
      "                 1.0                 0.0                 0.0    0.22090977632571               0.125                 0.0  0.4440992237022602                 0.0\n",
      "                 1.0                 0.0                 1.0  0.4345312892686604                 0.0                 0.0 0.05130978285055781                 1.0\n",
      "                 0.0                 1.0                 0.0    0.22090977632571                 0.0 0.166666666666666660.028212719478023115                 0.0\n",
      "                 0.0                 1.0                 1.0  0.3088715757728072                 0.0                 0.00.015110792045427042                 0.5\n",
      "                 0.0                 1.0                 1.0 0.32143754712239253               0.125                 0.00.015330377421392339                 1.0\n",
      "                 0.0                 0.5                 1.0  0.4847951746670017                 0.0                 0.00.050748620223090936                 1.0\n",
      "                 1.0                 0.5                 0.0  0.5601910027645137                 0.0                 0.00.026350245115835676                 1.0\n",
      "                 1.0                 0.0                 1.0  0.5224930887157577                 0.0                 0.0 0.05130978285055781                 1.0\n",
      "                 1.0                 0.0                 0.0  0.2711736617240512                 0.0                 0.0 0.29580589980036276                 1.0\n",
      "                 1.0                 1.0                 1.0  0.3672039796007691               0.125 0.166666666666666660.029757819776815374                 0.0\n",
      "                 1.0                 0.0                 0.0  0.2963056044232219                 0.0                 0.0 0.09662576327876685                 0.0\n",
      "                 0.0                 0.0                 1.0  0.3672039796007691                 0.0                 0.00.051822148727810165                 1.0\n",
      "                 1.0                 0.0                 1.0  0.5978889168132697               0.125                 0.0 0.10149724044618187                 1.0\n",
      "                 0.0                 1.0                 1.0 0.35913546117114853                 0.0                 0.00.018510168852370702                 1.0\n",
      "                 0.0                 0.5                 1.0   0.648152802211611                 0.0                 0.00.025374310111545468                 1.0\n",
      "                 0.0                 1.0                 1.0  0.2334757476752953                 0.0                 0.00.014931805565640218                 1.0\n",
      "                 1.0                 0.0                 0.0  0.4722292033174164                 0.0                 0.0  0.4440992237022602                 0.0\n",
      "                 1.0                 0.5                 0.0 0.33400351847197784                 0.0                 0.00.020494635090094415                 1.0\n",
      "                 0.0                 1.0                 1.0  0.3672039796007691                 0.0                 0.00.030253985132996517                 0.5\n",
      "                 0.0                 1.0                 1.0  0.4093993465694898                 0.0                 0.00.015175789316712771                 1.0\n",
      "                 1.0                 0.5                 0.0  0.0701181201306861                 0.0 0.16666666666666666 0.06441171028315387                 1.0\n",
      "                 0.0                 1.0                 1.0 0.20834380497612465               0.125                 0.00.013768881414528002                 1.0\n",
      "                 0.0                 0.5                 1.0  0.4219653179190751                 0.0                 0.00.025374310111545468                 1.0\n",
      "                 0.0                 0.5                 1.0  0.6230208595124404                 0.0                 0.00.025374310111545468                 1.0\n",
      "                 1.0                 0.0                 1.0 0.33400351847197784               0.125                 0.0 0.10364429745562033                 1.0\n",
      "                 0.0                 1.0                 1.0 0.24604171902488062                 0.0                 0.00.016908073949327893                 1.0\n",
      "                 1.0                 0.5                 0.0 0.37170143252073384               0.375                 0.0 0.04098927018018883                 1.0\n",
      "                 1.0                 1.0                 0.0  0.3672039796007691                 0.0                 0.00.015102594191391004                 0.5\n",
      "                 0.0                 0.5                 1.0  0.3088715757728072               0.125                 0.00.050748620223090936                 1.0\n",
      "                 0.0                 1.0                 0.0  0.3088715757728072               0.125                 0.00.015468569817999833                 1.0\n",
      "                 1.0                 0.0                 0.0 0.35913546117114853                 0.0                 0.0 0.41250332793836464                 1.0\n",
      "                 0.0                 1.0                 1.0  0.1329479768786127                 0.0                 0.00.036670757786204655                 0.0\n",
      "                 0.0                 0.5                 1.0  0.3672039796007691                 0.0                 0.0                 0.0                 1.0\n",
      "                 0.0                 0.5                 1.0  0.2837396330736366                 0.0                 0.00.025374310111545468                 1.0\n",
      "                 0.0                 0.5                 1.0  0.2837396330736366                 0.0                 0.00.025374310111545468                 1.0\n",
      "                 0.0                 1.0                 1.0 0.35285247549635584                 0.0                 0.00.031425107138144774                 1.0\n",
      "                 0.0                 1.0                 0.0  0.5978889168132697               0.125                 0.5 0.06709553154495196                 1.0\n",
      "                 1.0                 0.0                 1.0  0.4345312892686604                 0.0                 0.0                 1.0                 0.0\n",
      "                 0.0                 1.0                 1.0  0.3672039796007691                 0.0                 0.00.015411575213749286                 1.0\n",
      "                 0.0                 1.0                 1.0  0.3672039796007691                 0.0                 0.00.015411575213749286                 1.0\n",
      "                 1.0                 0.0                 1.0  0.3672039796007691                 0.0                 0.0 0.05855610025741262                 1.0\n",
      "                 0.0                 0.0                 1.0  0.4470972606182458               0.125                 0.0 0.15390495017656614                 1.0\n",
      "                 1.0                 0.0                 0.0  0.2586076903744659                0.25  0.3333333333333333  0.5121218935012878                 0.0\n",
      "                 0.0                 1.0                 1.0  0.2963056044232219               0.125                 0.00.031425107138144774                 1.0\n",
      "                 1.0                 1.0                 1.0 0.38426740387031916                 0.0                 0.00.015468569817999833                 1.0\n",
      "                 0.0                 0.0                 1.0  0.8743402865041467               0.125 0.16666666666666666 0.13858277060920987                 1.0\n",
      "                 0.0                 1.0                 1.0 0.19577783362653933               0.125 0.16666666666666666 0.03952536767375352                 1.0\n",
      "                 1.0                 0.5                 0.0 0.37170143252073384                 0.0                 0.00.025374310111545468                 1.0\n",
      "                 0.0                 0.0                 1.0  0.2334757476752953               0.125                 0.0 0.10364429745562033                 1.0\n",
      "                 0.0                 1.0                 1.0 0.38426740387031916                 0.0                 0.00.015126992566498259                 0.5\n",
      "                 1.0                 0.5                 0.0 0.04498617743151546               0.125 0.166666666666666660.044893010197349675                 1.0\n",
      "                 1.0                 1.0                 1.0  0.0701181201306861                 0.0 0.166666666666666660.024349578357040744                 1.0\n",
      "                 0.0                 1.0                 1.0  0.4093993465694898                 0.0                 0.00.018542765081513996                 1.0\n",
      "                 0.0                 1.0                 1.0  0.2837396330736366                 0.0                 0.00.015411575213749286                 1.0\n",
      "                 1.0                 0.5                 0.0  0.5978889168132697               0.125  0.3333333333333333 0.12687155055772734                 1.0\n",
      "                 1.0                 0.5                 1.00.003141492837396331               0.125 0.166666666666666660.028302115124416098                 1.0\n",
      "                 0.0                 1.0                 1.0 0.34656948982156316                 0.0                 0.00.015216388212891242                 1.0\n",
      "                 0.0                 0.5                 1.0    0.22090977632571                 0.0                 0.00.022446505098674838                 1.0\n",
      "                 0.0                 1.0                 1.0  0.4219653179190751                 0.0                 0.00.015712553569072387                 1.0\n",
      "                 1.0                 0.0                 0.0  0.4093993465694898                 0.0                 0.0 0.16883675574220638                 1.0\n",
      "                 0.0                 1.0                 1.0  0.3672039796007691                 0.0                 0.00.028302115124416098                 1.0\n",
      "                 0.0                 1.0                 1.0  0.5099271173661725                 0.0                 0.00.013907073811135496                 1.0\n",
      "                 1.0                 1.0                 1.0 0.24604171902488062                 0.0                 0.00.014110458666029575                 0.0\n",
      "                 1.0                 0.0                 0.0  0.4470972606182458               0.125  0.3333333333333333 0.23422440102965048                 1.0\n",
      "                 0.0                 1.0                 1.0 0.19577783362653933                 0.0                 0.00.015175789316712771                 1.0\n",
      "                 1.0                 0.0                 0.0  0.6355868308620256               0.125                 0.0 0.15216446768991498                 1.0\n",
      "                 0.0                 0.0                 1.0  0.3672039796007691                 0.0                 0.0 0.07729405233978466                 0.0\n",
      "                 0.0                 1.0                 0.0  0.3779844181955265                 0.0                 0.00.015126992566498259                 0.5\n",
      "                 0.0                 1.0                 1.0  0.3672039796007691               0.125                 0.0 0.04713766070721715                 0.5\n",
      "                 0.0                 1.0                 1.0 0.39683337521990447                 0.0                 0.00.016322512946753766                 1.0\n",
      "                 0.0                 1.0                 1.0  0.2963056044232219                 0.0                 0.00.018542765081513996                 1.0\n",
      "                 0.0                 1.0                 1.0  0.5978889168132697                 0.0                 0.00.015330377421392339                 1.0\n",
      "                 0.0                 0.5                 0.0  0.7109826589595376                 0.0                 0.00.020494635090094415                 1.0\n",
      "                 0.0                 1.0                 1.0  0.3672039796007691                 0.0                 0.00.014102260811993537                 0.0\n",
      "                 1.0                 0.5                 0.0  0.6732847449107816               0.125                 0.50.044893010197349675                 1.0\n",
      "                 0.0                 1.0                 1.0    0.22090977632571                 0.0                 0.00.015126992566498259                 1.0\n",
      "                 0.0                 1.0                 1.0  0.3672039796007691                 0.0                 0.00.015126992566498259                 0.5\n",
      "                 1.0                 1.0                 0.0 0.05755214878110078                 0.0                 0.00.024349578357040744                 1.0\n",
      "                 0.0                 1.0                 1.0  0.3672039796007691                 0.0                 0.00.015102594191391004                 0.5\n",
      "                 1.0                 0.0                 0.0  0.5350590600653431                 0.0 0.16666666666666666 0.41250332793836464                 1.0\n",
      "                 1.0                 1.0                 0.0 0.15807991957778336                 0.0                 0.00.014110458666029575                 0.0\n",
      "                 1.0                 0.0                 0.0 0.20834380497612465               0.125                 0.0 0.11125659048908397                 1.0\n",
      "                 0.0                 0.0                 1.0 0.35913546117114853                 0.0                 0.0 0.05855610025741262                 1.0\n",
      "                 0.0                 1.0                 1.0  0.3672039796007691               0.125  0.3333333333333333 0.04577135170121086                 1.0\n",
      "                 0.0                 1.0                 1.0  0.3088715757728072                 0.0                 0.00.013760683560491965                 1.0\n",
      "                 0.0                 1.0                 1.0  0.3088715757728072                 0.0                 0.00.014151057562208049                 1.0\n",
      "                 1.0                 1.0                 0.0    0.22090977632571                 0.0                 0.00.014630827210317117                 1.0\n",
      "                 0.0                 1.0                 1.0 0.09525006282985675                 0.5 0.16666666666666666 0.05684821399990475                 0.5\n",
      "                 1.0                 1.0                 1.00.007288263382759488               0.125  0.3333333333333333 0.04015972542654215                 1.0\n",
      "                 0.0                 0.0                 1.0  0.5727569741140991                 0.0                 0.0 0.15458810467956932                 0.0\n",
      "                 0.0                 1.0                 1.0  0.3672039796007691                 0.0                 0.00.015126992566498259                 0.5\n",
      "                 0.0                 0.5                 1.0 0.19577783362653933                 0.0                 0.00.050748620223090936                 1.0\n",
      "                 0.0                 1.0                 0.0  0.3672039796007691                 1.0  0.3333333333333333 0.13575255909676825                 1.0\n",
      "                 0.0                 0.0                 1.0  0.3672039796007691                 0.0                 0.0 0.05991421140938287                 0.0\n",
      "                 0.0                 1.0                 1.0  0.3088715757728072                 0.0                 0.00.015411575213749286                 1.0\n",
      "                 0.0                 0.5                 1.0  0.4847951746670017                 0.0                 0.00.025374310111545468                 1.0\n",
      "                 1.0                 0.0                 0.0   0.610454888162855                 0.0                 0.00.050610427826483444                 1.0\n",
      "                 1.0                 1.0                 0.0 0.38426740387031916                 0.0                 0.00.016948672845506364                 1.0\n",
      "                 0.0                 1.0                 1.0 0.37170143252073384                 0.0                 0.00.014110458666029575                 0.0\n",
      "                 0.0                 1.0                 0.0 0.37170143252073384               0.125 0.16666666666666666 0.04713766070721715                 1.0\n",
      "                 0.0                 0.5                 1.0  0.4219653179190751                 0.0                 0.00.025374310111545468                 1.0\n",
      "                 1.0                 0.5                 0.0 0.38426740387031916               0.125 0.16666666666666666 0.05123658772523604                 1.0\n",
      "                 1.0                 0.0                 1.0  0.1329479768786127               0.125  0.3333333333333333 0.23422440102965048                 1.0\n",
      "                 1.0                 1.0                 1.0                 0.0                 0.0 0.166666666666666660.016623491302076868                 0.0\n",
      "                 1.0                 1.0                 1.0 0.33400351847197784                 0.0                 0.00.013614293309848433                 1.0\n",
      "                 0.0                 1.0                 1.0 0.38426740387031916                 0.0                 0.00.015175789316712771                 1.0\n",
      "                 0.0                 0.0                 1.0  0.4847951746670017                 0.0                 0.0                 0.0                 1.0\n",
      "                 0.0                 1.0                 0.0    0.22090977632571                 0.0                 0.00.015175789316712771                 1.0\n",
      "                 0.0                 0.5                 1.0  0.4847951746670017                 0.0                 0.00.025374310111545468                 1.0\n",
      "                 1.0                 0.0                 0.0  0.4093993465694898               0.125                 0.0 0.10364429745562033                 1.0\n",
      "                 0.0                 1.0                 1.0 0.32143754712239253                 0.0                 0.00.015395374692678068                 1.0\n",
      "                 0.0                 1.0                 1.0  0.4847951746670017                 0.0                 0.0 0.04713766070721715                 1.0\n",
      "                 0.0                 0.5                 1.0  0.4345312892686604                 0.0                 0.00.020494635090094415                 1.0\n",
      "                 0.0                 1.0                 0.0  0.0701181201306861                 0.5  0.3333333333333333 0.06104473451835265                 1.0\n",
      "                 0.0                 1.0                 1.0  0.3779844181955265                 0.0                 0.00.015712553569072387                 1.0\n",
      "                 0.0                 0.0                 1.0  0.3672039796007691                 0.0                 0.0                 0.0                 1.0\n",
      "                 0.0                 1.0                 0.0  0.2837396330736366                 0.0                 0.00.015468569817999833                 1.0\n",
      "                 0.0                 0.5                 1.0 0.38426740387031916               0.125 0.16666666666666666 0.07222738817151159                 0.0\n",
      "                 0.0                 1.0                 1.0  0.5350590600653431                 0.0                 0.00.012589561555343713                 1.0\n",
      "                 0.0                 1.0                 1.0 0.12038200552902739               0.375  0.3333333333333333 0.05445717323939373                 1.0\n",
      "                 1.0                 0.0                 0.0   0.648152802211611               0.125 0.16666666666666666 0.18249984580226933                 1.0\n",
      "                 1.0                 1.0                 1.0 0.33400351847197784                 0.0                 0.00.016908073949327893                 1.0\n",
      "                 0.0                 0.0                 1.0  0.4722292033174164                 0.0                 0.0                 0.0                 1.0\n",
      "                 1.0                 1.0                 0.0 0.33400351847197784                 0.0 0.166666666666666660.024349578357040744                 1.0\n",
      "                 0.0                 1.0                 1.0 0.01985423473234481                 0.5 0.16666666666666666 0.07746484096553544                 1.0\n",
      "                 0.0                 1.0                 1.0  0.3672039796007691                 0.0                 0.00.013565496559633922                 0.5\n",
      "                 0.0                 1.0                 1.0  0.3672039796007691                 0.0                 0.0 0.11027245763075773                 1.0\n",
      "                 1.0                 0.5                 1.00.007288263382759488                 0.0  0.3333333333333333 0.07222738817151159                 0.0\n",
      "                 1.0                 1.0                 1.0  0.3672039796007691                 0.0                 0.00.015126992566498259                 0.5\n",
      "                 1.0                 1.0                 0.0 0.18321186227695402               0.125                 0.00.028212719478023115                 0.0\n",
      "                 1.0                 0.5                 1.00.005152048253329982               0.125 0.16666666666666666 0.03659756266088288                 1.0\n",
      "                 0.0                 1.0                 1.0  0.3672039796007691                 0.0                 0.00.014110458666029575                 0.0\n",
      "                 0.0                 1.0                 1.0  0.2837396330736366                 0.0                 0.00.015330377421392339                 1.0\n",
      "                 0.0                 1.0                 1.0    0.22090977632571                 0.0                 0.00.016200521071217493                 1.0\n",
      "                 1.0                 0.0                 0.0  0.4847951746670017               0.125 0.16666666666666666 0.16231419173453318                 0.0\n",
      "                 0.0                 1.0                 1.0  0.2586076903744659                 0.0                 0.00.016908073949327893                 1.0\n",
      "                 0.0                 1.0                 1.0  0.3672039796007691                 0.0                 0.00.015712553569072387                 1.0\n",
      "                 1.0                 1.0                 1.0 0.39683337521990447                 0.0                 0.0 0.11027245763075773                 1.0\n",
      "                 1.0                 0.0                 1.0  0.3672039796007691                 0.0                 0.00.057970539254838485                 0.0\n",
      "                 0.0                 1.0                 1.0 0.24604171902488062                 0.0                 0.00.015468569817999833                 1.0\n",
      "                 0.0                 0.5                 1.0 0.19577783362653933                 0.0                 0.00.020494635090094415                 1.0\n",
      "                 1.0                 0.0                 0.0 0.37170143252073384                 0.0                 0.00.060507970265993034                 0.0\n",
      "                 0.0                 1.0                 1.0  0.4282483035938678                 0.0                 0.00.012565163180236457                 0.0\n",
      "                 0.0                 1.0                 1.0 0.20834380497612465                 0.0                 0.00.016908073949327893                 1.0\n",
      "                 0.0                 1.0                 1.0  0.5224930887157577                 0.0                 0.00.014736618564782174                 1.0\n",
      "                 0.0                 1.0                 1.0  0.3672039796007691                 1.0  0.3333333333333333 0.13575255909676825                 1.0\n",
      "                 0.0                 1.0                 1.0  0.4345312892686604                 0.0                 0.00.015411575213749286                 0.0\n",
      "                 0.0                 0.5                 1.0 0.34656948982156316                 0.0 0.16666666666666666 0.06441171028315387                 1.0\n",
      "                 1.0                 0.0                 0.0  0.3672039796007691               0.125                 0.0 0.17391981561855152                 0.0\n",
      "                 0.0                 1.0                 1.0 0.04498617743151546                 0.5  0.3333333333333333 0.06104473451835265                 1.0\n",
      "                 0.0                 1.0                 1.0  0.9246041719024881                 0.0                 0.00.015175789316712771                 1.0\n",
      "                 0.0                 1.0                 0.0 0.10781603417944208               0.125 0.166666666666666660.029757819776815374                 0.0\n",
      "                 1.0                 0.0                 0.0 0.19577783362653933                 0.0 0.16666666666666666 0.07690367833806856                 1.0\n",
      "                 0.0                 0.5                 0.0  0.5476250314149284               0.125                 0.00.050748620223090936                 1.0\n",
      "                 1.0                 1.0                 0.0    0.22090977632571                 0.0 0.166666666666666660.018249984580226933                 1.0\n",
      "                 1.0                 0.0                 0.0  0.5601910027645137               0.125 0.16666666666666666 0.32179836714362564                 1.0\n",
      "                 1.0                 0.0                 1.0  0.6355868308620256                 0.0                 0.00.051822148727810165                 1.0\n",
      "                 1.0                 1.0                 0.0  0.2963056044232219                 0.0                 0.5 0.03758969818624431                 0.0\n",
      "                 0.0                 1.0                 1.0  0.3672039796007691                 0.0                 0.00.014110458666029575                 0.0\n",
      "                 0.0                 1.0                 1.0  0.5099271173661725                0.25                 0.00.027537567642055148                 1.0\n",
      "                 0.0                 0.5                 1.0  0.2586076903744659               0.125                 0.00.022446505098674838                 1.0\n",
      "                 1.0                 0.0                 0.0  0.5978889168132697                 0.0                 0.00.050610427826483444                 1.0\n",
      "                 0.0                 1.0                 0.0  0.3672039796007691                 1.0  0.3333333333333333 0.13575255909676825                 1.0\n",
      "                 0.0                 0.5                 1.0  0.2963056044232219                 0.0                 0.00.025374310111545468                 1.0\n",
      "                 1.0                 0.5                 0.0  0.5224930887157577                 0.0                 0.00.025374310111545468                 1.0\n",
      "                 1.0                 0.5                 0.0 0.33400351847197784               0.125                 0.00.027049600139910042                 0.0\n",
      "                 0.0                 0.0                 1.0 0.38426740387031916                 0.0                 0.0 0.09856123757927521                 1.0\n",
      "                 0.0                 1.0                 1.0  0.3672039796007691                 0.0                 0.00.018542765081513996                 1.0\n",
      "                 1.0                 1.0                 1.0 0.04498617743151546               0.125 0.166666666666666660.021730754366528396                 1.0\n",
      "                 0.0                 1.0                 1.0 0.32143754712239253                 0.0                 0.00.015411575213749286                 1.0\n",
      "                 1.0                 0.0                 0.0  0.5853229454636844               0.125 0.16666666666666666 0.10257896680493714                 1.0\n",
      "                 0.0                 0.0                 1.0  0.4093993465694898                 0.0                 0.00.009759350042902102                 1.0\n",
      "                 0.0                 1.0                 1.0  0.5853229454636844                 0.0                 0.00.017566830077223785                 1.0\n",
      "                 1.0                 0.5                 0.0 0.34656948982156316               0.125                 0.0 0.04684488020593009                 0.0\n",
      "                 1.0                 1.0                 0.0 0.18321186227695402                 0.0                 0.00.014102260811993537                 0.0\n",
      "                 0.0                 1.0                 1.0 0.24604171902488062                 0.0                 0.00.019217721730481106                 1.0\n",
      "                 0.0                 1.0                 1.0  0.2334757476752953                 0.0                 0.00.015411575213749286                 1.0\n",
      "                 0.0                 1.0                 1.0  0.3672039796007691                 0.0                 0.00.015411575213749286                 1.0\n",
      "                 1.0                 0.0                 0.0  0.6984166876099522                 0.0 0.16666666666666666 0.16231419173453318                 0.0\n",
      "                 1.0                 0.5                 0.0  0.3088715757728072                 0.0 0.166666666666666660.050748620223090936                 1.0\n",
      "                 0.0                 1.0                 1.0  0.4093993465694898                 0.0                 0.00.015411575213749286                 1.0\n",
      "                 0.0                 1.0                 0.0  0.2711736617240512                 0.0                 0.0 0.02052723131923771                 1.0\n",
      "                 0.0                 0.5                 1.0 0.34656948982156316                 0.0                 0.00.020494635090094415                 1.0\n",
      "                 0.0                 1.0                 1.0  0.3088715757728072                 0.0                 0.00.013760683560491965                 1.0\n",
      "                 0.0                 1.0                 0.0  0.4847951746670017                 0.0  0.8333333333333333 0.05684821399990475                 0.5\n",
      "                 0.0                 0.5                 1.0 0.33400351847197784                 0.0                 0.00.025374310111545468                 1.0\n",
      "                 1.0                 0.0                 0.0  0.2334757476752953                 0.0                 0.0 0.05855610025741262                 1.0\n",
      "                 0.0                 1.0                 0.0  0.3672039796007691               0.125  0.3333333333333333 0.04577135170121086                 1.0\n",
      "                 1.0                 0.0                 1.0 0.32143754712239253                 0.0                 0.0 0.05855610025741262                 0.0\n",
      "                 0.0                 1.0                 1.0 0.39683337521990447                 0.0                 0.00.015126992566498259                 0.5\n"
     ]
    }
   ],
   "source": [
    "import numpy as np\n",
    "\n",
    "a = np.array(train)\n",
    "\n",
    "print('\\n'.join([''.join(['{:20}'.format(item) for item in row]) \n",
    "      for row in a]))"
   ]
  },
  {
   "cell_type": "code",
   "execution_count": 15,
   "metadata": {
    "colab": {
     "base_uri": "https://localhost:8080/"
    },
    "executionInfo": {
     "elapsed": 333,
     "status": "ok",
     "timestamp": 1647611986947,
     "user": {
      "displayName": "GUSTAVO ADOLFO PATIÑO ALVAREZ",
      "photoUrl": "https://lh3.googleusercontent.com/a-/AOh14GieSUQzF1vNVYjcMUZgrtxqAu0TcXwUtMBe44CUwBOW-bk3mEezr-XmVi0ZK8noQUcqQESH8607oqnn7eKdDGzTF--XuISzdvm8X4MkAYW0Ufoi61dZPOCqBwU_yBH21FI9dh3fcBIRjmlSrIvvm6ZZl-5g0YNMZqW4eIxWa0hTNfomlFAcHHaquQ8TYKoT9-csEJYLRQVhktcfek9Vx3o6QNhfcHPOkzHQ1xrGBd1F7kw-FUohyEP7585HRH-JUvAr2Lva8apRMJ5cwaRFOCzWtSvl633xlUtyQuxeO2ZsWacYxNVE10WjyRlzVTyFpEoikaN_248A6gotKCBNCnq1U4MuhdURb8ni9mi1nxrylMooE8zbFvBalDHqGW04tgLZq30cD8-g7dogr8xVsLRJ1hesGtJFka4TktSKxLanKkN-kQpRpV1DZSfKLCMsZ25gXd6qFbZ_9UPM1TIGn2EqurdNpbl1GxDH6zXknTyE9rzacVXTyhzK7Y6inYpX4myYbwX1zgnQSTTuvNl3svFHgIq0jCGutyrO5nj0-u5wUs5yY2crPGXPj5on1QK6iFVx6NhF2jOsQH-GJoP37N3yXIlHThuLTZHtmtLyNOfpZ42yVmq5S5zc-6IyZDVdBsCGATnUX7TZvURhysLCpRswu5NBRlJw5VxXxn_O6GV2KYYl4vgJPfPsw51OM0KmRWLVxzvtiBhFT9JyhnXvGxDpTo9Zu96fjGDemhis9_Q9_iv2MNU2g6AG_gGY_0cwO49mIMQ=s64",
      "userId": "13728227204889328138"
     },
     "user_tz": 300
    },
    "id": "aYS-Ir2IMde2",
    "outputId": "17cdb81e-2afa-4570-9d77-1b1560adc446",
    "tags": []
   },
   "outputs": [
    {
     "name": "stdout",
     "output_type": "stream",
     "text": [
      "We have 711 training and 178 testing rows\n",
      "There are 7 input columns\n"
     ]
    }
   ],
   "source": [
    "# Listing 2.12: Separating input from labels and training from testing sets\n",
    "from sklearn.model_selection import train_test_split\n",
    "\n",
    "input_data = train[:, 1:8]\n",
    "labels = train[:, 0]\n",
    "\n",
    "train_input, test_input, train_labels, test_labels = train_test_split(\n",
    "    input_data, labels, test_size = 0.2)\n",
    "\n",
    "print('We have {} training and {} testing rows'.format(train_input.shape[0], test_input.shape[0]))\n",
    "print('There are {} input columns'.format(train_input.shape[1]))"
   ]
  },
  {
   "cell_type": "code",
   "execution_count": 16,
   "metadata": {
    "executionInfo": {
     "elapsed": 31,
     "status": "ok",
     "timestamp": 1647611986948,
     "user": {
      "displayName": "GUSTAVO ADOLFO PATIÑO ALVAREZ",
      "photoUrl": "https://lh3.googleusercontent.com/a-/AOh14GieSUQzF1vNVYjcMUZgrtxqAu0TcXwUtMBe44CUwBOW-bk3mEezr-XmVi0ZK8noQUcqQESH8607oqnn7eKdDGzTF--XuISzdvm8X4MkAYW0Ufoi61dZPOCqBwU_yBH21FI9dh3fcBIRjmlSrIvvm6ZZl-5g0YNMZqW4eIxWa0hTNfomlFAcHHaquQ8TYKoT9-csEJYLRQVhktcfek9Vx3o6QNhfcHPOkzHQ1xrGBd1F7kw-FUohyEP7585HRH-JUvAr2Lva8apRMJ5cwaRFOCzWtSvl633xlUtyQuxeO2ZsWacYxNVE10WjyRlzVTyFpEoikaN_248A6gotKCBNCnq1U4MuhdURb8ni9mi1nxrylMooE8zbFvBalDHqGW04tgLZq30cD8-g7dogr8xVsLRJ1hesGtJFka4TktSKxLanKkN-kQpRpV1DZSfKLCMsZ25gXd6qFbZ_9UPM1TIGn2EqurdNpbl1GxDH6zXknTyE9rzacVXTyhzK7Y6inYpX4myYbwX1zgnQSTTuvNl3svFHgIq0jCGutyrO5nj0-u5wUs5yY2crPGXPj5on1QK6iFVx6NhF2jOsQH-GJoP37N3yXIlHThuLTZHtmtLyNOfpZ42yVmq5S5zc-6IyZDVdBsCGATnUX7TZvURhysLCpRswu5NBRlJw5VxXxn_O6GV2KYYl4vgJPfPsw51OM0KmRWLVxzvtiBhFT9JyhnXvGxDpTo9Zu96fjGDemhis9_Q9_iv2MNU2g6AG_gGY_0cwO49mIMQ=s64",
      "userId": "13728227204889328138"
     },
     "user_tz": 300
    },
    "id": "Spny11mbMde4"
   },
   "outputs": [],
   "source": [
    "# Listing 2.13: Save the data to the filesystem\n",
    "import numpy as np\n",
    "\n",
    "with open('../QML/data/train.npy', 'wb') as f:\n",
    "    np.save(f, train_input)\n",
    "    np.save(f, train_labels)\n",
    "\n",
    "with open('../QML/data/test.npy', 'wb') as f:\n",
    "    np.save(f, test_input)\n",
    "    np.save(f, test_labels)\n",
    "#CAPTION Save the data to the filesystem"
   ]
  },
  {
   "cell_type": "markdown",
   "metadata": {
    "id": "CxCC3O9xMde4"
   },
   "source": [
    "## 3. First Classifiers\n",
    "### 3.1 A Random Classifier"
   ]
  },
  {
   "cell_type": "code",
   "execution_count": 17,
   "metadata": {
    "executionInfo": {
     "elapsed": 31,
     "status": "ok",
     "timestamp": 1647611986949,
     "user": {
      "displayName": "GUSTAVO ADOLFO PATIÑO ALVAREZ",
      "photoUrl": "https://lh3.googleusercontent.com/a-/AOh14GieSUQzF1vNVYjcMUZgrtxqAu0TcXwUtMBe44CUwBOW-bk3mEezr-XmVi0ZK8noQUcqQESH8607oqnn7eKdDGzTF--XuISzdvm8X4MkAYW0Ufoi61dZPOCqBwU_yBH21FI9dh3fcBIRjmlSrIvvm6ZZl-5g0YNMZqW4eIxWa0hTNfomlFAcHHaquQ8TYKoT9-csEJYLRQVhktcfek9Vx3o6QNhfcHPOkzHQ1xrGBd1F7kw-FUohyEP7585HRH-JUvAr2Lva8apRMJ5cwaRFOCzWtSvl633xlUtyQuxeO2ZsWacYxNVE10WjyRlzVTyFpEoikaN_248A6gotKCBNCnq1U4MuhdURb8ni9mi1nxrylMooE8zbFvBalDHqGW04tgLZq30cD8-g7dogr8xVsLRJ1hesGtJFka4TktSKxLanKkN-kQpRpV1DZSfKLCMsZ25gXd6qFbZ_9UPM1TIGn2EqurdNpbl1GxDH6zXknTyE9rzacVXTyhzK7Y6inYpX4myYbwX1zgnQSTTuvNl3svFHgIq0jCGutyrO5nj0-u5wUs5yY2crPGXPj5on1QK6iFVx6NhF2jOsQH-GJoP37N3yXIlHThuLTZHtmtLyNOfpZ42yVmq5S5zc-6IyZDVdBsCGATnUX7TZvURhysLCpRswu5NBRlJw5VxXxn_O6GV2KYYl4vgJPfPsw51OM0KmRWLVxzvtiBhFT9JyhnXvGxDpTo9Zu96fjGDemhis9_Q9_iv2MNU2g6AG_gGY_0cwO49mIMQ=s64",
      "userId": "13728227204889328138"
     },
     "user_tz": 300
    },
    "id": "EYKvZP_RMde4"
   },
   "outputs": [],
   "source": [
    "# Listing 2.14: A random classifier\n",
    "import random\n",
    "random.seed(a=None, version=2)\n",
    " \n",
    "def ramd_classify(passenger):\n",
    "    return random.randint(0, 1)"
   ]
  },
  {
   "cell_type": "code",
   "execution_count": 18,
   "metadata": {
    "executionInfo": {
     "elapsed": 30,
     "status": "ok",
     "timestamp": 1647611986949,
     "user": {
      "displayName": "GUSTAVO ADOLFO PATIÑO ALVAREZ",
      "photoUrl": "https://lh3.googleusercontent.com/a-/AOh14GieSUQzF1vNVYjcMUZgrtxqAu0TcXwUtMBe44CUwBOW-bk3mEezr-XmVi0ZK8noQUcqQESH8607oqnn7eKdDGzTF--XuISzdvm8X4MkAYW0Ufoi61dZPOCqBwU_yBH21FI9dh3fcBIRjmlSrIvvm6ZZl-5g0YNMZqW4eIxWa0hTNfomlFAcHHaquQ8TYKoT9-csEJYLRQVhktcfek9Vx3o6QNhfcHPOkzHQ1xrGBd1F7kw-FUohyEP7585HRH-JUvAr2Lva8apRMJ5cwaRFOCzWtSvl633xlUtyQuxeO2ZsWacYxNVE10WjyRlzVTyFpEoikaN_248A6gotKCBNCnq1U4MuhdURb8ni9mi1nxrylMooE8zbFvBalDHqGW04tgLZq30cD8-g7dogr8xVsLRJ1hesGtJFka4TktSKxLanKkN-kQpRpV1DZSfKLCMsZ25gXd6qFbZ_9UPM1TIGn2EqurdNpbl1GxDH6zXknTyE9rzacVXTyhzK7Y6inYpX4myYbwX1zgnQSTTuvNl3svFHgIq0jCGutyrO5nj0-u5wUs5yY2crPGXPj5on1QK6iFVx6NhF2jOsQH-GJoP37N3yXIlHThuLTZHtmtLyNOfpZ42yVmq5S5zc-6IyZDVdBsCGATnUX7TZvURhysLCpRswu5NBRlJw5VxXxn_O6GV2KYYl4vgJPfPsw51OM0KmRWLVxzvtiBhFT9JyhnXvGxDpTo9Zu96fjGDemhis9_Q9_iv2MNU2g6AG_gGY_0cwO49mIMQ=s64",
      "userId": "13728227204889328138"
     },
     "user_tz": 300
    },
    "id": "r2w3-cswMde6"
   },
   "outputs": [],
   "source": [
    "# Listing 2.15: The classification runner\n",
    "def run(f_classify, x):\n",
    "    return list(map(f_classify, x))"
   ]
  },
  {
   "cell_type": "code",
   "execution_count": 19,
   "metadata": {
    "colab": {
     "base_uri": "https://localhost:8080/"
    },
    "executionInfo": {
     "elapsed": 29,
     "status": "ok",
     "timestamp": 1647611986949,
     "user": {
      "displayName": "GUSTAVO ADOLFO PATIÑO ALVAREZ",
      "photoUrl": "https://lh3.googleusercontent.com/a-/AOh14GieSUQzF1vNVYjcMUZgrtxqAu0TcXwUtMBe44CUwBOW-bk3mEezr-XmVi0ZK8noQUcqQESH8607oqnn7eKdDGzTF--XuISzdvm8X4MkAYW0Ufoi61dZPOCqBwU_yBH21FI9dh3fcBIRjmlSrIvvm6ZZl-5g0YNMZqW4eIxWa0hTNfomlFAcHHaquQ8TYKoT9-csEJYLRQVhktcfek9Vx3o6QNhfcHPOkzHQ1xrGBd1F7kw-FUohyEP7585HRH-JUvAr2Lva8apRMJ5cwaRFOCzWtSvl633xlUtyQuxeO2ZsWacYxNVE10WjyRlzVTyFpEoikaN_248A6gotKCBNCnq1U4MuhdURb8ni9mi1nxrylMooE8zbFvBalDHqGW04tgLZq30cD8-g7dogr8xVsLRJ1hesGtJFka4TktSKxLanKkN-kQpRpV1DZSfKLCMsZ25gXd6qFbZ_9UPM1TIGn2EqurdNpbl1GxDH6zXknTyE9rzacVXTyhzK7Y6inYpX4myYbwX1zgnQSTTuvNl3svFHgIq0jCGutyrO5nj0-u5wUs5yY2crPGXPj5on1QK6iFVx6NhF2jOsQH-GJoP37N3yXIlHThuLTZHtmtLyNOfpZ42yVmq5S5zc-6IyZDVdBsCGATnUX7TZvURhysLCpRswu5NBRlJw5VxXxn_O6GV2KYYl4vgJPfPsw51OM0KmRWLVxzvtiBhFT9JyhnXvGxDpTo9Zu96fjGDemhis9_Q9_iv2MNU2g6AG_gGY_0cwO49mIMQ=s64",
      "userId": "13728227204889328138"
     },
     "user_tz": 300
    },
    "id": "i3g5g3VVMde6",
    "outputId": "5c7d71db-9a65-473a-e2d3-3a14af3244df",
    "tags": []
   },
   "outputs": [
    {
     "name": "stdout",
     "output_type": "stream",
     "text": [
      "[0, 0, 0, 1, 1, 0, 0, 0, 1, 0, 0, 1, 1, 1, 1, 1, 1, 0, 1, 0, 0, 0, 0, 0, 1, 1, 0, 1, 1, 1, 1, 0, 1, 0, 0, 1, 1, 1, 1, 0, 0, 0, 0, 1, 0, 0, 0, 0, 0, 0, 1, 1, 1, 0, 0, 0, 1, 0, 1, 1, 0, 0, 0, 0, 1, 0, 0, 1, 0, 1, 0, 0, 1, 0, 0, 0, 0, 0, 0, 0, 1, 1, 0, 1, 1, 0, 0, 1, 0, 0, 0, 0, 0, 0, 0, 0, 0, 1, 0, 0, 0, 0, 0, 1, 0, 1, 0, 1, 1, 0, 0, 1, 0, 1, 0, 0, 0, 1, 0, 1, 0, 1, 1, 0, 0, 1, 0, 0, 0, 1, 1, 0, 1, 0, 1, 0, 1, 1, 0, 1, 1, 0, 1, 1, 1, 1, 1, 0, 0, 1, 1, 0, 1, 1, 0, 0, 0, 1, 1, 1, 1, 1, 0, 1, 0, 1, 0, 0, 0, 1, 0, 0, 0, 0, 0, 0, 0, 1, 1, 1, 0, 1, 0, 0, 1, 1, 1, 0, 0, 0, 1, 1, 0, 0, 0, 1, 1, 0, 0, 0, 1, 1, 0, 1, 0, 1, 1, 0, 0, 1, 0, 1, 0, 1, 0, 1, 1, 0, 1, 1, 0, 0, 0, 0, 1, 0, 1, 0, 1, 1, 1, 0, 0, 1, 1, 0, 1, 0, 0, 0, 1, 0, 0, 1, 0, 0, 1, 1, 0, 1, 1, 0, 0, 0, 0, 1, 1, 0, 0, 1, 1, 0, 1, 0, 0, 1, 1, 1, 0, 0, 0, 0, 0, 1, 1, 0, 0, 1, 1, 1, 1, 1, 0, 1, 0, 0, 1, 1, 0, 1, 0, 1, 0, 0, 1, 1, 1, 0, 0, 0, 0, 1, 0, 1, 0, 1, 1, 1, 1, 0, 1, 0, 0, 0, 1, 0, 1, 0, 1, 0, 1, 1, 0, 0, 0, 1, 0, 1, 0, 0, 1, 1, 1, 1, 0, 1, 0, 0, 1, 0, 0, 1, 0, 1, 0, 0, 1, 1, 1, 1, 0, 1, 0, 0, 1, 1, 1, 0, 1, 1, 1, 1, 0, 0, 1, 0, 0, 1, 0, 1, 0, 1, 0, 0, 1, 0, 1, 1, 0, 0, 0, 0, 0, 1, 1, 1, 0, 1, 0, 0, 1, 0, 1, 0, 0, 1, 1, 0, 0, 0, 0, 1, 0, 0, 0, 1, 1, 1, 1, 0, 0, 1, 0, 0, 0, 1, 0, 0, 1, 1, 1, 1, 0, 0, 1, 1, 1, 1, 0, 0, 0, 1, 1, 0, 1, 1, 0, 0, 1, 1, 1, 1, 0, 1, 0, 1, 0, 1, 1, 0, 0, 1, 0, 0, 0, 1, 0, 0, 0, 1, 0, 0, 1, 0, 1, 1, 1, 1, 1, 0, 0, 0, 1, 1, 1, 0, 0, 0, 0, 1, 0, 0, 0, 1, 1, 0, 1, 1, 1, 0, 0, 1, 1, 1, 0, 1, 1, 1, 1, 0, 1, 0, 0, 1, 0, 1, 1, 0, 1, 0, 1, 1, 1, 0, 1, 1, 1, 1, 0, 1, 0, 0, 1, 0, 0, 0, 1, 0, 1, 1, 1, 0, 0, 1, 1, 1, 1, 1, 0, 0, 0, 0, 0, 1, 1, 1, 0, 1, 1, 0, 0, 0, 1, 1, 0, 1, 0, 1, 0, 0, 0, 0, 1, 0, 0, 1, 1, 1, 0, 0, 1, 0, 1, 1, 1, 0, 0, 0, 1, 0, 0, 1, 0, 0, 0, 1, 1, 0, 0, 1, 0, 0, 0, 1, 0, 1, 1, 0, 0, 0, 0, 1, 0, 1, 0, 0, 0, 1, 1, 1, 1, 0, 0, 1, 0, 1, 1, 1, 0, 0, 0, 1, 0, 1, 1, 1, 0, 1, 1, 1, 1, 1, 0, 1, 0, 1, 0, 0, 0, 1, 0, 1, 1, 0, 1, 1, 1, 1, 0, 1, 1, 0, 1, 0, 0, 1, 1, 0, 1, 1, 1, 0, 0, 1, 1, 1, 0, 0, 0, 1, 0, 0, 0, 0, 1, 0, 0, 0, 0, 1, 0, 1, 1, 1, 1, 0, 1, 0, 0, 0, 1, 0, 1, 1, 1, 0, 1, 1, 0, 1, 1, 1, 1, 1, 1, 0, 0, 0, 0, 1, 0]\n"
     ]
    }
   ],
   "source": [
    "# Listing 2.16: Run the classifier\n",
    "result = run(ramd_classify, train_input)\n",
    "print(result)"
   ]
  },
  {
   "cell_type": "code",
   "execution_count": 20,
   "metadata": {
    "colab": {
     "base_uri": "https://localhost:8080/"
    },
    "executionInfo": {
     "elapsed": 26,
     "status": "ok",
     "timestamp": 1647611986950,
     "user": {
      "displayName": "GUSTAVO ADOLFO PATIÑO ALVAREZ",
      "photoUrl": "https://lh3.googleusercontent.com/a-/AOh14GieSUQzF1vNVYjcMUZgrtxqAu0TcXwUtMBe44CUwBOW-bk3mEezr-XmVi0ZK8noQUcqQESH8607oqnn7eKdDGzTF--XuISzdvm8X4MkAYW0Ufoi61dZPOCqBwU_yBH21FI9dh3fcBIRjmlSrIvvm6ZZl-5g0YNMZqW4eIxWa0hTNfomlFAcHHaquQ8TYKoT9-csEJYLRQVhktcfek9Vx3o6QNhfcHPOkzHQ1xrGBd1F7kw-FUohyEP7585HRH-JUvAr2Lva8apRMJ5cwaRFOCzWtSvl633xlUtyQuxeO2ZsWacYxNVE10WjyRlzVTyFpEoikaN_248A6gotKCBNCnq1U4MuhdURb8ni9mi1nxrylMooE8zbFvBalDHqGW04tgLZq30cD8-g7dogr8xVsLRJ1hesGtJFka4TktSKxLanKkN-kQpRpV1DZSfKLCMsZ25gXd6qFbZ_9UPM1TIGn2EqurdNpbl1GxDH6zXknTyE9rzacVXTyhzK7Y6inYpX4myYbwX1zgnQSTTuvNl3svFHgIq0jCGutyrO5nj0-u5wUs5yY2crPGXPj5on1QK6iFVx6NhF2jOsQH-GJoP37N3yXIlHThuLTZHtmtLyNOfpZ42yVmq5S5zc-6IyZDVdBsCGATnUX7TZvURhysLCpRswu5NBRlJw5VxXxn_O6GV2KYYl4vgJPfPsw51OM0KmRWLVxzvtiBhFT9JyhnXvGxDpTo9Zu96fjGDemhis9_Q9_iv2MNU2g6AG_gGY_0cwO49mIMQ=s64",
      "userId": "13728227204889328138"
     },
     "user_tz": 300
    },
    "id": "GvKlA9TEMde7",
    "outputId": "6d852ded-5fa0-4e03-91b1-62e46cf372f1",
    "tags": []
   },
   "outputs": [
    {
     "name": "stdout",
     "output_type": "stream",
     "text": [
      "345 correct predictions out of 711. Accuracy 49 %\n"
     ]
    }
   ],
   "source": [
    "# Listing 2.17: Evaluate the classifier\n",
    "def evaluate(predictions, actual):\n",
    "    correct = list(filter(\n",
    "        lambda item: item[0] == item[1],\n",
    "        list(zip(predictions,actual))\n",
    "    ))\n",
    "    return '{} correct predictions out of {}. Accuracy {:.0f} %' \\\n",
    "        .format(len(correct), len(actual), 100*len(correct)/len(actual))\n",
    "\n",
    "print(evaluate(run(ramd_classify, train_input), train_labels))"
   ]
  },
  {
   "cell_type": "markdown",
   "metadata": {
    "id": "B0iJ_LCfRGyi"
   },
   "source": [
    "### 3.2 Predicting all dead"
   ]
  },
  {
   "cell_type": "code",
   "execution_count": 21,
   "metadata": {
    "colab": {
     "base_uri": "https://localhost:8080/"
    },
    "executionInfo": {
     "elapsed": 24,
     "status": "ok",
     "timestamp": 1647611986951,
     "user": {
      "displayName": "GUSTAVO ADOLFO PATIÑO ALVAREZ",
      "photoUrl": "https://lh3.googleusercontent.com/a-/AOh14GieSUQzF1vNVYjcMUZgrtxqAu0TcXwUtMBe44CUwBOW-bk3mEezr-XmVi0ZK8noQUcqQESH8607oqnn7eKdDGzTF--XuISzdvm8X4MkAYW0Ufoi61dZPOCqBwU_yBH21FI9dh3fcBIRjmlSrIvvm6ZZl-5g0YNMZqW4eIxWa0hTNfomlFAcHHaquQ8TYKoT9-csEJYLRQVhktcfek9Vx3o6QNhfcHPOkzHQ1xrGBd1F7kw-FUohyEP7585HRH-JUvAr2Lva8apRMJ5cwaRFOCzWtSvl633xlUtyQuxeO2ZsWacYxNVE10WjyRlzVTyFpEoikaN_248A6gotKCBNCnq1U4MuhdURb8ni9mi1nxrylMooE8zbFvBalDHqGW04tgLZq30cD8-g7dogr8xVsLRJ1hesGtJFka4TktSKxLanKkN-kQpRpV1DZSfKLCMsZ25gXd6qFbZ_9UPM1TIGn2EqurdNpbl1GxDH6zXknTyE9rzacVXTyhzK7Y6inYpX4myYbwX1zgnQSTTuvNl3svFHgIq0jCGutyrO5nj0-u5wUs5yY2crPGXPj5on1QK6iFVx6NhF2jOsQH-GJoP37N3yXIlHThuLTZHtmtLyNOfpZ42yVmq5S5zc-6IyZDVdBsCGATnUX7TZvURhysLCpRswu5NBRlJw5VxXxn_O6GV2KYYl4vgJPfPsw51OM0KmRWLVxzvtiBhFT9JyhnXvGxDpTo9Zu96fjGDemhis9_Q9_iv2MNU2g6AG_gGY_0cwO49mIMQ=s64",
      "userId": "13728227204889328138"
     },
     "user_tz": 300
    },
    "id": "sZTwu31-Mde7",
    "outputId": "8add0aa7-4c9d-4b99-8214-17784d61ff5d",
    "tags": []
   },
   "outputs": [
    {
     "name": "stdout",
     "output_type": "stream",
     "text": [
      "440 correct predictions out of 711. Accuracy 62 %\n"
     ]
    }
   ],
   "source": [
    "# Listing 2.18: Always predict a passenger died\n",
    "def predict_death(item):\n",
    "    return 0\n",
    "\n",
    "print(evaluate(run(predict_death, train_input), train_labels))"
   ]
  },
  {
   "cell_type": "markdown",
   "metadata": {
    "id": "X7eVq8CXMde8"
   },
   "source": [
    "## 4. Classifier Evaluation and Measures"
   ]
  },
  {
   "cell_type": "code",
   "execution_count": 22,
   "metadata": {
    "colab": {
     "base_uri": "https://localhost:8080/"
    },
    "executionInfo": {
     "elapsed": 21,
     "status": "ok",
     "timestamp": 1647611986952,
     "user": {
      "displayName": "GUSTAVO ADOLFO PATIÑO ALVAREZ",
      "photoUrl": "https://lh3.googleusercontent.com/a-/AOh14GieSUQzF1vNVYjcMUZgrtxqAu0TcXwUtMBe44CUwBOW-bk3mEezr-XmVi0ZK8noQUcqQESH8607oqnn7eKdDGzTF--XuISzdvm8X4MkAYW0Ufoi61dZPOCqBwU_yBH21FI9dh3fcBIRjmlSrIvvm6ZZl-5g0YNMZqW4eIxWa0hTNfomlFAcHHaquQ8TYKoT9-csEJYLRQVhktcfek9Vx3o6QNhfcHPOkzHQ1xrGBd1F7kw-FUohyEP7585HRH-JUvAr2Lva8apRMJ5cwaRFOCzWtSvl633xlUtyQuxeO2ZsWacYxNVE10WjyRlzVTyFpEoikaN_248A6gotKCBNCnq1U4MuhdURb8ni9mi1nxrylMooE8zbFvBalDHqGW04tgLZq30cD8-g7dogr8xVsLRJ1hesGtJFka4TktSKxLanKkN-kQpRpV1DZSfKLCMsZ25gXd6qFbZ_9UPM1TIGn2EqurdNpbl1GxDH6zXknTyE9rzacVXTyhzK7Y6inYpX4myYbwX1zgnQSTTuvNl3svFHgIq0jCGutyrO5nj0-u5wUs5yY2crPGXPj5on1QK6iFVx6NhF2jOsQH-GJoP37N3yXIlHThuLTZHtmtLyNOfpZ42yVmq5S5zc-6IyZDVdBsCGATnUX7TZvURhysLCpRswu5NBRlJw5VxXxn_O6GV2KYYl4vgJPfPsw51OM0KmRWLVxzvtiBhFT9JyhnXvGxDpTo9Zu96fjGDemhis9_Q9_iv2MNU2g6AG_gGY_0cwO49mIMQ=s64",
      "userId": "13728227204889328138"
     },
     "user_tz": 300
    },
    "id": "mu4qzaF7Mde8",
    "outputId": "fadef901-f750-4471-c589-31b1cf105805"
   },
   "outputs": [
    {
     "data": {
      "text/plain": [
       "array([[440,   0],\n",
       "       [271,   0]])"
      ]
     },
     "execution_count": 22,
     "metadata": {},
     "output_type": "execute_result"
    }
   ],
   "source": [
    "# Listing 2.19: Confustion matrix of the predict death classifier\n",
    "from sklearn.metrics import confusion_matrix\n",
    "\n",
    "predictions = run(predict_death, train_input)\n",
    "confusion_matrix(train_labels, predictions)"
   ]
  },
  {
   "cell_type": "code",
   "execution_count": 23,
   "metadata": {
    "colab": {
     "base_uri": "https://localhost:8080/"
    },
    "executionInfo": {
     "elapsed": 18,
     "status": "ok",
     "timestamp": 1647611986953,
     "user": {
      "displayName": "GUSTAVO ADOLFO PATIÑO ALVAREZ",
      "photoUrl": "https://lh3.googleusercontent.com/a-/AOh14GieSUQzF1vNVYjcMUZgrtxqAu0TcXwUtMBe44CUwBOW-bk3mEezr-XmVi0ZK8noQUcqQESH8607oqnn7eKdDGzTF--XuISzdvm8X4MkAYW0Ufoi61dZPOCqBwU_yBH21FI9dh3fcBIRjmlSrIvvm6ZZl-5g0YNMZqW4eIxWa0hTNfomlFAcHHaquQ8TYKoT9-csEJYLRQVhktcfek9Vx3o6QNhfcHPOkzHQ1xrGBd1F7kw-FUohyEP7585HRH-JUvAr2Lva8apRMJ5cwaRFOCzWtSvl633xlUtyQuxeO2ZsWacYxNVE10WjyRlzVTyFpEoikaN_248A6gotKCBNCnq1U4MuhdURb8ni9mi1nxrylMooE8zbFvBalDHqGW04tgLZq30cD8-g7dogr8xVsLRJ1hesGtJFka4TktSKxLanKkN-kQpRpV1DZSfKLCMsZ25gXd6qFbZ_9UPM1TIGn2EqurdNpbl1GxDH6zXknTyE9rzacVXTyhzK7Y6inYpX4myYbwX1zgnQSTTuvNl3svFHgIq0jCGutyrO5nj0-u5wUs5yY2crPGXPj5on1QK6iFVx6NhF2jOsQH-GJoP37N3yXIlHThuLTZHtmtLyNOfpZ42yVmq5S5zc-6IyZDVdBsCGATnUX7TZvURhysLCpRswu5NBRlJw5VxXxn_O6GV2KYYl4vgJPfPsw51OM0KmRWLVxzvtiBhFT9JyhnXvGxDpTo9Zu96fjGDemhis9_Q9_iv2MNU2g6AG_gGY_0cwO49mIMQ=s64",
      "userId": "13728227204889328138"
     },
     "user_tz": 300
    },
    "id": "7lvfsV4EMde9",
    "outputId": "7f9dc61d-4e46-4441-8a18-892022314e54",
    "tags": []
   },
   "outputs": [
    {
     "name": "stdout",
     "output_type": "stream",
     "text": [
      "The precision score of the predict_death classifier is 0.0\n"
     ]
    },
    {
     "name": "stderr",
     "output_type": "stream",
     "text": [
      "/opt/conda/lib/python3.8/site-packages/sklearn/metrics/_classification.py:1327: UndefinedMetricWarning: Precision is ill-defined and being set to 0.0 due to no predicted samples. Use `zero_division` parameter to control this behavior.\n",
      "  _warn_prf(average, modifier, msg_start, len(result))\n"
     ]
    }
   ],
   "source": [
    "# Listing 2.20: The precision score\n",
    "from sklearn.metrics import precision_score\n",
    "print('The precision score of the predict_death classifier is {}'\n",
    "    .format(precision_score(train_labels, predictions)))"
   ]
  },
  {
   "cell_type": "code",
   "execution_count": 24,
   "metadata": {
    "colab": {
     "base_uri": "https://localhost:8080/"
    },
    "executionInfo": {
     "elapsed": 256,
     "status": "ok",
     "timestamp": 1647611987196,
     "user": {
      "displayName": "GUSTAVO ADOLFO PATIÑO ALVAREZ",
      "photoUrl": "https://lh3.googleusercontent.com/a-/AOh14GieSUQzF1vNVYjcMUZgrtxqAu0TcXwUtMBe44CUwBOW-bk3mEezr-XmVi0ZK8noQUcqQESH8607oqnn7eKdDGzTF--XuISzdvm8X4MkAYW0Ufoi61dZPOCqBwU_yBH21FI9dh3fcBIRjmlSrIvvm6ZZl-5g0YNMZqW4eIxWa0hTNfomlFAcHHaquQ8TYKoT9-csEJYLRQVhktcfek9Vx3o6QNhfcHPOkzHQ1xrGBd1F7kw-FUohyEP7585HRH-JUvAr2Lva8apRMJ5cwaRFOCzWtSvl633xlUtyQuxeO2ZsWacYxNVE10WjyRlzVTyFpEoikaN_248A6gotKCBNCnq1U4MuhdURb8ni9mi1nxrylMooE8zbFvBalDHqGW04tgLZq30cD8-g7dogr8xVsLRJ1hesGtJFka4TktSKxLanKkN-kQpRpV1DZSfKLCMsZ25gXd6qFbZ_9UPM1TIGn2EqurdNpbl1GxDH6zXknTyE9rzacVXTyhzK7Y6inYpX4myYbwX1zgnQSTTuvNl3svFHgIq0jCGutyrO5nj0-u5wUs5yY2crPGXPj5on1QK6iFVx6NhF2jOsQH-GJoP37N3yXIlHThuLTZHtmtLyNOfpZ42yVmq5S5zc-6IyZDVdBsCGATnUX7TZvURhysLCpRswu5NBRlJw5VxXxn_O6GV2KYYl4vgJPfPsw51OM0KmRWLVxzvtiBhFT9JyhnXvGxDpTo9Zu96fjGDemhis9_Q9_iv2MNU2g6AG_gGY_0cwO49mIMQ=s64",
      "userId": "13728227204889328138"
     },
     "user_tz": 300
    },
    "id": "zJe4YzTRMde9",
    "outputId": "0ae11885-af7e-4381-fb86-bba65b774146",
    "tags": []
   },
   "outputs": [
    {
     "name": "stdout",
     "output_type": "stream",
     "text": [
      "The recall score of the predict_death classifier is 0.0\n"
     ]
    }
   ],
   "source": [
    "# Listing 2.21: The recall score\n",
    "from sklearn.metrics import recall_score\n",
    "print('The recall score of the predict_death classifier is {}'\n",
    "    .format(recall_score(train_labels, predictions)))"
   ]
  },
  {
   "cell_type": "code",
   "execution_count": 25,
   "metadata": {
    "colab": {
     "base_uri": "https://localhost:8080/"
    },
    "executionInfo": {
     "elapsed": 13,
     "status": "ok",
     "timestamp": 1647611987197,
     "user": {
      "displayName": "GUSTAVO ADOLFO PATIÑO ALVAREZ",
      "photoUrl": "https://lh3.googleusercontent.com/a-/AOh14GieSUQzF1vNVYjcMUZgrtxqAu0TcXwUtMBe44CUwBOW-bk3mEezr-XmVi0ZK8noQUcqQESH8607oqnn7eKdDGzTF--XuISzdvm8X4MkAYW0Ufoi61dZPOCqBwU_yBH21FI9dh3fcBIRjmlSrIvvm6ZZl-5g0YNMZqW4eIxWa0hTNfomlFAcHHaquQ8TYKoT9-csEJYLRQVhktcfek9Vx3o6QNhfcHPOkzHQ1xrGBd1F7kw-FUohyEP7585HRH-JUvAr2Lva8apRMJ5cwaRFOCzWtSvl633xlUtyQuxeO2ZsWacYxNVE10WjyRlzVTyFpEoikaN_248A6gotKCBNCnq1U4MuhdURb8ni9mi1nxrylMooE8zbFvBalDHqGW04tgLZq30cD8-g7dogr8xVsLRJ1hesGtJFka4TktSKxLanKkN-kQpRpV1DZSfKLCMsZ25gXd6qFbZ_9UPM1TIGn2EqurdNpbl1GxDH6zXknTyE9rzacVXTyhzK7Y6inYpX4myYbwX1zgnQSTTuvNl3svFHgIq0jCGutyrO5nj0-u5wUs5yY2crPGXPj5on1QK6iFVx6NhF2jOsQH-GJoP37N3yXIlHThuLTZHtmtLyNOfpZ42yVmq5S5zc-6IyZDVdBsCGATnUX7TZvURhysLCpRswu5NBRlJw5VxXxn_O6GV2KYYl4vgJPfPsw51OM0KmRWLVxzvtiBhFT9JyhnXvGxDpTo9Zu96fjGDemhis9_Q9_iv2MNU2g6AG_gGY_0cwO49mIMQ=s64",
      "userId": "13728227204889328138"
     },
     "user_tz": 300
    },
    "id": "4Ny725LWMde-",
    "outputId": "c3933cf8-afb4-41c4-d026-2fbe0bc7ea6e",
    "tags": []
   },
   "outputs": [
    {
     "name": "stdout",
     "output_type": "stream",
     "text": [
      "The specificity score of the predict_death classifier is 1.00\n",
      "The npv score of the predict_death classifier is 0.62\n"
     ]
    }
   ],
   "source": [
    "# Listing 2.22: The specificity and the npv\n",
    "def specificity(matrix):\n",
    "    return matrix[0][0]/(matrix[0][0]+matrix[0][1]) if (matrix[0][0]+matrix[0][1] > 0) else 0\n",
    "\n",
    "def npv(matrix):\n",
    "    return matrix[0][0]/(matrix[0][0]+matrix[1][0]) if (matrix[0][0]+matrix[1][0] > 0) else 0\n",
    "\n",
    "cm = confusion_matrix(train_labels, predictions)\n",
    "\n",
    "print('The specificity score of the predict_death classifier is {:.2f}'.format(specificity(cm)))\n",
    "print('The npv score of the predict_death classifier is {:.2f}'.format(npv(cm)))"
   ]
  },
  {
   "cell_type": "code",
   "execution_count": 26,
   "metadata": {
    "colab": {
     "base_uri": "https://localhost:8080/"
    },
    "executionInfo": {
     "elapsed": 13,
     "status": "ok",
     "timestamp": 1647611987198,
     "user": {
      "displayName": "GUSTAVO ADOLFO PATIÑO ALVAREZ",
      "photoUrl": "https://lh3.googleusercontent.com/a-/AOh14GieSUQzF1vNVYjcMUZgrtxqAu0TcXwUtMBe44CUwBOW-bk3mEezr-XmVi0ZK8noQUcqQESH8607oqnn7eKdDGzTF--XuISzdvm8X4MkAYW0Ufoi61dZPOCqBwU_yBH21FI9dh3fcBIRjmlSrIvvm6ZZl-5g0YNMZqW4eIxWa0hTNfomlFAcHHaquQ8TYKoT9-csEJYLRQVhktcfek9Vx3o6QNhfcHPOkzHQ1xrGBd1F7kw-FUohyEP7585HRH-JUvAr2Lva8apRMJ5cwaRFOCzWtSvl633xlUtyQuxeO2ZsWacYxNVE10WjyRlzVTyFpEoikaN_248A6gotKCBNCnq1U4MuhdURb8ni9mi1nxrylMooE8zbFvBalDHqGW04tgLZq30cD8-g7dogr8xVsLRJ1hesGtJFka4TktSKxLanKkN-kQpRpV1DZSfKLCMsZ25gXd6qFbZ_9UPM1TIGn2EqurdNpbl1GxDH6zXknTyE9rzacVXTyhzK7Y6inYpX4myYbwX1zgnQSTTuvNl3svFHgIq0jCGutyrO5nj0-u5wUs5yY2crPGXPj5on1QK6iFVx6NhF2jOsQH-GJoP37N3yXIlHThuLTZHtmtLyNOfpZ42yVmq5S5zc-6IyZDVdBsCGATnUX7TZvURhysLCpRswu5NBRlJw5VxXxn_O6GV2KYYl4vgJPfPsw51OM0KmRWLVxzvtiBhFT9JyhnXvGxDpTo9Zu96fjGDemhis9_Q9_iv2MNU2g6AG_gGY_0cwO49mIMQ=s64",
      "userId": "13728227204889328138"
     },
     "user_tz": 300
    },
    "id": "R1yKlHY9Mde-",
    "outputId": "51cf124f-2f80-4fd0-da97-a7196f5cab67",
    "tags": []
   },
   "outputs": [
    {
     "name": "stdout",
     "output_type": "stream",
     "text": [
      "The Confusion Matrix for the random classification is:\n",
      "[[207 233]\n",
      " [133 138]]\n",
      "The precision score of the random classifier is 0.37\n",
      "The recall score of the random classifier is 0.51\n",
      "The specificity score of the random classifier is 0.47\n",
      "The npv score of the random classifier is 0.61\n"
     ]
    }
   ],
   "source": [
    "# Listing 2.23: The scores of the random classifier\n",
    "random_predictions = run(ramd_classify, train_input)\n",
    "random_cm = confusion_matrix(train_labels, random_predictions)\n",
    "print('The Confusion Matrix for the random classification is:')\n",
    "print(random_cm)\n",
    "\n",
    "print('The precision score of the random classifier is {:.2f}'\n",
    "    .format(precision_score(train_labels, random_predictions)))\n",
    "print('The recall score of the random classifier is {:.2f}'\n",
    "    .format(recall_score(train_labels, random_predictions)))\n",
    "print('The specificity score of the random classifier is {:.2f}'\n",
    "    .format(specificity(random_cm)))\n",
    "print('The npv score of the random classifier is {:.2f}'\n",
    "    .format(npv(random_cm)))"
   ]
  },
  {
   "cell_type": "markdown",
   "metadata": {
    "id": "z6sWIfK9Mde_"
   },
   "source": [
    "## 5. Giving the Classification Report"
   ]
  },
  {
   "cell_type": "code",
   "execution_count": 27,
   "metadata": {
    "executionInfo": {
     "elapsed": 8,
     "status": "ok",
     "timestamp": 1647611987198,
     "user": {
      "displayName": "GUSTAVO ADOLFO PATIÑO ALVAREZ",
      "photoUrl": "https://lh3.googleusercontent.com/a-/AOh14GieSUQzF1vNVYjcMUZgrtxqAu0TcXwUtMBe44CUwBOW-bk3mEezr-XmVi0ZK8noQUcqQESH8607oqnn7eKdDGzTF--XuISzdvm8X4MkAYW0Ufoi61dZPOCqBwU_yBH21FI9dh3fcBIRjmlSrIvvm6ZZl-5g0YNMZqW4eIxWa0hTNfomlFAcHHaquQ8TYKoT9-csEJYLRQVhktcfek9Vx3o6QNhfcHPOkzHQ1xrGBd1F7kw-FUohyEP7585HRH-JUvAr2Lva8apRMJ5cwaRFOCzWtSvl633xlUtyQuxeO2ZsWacYxNVE10WjyRlzVTyFpEoikaN_248A6gotKCBNCnq1U4MuhdURb8ni9mi1nxrylMooE8zbFvBalDHqGW04tgLZq30cD8-g7dogr8xVsLRJ1hesGtJFka4TktSKxLanKkN-kQpRpV1DZSfKLCMsZ25gXd6qFbZ_9UPM1TIGn2EqurdNpbl1GxDH6zXknTyE9rzacVXTyhzK7Y6inYpX4myYbwX1zgnQSTTuvNl3svFHgIq0jCGutyrO5nj0-u5wUs5yY2crPGXPj5on1QK6iFVx6NhF2jOsQH-GJoP37N3yXIlHThuLTZHtmtLyNOfpZ42yVmq5S5zc-6IyZDVdBsCGATnUX7TZvURhysLCpRswu5NBRlJw5VxXxn_O6GV2KYYl4vgJPfPsw51OM0KmRWLVxzvtiBhFT9JyhnXvGxDpTo9Zu96fjGDemhis9_Q9_iv2MNU2g6AG_gGY_0cwO49mIMQ=s64",
      "userId": "13728227204889328138"
     },
     "user_tz": 300
    },
    "id": "ftKzmvK3MdfD"
   },
   "outputs": [],
   "source": [
    "# Listing 2.31: A reusable function to unmask the classifier\n",
    "def classifier_report(name, run, classify, input, labels):\n",
    "    cr_predictions = run(classify, input)\n",
    "    cr_cm = confusion_matrix(labels, cr_predictions)\n",
    "\n",
    "    cr_precision = precision_score(labels, cr_predictions)\n",
    "    cr_recall = recall_score(labels, cr_predictions)\n",
    "    cr_specificity = specificity(cr_cm)\n",
    "    cr_npv = npv(cr_cm)\n",
    "    cr_level = 0.25*(cr_precision + cr_recall + cr_specificity + cr_npv)\n",
    "\n",
    "    print('The precision score of the {} classifier is {:.2f}'\n",
    "        .format(name, cr_precision))\n",
    "    print('The recall score of the {} classifier is {:.2f}'\n",
    "        .format(name, cr_recall))\n",
    "    print('The specificity score of the {} classifier is {:.2f}'\n",
    "        .format(name, cr_specificity))\n",
    "    print('The npv score of the {} classifier is {:.2f}'\n",
    "        .format(name, cr_npv))\n",
    "    print('The information level is: {:.2f}'\n",
    "        .format(cr_level))"
   ]
  },
  {
   "cell_type": "code",
   "execution_count": 28,
   "metadata": {
    "colab": {
     "base_uri": "https://localhost:8080/"
    },
    "executionInfo": {
     "elapsed": 283,
     "status": "ok",
     "timestamp": 1647611987473,
     "user": {
      "displayName": "GUSTAVO ADOLFO PATIÑO ALVAREZ",
      "photoUrl": "https://lh3.googleusercontent.com/a-/AOh14GieSUQzF1vNVYjcMUZgrtxqAu0TcXwUtMBe44CUwBOW-bk3mEezr-XmVi0ZK8noQUcqQESH8607oqnn7eKdDGzTF--XuISzdvm8X4MkAYW0Ufoi61dZPOCqBwU_yBH21FI9dh3fcBIRjmlSrIvvm6ZZl-5g0YNMZqW4eIxWa0hTNfomlFAcHHaquQ8TYKoT9-csEJYLRQVhktcfek9Vx3o6QNhfcHPOkzHQ1xrGBd1F7kw-FUohyEP7585HRH-JUvAr2Lva8apRMJ5cwaRFOCzWtSvl633xlUtyQuxeO2ZsWacYxNVE10WjyRlzVTyFpEoikaN_248A6gotKCBNCnq1U4MuhdURb8ni9mi1nxrylMooE8zbFvBalDHqGW04tgLZq30cD8-g7dogr8xVsLRJ1hesGtJFka4TktSKxLanKkN-kQpRpV1DZSfKLCMsZ25gXd6qFbZ_9UPM1TIGn2EqurdNpbl1GxDH6zXknTyE9rzacVXTyhzK7Y6inYpX4myYbwX1zgnQSTTuvNl3svFHgIq0jCGutyrO5nj0-u5wUs5yY2crPGXPj5on1QK6iFVx6NhF2jOsQH-GJoP37N3yXIlHThuLTZHtmtLyNOfpZ42yVmq5S5zc-6IyZDVdBsCGATnUX7TZvURhysLCpRswu5NBRlJw5VxXxn_O6GV2KYYl4vgJPfPsw51OM0KmRWLVxzvtiBhFT9JyhnXvGxDpTo9Zu96fjGDemhis9_Q9_iv2MNU2g6AG_gGY_0cwO49mIMQ=s64",
      "userId": "13728227204889328138"
     },
     "user_tz": 300
    },
    "id": "fGAmGOiJMdfE",
    "outputId": "a2ca79f8-77c7-4391-af5e-8b80819ce172",
    "tags": []
   },
   "outputs": [
    {
     "name": "stdout",
     "output_type": "stream",
     "text": [
      "The precision score of the Random Classifier classifier is 0.37\n",
      "The recall score of the Random Classifier classifier is 0.49\n",
      "The specificity score of the Random Classifier classifier is 0.50\n",
      "The npv score of the Random Classifier classifier is 0.61\n",
      "The information level is: 0.49\n"
     ]
    }
   ],
   "source": [
    "# Listing 2.32: The report of the random classifier\n",
    "classifier_report(\n",
    "    \"Random Classifier\", \n",
    "    run,\n",
    "    ramd_classify,\n",
    "    train_input,\n",
    "    train_labels)"
   ]
  },
  {
   "cell_type": "markdown",
   "metadata": {},
   "source": [
    "# Quantum Classifier: Parameterized Quantum Circuit (PQC)"
   ]
  },
  {
   "cell_type": "code",
   "execution_count": 29,
   "metadata": {
    "executionInfo": {
     "elapsed": 10,
     "status": "ok",
     "timestamp": 1647611987474,
     "user": {
      "displayName": "GUSTAVO ADOLFO PATIÑO ALVAREZ",
      "photoUrl": "https://lh3.googleusercontent.com/a-/AOh14GieSUQzF1vNVYjcMUZgrtxqAu0TcXwUtMBe44CUwBOW-bk3mEezr-XmVi0ZK8noQUcqQESH8607oqnn7eKdDGzTF--XuISzdvm8X4MkAYW0Ufoi61dZPOCqBwU_yBH21FI9dh3fcBIRjmlSrIvvm6ZZl-5g0YNMZqW4eIxWa0hTNfomlFAcHHaquQ8TYKoT9-csEJYLRQVhktcfek9Vx3o6QNhfcHPOkzHQ1xrGBd1F7kw-FUohyEP7585HRH-JUvAr2Lva8apRMJ5cwaRFOCzWtSvl633xlUtyQuxeO2ZsWacYxNVE10WjyRlzVTyFpEoikaN_248A6gotKCBNCnq1U4MuhdURb8ni9mi1nxrylMooE8zbFvBalDHqGW04tgLZq30cD8-g7dogr8xVsLRJ1hesGtJFka4TktSKxLanKkN-kQpRpV1DZSfKLCMsZ25gXd6qFbZ_9UPM1TIGn2EqurdNpbl1GxDH6zXknTyE9rzacVXTyhzK7Y6inYpX4myYbwX1zgnQSTTuvNl3svFHgIq0jCGutyrO5nj0-u5wUs5yY2crPGXPj5on1QK6iFVx6NhF2jOsQH-GJoP37N3yXIlHThuLTZHtmtLyNOfpZ42yVmq5S5zc-6IyZDVdBsCGATnUX7TZvURhysLCpRswu5NBRlJw5VxXxn_O6GV2KYYl4vgJPfPsw51OM0KmRWLVxzvtiBhFT9JyhnXvGxDpTo9Zu96fjGDemhis9_Q9_iv2MNU2g6AG_gGY_0cwO49mIMQ=s64",
      "userId": "13728227204889328138"
     },
     "user_tz": 300
    },
    "id": "aTrwAZtZT7yY"
   },
   "outputs": [],
   "source": [
    "# Listing 3.1 Verify Qiskit version\n",
    "import qiskit\n",
    "from qiskit import QuantumCircuit, execute, Aer\n",
    "from qiskit.visualization import plot_histogram\n",
    "import matplotlib.pyplot as plt\n",
    "from math import sqrt\n",
    "\n",
    "\n",
    "# Tell Qiskit how to simulate our circuit\n",
    "backend = Aer.get_backend('statevector_simulator') \n"
   ]
  },
  {
   "cell_type": "code",
   "execution_count": 30,
   "metadata": {},
   "outputs": [],
   "source": [
    "# Listing 3.15: The parameterized quantum circuit classifier\n",
    "from qiskit import execute, Aer, QuantumCircuit\n",
    "from math import sqrt\n",
    "from sklearn.metrics import recall_score, precision_score, confusion_matrix\n",
    "\n",
    "def pqc_classify(backend, passenger_state):\n",
    "    \"\"\"backend -- a qiskit backend to run the quantum circuit at\n",
    "    passenger_state -- a valid quantum state vector\"\"\"\n",
    "    \n",
    "    # Create a quantum circuit with one qubit\n",
    "    qc = QuantumCircuit(1) \n",
    "\n",
    "    # Define state |Psi> and initialize the circuit\n",
    "    qc.initialize(passenger_state, 0)\n",
    "    \n",
    "    # Measure the qubit\n",
    "    qc.measure_all()\n",
    "\n",
    "    # run the quantum circuit\n",
    "    result=execute(qc,backend).result()\n",
    "\n",
    "    # get the counts, these are either {'0': 1} or {'1': 1}\n",
    "    counts=result.get_counts(qc)\n",
    "    \n",
    "    # get the bit 0 or 1\n",
    "    return int(list(map(lambda item: item[0], counts.items()))[0])"
   ]
  },
  {
   "cell_type": "code",
   "execution_count": 31,
   "metadata": {},
   "outputs": [],
   "source": [
    "# Listing 3.16: Load the data\n",
    "import numpy as np\n",
    "\n",
    "with open('../QML/data/train.npy', 'rb') as f:\n",
    "    train_input = np.load(f)\n",
    "    train_labels = np.load(f)\n",
    "\n",
    "with open('../QML/data/test.npy', 'rb') as f:\n",
    "    test_input = np.load(f)\n",
    "    test_labels = np.load(f)"
   ]
  },
  {
   "cell_type": "code",
   "execution_count": 32,
   "metadata": {},
   "outputs": [
    {
     "name": "stdout",
     "output_type": "stream",
     "text": [
      "The precision score of the Random PQC classifier is 0.40\n",
      "The recall score of the Random PQC classifier is 0.55\n",
      "The specificity score of the Random PQC classifier is 0.50\n",
      "The npv score of the Random PQC classifier is 0.64\n",
      "The information level is: 0.52\n"
     ]
    }
   ],
   "source": [
    "# Listing 3.17: The scores of the random quantum classifier\n",
    "# Tell Qiskit how to simulate our circuit\n",
    "backend = Aer.get_backend('statevector_simulator') \n",
    "\n",
    "# Specify the quantum state that results in either 0 or 1\n",
    "initial_state = [1/sqrt(2), 1/sqrt(2)] \n",
    "\n",
    "classifier_report(\"Random PQC\", \n",
    "    run,\n",
    "    lambda passenger: pqc_classify(backend, initial_state),\n",
    "    train_input,\n",
    "    train_labels)"
   ]
  },
  {
   "cell_type": "code",
   "execution_count": null,
   "metadata": {},
   "outputs": [],
   "source": []
  }
 ],
 "metadata": {
  "colab": {
   "collapsed_sections": [],
   "name": "Classical Machine Learning Classification.ipynb",
   "provenance": []
  },
  "kernelspec": {
   "display_name": "Python 3 (ipykernel)",
   "language": "python",
   "name": "python3"
  },
  "language_info": {
   "codemirror_mode": {
    "name": "ipython",
    "version": 3
   },
   "file_extension": ".py",
   "mimetype": "text/x-python",
   "name": "python",
   "nbconvert_exporter": "python",
   "pygments_lexer": "ipython3",
   "version": "3.8.13"
  },
  "widgets": {
   "application/vnd.jupyter.widget-state+json": {
    "state": {},
    "version_major": 2,
    "version_minor": 0
   }
  }
 },
 "nbformat": 4,
 "nbformat_minor": 4
}
