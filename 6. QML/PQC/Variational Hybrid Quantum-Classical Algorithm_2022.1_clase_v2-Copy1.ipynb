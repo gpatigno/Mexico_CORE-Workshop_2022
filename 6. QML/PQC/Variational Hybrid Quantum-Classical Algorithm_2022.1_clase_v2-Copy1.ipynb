{
 "cells": [
  {
   "cell_type": "code",
   "execution_count": 1,
   "metadata": {},
   "outputs": [],
   "source": [
    "# ***************************************************************************************************\n",
    "# Here you will find a simple version of a Variational Hybrid Quantum-Classical Algorithm based on a\n",
    "# Parameterized Quantum Circuit (PQC).\n",
    "# ***************************************************************************************************\n",
    "\n",
    "# ***************************************************************************************************\n",
    "# Code from:\n",
    "# Zickert, F. (2021). Chapter 3: The Qubit and Quantum States\n",
    "# In F. Zickert, Hands-On Quantum Machine Learning With Python: Volume 1: Get Started, PyQML, 2021. \n",
    "# Available on https://www.pyqml.com/\n",
    "# ***************************************************************************************************\n",
    "\n",
    "# ***************************************************************************************************\n",
    "# Modifications have been made by Gustavo Patino.\n",
    "# Engineering School\n",
    "# University of Antioquia.\n",
    "# Medellin, Colombia\n",
    "# September, 2022.\n",
    "# ***************************************************************************************************"
   ]
  },
  {
   "cell_type": "code",
   "execution_count": 2,
   "metadata": {
    "id": "dTPYmstfYFNw"
   },
   "outputs": [
    {
     "name": "stderr",
     "output_type": "stream",
     "text": [
      "<frozen importlib._bootstrap>:219: RuntimeWarning: scipy._lib.messagestream.MessageStream size changed, may indicate binary incompatibility. Expected 56 from C header, got 64 from PyObject\n"
     ]
    }
   ],
   "source": [
    "# Listing 3.1 Verify Qiskit version\n",
    "import qiskit\n",
    "from qiskit import QuantumCircuit, execute, Aer\n",
    "from qiskit.visualization import plot_histogram\n",
    "\n",
    "import numpy as np\n",
    "import pandas as pd\n",
    "#import seaborn as sns # For pairplots and heatmaps\n",
    "import matplotlib.pyplot as plt\n",
    "from math import sqrt"
   ]
  },
  {
   "cell_type": "code",
   "execution_count": 3,
   "metadata": {
    "id": "dTPYmstfYFNw"
   },
   "outputs": [],
   "source": [
    "from sklearn.metrics import recall_score, precision_score, confusion_matrix \n",
    "from qiskit_textbook.tools import vector2latex"
   ]
  },
  {
   "cell_type": "code",
   "execution_count": 4,
   "metadata": {},
   "outputs": [],
   "source": [
    "# Descomente la siguiente linea si desea ver las imágenes más grandes.\n",
    "%config InlineBackend.figure_format = 'svg' # Makes the images look nice"
   ]
  },
  {
   "cell_type": "code",
   "execution_count": 5,
   "metadata": {},
   "outputs": [],
   "source": [
    "# Importing the Qiskit lab. Drive:\n",
    "import sys\n",
    "sys.path.insert(0, '..')"
   ]
  },
  {
   "cell_type": "code",
   "execution_count": 6,
   "metadata": {},
   "outputs": [],
   "source": [
    "# Listing 3.16: Load the data\n",
    "with open('data/train.npy', 'rb') as f:\n",
    "    train_input = np.load(f)\n",
    "    train_labels = np.load(f)\n",
    "\n",
    "with open('data/test.npy', 'rb') as f:\n",
    "    test_input = np.load(f)\n",
    "    test_labels = np.load(f)"
   ]
  },
  {
   "cell_type": "code",
   "execution_count": 7,
   "metadata": {},
   "outputs": [],
   "source": [
    "# REDEFINE OR IMPORT THE FUNCTIONS OF CHAPTER 2\n",
    "def run(f_classify, x):\n",
    "    return list(map(f_classify, x))\n",
    "\n",
    "def specificity(matrix):\n",
    "    return matrix[0][0]/(matrix[0][0]+matrix[0][1]) if (matrix[0][0]+matrix[0][1] > 0) else 0\n",
    "\n",
    "def npv(matrix):\n",
    "    return matrix[0][0]/(matrix[0][0]+matrix[1][0]) if (matrix[0][0]+matrix[1][0] > 0) else 0\n",
    "\n",
    "def classifier_report(name, run, classify, input, labels):\n",
    "    cr_predictions = run(classify, input)\n",
    "    cr_cm = confusion_matrix(labels, cr_predictions)\n",
    "\n",
    "    cr_precision = precision_score(labels, cr_predictions)\n",
    "    cr_recall = recall_score(labels, cr_predictions)\n",
    "    cr_specificity = specificity(cr_cm)\n",
    "    cr_npv = npv(cr_cm)\n",
    "    cr_level = 0.25*(cr_precision + cr_recall + cr_specificity + cr_npv)\n",
    "\n",
    "    print('\\nThe precision score of the {} classifier is {:.2f}'\n",
    "        .format(name, cr_precision))\n",
    "    print('The recall score of the {} classifier is {:.2f}'\n",
    "        .format(name, cr_recall))\n",
    "    print('The specificity score of the {} classifier is {:.2f}'\n",
    "        .format(name, cr_specificity))\n",
    "    print('The npv score of the {} classifier is {:.2f}'\n",
    "        .format(name, cr_npv))\n",
    "    print('The information level is: {:.2f}'\n",
    "        .format(cr_level))\n",
    "#CAPTION A reusable function to unmask the hypocrite classifier"
   ]
  },
  {
   "cell_type": "code",
   "execution_count": 8,
   "metadata": {},
   "outputs": [],
   "source": [
    "## The Random PQC"
   ]
  },
  {
   "cell_type": "code",
   "execution_count": 9,
   "metadata": {},
   "outputs": [],
   "source": [
    "# Listing 3.20: Pre‐processing template\n",
    "def pre_process_random(passenger):\n",
    "    \"\"\"\n",
    "    passenger -- the normalized (array of numeric data) passenger data\n",
    "    returns a valid quantum state\n",
    "    \"\"\"\n",
    "    quantum_state = [1/sqrt(2), 1/sqrt(2)]\n",
    "    \n",
    "#   vector2latex(quantum_state, pretext=\"|\\\\psi\\\\rangle =\")    \n",
    "    \n",
    "    return quantum_state"
   ]
  },
  {
   "cell_type": "code",
   "execution_count": 10,
   "metadata": {},
   "outputs": [],
   "source": [
    "# Listing 3.21: The parameterized quantum circuit (PQC)\n",
    "def pqc(backend, quantum_state):\n",
    "    \"\"\"\n",
    "    backend -- a qiskit backend to run the quantum circuit at\n",
    "    quantum_state -- a valid quantum state vector  \n",
    "    returns the counts of the measurement\n",
    "    \"\"\"\n",
    "\n",
    "    # Create a quantum circuit with one qubit\n",
    "    qc = QuantumCircuit(1)\n",
    "\n",
    "    # Define state |Psi> and initialize the circuit\n",
    "    qc.initialize(quantum_state, 0)\n",
    "    \n",
    "    # Measure the qubit\n",
    "    qc.measure_all()\n",
    "\n",
    "    # run the quantum circuit\n",
    "    result=execute(qc,backend).result()\n",
    "\n",
    "    # get the counts, these are either {'0': 1} or {'1': 1}\n",
    "    counts=result.get_counts(qc)\n",
    "    \n",
    "    print('Salida counts =', counts)\n",
    "\n",
    "    return counts"
   ]
  },
  {
   "cell_type": "code",
   "execution_count": 11,
   "metadata": {},
   "outputs": [],
   "source": [
    "# Listing 3.22: Post‐processing\n",
    "def post_process(counts):\n",
    "    \"\"\"\n",
    "    counts -- the result of the quantum circuit execution\n",
    "    returns the prediction\n",
    "    \"\"\"\n",
    "    \n",
    "    Prediction = list(map(lambda item: item[0], counts.items()))[0]\n",
    "    \n",
    "    print('Given the former angle theta and quantum state, the new prediction is:')\n",
    "    print('Prediction =', Prediction)\n",
    "    print('int(Prediction) =', int(Prediction), '\\n')\n",
    "        \n",
    "    return int(Prediction)"
   ]
  },
  {
   "cell_type": "code",
   "execution_count": 12,
   "metadata": {
    "scrolled": true,
    "tags": []
   },
   "outputs": [],
   "source": [
    "# Listing 3.23: The scores of the random quantum classifier\n",
    "# Tell Qiskit how to simulate our circuit\n",
    "backend = Aer.get_backend('statevector_simulator') "
   ]
  },
  {
   "cell_type": "code",
   "execution_count": 13,
   "metadata": {
    "scrolled": true,
    "tags": []
   },
   "outputs": [
    {
     "name": "stdout",
     "output_type": "stream",
     "text": [
      "Salida counts = {'0': 1}\n",
      "Given the former angle theta and quantum state, the new prediction is:\n",
      "Prediction = 0\n",
      "int(Prediction) = 0 \n",
      "\n",
      "Salida counts = {'1': 1}\n",
      "Given the former angle theta and quantum state, the new prediction is:\n",
      "Prediction = 1\n",
      "int(Prediction) = 1 \n",
      "\n",
      "Salida counts = {'1': 1}\n",
      "Given the former angle theta and quantum state, the new prediction is:\n",
      "Prediction = 1\n",
      "int(Prediction) = 1 \n",
      "\n",
      "Salida counts = {'1': 1}\n",
      "Given the former angle theta and quantum state, the new prediction is:\n",
      "Prediction = 1\n",
      "int(Prediction) = 1 \n",
      "\n",
      "Salida counts = {'0': 1}\n",
      "Given the former angle theta and quantum state, the new prediction is:\n",
      "Prediction = 0\n",
      "int(Prediction) = 0 \n",
      "\n",
      "Salida counts = {'0': 1}\n",
      "Given the former angle theta and quantum state, the new prediction is:\n",
      "Prediction = 0\n",
      "int(Prediction) = 0 \n",
      "\n",
      "Salida counts = {'0': 1}\n",
      "Given the former angle theta and quantum state, the new prediction is:\n",
      "Prediction = 0\n",
      "int(Prediction) = 0 \n",
      "\n",
      "Salida counts = {'0': 1}\n",
      "Given the former angle theta and quantum state, the new prediction is:\n",
      "Prediction = 0\n",
      "int(Prediction) = 0 \n",
      "\n",
      "Salida counts = {'1': 1}\n",
      "Given the former angle theta and quantum state, the new prediction is:\n",
      "Prediction = 1\n",
      "int(Prediction) = 1 \n",
      "\n",
      "Salida counts = {'1': 1}\n",
      "Given the former angle theta and quantum state, the new prediction is:\n",
      "Prediction = 1\n",
      "int(Prediction) = 1 \n",
      "\n",
      "Salida counts = {'1': 1}\n",
      "Given the former angle theta and quantum state, the new prediction is:\n",
      "Prediction = 1\n",
      "int(Prediction) = 1 \n",
      "\n",
      "Salida counts = {'1': 1}\n",
      "Given the former angle theta and quantum state, the new prediction is:\n",
      "Prediction = 1\n",
      "int(Prediction) = 1 \n",
      "\n",
      "Salida counts = {'1': 1}\n",
      "Given the former angle theta and quantum state, the new prediction is:\n",
      "Prediction = 1\n",
      "int(Prediction) = 1 \n",
      "\n",
      "Salida counts = {'0': 1}\n",
      "Given the former angle theta and quantum state, the new prediction is:\n",
      "Prediction = 0\n",
      "int(Prediction) = 0 \n",
      "\n",
      "Salida counts = {'0': 1}\n",
      "Given the former angle theta and quantum state, the new prediction is:\n",
      "Prediction = 0\n",
      "int(Prediction) = 0 \n",
      "\n",
      "Salida counts = {'0': 1}\n",
      "Given the former angle theta and quantum state, the new prediction is:\n",
      "Prediction = 0\n",
      "int(Prediction) = 0 \n",
      "\n",
      "Salida counts = {'0': 1}\n",
      "Given the former angle theta and quantum state, the new prediction is:\n",
      "Prediction = 0\n",
      "int(Prediction) = 0 \n",
      "\n",
      "Salida counts = {'0': 1}\n",
      "Given the former angle theta and quantum state, the new prediction is:\n",
      "Prediction = 0\n",
      "int(Prediction) = 0 \n",
      "\n",
      "Salida counts = {'1': 1}\n",
      "Given the former angle theta and quantum state, the new prediction is:\n",
      "Prediction = 1\n",
      "int(Prediction) = 1 \n",
      "\n",
      "Salida counts = {'0': 1}\n",
      "Given the former angle theta and quantum state, the new prediction is:\n",
      "Prediction = 0\n",
      "int(Prediction) = 0 \n",
      "\n",
      "Salida counts = {'0': 1}\n",
      "Given the former angle theta and quantum state, the new prediction is:\n",
      "Prediction = 0\n",
      "int(Prediction) = 0 \n",
      "\n",
      "Salida counts = {'0': 1}\n",
      "Given the former angle theta and quantum state, the new prediction is:\n",
      "Prediction = 0\n",
      "int(Prediction) = 0 \n",
      "\n",
      "Salida counts = {'0': 1}\n",
      "Given the former angle theta and quantum state, the new prediction is:\n",
      "Prediction = 0\n",
      "int(Prediction) = 0 \n",
      "\n",
      "Salida counts = {'1': 1}\n",
      "Given the former angle theta and quantum state, the new prediction is:\n",
      "Prediction = 1\n",
      "int(Prediction) = 1 \n",
      "\n",
      "Salida counts = {'0': 1}\n",
      "Given the former angle theta and quantum state, the new prediction is:\n",
      "Prediction = 0\n",
      "int(Prediction) = 0 \n",
      "\n",
      "Salida counts = {'1': 1}\n",
      "Given the former angle theta and quantum state, the new prediction is:\n",
      "Prediction = 1\n",
      "int(Prediction) = 1 \n",
      "\n",
      "Salida counts = {'1': 1}\n",
      "Given the former angle theta and quantum state, the new prediction is:\n",
      "Prediction = 1\n",
      "int(Prediction) = 1 \n",
      "\n",
      "Salida counts = {'0': 1}\n",
      "Given the former angle theta and quantum state, the new prediction is:\n",
      "Prediction = 0\n",
      "int(Prediction) = 0 \n",
      "\n",
      "Salida counts = {'1': 1}\n",
      "Given the former angle theta and quantum state, the new prediction is:\n",
      "Prediction = 1\n",
      "int(Prediction) = 1 \n",
      "\n",
      "Salida counts = {'0': 1}\n",
      "Given the former angle theta and quantum state, the new prediction is:\n",
      "Prediction = 0\n",
      "int(Prediction) = 0 \n",
      "\n",
      "Salida counts = {'1': 1}\n",
      "Given the former angle theta and quantum state, the new prediction is:\n",
      "Prediction = 1\n",
      "int(Prediction) = 1 \n",
      "\n",
      "Salida counts = {'1': 1}\n",
      "Given the former angle theta and quantum state, the new prediction is:\n",
      "Prediction = 1\n",
      "int(Prediction) = 1 \n",
      "\n",
      "Salida counts = {'0': 1}\n",
      "Given the former angle theta and quantum state, the new prediction is:\n",
      "Prediction = 0\n",
      "int(Prediction) = 0 \n",
      "\n",
      "Salida counts = {'1': 1}\n",
      "Given the former angle theta and quantum state, the new prediction is:\n",
      "Prediction = 1\n",
      "int(Prediction) = 1 \n",
      "\n",
      "Salida counts = {'0': 1}\n",
      "Given the former angle theta and quantum state, the new prediction is:\n",
      "Prediction = 0\n",
      "int(Prediction) = 0 \n",
      "\n",
      "Salida counts = {'0': 1}\n",
      "Given the former angle theta and quantum state, the new prediction is:\n",
      "Prediction = 0\n",
      "int(Prediction) = 0 \n",
      "\n",
      "Salida counts = {'1': 1}\n",
      "Given the former angle theta and quantum state, the new prediction is:\n",
      "Prediction = 1\n",
      "int(Prediction) = 1 \n",
      "\n",
      "Salida counts = {'0': 1}\n",
      "Given the former angle theta and quantum state, the new prediction is:\n",
      "Prediction = 0\n",
      "int(Prediction) = 0 \n",
      "\n",
      "Salida counts = {'0': 1}\n",
      "Given the former angle theta and quantum state, the new prediction is:\n",
      "Prediction = 0\n",
      "int(Prediction) = 0 \n",
      "\n",
      "Salida counts = {'1': 1}\n",
      "Given the former angle theta and quantum state, the new prediction is:\n",
      "Prediction = 1\n",
      "int(Prediction) = 1 \n",
      "\n",
      "Salida counts = {'0': 1}\n",
      "Given the former angle theta and quantum state, the new prediction is:\n",
      "Prediction = 0\n",
      "int(Prediction) = 0 \n",
      "\n",
      "Salida counts = {'1': 1}\n",
      "Given the former angle theta and quantum state, the new prediction is:\n",
      "Prediction = 1\n",
      "int(Prediction) = 1 \n",
      "\n",
      "Salida counts = {'1': 1}\n",
      "Given the former angle theta and quantum state, the new prediction is:\n",
      "Prediction = 1\n",
      "int(Prediction) = 1 \n",
      "\n",
      "Salida counts = {'1': 1}\n",
      "Given the former angle theta and quantum state, the new prediction is:\n",
      "Prediction = 1\n",
      "int(Prediction) = 1 \n",
      "\n",
      "Salida counts = {'0': 1}\n",
      "Given the former angle theta and quantum state, the new prediction is:\n",
      "Prediction = 0\n",
      "int(Prediction) = 0 \n",
      "\n",
      "Salida counts = {'0': 1}\n",
      "Given the former angle theta and quantum state, the new prediction is:\n",
      "Prediction = 0\n",
      "int(Prediction) = 0 \n",
      "\n",
      "Salida counts = {'0': 1}\n",
      "Given the former angle theta and quantum state, the new prediction is:\n",
      "Prediction = 0\n",
      "int(Prediction) = 0 \n",
      "\n",
      "Salida counts = {'1': 1}\n",
      "Given the former angle theta and quantum state, the new prediction is:\n",
      "Prediction = 1\n",
      "int(Prediction) = 1 \n",
      "\n",
      "Salida counts = {'1': 1}\n",
      "Given the former angle theta and quantum state, the new prediction is:\n",
      "Prediction = 1\n",
      "int(Prediction) = 1 \n",
      "\n",
      "Salida counts = {'0': 1}\n",
      "Given the former angle theta and quantum state, the new prediction is:\n",
      "Prediction = 0\n",
      "int(Prediction) = 0 \n",
      "\n",
      "Salida counts = {'1': 1}\n",
      "Given the former angle theta and quantum state, the new prediction is:\n",
      "Prediction = 1\n",
      "int(Prediction) = 1 \n",
      "\n",
      "Salida counts = {'1': 1}\n",
      "Given the former angle theta and quantum state, the new prediction is:\n",
      "Prediction = 1\n",
      "int(Prediction) = 1 \n",
      "\n",
      "Salida counts = {'1': 1}\n",
      "Given the former angle theta and quantum state, the new prediction is:\n",
      "Prediction = 1\n",
      "int(Prediction) = 1 \n",
      "\n",
      "Salida counts = {'0': 1}\n",
      "Given the former angle theta and quantum state, the new prediction is:\n",
      "Prediction = 0\n",
      "int(Prediction) = 0 \n",
      "\n",
      "Salida counts = {'1': 1}\n",
      "Given the former angle theta and quantum state, the new prediction is:\n",
      "Prediction = 1\n",
      "int(Prediction) = 1 \n",
      "\n",
      "Salida counts = {'0': 1}\n",
      "Given the former angle theta and quantum state, the new prediction is:\n",
      "Prediction = 0\n",
      "int(Prediction) = 0 \n",
      "\n",
      "Salida counts = {'0': 1}\n",
      "Given the former angle theta and quantum state, the new prediction is:\n",
      "Prediction = 0\n",
      "int(Prediction) = 0 \n",
      "\n",
      "Salida counts = {'0': 1}\n",
      "Given the former angle theta and quantum state, the new prediction is:\n",
      "Prediction = 0\n",
      "int(Prediction) = 0 \n",
      "\n",
      "Salida counts = {'1': 1}\n",
      "Given the former angle theta and quantum state, the new prediction is:\n",
      "Prediction = 1\n",
      "int(Prediction) = 1 \n",
      "\n",
      "Salida counts = {'0': 1}\n",
      "Given the former angle theta and quantum state, the new prediction is:\n",
      "Prediction = 0\n",
      "int(Prediction) = 0 \n",
      "\n",
      "Salida counts = {'0': 1}\n",
      "Given the former angle theta and quantum state, the new prediction is:\n",
      "Prediction = 0\n",
      "int(Prediction) = 0 \n",
      "\n",
      "Salida counts = {'1': 1}\n",
      "Given the former angle theta and quantum state, the new prediction is:\n",
      "Prediction = 1\n",
      "int(Prediction) = 1 \n",
      "\n",
      "Salida counts = {'0': 1}\n",
      "Given the former angle theta and quantum state, the new prediction is:\n",
      "Prediction = 0\n",
      "int(Prediction) = 0 \n",
      "\n",
      "Salida counts = {'0': 1}\n",
      "Given the former angle theta and quantum state, the new prediction is:\n",
      "Prediction = 0\n",
      "int(Prediction) = 0 \n",
      "\n",
      "Salida counts = {'1': 1}\n",
      "Given the former angle theta and quantum state, the new prediction is:\n",
      "Prediction = 1\n",
      "int(Prediction) = 1 \n",
      "\n",
      "Salida counts = {'0': 1}\n",
      "Given the former angle theta and quantum state, the new prediction is:\n",
      "Prediction = 0\n",
      "int(Prediction) = 0 \n",
      "\n",
      "Salida counts = {'1': 1}\n",
      "Given the former angle theta and quantum state, the new prediction is:\n",
      "Prediction = 1\n",
      "int(Prediction) = 1 \n",
      "\n",
      "Salida counts = {'1': 1}\n",
      "Given the former angle theta and quantum state, the new prediction is:\n",
      "Prediction = 1\n",
      "int(Prediction) = 1 \n",
      "\n",
      "Salida counts = {'0': 1}\n",
      "Given the former angle theta and quantum state, the new prediction is:\n",
      "Prediction = 0\n",
      "int(Prediction) = 0 \n",
      "\n",
      "Salida counts = {'1': 1}\n",
      "Given the former angle theta and quantum state, the new prediction is:\n",
      "Prediction = 1\n",
      "int(Prediction) = 1 \n",
      "\n",
      "Salida counts = {'1': 1}\n",
      "Given the former angle theta and quantum state, the new prediction is:\n",
      "Prediction = 1\n",
      "int(Prediction) = 1 \n",
      "\n",
      "Salida counts = {'0': 1}\n",
      "Given the former angle theta and quantum state, the new prediction is:\n",
      "Prediction = 0\n",
      "int(Prediction) = 0 \n",
      "\n",
      "Salida counts = {'0': 1}\n",
      "Given the former angle theta and quantum state, the new prediction is:\n",
      "Prediction = 0\n",
      "int(Prediction) = 0 \n",
      "\n",
      "Salida counts = {'0': 1}\n",
      "Given the former angle theta and quantum state, the new prediction is:\n",
      "Prediction = 0\n",
      "int(Prediction) = 0 \n",
      "\n",
      "Salida counts = {'1': 1}\n",
      "Given the former angle theta and quantum state, the new prediction is:\n",
      "Prediction = 1\n",
      "int(Prediction) = 1 \n",
      "\n",
      "Salida counts = {'1': 1}\n",
      "Given the former angle theta and quantum state, the new prediction is:\n",
      "Prediction = 1\n",
      "int(Prediction) = 1 \n",
      "\n",
      "Salida counts = {'0': 1}\n",
      "Given the former angle theta and quantum state, the new prediction is:\n",
      "Prediction = 0\n",
      "int(Prediction) = 0 \n",
      "\n",
      "Salida counts = {'0': 1}\n",
      "Given the former angle theta and quantum state, the new prediction is:\n",
      "Prediction = 0\n",
      "int(Prediction) = 0 \n",
      "\n",
      "Salida counts = {'0': 1}\n",
      "Given the former angle theta and quantum state, the new prediction is:\n",
      "Prediction = 0\n",
      "int(Prediction) = 0 \n",
      "\n",
      "Salida counts = {'1': 1}\n",
      "Given the former angle theta and quantum state, the new prediction is:\n",
      "Prediction = 1\n",
      "int(Prediction) = 1 \n",
      "\n",
      "Salida counts = {'0': 1}\n",
      "Given the former angle theta and quantum state, the new prediction is:\n",
      "Prediction = 0\n",
      "int(Prediction) = 0 \n",
      "\n",
      "Salida counts = {'1': 1}\n",
      "Given the former angle theta and quantum state, the new prediction is:\n",
      "Prediction = 1\n",
      "int(Prediction) = 1 \n",
      "\n",
      "Salida counts = {'0': 1}\n",
      "Given the former angle theta and quantum state, the new prediction is:\n",
      "Prediction = 0\n",
      "int(Prediction) = 0 \n",
      "\n",
      "Salida counts = {'0': 1}\n",
      "Given the former angle theta and quantum state, the new prediction is:\n",
      "Prediction = 0\n",
      "int(Prediction) = 0 \n",
      "\n",
      "Salida counts = {'1': 1}\n",
      "Given the former angle theta and quantum state, the new prediction is:\n",
      "Prediction = 1\n",
      "int(Prediction) = 1 \n",
      "\n",
      "Salida counts = {'1': 1}\n",
      "Given the former angle theta and quantum state, the new prediction is:\n",
      "Prediction = 1\n",
      "int(Prediction) = 1 \n",
      "\n",
      "Salida counts = {'1': 1}\n",
      "Given the former angle theta and quantum state, the new prediction is:\n",
      "Prediction = 1\n",
      "int(Prediction) = 1 \n",
      "\n",
      "Salida counts = {'0': 1}\n",
      "Given the former angle theta and quantum state, the new prediction is:\n",
      "Prediction = 0\n",
      "int(Prediction) = 0 \n",
      "\n",
      "Salida counts = {'0': 1}\n",
      "Given the former angle theta and quantum state, the new prediction is:\n",
      "Prediction = 0\n",
      "int(Prediction) = 0 \n",
      "\n",
      "Salida counts = {'1': 1}\n",
      "Given the former angle theta and quantum state, the new prediction is:\n",
      "Prediction = 1\n",
      "int(Prediction) = 1 \n",
      "\n",
      "Salida counts = {'0': 1}\n",
      "Given the former angle theta and quantum state, the new prediction is:\n",
      "Prediction = 0\n",
      "int(Prediction) = 0 \n",
      "\n",
      "Salida counts = {'1': 1}\n",
      "Given the former angle theta and quantum state, the new prediction is:\n",
      "Prediction = 1\n",
      "int(Prediction) = 1 \n",
      "\n",
      "Salida counts = {'0': 1}\n",
      "Given the former angle theta and quantum state, the new prediction is:\n",
      "Prediction = 0\n",
      "int(Prediction) = 0 \n",
      "\n",
      "Salida counts = {'0': 1}\n",
      "Given the former angle theta and quantum state, the new prediction is:\n",
      "Prediction = 0\n",
      "int(Prediction) = 0 \n",
      "\n",
      "Salida counts = {'1': 1}\n",
      "Given the former angle theta and quantum state, the new prediction is:\n",
      "Prediction = 1\n",
      "int(Prediction) = 1 \n",
      "\n",
      "Salida counts = {'0': 1}\n",
      "Given the former angle theta and quantum state, the new prediction is:\n",
      "Prediction = 0\n",
      "int(Prediction) = 0 \n",
      "\n",
      "Salida counts = {'0': 1}\n",
      "Given the former angle theta and quantum state, the new prediction is:\n",
      "Prediction = 0\n",
      "int(Prediction) = 0 \n",
      "\n",
      "Salida counts = {'1': 1}\n",
      "Given the former angle theta and quantum state, the new prediction is:\n",
      "Prediction = 1\n",
      "int(Prediction) = 1 \n",
      "\n",
      "Salida counts = {'1': 1}\n",
      "Given the former angle theta and quantum state, the new prediction is:\n",
      "Prediction = 1\n",
      "int(Prediction) = 1 \n",
      "\n",
      "Salida counts = {'1': 1}\n",
      "Given the former angle theta and quantum state, the new prediction is:\n",
      "Prediction = 1\n",
      "int(Prediction) = 1 \n",
      "\n",
      "Salida counts = {'0': 1}\n",
      "Given the former angle theta and quantum state, the new prediction is:\n",
      "Prediction = 0\n",
      "int(Prediction) = 0 \n",
      "\n",
      "Salida counts = {'1': 1}\n",
      "Given the former angle theta and quantum state, the new prediction is:\n",
      "Prediction = 1\n",
      "int(Prediction) = 1 \n",
      "\n",
      "Salida counts = {'0': 1}\n",
      "Given the former angle theta and quantum state, the new prediction is:\n",
      "Prediction = 0\n",
      "int(Prediction) = 0 \n",
      "\n",
      "Salida counts = {'1': 1}\n",
      "Given the former angle theta and quantum state, the new prediction is:\n",
      "Prediction = 1\n",
      "int(Prediction) = 1 \n",
      "\n",
      "Salida counts = {'1': 1}\n",
      "Given the former angle theta and quantum state, the new prediction is:\n",
      "Prediction = 1\n",
      "int(Prediction) = 1 \n",
      "\n",
      "Salida counts = {'1': 1}\n",
      "Given the former angle theta and quantum state, the new prediction is:\n",
      "Prediction = 1\n",
      "int(Prediction) = 1 \n",
      "\n",
      "Salida counts = {'1': 1}\n",
      "Given the former angle theta and quantum state, the new prediction is:\n",
      "Prediction = 1\n",
      "int(Prediction) = 1 \n",
      "\n",
      "Salida counts = {'1': 1}\n",
      "Given the former angle theta and quantum state, the new prediction is:\n",
      "Prediction = 1\n",
      "int(Prediction) = 1 \n",
      "\n",
      "Salida counts = {'1': 1}\n",
      "Given the former angle theta and quantum state, the new prediction is:\n",
      "Prediction = 1\n",
      "int(Prediction) = 1 \n",
      "\n",
      "Salida counts = {'1': 1}\n",
      "Given the former angle theta and quantum state, the new prediction is:\n",
      "Prediction = 1\n",
      "int(Prediction) = 1 \n",
      "\n",
      "Salida counts = {'1': 1}\n",
      "Given the former angle theta and quantum state, the new prediction is:\n",
      "Prediction = 1\n",
      "int(Prediction) = 1 \n",
      "\n",
      "Salida counts = {'0': 1}\n",
      "Given the former angle theta and quantum state, the new prediction is:\n",
      "Prediction = 0\n",
      "int(Prediction) = 0 \n",
      "\n",
      "Salida counts = {'0': 1}\n",
      "Given the former angle theta and quantum state, the new prediction is:\n",
      "Prediction = 0\n",
      "int(Prediction) = 0 \n",
      "\n",
      "Salida counts = {'0': 1}\n",
      "Given the former angle theta and quantum state, the new prediction is:\n",
      "Prediction = 0\n",
      "int(Prediction) = 0 \n",
      "\n",
      "Salida counts = {'0': 1}\n",
      "Given the former angle theta and quantum state, the new prediction is:\n",
      "Prediction = 0\n",
      "int(Prediction) = 0 \n",
      "\n",
      "Salida counts = {'0': 1}\n",
      "Given the former angle theta and quantum state, the new prediction is:\n",
      "Prediction = 0\n",
      "int(Prediction) = 0 \n",
      "\n",
      "Salida counts = {'0': 1}\n",
      "Given the former angle theta and quantum state, the new prediction is:\n",
      "Prediction = 0\n",
      "int(Prediction) = 0 \n",
      "\n",
      "Salida counts = {'1': 1}\n",
      "Given the former angle theta and quantum state, the new prediction is:\n",
      "Prediction = 1\n",
      "int(Prediction) = 1 \n",
      "\n",
      "Salida counts = {'0': 1}\n",
      "Given the former angle theta and quantum state, the new prediction is:\n",
      "Prediction = 0\n",
      "int(Prediction) = 0 \n",
      "\n",
      "Salida counts = {'1': 1}\n",
      "Given the former angle theta and quantum state, the new prediction is:\n",
      "Prediction = 1\n",
      "int(Prediction) = 1 \n",
      "\n",
      "Salida counts = {'0': 1}\n",
      "Given the former angle theta and quantum state, the new prediction is:\n",
      "Prediction = 0\n",
      "int(Prediction) = 0 \n",
      "\n",
      "Salida counts = {'1': 1}\n",
      "Given the former angle theta and quantum state, the new prediction is:\n",
      "Prediction = 1\n",
      "int(Prediction) = 1 \n",
      "\n",
      "Salida counts = {'0': 1}\n",
      "Given the former angle theta and quantum state, the new prediction is:\n",
      "Prediction = 0\n",
      "int(Prediction) = 0 \n",
      "\n",
      "Salida counts = {'1': 1}\n",
      "Given the former angle theta and quantum state, the new prediction is:\n",
      "Prediction = 1\n",
      "int(Prediction) = 1 \n",
      "\n",
      "Salida counts = {'0': 1}\n",
      "Given the former angle theta and quantum state, the new prediction is:\n",
      "Prediction = 0\n",
      "int(Prediction) = 0 \n",
      "\n",
      "Salida counts = {'1': 1}\n",
      "Given the former angle theta and quantum state, the new prediction is:\n",
      "Prediction = 1\n",
      "int(Prediction) = 1 \n",
      "\n",
      "Salida counts = {'1': 1}\n",
      "Given the former angle theta and quantum state, the new prediction is:\n",
      "Prediction = 1\n",
      "int(Prediction) = 1 \n",
      "\n",
      "Salida counts = {'0': 1}\n",
      "Given the former angle theta and quantum state, the new prediction is:\n",
      "Prediction = 0\n",
      "int(Prediction) = 0 \n",
      "\n",
      "Salida counts = {'1': 1}\n",
      "Given the former angle theta and quantum state, the new prediction is:\n",
      "Prediction = 1\n",
      "int(Prediction) = 1 \n",
      "\n",
      "Salida counts = {'1': 1}\n",
      "Given the former angle theta and quantum state, the new prediction is:\n",
      "Prediction = 1\n",
      "int(Prediction) = 1 \n",
      "\n",
      "Salida counts = {'0': 1}\n",
      "Given the former angle theta and quantum state, the new prediction is:\n",
      "Prediction = 0\n",
      "int(Prediction) = 0 \n",
      "\n",
      "Salida counts = {'1': 1}\n",
      "Given the former angle theta and quantum state, the new prediction is:\n",
      "Prediction = 1\n",
      "int(Prediction) = 1 \n",
      "\n",
      "Salida counts = {'0': 1}\n",
      "Given the former angle theta and quantum state, the new prediction is:\n",
      "Prediction = 0\n",
      "int(Prediction) = 0 \n",
      "\n",
      "Salida counts = {'0': 1}\n",
      "Given the former angle theta and quantum state, the new prediction is:\n",
      "Prediction = 0\n",
      "int(Prediction) = 0 \n",
      "\n",
      "Salida counts = {'1': 1}\n",
      "Given the former angle theta and quantum state, the new prediction is:\n",
      "Prediction = 1\n",
      "int(Prediction) = 1 \n",
      "\n",
      "Salida counts = {'1': 1}\n",
      "Given the former angle theta and quantum state, the new prediction is:\n",
      "Prediction = 1\n",
      "int(Prediction) = 1 \n",
      "\n",
      "Salida counts = {'0': 1}\n",
      "Given the former angle theta and quantum state, the new prediction is:\n",
      "Prediction = 0\n",
      "int(Prediction) = 0 \n",
      "\n",
      "Salida counts = {'0': 1}\n",
      "Given the former angle theta and quantum state, the new prediction is:\n",
      "Prediction = 0\n",
      "int(Prediction) = 0 \n",
      "\n",
      "Salida counts = {'0': 1}\n",
      "Given the former angle theta and quantum state, the new prediction is:\n",
      "Prediction = 0\n",
      "int(Prediction) = 0 \n",
      "\n",
      "Salida counts = {'0': 1}\n",
      "Given the former angle theta and quantum state, the new prediction is:\n",
      "Prediction = 0\n",
      "int(Prediction) = 0 \n",
      "\n",
      "Salida counts = {'0': 1}\n",
      "Given the former angle theta and quantum state, the new prediction is:\n",
      "Prediction = 0\n",
      "int(Prediction) = 0 \n",
      "\n",
      "Salida counts = {'0': 1}\n",
      "Given the former angle theta and quantum state, the new prediction is:\n",
      "Prediction = 0\n",
      "int(Prediction) = 0 \n",
      "\n",
      "Salida counts = {'0': 1}\n",
      "Given the former angle theta and quantum state, the new prediction is:\n",
      "Prediction = 0\n",
      "int(Prediction) = 0 \n",
      "\n",
      "Salida counts = {'1': 1}\n",
      "Given the former angle theta and quantum state, the new prediction is:\n",
      "Prediction = 1\n",
      "int(Prediction) = 1 \n",
      "\n",
      "Salida counts = {'1': 1}\n",
      "Given the former angle theta and quantum state, the new prediction is:\n",
      "Prediction = 1\n",
      "int(Prediction) = 1 \n",
      "\n",
      "Salida counts = {'0': 1}\n",
      "Given the former angle theta and quantum state, the new prediction is:\n",
      "Prediction = 0\n",
      "int(Prediction) = 0 \n",
      "\n",
      "Salida counts = {'1': 1}\n",
      "Given the former angle theta and quantum state, the new prediction is:\n",
      "Prediction = 1\n",
      "int(Prediction) = 1 \n",
      "\n",
      "Salida counts = {'0': 1}\n",
      "Given the former angle theta and quantum state, the new prediction is:\n",
      "Prediction = 0\n",
      "int(Prediction) = 0 \n",
      "\n",
      "Salida counts = {'0': 1}\n",
      "Given the former angle theta and quantum state, the new prediction is:\n",
      "Prediction = 0\n",
      "int(Prediction) = 0 \n",
      "\n",
      "Salida counts = {'1': 1}\n",
      "Given the former angle theta and quantum state, the new prediction is:\n",
      "Prediction = 1\n",
      "int(Prediction) = 1 \n",
      "\n",
      "Salida counts = {'0': 1}\n",
      "Given the former angle theta and quantum state, the new prediction is:\n",
      "Prediction = 0\n",
      "int(Prediction) = 0 \n",
      "\n",
      "Salida counts = {'0': 1}\n",
      "Given the former angle theta and quantum state, the new prediction is:\n",
      "Prediction = 0\n",
      "int(Prediction) = 0 \n",
      "\n",
      "Salida counts = {'0': 1}\n",
      "Given the former angle theta and quantum state, the new prediction is:\n",
      "Prediction = 0\n",
      "int(Prediction) = 0 \n",
      "\n",
      "Salida counts = {'1': 1}\n",
      "Given the former angle theta and quantum state, the new prediction is:\n",
      "Prediction = 1\n",
      "int(Prediction) = 1 \n",
      "\n",
      "Salida counts = {'0': 1}\n",
      "Given the former angle theta and quantum state, the new prediction is:\n",
      "Prediction = 0\n",
      "int(Prediction) = 0 \n",
      "\n",
      "Salida counts = {'0': 1}\n",
      "Given the former angle theta and quantum state, the new prediction is:\n",
      "Prediction = 0\n",
      "int(Prediction) = 0 \n",
      "\n",
      "Salida counts = {'1': 1}\n",
      "Given the former angle theta and quantum state, the new prediction is:\n",
      "Prediction = 1\n",
      "int(Prediction) = 1 \n",
      "\n",
      "Salida counts = {'0': 1}\n",
      "Given the former angle theta and quantum state, the new prediction is:\n",
      "Prediction = 0\n",
      "int(Prediction) = 0 \n",
      "\n",
      "Salida counts = {'0': 1}\n",
      "Given the former angle theta and quantum state, the new prediction is:\n",
      "Prediction = 0\n",
      "int(Prediction) = 0 \n",
      "\n",
      "Salida counts = {'0': 1}\n",
      "Given the former angle theta and quantum state, the new prediction is:\n",
      "Prediction = 0\n",
      "int(Prediction) = 0 \n",
      "\n",
      "Salida counts = {'0': 1}\n",
      "Given the former angle theta and quantum state, the new prediction is:\n",
      "Prediction = 0\n",
      "int(Prediction) = 0 \n",
      "\n",
      "Salida counts = {'0': 1}\n",
      "Given the former angle theta and quantum state, the new prediction is:\n",
      "Prediction = 0\n",
      "int(Prediction) = 0 \n",
      "\n",
      "Salida counts = {'0': 1}\n",
      "Given the former angle theta and quantum state, the new prediction is:\n",
      "Prediction = 0\n",
      "int(Prediction) = 0 \n",
      "\n",
      "Salida counts = {'0': 1}\n",
      "Given the former angle theta and quantum state, the new prediction is:\n",
      "Prediction = 0\n",
      "int(Prediction) = 0 \n",
      "\n",
      "Salida counts = {'1': 1}\n",
      "Given the former angle theta and quantum state, the new prediction is:\n",
      "Prediction = 1\n",
      "int(Prediction) = 1 \n",
      "\n",
      "Salida counts = {'1': 1}\n",
      "Given the former angle theta and quantum state, the new prediction is:\n",
      "Prediction = 1\n",
      "int(Prediction) = 1 \n",
      "\n",
      "Salida counts = {'1': 1}\n",
      "Given the former angle theta and quantum state, the new prediction is:\n",
      "Prediction = 1\n",
      "int(Prediction) = 1 \n",
      "\n",
      "Salida counts = {'1': 1}\n",
      "Given the former angle theta and quantum state, the new prediction is:\n",
      "Prediction = 1\n",
      "int(Prediction) = 1 \n",
      "\n",
      "Salida counts = {'0': 1}\n",
      "Given the former angle theta and quantum state, the new prediction is:\n",
      "Prediction = 0\n",
      "int(Prediction) = 0 \n",
      "\n",
      "Salida counts = {'0': 1}\n",
      "Given the former angle theta and quantum state, the new prediction is:\n",
      "Prediction = 0\n",
      "int(Prediction) = 0 \n",
      "\n",
      "Salida counts = {'0': 1}\n",
      "Given the former angle theta and quantum state, the new prediction is:\n",
      "Prediction = 0\n",
      "int(Prediction) = 0 \n",
      "\n",
      "Salida counts = {'1': 1}\n",
      "Given the former angle theta and quantum state, the new prediction is:\n",
      "Prediction = 1\n",
      "int(Prediction) = 1 \n",
      "\n",
      "Salida counts = {'0': 1}\n",
      "Given the former angle theta and quantum state, the new prediction is:\n",
      "Prediction = 0\n",
      "int(Prediction) = 0 \n",
      "\n",
      "Salida counts = {'1': 1}\n",
      "Given the former angle theta and quantum state, the new prediction is:\n",
      "Prediction = 1\n",
      "int(Prediction) = 1 \n",
      "\n",
      "Salida counts = {'0': 1}\n",
      "Given the former angle theta and quantum state, the new prediction is:\n",
      "Prediction = 0\n",
      "int(Prediction) = 0 \n",
      "\n",
      "Salida counts = {'0': 1}\n",
      "Given the former angle theta and quantum state, the new prediction is:\n",
      "Prediction = 0\n",
      "int(Prediction) = 0 \n",
      "\n",
      "Salida counts = {'0': 1}\n",
      "Given the former angle theta and quantum state, the new prediction is:\n",
      "Prediction = 0\n",
      "int(Prediction) = 0 \n",
      "\n",
      "Salida counts = {'0': 1}\n",
      "Given the former angle theta and quantum state, the new prediction is:\n",
      "Prediction = 0\n",
      "int(Prediction) = 0 \n",
      "\n",
      "Salida counts = {'0': 1}\n",
      "Given the former angle theta and quantum state, the new prediction is:\n",
      "Prediction = 0\n",
      "int(Prediction) = 0 \n",
      "\n",
      "Salida counts = {'1': 1}\n",
      "Given the former angle theta and quantum state, the new prediction is:\n",
      "Prediction = 1\n",
      "int(Prediction) = 1 \n",
      "\n",
      "Salida counts = {'1': 1}\n",
      "Given the former angle theta and quantum state, the new prediction is:\n",
      "Prediction = 1\n",
      "int(Prediction) = 1 \n",
      "\n",
      "Salida counts = {'0': 1}\n",
      "Given the former angle theta and quantum state, the new prediction is:\n",
      "Prediction = 0\n",
      "int(Prediction) = 0 \n",
      "\n",
      "Salida counts = {'0': 1}\n",
      "Given the former angle theta and quantum state, the new prediction is:\n",
      "Prediction = 0\n",
      "int(Prediction) = 0 \n",
      "\n",
      "Salida counts = {'1': 1}\n",
      "Given the former angle theta and quantum state, the new prediction is:\n",
      "Prediction = 1\n",
      "int(Prediction) = 1 \n",
      "\n",
      "Salida counts = {'0': 1}\n",
      "Given the former angle theta and quantum state, the new prediction is:\n",
      "Prediction = 0\n",
      "int(Prediction) = 0 \n",
      "\n",
      "Salida counts = {'0': 1}\n",
      "Given the former angle theta and quantum state, the new prediction is:\n",
      "Prediction = 0\n",
      "int(Prediction) = 0 \n",
      "\n",
      "Salida counts = {'0': 1}\n",
      "Given the former angle theta and quantum state, the new prediction is:\n",
      "Prediction = 0\n",
      "int(Prediction) = 0 \n",
      "\n",
      "Salida counts = {'1': 1}\n",
      "Given the former angle theta and quantum state, the new prediction is:\n",
      "Prediction = 1\n",
      "int(Prediction) = 1 \n",
      "\n",
      "Salida counts = {'1': 1}\n",
      "Given the former angle theta and quantum state, the new prediction is:\n",
      "Prediction = 1\n",
      "int(Prediction) = 1 \n",
      "\n",
      "Salida counts = {'0': 1}\n",
      "Given the former angle theta and quantum state, the new prediction is:\n",
      "Prediction = 0\n",
      "int(Prediction) = 0 \n",
      "\n",
      "Salida counts = {'1': 1}\n",
      "Given the former angle theta and quantum state, the new prediction is:\n",
      "Prediction = 1\n",
      "int(Prediction) = 1 \n",
      "\n",
      "Salida counts = {'1': 1}\n",
      "Given the former angle theta and quantum state, the new prediction is:\n",
      "Prediction = 1\n",
      "int(Prediction) = 1 \n",
      "\n",
      "Salida counts = {'1': 1}\n",
      "Given the former angle theta and quantum state, the new prediction is:\n",
      "Prediction = 1\n",
      "int(Prediction) = 1 \n",
      "\n",
      "Salida counts = {'0': 1}\n",
      "Given the former angle theta and quantum state, the new prediction is:\n",
      "Prediction = 0\n",
      "int(Prediction) = 0 \n",
      "\n",
      "Salida counts = {'1': 1}\n",
      "Given the former angle theta and quantum state, the new prediction is:\n",
      "Prediction = 1\n",
      "int(Prediction) = 1 \n",
      "\n",
      "Salida counts = {'0': 1}\n",
      "Given the former angle theta and quantum state, the new prediction is:\n",
      "Prediction = 0\n",
      "int(Prediction) = 0 \n",
      "\n",
      "Salida counts = {'0': 1}\n",
      "Given the former angle theta and quantum state, the new prediction is:\n",
      "Prediction = 0\n",
      "int(Prediction) = 0 \n",
      "\n",
      "Salida counts = {'0': 1}\n",
      "Given the former angle theta and quantum state, the new prediction is:\n",
      "Prediction = 0\n",
      "int(Prediction) = 0 \n",
      "\n",
      "Salida counts = {'1': 1}\n",
      "Given the former angle theta and quantum state, the new prediction is:\n",
      "Prediction = 1\n",
      "int(Prediction) = 1 \n",
      "\n",
      "Salida counts = {'0': 1}\n",
      "Given the former angle theta and quantum state, the new prediction is:\n",
      "Prediction = 0\n",
      "int(Prediction) = 0 \n",
      "\n",
      "Salida counts = {'0': 1}\n",
      "Given the former angle theta and quantum state, the new prediction is:\n",
      "Prediction = 0\n",
      "int(Prediction) = 0 \n",
      "\n",
      "Salida counts = {'1': 1}\n",
      "Given the former angle theta and quantum state, the new prediction is:\n",
      "Prediction = 1\n",
      "int(Prediction) = 1 \n",
      "\n",
      "Salida counts = {'0': 1}\n",
      "Given the former angle theta and quantum state, the new prediction is:\n",
      "Prediction = 0\n",
      "int(Prediction) = 0 \n",
      "\n",
      "Salida counts = {'1': 1}\n",
      "Given the former angle theta and quantum state, the new prediction is:\n",
      "Prediction = 1\n",
      "int(Prediction) = 1 \n",
      "\n",
      "Salida counts = {'0': 1}\n",
      "Given the former angle theta and quantum state, the new prediction is:\n",
      "Prediction = 0\n",
      "int(Prediction) = 0 \n",
      "\n",
      "Salida counts = {'0': 1}\n",
      "Given the former angle theta and quantum state, the new prediction is:\n",
      "Prediction = 0\n",
      "int(Prediction) = 0 \n",
      "\n",
      "Salida counts = {'0': 1}\n",
      "Given the former angle theta and quantum state, the new prediction is:\n",
      "Prediction = 0\n",
      "int(Prediction) = 0 \n",
      "\n",
      "Salida counts = {'0': 1}\n",
      "Given the former angle theta and quantum state, the new prediction is:\n",
      "Prediction = 0\n",
      "int(Prediction) = 0 \n",
      "\n",
      "Salida counts = {'0': 1}\n",
      "Given the former angle theta and quantum state, the new prediction is:\n",
      "Prediction = 0\n",
      "int(Prediction) = 0 \n",
      "\n",
      "Salida counts = {'1': 1}\n",
      "Given the former angle theta and quantum state, the new prediction is:\n",
      "Prediction = 1\n",
      "int(Prediction) = 1 \n",
      "\n",
      "Salida counts = {'1': 1}\n",
      "Given the former angle theta and quantum state, the new prediction is:\n",
      "Prediction = 1\n",
      "int(Prediction) = 1 \n",
      "\n",
      "Salida counts = {'0': 1}\n",
      "Given the former angle theta and quantum state, the new prediction is:\n",
      "Prediction = 0\n",
      "int(Prediction) = 0 \n",
      "\n",
      "Salida counts = {'1': 1}\n",
      "Given the former angle theta and quantum state, the new prediction is:\n",
      "Prediction = 1\n",
      "int(Prediction) = 1 \n",
      "\n",
      "Salida counts = {'0': 1}\n",
      "Given the former angle theta and quantum state, the new prediction is:\n",
      "Prediction = 0\n",
      "int(Prediction) = 0 \n",
      "\n",
      "Salida counts = {'1': 1}\n",
      "Given the former angle theta and quantum state, the new prediction is:\n",
      "Prediction = 1\n",
      "int(Prediction) = 1 \n",
      "\n",
      "Salida counts = {'1': 1}\n",
      "Given the former angle theta and quantum state, the new prediction is:\n",
      "Prediction = 1\n",
      "int(Prediction) = 1 \n",
      "\n",
      "Salida counts = {'0': 1}\n",
      "Given the former angle theta and quantum state, the new prediction is:\n",
      "Prediction = 0\n",
      "int(Prediction) = 0 \n",
      "\n",
      "Salida counts = {'1': 1}\n",
      "Given the former angle theta and quantum state, the new prediction is:\n",
      "Prediction = 1\n",
      "int(Prediction) = 1 \n",
      "\n",
      "Salida counts = {'1': 1}\n",
      "Given the former angle theta and quantum state, the new prediction is:\n",
      "Prediction = 1\n",
      "int(Prediction) = 1 \n",
      "\n",
      "Salida counts = {'0': 1}\n",
      "Given the former angle theta and quantum state, the new prediction is:\n",
      "Prediction = 0\n",
      "int(Prediction) = 0 \n",
      "\n",
      "Salida counts = {'1': 1}\n",
      "Given the former angle theta and quantum state, the new prediction is:\n",
      "Prediction = 1\n",
      "int(Prediction) = 1 \n",
      "\n",
      "Salida counts = {'0': 1}\n",
      "Given the former angle theta and quantum state, the new prediction is:\n",
      "Prediction = 0\n",
      "int(Prediction) = 0 \n",
      "\n",
      "Salida counts = {'0': 1}\n",
      "Given the former angle theta and quantum state, the new prediction is:\n",
      "Prediction = 0\n",
      "int(Prediction) = 0 \n",
      "\n",
      "Salida counts = {'1': 1}\n",
      "Given the former angle theta and quantum state, the new prediction is:\n",
      "Prediction = 1\n",
      "int(Prediction) = 1 \n",
      "\n",
      "Salida counts = {'1': 1}\n",
      "Given the former angle theta and quantum state, the new prediction is:\n",
      "Prediction = 1\n",
      "int(Prediction) = 1 \n",
      "\n",
      "Salida counts = {'0': 1}\n",
      "Given the former angle theta and quantum state, the new prediction is:\n",
      "Prediction = 0\n",
      "int(Prediction) = 0 \n",
      "\n",
      "Salida counts = {'1': 1}\n",
      "Given the former angle theta and quantum state, the new prediction is:\n",
      "Prediction = 1\n",
      "int(Prediction) = 1 \n",
      "\n",
      "Salida counts = {'1': 1}\n",
      "Given the former angle theta and quantum state, the new prediction is:\n",
      "Prediction = 1\n",
      "int(Prediction) = 1 \n",
      "\n",
      "Salida counts = {'1': 1}\n",
      "Given the former angle theta and quantum state, the new prediction is:\n",
      "Prediction = 1\n",
      "int(Prediction) = 1 \n",
      "\n",
      "Salida counts = {'1': 1}\n",
      "Given the former angle theta and quantum state, the new prediction is:\n",
      "Prediction = 1\n",
      "int(Prediction) = 1 \n",
      "\n",
      "Salida counts = {'1': 1}\n",
      "Given the former angle theta and quantum state, the new prediction is:\n",
      "Prediction = 1\n",
      "int(Prediction) = 1 \n",
      "\n",
      "Salida counts = {'1': 1}\n",
      "Given the former angle theta and quantum state, the new prediction is:\n",
      "Prediction = 1\n",
      "int(Prediction) = 1 \n",
      "\n",
      "Salida counts = {'1': 1}\n",
      "Given the former angle theta and quantum state, the new prediction is:\n",
      "Prediction = 1\n",
      "int(Prediction) = 1 \n",
      "\n",
      "Salida counts = {'1': 1}\n",
      "Given the former angle theta and quantum state, the new prediction is:\n",
      "Prediction = 1\n",
      "int(Prediction) = 1 \n",
      "\n",
      "Salida counts = {'1': 1}\n",
      "Given the former angle theta and quantum state, the new prediction is:\n",
      "Prediction = 1\n",
      "int(Prediction) = 1 \n",
      "\n",
      "Salida counts = {'0': 1}\n",
      "Given the former angle theta and quantum state, the new prediction is:\n",
      "Prediction = 0\n",
      "int(Prediction) = 0 \n",
      "\n",
      "Salida counts = {'0': 1}\n",
      "Given the former angle theta and quantum state, the new prediction is:\n",
      "Prediction = 0\n",
      "int(Prediction) = 0 \n",
      "\n",
      "Salida counts = {'1': 1}\n",
      "Given the former angle theta and quantum state, the new prediction is:\n",
      "Prediction = 1\n",
      "int(Prediction) = 1 \n",
      "\n",
      "Salida counts = {'0': 1}\n",
      "Given the former angle theta and quantum state, the new prediction is:\n",
      "Prediction = 0\n",
      "int(Prediction) = 0 \n",
      "\n",
      "Salida counts = {'1': 1}\n",
      "Given the former angle theta and quantum state, the new prediction is:\n",
      "Prediction = 1\n",
      "int(Prediction) = 1 \n",
      "\n",
      "Salida counts = {'1': 1}\n",
      "Given the former angle theta and quantum state, the new prediction is:\n",
      "Prediction = 1\n",
      "int(Prediction) = 1 \n",
      "\n",
      "Salida counts = {'0': 1}\n",
      "Given the former angle theta and quantum state, the new prediction is:\n",
      "Prediction = 0\n",
      "int(Prediction) = 0 \n",
      "\n",
      "Salida counts = {'1': 1}\n",
      "Given the former angle theta and quantum state, the new prediction is:\n",
      "Prediction = 1\n",
      "int(Prediction) = 1 \n",
      "\n",
      "Salida counts = {'0': 1}\n",
      "Given the former angle theta and quantum state, the new prediction is:\n",
      "Prediction = 0\n",
      "int(Prediction) = 0 \n",
      "\n",
      "Salida counts = {'1': 1}\n",
      "Given the former angle theta and quantum state, the new prediction is:\n",
      "Prediction = 1\n",
      "int(Prediction) = 1 \n",
      "\n",
      "Salida counts = {'0': 1}\n",
      "Given the former angle theta and quantum state, the new prediction is:\n",
      "Prediction = 0\n",
      "int(Prediction) = 0 \n",
      "\n",
      "Salida counts = {'0': 1}\n",
      "Given the former angle theta and quantum state, the new prediction is:\n",
      "Prediction = 0\n",
      "int(Prediction) = 0 \n",
      "\n",
      "Salida counts = {'0': 1}\n",
      "Given the former angle theta and quantum state, the new prediction is:\n",
      "Prediction = 0\n",
      "int(Prediction) = 0 \n",
      "\n",
      "Salida counts = {'0': 1}\n",
      "Given the former angle theta and quantum state, the new prediction is:\n",
      "Prediction = 0\n",
      "int(Prediction) = 0 \n",
      "\n",
      "Salida counts = {'0': 1}\n",
      "Given the former angle theta and quantum state, the new prediction is:\n",
      "Prediction = 0\n",
      "int(Prediction) = 0 \n",
      "\n",
      "Salida counts = {'1': 1}\n",
      "Given the former angle theta and quantum state, the new prediction is:\n",
      "Prediction = 1\n",
      "int(Prediction) = 1 \n",
      "\n",
      "Salida counts = {'0': 1}\n",
      "Given the former angle theta and quantum state, the new prediction is:\n",
      "Prediction = 0\n",
      "int(Prediction) = 0 \n",
      "\n",
      "Salida counts = {'1': 1}\n",
      "Given the former angle theta and quantum state, the new prediction is:\n",
      "Prediction = 1\n",
      "int(Prediction) = 1 \n",
      "\n",
      "Salida counts = {'0': 1}\n",
      "Given the former angle theta and quantum state, the new prediction is:\n",
      "Prediction = 0\n",
      "int(Prediction) = 0 \n",
      "\n",
      "Salida counts = {'1': 1}\n",
      "Given the former angle theta and quantum state, the new prediction is:\n",
      "Prediction = 1\n",
      "int(Prediction) = 1 \n",
      "\n",
      "Salida counts = {'1': 1}\n",
      "Given the former angle theta and quantum state, the new prediction is:\n",
      "Prediction = 1\n",
      "int(Prediction) = 1 \n",
      "\n",
      "Salida counts = {'0': 1}\n",
      "Given the former angle theta and quantum state, the new prediction is:\n",
      "Prediction = 0\n",
      "int(Prediction) = 0 \n",
      "\n",
      "Salida counts = {'1': 1}\n",
      "Given the former angle theta and quantum state, the new prediction is:\n",
      "Prediction = 1\n",
      "int(Prediction) = 1 \n",
      "\n",
      "Salida counts = {'1': 1}\n",
      "Given the former angle theta and quantum state, the new prediction is:\n",
      "Prediction = 1\n",
      "int(Prediction) = 1 \n",
      "\n",
      "Salida counts = {'1': 1}\n",
      "Given the former angle theta and quantum state, the new prediction is:\n",
      "Prediction = 1\n",
      "int(Prediction) = 1 \n",
      "\n",
      "Salida counts = {'1': 1}\n",
      "Given the former angle theta and quantum state, the new prediction is:\n",
      "Prediction = 1\n",
      "int(Prediction) = 1 \n",
      "\n",
      "Salida counts = {'0': 1}\n",
      "Given the former angle theta and quantum state, the new prediction is:\n",
      "Prediction = 0\n",
      "int(Prediction) = 0 \n",
      "\n",
      "Salida counts = {'0': 1}\n",
      "Given the former angle theta and quantum state, the new prediction is:\n",
      "Prediction = 0\n",
      "int(Prediction) = 0 \n",
      "\n",
      "Salida counts = {'0': 1}\n",
      "Given the former angle theta and quantum state, the new prediction is:\n",
      "Prediction = 0\n",
      "int(Prediction) = 0 \n",
      "\n",
      "Salida counts = {'1': 1}\n",
      "Given the former angle theta and quantum state, the new prediction is:\n",
      "Prediction = 1\n",
      "int(Prediction) = 1 \n",
      "\n",
      "Salida counts = {'1': 1}\n",
      "Given the former angle theta and quantum state, the new prediction is:\n",
      "Prediction = 1\n",
      "int(Prediction) = 1 \n",
      "\n",
      "Salida counts = {'1': 1}\n",
      "Given the former angle theta and quantum state, the new prediction is:\n",
      "Prediction = 1\n",
      "int(Prediction) = 1 \n",
      "\n",
      "Salida counts = {'0': 1}\n",
      "Given the former angle theta and quantum state, the new prediction is:\n",
      "Prediction = 0\n",
      "int(Prediction) = 0 \n",
      "\n",
      "Salida counts = {'0': 1}\n",
      "Given the former angle theta and quantum state, the new prediction is:\n",
      "Prediction = 0\n",
      "int(Prediction) = 0 \n",
      "\n",
      "Salida counts = {'0': 1}\n",
      "Given the former angle theta and quantum state, the new prediction is:\n",
      "Prediction = 0\n",
      "int(Prediction) = 0 \n",
      "\n",
      "Salida counts = {'0': 1}\n",
      "Given the former angle theta and quantum state, the new prediction is:\n",
      "Prediction = 0\n",
      "int(Prediction) = 0 \n",
      "\n",
      "Salida counts = {'1': 1}\n",
      "Given the former angle theta and quantum state, the new prediction is:\n",
      "Prediction = 1\n",
      "int(Prediction) = 1 \n",
      "\n",
      "Salida counts = {'0': 1}\n",
      "Given the former angle theta and quantum state, the new prediction is:\n",
      "Prediction = 0\n",
      "int(Prediction) = 0 \n",
      "\n",
      "Salida counts = {'0': 1}\n",
      "Given the former angle theta and quantum state, the new prediction is:\n",
      "Prediction = 0\n",
      "int(Prediction) = 0 \n",
      "\n",
      "Salida counts = {'0': 1}\n",
      "Given the former angle theta and quantum state, the new prediction is:\n",
      "Prediction = 0\n",
      "int(Prediction) = 0 \n",
      "\n",
      "Salida counts = {'0': 1}\n",
      "Given the former angle theta and quantum state, the new prediction is:\n",
      "Prediction = 0\n",
      "int(Prediction) = 0 \n",
      "\n",
      "Salida counts = {'0': 1}\n",
      "Given the former angle theta and quantum state, the new prediction is:\n",
      "Prediction = 0\n",
      "int(Prediction) = 0 \n",
      "\n",
      "Salida counts = {'1': 1}\n",
      "Given the former angle theta and quantum state, the new prediction is:\n",
      "Prediction = 1\n",
      "int(Prediction) = 1 \n",
      "\n",
      "Salida counts = {'0': 1}\n",
      "Given the former angle theta and quantum state, the new prediction is:\n",
      "Prediction = 0\n",
      "int(Prediction) = 0 \n",
      "\n",
      "Salida counts = {'1': 1}\n",
      "Given the former angle theta and quantum state, the new prediction is:\n",
      "Prediction = 1\n",
      "int(Prediction) = 1 \n",
      "\n",
      "Salida counts = {'1': 1}\n",
      "Given the former angle theta and quantum state, the new prediction is:\n",
      "Prediction = 1\n",
      "int(Prediction) = 1 \n",
      "\n",
      "Salida counts = {'1': 1}\n",
      "Given the former angle theta and quantum state, the new prediction is:\n",
      "Prediction = 1\n",
      "int(Prediction) = 1 \n",
      "\n",
      "Salida counts = {'0': 1}\n",
      "Given the former angle theta and quantum state, the new prediction is:\n",
      "Prediction = 0\n",
      "int(Prediction) = 0 \n",
      "\n",
      "Salida counts = {'1': 1}\n",
      "Given the former angle theta and quantum state, the new prediction is:\n",
      "Prediction = 1\n",
      "int(Prediction) = 1 \n",
      "\n",
      "Salida counts = {'1': 1}\n",
      "Given the former angle theta and quantum state, the new prediction is:\n",
      "Prediction = 1\n",
      "int(Prediction) = 1 \n",
      "\n",
      "Salida counts = {'0': 1}\n",
      "Given the former angle theta and quantum state, the new prediction is:\n",
      "Prediction = 0\n",
      "int(Prediction) = 0 \n",
      "\n",
      "Salida counts = {'1': 1}\n",
      "Given the former angle theta and quantum state, the new prediction is:\n",
      "Prediction = 1\n",
      "int(Prediction) = 1 \n",
      "\n",
      "Salida counts = {'1': 1}\n",
      "Given the former angle theta and quantum state, the new prediction is:\n",
      "Prediction = 1\n",
      "int(Prediction) = 1 \n",
      "\n",
      "Salida counts = {'0': 1}\n",
      "Given the former angle theta and quantum state, the new prediction is:\n",
      "Prediction = 0\n",
      "int(Prediction) = 0 \n",
      "\n",
      "Salida counts = {'1': 1}\n",
      "Given the former angle theta and quantum state, the new prediction is:\n",
      "Prediction = 1\n",
      "int(Prediction) = 1 \n",
      "\n",
      "Salida counts = {'1': 1}\n",
      "Given the former angle theta and quantum state, the new prediction is:\n",
      "Prediction = 1\n",
      "int(Prediction) = 1 \n",
      "\n",
      "Salida counts = {'1': 1}\n",
      "Given the former angle theta and quantum state, the new prediction is:\n",
      "Prediction = 1\n",
      "int(Prediction) = 1 \n",
      "\n",
      "Salida counts = {'0': 1}\n",
      "Given the former angle theta and quantum state, the new prediction is:\n",
      "Prediction = 0\n",
      "int(Prediction) = 0 \n",
      "\n",
      "Salida counts = {'0': 1}\n",
      "Given the former angle theta and quantum state, the new prediction is:\n",
      "Prediction = 0\n",
      "int(Prediction) = 0 \n",
      "\n",
      "Salida counts = {'1': 1}\n",
      "Given the former angle theta and quantum state, the new prediction is:\n",
      "Prediction = 1\n",
      "int(Prediction) = 1 \n",
      "\n",
      "Salida counts = {'0': 1}\n",
      "Given the former angle theta and quantum state, the new prediction is:\n",
      "Prediction = 0\n",
      "int(Prediction) = 0 \n",
      "\n",
      "Salida counts = {'0': 1}\n",
      "Given the former angle theta and quantum state, the new prediction is:\n",
      "Prediction = 0\n",
      "int(Prediction) = 0 \n",
      "\n",
      "Salida counts = {'1': 1}\n",
      "Given the former angle theta and quantum state, the new prediction is:\n",
      "Prediction = 1\n",
      "int(Prediction) = 1 \n",
      "\n",
      "Salida counts = {'1': 1}\n",
      "Given the former angle theta and quantum state, the new prediction is:\n",
      "Prediction = 1\n",
      "int(Prediction) = 1 \n",
      "\n",
      "Salida counts = {'0': 1}\n",
      "Given the former angle theta and quantum state, the new prediction is:\n",
      "Prediction = 0\n",
      "int(Prediction) = 0 \n",
      "\n",
      "Salida counts = {'0': 1}\n",
      "Given the former angle theta and quantum state, the new prediction is:\n",
      "Prediction = 0\n",
      "int(Prediction) = 0 \n",
      "\n",
      "Salida counts = {'1': 1}\n",
      "Given the former angle theta and quantum state, the new prediction is:\n",
      "Prediction = 1\n",
      "int(Prediction) = 1 \n",
      "\n",
      "Salida counts = {'1': 1}\n",
      "Given the former angle theta and quantum state, the new prediction is:\n",
      "Prediction = 1\n",
      "int(Prediction) = 1 \n",
      "\n",
      "Salida counts = {'0': 1}\n",
      "Given the former angle theta and quantum state, the new prediction is:\n",
      "Prediction = 0\n",
      "int(Prediction) = 0 \n",
      "\n",
      "Salida counts = {'0': 1}\n",
      "Given the former angle theta and quantum state, the new prediction is:\n",
      "Prediction = 0\n",
      "int(Prediction) = 0 \n",
      "\n",
      "Salida counts = {'0': 1}\n",
      "Given the former angle theta and quantum state, the new prediction is:\n",
      "Prediction = 0\n",
      "int(Prediction) = 0 \n",
      "\n",
      "Salida counts = {'0': 1}\n",
      "Given the former angle theta and quantum state, the new prediction is:\n",
      "Prediction = 0\n",
      "int(Prediction) = 0 \n",
      "\n",
      "Salida counts = {'1': 1}\n",
      "Given the former angle theta and quantum state, the new prediction is:\n",
      "Prediction = 1\n",
      "int(Prediction) = 1 \n",
      "\n",
      "Salida counts = {'0': 1}\n",
      "Given the former angle theta and quantum state, the new prediction is:\n",
      "Prediction = 0\n",
      "int(Prediction) = 0 \n",
      "\n",
      "Salida counts = {'1': 1}\n",
      "Given the former angle theta and quantum state, the new prediction is:\n",
      "Prediction = 1\n",
      "int(Prediction) = 1 \n",
      "\n",
      "Salida counts = {'1': 1}\n",
      "Given the former angle theta and quantum state, the new prediction is:\n",
      "Prediction = 1\n",
      "int(Prediction) = 1 \n",
      "\n",
      "Salida counts = {'0': 1}\n",
      "Given the former angle theta and quantum state, the new prediction is:\n",
      "Prediction = 0\n",
      "int(Prediction) = 0 \n",
      "\n",
      "Salida counts = {'1': 1}\n",
      "Given the former angle theta and quantum state, the new prediction is:\n",
      "Prediction = 1\n",
      "int(Prediction) = 1 \n",
      "\n",
      "Salida counts = {'1': 1}\n",
      "Given the former angle theta and quantum state, the new prediction is:\n",
      "Prediction = 1\n",
      "int(Prediction) = 1 \n",
      "\n",
      "Salida counts = {'0': 1}\n",
      "Given the former angle theta and quantum state, the new prediction is:\n",
      "Prediction = 0\n",
      "int(Prediction) = 0 \n",
      "\n",
      "Salida counts = {'0': 1}\n",
      "Given the former angle theta and quantum state, the new prediction is:\n",
      "Prediction = 0\n",
      "int(Prediction) = 0 \n",
      "\n",
      "Salida counts = {'0': 1}\n",
      "Given the former angle theta and quantum state, the new prediction is:\n",
      "Prediction = 0\n",
      "int(Prediction) = 0 \n",
      "\n",
      "Salida counts = {'1': 1}\n",
      "Given the former angle theta and quantum state, the new prediction is:\n",
      "Prediction = 1\n",
      "int(Prediction) = 1 \n",
      "\n",
      "Salida counts = {'1': 1}\n",
      "Given the former angle theta and quantum state, the new prediction is:\n",
      "Prediction = 1\n",
      "int(Prediction) = 1 \n",
      "\n",
      "Salida counts = {'1': 1}\n",
      "Given the former angle theta and quantum state, the new prediction is:\n",
      "Prediction = 1\n",
      "int(Prediction) = 1 \n",
      "\n",
      "Salida counts = {'1': 1}\n",
      "Given the former angle theta and quantum state, the new prediction is:\n",
      "Prediction = 1\n",
      "int(Prediction) = 1 \n",
      "\n",
      "Salida counts = {'1': 1}\n",
      "Given the former angle theta and quantum state, the new prediction is:\n",
      "Prediction = 1\n",
      "int(Prediction) = 1 \n",
      "\n",
      "Salida counts = {'1': 1}\n",
      "Given the former angle theta and quantum state, the new prediction is:\n",
      "Prediction = 1\n",
      "int(Prediction) = 1 \n",
      "\n",
      "Salida counts = {'1': 1}\n",
      "Given the former angle theta and quantum state, the new prediction is:\n",
      "Prediction = 1\n",
      "int(Prediction) = 1 \n",
      "\n",
      "Salida counts = {'0': 1}\n",
      "Given the former angle theta and quantum state, the new prediction is:\n",
      "Prediction = 0\n",
      "int(Prediction) = 0 \n",
      "\n",
      "Salida counts = {'0': 1}\n",
      "Given the former angle theta and quantum state, the new prediction is:\n",
      "Prediction = 0\n",
      "int(Prediction) = 0 \n",
      "\n",
      "Salida counts = {'1': 1}\n",
      "Given the former angle theta and quantum state, the new prediction is:\n",
      "Prediction = 1\n",
      "int(Prediction) = 1 \n",
      "\n",
      "Salida counts = {'1': 1}\n",
      "Given the former angle theta and quantum state, the new prediction is:\n",
      "Prediction = 1\n",
      "int(Prediction) = 1 \n",
      "\n",
      "Salida counts = {'0': 1}\n",
      "Given the former angle theta and quantum state, the new prediction is:\n",
      "Prediction = 0\n",
      "int(Prediction) = 0 \n",
      "\n",
      "Salida counts = {'0': 1}\n",
      "Given the former angle theta and quantum state, the new prediction is:\n",
      "Prediction = 0\n",
      "int(Prediction) = 0 \n",
      "\n",
      "Salida counts = {'1': 1}\n",
      "Given the former angle theta and quantum state, the new prediction is:\n",
      "Prediction = 1\n",
      "int(Prediction) = 1 \n",
      "\n",
      "Salida counts = {'0': 1}\n",
      "Given the former angle theta and quantum state, the new prediction is:\n",
      "Prediction = 0\n",
      "int(Prediction) = 0 \n",
      "\n",
      "Salida counts = {'1': 1}\n",
      "Given the former angle theta and quantum state, the new prediction is:\n",
      "Prediction = 1\n",
      "int(Prediction) = 1 \n",
      "\n",
      "Salida counts = {'1': 1}\n",
      "Given the former angle theta and quantum state, the new prediction is:\n",
      "Prediction = 1\n",
      "int(Prediction) = 1 \n",
      "\n",
      "Salida counts = {'0': 1}\n",
      "Given the former angle theta and quantum state, the new prediction is:\n",
      "Prediction = 0\n",
      "int(Prediction) = 0 \n",
      "\n",
      "Salida counts = {'1': 1}\n",
      "Given the former angle theta and quantum state, the new prediction is:\n",
      "Prediction = 1\n",
      "int(Prediction) = 1 \n",
      "\n",
      "Salida counts = {'0': 1}\n",
      "Given the former angle theta and quantum state, the new prediction is:\n",
      "Prediction = 0\n",
      "int(Prediction) = 0 \n",
      "\n",
      "Salida counts = {'1': 1}\n",
      "Given the former angle theta and quantum state, the new prediction is:\n",
      "Prediction = 1\n",
      "int(Prediction) = 1 \n",
      "\n",
      "Salida counts = {'0': 1}\n",
      "Given the former angle theta and quantum state, the new prediction is:\n",
      "Prediction = 0\n",
      "int(Prediction) = 0 \n",
      "\n",
      "Salida counts = {'1': 1}\n",
      "Given the former angle theta and quantum state, the new prediction is:\n",
      "Prediction = 1\n",
      "int(Prediction) = 1 \n",
      "\n",
      "Salida counts = {'0': 1}\n",
      "Given the former angle theta and quantum state, the new prediction is:\n",
      "Prediction = 0\n",
      "int(Prediction) = 0 \n",
      "\n",
      "Salida counts = {'0': 1}\n",
      "Given the former angle theta and quantum state, the new prediction is:\n",
      "Prediction = 0\n",
      "int(Prediction) = 0 \n",
      "\n",
      "Salida counts = {'0': 1}\n",
      "Given the former angle theta and quantum state, the new prediction is:\n",
      "Prediction = 0\n",
      "int(Prediction) = 0 \n",
      "\n",
      "Salida counts = {'1': 1}\n",
      "Given the former angle theta and quantum state, the new prediction is:\n",
      "Prediction = 1\n",
      "int(Prediction) = 1 \n",
      "\n",
      "Salida counts = {'1': 1}\n",
      "Given the former angle theta and quantum state, the new prediction is:\n",
      "Prediction = 1\n",
      "int(Prediction) = 1 \n",
      "\n",
      "Salida counts = {'1': 1}\n",
      "Given the former angle theta and quantum state, the new prediction is:\n",
      "Prediction = 1\n",
      "int(Prediction) = 1 \n",
      "\n",
      "Salida counts = {'0': 1}\n",
      "Given the former angle theta and quantum state, the new prediction is:\n",
      "Prediction = 0\n",
      "int(Prediction) = 0 \n",
      "\n",
      "Salida counts = {'1': 1}\n",
      "Given the former angle theta and quantum state, the new prediction is:\n",
      "Prediction = 1\n",
      "int(Prediction) = 1 \n",
      "\n",
      "Salida counts = {'1': 1}\n",
      "Given the former angle theta and quantum state, the new prediction is:\n",
      "Prediction = 1\n",
      "int(Prediction) = 1 \n",
      "\n",
      "Salida counts = {'1': 1}\n",
      "Given the former angle theta and quantum state, the new prediction is:\n",
      "Prediction = 1\n",
      "int(Prediction) = 1 \n",
      "\n",
      "Salida counts = {'1': 1}\n",
      "Given the former angle theta and quantum state, the new prediction is:\n",
      "Prediction = 1\n",
      "int(Prediction) = 1 \n",
      "\n",
      "Salida counts = {'1': 1}\n",
      "Given the former angle theta and quantum state, the new prediction is:\n",
      "Prediction = 1\n",
      "int(Prediction) = 1 \n",
      "\n",
      "Salida counts = {'1': 1}\n",
      "Given the former angle theta and quantum state, the new prediction is:\n",
      "Prediction = 1\n",
      "int(Prediction) = 1 \n",
      "\n",
      "Salida counts = {'0': 1}\n",
      "Given the former angle theta and quantum state, the new prediction is:\n",
      "Prediction = 0\n",
      "int(Prediction) = 0 \n",
      "\n",
      "Salida counts = {'1': 1}\n",
      "Given the former angle theta and quantum state, the new prediction is:\n",
      "Prediction = 1\n",
      "int(Prediction) = 1 \n",
      "\n",
      "Salida counts = {'1': 1}\n",
      "Given the former angle theta and quantum state, the new prediction is:\n",
      "Prediction = 1\n",
      "int(Prediction) = 1 \n",
      "\n",
      "Salida counts = {'0': 1}\n",
      "Given the former angle theta and quantum state, the new prediction is:\n",
      "Prediction = 0\n",
      "int(Prediction) = 0 \n",
      "\n",
      "Salida counts = {'0': 1}\n",
      "Given the former angle theta and quantum state, the new prediction is:\n",
      "Prediction = 0\n",
      "int(Prediction) = 0 \n",
      "\n",
      "Salida counts = {'0': 1}\n",
      "Given the former angle theta and quantum state, the new prediction is:\n",
      "Prediction = 0\n",
      "int(Prediction) = 0 \n",
      "\n",
      "Salida counts = {'0': 1}\n",
      "Given the former angle theta and quantum state, the new prediction is:\n",
      "Prediction = 0\n",
      "int(Prediction) = 0 \n",
      "\n",
      "Salida counts = {'0': 1}\n",
      "Given the former angle theta and quantum state, the new prediction is:\n",
      "Prediction = 0\n",
      "int(Prediction) = 0 \n",
      "\n",
      "Salida counts = {'1': 1}\n",
      "Given the former angle theta and quantum state, the new prediction is:\n",
      "Prediction = 1\n",
      "int(Prediction) = 1 \n",
      "\n",
      "Salida counts = {'0': 1}\n",
      "Given the former angle theta and quantum state, the new prediction is:\n",
      "Prediction = 0\n",
      "int(Prediction) = 0 \n",
      "\n",
      "Salida counts = {'0': 1}\n",
      "Given the former angle theta and quantum state, the new prediction is:\n",
      "Prediction = 0\n",
      "int(Prediction) = 0 \n",
      "\n",
      "Salida counts = {'0': 1}\n",
      "Given the former angle theta and quantum state, the new prediction is:\n",
      "Prediction = 0\n",
      "int(Prediction) = 0 \n",
      "\n",
      "Salida counts = {'0': 1}\n",
      "Given the former angle theta and quantum state, the new prediction is:\n",
      "Prediction = 0\n",
      "int(Prediction) = 0 \n",
      "\n",
      "Salida counts = {'0': 1}\n",
      "Given the former angle theta and quantum state, the new prediction is:\n",
      "Prediction = 0\n",
      "int(Prediction) = 0 \n",
      "\n",
      "Salida counts = {'0': 1}\n",
      "Given the former angle theta and quantum state, the new prediction is:\n",
      "Prediction = 0\n",
      "int(Prediction) = 0 \n",
      "\n",
      "Salida counts = {'0': 1}\n",
      "Given the former angle theta and quantum state, the new prediction is:\n",
      "Prediction = 0\n",
      "int(Prediction) = 0 \n",
      "\n",
      "Salida counts = {'0': 1}\n",
      "Given the former angle theta and quantum state, the new prediction is:\n",
      "Prediction = 0\n",
      "int(Prediction) = 0 \n",
      "\n",
      "Salida counts = {'0': 1}\n",
      "Given the former angle theta and quantum state, the new prediction is:\n",
      "Prediction = 0\n",
      "int(Prediction) = 0 \n",
      "\n",
      "Salida counts = {'1': 1}\n",
      "Given the former angle theta and quantum state, the new prediction is:\n",
      "Prediction = 1\n",
      "int(Prediction) = 1 \n",
      "\n",
      "Salida counts = {'0': 1}\n",
      "Given the former angle theta and quantum state, the new prediction is:\n",
      "Prediction = 0\n",
      "int(Prediction) = 0 \n",
      "\n",
      "Salida counts = {'1': 1}\n",
      "Given the former angle theta and quantum state, the new prediction is:\n",
      "Prediction = 1\n",
      "int(Prediction) = 1 \n",
      "\n",
      "Salida counts = {'1': 1}\n",
      "Given the former angle theta and quantum state, the new prediction is:\n",
      "Prediction = 1\n",
      "int(Prediction) = 1 \n",
      "\n",
      "Salida counts = {'0': 1}\n",
      "Given the former angle theta and quantum state, the new prediction is:\n",
      "Prediction = 0\n",
      "int(Prediction) = 0 \n",
      "\n",
      "Salida counts = {'1': 1}\n",
      "Given the former angle theta and quantum state, the new prediction is:\n",
      "Prediction = 1\n",
      "int(Prediction) = 1 \n",
      "\n",
      "Salida counts = {'1': 1}\n",
      "Given the former angle theta and quantum state, the new prediction is:\n",
      "Prediction = 1\n",
      "int(Prediction) = 1 \n",
      "\n",
      "Salida counts = {'0': 1}\n",
      "Given the former angle theta and quantum state, the new prediction is:\n",
      "Prediction = 0\n",
      "int(Prediction) = 0 \n",
      "\n",
      "Salida counts = {'0': 1}\n",
      "Given the former angle theta and quantum state, the new prediction is:\n",
      "Prediction = 0\n",
      "int(Prediction) = 0 \n",
      "\n",
      "Salida counts = {'0': 1}\n",
      "Given the former angle theta and quantum state, the new prediction is:\n",
      "Prediction = 0\n",
      "int(Prediction) = 0 \n",
      "\n",
      "Salida counts = {'0': 1}\n",
      "Given the former angle theta and quantum state, the new prediction is:\n",
      "Prediction = 0\n",
      "int(Prediction) = 0 \n",
      "\n",
      "Salida counts = {'0': 1}\n",
      "Given the former angle theta and quantum state, the new prediction is:\n",
      "Prediction = 0\n",
      "int(Prediction) = 0 \n",
      "\n",
      "Salida counts = {'0': 1}\n",
      "Given the former angle theta and quantum state, the new prediction is:\n",
      "Prediction = 0\n",
      "int(Prediction) = 0 \n",
      "\n",
      "Salida counts = {'1': 1}\n",
      "Given the former angle theta and quantum state, the new prediction is:\n",
      "Prediction = 1\n",
      "int(Prediction) = 1 \n",
      "\n",
      "Salida counts = {'1': 1}\n",
      "Given the former angle theta and quantum state, the new prediction is:\n",
      "Prediction = 1\n",
      "int(Prediction) = 1 \n",
      "\n",
      "Salida counts = {'0': 1}\n",
      "Given the former angle theta and quantum state, the new prediction is:\n",
      "Prediction = 0\n",
      "int(Prediction) = 0 \n",
      "\n",
      "Salida counts = {'0': 1}\n",
      "Given the former angle theta and quantum state, the new prediction is:\n",
      "Prediction = 0\n",
      "int(Prediction) = 0 \n",
      "\n",
      "Salida counts = {'1': 1}\n",
      "Given the former angle theta and quantum state, the new prediction is:\n",
      "Prediction = 1\n",
      "int(Prediction) = 1 \n",
      "\n",
      "Salida counts = {'1': 1}\n",
      "Given the former angle theta and quantum state, the new prediction is:\n",
      "Prediction = 1\n",
      "int(Prediction) = 1 \n",
      "\n",
      "Salida counts = {'1': 1}\n",
      "Given the former angle theta and quantum state, the new prediction is:\n",
      "Prediction = 1\n",
      "int(Prediction) = 1 \n",
      "\n",
      "Salida counts = {'1': 1}\n",
      "Given the former angle theta and quantum state, the new prediction is:\n",
      "Prediction = 1\n",
      "int(Prediction) = 1 \n",
      "\n",
      "Salida counts = {'1': 1}\n",
      "Given the former angle theta and quantum state, the new prediction is:\n",
      "Prediction = 1\n",
      "int(Prediction) = 1 \n",
      "\n",
      "Salida counts = {'0': 1}\n",
      "Given the former angle theta and quantum state, the new prediction is:\n",
      "Prediction = 0\n",
      "int(Prediction) = 0 \n",
      "\n",
      "Salida counts = {'0': 1}\n",
      "Given the former angle theta and quantum state, the new prediction is:\n",
      "Prediction = 0\n",
      "int(Prediction) = 0 \n",
      "\n",
      "Salida counts = {'0': 1}\n",
      "Given the former angle theta and quantum state, the new prediction is:\n",
      "Prediction = 0\n",
      "int(Prediction) = 0 \n",
      "\n",
      "Salida counts = {'0': 1}\n",
      "Given the former angle theta and quantum state, the new prediction is:\n",
      "Prediction = 0\n",
      "int(Prediction) = 0 \n",
      "\n",
      "Salida counts = {'1': 1}\n",
      "Given the former angle theta and quantum state, the new prediction is:\n",
      "Prediction = 1\n",
      "int(Prediction) = 1 \n",
      "\n",
      "Salida counts = {'1': 1}\n",
      "Given the former angle theta and quantum state, the new prediction is:\n",
      "Prediction = 1\n",
      "int(Prediction) = 1 \n",
      "\n",
      "Salida counts = {'1': 1}\n",
      "Given the former angle theta and quantum state, the new prediction is:\n",
      "Prediction = 1\n",
      "int(Prediction) = 1 \n",
      "\n",
      "Salida counts = {'1': 1}\n",
      "Given the former angle theta and quantum state, the new prediction is:\n",
      "Prediction = 1\n",
      "int(Prediction) = 1 \n",
      "\n",
      "Salida counts = {'1': 1}\n",
      "Given the former angle theta and quantum state, the new prediction is:\n",
      "Prediction = 1\n",
      "int(Prediction) = 1 \n",
      "\n",
      "Salida counts = {'1': 1}\n",
      "Given the former angle theta and quantum state, the new prediction is:\n",
      "Prediction = 1\n",
      "int(Prediction) = 1 \n",
      "\n",
      "Salida counts = {'0': 1}\n",
      "Given the former angle theta and quantum state, the new prediction is:\n",
      "Prediction = 0\n",
      "int(Prediction) = 0 \n",
      "\n",
      "Salida counts = {'1': 1}\n",
      "Given the former angle theta and quantum state, the new prediction is:\n",
      "Prediction = 1\n",
      "int(Prediction) = 1 \n",
      "\n",
      "Salida counts = {'0': 1}\n",
      "Given the former angle theta and quantum state, the new prediction is:\n",
      "Prediction = 0\n",
      "int(Prediction) = 0 \n",
      "\n",
      "Salida counts = {'1': 1}\n",
      "Given the former angle theta and quantum state, the new prediction is:\n",
      "Prediction = 1\n",
      "int(Prediction) = 1 \n",
      "\n",
      "Salida counts = {'0': 1}\n",
      "Given the former angle theta and quantum state, the new prediction is:\n",
      "Prediction = 0\n",
      "int(Prediction) = 0 \n",
      "\n",
      "Salida counts = {'1': 1}\n",
      "Given the former angle theta and quantum state, the new prediction is:\n",
      "Prediction = 1\n",
      "int(Prediction) = 1 \n",
      "\n",
      "Salida counts = {'1': 1}\n",
      "Given the former angle theta and quantum state, the new prediction is:\n",
      "Prediction = 1\n",
      "int(Prediction) = 1 \n",
      "\n",
      "Salida counts = {'1': 1}\n",
      "Given the former angle theta and quantum state, the new prediction is:\n",
      "Prediction = 1\n",
      "int(Prediction) = 1 \n",
      "\n",
      "Salida counts = {'1': 1}\n",
      "Given the former angle theta and quantum state, the new prediction is:\n",
      "Prediction = 1\n",
      "int(Prediction) = 1 \n",
      "\n",
      "Salida counts = {'0': 1}\n",
      "Given the former angle theta and quantum state, the new prediction is:\n",
      "Prediction = 0\n",
      "int(Prediction) = 0 \n",
      "\n",
      "Salida counts = {'1': 1}\n",
      "Given the former angle theta and quantum state, the new prediction is:\n",
      "Prediction = 1\n",
      "int(Prediction) = 1 \n",
      "\n",
      "Salida counts = {'1': 1}\n",
      "Given the former angle theta and quantum state, the new prediction is:\n",
      "Prediction = 1\n",
      "int(Prediction) = 1 \n",
      "\n",
      "Salida counts = {'0': 1}\n",
      "Given the former angle theta and quantum state, the new prediction is:\n",
      "Prediction = 0\n",
      "int(Prediction) = 0 \n",
      "\n",
      "Salida counts = {'0': 1}\n",
      "Given the former angle theta and quantum state, the new prediction is:\n",
      "Prediction = 0\n",
      "int(Prediction) = 0 \n",
      "\n",
      "Salida counts = {'1': 1}\n",
      "Given the former angle theta and quantum state, the new prediction is:\n",
      "Prediction = 1\n",
      "int(Prediction) = 1 \n",
      "\n",
      "Salida counts = {'1': 1}\n",
      "Given the former angle theta and quantum state, the new prediction is:\n",
      "Prediction = 1\n",
      "int(Prediction) = 1 \n",
      "\n",
      "Salida counts = {'0': 1}\n",
      "Given the former angle theta and quantum state, the new prediction is:\n",
      "Prediction = 0\n",
      "int(Prediction) = 0 \n",
      "\n",
      "Salida counts = {'0': 1}\n",
      "Given the former angle theta and quantum state, the new prediction is:\n",
      "Prediction = 0\n",
      "int(Prediction) = 0 \n",
      "\n",
      "Salida counts = {'1': 1}\n",
      "Given the former angle theta and quantum state, the new prediction is:\n",
      "Prediction = 1\n",
      "int(Prediction) = 1 \n",
      "\n",
      "Salida counts = {'1': 1}\n",
      "Given the former angle theta and quantum state, the new prediction is:\n",
      "Prediction = 1\n",
      "int(Prediction) = 1 \n",
      "\n",
      "Salida counts = {'0': 1}\n",
      "Given the former angle theta and quantum state, the new prediction is:\n",
      "Prediction = 0\n",
      "int(Prediction) = 0 \n",
      "\n",
      "Salida counts = {'1': 1}\n",
      "Given the former angle theta and quantum state, the new prediction is:\n",
      "Prediction = 1\n",
      "int(Prediction) = 1 \n",
      "\n",
      "Salida counts = {'0': 1}\n",
      "Given the former angle theta and quantum state, the new prediction is:\n",
      "Prediction = 0\n",
      "int(Prediction) = 0 \n",
      "\n",
      "Salida counts = {'1': 1}\n",
      "Given the former angle theta and quantum state, the new prediction is:\n",
      "Prediction = 1\n",
      "int(Prediction) = 1 \n",
      "\n",
      "Salida counts = {'0': 1}\n",
      "Given the former angle theta and quantum state, the new prediction is:\n",
      "Prediction = 0\n",
      "int(Prediction) = 0 \n",
      "\n",
      "Salida counts = {'0': 1}\n",
      "Given the former angle theta and quantum state, the new prediction is:\n",
      "Prediction = 0\n",
      "int(Prediction) = 0 \n",
      "\n",
      "Salida counts = {'1': 1}\n",
      "Given the former angle theta and quantum state, the new prediction is:\n",
      "Prediction = 1\n",
      "int(Prediction) = 1 \n",
      "\n",
      "Salida counts = {'1': 1}\n",
      "Given the former angle theta and quantum state, the new prediction is:\n",
      "Prediction = 1\n",
      "int(Prediction) = 1 \n",
      "\n",
      "Salida counts = {'1': 1}\n",
      "Given the former angle theta and quantum state, the new prediction is:\n",
      "Prediction = 1\n",
      "int(Prediction) = 1 \n",
      "\n",
      "Salida counts = {'0': 1}\n",
      "Given the former angle theta and quantum state, the new prediction is:\n",
      "Prediction = 0\n",
      "int(Prediction) = 0 \n",
      "\n",
      "Salida counts = {'1': 1}\n",
      "Given the former angle theta and quantum state, the new prediction is:\n",
      "Prediction = 1\n",
      "int(Prediction) = 1 \n",
      "\n",
      "Salida counts = {'1': 1}\n",
      "Given the former angle theta and quantum state, the new prediction is:\n",
      "Prediction = 1\n",
      "int(Prediction) = 1 \n",
      "\n",
      "Salida counts = {'1': 1}\n",
      "Given the former angle theta and quantum state, the new prediction is:\n",
      "Prediction = 1\n",
      "int(Prediction) = 1 \n",
      "\n",
      "Salida counts = {'1': 1}\n",
      "Given the former angle theta and quantum state, the new prediction is:\n",
      "Prediction = 1\n",
      "int(Prediction) = 1 \n",
      "\n",
      "Salida counts = {'1': 1}\n",
      "Given the former angle theta and quantum state, the new prediction is:\n",
      "Prediction = 1\n",
      "int(Prediction) = 1 \n",
      "\n",
      "Salida counts = {'0': 1}\n",
      "Given the former angle theta and quantum state, the new prediction is:\n",
      "Prediction = 0\n",
      "int(Prediction) = 0 \n",
      "\n",
      "Salida counts = {'0': 1}\n",
      "Given the former angle theta and quantum state, the new prediction is:\n",
      "Prediction = 0\n",
      "int(Prediction) = 0 \n",
      "\n",
      "Salida counts = {'1': 1}\n",
      "Given the former angle theta and quantum state, the new prediction is:\n",
      "Prediction = 1\n",
      "int(Prediction) = 1 \n",
      "\n",
      "Salida counts = {'1': 1}\n",
      "Given the former angle theta and quantum state, the new prediction is:\n",
      "Prediction = 1\n",
      "int(Prediction) = 1 \n",
      "\n",
      "Salida counts = {'1': 1}\n",
      "Given the former angle theta and quantum state, the new prediction is:\n",
      "Prediction = 1\n",
      "int(Prediction) = 1 \n",
      "\n",
      "Salida counts = {'1': 1}\n",
      "Given the former angle theta and quantum state, the new prediction is:\n",
      "Prediction = 1\n",
      "int(Prediction) = 1 \n",
      "\n",
      "Salida counts = {'1': 1}\n",
      "Given the former angle theta and quantum state, the new prediction is:\n",
      "Prediction = 1\n",
      "int(Prediction) = 1 \n",
      "\n",
      "Salida counts = {'0': 1}\n",
      "Given the former angle theta and quantum state, the new prediction is:\n",
      "Prediction = 0\n",
      "int(Prediction) = 0 \n",
      "\n",
      "Salida counts = {'1': 1}\n",
      "Given the former angle theta and quantum state, the new prediction is:\n",
      "Prediction = 1\n",
      "int(Prediction) = 1 \n",
      "\n",
      "Salida counts = {'1': 1}\n",
      "Given the former angle theta and quantum state, the new prediction is:\n",
      "Prediction = 1\n",
      "int(Prediction) = 1 \n",
      "\n",
      "Salida counts = {'0': 1}\n",
      "Given the former angle theta and quantum state, the new prediction is:\n",
      "Prediction = 0\n",
      "int(Prediction) = 0 \n",
      "\n",
      "Salida counts = {'0': 1}\n",
      "Given the former angle theta and quantum state, the new prediction is:\n",
      "Prediction = 0\n",
      "int(Prediction) = 0 \n",
      "\n",
      "Salida counts = {'0': 1}\n",
      "Given the former angle theta and quantum state, the new prediction is:\n",
      "Prediction = 0\n",
      "int(Prediction) = 0 \n",
      "\n",
      "Salida counts = {'0': 1}\n",
      "Given the former angle theta and quantum state, the new prediction is:\n",
      "Prediction = 0\n",
      "int(Prediction) = 0 \n",
      "\n",
      "Salida counts = {'0': 1}\n",
      "Given the former angle theta and quantum state, the new prediction is:\n",
      "Prediction = 0\n",
      "int(Prediction) = 0 \n",
      "\n",
      "Salida counts = {'0': 1}\n",
      "Given the former angle theta and quantum state, the new prediction is:\n",
      "Prediction = 0\n",
      "int(Prediction) = 0 \n",
      "\n",
      "Salida counts = {'0': 1}\n",
      "Given the former angle theta and quantum state, the new prediction is:\n",
      "Prediction = 0\n",
      "int(Prediction) = 0 \n",
      "\n",
      "Salida counts = {'0': 1}\n",
      "Given the former angle theta and quantum state, the new prediction is:\n",
      "Prediction = 0\n",
      "int(Prediction) = 0 \n",
      "\n",
      "Salida counts = {'0': 1}\n",
      "Given the former angle theta and quantum state, the new prediction is:\n",
      "Prediction = 0\n",
      "int(Prediction) = 0 \n",
      "\n",
      "Salida counts = {'0': 1}\n",
      "Given the former angle theta and quantum state, the new prediction is:\n",
      "Prediction = 0\n",
      "int(Prediction) = 0 \n",
      "\n",
      "Salida counts = {'0': 1}\n",
      "Given the former angle theta and quantum state, the new prediction is:\n",
      "Prediction = 0\n",
      "int(Prediction) = 0 \n",
      "\n",
      "Salida counts = {'0': 1}\n",
      "Given the former angle theta and quantum state, the new prediction is:\n",
      "Prediction = 0\n",
      "int(Prediction) = 0 \n",
      "\n",
      "Salida counts = {'1': 1}\n",
      "Given the former angle theta and quantum state, the new prediction is:\n",
      "Prediction = 1\n",
      "int(Prediction) = 1 \n",
      "\n",
      "Salida counts = {'1': 1}\n",
      "Given the former angle theta and quantum state, the new prediction is:\n",
      "Prediction = 1\n",
      "int(Prediction) = 1 \n",
      "\n",
      "Salida counts = {'1': 1}\n",
      "Given the former angle theta and quantum state, the new prediction is:\n",
      "Prediction = 1\n",
      "int(Prediction) = 1 \n",
      "\n",
      "Salida counts = {'1': 1}\n",
      "Given the former angle theta and quantum state, the new prediction is:\n",
      "Prediction = 1\n",
      "int(Prediction) = 1 \n",
      "\n",
      "Salida counts = {'1': 1}\n",
      "Given the former angle theta and quantum state, the new prediction is:\n",
      "Prediction = 1\n",
      "int(Prediction) = 1 \n",
      "\n",
      "Salida counts = {'0': 1}\n",
      "Given the former angle theta and quantum state, the new prediction is:\n",
      "Prediction = 0\n",
      "int(Prediction) = 0 \n",
      "\n",
      "Salida counts = {'0': 1}\n",
      "Given the former angle theta and quantum state, the new prediction is:\n",
      "Prediction = 0\n",
      "int(Prediction) = 0 \n",
      "\n",
      "Salida counts = {'1': 1}\n",
      "Given the former angle theta and quantum state, the new prediction is:\n",
      "Prediction = 1\n",
      "int(Prediction) = 1 \n",
      "\n",
      "Salida counts = {'1': 1}\n",
      "Given the former angle theta and quantum state, the new prediction is:\n",
      "Prediction = 1\n",
      "int(Prediction) = 1 \n",
      "\n",
      "Salida counts = {'1': 1}\n",
      "Given the former angle theta and quantum state, the new prediction is:\n",
      "Prediction = 1\n",
      "int(Prediction) = 1 \n",
      "\n",
      "Salida counts = {'1': 1}\n",
      "Given the former angle theta and quantum state, the new prediction is:\n",
      "Prediction = 1\n",
      "int(Prediction) = 1 \n",
      "\n",
      "Salida counts = {'0': 1}\n",
      "Given the former angle theta and quantum state, the new prediction is:\n",
      "Prediction = 0\n",
      "int(Prediction) = 0 \n",
      "\n",
      "Salida counts = {'0': 1}\n",
      "Given the former angle theta and quantum state, the new prediction is:\n",
      "Prediction = 0\n",
      "int(Prediction) = 0 \n",
      "\n",
      "Salida counts = {'1': 1}\n",
      "Given the former angle theta and quantum state, the new prediction is:\n",
      "Prediction = 1\n",
      "int(Prediction) = 1 \n",
      "\n",
      "Salida counts = {'1': 1}\n",
      "Given the former angle theta and quantum state, the new prediction is:\n",
      "Prediction = 1\n",
      "int(Prediction) = 1 \n",
      "\n",
      "Salida counts = {'1': 1}\n",
      "Given the former angle theta and quantum state, the new prediction is:\n",
      "Prediction = 1\n",
      "int(Prediction) = 1 \n",
      "\n",
      "Salida counts = {'1': 1}\n",
      "Given the former angle theta and quantum state, the new prediction is:\n",
      "Prediction = 1\n",
      "int(Prediction) = 1 \n",
      "\n",
      "Salida counts = {'0': 1}\n",
      "Given the former angle theta and quantum state, the new prediction is:\n",
      "Prediction = 0\n",
      "int(Prediction) = 0 \n",
      "\n",
      "Salida counts = {'1': 1}\n",
      "Given the former angle theta and quantum state, the new prediction is:\n",
      "Prediction = 1\n",
      "int(Prediction) = 1 \n",
      "\n",
      "Salida counts = {'0': 1}\n",
      "Given the former angle theta and quantum state, the new prediction is:\n",
      "Prediction = 0\n",
      "int(Prediction) = 0 \n",
      "\n",
      "Salida counts = {'1': 1}\n",
      "Given the former angle theta and quantum state, the new prediction is:\n",
      "Prediction = 1\n",
      "int(Prediction) = 1 \n",
      "\n",
      "Salida counts = {'0': 1}\n",
      "Given the former angle theta and quantum state, the new prediction is:\n",
      "Prediction = 0\n",
      "int(Prediction) = 0 \n",
      "\n",
      "Salida counts = {'1': 1}\n",
      "Given the former angle theta and quantum state, the new prediction is:\n",
      "Prediction = 1\n",
      "int(Prediction) = 1 \n",
      "\n",
      "Salida counts = {'0': 1}\n",
      "Given the former angle theta and quantum state, the new prediction is:\n",
      "Prediction = 0\n",
      "int(Prediction) = 0 \n",
      "\n",
      "Salida counts = {'1': 1}\n",
      "Given the former angle theta and quantum state, the new prediction is:\n",
      "Prediction = 1\n",
      "int(Prediction) = 1 \n",
      "\n",
      "Salida counts = {'0': 1}\n",
      "Given the former angle theta and quantum state, the new prediction is:\n",
      "Prediction = 0\n",
      "int(Prediction) = 0 \n",
      "\n",
      "Salida counts = {'0': 1}\n",
      "Given the former angle theta and quantum state, the new prediction is:\n",
      "Prediction = 0\n",
      "int(Prediction) = 0 \n",
      "\n",
      "Salida counts = {'1': 1}\n",
      "Given the former angle theta and quantum state, the new prediction is:\n",
      "Prediction = 1\n",
      "int(Prediction) = 1 \n",
      "\n",
      "Salida counts = {'0': 1}\n",
      "Given the former angle theta and quantum state, the new prediction is:\n",
      "Prediction = 0\n",
      "int(Prediction) = 0 \n",
      "\n",
      "Salida counts = {'1': 1}\n",
      "Given the former angle theta and quantum state, the new prediction is:\n",
      "Prediction = 1\n",
      "int(Prediction) = 1 \n",
      "\n",
      "Salida counts = {'1': 1}\n",
      "Given the former angle theta and quantum state, the new prediction is:\n",
      "Prediction = 1\n",
      "int(Prediction) = 1 \n",
      "\n",
      "Salida counts = {'1': 1}\n",
      "Given the former angle theta and quantum state, the new prediction is:\n",
      "Prediction = 1\n",
      "int(Prediction) = 1 \n",
      "\n",
      "Salida counts = {'1': 1}\n",
      "Given the former angle theta and quantum state, the new prediction is:\n",
      "Prediction = 1\n",
      "int(Prediction) = 1 \n",
      "\n",
      "Salida counts = {'1': 1}\n",
      "Given the former angle theta and quantum state, the new prediction is:\n",
      "Prediction = 1\n",
      "int(Prediction) = 1 \n",
      "\n",
      "Salida counts = {'0': 1}\n",
      "Given the former angle theta and quantum state, the new prediction is:\n",
      "Prediction = 0\n",
      "int(Prediction) = 0 \n",
      "\n",
      "Salida counts = {'1': 1}\n",
      "Given the former angle theta and quantum state, the new prediction is:\n",
      "Prediction = 1\n",
      "int(Prediction) = 1 \n",
      "\n",
      "Salida counts = {'0': 1}\n",
      "Given the former angle theta and quantum state, the new prediction is:\n",
      "Prediction = 0\n",
      "int(Prediction) = 0 \n",
      "\n",
      "Salida counts = {'0': 1}\n",
      "Given the former angle theta and quantum state, the new prediction is:\n",
      "Prediction = 0\n",
      "int(Prediction) = 0 \n",
      "\n",
      "Salida counts = {'0': 1}\n",
      "Given the former angle theta and quantum state, the new prediction is:\n",
      "Prediction = 0\n",
      "int(Prediction) = 0 \n",
      "\n",
      "Salida counts = {'0': 1}\n",
      "Given the former angle theta and quantum state, the new prediction is:\n",
      "Prediction = 0\n",
      "int(Prediction) = 0 \n",
      "\n",
      "Salida counts = {'0': 1}\n",
      "Given the former angle theta and quantum state, the new prediction is:\n",
      "Prediction = 0\n",
      "int(Prediction) = 0 \n",
      "\n",
      "Salida counts = {'1': 1}\n",
      "Given the former angle theta and quantum state, the new prediction is:\n",
      "Prediction = 1\n",
      "int(Prediction) = 1 \n",
      "\n",
      "Salida counts = {'0': 1}\n",
      "Given the former angle theta and quantum state, the new prediction is:\n",
      "Prediction = 0\n",
      "int(Prediction) = 0 \n",
      "\n",
      "Salida counts = {'0': 1}\n",
      "Given the former angle theta and quantum state, the new prediction is:\n",
      "Prediction = 0\n",
      "int(Prediction) = 0 \n",
      "\n",
      "Salida counts = {'0': 1}\n",
      "Given the former angle theta and quantum state, the new prediction is:\n",
      "Prediction = 0\n",
      "int(Prediction) = 0 \n",
      "\n",
      "Salida counts = {'1': 1}\n",
      "Given the former angle theta and quantum state, the new prediction is:\n",
      "Prediction = 1\n",
      "int(Prediction) = 1 \n",
      "\n",
      "Salida counts = {'1': 1}\n",
      "Given the former angle theta and quantum state, the new prediction is:\n",
      "Prediction = 1\n",
      "int(Prediction) = 1 \n",
      "\n",
      "Salida counts = {'1': 1}\n",
      "Given the former angle theta and quantum state, the new prediction is:\n",
      "Prediction = 1\n",
      "int(Prediction) = 1 \n",
      "\n",
      "Salida counts = {'1': 1}\n",
      "Given the former angle theta and quantum state, the new prediction is:\n",
      "Prediction = 1\n",
      "int(Prediction) = 1 \n",
      "\n",
      "Salida counts = {'0': 1}\n",
      "Given the former angle theta and quantum state, the new prediction is:\n",
      "Prediction = 0\n",
      "int(Prediction) = 0 \n",
      "\n",
      "Salida counts = {'0': 1}\n",
      "Given the former angle theta and quantum state, the new prediction is:\n",
      "Prediction = 0\n",
      "int(Prediction) = 0 \n",
      "\n",
      "Salida counts = {'0': 1}\n",
      "Given the former angle theta and quantum state, the new prediction is:\n",
      "Prediction = 0\n",
      "int(Prediction) = 0 \n",
      "\n",
      "Salida counts = {'0': 1}\n",
      "Given the former angle theta and quantum state, the new prediction is:\n",
      "Prediction = 0\n",
      "int(Prediction) = 0 \n",
      "\n",
      "Salida counts = {'1': 1}\n",
      "Given the former angle theta and quantum state, the new prediction is:\n",
      "Prediction = 1\n",
      "int(Prediction) = 1 \n",
      "\n",
      "Salida counts = {'1': 1}\n",
      "Given the former angle theta and quantum state, the new prediction is:\n",
      "Prediction = 1\n",
      "int(Prediction) = 1 \n",
      "\n",
      "Salida counts = {'0': 1}\n",
      "Given the former angle theta and quantum state, the new prediction is:\n",
      "Prediction = 0\n",
      "int(Prediction) = 0 \n",
      "\n",
      "Salida counts = {'0': 1}\n",
      "Given the former angle theta and quantum state, the new prediction is:\n",
      "Prediction = 0\n",
      "int(Prediction) = 0 \n",
      "\n",
      "Salida counts = {'1': 1}\n",
      "Given the former angle theta and quantum state, the new prediction is:\n",
      "Prediction = 1\n",
      "int(Prediction) = 1 \n",
      "\n",
      "Salida counts = {'1': 1}\n",
      "Given the former angle theta and quantum state, the new prediction is:\n",
      "Prediction = 1\n",
      "int(Prediction) = 1 \n",
      "\n",
      "Salida counts = {'1': 1}\n",
      "Given the former angle theta and quantum state, the new prediction is:\n",
      "Prediction = 1\n",
      "int(Prediction) = 1 \n",
      "\n",
      "Salida counts = {'1': 1}\n",
      "Given the former angle theta and quantum state, the new prediction is:\n",
      "Prediction = 1\n",
      "int(Prediction) = 1 \n",
      "\n",
      "Salida counts = {'0': 1}\n",
      "Given the former angle theta and quantum state, the new prediction is:\n",
      "Prediction = 0\n",
      "int(Prediction) = 0 \n",
      "\n",
      "Salida counts = {'1': 1}\n",
      "Given the former angle theta and quantum state, the new prediction is:\n",
      "Prediction = 1\n",
      "int(Prediction) = 1 \n",
      "\n",
      "Salida counts = {'0': 1}\n",
      "Given the former angle theta and quantum state, the new prediction is:\n",
      "Prediction = 0\n",
      "int(Prediction) = 0 \n",
      "\n",
      "Salida counts = {'0': 1}\n",
      "Given the former angle theta and quantum state, the new prediction is:\n",
      "Prediction = 0\n",
      "int(Prediction) = 0 \n",
      "\n",
      "Salida counts = {'0': 1}\n",
      "Given the former angle theta and quantum state, the new prediction is:\n",
      "Prediction = 0\n",
      "int(Prediction) = 0 \n",
      "\n",
      "Salida counts = {'1': 1}\n",
      "Given the former angle theta and quantum state, the new prediction is:\n",
      "Prediction = 1\n",
      "int(Prediction) = 1 \n",
      "\n",
      "Salida counts = {'0': 1}\n",
      "Given the former angle theta and quantum state, the new prediction is:\n",
      "Prediction = 0\n",
      "int(Prediction) = 0 \n",
      "\n",
      "Salida counts = {'1': 1}\n",
      "Given the former angle theta and quantum state, the new prediction is:\n",
      "Prediction = 1\n",
      "int(Prediction) = 1 \n",
      "\n",
      "Salida counts = {'1': 1}\n",
      "Given the former angle theta and quantum state, the new prediction is:\n",
      "Prediction = 1\n",
      "int(Prediction) = 1 \n",
      "\n",
      "Salida counts = {'0': 1}\n",
      "Given the former angle theta and quantum state, the new prediction is:\n",
      "Prediction = 0\n",
      "int(Prediction) = 0 \n",
      "\n",
      "Salida counts = {'0': 1}\n",
      "Given the former angle theta and quantum state, the new prediction is:\n",
      "Prediction = 0\n",
      "int(Prediction) = 0 \n",
      "\n",
      "Salida counts = {'0': 1}\n",
      "Given the former angle theta and quantum state, the new prediction is:\n",
      "Prediction = 0\n",
      "int(Prediction) = 0 \n",
      "\n",
      "Salida counts = {'0': 1}\n",
      "Given the former angle theta and quantum state, the new prediction is:\n",
      "Prediction = 0\n",
      "int(Prediction) = 0 \n",
      "\n",
      "Salida counts = {'1': 1}\n",
      "Given the former angle theta and quantum state, the new prediction is:\n",
      "Prediction = 1\n",
      "int(Prediction) = 1 \n",
      "\n",
      "Salida counts = {'0': 1}\n",
      "Given the former angle theta and quantum state, the new prediction is:\n",
      "Prediction = 0\n",
      "int(Prediction) = 0 \n",
      "\n",
      "Salida counts = {'0': 1}\n",
      "Given the former angle theta and quantum state, the new prediction is:\n",
      "Prediction = 0\n",
      "int(Prediction) = 0 \n",
      "\n",
      "Salida counts = {'1': 1}\n",
      "Given the former angle theta and quantum state, the new prediction is:\n",
      "Prediction = 1\n",
      "int(Prediction) = 1 \n",
      "\n",
      "Salida counts = {'0': 1}\n",
      "Given the former angle theta and quantum state, the new prediction is:\n",
      "Prediction = 0\n",
      "int(Prediction) = 0 \n",
      "\n",
      "Salida counts = {'0': 1}\n",
      "Given the former angle theta and quantum state, the new prediction is:\n",
      "Prediction = 0\n",
      "int(Prediction) = 0 \n",
      "\n",
      "Salida counts = {'1': 1}\n",
      "Given the former angle theta and quantum state, the new prediction is:\n",
      "Prediction = 1\n",
      "int(Prediction) = 1 \n",
      "\n",
      "Salida counts = {'1': 1}\n",
      "Given the former angle theta and quantum state, the new prediction is:\n",
      "Prediction = 1\n",
      "int(Prediction) = 1 \n",
      "\n",
      "Salida counts = {'0': 1}\n",
      "Given the former angle theta and quantum state, the new prediction is:\n",
      "Prediction = 0\n",
      "int(Prediction) = 0 \n",
      "\n",
      "Salida counts = {'0': 1}\n",
      "Given the former angle theta and quantum state, the new prediction is:\n",
      "Prediction = 0\n",
      "int(Prediction) = 0 \n",
      "\n",
      "Salida counts = {'1': 1}\n",
      "Given the former angle theta and quantum state, the new prediction is:\n",
      "Prediction = 1\n",
      "int(Prediction) = 1 \n",
      "\n",
      "Salida counts = {'1': 1}\n",
      "Given the former angle theta and quantum state, the new prediction is:\n",
      "Prediction = 1\n",
      "int(Prediction) = 1 \n",
      "\n",
      "Salida counts = {'1': 1}\n",
      "Given the former angle theta and quantum state, the new prediction is:\n",
      "Prediction = 1\n",
      "int(Prediction) = 1 \n",
      "\n",
      "Salida counts = {'0': 1}\n",
      "Given the former angle theta and quantum state, the new prediction is:\n",
      "Prediction = 0\n",
      "int(Prediction) = 0 \n",
      "\n",
      "Salida counts = {'0': 1}\n",
      "Given the former angle theta and quantum state, the new prediction is:\n",
      "Prediction = 0\n",
      "int(Prediction) = 0 \n",
      "\n",
      "Salida counts = {'1': 1}\n",
      "Given the former angle theta and quantum state, the new prediction is:\n",
      "Prediction = 1\n",
      "int(Prediction) = 1 \n",
      "\n",
      "Salida counts = {'0': 1}\n",
      "Given the former angle theta and quantum state, the new prediction is:\n",
      "Prediction = 0\n",
      "int(Prediction) = 0 \n",
      "\n",
      "Salida counts = {'0': 1}\n",
      "Given the former angle theta and quantum state, the new prediction is:\n",
      "Prediction = 0\n",
      "int(Prediction) = 0 \n",
      "\n",
      "Salida counts = {'1': 1}\n",
      "Given the former angle theta and quantum state, the new prediction is:\n",
      "Prediction = 1\n",
      "int(Prediction) = 1 \n",
      "\n",
      "Salida counts = {'0': 1}\n",
      "Given the former angle theta and quantum state, the new prediction is:\n",
      "Prediction = 0\n",
      "int(Prediction) = 0 \n",
      "\n",
      "Salida counts = {'1': 1}\n",
      "Given the former angle theta and quantum state, the new prediction is:\n",
      "Prediction = 1\n",
      "int(Prediction) = 1 \n",
      "\n",
      "Salida counts = {'0': 1}\n",
      "Given the former angle theta and quantum state, the new prediction is:\n",
      "Prediction = 0\n",
      "int(Prediction) = 0 \n",
      "\n",
      "Salida counts = {'0': 1}\n",
      "Given the former angle theta and quantum state, the new prediction is:\n",
      "Prediction = 0\n",
      "int(Prediction) = 0 \n",
      "\n",
      "Salida counts = {'0': 1}\n",
      "Given the former angle theta and quantum state, the new prediction is:\n",
      "Prediction = 0\n",
      "int(Prediction) = 0 \n",
      "\n",
      "Salida counts = {'0': 1}\n",
      "Given the former angle theta and quantum state, the new prediction is:\n",
      "Prediction = 0\n",
      "int(Prediction) = 0 \n",
      "\n",
      "Salida counts = {'1': 1}\n",
      "Given the former angle theta and quantum state, the new prediction is:\n",
      "Prediction = 1\n",
      "int(Prediction) = 1 \n",
      "\n",
      "Salida counts = {'0': 1}\n",
      "Given the former angle theta and quantum state, the new prediction is:\n",
      "Prediction = 0\n",
      "int(Prediction) = 0 \n",
      "\n",
      "Salida counts = {'1': 1}\n",
      "Given the former angle theta and quantum state, the new prediction is:\n",
      "Prediction = 1\n",
      "int(Prediction) = 1 \n",
      "\n",
      "Salida counts = {'0': 1}\n",
      "Given the former angle theta and quantum state, the new prediction is:\n",
      "Prediction = 0\n",
      "int(Prediction) = 0 \n",
      "\n",
      "Salida counts = {'0': 1}\n",
      "Given the former angle theta and quantum state, the new prediction is:\n",
      "Prediction = 0\n",
      "int(Prediction) = 0 \n",
      "\n",
      "Salida counts = {'0': 1}\n",
      "Given the former angle theta and quantum state, the new prediction is:\n",
      "Prediction = 0\n",
      "int(Prediction) = 0 \n",
      "\n",
      "Salida counts = {'0': 1}\n",
      "Given the former angle theta and quantum state, the new prediction is:\n",
      "Prediction = 0\n",
      "int(Prediction) = 0 \n",
      "\n",
      "Salida counts = {'1': 1}\n",
      "Given the former angle theta and quantum state, the new prediction is:\n",
      "Prediction = 1\n",
      "int(Prediction) = 1 \n",
      "\n",
      "Salida counts = {'1': 1}\n",
      "Given the former angle theta and quantum state, the new prediction is:\n",
      "Prediction = 1\n",
      "int(Prediction) = 1 \n",
      "\n",
      "Salida counts = {'0': 1}\n",
      "Given the former angle theta and quantum state, the new prediction is:\n",
      "Prediction = 0\n",
      "int(Prediction) = 0 \n",
      "\n",
      "Salida counts = {'0': 1}\n",
      "Given the former angle theta and quantum state, the new prediction is:\n",
      "Prediction = 0\n",
      "int(Prediction) = 0 \n",
      "\n",
      "Salida counts = {'1': 1}\n",
      "Given the former angle theta and quantum state, the new prediction is:\n",
      "Prediction = 1\n",
      "int(Prediction) = 1 \n",
      "\n",
      "Salida counts = {'1': 1}\n",
      "Given the former angle theta and quantum state, the new prediction is:\n",
      "Prediction = 1\n",
      "int(Prediction) = 1 \n",
      "\n",
      "Salida counts = {'1': 1}\n",
      "Given the former angle theta and quantum state, the new prediction is:\n",
      "Prediction = 1\n",
      "int(Prediction) = 1 \n",
      "\n",
      "Salida counts = {'1': 1}\n",
      "Given the former angle theta and quantum state, the new prediction is:\n",
      "Prediction = 1\n",
      "int(Prediction) = 1 \n",
      "\n",
      "Salida counts = {'1': 1}\n",
      "Given the former angle theta and quantum state, the new prediction is:\n",
      "Prediction = 1\n",
      "int(Prediction) = 1 \n",
      "\n",
      "Salida counts = {'0': 1}\n",
      "Given the former angle theta and quantum state, the new prediction is:\n",
      "Prediction = 0\n",
      "int(Prediction) = 0 \n",
      "\n",
      "Salida counts = {'0': 1}\n",
      "Given the former angle theta and quantum state, the new prediction is:\n",
      "Prediction = 0\n",
      "int(Prediction) = 0 \n",
      "\n",
      "Salida counts = {'0': 1}\n",
      "Given the former angle theta and quantum state, the new prediction is:\n",
      "Prediction = 0\n",
      "int(Prediction) = 0 \n",
      "\n",
      "Salida counts = {'0': 1}\n",
      "Given the former angle theta and quantum state, the new prediction is:\n",
      "Prediction = 0\n",
      "int(Prediction) = 0 \n",
      "\n",
      "Salida counts = {'1': 1}\n",
      "Given the former angle theta and quantum state, the new prediction is:\n",
      "Prediction = 1\n",
      "int(Prediction) = 1 \n",
      "\n",
      "Salida counts = {'0': 1}\n",
      "Given the former angle theta and quantum state, the new prediction is:\n",
      "Prediction = 0\n",
      "int(Prediction) = 0 \n",
      "\n",
      "Salida counts = {'1': 1}\n",
      "Given the former angle theta and quantum state, the new prediction is:\n",
      "Prediction = 1\n",
      "int(Prediction) = 1 \n",
      "\n",
      "Salida counts = {'1': 1}\n",
      "Given the former angle theta and quantum state, the new prediction is:\n",
      "Prediction = 1\n",
      "int(Prediction) = 1 \n",
      "\n",
      "Salida counts = {'1': 1}\n",
      "Given the former angle theta and quantum state, the new prediction is:\n",
      "Prediction = 1\n",
      "int(Prediction) = 1 \n",
      "\n",
      "Salida counts = {'1': 1}\n",
      "Given the former angle theta and quantum state, the new prediction is:\n",
      "Prediction = 1\n",
      "int(Prediction) = 1 \n",
      "\n",
      "Salida counts = {'0': 1}\n",
      "Given the former angle theta and quantum state, the new prediction is:\n",
      "Prediction = 0\n",
      "int(Prediction) = 0 \n",
      "\n",
      "Salida counts = {'0': 1}\n",
      "Given the former angle theta and quantum state, the new prediction is:\n",
      "Prediction = 0\n",
      "int(Prediction) = 0 \n",
      "\n",
      "Salida counts = {'1': 1}\n",
      "Given the former angle theta and quantum state, the new prediction is:\n",
      "Prediction = 1\n",
      "int(Prediction) = 1 \n",
      "\n",
      "Salida counts = {'1': 1}\n",
      "Given the former angle theta and quantum state, the new prediction is:\n",
      "Prediction = 1\n",
      "int(Prediction) = 1 \n",
      "\n",
      "Salida counts = {'0': 1}\n",
      "Given the former angle theta and quantum state, the new prediction is:\n",
      "Prediction = 0\n",
      "int(Prediction) = 0 \n",
      "\n",
      "Salida counts = {'1': 1}\n",
      "Given the former angle theta and quantum state, the new prediction is:\n",
      "Prediction = 1\n",
      "int(Prediction) = 1 \n",
      "\n",
      "Salida counts = {'0': 1}\n",
      "Given the former angle theta and quantum state, the new prediction is:\n",
      "Prediction = 0\n",
      "int(Prediction) = 0 \n",
      "\n",
      "Salida counts = {'1': 1}\n",
      "Given the former angle theta and quantum state, the new prediction is:\n",
      "Prediction = 1\n",
      "int(Prediction) = 1 \n",
      "\n",
      "Salida counts = {'1': 1}\n",
      "Given the former angle theta and quantum state, the new prediction is:\n",
      "Prediction = 1\n",
      "int(Prediction) = 1 \n",
      "\n",
      "Salida counts = {'0': 1}\n",
      "Given the former angle theta and quantum state, the new prediction is:\n",
      "Prediction = 0\n",
      "int(Prediction) = 0 \n",
      "\n",
      "Salida counts = {'1': 1}\n",
      "Given the former angle theta and quantum state, the new prediction is:\n",
      "Prediction = 1\n",
      "int(Prediction) = 1 \n",
      "\n",
      "Salida counts = {'1': 1}\n",
      "Given the former angle theta and quantum state, the new prediction is:\n",
      "Prediction = 1\n",
      "int(Prediction) = 1 \n",
      "\n",
      "Salida counts = {'0': 1}\n",
      "Given the former angle theta and quantum state, the new prediction is:\n",
      "Prediction = 0\n",
      "int(Prediction) = 0 \n",
      "\n",
      "Salida counts = {'1': 1}\n",
      "Given the former angle theta and quantum state, the new prediction is:\n",
      "Prediction = 1\n",
      "int(Prediction) = 1 \n",
      "\n",
      "Salida counts = {'1': 1}\n",
      "Given the former angle theta and quantum state, the new prediction is:\n",
      "Prediction = 1\n",
      "int(Prediction) = 1 \n",
      "\n",
      "Salida counts = {'1': 1}\n",
      "Given the former angle theta and quantum state, the new prediction is:\n",
      "Prediction = 1\n",
      "int(Prediction) = 1 \n",
      "\n",
      "Salida counts = {'0': 1}\n",
      "Given the former angle theta and quantum state, the new prediction is:\n",
      "Prediction = 0\n",
      "int(Prediction) = 0 \n",
      "\n",
      "Salida counts = {'0': 1}\n",
      "Given the former angle theta and quantum state, the new prediction is:\n",
      "Prediction = 0\n",
      "int(Prediction) = 0 \n",
      "\n",
      "Salida counts = {'1': 1}\n",
      "Given the former angle theta and quantum state, the new prediction is:\n",
      "Prediction = 1\n",
      "int(Prediction) = 1 \n",
      "\n",
      "Salida counts = {'1': 1}\n",
      "Given the former angle theta and quantum state, the new prediction is:\n",
      "Prediction = 1\n",
      "int(Prediction) = 1 \n",
      "\n",
      "Salida counts = {'1': 1}\n",
      "Given the former angle theta and quantum state, the new prediction is:\n",
      "Prediction = 1\n",
      "int(Prediction) = 1 \n",
      "\n",
      "Salida counts = {'1': 1}\n",
      "Given the former angle theta and quantum state, the new prediction is:\n",
      "Prediction = 1\n",
      "int(Prediction) = 1 \n",
      "\n",
      "Salida counts = {'0': 1}\n",
      "Given the former angle theta and quantum state, the new prediction is:\n",
      "Prediction = 0\n",
      "int(Prediction) = 0 \n",
      "\n",
      "Salida counts = {'1': 1}\n",
      "Given the former angle theta and quantum state, the new prediction is:\n",
      "Prediction = 1\n",
      "int(Prediction) = 1 \n",
      "\n",
      "Salida counts = {'1': 1}\n",
      "Given the former angle theta and quantum state, the new prediction is:\n",
      "Prediction = 1\n",
      "int(Prediction) = 1 \n",
      "\n",
      "Salida counts = {'1': 1}\n",
      "Given the former angle theta and quantum state, the new prediction is:\n",
      "Prediction = 1\n",
      "int(Prediction) = 1 \n",
      "\n",
      "Salida counts = {'1': 1}\n",
      "Given the former angle theta and quantum state, the new prediction is:\n",
      "Prediction = 1\n",
      "int(Prediction) = 1 \n",
      "\n",
      "Salida counts = {'1': 1}\n",
      "Given the former angle theta and quantum state, the new prediction is:\n",
      "Prediction = 1\n",
      "int(Prediction) = 1 \n",
      "\n",
      "Salida counts = {'1': 1}\n",
      "Given the former angle theta and quantum state, the new prediction is:\n",
      "Prediction = 1\n",
      "int(Prediction) = 1 \n",
      "\n",
      "Salida counts = {'1': 1}\n",
      "Given the former angle theta and quantum state, the new prediction is:\n",
      "Prediction = 1\n",
      "int(Prediction) = 1 \n",
      "\n",
      "Salida counts = {'0': 1}\n",
      "Given the former angle theta and quantum state, the new prediction is:\n",
      "Prediction = 0\n",
      "int(Prediction) = 0 \n",
      "\n",
      "Salida counts = {'1': 1}\n",
      "Given the former angle theta and quantum state, the new prediction is:\n",
      "Prediction = 1\n",
      "int(Prediction) = 1 \n",
      "\n",
      "Salida counts = {'0': 1}\n",
      "Given the former angle theta and quantum state, the new prediction is:\n",
      "Prediction = 0\n",
      "int(Prediction) = 0 \n",
      "\n",
      "Salida counts = {'0': 1}\n",
      "Given the former angle theta and quantum state, the new prediction is:\n",
      "Prediction = 0\n",
      "int(Prediction) = 0 \n",
      "\n",
      "Salida counts = {'0': 1}\n",
      "Given the former angle theta and quantum state, the new prediction is:\n",
      "Prediction = 0\n",
      "int(Prediction) = 0 \n",
      "\n",
      "Salida counts = {'1': 1}\n",
      "Given the former angle theta and quantum state, the new prediction is:\n",
      "Prediction = 1\n",
      "int(Prediction) = 1 \n",
      "\n",
      "Salida counts = {'1': 1}\n",
      "Given the former angle theta and quantum state, the new prediction is:\n",
      "Prediction = 1\n",
      "int(Prediction) = 1 \n",
      "\n",
      "Salida counts = {'0': 1}\n",
      "Given the former angle theta and quantum state, the new prediction is:\n",
      "Prediction = 0\n",
      "int(Prediction) = 0 \n",
      "\n",
      "Salida counts = {'1': 1}\n",
      "Given the former angle theta and quantum state, the new prediction is:\n",
      "Prediction = 1\n",
      "int(Prediction) = 1 \n",
      "\n",
      "Salida counts = {'1': 1}\n",
      "Given the former angle theta and quantum state, the new prediction is:\n",
      "Prediction = 1\n",
      "int(Prediction) = 1 \n",
      "\n",
      "Salida counts = {'0': 1}\n",
      "Given the former angle theta and quantum state, the new prediction is:\n",
      "Prediction = 0\n",
      "int(Prediction) = 0 \n",
      "\n",
      "Salida counts = {'0': 1}\n",
      "Given the former angle theta and quantum state, the new prediction is:\n",
      "Prediction = 0\n",
      "int(Prediction) = 0 \n",
      "\n",
      "Salida counts = {'0': 1}\n",
      "Given the former angle theta and quantum state, the new prediction is:\n",
      "Prediction = 0\n",
      "int(Prediction) = 0 \n",
      "\n",
      "Salida counts = {'0': 1}\n",
      "Given the former angle theta and quantum state, the new prediction is:\n",
      "Prediction = 0\n",
      "int(Prediction) = 0 \n",
      "\n",
      "Salida counts = {'1': 1}\n",
      "Given the former angle theta and quantum state, the new prediction is:\n",
      "Prediction = 1\n",
      "int(Prediction) = 1 \n",
      "\n",
      "Salida counts = {'1': 1}\n",
      "Given the former angle theta and quantum state, the new prediction is:\n",
      "Prediction = 1\n",
      "int(Prediction) = 1 \n",
      "\n",
      "Salida counts = {'0': 1}\n",
      "Given the former angle theta and quantum state, the new prediction is:\n",
      "Prediction = 0\n",
      "int(Prediction) = 0 \n",
      "\n",
      "Salida counts = {'0': 1}\n",
      "Given the former angle theta and quantum state, the new prediction is:\n",
      "Prediction = 0\n",
      "int(Prediction) = 0 \n",
      "\n",
      "Salida counts = {'0': 1}\n",
      "Given the former angle theta and quantum state, the new prediction is:\n",
      "Prediction = 0\n",
      "int(Prediction) = 0 \n",
      "\n",
      "Salida counts = {'1': 1}\n",
      "Given the former angle theta and quantum state, the new prediction is:\n",
      "Prediction = 1\n",
      "int(Prediction) = 1 \n",
      "\n",
      "Salida counts = {'1': 1}\n",
      "Given the former angle theta and quantum state, the new prediction is:\n",
      "Prediction = 1\n",
      "int(Prediction) = 1 \n",
      "\n",
      "Salida counts = {'0': 1}\n",
      "Given the former angle theta and quantum state, the new prediction is:\n",
      "Prediction = 0\n",
      "int(Prediction) = 0 \n",
      "\n",
      "Salida counts = {'1': 1}\n",
      "Given the former angle theta and quantum state, the new prediction is:\n",
      "Prediction = 1\n",
      "int(Prediction) = 1 \n",
      "\n",
      "Salida counts = {'1': 1}\n",
      "Given the former angle theta and quantum state, the new prediction is:\n",
      "Prediction = 1\n",
      "int(Prediction) = 1 \n",
      "\n",
      "Salida counts = {'0': 1}\n",
      "Given the former angle theta and quantum state, the new prediction is:\n",
      "Prediction = 0\n",
      "int(Prediction) = 0 \n",
      "\n",
      "Salida counts = {'0': 1}\n",
      "Given the former angle theta and quantum state, the new prediction is:\n",
      "Prediction = 0\n",
      "int(Prediction) = 0 \n",
      "\n",
      "Salida counts = {'1': 1}\n",
      "Given the former angle theta and quantum state, the new prediction is:\n",
      "Prediction = 1\n",
      "int(Prediction) = 1 \n",
      "\n",
      "Salida counts = {'0': 1}\n",
      "Given the former angle theta and quantum state, the new prediction is:\n",
      "Prediction = 0\n",
      "int(Prediction) = 0 \n",
      "\n",
      "Salida counts = {'0': 1}\n",
      "Given the former angle theta and quantum state, the new prediction is:\n",
      "Prediction = 0\n",
      "int(Prediction) = 0 \n",
      "\n",
      "Salida counts = {'1': 1}\n",
      "Given the former angle theta and quantum state, the new prediction is:\n",
      "Prediction = 1\n",
      "int(Prediction) = 1 \n",
      "\n",
      "Salida counts = {'0': 1}\n",
      "Given the former angle theta and quantum state, the new prediction is:\n",
      "Prediction = 0\n",
      "int(Prediction) = 0 \n",
      "\n",
      "Salida counts = {'1': 1}\n",
      "Given the former angle theta and quantum state, the new prediction is:\n",
      "Prediction = 1\n",
      "int(Prediction) = 1 \n",
      "\n",
      "Salida counts = {'0': 1}\n",
      "Given the former angle theta and quantum state, the new prediction is:\n",
      "Prediction = 0\n",
      "int(Prediction) = 0 \n",
      "\n",
      "Salida counts = {'0': 1}\n",
      "Given the former angle theta and quantum state, the new prediction is:\n",
      "Prediction = 0\n",
      "int(Prediction) = 0 \n",
      "\n",
      "Salida counts = {'1': 1}\n",
      "Given the former angle theta and quantum state, the new prediction is:\n",
      "Prediction = 1\n",
      "int(Prediction) = 1 \n",
      "\n",
      "Salida counts = {'0': 1}\n",
      "Given the former angle theta and quantum state, the new prediction is:\n",
      "Prediction = 0\n",
      "int(Prediction) = 0 \n",
      "\n",
      "Salida counts = {'0': 1}\n",
      "Given the former angle theta and quantum state, the new prediction is:\n",
      "Prediction = 0\n",
      "int(Prediction) = 0 \n",
      "\n",
      "Salida counts = {'0': 1}\n",
      "Given the former angle theta and quantum state, the new prediction is:\n",
      "Prediction = 0\n",
      "int(Prediction) = 0 \n",
      "\n",
      "Salida counts = {'0': 1}\n",
      "Given the former angle theta and quantum state, the new prediction is:\n",
      "Prediction = 0\n",
      "int(Prediction) = 0 \n",
      "\n",
      "Salida counts = {'0': 1}\n",
      "Given the former angle theta and quantum state, the new prediction is:\n",
      "Prediction = 0\n",
      "int(Prediction) = 0 \n",
      "\n",
      "Salida counts = {'1': 1}\n",
      "Given the former angle theta and quantum state, the new prediction is:\n",
      "Prediction = 1\n",
      "int(Prediction) = 1 \n",
      "\n",
      "Salida counts = {'1': 1}\n",
      "Given the former angle theta and quantum state, the new prediction is:\n",
      "Prediction = 1\n",
      "int(Prediction) = 1 \n",
      "\n",
      "Salida counts = {'1': 1}\n",
      "Given the former angle theta and quantum state, the new prediction is:\n",
      "Prediction = 1\n",
      "int(Prediction) = 1 \n",
      "\n",
      "Salida counts = {'1': 1}\n",
      "Given the former angle theta and quantum state, the new prediction is:\n",
      "Prediction = 1\n",
      "int(Prediction) = 1 \n",
      "\n",
      "Salida counts = {'0': 1}\n",
      "Given the former angle theta and quantum state, the new prediction is:\n",
      "Prediction = 0\n",
      "int(Prediction) = 0 \n",
      "\n",
      "Salida counts = {'1': 1}\n",
      "Given the former angle theta and quantum state, the new prediction is:\n",
      "Prediction = 1\n",
      "int(Prediction) = 1 \n",
      "\n",
      "Salida counts = {'1': 1}\n",
      "Given the former angle theta and quantum state, the new prediction is:\n",
      "Prediction = 1\n",
      "int(Prediction) = 1 \n",
      "\n",
      "Salida counts = {'1': 1}\n",
      "Given the former angle theta and quantum state, the new prediction is:\n",
      "Prediction = 1\n",
      "int(Prediction) = 1 \n",
      "\n",
      "Salida counts = {'0': 1}\n",
      "Given the former angle theta and quantum state, the new prediction is:\n",
      "Prediction = 0\n",
      "int(Prediction) = 0 \n",
      "\n",
      "Salida counts = {'0': 1}\n",
      "Given the former angle theta and quantum state, the new prediction is:\n",
      "Prediction = 0\n",
      "int(Prediction) = 0 \n",
      "\n",
      "Salida counts = {'0': 1}\n",
      "Given the former angle theta and quantum state, the new prediction is:\n",
      "Prediction = 0\n",
      "int(Prediction) = 0 \n",
      "\n",
      "Salida counts = {'1': 1}\n",
      "Given the former angle theta and quantum state, the new prediction is:\n",
      "Prediction = 1\n",
      "int(Prediction) = 1 \n",
      "\n",
      "Salida counts = {'0': 1}\n",
      "Given the former angle theta and quantum state, the new prediction is:\n",
      "Prediction = 0\n",
      "int(Prediction) = 0 \n",
      "\n",
      "Salida counts = {'0': 1}\n",
      "Given the former angle theta and quantum state, the new prediction is:\n",
      "Prediction = 0\n",
      "int(Prediction) = 0 \n",
      "\n",
      "Salida counts = {'1': 1}\n",
      "Given the former angle theta and quantum state, the new prediction is:\n",
      "Prediction = 1\n",
      "int(Prediction) = 1 \n",
      "\n",
      "Salida counts = {'0': 1}\n",
      "Given the former angle theta and quantum state, the new prediction is:\n",
      "Prediction = 0\n",
      "int(Prediction) = 0 \n",
      "\n",
      "Salida counts = {'0': 1}\n",
      "Given the former angle theta and quantum state, the new prediction is:\n",
      "Prediction = 0\n",
      "int(Prediction) = 0 \n",
      "\n",
      "Salida counts = {'1': 1}\n",
      "Given the former angle theta and quantum state, the new prediction is:\n",
      "Prediction = 1\n",
      "int(Prediction) = 1 \n",
      "\n",
      "Salida counts = {'1': 1}\n",
      "Given the former angle theta and quantum state, the new prediction is:\n",
      "Prediction = 1\n",
      "int(Prediction) = 1 \n",
      "\n",
      "Salida counts = {'1': 1}\n",
      "Given the former angle theta and quantum state, the new prediction is:\n",
      "Prediction = 1\n",
      "int(Prediction) = 1 \n",
      "\n",
      "Salida counts = {'1': 1}\n",
      "Given the former angle theta and quantum state, the new prediction is:\n",
      "Prediction = 1\n",
      "int(Prediction) = 1 \n",
      "\n",
      "Salida counts = {'1': 1}\n",
      "Given the former angle theta and quantum state, the new prediction is:\n",
      "Prediction = 1\n",
      "int(Prediction) = 1 \n",
      "\n",
      "Salida counts = {'1': 1}\n",
      "Given the former angle theta and quantum state, the new prediction is:\n",
      "Prediction = 1\n",
      "int(Prediction) = 1 \n",
      "\n",
      "Salida counts = {'1': 1}\n",
      "Given the former angle theta and quantum state, the new prediction is:\n",
      "Prediction = 1\n",
      "int(Prediction) = 1 \n",
      "\n",
      "Salida counts = {'1': 1}\n",
      "Given the former angle theta and quantum state, the new prediction is:\n",
      "Prediction = 1\n",
      "int(Prediction) = 1 \n",
      "\n",
      "Salida counts = {'1': 1}\n",
      "Given the former angle theta and quantum state, the new prediction is:\n",
      "Prediction = 1\n",
      "int(Prediction) = 1 \n",
      "\n",
      "Salida counts = {'0': 1}\n",
      "Given the former angle theta and quantum state, the new prediction is:\n",
      "Prediction = 0\n",
      "int(Prediction) = 0 \n",
      "\n",
      "Salida counts = {'1': 1}\n",
      "Given the former angle theta and quantum state, the new prediction is:\n",
      "Prediction = 1\n",
      "int(Prediction) = 1 \n",
      "\n",
      "Salida counts = {'1': 1}\n",
      "Given the former angle theta and quantum state, the new prediction is:\n",
      "Prediction = 1\n",
      "int(Prediction) = 1 \n",
      "\n",
      "Salida counts = {'0': 1}\n",
      "Given the former angle theta and quantum state, the new prediction is:\n",
      "Prediction = 0\n",
      "int(Prediction) = 0 \n",
      "\n",
      "Salida counts = {'0': 1}\n",
      "Given the former angle theta and quantum state, the new prediction is:\n",
      "Prediction = 0\n",
      "int(Prediction) = 0 \n",
      "\n",
      "Salida counts = {'0': 1}\n",
      "Given the former angle theta and quantum state, the new prediction is:\n",
      "Prediction = 0\n",
      "int(Prediction) = 0 \n",
      "\n",
      "Salida counts = {'0': 1}\n",
      "Given the former angle theta and quantum state, the new prediction is:\n",
      "Prediction = 0\n",
      "int(Prediction) = 0 \n",
      "\n",
      "Salida counts = {'1': 1}\n",
      "Given the former angle theta and quantum state, the new prediction is:\n",
      "Prediction = 1\n",
      "int(Prediction) = 1 \n",
      "\n",
      "Salida counts = {'1': 1}\n",
      "Given the former angle theta and quantum state, the new prediction is:\n",
      "Prediction = 1\n",
      "int(Prediction) = 1 \n",
      "\n",
      "Salida counts = {'0': 1}\n",
      "Given the former angle theta and quantum state, the new prediction is:\n",
      "Prediction = 0\n",
      "int(Prediction) = 0 \n",
      "\n",
      "Salida counts = {'0': 1}\n",
      "Given the former angle theta and quantum state, the new prediction is:\n",
      "Prediction = 0\n",
      "int(Prediction) = 0 \n",
      "\n",
      "Salida counts = {'1': 1}\n",
      "Given the former angle theta and quantum state, the new prediction is:\n",
      "Prediction = 1\n",
      "int(Prediction) = 1 \n",
      "\n",
      "Salida counts = {'1': 1}\n",
      "Given the former angle theta and quantum state, the new prediction is:\n",
      "Prediction = 1\n",
      "int(Prediction) = 1 \n",
      "\n",
      "Salida counts = {'1': 1}\n",
      "Given the former angle theta and quantum state, the new prediction is:\n",
      "Prediction = 1\n",
      "int(Prediction) = 1 \n",
      "\n",
      "Salida counts = {'1': 1}\n",
      "Given the former angle theta and quantum state, the new prediction is:\n",
      "Prediction = 1\n",
      "int(Prediction) = 1 \n",
      "\n",
      "Salida counts = {'1': 1}\n",
      "Given the former angle theta and quantum state, the new prediction is:\n",
      "Prediction = 1\n",
      "int(Prediction) = 1 \n",
      "\n",
      "Salida counts = {'0': 1}\n",
      "Given the former angle theta and quantum state, the new prediction is:\n",
      "Prediction = 0\n",
      "int(Prediction) = 0 \n",
      "\n",
      "Salida counts = {'0': 1}\n",
      "Given the former angle theta and quantum state, the new prediction is:\n",
      "Prediction = 0\n",
      "int(Prediction) = 0 \n",
      "\n",
      "Salida counts = {'1': 1}\n",
      "Given the former angle theta and quantum state, the new prediction is:\n",
      "Prediction = 1\n",
      "int(Prediction) = 1 \n",
      "\n",
      "Salida counts = {'1': 1}\n",
      "Given the former angle theta and quantum state, the new prediction is:\n",
      "Prediction = 1\n",
      "int(Prediction) = 1 \n",
      "\n",
      "Salida counts = {'0': 1}\n",
      "Given the former angle theta and quantum state, the new prediction is:\n",
      "Prediction = 0\n",
      "int(Prediction) = 0 \n",
      "\n",
      "Salida counts = {'0': 1}\n",
      "Given the former angle theta and quantum state, the new prediction is:\n",
      "Prediction = 0\n",
      "int(Prediction) = 0 \n",
      "\n",
      "Salida counts = {'0': 1}\n",
      "Given the former angle theta and quantum state, the new prediction is:\n",
      "Prediction = 0\n",
      "int(Prediction) = 0 \n",
      "\n",
      "Salida counts = {'0': 1}\n",
      "Given the former angle theta and quantum state, the new prediction is:\n",
      "Prediction = 0\n",
      "int(Prediction) = 0 \n",
      "\n",
      "Salida counts = {'1': 1}\n",
      "Given the former angle theta and quantum state, the new prediction is:\n",
      "Prediction = 1\n",
      "int(Prediction) = 1 \n",
      "\n",
      "Salida counts = {'0': 1}\n",
      "Given the former angle theta and quantum state, the new prediction is:\n",
      "Prediction = 0\n",
      "int(Prediction) = 0 \n",
      "\n",
      "Salida counts = {'1': 1}\n",
      "Given the former angle theta and quantum state, the new prediction is:\n",
      "Prediction = 1\n",
      "int(Prediction) = 1 \n",
      "\n",
      "Salida counts = {'0': 1}\n",
      "Given the former angle theta and quantum state, the new prediction is:\n",
      "Prediction = 0\n",
      "int(Prediction) = 0 \n",
      "\n",
      "Salida counts = {'1': 1}\n",
      "Given the former angle theta and quantum state, the new prediction is:\n",
      "Prediction = 1\n",
      "int(Prediction) = 1 \n",
      "\n",
      "Salida counts = {'0': 1}\n",
      "Given the former angle theta and quantum state, the new prediction is:\n",
      "Prediction = 0\n",
      "int(Prediction) = 0 \n",
      "\n",
      "\n",
      "The precision score of the Random PQC classifier is 0.38\n",
      "The recall score of the Random PQC classifier is 0.49\n",
      "The specificity score of the Random PQC classifier is 0.50\n",
      "The npv score of the Random PQC classifier is 0.61\n",
      "The information level is: 0.50\n"
     ]
    }
   ],
   "source": [
    "classifier_report(\n",
    "    \"Random PQC\",\n",
    "    run,\n",
    "    lambda passenger: post_process(pqc(backend, pre_process_random(passenger))),\n",
    "    train_input,\n",
    "    train_labels)"
   ]
  },
  {
   "cell_type": "code",
   "execution_count": 14,
   "metadata": {
    "tags": []
   },
   "outputs": [],
   "source": [
    "################################################\n",
    "## Variational Hybrid Quantum-Classical Algorithm with Passenger Information\n",
    "################################################"
   ]
  },
  {
   "cell_type": "code",
   "execution_count": 15,
   "metadata": {},
   "outputs": [],
   "source": [
    "# Listing 3.24: weigh a passenger's feature\n",
    "def weigh_feature(feature, weight):\n",
    "    \"\"\"\n",
    "    feature -- the single value of a passenger's feature\n",
    "    weight -- the overall weight of this feature\n",
    "    returns the weighted feature \n",
    "    \"\"\"\n",
    "    return feature*weight"
   ]
  },
  {
   "cell_type": "code",
   "execution_count": 16,
   "metadata": {},
   "outputs": [],
   "source": [
    "# Listing 3.25: Calculate the overall probability\n",
    "from functools import reduce\n",
    "\n",
    "def get_overall_probability(features, weights):\n",
    "    \"\"\"\n",
    "    features -- list of the features of a passenger\n",
    "    weights -- list of all features' weights\n",
    "    \"\"\"\n",
    "    return reduce(lambda result, data: result + weigh_feature(*data), zip(features, weights),0) #result = result + weigh_feature(features, weights), starting at 0."
   ]
  },
  {
   "cell_type": "code",
   "execution_count": 17,
   "metadata": {
    "scrolled": true,
    "tags": []
   },
   "outputs": [],
   "source": [
    "# separate the training data into a list of the columns\n",
    "columns = [list(map(lambda passenger: passenger[i], train_input)) for i in range(0,7)]\n",
    "#columns"
   ]
  },
  {
   "cell_type": "code",
   "execution_count": 18,
   "metadata": {},
   "outputs": [],
   "source": [
    "# Listing 3.26: Calculate the correlation coefficients\n",
    "from scipy.stats import spearmanr\n",
    "\n",
    "# calculate the correlation coefficient for each column\n",
    "correlations = list(map(lambda col: spearmanr(col, train_labels)[0], columns))\n",
    "#correlations"
   ]
  },
  {
   "cell_type": "code",
   "execution_count": 19,
   "metadata": {},
   "outputs": [
    {
     "data": {
      "text/html": [
       "<div>\n",
       "<style scoped>\n",
       "    .dataframe tbody tr th:only-of-type {\n",
       "        vertical-align: middle;\n",
       "    }\n",
       "\n",
       "    .dataframe tbody tr th {\n",
       "        vertical-align: top;\n",
       "    }\n",
       "\n",
       "    .dataframe thead th {\n",
       "        text-align: right;\n",
       "    }\n",
       "</style>\n",
       "<table border=\"1\" class=\"dataframe\">\n",
       "  <thead>\n",
       "    <tr style=\"text-align: right;\">\n",
       "      <th></th>\n",
       "      <th>Ranking Correlation = Feature Weight</th>\n",
       "    </tr>\n",
       "  </thead>\n",
       "  <tbody>\n",
       "    <tr>\n",
       "      <th>Pclass</th>\n",
       "      <td>-0.348351</td>\n",
       "    </tr>\n",
       "    <tr>\n",
       "      <th>Sex</th>\n",
       "      <td>-0.544111</td>\n",
       "    </tr>\n",
       "    <tr>\n",
       "      <th>Age</th>\n",
       "      <td>-0.016641</td>\n",
       "    </tr>\n",
       "    <tr>\n",
       "      <th>SibSp</th>\n",
       "      <td>0.107846</td>\n",
       "    </tr>\n",
       "    <tr>\n",
       "      <th>Parch</th>\n",
       "      <td>0.123085</td>\n",
       "    </tr>\n",
       "    <tr>\n",
       "      <th>Fare</th>\n",
       "      <td>0.326940</td>\n",
       "    </tr>\n",
       "    <tr>\n",
       "      <th>Embarked</th>\n",
       "      <td>-0.191683</td>\n",
       "    </tr>\n",
       "  </tbody>\n",
       "</table>\n",
       "</div>"
      ],
      "text/plain": [
       "          Ranking Correlation = Feature Weight\n",
       "Pclass                               -0.348351\n",
       "Sex                                  -0.544111\n",
       "Age                                  -0.016641\n",
       "SibSp                                 0.107846\n",
       "Parch                                 0.123085\n",
       "Fare                                  0.326940\n",
       "Embarked                             -0.191683"
      ]
     },
     "execution_count": 19,
     "metadata": {},
     "output_type": "execute_result"
    }
   ],
   "source": [
    "dcorr = pd.DataFrame(correlations,index =['Pclass','Sex','Age','SibSp','Parch','Fare','Embarked'], columns = ['Ranking Correlation = Feature Weight'])\n",
    "dcorr"
   ]
  },
  {
   "cell_type": "code",
   "execution_count": 20,
   "metadata": {},
   "outputs": [],
   "source": [
    "# Listing 3.27: The weighting pre‐processing\n",
    "from math import pi, sin, cos\n",
    "\n",
    "def get_state (theta):\n",
    "    \"\"\"returns a valid state vector from angle theta\"\"\"\n",
    "    return [cos(theta/2), sin(theta/2)]"
   ]
  },
  {
   "cell_type": "code",
   "execution_count": 21,
   "metadata": {},
   "outputs": [],
   "source": [
    "def pre_process_weighted(passenger):\n",
    "    \"\"\"\n",
    "    passenger -- the normalized (array of numeric data) passenger data\n",
    "    returns a valid quantum state\n",
    "    \"\"\"\n",
    "\n",
    "    # caluclate the overall probability\n",
    "    mu = get_overall_probability(passenger, correlations)\n",
    "    print('Overall Probability =', mu)\n",
    "        \n",
    "    # theta between 0 (|0>) and pi (|1>)\n",
    "    quantum_state = get_state((1-mu)*pi)\n",
    "    \n",
    "    vector2latex(quantum_state, pretext=\"|\\\\psi\\\\rangle =\")  \n",
    "\n",
    "    return quantum_state"
   ]
  },
  {
   "cell_type": "code",
   "execution_count": 22,
   "metadata": {},
   "outputs": [],
   "source": [
    "backend = Aer.get_backend('statevector_simulator') "
   ]
  },
  {
   "cell_type": "code",
   "execution_count": 23,
   "metadata": {
    "scrolled": true,
    "tags": []
   },
   "outputs": [
    {
     "name": "stdout",
     "output_type": "stream",
     "text": [
      "Overall Probability = -0.9072308497187229\n"
     ]
    },
    {
     "data": {
      "text/latex": [
       "$\\displaystyle \n",
       "$$ |\\psi\\rangle =\\begin{bmatrix}\n",
       "-0.98940 \\\\\n",
       "0.14521\\end{bmatrix} $"
      ],
      "text/plain": [
       "<IPython.core.display.Math object>"
      ]
     },
     "metadata": {},
     "output_type": "display_data"
    },
    {
     "name": "stdout",
     "output_type": "stream",
     "text": [
      "Salida counts = {'0': 1}\n",
      "Given the former angle theta and quantum state, the new prediction is:\n",
      "Prediction = 0\n",
      "int(Prediction) = 0 \n",
      "\n",
      "Overall Probability = -0.46481214951206384\n"
     ]
    },
    {
     "data": {
      "text/latex": [
       "$\\displaystyle \n",
       "$$ |\\psi\\rangle =\\begin{bmatrix}\n",
       "-0.66696 \\\\\n",
       "0.74509\\end{bmatrix} $"
      ],
      "text/plain": [
       "<IPython.core.display.Math object>"
      ]
     },
     "metadata": {},
     "output_type": "display_data"
    },
    {
     "name": "stdout",
     "output_type": "stream",
     "text": [
      "Salida counts = {'0': 1}\n",
      "Given the former angle theta and quantum state, the new prediction is:\n",
      "Prediction = 0\n",
      "int(Prediction) = 0 \n",
      "\n",
      "Overall Probability = -0.4269306339310004\n"
     ]
    },
    {
     "data": {
      "text/latex": [
       "$\\displaystyle \n",
       "$$ |\\psi\\rangle =\\begin{bmatrix}\n",
       "-0.62147 \\\\\n",
       "0.78344\\end{bmatrix} $"
      ],
      "text/plain": [
       "<IPython.core.display.Math object>"
      ]
     },
     "metadata": {},
     "output_type": "display_data"
    },
    {
     "name": "stdout",
     "output_type": "stream",
     "text": [
      "Salida counts = {'0': 1}\n",
      "Given the former angle theta and quantum state, the new prediction is:\n",
      "Prediction = 0\n",
      "int(Prediction) = 0 \n",
      "\n",
      "Overall Probability = -0.33175400091689317\n"
     ]
    },
    {
     "data": {
      "text/latex": [
       "$\\displaystyle \n",
       "$$ |\\psi\\rangle =\\begin{bmatrix}\n",
       "-0.49785 \\\\\n",
       "0.86726\\end{bmatrix} $"
      ],
      "text/plain": [
       "<IPython.core.display.Math object>"
      ]
     },
     "metadata": {},
     "output_type": "display_data"
    },
    {
     "name": "stdout",
     "output_type": "stream",
     "text": [
      "Salida counts = {'1': 1}\n",
      "Given the former angle theta and quantum state, the new prediction is:\n",
      "Prediction = 1\n",
      "int(Prediction) = 1 \n",
      "\n",
      "Overall Probability = -0.4085043078745657\n"
     ]
    },
    {
     "data": {
      "text/latex": [
       "$\\displaystyle \n",
       "$$ |\\psi\\rangle =\\begin{bmatrix}\n",
       "-0.59854 \\\\\n",
       "0.80109\\end{bmatrix} $"
      ],
      "text/plain": [
       "<IPython.core.display.Math object>"
      ]
     },
     "metadata": {},
     "output_type": "display_data"
    },
    {
     "name": "stdout",
     "output_type": "stream",
     "text": [
      "Salida counts = {'1': 1}\n",
      "Given the former angle theta and quantum state, the new prediction is:\n",
      "Prediction = 1\n",
      "int(Prediction) = 1 \n",
      "\n",
      "Overall Probability = 0.04904214788703966\n"
     ]
    },
    {
     "data": {
      "text/latex": [
       "$\\displaystyle \n",
       "$$ |\\psi\\rangle =\\begin{bmatrix}\n",
       "0.07696 \\\\\n",
       "0.99703\\end{bmatrix} $"
      ],
      "text/plain": [
       "<IPython.core.display.Math object>"
      ]
     },
     "metadata": {},
     "output_type": "display_data"
    },
    {
     "name": "stdout",
     "output_type": "stream",
     "text": [
      "Salida counts = {'1': 1}\n",
      "Given the former angle theta and quantum state, the new prediction is:\n",
      "Prediction = 1\n",
      "int(Prediction) = 1 \n",
      "\n",
      "Overall Probability = -0.8969976592085727\n"
     ]
    },
    {
     "data": {
      "text/latex": [
       "$\\displaystyle \n",
       "$$ |\\psi\\rangle =\\begin{bmatrix}\n",
       "-0.98694 \\\\\n",
       "0.16109\\end{bmatrix} $"
      ],
      "text/plain": [
       "<IPython.core.display.Math object>"
      ]
     },
     "metadata": {},
     "output_type": "display_data"
    },
    {
     "name": "stdout",
     "output_type": "stream",
     "text": [
      "Salida counts = {'0': 1}\n",
      "Given the former angle theta and quantum state, the new prediction is:\n",
      "Prediction = 0\n",
      "int(Prediction) = 0 \n",
      "\n",
      "Overall Probability = -0.48788645159775984\n"
     ]
    },
    {
     "data": {
      "text/latex": [
       "$\\displaystyle \n",
       "$$ |\\psi\\rangle =\\begin{bmatrix}\n",
       "-0.69352 \\\\\n",
       "0.72043\\end{bmatrix} $"
      ],
      "text/plain": [
       "<IPython.core.display.Math object>"
      ]
     },
     "metadata": {},
     "output_type": "display_data"
    },
    {
     "name": "stdout",
     "output_type": "stream",
     "text": [
      "Salida counts = {'0': 1}\n",
      "Given the former angle theta and quantum state, the new prediction is:\n",
      "Prediction = 0\n",
      "int(Prediction) = 0 \n",
      "\n",
      "Overall Probability = -0.9071533168759616\n"
     ]
    },
    {
     "data": {
      "text/latex": [
       "$\\displaystyle \n",
       "$$ |\\psi\\rangle =\\begin{bmatrix}\n",
       "-0.98938 \\\\\n",
       "0.14533\\end{bmatrix} $"
      ],
      "text/plain": [
       "<IPython.core.display.Math object>"
      ]
     },
     "metadata": {},
     "output_type": "display_data"
    },
    {
     "name": "stdout",
     "output_type": "stream",
     "text": [
      "Salida counts = {'0': 1}\n",
      "Given the former angle theta and quantum state, the new prediction is:\n",
      "Prediction = 0\n",
      "int(Prediction) = 0 \n",
      "\n",
      "Overall Probability = 0.10087132455966905\n"
     ]
    },
    {
     "data": {
      "text/latex": [
       "$\\displaystyle \n",
       "$$ |\\psi\\rangle =\\begin{bmatrix}\n",
       "0.15779 \\\\\n",
       "0.98747\\end{bmatrix} $"
      ],
      "text/plain": [
       "<IPython.core.display.Math object>"
      ]
     },
     "metadata": {},
     "output_type": "display_data"
    },
    {
     "name": "stdout",
     "output_type": "stream",
     "text": [
      "Salida counts = {'1': 1}\n",
      "Given the former angle theta and quantum state, the new prediction is:\n",
      "Prediction = 1\n",
      "int(Prediction) = 1 \n",
      "\n",
      "Overall Probability = -0.3425911095499906\n"
     ]
    },
    {
     "data": {
      "text/latex": [
       "$\\displaystyle \n",
       "$$ |\\psi\\rangle =\\begin{bmatrix}\n",
       "-0.51254 \\\\\n",
       "0.85866\\end{bmatrix} $"
      ],
      "text/plain": [
       "<IPython.core.display.Math object>"
      ]
     },
     "metadata": {},
     "output_type": "display_data"
    },
    {
     "name": "stdout",
     "output_type": "stream",
     "text": [
      "Salida counts = {'1': 1}\n",
      "Given the former angle theta and quantum state, the new prediction is:\n",
      "Prediction = 1\n",
      "int(Prediction) = 1 \n",
      "\n",
      "Overall Probability = -1.0879568438394602\n"
     ]
    },
    {
     "data": {
      "text/latex": [
       "$\\displaystyle \n",
       "$$ |\\psi\\rangle =\\begin{bmatrix}\n",
       "-0.99047 \\\\\n",
       "-0.13772\\end{bmatrix} $"
      ],
      "text/plain": [
       "<IPython.core.display.Math object>"
      ]
     },
     "metadata": {},
     "output_type": "display_data"
    },
    {
     "name": "stdout",
     "output_type": "stream",
     "text": [
      "Salida counts = {'0': 1}\n",
      "Given the former angle theta and quantum state, the new prediction is:\n",
      "Prediction = 0\n",
      "int(Prediction) = 0 \n",
      "\n",
      "Overall Probability = -0.8548478604404612\n"
     ]
    },
    {
     "data": {
      "text/latex": [
       "$\\displaystyle \n",
       "$$ |\\psi\\rangle =\\begin{bmatrix}\n",
       "-0.97412 \\\\\n",
       "0.22603\\end{bmatrix} $"
      ],
      "text/plain": [
       "<IPython.core.display.Math object>"
      ]
     },
     "metadata": {},
     "output_type": "display_data"
    },
    {
     "name": "stdout",
     "output_type": "stream",
     "text": [
      "Salida counts = {'0': 1}\n",
      "Given the former angle theta and quantum state, the new prediction is:\n",
      "Prediction = 0\n",
      "int(Prediction) = 0 \n",
      "\n",
      "Overall Probability = -0.9899779776556682\n"
     ]
    },
    {
     "data": {
      "text/latex": [
       "$\\displaystyle \n",
       "$$ |\\psi\\rangle =\\begin{bmatrix}\n",
       "-0.99988 \\\\\n",
       "0.01574\\end{bmatrix} $"
      ],
      "text/plain": [
       "<IPython.core.display.Math object>"
      ]
     },
     "metadata": {},
     "output_type": "display_data"
    },
    {
     "name": "stdout",
     "output_type": "stream",
     "text": [
      "Salida counts = {'0': 1}\n",
      "Given the former angle theta and quantum state, the new prediction is:\n",
      "Prediction = 0\n",
      "int(Prediction) = 0 \n",
      "\n",
      "Overall Probability = -0.3637476810455595\n"
     ]
    },
    {
     "data": {
      "text/latex": [
       "$\\displaystyle \n",
       "$$ |\\psi\\rangle =\\begin{bmatrix}\n",
       "-0.54079 \\\\\n",
       "0.84116\\end{bmatrix} $"
      ],
      "text/plain": [
       "<IPython.core.display.Math object>"
      ]
     },
     "metadata": {},
     "output_type": "display_data"
    },
    {
     "name": "stdout",
     "output_type": "stream",
     "text": [
      "Salida counts = {'1': 1}\n",
      "Given the former angle theta and quantum state, the new prediction is:\n",
      "Prediction = 1\n",
      "int(Prediction) = 1 \n",
      "\n",
      "Overall Probability = -1.0597743680716945\n"
     ]
    },
    {
     "data": {
      "text/latex": [
       "$\\displaystyle \n",
       "$$ |\\psi\\rangle =\\begin{bmatrix}\n",
       "-0.99560 \\\\\n",
       "-0.09376\\end{bmatrix} $"
      ],
      "text/plain": [
       "<IPython.core.display.Math object>"
      ]
     },
     "metadata": {},
     "output_type": "display_data"
    },
    {
     "name": "stdout",
     "output_type": "stream",
     "text": [
      "Salida counts = {'0': 1}\n",
      "Given the former angle theta and quantum state, the new prediction is:\n",
      "Prediction = 0\n",
      "int(Prediction) = 0 \n",
      "\n",
      "Overall Probability = -0.4430491287247045\n"
     ]
    },
    {
     "data": {
      "text/latex": [
       "$\\displaystyle \n",
       "$$ |\\psi\\rangle =\\begin{bmatrix}\n",
       "-0.64111 \\\\\n",
       "0.76745\\end{bmatrix} $"
      ],
      "text/plain": [
       "<IPython.core.display.Math object>"
      ]
     },
     "metadata": {},
     "output_type": "display_data"
    },
    {
     "name": "stdout",
     "output_type": "stream",
     "text": [
      "Salida counts = {'1': 1}\n",
      "Given the former angle theta and quantum state, the new prediction is:\n",
      "Prediction = 1\n",
      "int(Prediction) = 1 \n",
      "\n",
      "Overall Probability = -0.45190164111247155\n"
     ]
    },
    {
     "data": {
      "text/latex": [
       "$\\displaystyle \n",
       "$$ |\\psi\\rangle =\\begin{bmatrix}\n",
       "-0.65172 \\\\\n",
       "0.75846\\end{bmatrix} $"
      ],
      "text/plain": [
       "<IPython.core.display.Math object>"
      ]
     },
     "metadata": {},
     "output_type": "display_data"
    },
    {
     "name": "stdout",
     "output_type": "stream",
     "text": [
      "Salida counts = {'1': 1}\n",
      "Given the former angle theta and quantum state, the new prediction is:\n",
      "Prediction = 1\n",
      "int(Prediction) = 1 \n",
      "\n",
      "Overall Probability = -0.9885020449125361\n"
     ]
    },
    {
     "data": {
      "text/latex": [
       "$\\displaystyle \n",
       "$$ |\\psi\\rangle =\\begin{bmatrix}\n",
       "-0.99984 \\\\\n",
       "0.01806\\end{bmatrix} $"
      ],
      "text/plain": [
       "<IPython.core.display.Math object>"
      ]
     },
     "metadata": {},
     "output_type": "display_data"
    },
    {
     "name": "stdout",
     "output_type": "stream",
     "text": [
      "Salida counts = {'0': 1}\n",
      "Given the former angle theta and quantum state, the new prediction is:\n",
      "Prediction = 0\n",
      "int(Prediction) = 0 \n",
      "\n",
      "Overall Probability = -0.4425529050973378\n"
     ]
    },
    {
     "data": {
      "text/latex": [
       "$\\displaystyle \n",
       "$$ |\\psi\\rangle =\\begin{bmatrix}\n",
       "-0.64051 \\\\\n",
       "0.76795\\end{bmatrix} $"
      ],
      "text/plain": [
       "<IPython.core.display.Math object>"
      ]
     },
     "metadata": {},
     "output_type": "display_data"
    },
    {
     "name": "stdout",
     "output_type": "stream",
     "text": [
      "Salida counts = {'0': 1}\n",
      "Given the former angle theta and quantum state, the new prediction is:\n",
      "Prediction = 0\n",
      "int(Prediction) = 0 \n",
      "\n",
      "Overall Probability = -1.070841467133318\n"
     ]
    },
    {
     "data": {
      "text/latex": [
       "$\\displaystyle \n",
       "$$ |\\psi\\rangle =\\begin{bmatrix}\n",
       "-0.99382 \\\\\n",
       "-0.11105\\end{bmatrix} $"
      ],
      "text/plain": [
       "<IPython.core.display.Math object>"
      ]
     },
     "metadata": {},
     "output_type": "display_data"
    },
    {
     "name": "stdout",
     "output_type": "stream",
     "text": [
      "Salida counts = {'0': 1}\n",
      "Given the former angle theta and quantum state, the new prediction is:\n",
      "Prediction = 0\n",
      "int(Prediction) = 0 \n",
      "\n",
      "Overall Probability = -0.4435606088442612\n"
     ]
    },
    {
     "data": {
      "text/latex": [
       "$\\displaystyle \n",
       "$$ |\\psi\\rangle =\\begin{bmatrix}\n",
       "-0.64172 \\\\\n",
       "0.76694\\end{bmatrix} $"
      ],
      "text/plain": [
       "<IPython.core.display.Math object>"
      ]
     },
     "metadata": {},
     "output_type": "display_data"
    },
    {
     "name": "stdout",
     "output_type": "stream",
     "text": [
      "Salida counts = {'1': 1}\n",
      "Given the former angle theta and quantum state, the new prediction is:\n",
      "Prediction = 1\n",
      "int(Prediction) = 1 \n",
      "\n",
      "Overall Probability = -1.065319811803422\n"
     ]
    },
    {
     "data": {
      "text/latex": [
       "$\\displaystyle \n",
       "$$ |\\psi\\rangle =\\begin{bmatrix}\n",
       "-0.99474 \\\\\n",
       "-0.10242\\end{bmatrix} $"
      ],
      "text/plain": [
       "<IPython.core.display.Math object>"
      ]
     },
     "metadata": {},
     "output_type": "display_data"
    },
    {
     "name": "stdout",
     "output_type": "stream",
     "text": [
      "Salida counts = {'0': 1}\n",
      "Given the former angle theta and quantum state, the new prediction is:\n",
      "Prediction = 0\n",
      "int(Prediction) = 0 \n",
      "\n",
      "Overall Probability = 0.06464877409010415\n"
     ]
    },
    {
     "data": {
      "text/latex": [
       "$\\displaystyle \n",
       "$$ |\\psi\\rangle =\\begin{bmatrix}\n",
       "0.10138 \\\\\n",
       "0.99485\\end{bmatrix} $"
      ],
      "text/plain": [
       "<IPython.core.display.Math object>"
      ]
     },
     "metadata": {},
     "output_type": "display_data"
    },
    {
     "name": "stdout",
     "output_type": "stream",
     "text": [
      "Salida counts = {'1': 1}\n",
      "Given the former angle theta and quantum state, the new prediction is:\n",
      "Prediction = 1\n",
      "int(Prediction) = 1 \n",
      "\n",
      "Overall Probability = -0.8911002791336133\n"
     ]
    },
    {
     "data": {
      "text/latex": [
       "$\\displaystyle \n",
       "$$ |\\psi\\rangle =\\begin{bmatrix}\n",
       "-0.98541 \\\\\n",
       "0.17023\\end{bmatrix} $"
      ],
      "text/plain": [
       "<IPython.core.display.Math object>"
      ]
     },
     "metadata": {},
     "output_type": "display_data"
    },
    {
     "name": "stdout",
     "output_type": "stream",
     "text": [
      "Salida counts = {'0': 1}\n",
      "Given the former angle theta and quantum state, the new prediction is:\n",
      "Prediction = 0\n",
      "int(Prediction) = 0 \n",
      "\n",
      "Overall Probability = -1.0838487186224766\n"
     ]
    },
    {
     "data": {
      "text/latex": [
       "$\\displaystyle \n",
       "$$ |\\psi\\rangle =\\begin{bmatrix}\n",
       "-0.99134 \\\\\n",
       "-0.13133\\end{bmatrix} $"
      ],
      "text/plain": [
       "<IPython.core.display.Math object>"
      ]
     },
     "metadata": {},
     "output_type": "display_data"
    },
    {
     "name": "stdout",
     "output_type": "stream",
     "text": [
      "Salida counts = {'0': 1}\n",
      "Given the former angle theta and quantum state, the new prediction is:\n",
      "Prediction = 0\n",
      "int(Prediction) = 0 \n",
      "\n",
      "Overall Probability = -1.0829904254891745\n"
     ]
    },
    {
     "data": {
      "text/latex": [
       "$\\displaystyle \n",
       "$$ |\\psi\\rangle =\\begin{bmatrix}\n",
       "-0.99152 \\\\\n",
       "-0.12999\\end{bmatrix} $"
      ],
      "text/plain": [
       "<IPython.core.display.Math object>"
      ]
     },
     "metadata": {},
     "output_type": "display_data"
    },
    {
     "name": "stdout",
     "output_type": "stream",
     "text": [
      "Salida counts = {'0': 1}\n",
      "Given the former angle theta and quantum state, the new prediction is:\n",
      "Prediction = 0\n",
      "int(Prediction) = 0 \n",
      "\n",
      "Overall Probability = -0.6670715792043456\n"
     ]
    },
    {
     "data": {
      "text/latex": [
       "$\\displaystyle \n",
       "$$ |\\psi\\rangle =\\begin{bmatrix}\n",
       "-0.86634 \\\\\n",
       "0.49945\\end{bmatrix} $"
      ],
      "text/plain": [
       "<IPython.core.display.Math object>"
      ]
     },
     "metadata": {},
     "output_type": "display_data"
    },
    {
     "name": "stdout",
     "output_type": "stream",
     "text": [
      "Salida counts = {'1': 1}\n",
      "Given the former angle theta and quantum state, the new prediction is:\n",
      "Prediction = 1\n",
      "int(Prediction) = 1 \n",
      "\n",
      "Overall Probability = -1.0895835892699668\n"
     ]
    },
    {
     "data": {
      "text/latex": [
       "$\\displaystyle \n",
       "$$ |\\psi\\rangle =\\begin{bmatrix}\n",
       "-0.99012 \\\\\n",
       "-0.14025\\end{bmatrix} $"
      ],
      "text/plain": [
       "<IPython.core.display.Math object>"
      ]
     },
     "metadata": {},
     "output_type": "display_data"
    },
    {
     "name": "stdout",
     "output_type": "stream",
     "text": [
      "Salida counts = {'0': 1}\n",
      "Given the former angle theta and quantum state, the new prediction is:\n",
      "Prediction = 0\n",
      "int(Prediction) = 0 \n",
      "\n",
      "Overall Probability = -0.8968645747940646\n"
     ]
    },
    {
     "data": {
      "text/latex": [
       "$\\displaystyle \n",
       "$$ |\\psi\\rangle =\\begin{bmatrix}\n",
       "-0.98691 \\\\\n",
       "0.16130\\end{bmatrix} $"
      ],
      "text/plain": [
       "<IPython.core.display.Math object>"
      ]
     },
     "metadata": {},
     "output_type": "display_data"
    },
    {
     "name": "stdout",
     "output_type": "stream",
     "text": [
      "Salida counts = {'0': 1}\n",
      "Given the former angle theta and quantum state, the new prediction is:\n",
      "Prediction = 0\n",
      "int(Prediction) = 0 \n",
      "\n",
      "Overall Probability = -0.3279347402686018\n"
     ]
    },
    {
     "data": {
      "text/latex": [
       "$\\displaystyle \n",
       "$$ |\\psi\\rangle =\\begin{bmatrix}\n",
       "-0.49264 \\\\\n",
       "0.87023\\end{bmatrix} $"
      ],
      "text/plain": [
       "<IPython.core.display.Math object>"
      ]
     },
     "metadata": {},
     "output_type": "display_data"
    },
    {
     "name": "stdout",
     "output_type": "stream",
     "text": [
      "Salida counts = {'1': 1}\n",
      "Given the former angle theta and quantum state, the new prediction is:\n",
      "Prediction = 1\n",
      "int(Prediction) = 1 \n",
      "\n",
      "Overall Probability = -0.505261453240863\n"
     ]
    },
    {
     "data": {
      "text/latex": [
       "$\\displaystyle \n",
       "$$ |\\psi\\rangle =\\begin{bmatrix}\n",
       "-0.71293 \\\\\n",
       "0.70124\\end{bmatrix} $"
      ],
      "text/plain": [
       "<IPython.core.display.Math object>"
      ]
     },
     "metadata": {},
     "output_type": "display_data"
    },
    {
     "name": "stdout",
     "output_type": "stream",
     "text": [
      "Salida counts = {'0': 1}\n",
      "Given the former angle theta and quantum state, the new prediction is:\n",
      "Prediction = 0\n",
      "int(Prediction) = 0 \n",
      "\n",
      "Overall Probability = -1.0721432469965084\n"
     ]
    },
    {
     "data": {
      "text/latex": [
       "$\\displaystyle \n",
       "$$ |\\psi\\rangle =\\begin{bmatrix}\n",
       "-0.99359 \\\\\n",
       "-0.11308\\end{bmatrix} $"
      ],
      "text/plain": [
       "<IPython.core.display.Math object>"
      ]
     },
     "metadata": {},
     "output_type": "display_data"
    },
    {
     "name": "stdout",
     "output_type": "stream",
     "text": [
      "Salida counts = {'0': 1}\n",
      "Given the former angle theta and quantum state, the new prediction is:\n",
      "Prediction = 0\n",
      "int(Prediction) = 0 \n",
      "\n",
      "Overall Probability = -0.35288715627025447\n"
     ]
    },
    {
     "data": {
      "text/latex": [
       "$\\displaystyle \n",
       "$$ |\\psi\\rangle =\\begin{bmatrix}\n",
       "-0.52636 \\\\\n",
       "0.85026\\end{bmatrix} $"
      ],
      "text/plain": [
       "<IPython.core.display.Math object>"
      ]
     },
     "metadata": {},
     "output_type": "display_data"
    },
    {
     "name": "stdout",
     "output_type": "stream",
     "text": [
      "Salida counts = {'1': 1}\n",
      "Given the former angle theta and quantum state, the new prediction is:\n",
      "Prediction = 1\n",
      "int(Prediction) = 1 \n",
      "\n",
      "Overall Probability = -0.9006078767313501\n"
     ]
    },
    {
     "data": {
      "text/latex": [
       "$\\displaystyle \n",
       "$$ |\\psi\\rangle =\\begin{bmatrix}\n",
       "-0.98784 \\\\\n",
       "0.15549\\end{bmatrix} $"
      ],
      "text/plain": [
       "<IPython.core.display.Math object>"
      ]
     },
     "metadata": {},
     "output_type": "display_data"
    },
    {
     "name": "stdout",
     "output_type": "stream",
     "text": [
      "Salida counts = {'0': 1}\n",
      "Given the former angle theta and quantum state, the new prediction is:\n",
      "Prediction = 0\n",
      "int(Prediction) = 0 \n",
      "\n",
      "Overall Probability = -0.2798193036266502\n"
     ]
    },
    {
     "data": {
      "text/latex": [
       "$\\displaystyle \n",
       "$$ |\\psi\\rangle =\\begin{bmatrix}\n",
       "-0.42552 \\\\\n",
       "0.90495\\end{bmatrix} $"
      ],
      "text/plain": [
       "<IPython.core.display.Math object>"
      ]
     },
     "metadata": {},
     "output_type": "display_data"
    },
    {
     "name": "stdout",
     "output_type": "stream",
     "text": [
      "Salida counts = {'1': 1}\n",
      "Given the former angle theta and quantum state, the new prediction is:\n",
      "Prediction = 1\n",
      "int(Prediction) = 1 \n",
      "\n",
      "Overall Probability = -0.9107082110451714\n"
     ]
    },
    {
     "data": {
      "text/latex": [
       "$\\displaystyle \n",
       "$$ |\\psi\\rangle =\\begin{bmatrix}\n",
       "-0.99018 \\\\\n",
       "0.13980\\end{bmatrix} $"
      ],
      "text/plain": [
       "<IPython.core.display.Math object>"
      ]
     },
     "metadata": {},
     "output_type": "display_data"
    },
    {
     "name": "stdout",
     "output_type": "stream",
     "text": [
      "Salida counts = {'0': 1}\n",
      "Given the former angle theta and quantum state, the new prediction is:\n",
      "Prediction = 0\n",
      "int(Prediction) = 0 \n",
      "\n",
      "Overall Probability = -0.37098904796293597\n"
     ]
    },
    {
     "data": {
      "text/latex": [
       "$\\displaystyle \n",
       "$$ |\\psi\\rangle =\\begin{bmatrix}\n",
       "-0.55032 \\\\\n",
       "0.83495\\end{bmatrix} $"
      ],
      "text/plain": [
       "<IPython.core.display.Math object>"
      ]
     },
     "metadata": {},
     "output_type": "display_data"
    },
    {
     "name": "stdout",
     "output_type": "stream",
     "text": [
      "Salida counts = {'0': 1}\n",
      "Given the former angle theta and quantum state, the new prediction is:\n",
      "Prediction = 0\n",
      "int(Prediction) = 0 \n",
      "\n",
      "Overall Probability = -0.5259451829007542\n"
     ]
    },
    {
     "data": {
      "text/latex": [
       "$\\displaystyle \n",
       "$$ |\\psi\\rangle =\\begin{bmatrix}\n",
       "-0.73533 \\\\\n",
       "0.67771\\end{bmatrix} $"
      ],
      "text/plain": [
       "<IPython.core.display.Math object>"
      ]
     },
     "metadata": {},
     "output_type": "display_data"
    },
    {
     "name": "stdout",
     "output_type": "stream",
     "text": [
      "Salida counts = {'0': 1}\n",
      "Given the former angle theta and quantum state, the new prediction is:\n",
      "Prediction = 0\n",
      "int(Prediction) = 0 \n",
      "\n",
      "Overall Probability = -0.72096516559839\n"
     ]
    },
    {
     "data": {
      "text/latex": [
       "$\\displaystyle \n",
       "$$ |\\psi\\rangle =\\begin{bmatrix}\n",
       "-0.90547 \\\\\n",
       "0.42441\\end{bmatrix} $"
      ],
      "text/plain": [
       "<IPython.core.display.Math object>"
      ]
     },
     "metadata": {},
     "output_type": "display_data"
    },
    {
     "name": "stdout",
     "output_type": "stream",
     "text": [
      "Salida counts = {'0': 1}\n",
      "Given the former angle theta and quantum state, the new prediction is:\n",
      "Prediction = 0\n",
      "int(Prediction) = 0 \n",
      "\n",
      "Overall Probability = -1.085215808623024\n"
     ]
    },
    {
     "data": {
      "text/latex": [
       "$\\displaystyle \n",
       "$$ |\\psi\\rangle =\\begin{bmatrix}\n",
       "-0.99105 \\\\\n",
       "-0.13346\\end{bmatrix} $"
      ],
      "text/plain": [
       "<IPython.core.display.Math object>"
      ]
     },
     "metadata": {},
     "output_type": "display_data"
    },
    {
     "name": "stdout",
     "output_type": "stream",
     "text": [
      "Salida counts = {'0': 1}\n",
      "Given the former angle theta and quantum state, the new prediction is:\n",
      "Prediction = 0\n",
      "int(Prediction) = 0 \n",
      "\n",
      "Overall Probability = -0.4049305309931181\n"
     ]
    },
    {
     "data": {
      "text/latex": [
       "$\\displaystyle \n",
       "$$ |\\psi\\rangle =\\begin{bmatrix}\n",
       "-0.59403 \\\\\n",
       "0.80444\\end{bmatrix} $"
      ],
      "text/plain": [
       "<IPython.core.display.Math object>"
      ]
     },
     "metadata": {},
     "output_type": "display_data"
    },
    {
     "name": "stdout",
     "output_type": "stream",
     "text": [
      "Salida counts = {'1': 1}\n",
      "Given the former angle theta and quantum state, the new prediction is:\n",
      "Prediction = 1\n",
      "int(Prediction) = 1 \n",
      "\n",
      "Overall Probability = -1.0826829123532653\n"
     ]
    },
    {
     "data": {
      "text/latex": [
       "$\\displaystyle \n",
       "$$ |\\psi\\rangle =\\begin{bmatrix}\n",
       "-0.99158 \\\\\n",
       "-0.12951\\end{bmatrix} $"
      ],
      "text/plain": [
       "<IPython.core.display.Math object>"
      ]
     },
     "metadata": {},
     "output_type": "display_data"
    },
    {
     "name": "stdout",
     "output_type": "stream",
     "text": [
      "Salida counts = {'0': 1}\n",
      "Given the former angle theta and quantum state, the new prediction is:\n",
      "Prediction = 0\n",
      "int(Prediction) = 0 \n",
      "\n",
      "Overall Probability = -0.3645841267324324\n"
     ]
    },
    {
     "data": {
      "text/latex": [
       "$\\displaystyle \n",
       "$$ |\\psi\\rangle =\\begin{bmatrix}\n",
       "-0.54189 \\\\\n",
       "0.84045\\end{bmatrix} $"
      ],
      "text/plain": [
       "<IPython.core.display.Math object>"
      ]
     },
     "metadata": {},
     "output_type": "display_data"
    },
    {
     "name": "stdout",
     "output_type": "stream",
     "text": [
      "Salida counts = {'1': 1}\n",
      "Given the former angle theta and quantum state, the new prediction is:\n",
      "Prediction = 1\n",
      "int(Prediction) = 1 \n",
      "\n",
      "Overall Probability = -0.9709571682745497\n"
     ]
    },
    {
     "data": {
      "text/latex": [
       "$\\displaystyle \n",
       "$$ |\\psi\\rangle =\\begin{bmatrix}\n",
       "-0.99896 \\\\\n",
       "0.04560\\end{bmatrix} $"
      ],
      "text/plain": [
       "<IPython.core.display.Math object>"
      ]
     },
     "metadata": {},
     "output_type": "display_data"
    },
    {
     "name": "stdout",
     "output_type": "stream",
     "text": [
      "Salida counts = {'0': 1}\n",
      "Given the former angle theta and quantum state, the new prediction is:\n",
      "Prediction = 0\n",
      "int(Prediction) = 0 \n",
      "\n",
      "Overall Probability = -0.4855971981466821\n"
     ]
    },
    {
     "data": {
      "text/latex": [
       "$\\displaystyle \n",
       "$$ |\\psi\\rangle =\\begin{bmatrix}\n",
       "-0.69093 \\\\\n",
       "0.72292\\end{bmatrix} $"
      ],
      "text/plain": [
       "<IPython.core.display.Math object>"
      ]
     },
     "metadata": {},
     "output_type": "display_data"
    },
    {
     "name": "stdout",
     "output_type": "stream",
     "text": [
      "Salida counts = {'0': 1}\n",
      "Given the former angle theta and quantum state, the new prediction is:\n",
      "Prediction = 0\n",
      "int(Prediction) = 0 \n",
      "\n",
      "Overall Probability = -1.0890149249079806\n"
     ]
    },
    {
     "data": {
      "text/latex": [
       "$\\displaystyle \n",
       "$$ |\\psi\\rangle =\\begin{bmatrix}\n",
       "-0.99024 \\\\\n",
       "-0.13937\\end{bmatrix} $"
      ],
      "text/plain": [
       "<IPython.core.display.Math object>"
      ]
     },
     "metadata": {},
     "output_type": "display_data"
    },
    {
     "name": "stdout",
     "output_type": "stream",
     "text": [
      "Salida counts = {'0': 1}\n",
      "Given the former angle theta and quantum state, the new prediction is:\n",
      "Prediction = 0\n",
      "int(Prediction) = 0 \n",
      "\n",
      "Overall Probability = -0.540211678805383\n"
     ]
    },
    {
     "data": {
      "text/latex": [
       "$\\displaystyle \n",
       "$$ |\\psi\\rangle =\\begin{bmatrix}\n",
       "-0.75033 \\\\\n",
       "0.66106\\end{bmatrix} $"
      ],
      "text/plain": [
       "<IPython.core.display.Math object>"
      ]
     },
     "metadata": {},
     "output_type": "display_data"
    },
    {
     "name": "stdout",
     "output_type": "stream",
     "text": [
      "Salida counts = {'1': 1}\n",
      "Given the former angle theta and quantum state, the new prediction is:\n",
      "Prediction = 1\n",
      "int(Prediction) = 1 \n",
      "\n",
      "Overall Probability = -0.30619856248149263\n"
     ]
    },
    {
     "data": {
      "text/latex": [
       "$\\displaystyle \n",
       "$$ |\\psi\\rangle =\\begin{bmatrix}\n",
       "-0.46264 \\\\\n",
       "0.88654\\end{bmatrix} $"
      ],
      "text/plain": [
       "<IPython.core.display.Math object>"
      ]
     },
     "metadata": {},
     "output_type": "display_data"
    },
    {
     "name": "stdout",
     "output_type": "stream",
     "text": [
      "Salida counts = {'1': 1}\n",
      "Given the former angle theta and quantum state, the new prediction is:\n",
      "Prediction = 1\n",
      "int(Prediction) = 1 \n",
      "\n",
      "Overall Probability = -0.531250867558171\n"
     ]
    },
    {
     "data": {
      "text/latex": [
       "$\\displaystyle \n",
       "$$ |\\psi\\rangle =\\begin{bmatrix}\n",
       "-0.74095 \\\\\n",
       "0.67156\\end{bmatrix} $"
      ],
      "text/plain": [
       "<IPython.core.display.Math object>"
      ]
     },
     "metadata": {},
     "output_type": "display_data"
    },
    {
     "name": "stdout",
     "output_type": "stream",
     "text": [
      "Salida counts = {'0': 1}\n",
      "Given the former angle theta and quantum state, the new prediction is:\n",
      "Prediction = 0\n",
      "int(Prediction) = 0 \n",
      "\n",
      "Overall Probability = -1.085158627430574\n"
     ]
    },
    {
     "data": {
      "text/latex": [
       "$\\displaystyle \n",
       "$$ |\\psi\\rangle =\\begin{bmatrix}\n",
       "-0.99107 \\\\\n",
       "-0.13337\\end{bmatrix} $"
      ],
      "text/plain": [
       "<IPython.core.display.Math object>"
      ]
     },
     "metadata": {},
     "output_type": "display_data"
    },
    {
     "name": "stdout",
     "output_type": "stream",
     "text": [
      "Salida counts = {'0': 1}\n",
      "Given the former angle theta and quantum state, the new prediction is:\n",
      "Prediction = 0\n",
      "int(Prediction) = 0 \n",
      "\n",
      "Overall Probability = -0.9790019109624959\n"
     ]
    },
    {
     "data": {
      "text/latex": [
       "$\\displaystyle \n",
       "$$ |\\psi\\rangle =\\begin{bmatrix}\n",
       "-0.99946 \\\\\n",
       "0.03298\\end{bmatrix} $"
      ],
      "text/plain": [
       "<IPython.core.display.Math object>"
      ]
     },
     "metadata": {},
     "output_type": "display_data"
    },
    {
     "name": "stdout",
     "output_type": "stream",
     "text": [
      "Salida counts = {'0': 1}\n",
      "Given the former angle theta and quantum state, the new prediction is:\n",
      "Prediction = 0\n",
      "int(Prediction) = 0 \n",
      "\n",
      "Overall Probability = -0.49754919488995764\n"
     ]
    },
    {
     "data": {
      "text/latex": [
       "$\\displaystyle \n",
       "$$ |\\psi\\rangle =\\begin{bmatrix}\n",
       "-0.70438 \\\\\n",
       "0.70982\\end{bmatrix} $"
      ],
      "text/plain": [
       "<IPython.core.display.Math object>"
      ]
     },
     "metadata": {},
     "output_type": "display_data"
    },
    {
     "name": "stdout",
     "output_type": "stream",
     "text": [
      "Salida counts = {'1': 1}\n",
      "Given the former angle theta and quantum state, the new prediction is:\n",
      "Prediction = 1\n",
      "int(Prediction) = 1 \n",
      "\n",
      "Overall Probability = -0.5131730002075656\n"
     ]
    },
    {
     "data": {
      "text/latex": [
       "$\\displaystyle \n",
       "$$ |\\psi\\rangle =\\begin{bmatrix}\n",
       "-0.72159 \\\\\n",
       "0.69232\\end{bmatrix} $"
      ],
      "text/plain": [
       "<IPython.core.display.Math object>"
      ]
     },
     "metadata": {},
     "output_type": "display_data"
    },
    {
     "name": "stdout",
     "output_type": "stream",
     "text": [
      "Salida counts = {'0': 1}\n",
      "Given the former angle theta and quantum state, the new prediction is:\n",
      "Prediction = 0\n",
      "int(Prediction) = 0 \n",
      "\n",
      "Overall Probability = -1.081339381561858\n"
     ]
    },
    {
     "data": {
      "text/latex": [
       "$\\displaystyle \n",
       "$$ |\\psi\\rangle =\\begin{bmatrix}\n",
       "-0.99185 \\\\\n",
       "-0.12742\\end{bmatrix} $"
      ],
      "text/plain": [
       "<IPython.core.display.Math object>"
      ]
     },
     "metadata": {},
     "output_type": "display_data"
    },
    {
     "name": "stdout",
     "output_type": "stream",
     "text": [
      "Salida counts = {'0': 1}\n",
      "Given the former angle theta and quantum state, the new prediction is:\n",
      "Prediction = 0\n",
      "int(Prediction) = 0 \n",
      "\n",
      "Overall Probability = -1.0166263463784608\n"
     ]
    },
    {
     "data": {
      "text/latex": [
       "$\\displaystyle \n",
       "$$ |\\psi\\rangle =\\begin{bmatrix}\n",
       "-0.99966 \\\\\n",
       "-0.02611\\end{bmatrix} $"
      ],
      "text/plain": [
       "<IPython.core.display.Math object>"
      ]
     },
     "metadata": {},
     "output_type": "display_data"
    },
    {
     "name": "stdout",
     "output_type": "stream",
     "text": [
      "Salida counts = {'0': 1}\n",
      "Given the former angle theta and quantum state, the new prediction is:\n",
      "Prediction = 0\n",
      "int(Prediction) = 0 \n",
      "\n",
      "Overall Probability = -0.5389260684940957\n"
     ]
    },
    {
     "data": {
      "text/latex": [
       "$\\displaystyle \n",
       "$$ |\\psi\\rangle =\\begin{bmatrix}\n",
       "-0.74899 \\\\\n",
       "0.66258\\end{bmatrix} $"
      ],
      "text/plain": [
       "<IPython.core.display.Math object>"
      ]
     },
     "metadata": {},
     "output_type": "display_data"
    },
    {
     "name": "stdout",
     "output_type": "stream",
     "text": [
      "Salida counts = {'0': 1}\n",
      "Given the former angle theta and quantum state, the new prediction is:\n",
      "Prediction = 0\n",
      "int(Prediction) = 0 \n",
      "\n",
      "Overall Probability = -0.8569017720995347\n"
     ]
    },
    {
     "data": {
      "text/latex": [
       "$\\displaystyle \n",
       "$$ |\\psi\\rangle =\\begin{bmatrix}\n",
       "-0.97484 \\\\\n",
       "0.22289\\end{bmatrix} $"
      ],
      "text/plain": [
       "<IPython.core.display.Math object>"
      ]
     },
     "metadata": {},
     "output_type": "display_data"
    },
    {
     "name": "stdout",
     "output_type": "stream",
     "text": [
      "Salida counts = {'0': 1}\n",
      "Given the former angle theta and quantum state, the new prediction is:\n",
      "Prediction = 0\n",
      "int(Prediction) = 0 \n",
      "\n",
      "Overall Probability = -0.5387478988533554\n"
     ]
    },
    {
     "data": {
      "text/latex": [
       "$\\displaystyle \n",
       "$$ |\\psi\\rangle =\\begin{bmatrix}\n",
       "-0.74881 \\\\\n",
       "0.66279\\end{bmatrix} $"
      ],
      "text/plain": [
       "<IPython.core.display.Math object>"
      ]
     },
     "metadata": {},
     "output_type": "display_data"
    },
    {
     "name": "stdout",
     "output_type": "stream",
     "text": [
      "Salida counts = {'0': 1}\n",
      "Given the former angle theta and quantum state, the new prediction is:\n",
      "Prediction = 0\n",
      "int(Prediction) = 0 \n",
      "\n",
      "Overall Probability = -1.081955157256725\n"
     ]
    },
    {
     "data": {
      "text/latex": [
       "$\\displaystyle \n",
       "$$ |\\psi\\rangle =\\begin{bmatrix}\n",
       "-0.99173 \\\\\n",
       "-0.12838\\end{bmatrix} $"
      ],
      "text/plain": [
       "<IPython.core.display.Math object>"
      ]
     },
     "metadata": {},
     "output_type": "display_data"
    },
    {
     "name": "stdout",
     "output_type": "stream",
     "text": [
      "Salida counts = {'0': 1}\n",
      "Given the former angle theta and quantum state, the new prediction is:\n",
      "Prediction = 0\n",
      "int(Prediction) = 0 \n",
      "\n",
      "Overall Probability = -0.36952526801090835\n"
     ]
    },
    {
     "data": {
      "text/latex": [
       "$\\displaystyle \n",
       "$$ |\\psi\\rangle =\\begin{bmatrix}\n",
       "-0.54840 \\\\\n",
       "0.83622\\end{bmatrix} $"
      ],
      "text/plain": [
       "<IPython.core.display.Math object>"
      ]
     },
     "metadata": {},
     "output_type": "display_data"
    },
    {
     "name": "stdout",
     "output_type": "stream",
     "text": [
      "Salida counts = {'1': 1}\n",
      "Given the former angle theta and quantum state, the new prediction is:\n",
      "Prediction = 1\n",
      "int(Prediction) = 1 \n",
      "\n",
      "Overall Probability = -0.5382579618757235\n"
     ]
    },
    {
     "data": {
      "text/latex": [
       "$\\displaystyle \n",
       "$$ |\\psi\\rangle =\\begin{bmatrix}\n",
       "-0.74830 \\\\\n",
       "0.66336\\end{bmatrix} $"
      ],
      "text/plain": [
       "<IPython.core.display.Math object>"
      ]
     },
     "metadata": {},
     "output_type": "display_data"
    },
    {
     "name": "stdout",
     "output_type": "stream",
     "text": [
      "Salida counts = {'0': 1}\n",
      "Given the former angle theta and quantum state, the new prediction is:\n",
      "Prediction = 0\n",
      "int(Prediction) = 0 \n",
      "\n",
      "Overall Probability = -0.8956099062637551\n"
     ]
    },
    {
     "data": {
      "text/latex": [
       "$\\displaystyle \n",
       "$$ |\\psi\\rangle =\\begin{bmatrix}\n",
       "-0.98659 \\\\\n",
       "0.16324\\end{bmatrix} $"
      ],
      "text/plain": [
       "<IPython.core.display.Math object>"
      ]
     },
     "metadata": {},
     "output_type": "display_data"
    },
    {
     "name": "stdout",
     "output_type": "stream",
     "text": [
      "Salida counts = {'0': 1}\n",
      "Given the former angle theta and quantum state, the new prediction is:\n",
      "Prediction = 0\n",
      "int(Prediction) = 0 \n",
      "\n",
      "Overall Probability = -0.9475772539794087\n"
     ]
    },
    {
     "data": {
      "text/latex": [
       "$\\displaystyle \n",
       "$$ |\\psi\\rangle =\\begin{bmatrix}\n",
       "-0.99661 \\\\\n",
       "0.08225\\end{bmatrix} $"
      ],
      "text/plain": [
       "<IPython.core.display.Math object>"
      ]
     },
     "metadata": {},
     "output_type": "display_data"
    },
    {
     "name": "stdout",
     "output_type": "stream",
     "text": [
      "Salida counts = {'0': 1}\n",
      "Given the former angle theta and quantum state, the new prediction is:\n",
      "Prediction = 0\n",
      "int(Prediction) = 0 \n",
      "\n",
      "Overall Probability = -0.9136033435075093\n"
     ]
    },
    {
     "data": {
      "text/latex": [
       "$\\displaystyle \n",
       "$$ |\\psi\\rangle =\\begin{bmatrix}\n",
       "-0.99081 \\\\\n",
       "0.13530\\end{bmatrix} $"
      ],
      "text/plain": [
       "<IPython.core.display.Math object>"
      ]
     },
     "metadata": {},
     "output_type": "display_data"
    },
    {
     "name": "stdout",
     "output_type": "stream",
     "text": [
      "Salida counts = {'0': 1}\n",
      "Given the former angle theta and quantum state, the new prediction is:\n",
      "Prediction = 0\n",
      "int(Prediction) = 0 \n",
      "\n",
      "Overall Probability = -1.084454205441202\n"
     ]
    },
    {
     "data": {
      "text/latex": [
       "$\\displaystyle \n",
       "$$ |\\psi\\rangle =\\begin{bmatrix}\n",
       "-0.99121 \\\\\n",
       "-0.13227\\end{bmatrix} $"
      ],
      "text/plain": [
       "<IPython.core.display.Math object>"
      ]
     },
     "metadata": {},
     "output_type": "display_data"
    },
    {
     "name": "stdout",
     "output_type": "stream",
     "text": [
      "Salida counts = {'0': 1}\n",
      "Given the former angle theta and quantum state, the new prediction is:\n",
      "Prediction = 0\n",
      "int(Prediction) = 0 \n",
      "\n",
      "Overall Probability = -1.0873817653452573\n"
     ]
    },
    {
     "data": {
      "text/latex": [
       "$\\displaystyle \n",
       "$$ |\\psi\\rangle =\\begin{bmatrix}\n",
       "-0.99059 \\\\\n",
       "-0.13683\\end{bmatrix} $"
      ],
      "text/plain": [
       "<IPython.core.display.Math object>"
      ]
     },
     "metadata": {},
     "output_type": "display_data"
    },
    {
     "name": "stdout",
     "output_type": "stream",
     "text": [
      "Salida counts = {'0': 1}\n",
      "Given the former angle theta and quantum state, the new prediction is:\n",
      "Prediction = 0\n",
      "int(Prediction) = 0 \n",
      "\n",
      "Overall Probability = -0.44535695998743496\n"
     ]
    },
    {
     "data": {
      "text/latex": [
       "$\\displaystyle \n",
       "$$ |\\psi\\rangle =\\begin{bmatrix}\n",
       "-0.64388 \\\\\n",
       "0.76512\\end{bmatrix} $"
      ],
      "text/plain": [
       "<IPython.core.display.Math object>"
      ]
     },
     "metadata": {},
     "output_type": "display_data"
    },
    {
     "name": "stdout",
     "output_type": "stream",
     "text": [
      "Salida counts = {'1': 1}\n",
      "Given the former angle theta and quantum state, the new prediction is:\n",
      "Prediction = 1\n",
      "int(Prediction) = 1 \n",
      "\n",
      "Overall Probability = 0.07734454747363155\n"
     ]
    },
    {
     "data": {
      "text/latex": [
       "$\\displaystyle \n",
       "$$ |\\psi\\rangle =\\begin{bmatrix}\n",
       "0.12119 \\\\\n",
       "0.99263\\end{bmatrix} $"
      ],
      "text/plain": [
       "<IPython.core.display.Math object>"
      ]
     },
     "metadata": {},
     "output_type": "display_data"
    },
    {
     "name": "stdout",
     "output_type": "stream",
     "text": [
      "Salida counts = {'1': 1}\n",
      "Given the former angle theta and quantum state, the new prediction is:\n",
      "Prediction = 1\n",
      "int(Prediction) = 1 \n",
      "\n",
      "Overall Probability = 0.06423129950762298\n"
     ]
    },
    {
     "data": {
      "text/latex": [
       "$\\displaystyle \n",
       "$$ |\\psi\\rangle =\\begin{bmatrix}\n",
       "0.10072 \\\\\n",
       "0.99491\\end{bmatrix} $"
      ],
      "text/plain": [
       "<IPython.core.display.Math object>"
      ]
     },
     "metadata": {},
     "output_type": "display_data"
    },
    {
     "name": "stdout",
     "output_type": "stream",
     "text": [
      "Salida counts = {'1': 1}\n",
      "Given the former angle theta and quantum state, the new prediction is:\n",
      "Prediction = 1\n",
      "int(Prediction) = 1 \n",
      "\n",
      "Overall Probability = -1.0100690623507056\n"
     ]
    },
    {
     "data": {
      "text/latex": [
       "$\\displaystyle \n",
       "$$ |\\psi\\rangle =\\begin{bmatrix}\n",
       "-0.99987 \\\\\n",
       "-0.01582\\end{bmatrix} $"
      ],
      "text/plain": [
       "<IPython.core.display.Math object>"
      ]
     },
     "metadata": {},
     "output_type": "display_data"
    },
    {
     "name": "stdout",
     "output_type": "stream",
     "text": [
      "Salida counts = {'0': 1}\n",
      "Given the former angle theta and quantum state, the new prediction is:\n",
      "Prediction = 0\n",
      "int(Prediction) = 0 \n",
      "\n",
      "Overall Probability = -0.9077833414788266\n"
     ]
    },
    {
     "data": {
      "text/latex": [
       "$\\displaystyle \n",
       "$$ |\\psi\\rangle =\\begin{bmatrix}\n",
       "-0.98953 \\\\\n",
       "0.14435\\end{bmatrix} $"
      ],
      "text/plain": [
       "<IPython.core.display.Math object>"
      ]
     },
     "metadata": {},
     "output_type": "display_data"
    },
    {
     "name": "stdout",
     "output_type": "stream",
     "text": [
      "Salida counts = {'0': 1}\n",
      "Given the former angle theta and quantum state, the new prediction is:\n",
      "Prediction = 0\n",
      "int(Prediction) = 0 \n",
      "\n",
      "Overall Probability = -0.89395842100813\n"
     ]
    },
    {
     "data": {
      "text/latex": [
       "$\\displaystyle \n",
       "$$ |\\psi\\rangle =\\begin{bmatrix}\n",
       "-0.98616 \\\\\n",
       "0.16580\\end{bmatrix} $"
      ],
      "text/plain": [
       "<IPython.core.display.Math object>"
      ]
     },
     "metadata": {},
     "output_type": "display_data"
    },
    {
     "name": "stdout",
     "output_type": "stream",
     "text": [
      "Salida counts = {'0': 1}\n",
      "Given the former angle theta and quantum state, the new prediction is:\n",
      "Prediction = 0\n",
      "int(Prediction) = 0 \n",
      "\n",
      "Overall Probability = -0.9071533168759616\n"
     ]
    },
    {
     "data": {
      "text/latex": [
       "$\\displaystyle \n",
       "$$ |\\psi\\rangle =\\begin{bmatrix}\n",
       "-0.98938 \\\\\n",
       "0.14533\\end{bmatrix} $"
      ],
      "text/plain": [
       "<IPython.core.display.Math object>"
      ]
     },
     "metadata": {},
     "output_type": "display_data"
    },
    {
     "name": "stdout",
     "output_type": "stream",
     "text": [
      "Salida counts = {'0': 1}\n",
      "Given the former angle theta and quantum state, the new prediction is:\n",
      "Prediction = 0\n",
      "int(Prediction) = 0 \n",
      "\n",
      "Overall Probability = -1.085215808623024\n"
     ]
    },
    {
     "data": {
      "text/latex": [
       "$\\displaystyle \n",
       "$$ |\\psi\\rangle =\\begin{bmatrix}\n",
       "-0.99105 \\\\\n",
       "-0.13346\\end{bmatrix} $"
      ],
      "text/plain": [
       "<IPython.core.display.Math object>"
      ]
     },
     "metadata": {},
     "output_type": "display_data"
    },
    {
     "name": "stdout",
     "output_type": "stream",
     "text": [
      "Salida counts = {'0': 1}\n",
      "Given the former angle theta and quantum state, the new prediction is:\n",
      "Prediction = 0\n",
      "int(Prediction) = 0 \n",
      "\n",
      "Overall Probability = -1.0815386492259789\n"
     ]
    },
    {
     "data": {
      "text/latex": [
       "$\\displaystyle \n",
       "$$ |\\psi\\rangle =\\begin{bmatrix}\n",
       "-0.99181 \\\\\n",
       "-0.12773\\end{bmatrix} $"
      ],
      "text/plain": [
       "<IPython.core.display.Math object>"
      ]
     },
     "metadata": {},
     "output_type": "display_data"
    },
    {
     "name": "stdout",
     "output_type": "stream",
     "text": [
      "Salida counts = {'0': 1}\n",
      "Given the former angle theta and quantum state, the new prediction is:\n",
      "Prediction = 0\n",
      "int(Prediction) = 0 \n",
      "\n",
      "Overall Probability = -1.0873107236344115\n"
     ]
    },
    {
     "data": {
      "text/latex": [
       "$\\displaystyle \n",
       "$$ |\\psi\\rangle =\\begin{bmatrix}\n",
       "-0.99061 \\\\\n",
       "-0.13672\\end{bmatrix} $"
      ],
      "text/plain": [
       "<IPython.core.display.Math object>"
      ]
     },
     "metadata": {},
     "output_type": "display_data"
    },
    {
     "name": "stdout",
     "output_type": "stream",
     "text": [
      "Salida counts = {'0': 1}\n",
      "Given the former angle theta and quantum state, the new prediction is:\n",
      "Prediction = 0\n",
      "int(Prediction) = 0 \n",
      "\n",
      "Overall Probability = -0.9063944040318501\n"
     ]
    },
    {
     "data": {
      "text/latex": [
       "$\\displaystyle \n",
       "$$ |\\psi\\rangle =\\begin{bmatrix}\n",
       "-0.98921 \\\\\n",
       "0.14651\\end{bmatrix} $"
      ],
      "text/plain": [
       "<IPython.core.display.Math object>"
      ]
     },
     "metadata": {},
     "output_type": "display_data"
    },
    {
     "name": "stdout",
     "output_type": "stream",
     "text": [
      "Salida counts = {'0': 1}\n",
      "Given the former angle theta and quantum state, the new prediction is:\n",
      "Prediction = 0\n",
      "int(Prediction) = 0 \n",
      "\n",
      "Overall Probability = -0.4974586136719975\n"
     ]
    },
    {
     "data": {
      "text/latex": [
       "$\\displaystyle \n",
       "$$ |\\psi\\rangle =\\begin{bmatrix}\n",
       "-0.70428 \\\\\n",
       "0.70992\\end{bmatrix} $"
      ],
      "text/plain": [
       "<IPython.core.display.Math object>"
      ]
     },
     "metadata": {},
     "output_type": "display_data"
    },
    {
     "name": "stdout",
     "output_type": "stream",
     "text": [
      "Salida counts = {'0': 1}\n",
      "Given the former angle theta and quantum state, the new prediction is:\n",
      "Prediction = 0\n",
      "int(Prediction) = 0 \n",
      "\n",
      "Overall Probability = -0.4916150762550471\n"
     ]
    },
    {
     "data": {
      "text/latex": [
       "$\\displaystyle \n",
       "$$ |\\psi\\rangle =\\begin{bmatrix}\n",
       "-0.69773 \\\\\n",
       "0.71636\\end{bmatrix} $"
      ],
      "text/plain": [
       "<IPython.core.display.Math object>"
      ]
     },
     "metadata": {},
     "output_type": "display_data"
    },
    {
     "name": "stdout",
     "output_type": "stream",
     "text": [
      "Salida counts = {'1': 1}\n",
      "Given the former angle theta and quantum state, the new prediction is:\n",
      "Prediction = 1\n",
      "int(Prediction) = 1 \n",
      "\n",
      "Overall Probability = -1.0847848357176866\n"
     ]
    },
    {
     "data": {
      "text/latex": [
       "$\\displaystyle \n",
       "$$ |\\psi\\rangle =\\begin{bmatrix}\n",
       "-0.99114 \\\\\n",
       "-0.13279\\end{bmatrix} $"
      ],
      "text/plain": [
       "<IPython.core.display.Math object>"
      ]
     },
     "metadata": {},
     "output_type": "display_data"
    },
    {
     "name": "stdout",
     "output_type": "stream",
     "text": [
      "Salida counts = {'0': 1}\n",
      "Given the former angle theta and quantum state, the new prediction is:\n",
      "Prediction = 0\n",
      "int(Prediction) = 0 \n",
      "\n",
      "Overall Probability = -1.085290651128075\n"
     ]
    },
    {
     "data": {
      "text/latex": [
       "$\\displaystyle \n",
       "$$ |\\psi\\rangle =\\begin{bmatrix}\n",
       "-0.99104 \\\\\n",
       "-0.13357\\end{bmatrix} $"
      ],
      "text/plain": [
       "<IPython.core.display.Math object>"
      ]
     },
     "metadata": {},
     "output_type": "display_data"
    },
    {
     "name": "stdout",
     "output_type": "stream",
     "text": [
      "Salida counts = {'0': 1}\n",
      "Given the former angle theta and quantum state, the new prediction is:\n",
      "Prediction = 0\n",
      "int(Prediction) = 0 \n",
      "\n",
      "Overall Probability = -0.09367234486872558\n"
     ]
    },
    {
     "data": {
      "text/latex": [
       "$\\displaystyle \n",
       "$$ |\\psi\\rangle =\\begin{bmatrix}\n",
       "-0.14661 \\\\\n",
       "0.98919\\end{bmatrix} $"
      ],
      "text/plain": [
       "<IPython.core.display.Math object>"
      ]
     },
     "metadata": {},
     "output_type": "display_data"
    },
    {
     "name": "stdout",
     "output_type": "stream",
     "text": [
      "Salida counts = {'1': 1}\n",
      "Given the former angle theta and quantum state, the new prediction is:\n",
      "Prediction = 1\n",
      "int(Prediction) = 1 \n",
      "\n",
      "Overall Probability = -0.5470012778957121\n"
     ]
    },
    {
     "data": {
      "text/latex": [
       "$\\displaystyle \n",
       "$$ |\\psi\\rangle =\\begin{bmatrix}\n",
       "-0.75734 \\\\\n",
       "0.65302\\end{bmatrix} $"
      ],
      "text/plain": [
       "<IPython.core.display.Math object>"
      ]
     },
     "metadata": {},
     "output_type": "display_data"
    },
    {
     "name": "stdout",
     "output_type": "stream",
     "text": [
      "Salida counts = {'0': 1}\n",
      "Given the former angle theta and quantum state, the new prediction is:\n",
      "Prediction = 0\n",
      "int(Prediction) = 0 \n",
      "\n",
      "Overall Probability = -0.8939611012104621\n"
     ]
    },
    {
     "data": {
      "text/latex": [
       "$\\displaystyle \n",
       "$$ |\\psi\\rangle =\\begin{bmatrix}\n",
       "-0.98616 \\\\\n",
       "0.16580\\end{bmatrix} $"
      ],
      "text/plain": [
       "<IPython.core.display.Math object>"
      ]
     },
     "metadata": {},
     "output_type": "display_data"
    },
    {
     "name": "stdout",
     "output_type": "stream",
     "text": [
      "Salida counts = {'0': 1}\n",
      "Given the former angle theta and quantum state, the new prediction is:\n",
      "Prediction = 0\n",
      "int(Prediction) = 0 \n",
      "\n",
      "Overall Probability = -1.0665744803337311\n"
     ]
    },
    {
     "data": {
      "text/latex": [
       "$\\displaystyle \n",
       "$$ |\\psi\\rangle =\\begin{bmatrix}\n",
       "-0.99454 \\\\\n",
       "-0.10438\\end{bmatrix} $"
      ],
      "text/plain": [
       "<IPython.core.display.Math object>"
      ]
     },
     "metadata": {},
     "output_type": "display_data"
    },
    {
     "name": "stdout",
     "output_type": "stream",
     "text": [
      "Salida counts = {'0': 1}\n",
      "Given the former angle theta and quantum state, the new prediction is:\n",
      "Prediction = 0\n",
      "int(Prediction) = 0 \n",
      "\n",
      "Overall Probability = -0.9857564605857352\n"
     ]
    },
    {
     "data": {
      "text/latex": [
       "$\\displaystyle \n",
       "$$ |\\psi\\rangle =\\begin{bmatrix}\n",
       "-0.99975 \\\\\n",
       "0.02237\\end{bmatrix} $"
      ],
      "text/plain": [
       "<IPython.core.display.Math object>"
      ]
     },
     "metadata": {},
     "output_type": "display_data"
    },
    {
     "name": "stdout",
     "output_type": "stream",
     "text": [
      "Salida counts = {'0': 1}\n",
      "Given the former angle theta and quantum state, the new prediction is:\n",
      "Prediction = 0\n",
      "int(Prediction) = 0 \n",
      "\n",
      "Overall Probability = -0.36706103635133397\n"
     ]
    },
    {
     "data": {
      "text/latex": [
       "$\\displaystyle \n",
       "$$ |\\psi\\rangle =\\begin{bmatrix}\n",
       "-0.54516 \\\\\n",
       "0.83833\\end{bmatrix} $"
      ],
      "text/plain": [
       "<IPython.core.display.Math object>"
      ]
     },
     "metadata": {},
     "output_type": "display_data"
    },
    {
     "name": "stdout",
     "output_type": "stream",
     "text": [
      "Salida counts = {'1': 1}\n",
      "Given the former angle theta and quantum state, the new prediction is:\n",
      "Prediction = 1\n",
      "int(Prediction) = 1 \n",
      "\n",
      "Overall Probability = -0.18678070207707742\n"
     ]
    },
    {
     "data": {
      "text/latex": [
       "$\\displaystyle \n",
       "$$ |\\psi\\rangle =\\begin{bmatrix}\n",
       "-0.28920 \\\\\n",
       "0.95727\\end{bmatrix} $"
      ],
      "text/plain": [
       "<IPython.core.display.Math object>"
      ]
     },
     "metadata": {},
     "output_type": "display_data"
    },
    {
     "name": "stdout",
     "output_type": "stream",
     "text": [
      "Salida counts = {'1': 1}\n",
      "Given the former angle theta and quantum state, the new prediction is:\n",
      "Prediction = 1\n",
      "int(Prediction) = 1 \n",
      "\n",
      "Overall Probability = -1.0669614506003429\n"
     ]
    },
    {
     "data": {
      "text/latex": [
       "$\\displaystyle \n",
       "$$ |\\psi\\rangle =\\begin{bmatrix}\n",
       "-0.99447 \\\\\n",
       "-0.10499\\end{bmatrix} $"
      ],
      "text/plain": [
       "<IPython.core.display.Math object>"
      ]
     },
     "metadata": {},
     "output_type": "display_data"
    },
    {
     "name": "stdout",
     "output_type": "stream",
     "text": [
      "Salida counts = {'0': 1}\n",
      "Given the former angle theta and quantum state, the new prediction is:\n",
      "Prediction = 0\n",
      "int(Prediction) = 0 \n",
      "\n",
      "Overall Probability = -1.0851174069088327\n"
     ]
    },
    {
     "data": {
      "text/latex": [
       "$\\displaystyle \n",
       "$$ |\\psi\\rangle =\\begin{bmatrix}\n",
       "-0.99108 \\\\\n",
       "-0.13330\\end{bmatrix} $"
      ],
      "text/plain": [
       "<IPython.core.display.Math object>"
      ]
     },
     "metadata": {},
     "output_type": "display_data"
    },
    {
     "name": "stdout",
     "output_type": "stream",
     "text": [
      "Salida counts = {'0': 1}\n",
      "Given the former angle theta and quantum state, the new prediction is:\n",
      "Prediction = 0\n",
      "int(Prediction) = 0 \n",
      "\n",
      "Overall Probability = -1.0892576583130087\n"
     ]
    },
    {
     "data": {
      "text/latex": [
       "$\\displaystyle \n",
       "$$ |\\psi\\rangle =\\begin{bmatrix}\n",
       "-0.99019 \\\\\n",
       "-0.13975\\end{bmatrix} $"
      ],
      "text/plain": [
       "<IPython.core.display.Math object>"
      ]
     },
     "metadata": {},
     "output_type": "display_data"
    },
    {
     "name": "stdout",
     "output_type": "stream",
     "text": [
      "Salida counts = {'0': 1}\n",
      "Given the former angle theta and quantum state, the new prediction is:\n",
      "Prediction = 0\n",
      "int(Prediction) = 0 \n",
      "\n",
      "Overall Probability = -0.9845218514797017\n"
     ]
    },
    {
     "data": {
      "text/latex": [
       "$\\displaystyle \n",
       "$$ |\\psi\\rangle =\\begin{bmatrix}\n",
       "-0.99970 \\\\\n",
       "0.02431\\end{bmatrix} $"
      ],
      "text/plain": [
       "<IPython.core.display.Math object>"
      ]
     },
     "metadata": {},
     "output_type": "display_data"
    },
    {
     "name": "stdout",
     "output_type": "stream",
     "text": [
      "Salida counts = {'0': 1}\n",
      "Given the former angle theta and quantum state, the new prediction is:\n",
      "Prediction = 0\n",
      "int(Prediction) = 0 \n",
      "\n",
      "Overall Probability = -0.893994865210646\n"
     ]
    },
    {
     "data": {
      "text/latex": [
       "$\\displaystyle \n",
       "$$ |\\psi\\rangle =\\begin{bmatrix}\n",
       "-0.98617 \\\\\n",
       "0.16574\\end{bmatrix} $"
      ],
      "text/plain": [
       "<IPython.core.display.Math object>"
      ]
     },
     "metadata": {},
     "output_type": "display_data"
    },
    {
     "name": "stdout",
     "output_type": "stream",
     "text": [
      "Salida counts = {'0': 1}\n",
      "Given the former angle theta and quantum state, the new prediction is:\n",
      "Prediction = 0\n",
      "int(Prediction) = 0 \n",
      "\n",
      "Overall Probability = -0.13389124742573458\n"
     ]
    },
    {
     "data": {
      "text/latex": [
       "$\\displaystyle \n",
       "$$ |\\psi\\rangle =\\begin{bmatrix}\n",
       "-0.20877 \\\\\n",
       "0.97797\\end{bmatrix} $"
      ],
      "text/plain": [
       "<IPython.core.display.Math object>"
      ]
     },
     "metadata": {},
     "output_type": "display_data"
    },
    {
     "name": "stdout",
     "output_type": "stream",
     "text": [
      "Salida counts = {'1': 1}\n",
      "Given the former angle theta and quantum state, the new prediction is:\n",
      "Prediction = 1\n",
      "int(Prediction) = 1 \n",
      "\n",
      "Overall Probability = -0.7281727565330587\n"
     ]
    },
    {
     "data": {
      "text/latex": [
       "$\\displaystyle \n",
       "$$ |\\psi\\rangle =\\begin{bmatrix}\n",
       "-0.91022 \\\\\n",
       "0.41413\\end{bmatrix} $"
      ],
      "text/plain": [
       "<IPython.core.display.Math object>"
      ]
     },
     "metadata": {},
     "output_type": "display_data"
    },
    {
     "name": "stdout",
     "output_type": "stream",
     "text": [
      "Salida counts = {'0': 1}\n",
      "Given the former angle theta and quantum state, the new prediction is:\n",
      "Prediction = 0\n",
      "int(Prediction) = 0 \n",
      "\n",
      "Overall Probability = -0.36500234957586886\n"
     ]
    },
    {
     "data": {
      "text/latex": [
       "$\\displaystyle \n",
       "$$ |\\psi\\rangle =\\begin{bmatrix}\n",
       "-0.54244 \\\\\n",
       "0.84009\\end{bmatrix} $"
      ],
      "text/plain": [
       "<IPython.core.display.Math object>"
      ]
     },
     "metadata": {},
     "output_type": "display_data"
    },
    {
     "name": "stdout",
     "output_type": "stream",
     "text": [
      "Salida counts = {'0': 1}\n",
      "Given the former angle theta and quantum state, the new prediction is:\n",
      "Prediction = 0\n",
      "int(Prediction) = 0 \n",
      "\n",
      "Overall Probability = -0.3448986619781129\n"
     ]
    },
    {
     "data": {
      "text/latex": [
       "$\\displaystyle \n",
       "$$ |\\psi\\rangle =\\begin{bmatrix}\n",
       "-0.51565 \\\\\n",
       "0.85680\\end{bmatrix} $"
      ],
      "text/plain": [
       "<IPython.core.display.Math object>"
      ]
     },
     "metadata": {},
     "output_type": "display_data"
    },
    {
     "name": "stdout",
     "output_type": "stream",
     "text": [
      "Salida counts = {'0': 1}\n",
      "Given the former angle theta and quantum state, the new prediction is:\n",
      "Prediction = 0\n",
      "int(Prediction) = 0 \n",
      "\n",
      "Overall Probability = -0.9710411368693186\n"
     ]
    },
    {
     "data": {
      "text/latex": [
       "$\\displaystyle \n",
       "$$ |\\psi\\rangle =\\begin{bmatrix}\n",
       "-0.99897 \\\\\n",
       "0.04547\\end{bmatrix} $"
      ],
      "text/plain": [
       "<IPython.core.display.Math object>"
      ]
     },
     "metadata": {},
     "output_type": "display_data"
    },
    {
     "name": "stdout",
     "output_type": "stream",
     "text": [
      "Salida counts = {'0': 1}\n",
      "Given the former angle theta and quantum state, the new prediction is:\n",
      "Prediction = 0\n",
      "int(Prediction) = 0 \n",
      "\n",
      "Overall Probability = -0.29459835460443295\n"
     ]
    },
    {
     "data": {
      "text/latex": [
       "$\\displaystyle \n",
       "$$ |\\psi\\rangle =\\begin{bmatrix}\n",
       "-0.44641 \\\\\n",
       "0.89483\\end{bmatrix} $"
      ],
      "text/plain": [
       "<IPython.core.display.Math object>"
      ]
     },
     "metadata": {},
     "output_type": "display_data"
    },
    {
     "name": "stdout",
     "output_type": "stream",
     "text": [
      "Salida counts = {'1': 1}\n",
      "Given the former angle theta and quantum state, the new prediction is:\n",
      "Prediction = 1\n",
      "int(Prediction) = 1 \n",
      "\n",
      "Overall Probability = -1.0851174069088327\n"
     ]
    },
    {
     "data": {
      "text/latex": [
       "$\\displaystyle \n",
       "$$ |\\psi\\rangle =\\begin{bmatrix}\n",
       "-0.99108 \\\\\n",
       "-0.13330\\end{bmatrix} $"
      ],
      "text/plain": [
       "<IPython.core.display.Math object>"
      ]
     },
     "metadata": {},
     "output_type": "display_data"
    },
    {
     "name": "stdout",
     "output_type": "stream",
     "text": [
      "Salida counts = {'0': 1}\n",
      "Given the former angle theta and quantum state, the new prediction is:\n",
      "Prediction = 0\n",
      "int(Prediction) = 0 \n",
      "\n",
      "Overall Probability = -1.0902190524800284\n"
     ]
    },
    {
     "data": {
      "text/latex": [
       "$\\displaystyle \n",
       "$$ |\\psi\\rangle =\\begin{bmatrix}\n",
       "-0.98998 \\\\\n",
       "-0.14124\\end{bmatrix} $"
      ],
      "text/plain": [
       "<IPython.core.display.Math object>"
      ]
     },
     "metadata": {},
     "output_type": "display_data"
    },
    {
     "name": "stdout",
     "output_type": "stream",
     "text": [
      "Salida counts = {'0': 1}\n",
      "Given the former angle theta and quantum state, the new prediction is:\n",
      "Prediction = 0\n",
      "int(Prediction) = 0 \n",
      "\n",
      "Overall Probability = -1.085215808623024\n"
     ]
    },
    {
     "data": {
      "text/latex": [
       "$\\displaystyle \n",
       "$$ |\\psi\\rangle =\\begin{bmatrix}\n",
       "-0.99105 \\\\\n",
       "-0.13346\\end{bmatrix} $"
      ],
      "text/plain": [
       "<IPython.core.display.Math object>"
      ]
     },
     "metadata": {},
     "output_type": "display_data"
    },
    {
     "name": "stdout",
     "output_type": "stream",
     "text": [
      "Salida counts = {'0': 1}\n",
      "Given the former angle theta and quantum state, the new prediction is:\n",
      "Prediction = 0\n",
      "int(Prediction) = 0 \n",
      "\n",
      "Overall Probability = 0.007954948439565356\n"
     ]
    },
    {
     "data": {
      "text/latex": [
       "$\\displaystyle \n",
       "$$ |\\psi\\rangle =\\begin{bmatrix}\n",
       "0.01250 \\\\\n",
       "0.99992\\end{bmatrix} $"
      ],
      "text/plain": [
       "<IPython.core.display.Math object>"
      ]
     },
     "metadata": {},
     "output_type": "display_data"
    },
    {
     "name": "stdout",
     "output_type": "stream",
     "text": [
      "Salida counts = {'1': 1}\n",
      "Given the former angle theta and quantum state, the new prediction is:\n",
      "Prediction = 1\n",
      "int(Prediction) = 1 \n",
      "\n",
      "Overall Probability = -0.7238235375711839\n"
     ]
    },
    {
     "data": {
      "text/latex": [
       "$\\displaystyle \n",
       "$$ |\\psi\\rangle =\\begin{bmatrix}\n",
       "-0.90737 \\\\\n",
       "0.42034\\end{bmatrix} $"
      ],
      "text/plain": [
       "<IPython.core.display.Math object>"
      ]
     },
     "metadata": {},
     "output_type": "display_data"
    },
    {
     "name": "stdout",
     "output_type": "stream",
     "text": [
      "Salida counts = {'0': 1}\n",
      "Given the former angle theta and quantum state, the new prediction is:\n",
      "Prediction = 0\n",
      "int(Prediction) = 0 \n",
      "\n",
      "Overall Probability = -0.9178179993835911\n"
     ]
    },
    {
     "data": {
      "text/latex": [
       "$\\displaystyle \n",
       "$$ |\\psi\\rangle =\\begin{bmatrix}\n",
       "-0.99168 \\\\\n",
       "0.12873\\end{bmatrix} $"
      ],
      "text/plain": [
       "<IPython.core.display.Math object>"
      ]
     },
     "metadata": {},
     "output_type": "display_data"
    },
    {
     "name": "stdout",
     "output_type": "stream",
     "text": [
      "Salida counts = {'0': 1}\n",
      "Given the former angle theta and quantum state, the new prediction is:\n",
      "Prediction = 0\n",
      "int(Prediction) = 0 \n",
      "\n",
      "Overall Probability = -0.984710903477144\n"
     ]
    },
    {
     "data": {
      "text/latex": [
       "$\\displaystyle \n",
       "$$ |\\psi\\rangle =\\begin{bmatrix}\n",
       "-0.99971 \\\\\n",
       "0.02401\\end{bmatrix} $"
      ],
      "text/plain": [
       "<IPython.core.display.Math object>"
      ]
     },
     "metadata": {},
     "output_type": "display_data"
    },
    {
     "name": "stdout",
     "output_type": "stream",
     "text": [
      "Salida counts = {'0': 1}\n",
      "Given the former angle theta and quantum state, the new prediction is:\n",
      "Prediction = 0\n",
      "int(Prediction) = 0 \n",
      "\n",
      "Overall Probability = -0.3285902327733026\n"
     ]
    },
    {
     "data": {
      "text/latex": [
       "$\\displaystyle \n",
       "$$ |\\psi\\rangle =\\begin{bmatrix}\n",
       "-0.49353 \\\\\n",
       "0.86973\\end{bmatrix} $"
      ],
      "text/plain": [
       "<IPython.core.display.Math object>"
      ]
     },
     "metadata": {},
     "output_type": "display_data"
    },
    {
     "name": "stdout",
     "output_type": "stream",
     "text": [
      "Salida counts = {'1': 1}\n",
      "Given the former angle theta and quantum state, the new prediction is:\n",
      "Prediction = 1\n",
      "int(Prediction) = 1 \n",
      "\n",
      "Overall Probability = -0.9868725194573742\n"
     ]
    },
    {
     "data": {
      "text/latex": [
       "$\\displaystyle \n",
       "$$ |\\psi\\rangle =\\begin{bmatrix}\n",
       "-0.99979 \\\\\n",
       "0.02062\\end{bmatrix} $"
      ],
      "text/plain": [
       "<IPython.core.display.Math object>"
      ]
     },
     "metadata": {},
     "output_type": "display_data"
    },
    {
     "name": "stdout",
     "output_type": "stream",
     "text": [
      "Salida counts = {'0': 1}\n",
      "Given the former angle theta and quantum state, the new prediction is:\n",
      "Prediction = 0\n",
      "int(Prediction) = 0 \n",
      "\n",
      "Overall Probability = -0.916079205839945\n"
     ]
    },
    {
     "data": {
      "text/latex": [
       "$\\displaystyle \n",
       "$$ |\\psi\\rangle =\\begin{bmatrix}\n",
       "-0.99132 \\\\\n",
       "0.13144\\end{bmatrix} $"
      ],
      "text/plain": [
       "<IPython.core.display.Math object>"
      ]
     },
     "metadata": {},
     "output_type": "display_data"
    },
    {
     "name": "stdout",
     "output_type": "stream",
     "text": [
      "Salida counts = {'0': 1}\n",
      "Given the former angle theta and quantum state, the new prediction is:\n",
      "Prediction = 0\n",
      "int(Prediction) = 0 \n",
      "\n",
      "Overall Probability = -0.9063060620418495\n"
     ]
    },
    {
     "data": {
      "text/latex": [
       "$\\displaystyle \n",
       "$$ |\\psi\\rangle =\\begin{bmatrix}\n",
       "-0.98919 \\\\\n",
       "0.14664\\end{bmatrix} $"
      ],
      "text/plain": [
       "<IPython.core.display.Math object>"
      ]
     },
     "metadata": {},
     "output_type": "display_data"
    },
    {
     "name": "stdout",
     "output_type": "stream",
     "text": [
      "Salida counts = {'0': 1}\n",
      "Given the former angle theta and quantum state, the new prediction is:\n",
      "Prediction = 0\n",
      "int(Prediction) = 0 \n",
      "\n",
      "Overall Probability = -0.31820038991526006\n"
     ]
    },
    {
     "data": {
      "text/latex": [
       "$\\displaystyle \n",
       "$$ |\\psi\\rangle =\\begin{bmatrix}\n",
       "-0.47927 \\\\\n",
       "0.87767\\end{bmatrix} $"
      ],
      "text/plain": [
       "<IPython.core.display.Math object>"
      ]
     },
     "metadata": {},
     "output_type": "display_data"
    },
    {
     "name": "stdout",
     "output_type": "stream",
     "text": [
      "Salida counts = {'1': 1}\n",
      "Given the former angle theta and quantum state, the new prediction is:\n",
      "Prediction = 1\n",
      "int(Prediction) = 1 \n",
      "\n",
      "Overall Probability = -0.3355307492183003\n"
     ]
    },
    {
     "data": {
      "text/latex": [
       "$\\displaystyle \n",
       "$$ |\\psi\\rangle =\\begin{bmatrix}\n",
       "-0.50299 \\\\\n",
       "0.86429\\end{bmatrix} $"
      ],
      "text/plain": [
       "<IPython.core.display.Math object>"
      ]
     },
     "metadata": {},
     "output_type": "display_data"
    },
    {
     "name": "stdout",
     "output_type": "stream",
     "text": [
      "Salida counts = {'1': 1}\n",
      "Given the former angle theta and quantum state, the new prediction is:\n",
      "Prediction = 1\n",
      "int(Prediction) = 1 \n",
      "\n",
      "Overall Probability = -0.7324968524225215\n"
     ]
    },
    {
     "data": {
      "text/latex": [
       "$\\displaystyle \n",
       "$$ |\\psi\\rangle =\\begin{bmatrix}\n",
       "-0.91301 \\\\\n",
       "0.40794\\end{bmatrix} $"
      ],
      "text/plain": [
       "<IPython.core.display.Math object>"
      ]
     },
     "metadata": {},
     "output_type": "display_data"
    },
    {
     "name": "stdout",
     "output_type": "stream",
     "text": [
      "Salida counts = {'1': 1}\n",
      "Given the former angle theta and quantum state, the new prediction is:\n",
      "Prediction = 1\n",
      "int(Prediction) = 1 \n",
      "\n",
      "Overall Probability = -0.27480062950541273\n"
     ]
    },
    {
     "data": {
      "text/latex": [
       "$\\displaystyle \n",
       "$$ |\\psi\\rangle =\\begin{bmatrix}\n",
       "-0.41838 \\\\\n",
       "0.90827\\end{bmatrix} $"
      ],
      "text/plain": [
       "<IPython.core.display.Math object>"
      ]
     },
     "metadata": {},
     "output_type": "display_data"
    },
    {
     "name": "stdout",
     "output_type": "stream",
     "text": [
      "Salida counts = {'0': 1}\n",
      "Given the former angle theta and quantum state, the new prediction is:\n",
      "Prediction = 0\n",
      "int(Prediction) = 0 \n",
      "\n",
      "Overall Probability = -0.891942149295999\n"
     ]
    },
    {
     "data": {
      "text/latex": [
       "$\\displaystyle \n",
       "$$ |\\psi\\rangle =\\begin{bmatrix}\n",
       "-0.98563 \\\\\n",
       "0.16892\\end{bmatrix} $"
      ],
      "text/plain": [
       "<IPython.core.display.Math object>"
      ]
     },
     "metadata": {},
     "output_type": "display_data"
    },
    {
     "name": "stdout",
     "output_type": "stream",
     "text": [
      "Salida counts = {'0': 1}\n",
      "Given the former angle theta and quantum state, the new prediction is:\n",
      "Prediction = 0\n",
      "int(Prediction) = 0 \n",
      "\n",
      "Overall Probability = -0.5378609122082209\n"
     ]
    },
    {
     "data": {
      "text/latex": [
       "$\\displaystyle \n",
       "$$ |\\psi\\rangle =\\begin{bmatrix}\n",
       "-0.74788 \\\\\n",
       "0.66383\\end{bmatrix} $"
      ],
      "text/plain": [
       "<IPython.core.display.Math object>"
      ]
     },
     "metadata": {},
     "output_type": "display_data"
    },
    {
     "name": "stdout",
     "output_type": "stream",
     "text": [
      "Salida counts = {'0': 1}\n",
      "Given the former angle theta and quantum state, the new prediction is:\n",
      "Prediction = 0\n",
      "int(Prediction) = 0 \n",
      "\n",
      "Overall Probability = -0.10202832066072956\n"
     ]
    },
    {
     "data": {
      "text/latex": [
       "$\\displaystyle \n",
       "$$ |\\psi\\rangle =\\begin{bmatrix}\n",
       "-0.15958 \\\\\n",
       "0.98718\\end{bmatrix} $"
      ],
      "text/plain": [
       "<IPython.core.display.Math object>"
      ]
     },
     "metadata": {},
     "output_type": "display_data"
    },
    {
     "name": "stdout",
     "output_type": "stream",
     "text": [
      "Salida counts = {'1': 1}\n",
      "Given the former angle theta and quantum state, the new prediction is:\n",
      "Prediction = 1\n",
      "int(Prediction) = 1 \n",
      "\n",
      "Overall Probability = -0.5172287175013452\n"
     ]
    },
    {
     "data": {
      "text/latex": [
       "$\\displaystyle \n",
       "$$ |\\psi\\rangle =\\begin{bmatrix}\n",
       "-0.72598 \\\\\n",
       "0.68771\\end{bmatrix} $"
      ],
      "text/plain": [
       "<IPython.core.display.Math object>"
      ]
     },
     "metadata": {},
     "output_type": "display_data"
    },
    {
     "name": "stdout",
     "output_type": "stream",
     "text": [
      "Salida counts = {'1': 1}\n",
      "Given the former angle theta and quantum state, the new prediction is:\n",
      "Prediction = 1\n",
      "int(Prediction) = 1 \n",
      "\n",
      "Overall Probability = -0.6923238553499037\n"
     ]
    },
    {
     "data": {
      "text/latex": [
       "$\\displaystyle \n",
       "$$ |\\psi\\rangle =\\begin{bmatrix}\n",
       "-0.88547 \\\\\n",
       "0.46470\\end{bmatrix} $"
      ],
      "text/plain": [
       "<IPython.core.display.Math object>"
      ]
     },
     "metadata": {},
     "output_type": "display_data"
    },
    {
     "name": "stdout",
     "output_type": "stream",
     "text": [
      "Salida counts = {'1': 1}\n",
      "Given the former angle theta and quantum state, the new prediction is:\n",
      "Prediction = 1\n",
      "int(Prediction) = 1 \n",
      "\n",
      "Overall Probability = -0.3432257706043671\n"
     ]
    },
    {
     "data": {
      "text/latex": [
       "$\\displaystyle \n",
       "$$ |\\psi\\rangle =\\begin{bmatrix}\n",
       "-0.51340 \\\\\n",
       "0.85815\\end{bmatrix} $"
      ],
      "text/plain": [
       "<IPython.core.display.Math object>"
      ]
     },
     "metadata": {},
     "output_type": "display_data"
    },
    {
     "name": "stdout",
     "output_type": "stream",
     "text": [
      "Salida counts = {'0': 1}\n",
      "Given the former angle theta and quantum state, the new prediction is:\n",
      "Prediction = 0\n",
      "int(Prediction) = 0 \n",
      "\n",
      "Overall Probability = -1.0838570635339768\n"
     ]
    },
    {
     "data": {
      "text/latex": [
       "$\\displaystyle \n",
       "$$ |\\psi\\rangle =\\begin{bmatrix}\n",
       "-0.99134 \\\\\n",
       "-0.13134\\end{bmatrix} $"
      ],
      "text/plain": [
       "<IPython.core.display.Math object>"
      ]
     },
     "metadata": {},
     "output_type": "display_data"
    },
    {
     "name": "stdout",
     "output_type": "stream",
     "text": [
      "Salida counts = {'0': 1}\n",
      "Given the former angle theta and quantum state, the new prediction is:\n",
      "Prediction = 0\n",
      "int(Prediction) = 0 \n",
      "\n",
      "Overall Probability = -0.6928054376902608\n"
     ]
    },
    {
     "data": {
      "text/latex": [
       "$\\displaystyle \n",
       "$$ |\\psi\\rangle =\\begin{bmatrix}\n",
       "-0.88582 \\\\\n",
       "0.46403\\end{bmatrix} $"
      ],
      "text/plain": [
       "<IPython.core.display.Math object>"
      ]
     },
     "metadata": {},
     "output_type": "display_data"
    },
    {
     "name": "stdout",
     "output_type": "stream",
     "text": [
      "Salida counts = {'0': 1}\n",
      "Given the former angle theta and quantum state, the new prediction is:\n",
      "Prediction = 0\n",
      "int(Prediction) = 0 \n",
      "\n",
      "Overall Probability = -0.4689363022912371\n"
     ]
    },
    {
     "data": {
      "text/latex": [
       "$\\displaystyle \n",
       "$$ |\\psi\\rangle =\\begin{bmatrix}\n",
       "-0.67178 \\\\\n",
       "0.74075\\end{bmatrix} $"
      ],
      "text/plain": [
       "<IPython.core.display.Math object>"
      ]
     },
     "metadata": {},
     "output_type": "display_data"
    },
    {
     "name": "stdout",
     "output_type": "stream",
     "text": [
      "Salida counts = {'0': 1}\n",
      "Given the former angle theta and quantum state, the new prediction is:\n",
      "Prediction = 0\n",
      "int(Prediction) = 0 \n",
      "\n",
      "Overall Probability = -1.0857354207374672\n"
     ]
    },
    {
     "data": {
      "text/latex": [
       "$\\displaystyle \n",
       "$$ |\\psi\\rangle =\\begin{bmatrix}\n",
       "-0.99095 \\\\\n",
       "-0.13427\\end{bmatrix} $"
      ],
      "text/plain": [
       "<IPython.core.display.Math object>"
      ]
     },
     "metadata": {},
     "output_type": "display_data"
    },
    {
     "name": "stdout",
     "output_type": "stream",
     "text": [
      "Salida counts = {'0': 1}\n",
      "Given the former angle theta and quantum state, the new prediction is:\n",
      "Prediction = 0\n",
      "int(Prediction) = 0 \n",
      "\n",
      "Overall Probability = -1.0857027641437988\n"
     ]
    },
    {
     "data": {
      "text/latex": [
       "$\\displaystyle \n",
       "$$ |\\psi\\rangle =\\begin{bmatrix}\n",
       "-0.99095 \\\\\n",
       "-0.13422\\end{bmatrix} $"
      ],
      "text/plain": [
       "<IPython.core.display.Math object>"
      ]
     },
     "metadata": {},
     "output_type": "display_data"
    },
    {
     "name": "stdout",
     "output_type": "stream",
     "text": [
      "Salida counts = {'0': 1}\n",
      "Given the former angle theta and quantum state, the new prediction is:\n",
      "Prediction = 0\n",
      "int(Prediction) = 0 \n",
      "\n",
      "Overall Probability = -0.5223891348903619\n"
     ]
    },
    {
     "data": {
      "text/latex": [
       "$\\displaystyle \n",
       "$$ |\\psi\\rangle =\\begin{bmatrix}\n",
       "-0.73153 \\\\\n",
       "0.68181\\end{bmatrix} $"
      ],
      "text/plain": [
       "<IPython.core.display.Math object>"
      ]
     },
     "metadata": {},
     "output_type": "display_data"
    },
    {
     "name": "stdout",
     "output_type": "stream",
     "text": [
      "Salida counts = {'1': 1}\n",
      "Given the former angle theta and quantum state, the new prediction is:\n",
      "Prediction = 1\n",
      "int(Prediction) = 1 \n",
      "\n",
      "Overall Probability = -1.085215808623024\n"
     ]
    },
    {
     "data": {
      "text/latex": [
       "$\\displaystyle \n",
       "$$ |\\psi\\rangle =\\begin{bmatrix}\n",
       "-0.99105 \\\\\n",
       "-0.13346\\end{bmatrix} $"
      ],
      "text/plain": [
       "<IPython.core.display.Math object>"
      ]
     },
     "metadata": {},
     "output_type": "display_data"
    },
    {
     "name": "stdout",
     "output_type": "stream",
     "text": [
      "Salida counts = {'0': 1}\n",
      "Given the former angle theta and quantum state, the new prediction is:\n",
      "Prediction = 0\n",
      "int(Prediction) = 0 \n",
      "\n",
      "Overall Probability = -0.8451913116160163\n"
     ]
    },
    {
     "data": {
      "text/latex": [
       "$\\displaystyle \n",
       "$$ |\\psi\\rangle =\\begin{bmatrix}\n",
       "-0.97058 \\\\\n",
       "0.24078\\end{bmatrix} $"
      ],
      "text/plain": [
       "<IPython.core.display.Math object>"
      ]
     },
     "metadata": {},
     "output_type": "display_data"
    },
    {
     "name": "stdout",
     "output_type": "stream",
     "text": [
      "Salida counts = {'0': 1}\n",
      "Given the former angle theta and quantum state, the new prediction is:\n",
      "Prediction = 0\n",
      "int(Prediction) = 0 \n",
      "\n",
      "Overall Probability = -0.643276349991935\n"
     ]
    },
    {
     "data": {
      "text/latex": [
       "$\\displaystyle \n",
       "$$ |\\psi\\rangle =\\begin{bmatrix}\n",
       "-0.84707 \\\\\n",
       "0.53147\\end{bmatrix} $"
      ],
      "text/plain": [
       "<IPython.core.display.Math object>"
      ]
     },
     "metadata": {},
     "output_type": "display_data"
    },
    {
     "name": "stdout",
     "output_type": "stream",
     "text": [
      "Salida counts = {'0': 1}\n",
      "Given the former angle theta and quantum state, the new prediction is:\n",
      "Prediction = 0\n",
      "int(Prediction) = 0 \n",
      "\n",
      "Overall Probability = -1.0881409073413197\n"
     ]
    },
    {
     "data": {
      "text/latex": [
       "$\\displaystyle \n",
       "$$ |\\psi\\rangle =\\begin{bmatrix}\n",
       "-0.99043 \\\\\n",
       "-0.13801\\end{bmatrix} $"
      ],
      "text/plain": [
       "<IPython.core.display.Math object>"
      ]
     },
     "metadata": {},
     "output_type": "display_data"
    },
    {
     "name": "stdout",
     "output_type": "stream",
     "text": [
      "Salida counts = {'0': 1}\n",
      "Given the former angle theta and quantum state, the new prediction is:\n",
      "Prediction = 0\n",
      "int(Prediction) = 0 \n",
      "\n",
      "Overall Probability = -0.49905510757443045\n"
     ]
    },
    {
     "data": {
      "text/latex": [
       "$\\displaystyle \n",
       "$$ |\\psi\\rangle =\\begin{bmatrix}\n",
       "-0.70606 \\\\\n",
       "0.70816\\end{bmatrix} $"
      ],
      "text/plain": [
       "<IPython.core.display.Math object>"
      ]
     },
     "metadata": {},
     "output_type": "display_data"
    },
    {
     "name": "stdout",
     "output_type": "stream",
     "text": [
      "Salida counts = {'0': 1}\n",
      "Given the former angle theta and quantum state, the new prediction is:\n",
      "Prediction = 0\n",
      "int(Prediction) = 0 \n",
      "\n",
      "Overall Probability = -1.0842912399627231\n"
     ]
    },
    {
     "data": {
      "text/latex": [
       "$\\displaystyle \n",
       "$$ |\\psi\\rangle =\\begin{bmatrix}\n",
       "-0.99125 \\\\\n",
       "-0.13202\\end{bmatrix} $"
      ],
      "text/plain": [
       "<IPython.core.display.Math object>"
      ]
     },
     "metadata": {},
     "output_type": "display_data"
    },
    {
     "name": "stdout",
     "output_type": "stream",
     "text": [
      "Salida counts = {'0': 1}\n",
      "Given the former angle theta and quantum state, the new prediction is:\n",
      "Prediction = 0\n",
      "int(Prediction) = 0 \n",
      "\n",
      "Overall Probability = -1.0820829380914558\n"
     ]
    },
    {
     "data": {
      "text/latex": [
       "$\\displaystyle \n",
       "$$ |\\psi\\rangle =\\begin{bmatrix}\n",
       "-0.99170 \\\\\n",
       "-0.12858\\end{bmatrix} $"
      ],
      "text/plain": [
       "<IPython.core.display.Math object>"
      ]
     },
     "metadata": {},
     "output_type": "display_data"
    },
    {
     "name": "stdout",
     "output_type": "stream",
     "text": [
      "Salida counts = {'0': 1}\n",
      "Given the former angle theta and quantum state, the new prediction is:\n",
      "Prediction = 0\n",
      "int(Prediction) = 0 \n",
      "\n",
      "Overall Probability = -0.89395842100813\n"
     ]
    },
    {
     "data": {
      "text/latex": [
       "$\\displaystyle \n",
       "$$ |\\psi\\rangle =\\begin{bmatrix}\n",
       "-0.98616 \\\\\n",
       "0.16580\\end{bmatrix} $"
      ],
      "text/plain": [
       "<IPython.core.display.Math object>"
      ]
     },
     "metadata": {},
     "output_type": "display_data"
    },
    {
     "name": "stdout",
     "output_type": "stream",
     "text": [
      "Salida counts = {'0': 1}\n",
      "Given the former angle theta and quantum state, the new prediction is:\n",
      "Prediction = 0\n",
      "int(Prediction) = 0 \n",
      "\n",
      "Overall Probability = -0.5254257547064288\n"
     ]
    },
    {
     "data": {
      "text/latex": [
       "$\\displaystyle \n",
       "$$ |\\psi\\rangle =\\begin{bmatrix}\n",
       "-0.73478 \\\\\n",
       "0.67831\\end{bmatrix} $"
      ],
      "text/plain": [
       "<IPython.core.display.Math object>"
      ]
     },
     "metadata": {},
     "output_type": "display_data"
    },
    {
     "name": "stdout",
     "output_type": "stream",
     "text": [
      "Salida counts = {'1': 1}\n",
      "Given the former angle theta and quantum state, the new prediction is:\n",
      "Prediction = 1\n",
      "int(Prediction) = 1 \n",
      "\n",
      "Overall Probability = -1.0848724282846387\n"
     ]
    },
    {
     "data": {
      "text/latex": [
       "$\\displaystyle \n",
       "$$ |\\psi\\rangle =\\begin{bmatrix}\n",
       "-0.99113 \\\\\n",
       "-0.13292\\end{bmatrix} $"
      ],
      "text/plain": [
       "<IPython.core.display.Math object>"
      ]
     },
     "metadata": {},
     "output_type": "display_data"
    },
    {
     "name": "stdout",
     "output_type": "stream",
     "text": [
      "Salida counts = {'0': 1}\n",
      "Given the former angle theta and quantum state, the new prediction is:\n",
      "Prediction = 0\n",
      "int(Prediction) = 0 \n",
      "\n",
      "Overall Probability = -0.9894807363087309\n"
     ]
    },
    {
     "data": {
      "text/latex": [
       "$\\displaystyle \n",
       "$$ |\\psi\\rangle =\\begin{bmatrix}\n",
       "-0.99986 \\\\\n",
       "0.01652\\end{bmatrix} $"
      ],
      "text/plain": [
       "<IPython.core.display.Math object>"
      ]
     },
     "metadata": {},
     "output_type": "display_data"
    },
    {
     "name": "stdout",
     "output_type": "stream",
     "text": [
      "Salida counts = {'0': 1}\n",
      "Given the former angle theta and quantum state, the new prediction is:\n",
      "Prediction = 0\n",
      "int(Prediction) = 0 \n",
      "\n",
      "Overall Probability = -0.35315159104554045\n"
     ]
    },
    {
     "data": {
      "text/latex": [
       "$\\displaystyle \n",
       "$$ |\\psi\\rangle =\\begin{bmatrix}\n",
       "-0.52671 \\\\\n",
       "0.85004\\end{bmatrix} $"
      ],
      "text/plain": [
       "<IPython.core.display.Math object>"
      ]
     },
     "metadata": {},
     "output_type": "display_data"
    },
    {
     "name": "stdout",
     "output_type": "stream",
     "text": [
      "Salida counts = {'1': 1}\n",
      "Given the former angle theta and quantum state, the new prediction is:\n",
      "Prediction = 1\n",
      "int(Prediction) = 1 \n",
      "\n",
      "Overall Probability = -0.9063944040318501\n"
     ]
    },
    {
     "data": {
      "text/latex": [
       "$\\displaystyle \n",
       "$$ |\\psi\\rangle =\\begin{bmatrix}\n",
       "-0.98921 \\\\\n",
       "0.14651\\end{bmatrix} $"
      ],
      "text/plain": [
       "<IPython.core.display.Math object>"
      ]
     },
     "metadata": {},
     "output_type": "display_data"
    },
    {
     "name": "stdout",
     "output_type": "stream",
     "text": [
      "Salida counts = {'0': 1}\n",
      "Given the former angle theta and quantum state, the new prediction is:\n",
      "Prediction = 0\n",
      "int(Prediction) = 0 \n",
      "\n",
      "Overall Probability = -0.8930118628845264\n"
     ]
    },
    {
     "data": {
      "text/latex": [
       "$\\displaystyle \n",
       "$$ |\\psi\\rangle =\\begin{bmatrix}\n",
       "-0.98591 \\\\\n",
       "0.16727\\end{bmatrix} $"
      ],
      "text/plain": [
       "<IPython.core.display.Math object>"
      ]
     },
     "metadata": {},
     "output_type": "display_data"
    },
    {
     "name": "stdout",
     "output_type": "stream",
     "text": [
      "Salida counts = {'0': 1}\n",
      "Given the former angle theta and quantum state, the new prediction is:\n",
      "Prediction = 0\n",
      "int(Prediction) = 0 \n",
      "\n",
      "Overall Probability = -1.085215808623024\n"
     ]
    },
    {
     "data": {
      "text/latex": [
       "$\\displaystyle \n",
       "$$ |\\psi\\rangle =\\begin{bmatrix}\n",
       "-0.99105 \\\\\n",
       "-0.13346\\end{bmatrix} $"
      ],
      "text/plain": [
       "<IPython.core.display.Math object>"
      ]
     },
     "metadata": {},
     "output_type": "display_data"
    },
    {
     "name": "stdout",
     "output_type": "stream",
     "text": [
      "Salida counts = {'0': 1}\n",
      "Given the former angle theta and quantum state, the new prediction is:\n",
      "Prediction = 0\n",
      "int(Prediction) = 0 \n",
      "\n",
      "Overall Probability = -0.9904425331357105\n"
     ]
    },
    {
     "data": {
      "text/latex": [
       "$\\displaystyle \n",
       "$$ |\\psi\\rangle =\\begin{bmatrix}\n",
       "-0.99989 \\\\\n",
       "0.01501\\end{bmatrix} $"
      ],
      "text/plain": [
       "<IPython.core.display.Math object>"
      ]
     },
     "metadata": {},
     "output_type": "display_data"
    },
    {
     "name": "stdout",
     "output_type": "stream",
     "text": [
      "Salida counts = {'0': 1}\n",
      "Given the former angle theta and quantum state, the new prediction is:\n",
      "Prediction = 0\n",
      "int(Prediction) = 0 \n",
      "\n",
      "Overall Probability = -1.0856104722573205\n"
     ]
    },
    {
     "data": {
      "text/latex": [
       "$\\displaystyle \n",
       "$$ |\\psi\\rangle =\\begin{bmatrix}\n",
       "-0.99097 \\\\\n",
       "-0.13407\\end{bmatrix} $"
      ],
      "text/plain": [
       "<IPython.core.display.Math object>"
      ]
     },
     "metadata": {},
     "output_type": "display_data"
    },
    {
     "name": "stdout",
     "output_type": "stream",
     "text": [
      "Salida counts = {'0': 1}\n",
      "Given the former angle theta and quantum state, the new prediction is:\n",
      "Prediction = 0\n",
      "int(Prediction) = 0 \n",
      "\n",
      "Overall Probability = -1.0851174069088327\n"
     ]
    },
    {
     "data": {
      "text/latex": [
       "$\\displaystyle \n",
       "$$ |\\psi\\rangle =\\begin{bmatrix}\n",
       "-0.99108 \\\\\n",
       "-0.13330\\end{bmatrix} $"
      ],
      "text/plain": [
       "<IPython.core.display.Math object>"
      ]
     },
     "metadata": {},
     "output_type": "display_data"
    },
    {
     "name": "stdout",
     "output_type": "stream",
     "text": [
      "Salida counts = {'0': 1}\n",
      "Given the former angle theta and quantum state, the new prediction is:\n",
      "Prediction = 0\n",
      "int(Prediction) = 0 \n",
      "\n",
      "Overall Probability = -1.0768001432698089\n"
     ]
    },
    {
     "data": {
      "text/latex": [
       "$\\displaystyle \n",
       "$$ |\\psi\\rangle =\\begin{bmatrix}\n",
       "-0.99273 \\\\\n",
       "-0.12034\\end{bmatrix} $"
      ],
      "text/plain": [
       "<IPython.core.display.Math object>"
      ]
     },
     "metadata": {},
     "output_type": "display_data"
    },
    {
     "name": "stdout",
     "output_type": "stream",
     "text": [
      "Salida counts = {'0': 1}\n",
      "Given the former angle theta and quantum state, the new prediction is:\n",
      "Prediction = 0\n",
      "int(Prediction) = 0 \n",
      "\n",
      "Overall Probability = -0.14286531099147404\n"
     ]
    },
    {
     "data": {
      "text/latex": [
       "$\\displaystyle \n",
       "$$ |\\psi\\rangle =\\begin{bmatrix}\n",
       "-0.22253 \\\\\n",
       "0.97493\\end{bmatrix} $"
      ],
      "text/plain": [
       "<IPython.core.display.Math object>"
      ]
     },
     "metadata": {},
     "output_type": "display_data"
    },
    {
     "name": "stdout",
     "output_type": "stream",
     "text": [
      "Salida counts = {'1': 1}\n",
      "Given the former angle theta and quantum state, the new prediction is:\n",
      "Prediction = 1\n",
      "int(Prediction) = 1 \n",
      "\n",
      "Overall Probability = -0.5007044510093474\n"
     ]
    },
    {
     "data": {
      "text/latex": [
       "$\\displaystyle \n",
       "$$ |\\psi\\rangle =\\begin{bmatrix}\n",
       "-0.70789 \\\\\n",
       "0.70632\\end{bmatrix} $"
      ],
      "text/plain": [
       "<IPython.core.display.Math object>"
      ]
     },
     "metadata": {},
     "output_type": "display_data"
    },
    {
     "name": "stdout",
     "output_type": "stream",
     "text": [
      "Salida counts = {'0': 1}\n",
      "Given the former angle theta and quantum state, the new prediction is:\n",
      "Prediction = 0\n",
      "int(Prediction) = 0 \n",
      "\n",
      "Overall Probability = -1.0405419951523278\n"
     ]
    },
    {
     "data": {
      "text/latex": [
       "$\\displaystyle \n",
       "$$ |\\psi\\rangle =\\begin{bmatrix}\n",
       "-0.99797 \\\\\n",
       "-0.06364\\end{bmatrix} $"
      ],
      "text/plain": [
       "<IPython.core.display.Math object>"
      ]
     },
     "metadata": {},
     "output_type": "display_data"
    },
    {
     "name": "stdout",
     "output_type": "stream",
     "text": [
      "Salida counts = {'0': 1}\n",
      "Given the former angle theta and quantum state, the new prediction is:\n",
      "Prediction = 0\n",
      "int(Prediction) = 0 \n",
      "\n",
      "Overall Probability = -0.7099643421045057\n"
     ]
    },
    {
     "data": {
      "text/latex": [
       "$\\displaystyle \n",
       "$$ |\\psi\\rangle =\\begin{bmatrix}\n",
       "-0.89800 \\\\\n",
       "0.43999\\end{bmatrix} $"
      ],
      "text/plain": [
       "<IPython.core.display.Math object>"
      ]
     },
     "metadata": {},
     "output_type": "display_data"
    },
    {
     "name": "stdout",
     "output_type": "stream",
     "text": [
      "Salida counts = {'0': 1}\n",
      "Given the former angle theta and quantum state, the new prediction is:\n",
      "Prediction = 0\n",
      "int(Prediction) = 0 \n",
      "\n",
      "Overall Probability = -0.4544109781730903\n"
     ]
    },
    {
     "data": {
      "text/latex": [
       "$\\displaystyle \n",
       "$$ |\\psi\\rangle =\\begin{bmatrix}\n",
       "-0.65470 \\\\\n",
       "0.75589\\end{bmatrix} $"
      ],
      "text/plain": [
       "<IPython.core.display.Math object>"
      ]
     },
     "metadata": {},
     "output_type": "display_data"
    },
    {
     "name": "stdout",
     "output_type": "stream",
     "text": [
      "Salida counts = {'1': 1}\n",
      "Given the former angle theta and quantum state, the new prediction is:\n",
      "Prediction = 1\n",
      "int(Prediction) = 1 \n",
      "\n",
      "Overall Probability = -0.445367616982422\n"
     ]
    },
    {
     "data": {
      "text/latex": [
       "$\\displaystyle \n",
       "$$ |\\psi\\rangle =\\begin{bmatrix}\n",
       "-0.64390 \\\\\n",
       "0.76511\\end{bmatrix} $"
      ],
      "text/plain": [
       "<IPython.core.display.Math object>"
      ]
     },
     "metadata": {},
     "output_type": "display_data"
    },
    {
     "name": "stdout",
     "output_type": "stream",
     "text": [
      "Salida counts = {'1': 1}\n",
      "Given the former angle theta and quantum state, the new prediction is:\n",
      "Prediction = 1\n",
      "int(Prediction) = 1 \n",
      "\n",
      "Overall Probability = -0.4452745118585537\n"
     ]
    },
    {
     "data": {
      "text/latex": [
       "$\\displaystyle \n",
       "$$ |\\psi\\rangle =\\begin{bmatrix}\n",
       "-0.64379 \\\\\n",
       "0.76521\\end{bmatrix} $"
      ],
      "text/plain": [
       "<IPython.core.display.Math object>"
      ]
     },
     "metadata": {},
     "output_type": "display_data"
    },
    {
     "name": "stdout",
     "output_type": "stream",
     "text": [
      "Salida counts = {'0': 1}\n",
      "Given the former angle theta and quantum state, the new prediction is:\n",
      "Prediction = 0\n",
      "int(Prediction) = 0 \n",
      "\n",
      "Overall Probability = -0.3661794852634167\n"
     ]
    },
    {
     "data": {
      "text/latex": [
       "$\\displaystyle \n",
       "$$ |\\psi\\rangle =\\begin{bmatrix}\n",
       "-0.54400 \\\\\n",
       "0.83909\\end{bmatrix} $"
      ],
      "text/plain": [
       "<IPython.core.display.Math object>"
      ]
     },
     "metadata": {},
     "output_type": "display_data"
    },
    {
     "name": "stdout",
     "output_type": "stream",
     "text": [
      "Salida counts = {'1': 1}\n",
      "Given the former angle theta and quantum state, the new prediction is:\n",
      "Prediction = 1\n",
      "int(Prediction) = 1 \n",
      "\n",
      "Overall Probability = -0.1123603500803888\n"
     ]
    },
    {
     "data": {
      "text/latex": [
       "$\\displaystyle \n",
       "$$ |\\psi\\rangle =\\begin{bmatrix}\n",
       "-0.17558 \\\\\n",
       "0.98447\\end{bmatrix} $"
      ],
      "text/plain": [
       "<IPython.core.display.Math object>"
      ]
     },
     "metadata": {},
     "output_type": "display_data"
    },
    {
     "name": "stdout",
     "output_type": "stream",
     "text": [
      "Salida counts = {'1': 1}\n",
      "Given the former angle theta and quantum state, the new prediction is:\n",
      "Prediction = 1\n",
      "int(Prediction) = 1 \n",
      "\n",
      "Overall Probability = -0.5394550010450593\n"
     ]
    },
    {
     "data": {
      "text/latex": [
       "$\\displaystyle \n",
       "$$ |\\psi\\rangle =\\begin{bmatrix}\n",
       "-0.74954 \\\\\n",
       "0.66195\\end{bmatrix} $"
      ],
      "text/plain": [
       "<IPython.core.display.Math object>"
      ]
     },
     "metadata": {},
     "output_type": "display_data"
    },
    {
     "name": "stdout",
     "output_type": "stream",
     "text": [
      "Salida counts = {'0': 1}\n",
      "Given the former angle theta and quantum state, the new prediction is:\n",
      "Prediction = 0\n",
      "int(Prediction) = 0 \n",
      "\n",
      "Overall Probability = 0.04018224333090834\n"
     ]
    },
    {
     "data": {
      "text/latex": [
       "$\\displaystyle \n",
       "$$ |\\psi\\rangle =\\begin{bmatrix}\n",
       "0.06308 \\\\\n",
       "0.99801\\end{bmatrix} $"
      ],
      "text/plain": [
       "<IPython.core.display.Math object>"
      ]
     },
     "metadata": {},
     "output_type": "display_data"
    },
    {
     "name": "stdout",
     "output_type": "stream",
     "text": [
      "Salida counts = {'1': 1}\n",
      "Given the former angle theta and quantum state, the new prediction is:\n",
      "Prediction = 1\n",
      "int(Prediction) = 1 \n",
      "\n",
      "Overall Probability = -0.985617850927065\n"
     ]
    },
    {
     "data": {
      "text/latex": [
       "$\\displaystyle \n",
       "$$ |\\psi\\rangle =\\begin{bmatrix}\n",
       "-0.99974 \\\\\n",
       "0.02259\\end{bmatrix} $"
      ],
      "text/plain": [
       "<IPython.core.display.Math object>"
      ]
     },
     "metadata": {},
     "output_type": "display_data"
    },
    {
     "name": "stdout",
     "output_type": "stream",
     "text": [
      "Salida counts = {'0': 1}\n",
      "Given the former angle theta and quantum state, the new prediction is:\n",
      "Prediction = 0\n",
      "int(Prediction) = 0 \n",
      "\n",
      "Overall Probability = -0.8942352113796342\n"
     ]
    },
    {
     "data": {
      "text/latex": [
       "$\\displaystyle \n",
       "$$ |\\psi\\rangle =\\begin{bmatrix}\n",
       "-0.98623 \\\\\n",
       "0.16537\\end{bmatrix} $"
      ],
      "text/plain": [
       "<IPython.core.display.Math object>"
      ]
     },
     "metadata": {},
     "output_type": "display_data"
    },
    {
     "name": "stdout",
     "output_type": "stream",
     "text": [
      "Salida counts = {'0': 1}\n",
      "Given the former angle theta and quantum state, the new prediction is:\n",
      "Prediction = 0\n",
      "int(Prediction) = 0 \n",
      "\n",
      "Overall Probability = -1.0825233765001667\n"
     ]
    },
    {
     "data": {
      "text/latex": [
       "$\\displaystyle \n",
       "$$ |\\psi\\rangle =\\begin{bmatrix}\n",
       "-0.99161 \\\\\n",
       "-0.12926\\end{bmatrix} $"
      ],
      "text/plain": [
       "<IPython.core.display.Math object>"
      ]
     },
     "metadata": {},
     "output_type": "display_data"
    },
    {
     "name": "stdout",
     "output_type": "stream",
     "text": [
      "Salida counts = {'0': 1}\n",
      "Given the former angle theta and quantum state, the new prediction is:\n",
      "Prediction = 0\n",
      "int(Prediction) = 0 \n",
      "\n",
      "Overall Probability = -0.7262491549616297\n"
     ]
    },
    {
     "data": {
      "text/latex": [
       "$\\displaystyle \n",
       "$$ |\\psi\\rangle =\\begin{bmatrix}\n",
       "-0.90896 \\\\\n",
       "0.41688\\end{bmatrix} $"
      ],
      "text/plain": [
       "<IPython.core.display.Math object>"
      ]
     },
     "metadata": {},
     "output_type": "display_data"
    },
    {
     "name": "stdout",
     "output_type": "stream",
     "text": [
      "Salida counts = {'0': 1}\n",
      "Given the former angle theta and quantum state, the new prediction is:\n",
      "Prediction = 0\n",
      "int(Prediction) = 0 \n",
      "\n",
      "Overall Probability = -0.97598674831537\n"
     ]
    },
    {
     "data": {
      "text/latex": [
       "$\\displaystyle \n",
       "$$ |\\psi\\rangle =\\begin{bmatrix}\n",
       "-0.99929 \\\\\n",
       "0.03771\\end{bmatrix} $"
      ],
      "text/plain": [
       "<IPython.core.display.Math object>"
      ]
     },
     "metadata": {},
     "output_type": "display_data"
    },
    {
     "name": "stdout",
     "output_type": "stream",
     "text": [
      "Salida counts = {'0': 1}\n",
      "Given the former angle theta and quantum state, the new prediction is:\n",
      "Prediction = 0\n",
      "int(Prediction) = 0 \n",
      "\n",
      "Overall Probability = -0.89395842100813\n"
     ]
    },
    {
     "data": {
      "text/latex": [
       "$\\displaystyle \n",
       "$$ |\\psi\\rangle =\\begin{bmatrix}\n",
       "-0.98616 \\\\\n",
       "0.16580\\end{bmatrix} $"
      ],
      "text/plain": [
       "<IPython.core.display.Math object>"
      ]
     },
     "metadata": {},
     "output_type": "display_data"
    },
    {
     "name": "stdout",
     "output_type": "stream",
     "text": [
      "Salida counts = {'0': 1}\n",
      "Given the former angle theta and quantum state, the new prediction is:\n",
      "Prediction = 0\n",
      "int(Prediction) = 0 \n",
      "\n",
      "Overall Probability = 0.23111900494359122\n"
     ]
    },
    {
     "data": {
      "text/latex": [
       "$\\displaystyle \n",
       "$$ |\\psi\\rangle =\\begin{bmatrix}\n",
       "0.35512 \\\\\n",
       "0.93482\\end{bmatrix} $"
      ],
      "text/plain": [
       "<IPython.core.display.Math object>"
      ]
     },
     "metadata": {},
     "output_type": "display_data"
    },
    {
     "name": "stdout",
     "output_type": "stream",
     "text": [
      "Salida counts = {'1': 1}\n",
      "Given the former angle theta and quantum state, the new prediction is:\n",
      "Prediction = 1\n",
      "int(Prediction) = 1 \n",
      "\n",
      "Overall Probability = -0.8969976592085727\n"
     ]
    },
    {
     "data": {
      "text/latex": [
       "$\\displaystyle \n",
       "$$ |\\psi\\rangle =\\begin{bmatrix}\n",
       "-0.98694 \\\\\n",
       "0.16109\\end{bmatrix} $"
      ],
      "text/plain": [
       "<IPython.core.display.Math object>"
      ]
     },
     "metadata": {},
     "output_type": "display_data"
    },
    {
     "name": "stdout",
     "output_type": "stream",
     "text": [
      "Salida counts = {'0': 1}\n",
      "Given the former angle theta and quantum state, the new prediction is:\n",
      "Prediction = 0\n",
      "int(Prediction) = 0 \n",
      "\n",
      "Overall Probability = -1.0841920989608618\n"
     ]
    },
    {
     "data": {
      "text/latex": [
       "$\\displaystyle \n",
       "$$ |\\psi\\rangle =\\begin{bmatrix}\n",
       "-0.99127 \\\\\n",
       "-0.13186\\end{bmatrix} $"
      ],
      "text/plain": [
       "<IPython.core.display.Math object>"
      ]
     },
     "metadata": {},
     "output_type": "display_data"
    },
    {
     "name": "stdout",
     "output_type": "stream",
     "text": [
      "Salida counts = {'0': 1}\n",
      "Given the former angle theta and quantum state, the new prediction is:\n",
      "Prediction = 0\n",
      "int(Prediction) = 0 \n",
      "\n",
      "Overall Probability = -1.0850775229455583\n"
     ]
    },
    {
     "data": {
      "text/latex": [
       "$\\displaystyle \n",
       "$$ |\\psi\\rangle =\\begin{bmatrix}\n",
       "-0.99108 \\\\\n",
       "-0.13324\\end{bmatrix} $"
      ],
      "text/plain": [
       "<IPython.core.display.Math object>"
      ]
     },
     "metadata": {},
     "output_type": "display_data"
    },
    {
     "name": "stdout",
     "output_type": "stream",
     "text": [
      "Salida counts = {'0': 1}\n",
      "Given the former angle theta and quantum state, the new prediction is:\n",
      "Prediction = 0\n",
      "int(Prediction) = 0 \n",
      "\n",
      "Overall Probability = -0.4453330296094702\n"
     ]
    },
    {
     "data": {
      "text/latex": [
       "$\\displaystyle \n",
       "$$ |\\psi\\rangle =\\begin{bmatrix}\n",
       "-0.64386 \\\\\n",
       "0.76515\\end{bmatrix} $"
      ],
      "text/plain": [
       "<IPython.core.display.Math object>"
      ]
     },
     "metadata": {},
     "output_type": "display_data"
    },
    {
     "name": "stdout",
     "output_type": "stream",
     "text": [
      "Salida counts = {'0': 1}\n",
      "Given the former angle theta and quantum state, the new prediction is:\n",
      "Prediction = 0\n",
      "int(Prediction) = 0 \n",
      "\n",
      "Overall Probability = -1.0467020427232692\n"
     ]
    },
    {
     "data": {
      "text/latex": [
       "$\\displaystyle \n",
       "$$ |\\psi\\rangle =\\begin{bmatrix}\n",
       "-0.99731 \\\\\n",
       "-0.07329\\end{bmatrix} $"
      ],
      "text/plain": [
       "<IPython.core.display.Math object>"
      ]
     },
     "metadata": {},
     "output_type": "display_data"
    },
    {
     "name": "stdout",
     "output_type": "stream",
     "text": [
      "Salida counts = {'0': 1}\n",
      "Given the former angle theta and quantum state, the new prediction is:\n",
      "Prediction = 0\n",
      "int(Prediction) = 0 \n",
      "\n",
      "Overall Probability = -0.9086170968279892\n"
     ]
    },
    {
     "data": {
      "text/latex": [
       "$\\displaystyle \n",
       "$$ |\\psi\\rangle =\\begin{bmatrix}\n",
       "-0.98972 \\\\\n",
       "0.14305\\end{bmatrix} $"
      ],
      "text/plain": [
       "<IPython.core.display.Math object>"
      ]
     },
     "metadata": {},
     "output_type": "display_data"
    },
    {
     "name": "stdout",
     "output_type": "stream",
     "text": [
      "Salida counts = {'0': 1}\n",
      "Given the former angle theta and quantum state, the new prediction is:\n",
      "Prediction = 0\n",
      "int(Prediction) = 0 \n",
      "\n",
      "Overall Probability = -0.4269306339310004\n"
     ]
    },
    {
     "data": {
      "text/latex": [
       "$\\displaystyle \n",
       "$$ |\\psi\\rangle =\\begin{bmatrix}\n",
       "-0.62147 \\\\\n",
       "0.78344\\end{bmatrix} $"
      ],
      "text/plain": [
       "<IPython.core.display.Math object>"
      ]
     },
     "metadata": {},
     "output_type": "display_data"
    },
    {
     "name": "stdout",
     "output_type": "stream",
     "text": [
      "Salida counts = {'1': 1}\n",
      "Given the former angle theta and quantum state, the new prediction is:\n",
      "Prediction = 1\n",
      "int(Prediction) = 1 \n",
      "\n",
      "Overall Probability = -1.0837162056374758\n"
     ]
    },
    {
     "data": {
      "text/latex": [
       "$\\displaystyle \n",
       "$$ |\\psi\\rangle =\\begin{bmatrix}\n",
       "-0.99137 \\\\\n",
       "-0.13112\\end{bmatrix} $"
      ],
      "text/plain": [
       "<IPython.core.display.Math object>"
      ]
     },
     "metadata": {},
     "output_type": "display_data"
    },
    {
     "name": "stdout",
     "output_type": "stream",
     "text": [
      "Salida counts = {'0': 1}\n",
      "Given the former angle theta and quantum state, the new prediction is:\n",
      "Prediction = 0\n",
      "int(Prediction) = 0 \n",
      "\n",
      "Overall Probability = -0.6069195407410812\n"
     ]
    },
    {
     "data": {
      "text/latex": [
       "$\\displaystyle \n",
       "$$ |\\psi\\rangle =\\begin{bmatrix}\n",
       "-0.81536 \\\\\n",
       "0.57896\\end{bmatrix} $"
      ],
      "text/plain": [
       "<IPython.core.display.Math object>"
      ]
     },
     "metadata": {},
     "output_type": "display_data"
    },
    {
     "name": "stdout",
     "output_type": "stream",
     "text": [
      "Salida counts = {'0': 1}\n",
      "Given the former angle theta and quantum state, the new prediction is:\n",
      "Prediction = 0\n",
      "int(Prediction) = 0 \n",
      "\n",
      "Overall Probability = -0.44535695998743496\n"
     ]
    },
    {
     "data": {
      "text/latex": [
       "$\\displaystyle \n",
       "$$ |\\psi\\rangle =\\begin{bmatrix}\n",
       "-0.64388 \\\\\n",
       "0.76512\\end{bmatrix} $"
      ],
      "text/plain": [
       "<IPython.core.display.Math object>"
      ]
     },
     "metadata": {},
     "output_type": "display_data"
    },
    {
     "name": "stdout",
     "output_type": "stream",
     "text": [
      "Salida counts = {'1': 1}\n",
      "Given the former angle theta and quantum state, the new prediction is:\n",
      "Prediction = 1\n",
      "int(Prediction) = 1 \n",
      "\n",
      "Overall Probability = -0.9894674629257532\n"
     ]
    },
    {
     "data": {
      "text/latex": [
       "$\\displaystyle \n",
       "$$ |\\psi\\rangle =\\begin{bmatrix}\n",
       "-0.99986 \\\\\n",
       "0.01654\\end{bmatrix} $"
      ],
      "text/plain": [
       "<IPython.core.display.Math object>"
      ]
     },
     "metadata": {},
     "output_type": "display_data"
    },
    {
     "name": "stdout",
     "output_type": "stream",
     "text": [
      "Salida counts = {'0': 1}\n",
      "Given the former angle theta and quantum state, the new prediction is:\n",
      "Prediction = 0\n",
      "int(Prediction) = 0 \n",
      "\n",
      "Overall Probability = -0.15121702002731627\n"
     ]
    },
    {
     "data": {
      "text/latex": [
       "$\\displaystyle \n",
       "$$ |\\psi\\rangle =\\begin{bmatrix}\n",
       "-0.23530 \\\\\n",
       "0.97192\\end{bmatrix} $"
      ],
      "text/plain": [
       "<IPython.core.display.Math object>"
      ]
     },
     "metadata": {},
     "output_type": "display_data"
    },
    {
     "name": "stdout",
     "output_type": "stream",
     "text": [
      "Salida counts = {'1': 1}\n",
      "Given the former angle theta and quantum state, the new prediction is:\n",
      "Prediction = 1\n",
      "int(Prediction) = 1 \n",
      "\n",
      "Overall Probability = -1.084266941465913\n"
     ]
    },
    {
     "data": {
      "text/latex": [
       "$\\displaystyle \n",
       "$$ |\\psi\\rangle =\\begin{bmatrix}\n",
       "-0.99125 \\\\\n",
       "-0.13198\\end{bmatrix} $"
      ],
      "text/plain": [
       "<IPython.core.display.Math object>"
      ]
     },
     "metadata": {},
     "output_type": "display_data"
    },
    {
     "name": "stdout",
     "output_type": "stream",
     "text": [
      "Salida counts = {'0': 1}\n",
      "Given the former angle theta and quantum state, the new prediction is:\n",
      "Prediction = 0\n",
      "int(Prediction) = 0 \n",
      "\n",
      "Overall Probability = -0.989483416511063\n"
     ]
    },
    {
     "data": {
      "text/latex": [
       "$\\displaystyle \n",
       "$$ |\\psi\\rangle =\\begin{bmatrix}\n",
       "-0.99986 \\\\\n",
       "0.01652\\end{bmatrix} $"
      ],
      "text/plain": [
       "<IPython.core.display.Math object>"
      ]
     },
     "metadata": {},
     "output_type": "display_data"
    },
    {
     "name": "stdout",
     "output_type": "stream",
     "text": [
      "Salida counts = {'0': 1}\n",
      "Given the former angle theta and quantum state, the new prediction is:\n",
      "Prediction = 0\n",
      "int(Prediction) = 0 \n",
      "\n",
      "Overall Probability = 0.07937178237313999\n"
     ]
    },
    {
     "data": {
      "text/latex": [
       "$\\displaystyle \n",
       "$$ |\\psi\\rangle =\\begin{bmatrix}\n",
       "0.12435 \\\\\n",
       "0.99224\\end{bmatrix} $"
      ],
      "text/plain": [
       "<IPython.core.display.Math object>"
      ]
     },
     "metadata": {},
     "output_type": "display_data"
    },
    {
     "name": "stdout",
     "output_type": "stream",
     "text": [
      "Salida counts = {'1': 1}\n",
      "Given the former angle theta and quantum state, the new prediction is:\n",
      "Prediction = 1\n",
      "int(Prediction) = 1 \n",
      "\n",
      "Overall Probability = -1.0851174069088327\n"
     ]
    },
    {
     "data": {
      "text/latex": [
       "$\\displaystyle \n",
       "$$ |\\psi\\rangle =\\begin{bmatrix}\n",
       "-0.99108 \\\\\n",
       "-0.13330\\end{bmatrix} $"
      ],
      "text/plain": [
       "<IPython.core.display.Math object>"
      ]
     },
     "metadata": {},
     "output_type": "display_data"
    },
    {
     "name": "stdout",
     "output_type": "stream",
     "text": [
      "Salida counts = {'0': 1}\n",
      "Given the former angle theta and quantum state, the new prediction is:\n",
      "Prediction = 0\n",
      "int(Prediction) = 0 \n",
      "\n",
      "Overall Probability = -0.8946534342230706\n"
     ]
    },
    {
     "data": {
      "text/latex": [
       "$\\displaystyle \n",
       "$$ |\\psi\\rangle =\\begin{bmatrix}\n",
       "-0.98634 \\\\\n",
       "0.16472\\end{bmatrix} $"
      ],
      "text/plain": [
       "<IPython.core.display.Math object>"
      ]
     },
     "metadata": {},
     "output_type": "display_data"
    },
    {
     "name": "stdout",
     "output_type": "stream",
     "text": [
      "Salida counts = {'0': 1}\n",
      "Given the former angle theta and quantum state, the new prediction is:\n",
      "Prediction = 0\n",
      "int(Prediction) = 0 \n",
      "\n",
      "Overall Probability = -1.0836815740955685\n"
     ]
    },
    {
     "data": {
      "text/latex": [
       "$\\displaystyle \n",
       "$$ |\\psi\\rangle =\\begin{bmatrix}\n",
       "-0.99137 \\\\\n",
       "-0.13107\\end{bmatrix} $"
      ],
      "text/plain": [
       "<IPython.core.display.Math object>"
      ]
     },
     "metadata": {},
     "output_type": "display_data"
    },
    {
     "name": "stdout",
     "output_type": "stream",
     "text": [
      "Salida counts = {'0': 1}\n",
      "Given the former angle theta and quantum state, the new prediction is:\n",
      "Prediction = 0\n",
      "int(Prediction) = 0 \n",
      "\n",
      "Overall Probability = -0.44951486827803844\n"
     ]
    },
    {
     "data": {
      "text/latex": [
       "$\\displaystyle \n",
       "$$ |\\psi\\rangle =\\begin{bmatrix}\n",
       "-0.64887 \\\\\n",
       "0.76090\\end{bmatrix} $"
      ],
      "text/plain": [
       "<IPython.core.display.Math object>"
      ]
     },
     "metadata": {},
     "output_type": "display_data"
    },
    {
     "name": "stdout",
     "output_type": "stream",
     "text": [
      "Salida counts = {'0': 1}\n",
      "Given the former angle theta and quantum state, the new prediction is:\n",
      "Prediction = 0\n",
      "int(Prediction) = 0 \n",
      "\n",
      "Overall Probability = -1.0829904254891745\n"
     ]
    },
    {
     "data": {
      "text/latex": [
       "$\\displaystyle \n",
       "$$ |\\psi\\rangle =\\begin{bmatrix}\n",
       "-0.99152 \\\\\n",
       "-0.12999\\end{bmatrix} $"
      ],
      "text/plain": [
       "<IPython.core.display.Math object>"
      ]
     },
     "metadata": {},
     "output_type": "display_data"
    },
    {
     "name": "stdout",
     "output_type": "stream",
     "text": [
      "Salida counts = {'0': 1}\n",
      "Given the former angle theta and quantum state, the new prediction is:\n",
      "Prediction = 0\n",
      "int(Prediction) = 0 \n",
      "\n",
      "Overall Probability = -1.0897750322936848\n"
     ]
    },
    {
     "data": {
      "text/latex": [
       "$\\displaystyle \n",
       "$$ |\\psi\\rangle =\\begin{bmatrix}\n",
       "-0.99007 \\\\\n",
       "-0.14055\\end{bmatrix} $"
      ],
      "text/plain": [
       "<IPython.core.display.Math object>"
      ]
     },
     "metadata": {},
     "output_type": "display_data"
    },
    {
     "name": "stdout",
     "output_type": "stream",
     "text": [
      "Salida counts = {'0': 1}\n",
      "Given the former angle theta and quantum state, the new prediction is:\n",
      "Prediction = 0\n",
      "int(Prediction) = 0 \n",
      "\n",
      "Overall Probability = -1.042177988916781\n"
     ]
    },
    {
     "data": {
      "text/latex": [
       "$\\displaystyle \n",
       "$$ |\\psi\\rangle =\\begin{bmatrix}\n",
       "-0.99781 \\\\\n",
       "-0.06620\\end{bmatrix} $"
      ],
      "text/plain": [
       "<IPython.core.display.Math object>"
      ]
     },
     "metadata": {},
     "output_type": "display_data"
    },
    {
     "name": "stdout",
     "output_type": "stream",
     "text": [
      "Salida counts = {'0': 1}\n",
      "Given the former angle theta and quantum state, the new prediction is:\n",
      "Prediction = 0\n",
      "int(Prediction) = 0 \n",
      "\n",
      "Overall Probability = -0.15059736130029183\n"
     ]
    },
    {
     "data": {
      "text/latex": [
       "$\\displaystyle \n",
       "$$ |\\psi\\rangle =\\begin{bmatrix}\n",
       "-0.23436 \\\\\n",
       "0.97215\\end{bmatrix} $"
      ],
      "text/plain": [
       "<IPython.core.display.Math object>"
      ]
     },
     "metadata": {},
     "output_type": "display_data"
    },
    {
     "name": "stdout",
     "output_type": "stream",
     "text": [
      "Salida counts = {'1': 1}\n",
      "Given the former angle theta and quantum state, the new prediction is:\n",
      "Prediction = 1\n",
      "int(Prediction) = 1 \n",
      "\n",
      "Overall Probability = -0.3509099702926336\n"
     ]
    },
    {
     "data": {
      "text/latex": [
       "$\\displaystyle \n",
       "$$ |\\psi\\rangle =\\begin{bmatrix}\n",
       "-0.52372 \\\\\n",
       "0.85189\\end{bmatrix} $"
      ],
      "text/plain": [
       "<IPython.core.display.Math object>"
      ]
     },
     "metadata": {},
     "output_type": "display_data"
    },
    {
     "name": "stdout",
     "output_type": "stream",
     "text": [
      "Salida counts = {'0': 1}\n",
      "Given the former angle theta and quantum state, the new prediction is:\n",
      "Prediction = 0\n",
      "int(Prediction) = 0 \n",
      "\n",
      "Overall Probability = -0.8966347597187039\n"
     ]
    },
    {
     "data": {
      "text/latex": [
       "$\\displaystyle \n",
       "$$ |\\psi\\rangle =\\begin{bmatrix}\n",
       "-0.98685 \\\\\n",
       "0.16165\\end{bmatrix} $"
      ],
      "text/plain": [
       "<IPython.core.display.Math object>"
      ]
     },
     "metadata": {},
     "output_type": "display_data"
    },
    {
     "name": "stdout",
     "output_type": "stream",
     "text": [
      "Salida counts = {'0': 1}\n",
      "Given the former angle theta and quantum state, the new prediction is:\n",
      "Prediction = 0\n",
      "int(Prediction) = 0 \n",
      "\n",
      "Overall Probability = -0.34453448487087174\n"
     ]
    },
    {
     "data": {
      "text/latex": [
       "$\\displaystyle \n",
       "$$ |\\psi\\rangle =\\begin{bmatrix}\n",
       "-0.51516 \\\\\n",
       "0.85709\\end{bmatrix} $"
      ],
      "text/plain": [
       "<IPython.core.display.Math object>"
      ]
     },
     "metadata": {},
     "output_type": "display_data"
    },
    {
     "name": "stdout",
     "output_type": "stream",
     "text": [
      "Salida counts = {'0': 1}\n",
      "Given the former angle theta and quantum state, the new prediction is:\n",
      "Prediction = 0\n",
      "int(Prediction) = 0 \n",
      "\n",
      "Overall Probability = -0.35288715627025447\n"
     ]
    },
    {
     "data": {
      "text/latex": [
       "$\\displaystyle \n",
       "$$ |\\psi\\rangle =\\begin{bmatrix}\n",
       "-0.52636 \\\\\n",
       "0.85026\\end{bmatrix} $"
      ],
      "text/plain": [
       "<IPython.core.display.Math object>"
      ]
     },
     "metadata": {},
     "output_type": "display_data"
    },
    {
     "name": "stdout",
     "output_type": "stream",
     "text": [
      "Salida counts = {'1': 1}\n",
      "Given the former angle theta and quantum state, the new prediction is:\n",
      "Prediction = 1\n",
      "int(Prediction) = 1 \n",
      "\n",
      "Overall Probability = -1.0542020387806883\n"
     ]
    },
    {
     "data": {
      "text/latex": [
       "$\\displaystyle \n",
       "$$ |\\psi\\rangle =\\begin{bmatrix}\n",
       "-0.99638 \\\\\n",
       "-0.08504\\end{bmatrix} $"
      ],
      "text/plain": [
       "<IPython.core.display.Math object>"
      ]
     },
     "metadata": {},
     "output_type": "display_data"
    },
    {
     "name": "stdout",
     "output_type": "stream",
     "text": [
      "Salida counts = {'0': 1}\n",
      "Given the former angle theta and quantum state, the new prediction is:\n",
      "Prediction = 0\n",
      "int(Prediction) = 0 \n",
      "\n",
      "Overall Probability = -1.0840359825977657\n"
     ]
    },
    {
     "data": {
      "text/latex": [
       "$\\displaystyle \n",
       "$$ |\\psi\\rangle =\\begin{bmatrix}\n",
       "-0.99130 \\\\\n",
       "-0.13162\\end{bmatrix} $"
      ],
      "text/plain": [
       "<IPython.core.display.Math object>"
      ]
     },
     "metadata": {},
     "output_type": "display_data"
    },
    {
     "name": "stdout",
     "output_type": "stream",
     "text": [
      "Salida counts = {'0': 1}\n",
      "Given the former angle theta and quantum state, the new prediction is:\n",
      "Prediction = 0\n",
      "int(Prediction) = 0 \n",
      "\n",
      "Overall Probability = -0.9096626539365802\n"
     ]
    },
    {
     "data": {
      "text/latex": [
       "$\\displaystyle \n",
       "$$ |\\psi\\rangle =\\begin{bmatrix}\n",
       "-0.98995 \\\\\n",
       "0.14143\\end{bmatrix} $"
      ],
      "text/plain": [
       "<IPython.core.display.Math object>"
      ]
     },
     "metadata": {},
     "output_type": "display_data"
    },
    {
     "name": "stdout",
     "output_type": "stream",
     "text": [
      "Salida counts = {'0': 1}\n",
      "Given the former angle theta and quantum state, the new prediction is:\n",
      "Prediction = 0\n",
      "int(Prediction) = 0 \n",
      "\n",
      "Overall Probability = 0.0966867488774621\n"
     ]
    },
    {
     "data": {
      "text/latex": [
       "$\\displaystyle \n",
       "$$ |\\psi\\rangle =\\begin{bmatrix}\n",
       "0.15129 \\\\\n",
       "0.98849\\end{bmatrix} $"
      ],
      "text/plain": [
       "<IPython.core.display.Math object>"
      ]
     },
     "metadata": {},
     "output_type": "display_data"
    },
    {
     "name": "stdout",
     "output_type": "stream",
     "text": [
      "Salida counts = {'1': 1}\n",
      "Given the former angle theta and quantum state, the new prediction is:\n",
      "Prediction = 1\n",
      "int(Prediction) = 1 \n",
      "\n",
      "Overall Probability = -1.0945686414078943\n"
     ]
    },
    {
     "data": {
      "text/latex": [
       "$\\displaystyle \n",
       "$$ |\\psi\\rangle =\\begin{bmatrix}\n",
       "-0.98899 \\\\\n",
       "-0.14800\\end{bmatrix} $"
      ],
      "text/plain": [
       "<IPython.core.display.Math object>"
      ]
     },
     "metadata": {},
     "output_type": "display_data"
    },
    {
     "name": "stdout",
     "output_type": "stream",
     "text": [
      "Salida counts = {'0': 1}\n",
      "Given the former angle theta and quantum state, the new prediction is:\n",
      "Prediction = 0\n",
      "int(Prediction) = 0 \n",
      "\n",
      "Overall Probability = -0.44211696152597246\n"
     ]
    },
    {
     "data": {
      "text/latex": [
       "$\\displaystyle \n",
       "$$ |\\psi\\rangle =\\begin{bmatrix}\n",
       "-0.63998 \\\\\n",
       "0.76839\\end{bmatrix} $"
      ],
      "text/plain": [
       "<IPython.core.display.Math object>"
      ]
     },
     "metadata": {},
     "output_type": "display_data"
    },
    {
     "name": "stdout",
     "output_type": "stream",
     "text": [
      "Salida counts = {'0': 1}\n",
      "Given the former angle theta and quantum state, the new prediction is:\n",
      "Prediction = 0\n",
      "int(Prediction) = 0 \n",
      "\n",
      "Overall Probability = -0.4689363022912371\n"
     ]
    },
    {
     "data": {
      "text/latex": [
       "$\\displaystyle \n",
       "$$ |\\psi\\rangle =\\begin{bmatrix}\n",
       "-0.67178 \\\\\n",
       "0.74075\\end{bmatrix} $"
      ],
      "text/plain": [
       "<IPython.core.display.Math object>"
      ]
     },
     "metadata": {},
     "output_type": "display_data"
    },
    {
     "name": "stdout",
     "output_type": "stream",
     "text": [
      "Salida counts = {'1': 1}\n",
      "Given the former angle theta and quantum state, the new prediction is:\n",
      "Prediction = 1\n",
      "int(Prediction) = 1 \n",
      "\n",
      "Overall Probability = -0.6339117249535144\n"
     ]
    },
    {
     "data": {
      "text/latex": [
       "$\\displaystyle \n",
       "$$ |\\psi\\rangle =\\begin{bmatrix}\n",
       "-0.83917 \\\\\n",
       "0.54388\\end{bmatrix} $"
      ],
      "text/plain": [
       "<IPython.core.display.Math object>"
      ]
     },
     "metadata": {},
     "output_type": "display_data"
    },
    {
     "name": "stdout",
     "output_type": "stream",
     "text": [
      "Salida counts = {'0': 1}\n",
      "Given the former angle theta and quantum state, the new prediction is:\n",
      "Prediction = 0\n",
      "int(Prediction) = 0 \n",
      "\n",
      "Overall Probability = -0.9086946296707505\n"
     ]
    },
    {
     "data": {
      "text/latex": [
       "$\\displaystyle \n",
       "$$ |\\psi\\rangle =\\begin{bmatrix}\n",
       "-0.98973 \\\\\n",
       "0.14293\\end{bmatrix} $"
      ],
      "text/plain": [
       "<IPython.core.display.Math object>"
      ]
     },
     "metadata": {},
     "output_type": "display_data"
    },
    {
     "name": "stdout",
     "output_type": "stream",
     "text": [
      "Salida counts = {'0': 1}\n",
      "Given the former angle theta and quantum state, the new prediction is:\n",
      "Prediction = 0\n",
      "int(Prediction) = 0 \n",
      "\n",
      "Overall Probability = -0.6794351386590192\n"
     ]
    },
    {
     "data": {
      "text/latex": [
       "$\\displaystyle \n",
       "$$ |\\psi\\rangle =\\begin{bmatrix}\n",
       "-0.87588 \\\\\n",
       "0.48253\\end{bmatrix} $"
      ],
      "text/plain": [
       "<IPython.core.display.Math object>"
      ]
     },
     "metadata": {},
     "output_type": "display_data"
    },
    {
     "name": "stdout",
     "output_type": "stream",
     "text": [
      "Salida counts = {'0': 1}\n",
      "Given the former angle theta and quantum state, the new prediction is:\n",
      "Prediction = 0\n",
      "int(Prediction) = 0 \n",
      "\n",
      "Overall Probability = -1.0810013818988933\n"
     ]
    },
    {
     "data": {
      "text/latex": [
       "$\\displaystyle \n",
       "$$ |\\psi\\rangle =\\begin{bmatrix}\n",
       "-0.99192 \\\\\n",
       "-0.12689\\end{bmatrix} $"
      ],
      "text/plain": [
       "<IPython.core.display.Math object>"
      ]
     },
     "metadata": {},
     "output_type": "display_data"
    },
    {
     "name": "stdout",
     "output_type": "stream",
     "text": [
      "Salida counts = {'0': 1}\n",
      "Given the former angle theta and quantum state, the new prediction is:\n",
      "Prediction = 0\n",
      "int(Prediction) = 0 \n",
      "\n",
      "Overall Probability = -1.0857088739715115\n"
     ]
    },
    {
     "data": {
      "text/latex": [
       "$\\displaystyle \n",
       "$$ |\\psi\\rangle =\\begin{bmatrix}\n",
       "-0.99095 \\\\\n",
       "-0.13422\\end{bmatrix} $"
      ],
      "text/plain": [
       "<IPython.core.display.Math object>"
      ]
     },
     "metadata": {},
     "output_type": "display_data"
    },
    {
     "name": "stdout",
     "output_type": "stream",
     "text": [
      "Salida counts = {'0': 1}\n",
      "Given the former angle theta and quantum state, the new prediction is:\n",
      "Prediction = 0\n",
      "int(Prediction) = 0 \n",
      "\n",
      "Overall Probability = -0.5374290478629613\n"
     ]
    },
    {
     "data": {
      "text/latex": [
       "$\\displaystyle \n",
       "$$ |\\psi\\rangle =\\begin{bmatrix}\n",
       "-0.74743 \\\\\n",
       "0.66434\\end{bmatrix} $"
      ],
      "text/plain": [
       "<IPython.core.display.Math object>"
      ]
     },
     "metadata": {},
     "output_type": "display_data"
    },
    {
     "name": "stdout",
     "output_type": "stream",
     "text": [
      "Salida counts = {'1': 1}\n",
      "Given the former angle theta and quantum state, the new prediction is:\n",
      "Prediction = 1\n",
      "int(Prediction) = 1 \n",
      "\n",
      "Overall Probability = -0.7139017542023063\n"
     ]
    },
    {
     "data": {
      "text/latex": [
       "$\\displaystyle \n",
       "$$ |\\psi\\rangle =\\begin{bmatrix}\n",
       "-0.90071 \\\\\n",
       "0.43443\\end{bmatrix} $"
      ],
      "text/plain": [
       "<IPython.core.display.Math object>"
      ]
     },
     "metadata": {},
     "output_type": "display_data"
    },
    {
     "name": "stdout",
     "output_type": "stream",
     "text": [
      "Salida counts = {'0': 1}\n",
      "Given the former angle theta and quantum state, the new prediction is:\n",
      "Prediction = 0\n",
      "int(Prediction) = 0 \n",
      "\n",
      "Overall Probability = -0.9063944040318501\n"
     ]
    },
    {
     "data": {
      "text/latex": [
       "$\\displaystyle \n",
       "$$ |\\psi\\rangle =\\begin{bmatrix}\n",
       "-0.98921 \\\\\n",
       "0.14651\\end{bmatrix} $"
      ],
      "text/plain": [
       "<IPython.core.display.Math object>"
      ]
     },
     "metadata": {},
     "output_type": "display_data"
    },
    {
     "name": "stdout",
     "output_type": "stream",
     "text": [
      "Salida counts = {'0': 1}\n",
      "Given the former angle theta and quantum state, the new prediction is:\n",
      "Prediction = 0\n",
      "int(Prediction) = 0 \n",
      "\n",
      "Overall Probability = 0.0795074648479726\n"
     ]
    },
    {
     "data": {
      "text/latex": [
       "$\\displaystyle \n",
       "$$ |\\psi\\rangle =\\begin{bmatrix}\n",
       "0.12457 \\\\\n",
       "0.99221\\end{bmatrix} $"
      ],
      "text/plain": [
       "<IPython.core.display.Math object>"
      ]
     },
     "metadata": {},
     "output_type": "display_data"
    },
    {
     "name": "stdout",
     "output_type": "stream",
     "text": [
      "Salida counts = {'1': 1}\n",
      "Given the former angle theta and quantum state, the new prediction is:\n",
      "Prediction = 1\n",
      "int(Prediction) = 1 \n",
      "\n",
      "Overall Probability = -0.3178588658384016\n"
     ]
    },
    {
     "data": {
      "text/latex": [
       "$\\displaystyle \n",
       "$$ |\\psi\\rangle =\\begin{bmatrix}\n",
       "-0.47880 \\\\\n",
       "0.87792\\end{bmatrix} $"
      ],
      "text/plain": [
       "<IPython.core.display.Math object>"
      ]
     },
     "metadata": {},
     "output_type": "display_data"
    },
    {
     "name": "stdout",
     "output_type": "stream",
     "text": [
      "Salida counts = {'1': 1}\n",
      "Given the former angle theta and quantum state, the new prediction is:\n",
      "Prediction = 1\n",
      "int(Prediction) = 1 \n",
      "\n",
      "Overall Probability = -0.36332945820212303\n"
     ]
    },
    {
     "data": {
      "text/latex": [
       "$\\displaystyle \n",
       "$$ |\\psi\\rangle =\\begin{bmatrix}\n",
       "-0.54024 \\\\\n",
       "0.84151\\end{bmatrix} $"
      ],
      "text/plain": [
       "<IPython.core.display.Math object>"
      ]
     },
     "metadata": {},
     "output_type": "display_data"
    },
    {
     "name": "stdout",
     "output_type": "stream",
     "text": [
      "Salida counts = {'0': 1}\n",
      "Given the former angle theta and quantum state, the new prediction is:\n",
      "Prediction = 0\n",
      "int(Prediction) = 0 \n",
      "\n",
      "Overall Probability = -1.0859179853932297\n"
     ]
    },
    {
     "data": {
      "text/latex": [
       "$\\displaystyle \n",
       "$$ |\\psi\\rangle =\\begin{bmatrix}\n",
       "-0.99091 \\\\\n",
       "-0.13455\\end{bmatrix} $"
      ],
      "text/plain": [
       "<IPython.core.display.Math object>"
      ]
     },
     "metadata": {},
     "output_type": "display_data"
    },
    {
     "name": "stdout",
     "output_type": "stream",
     "text": [
      "Salida counts = {'0': 1}\n",
      "Given the former angle theta and quantum state, the new prediction is:\n",
      "Prediction = 0\n",
      "int(Prediction) = 0 \n",
      "\n",
      "Overall Probability = -1.08331024661842\n"
     ]
    },
    {
     "data": {
      "text/latex": [
       "$\\displaystyle \n",
       "$$ |\\psi\\rangle =\\begin{bmatrix}\n",
       "-0.99145 \\\\\n",
       "-0.13049\\end{bmatrix} $"
      ],
      "text/plain": [
       "<IPython.core.display.Math object>"
      ]
     },
     "metadata": {},
     "output_type": "display_data"
    },
    {
     "name": "stdout",
     "output_type": "stream",
     "text": [
      "Salida counts = {'0': 1}\n",
      "Given the former angle theta and quantum state, the new prediction is:\n",
      "Prediction = 0\n",
      "int(Prediction) = 0 \n",
      "\n",
      "Overall Probability = -0.5367552376414158\n"
     ]
    },
    {
     "data": {
      "text/latex": [
       "$\\displaystyle \n",
       "$$ |\\psi\\rangle =\\begin{bmatrix}\n",
       "-0.74673 \\\\\n",
       "0.66513\\end{bmatrix} $"
      ],
      "text/plain": [
       "<IPython.core.display.Math object>"
      ]
     },
     "metadata": {},
     "output_type": "display_data"
    },
    {
     "name": "stdout",
     "output_type": "stream",
     "text": [
      "Salida counts = {'1': 1}\n",
      "Given the former angle theta and quantum state, the new prediction is:\n",
      "Prediction = 1\n",
      "int(Prediction) = 1 \n",
      "\n",
      "Overall Probability = -0.49681281744815353\n"
     ]
    },
    {
     "data": {
      "text/latex": [
       "$\\displaystyle \n",
       "$$ |\\psi\\rangle =\\begin{bmatrix}\n",
       "-0.70356 \\\\\n",
       "0.71064\\end{bmatrix} $"
      ],
      "text/plain": [
       "<IPython.core.display.Math object>"
      ]
     },
     "metadata": {},
     "output_type": "display_data"
    },
    {
     "name": "stdout",
     "output_type": "stream",
     "text": [
      "Salida counts = {'1': 1}\n",
      "Given the former angle theta and quantum state, the new prediction is:\n",
      "Prediction = 1\n",
      "int(Prediction) = 1 \n",
      "\n",
      "Overall Probability = -0.4857197271648634\n"
     ]
    },
    {
     "data": {
      "text/latex": [
       "$\\displaystyle \n",
       "$$ |\\psi\\rangle =\\begin{bmatrix}\n",
       "-0.69107 \\\\\n",
       "0.72279\\end{bmatrix} $"
      ],
      "text/plain": [
       "<IPython.core.display.Math object>"
      ]
     },
     "metadata": {},
     "output_type": "display_data"
    },
    {
     "name": "stdout",
     "output_type": "stream",
     "text": [
      "Salida counts = {'0': 1}\n",
      "Given the former angle theta and quantum state, the new prediction is:\n",
      "Prediction = 0\n",
      "int(Prediction) = 0 \n",
      "\n",
      "Overall Probability = -0.7294274250633681\n"
     ]
    },
    {
     "data": {
      "text/latex": [
       "$\\displaystyle \n",
       "$$ |\\psi\\rangle =\\begin{bmatrix}\n",
       "-0.91103 \\\\\n",
       "0.41233\\end{bmatrix} $"
      ],
      "text/plain": [
       "<IPython.core.display.Math object>"
      ]
     },
     "metadata": {},
     "output_type": "display_data"
    },
    {
     "name": "stdout",
     "output_type": "stream",
     "text": [
      "Salida counts = {'0': 1}\n",
      "Given the former angle theta and quantum state, the new prediction is:\n",
      "Prediction = 0\n",
      "int(Prediction) = 0 \n",
      "\n",
      "Overall Probability = -0.8753146284830986\n"
     ]
    },
    {
     "data": {
      "text/latex": [
       "$\\displaystyle \n",
       "$$ |\\psi\\rangle =\\begin{bmatrix}\n",
       "-0.98088 \\\\\n",
       "0.19461\\end{bmatrix} $"
      ],
      "text/plain": [
       "<IPython.core.display.Math object>"
      ]
     },
     "metadata": {},
     "output_type": "display_data"
    },
    {
     "name": "stdout",
     "output_type": "stream",
     "text": [
      "Salida counts = {'0': 1}\n",
      "Given the former angle theta and quantum state, the new prediction is:\n",
      "Prediction = 0\n",
      "int(Prediction) = 0 \n",
      "\n",
      "Overall Probability = -1.0829193837783289\n"
     ]
    },
    {
     "data": {
      "text/latex": [
       "$\\displaystyle \n",
       "$$ |\\psi\\rangle =\\begin{bmatrix}\n",
       "-0.99153 \\\\\n",
       "-0.12988\\end{bmatrix} $"
      ],
      "text/plain": [
       "<IPython.core.display.Math object>"
      ]
     },
     "metadata": {},
     "output_type": "display_data"
    },
    {
     "name": "stdout",
     "output_type": "stream",
     "text": [
      "Salida counts = {'0': 1}\n",
      "Given the former angle theta and quantum state, the new prediction is:\n",
      "Prediction = 0\n",
      "int(Prediction) = 0 \n",
      "\n",
      "Overall Probability = -0.7263944520421086\n"
     ]
    },
    {
     "data": {
      "text/latex": [
       "$\\displaystyle \n",
       "$$ |\\psi\\rangle =\\begin{bmatrix}\n",
       "-0.90906 \\\\\n",
       "0.41667\\end{bmatrix} $"
      ],
      "text/plain": [
       "<IPython.core.display.Math object>"
      ]
     },
     "metadata": {},
     "output_type": "display_data"
    },
    {
     "name": "stdout",
     "output_type": "stream",
     "text": [
      "Salida counts = {'1': 1}\n",
      "Given the former angle theta and quantum state, the new prediction is:\n",
      "Prediction = 1\n",
      "int(Prediction) = 1 \n",
      "\n",
      "Overall Probability = 0.008576770147803857\n"
     ]
    },
    {
     "data": {
      "text/latex": [
       "$\\displaystyle \n",
       "$$ |\\psi\\rangle =\\begin{bmatrix}\n",
       "0.01347 \\\\\n",
       "0.99991\\end{bmatrix} $"
      ],
      "text/plain": [
       "<IPython.core.display.Math object>"
      ]
     },
     "metadata": {},
     "output_type": "display_data"
    },
    {
     "name": "stdout",
     "output_type": "stream",
     "text": [
      "Salida counts = {'1': 1}\n",
      "Given the former angle theta and quantum state, the new prediction is:\n",
      "Prediction = 1\n",
      "int(Prediction) = 1 \n",
      "\n",
      "Overall Probability = -0.7195689308675071\n"
     ]
    },
    {
     "data": {
      "text/latex": [
       "$\\displaystyle \n",
       "$$ |\\psi\\rangle =\\begin{bmatrix}\n",
       "-0.90454 \\\\\n",
       "0.42639\\end{bmatrix} $"
      ],
      "text/plain": [
       "<IPython.core.display.Math object>"
      ]
     },
     "metadata": {},
     "output_type": "display_data"
    },
    {
     "name": "stdout",
     "output_type": "stream",
     "text": [
      "Salida counts = {'0': 1}\n",
      "Given the former angle theta and quantum state, the new prediction is:\n",
      "Prediction = 0\n",
      "int(Prediction) = 0 \n",
      "\n",
      "Overall Probability = -1.0828229128434212\n"
     ]
    },
    {
     "data": {
      "text/latex": [
       "$\\displaystyle \n",
       "$$ |\\psi\\rangle =\\begin{bmatrix}\n",
       "-0.99155 \\\\\n",
       "-0.12973\\end{bmatrix} $"
      ],
      "text/plain": [
       "<IPython.core.display.Math object>"
      ]
     },
     "metadata": {},
     "output_type": "display_data"
    },
    {
     "name": "stdout",
     "output_type": "stream",
     "text": [
      "Salida counts = {'0': 1}\n",
      "Given the former angle theta and quantum state, the new prediction is:\n",
      "Prediction = 0\n",
      "int(Prediction) = 0 \n",
      "\n",
      "Overall Probability = -0.06803682334571874\n"
     ]
    },
    {
     "data": {
      "text/latex": [
       "$\\displaystyle \n",
       "$$ |\\psi\\rangle =\\begin{bmatrix}\n",
       "-0.10667 \\\\\n",
       "0.99429\\end{bmatrix} $"
      ],
      "text/plain": [
       "<IPython.core.display.Math object>"
      ]
     },
     "metadata": {},
     "output_type": "display_data"
    },
    {
     "name": "stdout",
     "output_type": "stream",
     "text": [
      "Salida counts = {'1': 1}\n",
      "Given the former angle theta and quantum state, the new prediction is:\n",
      "Prediction = 1\n",
      "int(Prediction) = 1 \n",
      "\n",
      "Overall Probability = -0.5122928339191871\n"
     ]
    },
    {
     "data": {
      "text/latex": [
       "$\\displaystyle \n",
       "$$ |\\psi\\rangle =\\begin{bmatrix}\n",
       "-0.72063 \\\\\n",
       "0.69332\\end{bmatrix} $"
      ],
      "text/plain": [
       "<IPython.core.display.Math object>"
      ]
     },
     "metadata": {},
     "output_type": "display_data"
    },
    {
     "name": "stdout",
     "output_type": "stream",
     "text": [
      "Salida counts = {'1': 1}\n",
      "Given the former angle theta and quantum state, the new prediction is:\n",
      "Prediction = 1\n",
      "int(Prediction) = 1 \n",
      "\n",
      "Overall Probability = -0.9876709596303272\n"
     ]
    },
    {
     "data": {
      "text/latex": [
       "$\\displaystyle \n",
       "$$ |\\psi\\rangle =\\begin{bmatrix}\n",
       "-0.99981 \\\\\n",
       "0.01937\\end{bmatrix} $"
      ],
      "text/plain": [
       "<IPython.core.display.Math object>"
      ]
     },
     "metadata": {},
     "output_type": "display_data"
    },
    {
     "name": "stdout",
     "output_type": "stream",
     "text": [
      "Salida counts = {'0': 1}\n",
      "Given the former angle theta and quantum state, the new prediction is:\n",
      "Prediction = 0\n",
      "int(Prediction) = 0 \n",
      "\n",
      "Overall Probability = 0.13733517267671333\n"
     ]
    },
    {
     "data": {
      "text/latex": [
       "$\\displaystyle \n",
       "$$ |\\psi\\rangle =\\begin{bmatrix}\n",
       "0.21406 \\\\\n",
       "0.97682\\end{bmatrix} $"
      ],
      "text/plain": [
       "<IPython.core.display.Math object>"
      ]
     },
     "metadata": {},
     "output_type": "display_data"
    },
    {
     "name": "stdout",
     "output_type": "stream",
     "text": [
      "Salida counts = {'1': 1}\n",
      "Given the former angle theta and quantum state, the new prediction is:\n",
      "Prediction = 1\n",
      "int(Prediction) = 1 \n",
      "\n",
      "Overall Probability = -1.0831809031232509\n"
     ]
    },
    {
     "data": {
      "text/latex": [
       "$\\displaystyle \n",
       "$$ |\\psi\\rangle =\\begin{bmatrix}\n",
       "-0.99148 \\\\\n",
       "-0.13029\\end{bmatrix} $"
      ],
      "text/plain": [
       "<IPython.core.display.Math object>"
      ]
     },
     "metadata": {},
     "output_type": "display_data"
    },
    {
     "name": "stdout",
     "output_type": "stream",
     "text": [
      "Salida counts = {'0': 1}\n",
      "Given the former angle theta and quantum state, the new prediction is:\n",
      "Prediction = 0\n",
      "int(Prediction) = 0 \n",
      "\n",
      "Overall Probability = -0.695675117823568\n"
     ]
    },
    {
     "data": {
      "text/latex": [
       "$\\displaystyle \n",
       "$$ |\\psi\\rangle =\\begin{bmatrix}\n",
       "-0.88790 \\\\\n",
       "0.46003\\end{bmatrix} $"
      ],
      "text/plain": [
       "<IPython.core.display.Math object>"
      ]
     },
     "metadata": {},
     "output_type": "display_data"
    },
    {
     "name": "stdout",
     "output_type": "stream",
     "text": [
      "Salida counts = {'0': 1}\n",
      "Given the former angle theta and quantum state, the new prediction is:\n",
      "Prediction = 0\n",
      "int(Prediction) = 0 \n",
      "\n",
      "Overall Probability = -0.9894674629257532\n"
     ]
    },
    {
     "data": {
      "text/latex": [
       "$\\displaystyle \n",
       "$$ |\\psi\\rangle =\\begin{bmatrix}\n",
       "-0.99986 \\\\\n",
       "0.01654\\end{bmatrix} $"
      ],
      "text/plain": [
       "<IPython.core.display.Math object>"
      ]
     },
     "metadata": {},
     "output_type": "display_data"
    },
    {
     "name": "stdout",
     "output_type": "stream",
     "text": [
      "Salida counts = {'0': 1}\n",
      "Given the former angle theta and quantum state, the new prediction is:\n",
      "Prediction = 0\n",
      "int(Prediction) = 0 \n",
      "\n",
      "Overall Probability = -1.087910697896221\n"
     ]
    },
    {
     "data": {
      "text/latex": [
       "$\\displaystyle \n",
       "$$ |\\psi\\rangle =\\begin{bmatrix}\n",
       "-0.99048 \\\\\n",
       "-0.13765\\end{bmatrix} $"
      ],
      "text/plain": [
       "<IPython.core.display.Math object>"
      ]
     },
     "metadata": {},
     "output_type": "display_data"
    },
    {
     "name": "stdout",
     "output_type": "stream",
     "text": [
      "Salida counts = {'0': 1}\n",
      "Given the former angle theta and quantum state, the new prediction is:\n",
      "Prediction = 0\n",
      "int(Prediction) = 0 \n",
      "\n",
      "Overall Probability = -0.9055579583449771\n"
     ]
    },
    {
     "data": {
      "text/latex": [
       "$\\displaystyle \n",
       "$$ |\\psi\\rangle =\\begin{bmatrix}\n",
       "-0.98902 \\\\\n",
       "0.14781\\end{bmatrix} $"
      ],
      "text/plain": [
       "<IPython.core.display.Math object>"
      ]
     },
     "metadata": {},
     "output_type": "display_data"
    },
    {
     "name": "stdout",
     "output_type": "stream",
     "text": [
      "Salida counts = {'0': 1}\n",
      "Given the former angle theta and quantum state, the new prediction is:\n",
      "Prediction = 0\n",
      "int(Prediction) = 0 \n",
      "\n",
      "Overall Probability = -0.9894674629257532\n"
     ]
    },
    {
     "data": {
      "text/latex": [
       "$\\displaystyle \n",
       "$$ |\\psi\\rangle =\\begin{bmatrix}\n",
       "-0.99986 \\\\\n",
       "0.01654\\end{bmatrix} $"
      ],
      "text/plain": [
       "<IPython.core.display.Math object>"
      ]
     },
     "metadata": {},
     "output_type": "display_data"
    },
    {
     "name": "stdout",
     "output_type": "stream",
     "text": [
      "Salida counts = {'0': 1}\n",
      "Given the former angle theta and quantum state, the new prediction is:\n",
      "Prediction = 0\n",
      "int(Prediction) = 0 \n",
      "\n",
      "Overall Probability = 0.03929249115476996\n"
     ]
    },
    {
     "data": {
      "text/latex": [
       "$\\displaystyle \n",
       "$$ |\\psi\\rangle =\\begin{bmatrix}\n",
       "0.06168 \\\\\n",
       "0.99810\\end{bmatrix} $"
      ],
      "text/plain": [
       "<IPython.core.display.Math object>"
      ]
     },
     "metadata": {},
     "output_type": "display_data"
    },
    {
     "name": "stdout",
     "output_type": "stream",
     "text": [
      "Salida counts = {'1': 1}\n",
      "Given the former angle theta and quantum state, the new prediction is:\n",
      "Prediction = 1\n",
      "int(Prediction) = 1 \n",
      "\n",
      "Overall Probability = -0.7419039503012876\n"
     ]
    },
    {
     "data": {
      "text/latex": [
       "$\\displaystyle \n",
       "$$ |\\psi\\rangle =\\begin{bmatrix}\n",
       "-0.91894 \\\\\n",
       "0.39440\\end{bmatrix} $"
      ],
      "text/plain": [
       "<IPython.core.display.Math object>"
      ]
     },
     "metadata": {},
     "output_type": "display_data"
    },
    {
     "name": "stdout",
     "output_type": "stream",
     "text": [
      "Salida counts = {'0': 1}\n",
      "Given the former angle theta and quantum state, the new prediction is:\n",
      "Prediction = 0\n",
      "int(Prediction) = 0 \n",
      "\n",
      "Overall Probability = -0.08527822077416765\n"
     ]
    },
    {
     "data": {
      "text/latex": [
       "$\\displaystyle \n",
       "$$ |\\psi\\rangle =\\begin{bmatrix}\n",
       "-0.13355 \\\\\n",
       "0.99104\\end{bmatrix} $"
      ],
      "text/plain": [
       "<IPython.core.display.Math object>"
      ]
     },
     "metadata": {},
     "output_type": "display_data"
    },
    {
     "name": "stdout",
     "output_type": "stream",
     "text": [
      "Salida counts = {'1': 1}\n",
      "Given the former angle theta and quantum state, the new prediction is:\n",
      "Prediction = 1\n",
      "int(Prediction) = 1 \n",
      "\n",
      "Overall Probability = -0.5393165632153414\n"
     ]
    },
    {
     "data": {
      "text/latex": [
       "$\\displaystyle \n",
       "$$ |\\psi\\rangle =\\begin{bmatrix}\n",
       "-0.74940 \\\\\n",
       "0.66212\\end{bmatrix} $"
      ],
      "text/plain": [
       "<IPython.core.display.Math object>"
      ]
     },
     "metadata": {},
     "output_type": "display_data"
    },
    {
     "name": "stdout",
     "output_type": "stream",
     "text": [
      "Salida counts = {'0': 1}\n",
      "Given the former angle theta and quantum state, the new prediction is:\n",
      "Prediction = 0\n",
      "int(Prediction) = 0 \n",
      "\n",
      "Overall Probability = 0.08146064763612428\n"
     ]
    },
    {
     "data": {
      "text/latex": [
       "$\\displaystyle \n",
       "$$ |\\psi\\rangle =\\begin{bmatrix}\n",
       "0.12761 \\\\\n",
       "0.99182\\end{bmatrix} $"
      ],
      "text/plain": [
       "<IPython.core.display.Math object>"
      ]
     },
     "metadata": {},
     "output_type": "display_data"
    },
    {
     "name": "stdout",
     "output_type": "stream",
     "text": [
      "Salida counts = {'1': 1}\n",
      "Given the former angle theta and quantum state, the new prediction is:\n",
      "Prediction = 1\n",
      "int(Prediction) = 1 \n",
      "\n",
      "Overall Probability = -1.0851174069088327\n"
     ]
    },
    {
     "data": {
      "text/latex": [
       "$\\displaystyle \n",
       "$$ |\\psi\\rangle =\\begin{bmatrix}\n",
       "-0.99108 \\\\\n",
       "-0.13330\\end{bmatrix} $"
      ],
      "text/plain": [
       "<IPython.core.display.Math object>"
      ]
     },
     "metadata": {},
     "output_type": "display_data"
    },
    {
     "name": "stdout",
     "output_type": "stream",
     "text": [
      "Salida counts = {'0': 1}\n",
      "Given the former angle theta and quantum state, the new prediction is:\n",
      "Prediction = 0\n",
      "int(Prediction) = 0 \n",
      "\n",
      "Overall Probability = -0.8940359437155133\n"
     ]
    },
    {
     "data": {
      "text/latex": [
       "$\\displaystyle \n",
       "$$ |\\psi\\rangle =\\begin{bmatrix}\n",
       "-0.98618 \\\\\n",
       "0.16568\\end{bmatrix} $"
      ],
      "text/plain": [
       "<IPython.core.display.Math object>"
      ]
     },
     "metadata": {},
     "output_type": "display_data"
    },
    {
     "name": "stdout",
     "output_type": "stream",
     "text": [
      "Salida counts = {'0': 1}\n",
      "Given the former angle theta and quantum state, the new prediction is:\n",
      "Prediction = 0\n",
      "int(Prediction) = 0 \n",
      "\n",
      "Overall Probability = -0.7147923734698238\n"
     ]
    },
    {
     "data": {
      "text/latex": [
       "$\\displaystyle \n",
       "$$ |\\psi\\rangle =\\begin{bmatrix}\n",
       "-0.90131 \\\\\n",
       "0.43317\\end{bmatrix} $"
      ],
      "text/plain": [
       "<IPython.core.display.Math object>"
      ]
     },
     "metadata": {},
     "output_type": "display_data"
    },
    {
     "name": "stdout",
     "output_type": "stream",
     "text": [
      "Salida counts = {'0': 1}\n",
      "Given the former angle theta and quantum state, the new prediction is:\n",
      "Prediction = 0\n",
      "int(Prediction) = 0 \n",
      "\n",
      "Overall Probability = -0.7226253790128088\n"
     ]
    },
    {
     "data": {
      "text/latex": [
       "$\\displaystyle \n",
       "$$ |\\psi\\rangle =\\begin{bmatrix}\n",
       "-0.90658 \\\\\n",
       "0.42204\\end{bmatrix} $"
      ],
      "text/plain": [
       "<IPython.core.display.Math object>"
      ]
     },
     "metadata": {},
     "output_type": "display_data"
    },
    {
     "name": "stdout",
     "output_type": "stream",
     "text": [
      "Salida counts = {'0': 1}\n",
      "Given the former angle theta and quantum state, the new prediction is:\n",
      "Prediction = 0\n",
      "int(Prediction) = 0 \n",
      "\n",
      "Overall Probability = -0.9072308497187229\n"
     ]
    },
    {
     "data": {
      "text/latex": [
       "$\\displaystyle \n",
       "$$ |\\psi\\rangle =\\begin{bmatrix}\n",
       "-0.98940 \\\\\n",
       "0.14521\\end{bmatrix} $"
      ],
      "text/plain": [
       "<IPython.core.display.Math object>"
      ]
     },
     "metadata": {},
     "output_type": "display_data"
    },
    {
     "name": "stdout",
     "output_type": "stream",
     "text": [
      "Salida counts = {'0': 1}\n",
      "Given the former angle theta and quantum state, the new prediction is:\n",
      "Prediction = 0\n",
      "int(Prediction) = 0 \n",
      "\n",
      "Overall Probability = -0.9697024997442403\n"
     ]
    },
    {
     "data": {
      "text/latex": [
       "$\\displaystyle \n",
       "$$ |\\psi\\rangle =\\begin{bmatrix}\n",
       "-0.99887 \\\\\n",
       "0.04757\\end{bmatrix} $"
      ],
      "text/plain": [
       "<IPython.core.display.Math object>"
      ]
     },
     "metadata": {},
     "output_type": "display_data"
    },
    {
     "name": "stdout",
     "output_type": "stream",
     "text": [
      "Salida counts = {'0': 1}\n",
      "Given the former angle theta and quantum state, the new prediction is:\n",
      "Prediction = 0\n",
      "int(Prediction) = 0 \n",
      "\n",
      "Overall Probability = -0.4945923419062475\n"
     ]
    },
    {
     "data": {
      "text/latex": [
       "$\\displaystyle \n",
       "$$ |\\psi\\rangle =\\begin{bmatrix}\n",
       "-0.70107 \\\\\n",
       "0.71309\\end{bmatrix} $"
      ],
      "text/plain": [
       "<IPython.core.display.Math object>"
      ]
     },
     "metadata": {},
     "output_type": "display_data"
    },
    {
     "name": "stdout",
     "output_type": "stream",
     "text": [
      "Salida counts = {'0': 1}\n",
      "Given the former angle theta and quantum state, the new prediction is:\n",
      "Prediction = 0\n",
      "int(Prediction) = 0 \n",
      "\n",
      "Overall Probability = -0.9893331940090861\n"
     ]
    },
    {
     "data": {
      "text/latex": [
       "$\\displaystyle \n",
       "$$ |\\psi\\rangle =\\begin{bmatrix}\n",
       "-0.99986 \\\\\n",
       "0.01675\\end{bmatrix} $"
      ],
      "text/plain": [
       "<IPython.core.display.Math object>"
      ]
     },
     "metadata": {},
     "output_type": "display_data"
    },
    {
     "name": "stdout",
     "output_type": "stream",
     "text": [
      "Salida counts = {'0': 1}\n",
      "Given the former angle theta and quantum state, the new prediction is:\n",
      "Prediction = 0\n",
      "int(Prediction) = 0 \n",
      "\n",
      "Overall Probability = -0.1415396765879246\n"
     ]
    },
    {
     "data": {
      "text/latex": [
       "$\\displaystyle \n",
       "$$ |\\psi\\rangle =\\begin{bmatrix}\n",
       "-0.22050 \\\\\n",
       "0.97539\\end{bmatrix} $"
      ],
      "text/plain": [
       "<IPython.core.display.Math object>"
      ]
     },
     "metadata": {},
     "output_type": "display_data"
    },
    {
     "name": "stdout",
     "output_type": "stream",
     "text": [
      "Salida counts = {'1': 1}\n",
      "Given the former angle theta and quantum state, the new prediction is:\n",
      "Prediction = 1\n",
      "int(Prediction) = 1 \n",
      "\n",
      "Overall Probability = -1.0828584017916736\n"
     ]
    },
    {
     "data": {
      "text/latex": [
       "$\\displaystyle \n",
       "$$ |\\psi\\rangle =\\begin{bmatrix}\n",
       "-0.99154 \\\\\n",
       "-0.12979\\end{bmatrix} $"
      ],
      "text/plain": [
       "<IPython.core.display.Math object>"
      ]
     },
     "metadata": {},
     "output_type": "display_data"
    },
    {
     "name": "stdout",
     "output_type": "stream",
     "text": [
      "Salida counts = {'0': 1}\n",
      "Given the former angle theta and quantum state, the new prediction is:\n",
      "Prediction = 0\n",
      "int(Prediction) = 0 \n",
      "\n",
      "Overall Probability = -0.9078581839838777\n"
     ]
    },
    {
     "data": {
      "text/latex": [
       "$\\displaystyle \n",
       "$$ |\\psi\\rangle =\\begin{bmatrix}\n",
       "-0.98954 \\\\\n",
       "0.14423\\end{bmatrix} $"
      ],
      "text/plain": [
       "<IPython.core.display.Math object>"
      ]
     },
     "metadata": {},
     "output_type": "display_data"
    },
    {
     "name": "stdout",
     "output_type": "stream",
     "text": [
      "Salida counts = {'0': 1}\n",
      "Given the former angle theta and quantum state, the new prediction is:\n",
      "Prediction = 0\n",
      "int(Prediction) = 0 \n",
      "\n",
      "Overall Probability = -1.0696285495312257\n"
     ]
    },
    {
     "data": {
      "text/latex": [
       "$\\displaystyle \n",
       "$$ |\\psi\\rangle =\\begin{bmatrix}\n",
       "-0.99402 \\\\\n",
       "-0.10915\\end{bmatrix} $"
      ],
      "text/plain": [
       "<IPython.core.display.Math object>"
      ]
     },
     "metadata": {},
     "output_type": "display_data"
    },
    {
     "name": "stdout",
     "output_type": "stream",
     "text": [
      "Salida counts = {'0': 1}\n",
      "Given the former angle theta and quantum state, the new prediction is:\n",
      "Prediction = 0\n",
      "int(Prediction) = 0 \n",
      "\n",
      "Overall Probability = 0.048136074006746035\n"
     ]
    },
    {
     "data": {
      "text/latex": [
       "$\\displaystyle \n",
       "$$ |\\psi\\rangle =\\begin{bmatrix}\n",
       "0.07554 \\\\\n",
       "0.99714\\end{bmatrix} $"
      ],
      "text/plain": [
       "<IPython.core.display.Math object>"
      ]
     },
     "metadata": {},
     "output_type": "display_data"
    },
    {
     "name": "stdout",
     "output_type": "stream",
     "text": [
      "Salida counts = {'1': 1}\n",
      "Given the former angle theta and quantum state, the new prediction is:\n",
      "Prediction = 1\n",
      "int(Prediction) = 1 \n",
      "\n",
      "Overall Probability = -0.0393538796479965\n"
     ]
    },
    {
     "data": {
      "text/latex": [
       "$\\displaystyle \n",
       "$$ |\\psi\\rangle =\\begin{bmatrix}\n",
       "-0.06178 \\\\\n",
       "0.99809\\end{bmatrix} $"
      ],
      "text/plain": [
       "<IPython.core.display.Math object>"
      ]
     },
     "metadata": {},
     "output_type": "display_data"
    },
    {
     "name": "stdout",
     "output_type": "stream",
     "text": [
      "Salida counts = {'1': 1}\n",
      "Given the former angle theta and quantum state, the new prediction is:\n",
      "Prediction = 1\n",
      "int(Prediction) = 1 \n",
      "\n",
      "Overall Probability = -1.0834724626738503\n"
     ]
    },
    {
     "data": {
      "text/latex": [
       "$\\displaystyle \n",
       "$$ |\\psi\\rangle =\\begin{bmatrix}\n",
       "-0.99142 \\\\\n",
       "-0.13074\\end{bmatrix} $"
      ],
      "text/plain": [
       "<IPython.core.display.Math object>"
      ]
     },
     "metadata": {},
     "output_type": "display_data"
    },
    {
     "name": "stdout",
     "output_type": "stream",
     "text": [
      "Salida counts = {'0': 1}\n",
      "Given the former angle theta and quantum state, the new prediction is:\n",
      "Prediction = 0\n",
      "int(Prediction) = 0 \n",
      "\n",
      "Overall Probability = 0.08104467374688581\n"
     ]
    },
    {
     "data": {
      "text/latex": [
       "$\\displaystyle \n",
       "$$ |\\psi\\rangle =\\begin{bmatrix}\n",
       "0.12696 \\\\\n",
       "0.99191\\end{bmatrix} $"
      ],
      "text/plain": [
       "<IPython.core.display.Math object>"
      ]
     },
     "metadata": {},
     "output_type": "display_data"
    },
    {
     "name": "stdout",
     "output_type": "stream",
     "text": [
      "Salida counts = {'1': 1}\n",
      "Given the former angle theta and quantum state, the new prediction is:\n",
      "Prediction = 1\n",
      "int(Prediction) = 1 \n",
      "\n",
      "Overall Probability = -0.5031008432786512\n"
     ]
    },
    {
     "data": {
      "text/latex": [
       "$\\displaystyle \n",
       "$$ |\\psi\\rangle =\\begin{bmatrix}\n",
       "-0.71054 \\\\\n",
       "0.70365\\end{bmatrix} $"
      ],
      "text/plain": [
       "<IPython.core.display.Math object>"
      ]
     },
     "metadata": {},
     "output_type": "display_data"
    },
    {
     "name": "stdout",
     "output_type": "stream",
     "text": [
      "Salida counts = {'1': 1}\n",
      "Given the former angle theta and quantum state, the new prediction is:\n",
      "Prediction = 1\n",
      "int(Prediction) = 1 \n",
      "\n",
      "Overall Probability = -0.3181455101028814\n"
     ]
    },
    {
     "data": {
      "text/latex": [
       "$\\displaystyle \n",
       "$$ |\\psi\\rangle =\\begin{bmatrix}\n",
       "-0.47920 \\\\\n",
       "0.87771\\end{bmatrix} $"
      ],
      "text/plain": [
       "<IPython.core.display.Math object>"
      ]
     },
     "metadata": {},
     "output_type": "display_data"
    },
    {
     "name": "stdout",
     "output_type": "stream",
     "text": [
      "Salida counts = {'1': 1}\n",
      "Given the former angle theta and quantum state, the new prediction is:\n",
      "Prediction = 1\n",
      "int(Prediction) = 1 \n",
      "\n",
      "Overall Probability = -0.8564072322127527\n"
     ]
    },
    {
     "data": {
      "text/latex": [
       "$\\displaystyle \n",
       "$$ |\\psi\\rangle =\\begin{bmatrix}\n",
       "-0.97467 \\\\\n",
       "0.22365\\end{bmatrix} $"
      ],
      "text/plain": [
       "<IPython.core.display.Math object>"
      ]
     },
     "metadata": {},
     "output_type": "display_data"
    },
    {
     "name": "stdout",
     "output_type": "stream",
     "text": [
      "Salida counts = {'0': 1}\n",
      "Given the former angle theta and quantum state, the new prediction is:\n",
      "Prediction = 0\n",
      "int(Prediction) = 0 \n",
      "\n",
      "Overall Probability = 0.042081307077457414\n"
     ]
    },
    {
     "data": {
      "text/latex": [
       "$\\displaystyle \n",
       "$$ |\\psi\\rangle =\\begin{bmatrix}\n",
       "0.06605 \\\\\n",
       "0.99782\\end{bmatrix} $"
      ],
      "text/plain": [
       "<IPython.core.display.Math object>"
      ]
     },
     "metadata": {},
     "output_type": "display_data"
    },
    {
     "name": "stdout",
     "output_type": "stream",
     "text": [
      "Salida counts = {'1': 1}\n",
      "Given the former angle theta and quantum state, the new prediction is:\n",
      "Prediction = 1\n",
      "int(Prediction) = 1 \n",
      "\n",
      "Overall Probability = -1.084029872770053\n"
     ]
    },
    {
     "data": {
      "text/latex": [
       "$\\displaystyle \n",
       "$$ |\\psi\\rangle =\\begin{bmatrix}\n",
       "-0.99130 \\\\\n",
       "-0.13161\\end{bmatrix} $"
      ],
      "text/plain": [
       "<IPython.core.display.Math object>"
      ]
     },
     "metadata": {},
     "output_type": "display_data"
    },
    {
     "name": "stdout",
     "output_type": "stream",
     "text": [
      "Salida counts = {'0': 1}\n",
      "Given the former angle theta and quantum state, the new prediction is:\n",
      "Prediction = 0\n",
      "int(Prediction) = 0 \n",
      "\n",
      "Overall Probability = -1.0828920237749835\n"
     ]
    },
    {
     "data": {
      "text/latex": [
       "$\\displaystyle \n",
       "$$ |\\psi\\rangle =\\begin{bmatrix}\n",
       "-0.99154 \\\\\n",
       "-0.12984\\end{bmatrix} $"
      ],
      "text/plain": [
       "<IPython.core.display.Math object>"
      ]
     },
     "metadata": {},
     "output_type": "display_data"
    },
    {
     "name": "stdout",
     "output_type": "stream",
     "text": [
      "Salida counts = {'0': 1}\n",
      "Given the former angle theta and quantum state, the new prediction is:\n",
      "Prediction = 0\n",
      "int(Prediction) = 0 \n",
      "\n",
      "Overall Probability = -0.6537648456856919\n"
     ]
    },
    {
     "data": {
      "text/latex": [
       "$\\displaystyle \n",
       "$$ |\\psi\\rangle =\\begin{bmatrix}\n",
       "-0.85572 \\\\\n",
       "0.51745\\end{bmatrix} $"
      ],
      "text/plain": [
       "<IPython.core.display.Math object>"
      ]
     },
     "metadata": {},
     "output_type": "display_data"
    },
    {
     "name": "stdout",
     "output_type": "stream",
     "text": [
      "Salida counts = {'0': 1}\n",
      "Given the former angle theta and quantum state, the new prediction is:\n",
      "Prediction = 0\n",
      "int(Prediction) = 0 \n",
      "\n",
      "Overall Probability = -0.916079205839945\n"
     ]
    },
    {
     "data": {
      "text/latex": [
       "$\\displaystyle \n",
       "$$ |\\psi\\rangle =\\begin{bmatrix}\n",
       "-0.99132 \\\\\n",
       "0.13144\\end{bmatrix} $"
      ],
      "text/plain": [
       "<IPython.core.display.Math object>"
      ]
     },
     "metadata": {},
     "output_type": "display_data"
    },
    {
     "name": "stdout",
     "output_type": "stream",
     "text": [
      "Salida counts = {'0': 1}\n",
      "Given the former angle theta and quantum state, the new prediction is:\n",
      "Prediction = 0\n",
      "int(Prediction) = 0 \n",
      "\n",
      "Overall Probability = -0.4620696305227745\n"
     ]
    },
    {
     "data": {
      "text/latex": [
       "$\\displaystyle \n",
       "$$ |\\psi\\rangle =\\begin{bmatrix}\n",
       "-0.66375 \\\\\n",
       "0.74796\\end{bmatrix} $"
      ],
      "text/plain": [
       "<IPython.core.display.Math object>"
      ]
     },
     "metadata": {},
     "output_type": "display_data"
    },
    {
     "name": "stdout",
     "output_type": "stream",
     "text": [
      "Salida counts = {'1': 1}\n",
      "Given the former angle theta and quantum state, the new prediction is:\n",
      "Prediction = 1\n",
      "int(Prediction) = 1 \n",
      "\n",
      "Overall Probability = -1.085215808623024\n"
     ]
    },
    {
     "data": {
      "text/latex": [
       "$\\displaystyle \n",
       "$$ |\\psi\\rangle =\\begin{bmatrix}\n",
       "-0.99105 \\\\\n",
       "-0.13346\\end{bmatrix} $"
      ],
      "text/plain": [
       "<IPython.core.display.Math object>"
      ]
     },
     "metadata": {},
     "output_type": "display_data"
    },
    {
     "name": "stdout",
     "output_type": "stream",
     "text": [
      "Salida counts = {'1': 1}\n",
      "Given the former angle theta and quantum state, the new prediction is:\n",
      "Prediction = 1\n",
      "int(Prediction) = 1 \n",
      "\n",
      "Overall Probability = -0.532531330381408\n"
     ]
    },
    {
     "data": {
      "text/latex": [
       "$\\displaystyle \n",
       "$$ |\\psi\\rangle =\\begin{bmatrix}\n",
       "-0.74230 \\\\\n",
       "0.67007\\end{bmatrix} $"
      ],
      "text/plain": [
       "<IPython.core.display.Math object>"
      ]
     },
     "metadata": {},
     "output_type": "display_data"
    },
    {
     "name": "stdout",
     "output_type": "stream",
     "text": [
      "Salida counts = {'0': 1}\n",
      "Given the former angle theta and quantum state, the new prediction is:\n",
      "Prediction = 0\n",
      "int(Prediction) = 0 \n",
      "\n",
      "Overall Probability = -0.5312683169395983\n"
     ]
    },
    {
     "data": {
      "text/latex": [
       "$\\displaystyle \n",
       "$$ |\\psi\\rangle =\\begin{bmatrix}\n",
       "-0.74097 \\\\\n",
       "0.67154\\end{bmatrix} $"
      ],
      "text/plain": [
       "<IPython.core.display.Math object>"
      ]
     },
     "metadata": {},
     "output_type": "display_data"
    },
    {
     "name": "stdout",
     "output_type": "stream",
     "text": [
      "Salida counts = {'1': 1}\n",
      "Given the former angle theta and quantum state, the new prediction is:\n",
      "Prediction = 1\n",
      "int(Prediction) = 1 \n",
      "\n",
      "Overall Probability = -1.0883289207396574\n"
     ]
    },
    {
     "data": {
      "text/latex": [
       "$\\displaystyle \n",
       "$$ |\\psi\\rangle =\\begin{bmatrix}\n",
       "-0.99039 \\\\\n",
       "-0.13830\\end{bmatrix} $"
      ],
      "text/plain": [
       "<IPython.core.display.Math object>"
      ]
     },
     "metadata": {},
     "output_type": "display_data"
    },
    {
     "name": "stdout",
     "output_type": "stream",
     "text": [
      "Salida counts = {'0': 1}\n",
      "Given the former angle theta and quantum state, the new prediction is:\n",
      "Prediction = 0\n",
      "int(Prediction) = 0 \n",
      "\n",
      "Overall Probability = -0.7148466696157934\n"
     ]
    },
    {
     "data": {
      "text/latex": [
       "$\\displaystyle \n",
       "$$ |\\psi\\rangle =\\begin{bmatrix}\n",
       "-0.90135 \\\\\n",
       "0.43309\\end{bmatrix} $"
      ],
      "text/plain": [
       "<IPython.core.display.Math object>"
      ]
     },
     "metadata": {},
     "output_type": "display_data"
    },
    {
     "name": "stdout",
     "output_type": "stream",
     "text": [
      "Salida counts = {'1': 1}\n",
      "Given the former angle theta and quantum state, the new prediction is:\n",
      "Prediction = 1\n",
      "int(Prediction) = 1 \n",
      "\n",
      "Overall Probability = -1.085192249413884\n"
     ]
    },
    {
     "data": {
      "text/latex": [
       "$\\displaystyle \n",
       "$$ |\\psi\\rangle =\\begin{bmatrix}\n",
       "-0.99106 \\\\\n",
       "-0.13342\\end{bmatrix} $"
      ],
      "text/plain": [
       "<IPython.core.display.Math object>"
      ]
     },
     "metadata": {},
     "output_type": "display_data"
    },
    {
     "name": "stdout",
     "output_type": "stream",
     "text": [
      "Salida counts = {'0': 1}\n",
      "Given the former angle theta and quantum state, the new prediction is:\n",
      "Prediction = 0\n",
      "int(Prediction) = 0 \n",
      "\n",
      "Overall Probability = -0.8875453849644035\n"
     ]
    },
    {
     "data": {
      "text/latex": [
       "$\\displaystyle \n",
       "$$ |\\psi\\rangle =\\begin{bmatrix}\n",
       "-0.98444 \\\\\n",
       "0.17573\\end{bmatrix} $"
      ],
      "text/plain": [
       "<IPython.core.display.Math object>"
      ]
     },
     "metadata": {},
     "output_type": "display_data"
    },
    {
     "name": "stdout",
     "output_type": "stream",
     "text": [
      "Salida counts = {'0': 1}\n",
      "Given the former angle theta and quantum state, the new prediction is:\n",
      "Prediction = 0\n",
      "int(Prediction) = 0 \n",
      "\n",
      "Overall Probability = -0.6990786263424098\n"
     ]
    },
    {
     "data": {
      "text/latex": [
       "$\\displaystyle \n",
       "$$ |\\psi\\rangle =\\begin{bmatrix}\n",
       "-0.89035 \\\\\n",
       "0.45528\\end{bmatrix} $"
      ],
      "text/plain": [
       "<IPython.core.display.Math object>"
      ]
     },
     "metadata": {},
     "output_type": "display_data"
    },
    {
     "name": "stdout",
     "output_type": "stream",
     "text": [
      "Salida counts = {'0': 1}\n",
      "Given the former angle theta and quantum state, the new prediction is:\n",
      "Prediction = 0\n",
      "int(Prediction) = 0 \n",
      "\n",
      "Overall Probability = -1.0831011351967017\n"
     ]
    },
    {
     "data": {
      "text/latex": [
       "$\\displaystyle \n",
       "$$ |\\psi\\rangle =\\begin{bmatrix}\n",
       "-0.99149 \\\\\n",
       "-0.13016\\end{bmatrix} $"
      ],
      "text/plain": [
       "<IPython.core.display.Math object>"
      ]
     },
     "metadata": {},
     "output_type": "display_data"
    },
    {
     "name": "stdout",
     "output_type": "stream",
     "text": [
      "Salida counts = {'0': 1}\n",
      "Given the former angle theta and quantum state, the new prediction is:\n",
      "Prediction = 0\n",
      "int(Prediction) = 0 \n",
      "\n",
      "Overall Probability = -0.9894674629257532\n"
     ]
    },
    {
     "data": {
      "text/latex": [
       "$\\displaystyle \n",
       "$$ |\\psi\\rangle =\\begin{bmatrix}\n",
       "-0.99986 \\\\\n",
       "0.01654\\end{bmatrix} $"
      ],
      "text/plain": [
       "<IPython.core.display.Math object>"
      ]
     },
     "metadata": {},
     "output_type": "display_data"
    },
    {
     "name": "stdout",
     "output_type": "stream",
     "text": [
      "Salida counts = {'0': 1}\n",
      "Given the former angle theta and quantum state, the new prediction is:\n",
      "Prediction = 0\n",
      "int(Prediction) = 0 \n",
      "\n",
      "Overall Probability = -0.5287827917197039\n"
     ]
    },
    {
     "data": {
      "text/latex": [
       "$\\displaystyle \n",
       "$$ |\\psi\\rangle =\\begin{bmatrix}\n",
       "-0.73834 \\\\\n",
       "0.67443\\end{bmatrix} $"
      ],
      "text/plain": [
       "<IPython.core.display.Math object>"
      ]
     },
     "metadata": {},
     "output_type": "display_data"
    },
    {
     "name": "stdout",
     "output_type": "stream",
     "text": [
      "Salida counts = {'1': 1}\n",
      "Given the former angle theta and quantum state, the new prediction is:\n",
      "Prediction = 1\n",
      "int(Prediction) = 1 \n",
      "\n",
      "Overall Probability = -0.045208999456106874\n"
     ]
    },
    {
     "data": {
      "text/latex": [
       "$\\displaystyle \n",
       "$$ |\\psi\\rangle =\\begin{bmatrix}\n",
       "-0.07095 \\\\\n",
       "0.99748\\end{bmatrix} $"
      ],
      "text/plain": [
       "<IPython.core.display.Math object>"
      ]
     },
     "metadata": {},
     "output_type": "display_data"
    },
    {
     "name": "stdout",
     "output_type": "stream",
     "text": [
      "Salida counts = {'1': 1}\n",
      "Given the former angle theta and quantum state, the new prediction is:\n",
      "Prediction = 1\n",
      "int(Prediction) = 1 \n",
      "\n",
      "Overall Probability = -0.8598760844521842\n"
     ]
    },
    {
     "data": {
      "text/latex": [
       "$\\displaystyle \n",
       "$$ |\\psi\\rangle =\\begin{bmatrix}\n",
       "-0.97587 \\\\\n",
       "0.21833\\end{bmatrix} $"
      ],
      "text/plain": [
       "<IPython.core.display.Math object>"
      ]
     },
     "metadata": {},
     "output_type": "display_data"
    },
    {
     "name": "stdout",
     "output_type": "stream",
     "text": [
      "Salida counts = {'0': 1}\n",
      "Given the former angle theta and quantum state, the new prediction is:\n",
      "Prediction = 0\n",
      "int(Prediction) = 0 \n",
      "\n",
      "Overall Probability = -0.35968809085500075\n"
     ]
    },
    {
     "data": {
      "text/latex": [
       "$\\displaystyle \n",
       "$$ |\\psi\\rangle =\\begin{bmatrix}\n",
       "-0.53541 \\\\\n",
       "0.84459\\end{bmatrix} $"
      ],
      "text/plain": [
       "<IPython.core.display.Math object>"
      ]
     },
     "metadata": {},
     "output_type": "display_data"
    },
    {
     "name": "stdout",
     "output_type": "stream",
     "text": [
      "Salida counts = {'1': 1}\n",
      "Given the former angle theta and quantum state, the new prediction is:\n",
      "Prediction = 1\n",
      "int(Prediction) = 1 \n",
      "\n",
      "Overall Probability = -1.0318118595332093\n"
     ]
    },
    {
     "data": {
      "text/latex": [
       "$\\displaystyle \n",
       "$$ |\\psi\\rangle =\\begin{bmatrix}\n",
       "-0.99875 \\\\\n",
       "-0.04995\\end{bmatrix} $"
      ],
      "text/plain": [
       "<IPython.core.display.Math object>"
      ]
     },
     "metadata": {},
     "output_type": "display_data"
    },
    {
     "name": "stdout",
     "output_type": "stream",
     "text": [
      "Salida counts = {'1': 1}\n",
      "Given the former angle theta and quantum state, the new prediction is:\n",
      "Prediction = 1\n",
      "int(Prediction) = 1 \n",
      "\n",
      "Overall Probability = -1.0864742779475387\n"
     ]
    },
    {
     "data": {
      "text/latex": [
       "$\\displaystyle \n",
       "$$ |\\psi\\rangle =\\begin{bmatrix}\n",
       "-0.99079 \\\\\n",
       "-0.13542\\end{bmatrix} $"
      ],
      "text/plain": [
       "<IPython.core.display.Math object>"
      ]
     },
     "metadata": {},
     "output_type": "display_data"
    },
    {
     "name": "stdout",
     "output_type": "stream",
     "text": [
      "Salida counts = {'0': 1}\n",
      "Given the former angle theta and quantum state, the new prediction is:\n",
      "Prediction = 0\n",
      "int(Prediction) = 0 \n",
      "\n",
      "Overall Probability = -0.5303152707340585\n"
     ]
    },
    {
     "data": {
      "text/latex": [
       "$\\displaystyle \n",
       "$$ |\\psi\\rangle =\\begin{bmatrix}\n",
       "-0.73996 \\\\\n",
       "0.67265\\end{bmatrix} $"
      ],
      "text/plain": [
       "<IPython.core.display.Math object>"
      ]
     },
     "metadata": {},
     "output_type": "display_data"
    },
    {
     "name": "stdout",
     "output_type": "stream",
     "text": [
      "Salida counts = {'1': 1}\n",
      "Given the former angle theta and quantum state, the new prediction is:\n",
      "Prediction = 1\n",
      "int(Prediction) = 1 \n",
      "\n",
      "Overall Probability = -1.0827102723566107\n"
     ]
    },
    {
     "data": {
      "text/latex": [
       "$\\displaystyle \n",
       "$$ |\\psi\\rangle =\\begin{bmatrix}\n",
       "-0.99157 \\\\\n",
       "-0.12956\\end{bmatrix} $"
      ],
      "text/plain": [
       "<IPython.core.display.Math object>"
      ]
     },
     "metadata": {},
     "output_type": "display_data"
    },
    {
     "name": "stdout",
     "output_type": "stream",
     "text": [
      "Salida counts = {'0': 1}\n",
      "Given the former angle theta and quantum state, the new prediction is:\n",
      "Prediction = 0\n",
      "int(Prediction) = 0 \n",
      "\n",
      "Overall Probability = -0.8939611012104621\n"
     ]
    },
    {
     "data": {
      "text/latex": [
       "$\\displaystyle \n",
       "$$ |\\psi\\rangle =\\begin{bmatrix}\n",
       "-0.98616 \\\\\n",
       "0.16580\\end{bmatrix} $"
      ],
      "text/plain": [
       "<IPython.core.display.Math object>"
      ]
     },
     "metadata": {},
     "output_type": "display_data"
    },
    {
     "name": "stdout",
     "output_type": "stream",
     "text": [
      "Salida counts = {'0': 1}\n",
      "Given the former angle theta and quantum state, the new prediction is:\n",
      "Prediction = 0\n",
      "int(Prediction) = 0 \n",
      "\n",
      "Overall Probability = 0.3197084309939355\n"
     ]
    },
    {
     "data": {
      "text/latex": [
       "$\\displaystyle \n",
       "$$ |\\psi\\rangle =\\begin{bmatrix}\n",
       "0.48135 \\\\\n",
       "0.87653\\end{bmatrix} $"
      ],
      "text/plain": [
       "<IPython.core.display.Math object>"
      ]
     },
     "metadata": {},
     "output_type": "display_data"
    },
    {
     "name": "stdout",
     "output_type": "stream",
     "text": [
      "Salida counts = {'1': 1}\n",
      "Given the former angle theta and quantum state, the new prediction is:\n",
      "Prediction = 1\n",
      "int(Prediction) = 1 \n",
      "\n",
      "Overall Probability = -0.5403250687152421\n"
     ]
    },
    {
     "data": {
      "text/latex": [
       "$\\displaystyle \n",
       "$$ |\\psi\\rangle =\\begin{bmatrix}\n",
       "-0.75045 \\\\\n",
       "0.66093\\end{bmatrix} $"
      ],
      "text/plain": [
       "<IPython.core.display.Math object>"
      ]
     },
     "metadata": {},
     "output_type": "display_data"
    },
    {
     "name": "stdout",
     "output_type": "stream",
     "text": [
      "Salida counts = {'1': 1}\n",
      "Given the former angle theta and quantum state, the new prediction is:\n",
      "Prediction = 1\n",
      "int(Prediction) = 1 \n",
      "\n",
      "Overall Probability = -0.5330301763327678\n"
     ]
    },
    {
     "data": {
      "text/latex": [
       "$\\displaystyle \n",
       "$$ |\\psi\\rangle =\\begin{bmatrix}\n",
       "-0.74283 \\\\\n",
       "0.66948\\end{bmatrix} $"
      ],
      "text/plain": [
       "<IPython.core.display.Math object>"
      ]
     },
     "metadata": {},
     "output_type": "display_data"
    },
    {
     "name": "stdout",
     "output_type": "stream",
     "text": [
      "Salida counts = {'0': 1}\n",
      "Given the former angle theta and quantum state, the new prediction is:\n",
      "Prediction = 0\n",
      "int(Prediction) = 0 \n",
      "\n",
      "Overall Probability = -1.083853417942003\n"
     ]
    },
    {
     "data": {
      "text/latex": [
       "$\\displaystyle \n",
       "$$ |\\psi\\rangle =\\begin{bmatrix}\n",
       "-0.99134 \\\\\n",
       "-0.13134\\end{bmatrix} $"
      ],
      "text/plain": [
       "<IPython.core.display.Math object>"
      ]
     },
     "metadata": {},
     "output_type": "display_data"
    },
    {
     "name": "stdout",
     "output_type": "stream",
     "text": [
      "Salida counts = {'0': 1}\n",
      "Given the former angle theta and quantum state, the new prediction is:\n",
      "Prediction = 0\n",
      "int(Prediction) = 0 \n",
      "\n",
      "Overall Probability = -0.729205192410924\n"
     ]
    },
    {
     "data": {
      "text/latex": [
       "$\\displaystyle \n",
       "$$ |\\psi\\rangle =\\begin{bmatrix}\n",
       "-0.91089 \\\\\n",
       "0.41265\\end{bmatrix} $"
      ],
      "text/plain": [
       "<IPython.core.display.Math object>"
      ]
     },
     "metadata": {},
     "output_type": "display_data"
    },
    {
     "name": "stdout",
     "output_type": "stream",
     "text": [
      "Salida counts = {'0': 1}\n",
      "Given the former angle theta and quantum state, the new prediction is:\n",
      "Prediction = 0\n",
      "int(Prediction) = 0 \n",
      "\n",
      "Overall Probability = -0.44510967941513246\n"
     ]
    },
    {
     "data": {
      "text/latex": [
       "$\\displaystyle \n",
       "$$ |\\psi\\rangle =\\begin{bmatrix}\n",
       "-0.64359 \\\\\n",
       "0.76537\\end{bmatrix} $"
      ],
      "text/plain": [
       "<IPython.core.display.Math object>"
      ]
     },
     "metadata": {},
     "output_type": "display_data"
    },
    {
     "name": "stdout",
     "output_type": "stream",
     "text": [
      "Salida counts = {'0': 1}\n",
      "Given the former angle theta and quantum state, the new prediction is:\n",
      "Prediction = 0\n",
      "int(Prediction) = 0 \n",
      "\n",
      "Overall Probability = -0.9699834022998528\n"
     ]
    },
    {
     "data": {
      "text/latex": [
       "$\\displaystyle \n",
       "$$ |\\psi\\rangle =\\begin{bmatrix}\n",
       "-0.99889 \\\\\n",
       "0.04713\\end{bmatrix} $"
      ],
      "text/plain": [
       "<IPython.core.display.Math object>"
      ]
     },
     "metadata": {},
     "output_type": "display_data"
    },
    {
     "name": "stdout",
     "output_type": "stream",
     "text": [
      "Salida counts = {'0': 1}\n",
      "Given the former angle theta and quantum state, the new prediction is:\n",
      "Prediction = 0\n",
      "int(Prediction) = 0 \n",
      "\n",
      "Overall Probability = -1.0681801277408571\n"
     ]
    },
    {
     "data": {
      "text/latex": [
       "$\\displaystyle \n",
       "$$ |\\psi\\rangle =\\begin{bmatrix}\n",
       "-0.99427 \\\\\n",
       "-0.10689\\end{bmatrix} $"
      ],
      "text/plain": [
       "<IPython.core.display.Math object>"
      ]
     },
     "metadata": {},
     "output_type": "display_data"
    },
    {
     "name": "stdout",
     "output_type": "stream",
     "text": [
      "Salida counts = {'0': 1}\n",
      "Given the former angle theta and quantum state, the new prediction is:\n",
      "Prediction = 0\n",
      "int(Prediction) = 0 \n",
      "\n",
      "Overall Probability = -0.8939611012104621\n"
     ]
    },
    {
     "data": {
      "text/latex": [
       "$\\displaystyle \n",
       "$$ |\\psi\\rangle =\\begin{bmatrix}\n",
       "-0.98616 \\\\\n",
       "0.16580\\end{bmatrix} $"
      ],
      "text/plain": [
       "<IPython.core.display.Math object>"
      ]
     },
     "metadata": {},
     "output_type": "display_data"
    },
    {
     "name": "stdout",
     "output_type": "stream",
     "text": [
      "Salida counts = {'0': 1}\n",
      "Given the former angle theta and quantum state, the new prediction is:\n",
      "Prediction = 0\n",
      "int(Prediction) = 0 \n",
      "\n",
      "Overall Probability = -1.083147281139941\n"
     ]
    },
    {
     "data": {
      "text/latex": [
       "$\\displaystyle \n",
       "$$ |\\psi\\rangle =\\begin{bmatrix}\n",
       "-0.99148 \\\\\n",
       "-0.13024\\end{bmatrix} $"
      ],
      "text/plain": [
       "<IPython.core.display.Math object>"
      ]
     },
     "metadata": {},
     "output_type": "display_data"
    },
    {
     "name": "stdout",
     "output_type": "stream",
     "text": [
      "Salida counts = {'0': 1}\n",
      "Given the former angle theta and quantum state, the new prediction is:\n",
      "Prediction = 0\n",
      "int(Prediction) = 0 \n",
      "\n",
      "Overall Probability = -1.0851174069088327\n"
     ]
    },
    {
     "data": {
      "text/latex": [
       "$\\displaystyle \n",
       "$$ |\\psi\\rangle =\\begin{bmatrix}\n",
       "-0.99108 \\\\\n",
       "-0.13330\\end{bmatrix} $"
      ],
      "text/plain": [
       "<IPython.core.display.Math object>"
      ]
     },
     "metadata": {},
     "output_type": "display_data"
    },
    {
     "name": "stdout",
     "output_type": "stream",
     "text": [
      "Salida counts = {'0': 1}\n",
      "Given the former angle theta and quantum state, the new prediction is:\n",
      "Prediction = 0\n",
      "int(Prediction) = 0 \n",
      "\n",
      "Overall Probability = 0.07899422276884582\n"
     ]
    },
    {
     "data": {
      "text/latex": [
       "$\\displaystyle \n",
       "$$ |\\psi\\rangle =\\begin{bmatrix}\n",
       "0.12377 \\\\\n",
       "0.99231\\end{bmatrix} $"
      ],
      "text/plain": [
       "<IPython.core.display.Math object>"
      ]
     },
     "metadata": {},
     "output_type": "display_data"
    },
    {
     "name": "stdout",
     "output_type": "stream",
     "text": [
      "Salida counts = {'1': 1}\n",
      "Given the former angle theta and quantum state, the new prediction is:\n",
      "Prediction = 1\n",
      "int(Prediction) = 1 \n",
      "\n",
      "Overall Probability = -0.8377266893335555\n"
     ]
    },
    {
     "data": {
      "text/latex": [
       "$\\displaystyle \n",
       "$$ |\\psi\\rangle =\\begin{bmatrix}\n",
       "-0.96769 \\\\\n",
       "0.25215\\end{bmatrix} $"
      ],
      "text/plain": [
       "<IPython.core.display.Math object>"
      ]
     },
     "metadata": {},
     "output_type": "display_data"
    },
    {
     "name": "stdout",
     "output_type": "stream",
     "text": [
      "Salida counts = {'0': 1}\n",
      "Given the former angle theta and quantum state, the new prediction is:\n",
      "Prediction = 0\n",
      "int(Prediction) = 0 \n",
      "\n",
      "Overall Probability = -1.0409266730121534\n"
     ]
    },
    {
     "data": {
      "text/latex": [
       "$\\displaystyle \n",
       "$$ |\\psi\\rangle =\\begin{bmatrix}\n",
       "-0.99793 \\\\\n",
       "-0.06424\\end{bmatrix} $"
      ],
      "text/plain": [
       "<IPython.core.display.Math object>"
      ]
     },
     "metadata": {},
     "output_type": "display_data"
    },
    {
     "name": "stdout",
     "output_type": "stream",
     "text": [
      "Salida counts = {'0': 1}\n",
      "Given the former angle theta and quantum state, the new prediction is:\n",
      "Prediction = 0\n",
      "int(Prediction) = 0 \n",
      "\n",
      "Overall Probability = 0.02880167229582178\n"
     ]
    },
    {
     "data": {
      "text/latex": [
       "$\\displaystyle \n",
       "$$ |\\psi\\rangle =\\begin{bmatrix}\n",
       "0.04523 \\\\\n",
       "0.99898\\end{bmatrix} $"
      ],
      "text/plain": [
       "<IPython.core.display.Math object>"
      ]
     },
     "metadata": {},
     "output_type": "display_data"
    },
    {
     "name": "stdout",
     "output_type": "stream",
     "text": [
      "Salida counts = {'1': 1}\n",
      "Given the former angle theta and quantum state, the new prediction is:\n",
      "Prediction = 1\n",
      "int(Prediction) = 1 \n",
      "\n",
      "Overall Probability = -1.0917669953736275\n"
     ]
    },
    {
     "data": {
      "text/latex": [
       "$\\displaystyle \n",
       "$$ |\\psi\\rangle =\\begin{bmatrix}\n",
       "-0.98963 \\\\\n",
       "-0.14365\\end{bmatrix} $"
      ],
      "text/plain": [
       "<IPython.core.display.Math object>"
      ]
     },
     "metadata": {},
     "output_type": "display_data"
    },
    {
     "name": "stdout",
     "output_type": "stream",
     "text": [
      "Salida counts = {'0': 1}\n",
      "Given the former angle theta and quantum state, the new prediction is:\n",
      "Prediction = 0\n",
      "int(Prediction) = 0 \n",
      "\n",
      "Overall Probability = -0.5385997694182924\n"
     ]
    },
    {
     "data": {
      "text/latex": [
       "$\\displaystyle \n",
       "$$ |\\psi\\rangle =\\begin{bmatrix}\n",
       "-0.74865 \\\\\n",
       "0.66296\\end{bmatrix} $"
      ],
      "text/plain": [
       "<IPython.core.display.Math object>"
      ]
     },
     "metadata": {},
     "output_type": "display_data"
    },
    {
     "name": "stdout",
     "output_type": "stream",
     "text": [
      "Salida counts = {'1': 1}\n",
      "Given the former angle theta and quantum state, the new prediction is:\n",
      "Prediction = 1\n",
      "int(Prediction) = 1 \n",
      "\n",
      "Overall Probability = -0.15112949432468492\n"
     ]
    },
    {
     "data": {
      "text/latex": [
       "$\\displaystyle \n",
       "$$ |\\psi\\rangle =\\begin{bmatrix}\n",
       "-0.23517 \\\\\n",
       "0.97195\\end{bmatrix} $"
      ],
      "text/plain": [
       "<IPython.core.display.Math object>"
      ]
     },
     "metadata": {},
     "output_type": "display_data"
    },
    {
     "name": "stdout",
     "output_type": "stream",
     "text": [
      "Salida counts = {'0': 1}\n",
      "Given the former angle theta and quantum state, the new prediction is:\n",
      "Prediction = 0\n",
      "int(Prediction) = 0 \n",
      "\n",
      "Overall Probability = -0.36332945820212303\n"
     ]
    },
    {
     "data": {
      "text/latex": [
       "$\\displaystyle \n",
       "$$ |\\psi\\rangle =\\begin{bmatrix}\n",
       "-0.54024 \\\\\n",
       "0.84151\\end{bmatrix} $"
      ],
      "text/plain": [
       "<IPython.core.display.Math object>"
      ]
     },
     "metadata": {},
     "output_type": "display_data"
    },
    {
     "name": "stdout",
     "output_type": "stream",
     "text": [
      "Salida counts = {'0': 1}\n",
      "Given the former angle theta and quantum state, the new prediction is:\n",
      "Prediction = 0\n",
      "int(Prediction) = 0 \n",
      "\n",
      "Overall Probability = -1.0854340174292703\n"
     ]
    },
    {
     "data": {
      "text/latex": [
       "$\\displaystyle \n",
       "$$ |\\psi\\rangle =\\begin{bmatrix}\n",
       "-0.99101 \\\\\n",
       "-0.13380\\end{bmatrix} $"
      ],
      "text/plain": [
       "<IPython.core.display.Math object>"
      ]
     },
     "metadata": {},
     "output_type": "display_data"
    },
    {
     "name": "stdout",
     "output_type": "stream",
     "text": [
      "Salida counts = {'0': 1}\n",
      "Given the former angle theta and quantum state, the new prediction is:\n",
      "Prediction = 0\n",
      "int(Prediction) = 0 \n",
      "\n",
      "Overall Probability = -1.0845312931654194\n"
     ]
    },
    {
     "data": {
      "text/latex": [
       "$\\displaystyle \n",
       "$$ |\\psi\\rangle =\\begin{bmatrix}\n",
       "-0.99120 \\\\\n",
       "-0.13239\\end{bmatrix} $"
      ],
      "text/plain": [
       "<IPython.core.display.Math object>"
      ]
     },
     "metadata": {},
     "output_type": "display_data"
    },
    {
     "name": "stdout",
     "output_type": "stream",
     "text": [
      "Salida counts = {'0': 1}\n",
      "Given the former angle theta and quantum state, the new prediction is:\n",
      "Prediction = 0\n",
      "int(Prediction) = 0 \n",
      "\n",
      "Overall Probability = -0.9894674629257532\n"
     ]
    },
    {
     "data": {
      "text/latex": [
       "$\\displaystyle \n",
       "$$ |\\psi\\rangle =\\begin{bmatrix}\n",
       "-0.99986 \\\\\n",
       "0.01654\\end{bmatrix} $"
      ],
      "text/plain": [
       "<IPython.core.display.Math object>"
      ]
     },
     "metadata": {},
     "output_type": "display_data"
    },
    {
     "name": "stdout",
     "output_type": "stream",
     "text": [
      "Salida counts = {'0': 1}\n",
      "Given the former angle theta and quantum state, the new prediction is:\n",
      "Prediction = 0\n",
      "int(Prediction) = 0 \n",
      "\n",
      "Overall Probability = -0.5228890594896105\n"
     ]
    },
    {
     "data": {
      "text/latex": [
       "$\\displaystyle \n",
       "$$ |\\psi\\rangle =\\begin{bmatrix}\n",
       "-0.73207 \\\\\n",
       "0.68123\\end{bmatrix} $"
      ],
      "text/plain": [
       "<IPython.core.display.Math object>"
      ]
     },
     "metadata": {},
     "output_type": "display_data"
    },
    {
     "name": "stdout",
     "output_type": "stream",
     "text": [
      "Salida counts = {'0': 1}\n",
      "Given the former angle theta and quantum state, the new prediction is:\n",
      "Prediction = 0\n",
      "int(Prediction) = 0 \n",
      "\n",
      "Overall Probability = -1.0578923652762304\n"
     ]
    },
    {
     "data": {
      "text/latex": [
       "$\\displaystyle \n",
       "$$ |\\psi\\rangle =\\begin{bmatrix}\n",
       "-0.99587 \\\\\n",
       "-0.09081\\end{bmatrix} $"
      ],
      "text/plain": [
       "<IPython.core.display.Math object>"
      ]
     },
     "metadata": {},
     "output_type": "display_data"
    },
    {
     "name": "stdout",
     "output_type": "stream",
     "text": [
      "Salida counts = {'0': 1}\n",
      "Given the former angle theta and quantum state, the new prediction is:\n",
      "Prediction = 0\n",
      "int(Prediction) = 0 \n",
      "\n",
      "Overall Probability = -0.8923630523417675\n"
     ]
    },
    {
     "data": {
      "text/latex": [
       "$\\displaystyle \n",
       "$$ |\\psi\\rangle =\\begin{bmatrix}\n",
       "-0.98574 \\\\\n",
       "0.16827\\end{bmatrix} $"
      ],
      "text/plain": [
       "<IPython.core.display.Math object>"
      ]
     },
     "metadata": {},
     "output_type": "display_data"
    },
    {
     "name": "stdout",
     "output_type": "stream",
     "text": [
      "Salida counts = {'0': 1}\n",
      "Given the former angle theta and quantum state, the new prediction is:\n",
      "Prediction = 0\n",
      "int(Prediction) = 0 \n",
      "\n",
      "Overall Probability = -1.0875032842000234\n"
     ]
    },
    {
     "data": {
      "text/latex": [
       "$\\displaystyle \n",
       "$$ |\\psi\\rangle =\\begin{bmatrix}\n",
       "-0.99057 \\\\\n",
       "-0.13702\\end{bmatrix} $"
      ],
      "text/plain": [
       "<IPython.core.display.Math object>"
      ]
     },
     "metadata": {},
     "output_type": "display_data"
    },
    {
     "name": "stdout",
     "output_type": "stream",
     "text": [
      "Salida counts = {'0': 1}\n",
      "Given the former angle theta and quantum state, the new prediction is:\n",
      "Prediction = 0\n",
      "int(Prediction) = 0 \n",
      "\n",
      "Overall Probability = -0.5846782729491392\n"
     ]
    },
    {
     "data": {
      "text/latex": [
       "$\\displaystyle \n",
       "$$ |\\psi\\rangle =\\begin{bmatrix}\n",
       "-0.79464 \\\\\n",
       "0.60708\\end{bmatrix} $"
      ],
      "text/plain": [
       "<IPython.core.display.Math object>"
      ]
     },
     "metadata": {},
     "output_type": "display_data"
    },
    {
     "name": "stdout",
     "output_type": "stream",
     "text": [
      "Salida counts = {'1': 1}\n",
      "Given the former angle theta and quantum state, the new prediction is:\n",
      "Prediction = 1\n",
      "int(Prediction) = 1 \n",
      "\n",
      "Overall Probability = -0.8597123797267756\n"
     ]
    },
    {
     "data": {
      "text/latex": [
       "$\\displaystyle \n",
       "$$ |\\psi\\rangle =\\begin{bmatrix}\n",
       "-0.97582 \\\\\n",
       "0.21858\\end{bmatrix} $"
      ],
      "text/plain": [
       "<IPython.core.display.Math object>"
      ]
     },
     "metadata": {},
     "output_type": "display_data"
    },
    {
     "name": "stdout",
     "output_type": "stream",
     "text": [
      "Salida counts = {'0': 1}\n",
      "Given the former angle theta and quantum state, the new prediction is:\n",
      "Prediction = 0\n",
      "int(Prediction) = 0 \n",
      "\n",
      "Overall Probability = 0.05980679597213225\n"
     ]
    },
    {
     "data": {
      "text/latex": [
       "$\\displaystyle \n",
       "$$ |\\psi\\rangle =\\begin{bmatrix}\n",
       "0.09381 \\\\\n",
       "0.99559\\end{bmatrix} $"
      ],
      "text/plain": [
       "<IPython.core.display.Math object>"
      ]
     },
     "metadata": {},
     "output_type": "display_data"
    },
    {
     "name": "stdout",
     "output_type": "stream",
     "text": [
      "Salida counts = {'1': 1}\n",
      "Given the former angle theta and quantum state, the new prediction is:\n",
      "Prediction = 1\n",
      "int(Prediction) = 1 \n",
      "\n",
      "Overall Probability = -1.0881995772444883\n"
     ]
    },
    {
     "data": {
      "text/latex": [
       "$\\displaystyle \n",
       "$$ |\\psi\\rangle =\\begin{bmatrix}\n",
       "-0.99042 \\\\\n",
       "-0.13810\\end{bmatrix} $"
      ],
      "text/plain": [
       "<IPython.core.display.Math object>"
      ]
     },
     "metadata": {},
     "output_type": "display_data"
    },
    {
     "name": "stdout",
     "output_type": "stream",
     "text": [
      "Salida counts = {'0': 1}\n",
      "Given the former angle theta and quantum state, the new prediction is:\n",
      "Prediction = 0\n",
      "int(Prediction) = 0 \n",
      "\n",
      "Overall Probability = -0.7278359412763087\n"
     ]
    },
    {
     "data": {
      "text/latex": [
       "$\\displaystyle \n",
       "$$ |\\psi\\rangle =\\begin{bmatrix}\n",
       "-0.91000 \\\\\n",
       "0.41461\\end{bmatrix} $"
      ],
      "text/plain": [
       "<IPython.core.display.Math object>"
      ]
     },
     "metadata": {},
     "output_type": "display_data"
    },
    {
     "name": "stdout",
     "output_type": "stream",
     "text": [
      "Salida counts = {'1': 1}\n",
      "Given the former angle theta and quantum state, the new prediction is:\n",
      "Prediction = 1\n",
      "int(Prediction) = 1 \n",
      "\n",
      "Overall Probability = -0.9071208894342444\n"
     ]
    },
    {
     "data": {
      "text/latex": [
       "$\\displaystyle \n",
       "$$ |\\psi\\rangle =\\begin{bmatrix}\n",
       "-0.98938 \\\\\n",
       "0.14538\\end{bmatrix} $"
      ],
      "text/plain": [
       "<IPython.core.display.Math object>"
      ]
     },
     "metadata": {},
     "output_type": "display_data"
    },
    {
     "name": "stdout",
     "output_type": "stream",
     "text": [
      "Salida counts = {'0': 1}\n",
      "Given the former angle theta and quantum state, the new prediction is:\n",
      "Prediction = 0\n",
      "int(Prediction) = 0 \n",
      "\n",
      "Overall Probability = -1.0570035116661536\n"
     ]
    },
    {
     "data": {
      "text/latex": [
       "$\\displaystyle \n",
       "$$ |\\psi\\rangle =\\begin{bmatrix}\n",
       "-0.99599 \\\\\n",
       "-0.08942\\end{bmatrix} $"
      ],
      "text/plain": [
       "<IPython.core.display.Math object>"
      ]
     },
     "metadata": {},
     "output_type": "display_data"
    },
    {
     "name": "stdout",
     "output_type": "stream",
     "text": [
      "Salida counts = {'0': 1}\n",
      "Given the former angle theta and quantum state, the new prediction is:\n",
      "Prediction = 0\n",
      "int(Prediction) = 0 \n",
      "\n",
      "Overall Probability = -1.083390014544969\n"
     ]
    },
    {
     "data": {
      "text/latex": [
       "$\\displaystyle \n",
       "$$ |\\psi\\rangle =\\begin{bmatrix}\n",
       "-0.99143 \\\\\n",
       "-0.13061\\end{bmatrix} $"
      ],
      "text/plain": [
       "<IPython.core.display.Math object>"
      ]
     },
     "metadata": {},
     "output_type": "display_data"
    },
    {
     "name": "stdout",
     "output_type": "stream",
     "text": [
      "Salida counts = {'0': 1}\n",
      "Given the former angle theta and quantum state, the new prediction is:\n",
      "Prediction = 0\n",
      "int(Prediction) = 0 \n",
      "\n",
      "Overall Probability = -0.43601413454498034\n"
     ]
    },
    {
     "data": {
      "text/latex": [
       "$\\displaystyle \n",
       "$$ |\\psi\\rangle =\\begin{bmatrix}\n",
       "-0.63259 \\\\\n",
       "0.77449\\end{bmatrix} $"
      ],
      "text/plain": [
       "<IPython.core.display.Math object>"
      ]
     },
     "metadata": {},
     "output_type": "display_data"
    },
    {
     "name": "stdout",
     "output_type": "stream",
     "text": [
      "Salida counts = {'1': 1}\n",
      "Given the former angle theta and quantum state, the new prediction is:\n",
      "Prediction = 1\n",
      "int(Prediction) = 1 \n",
      "\n",
      "Overall Probability = -0.9562021294586702\n"
     ]
    },
    {
     "data": {
      "text/latex": [
       "$\\displaystyle \n",
       "$$ |\\psi\\rangle =\\begin{bmatrix}\n",
       "-0.99763 \\\\\n",
       "0.06874\\end{bmatrix} $"
      ],
      "text/plain": [
       "<IPython.core.display.Math object>"
      ]
     },
     "metadata": {},
     "output_type": "display_data"
    },
    {
     "name": "stdout",
     "output_type": "stream",
     "text": [
      "Salida counts = {'0': 1}\n",
      "Given the former angle theta and quantum state, the new prediction is:\n",
      "Prediction = 0\n",
      "int(Prediction) = 0 \n",
      "\n",
      "Overall Probability = -0.30608347004348146\n"
     ]
    },
    {
     "data": {
      "text/latex": [
       "$\\displaystyle \n",
       "$$ |\\psi\\rangle =\\begin{bmatrix}\n",
       "-0.46248 \\\\\n",
       "0.88663\\end{bmatrix} $"
      ],
      "text/plain": [
       "<IPython.core.display.Math object>"
      ]
     },
     "metadata": {},
     "output_type": "display_data"
    },
    {
     "name": "stdout",
     "output_type": "stream",
     "text": [
      "Salida counts = {'1': 1}\n",
      "Given the former angle theta and quantum state, the new prediction is:\n",
      "Prediction = 1\n",
      "int(Prediction) = 1 \n",
      "\n",
      "Overall Probability = -0.17642376185730815\n"
     ]
    },
    {
     "data": {
      "text/latex": [
       "$\\displaystyle \n",
       "$$ |\\psi\\rangle =\\begin{bmatrix}\n",
       "-0.27359 \\\\\n",
       "0.96185\\end{bmatrix} $"
      ],
      "text/plain": [
       "<IPython.core.display.Math object>"
      ]
     },
     "metadata": {},
     "output_type": "display_data"
    },
    {
     "name": "stdout",
     "output_type": "stream",
     "text": [
      "Salida counts = {'1': 1}\n",
      "Given the former angle theta and quantum state, the new prediction is:\n",
      "Prediction = 1\n",
      "int(Prediction) = 1 \n",
      "\n",
      "Overall Probability = -1.0830675132133918\n"
     ]
    },
    {
     "data": {
      "text/latex": [
       "$\\displaystyle \n",
       "$$ |\\psi\\rangle =\\begin{bmatrix}\n",
       "-0.99150 \\\\\n",
       "-0.13011\\end{bmatrix} $"
      ],
      "text/plain": [
       "<IPython.core.display.Math object>"
      ]
     },
     "metadata": {},
     "output_type": "display_data"
    },
    {
     "name": "stdout",
     "output_type": "stream",
     "text": [
      "Salida counts = {'0': 1}\n",
      "Given the former angle theta and quantum state, the new prediction is:\n",
      "Prediction = 0\n",
      "int(Prediction) = 0 \n",
      "\n",
      "Overall Probability = -0.8665120325378091\n"
     ]
    },
    {
     "data": {
      "text/latex": [
       "$\\displaystyle \n",
       "$$ |\\psi\\rangle =\\begin{bmatrix}\n",
       "-0.97810 \\\\\n",
       "0.20815\\end{bmatrix} $"
      ],
      "text/plain": [
       "<IPython.core.display.Math object>"
      ]
     },
     "metadata": {},
     "output_type": "display_data"
    },
    {
     "name": "stdout",
     "output_type": "stream",
     "text": [
      "Salida counts = {'0': 1}\n",
      "Given the former angle theta and quantum state, the new prediction is:\n",
      "Prediction = 0\n",
      "int(Prediction) = 0 \n",
      "\n",
      "Overall Probability = -0.140214332618469\n"
     ]
    },
    {
     "data": {
      "text/latex": [
       "$\\displaystyle \n",
       "$$ |\\psi\\rangle =\\begin{bmatrix}\n",
       "-0.21847 \\\\\n",
       "0.97584\\end{bmatrix} $"
      ],
      "text/plain": [
       "<IPython.core.display.Math object>"
      ]
     },
     "metadata": {},
     "output_type": "display_data"
    },
    {
     "name": "stdout",
     "output_type": "stream",
     "text": [
      "Salida counts = {'1': 1}\n",
      "Given the former angle theta and quantum state, the new prediction is:\n",
      "Prediction = 1\n",
      "int(Prediction) = 1 \n",
      "\n",
      "Overall Probability = -1.020781072792606\n"
     ]
    },
    {
     "data": {
      "text/latex": [
       "$\\displaystyle \n",
       "$$ |\\psi\\rangle =\\begin{bmatrix}\n",
       "-0.99947 \\\\\n",
       "-0.03264\\end{bmatrix} $"
      ],
      "text/plain": [
       "<IPython.core.display.Math object>"
      ]
     },
     "metadata": {},
     "output_type": "display_data"
    },
    {
     "name": "stdout",
     "output_type": "stream",
     "text": [
      "Salida counts = {'0': 1}\n",
      "Given the former angle theta and quantum state, the new prediction is:\n",
      "Prediction = 0\n",
      "int(Prediction) = 0 \n",
      "\n",
      "Overall Probability = -0.30966361859856145\n"
     ]
    },
    {
     "data": {
      "text/latex": [
       "$\\displaystyle \n",
       "$$ |\\psi\\rangle =\\begin{bmatrix}\n",
       "-0.46746 \\\\\n",
       "0.88401\\end{bmatrix} $"
      ],
      "text/plain": [
       "<IPython.core.display.Math object>"
      ]
     },
     "metadata": {},
     "output_type": "display_data"
    },
    {
     "name": "stdout",
     "output_type": "stream",
     "text": [
      "Salida counts = {'0': 1}\n",
      "Given the former angle theta and quantum state, the new prediction is:\n",
      "Prediction = 0\n",
      "int(Prediction) = 0 \n",
      "\n",
      "Overall Probability = -0.7224613729921348\n"
     ]
    },
    {
     "data": {
      "text/latex": [
       "$\\displaystyle \n",
       "$$ |\\psi\\rangle =\\begin{bmatrix}\n",
       "-0.90647 \\\\\n",
       "0.42228\\end{bmatrix} $"
      ],
      "text/plain": [
       "<IPython.core.display.Math object>"
      ]
     },
     "metadata": {},
     "output_type": "display_data"
    },
    {
     "name": "stdout",
     "output_type": "stream",
     "text": [
      "Salida counts = {'0': 1}\n",
      "Given the former angle theta and quantum state, the new prediction is:\n",
      "Prediction = 0\n",
      "int(Prediction) = 0 \n",
      "\n",
      "Overall Probability = -0.8826842934970643\n"
     ]
    },
    {
     "data": {
      "text/latex": [
       "$\\displaystyle \n",
       "$$ |\\psi\\rangle =\\begin{bmatrix}\n",
       "-0.98307 \\\\\n",
       "0.18324\\end{bmatrix} $"
      ],
      "text/plain": [
       "<IPython.core.display.Math object>"
      ]
     },
     "metadata": {},
     "output_type": "display_data"
    },
    {
     "name": "stdout",
     "output_type": "stream",
     "text": [
      "Salida counts = {'1': 1}\n",
      "Given the former angle theta and quantum state, the new prediction is:\n",
      "Prediction = 1\n",
      "int(Prediction) = 1 \n",
      "\n",
      "Overall Probability = -0.909453542514862\n"
     ]
    },
    {
     "data": {
      "text/latex": [
       "$\\displaystyle \n",
       "$$ |\\psi\\rangle =\\begin{bmatrix}\n",
       "-0.98990 \\\\\n",
       "0.14175\\end{bmatrix} $"
      ],
      "text/plain": [
       "<IPython.core.display.Math object>"
      ]
     },
     "metadata": {},
     "output_type": "display_data"
    },
    {
     "name": "stdout",
     "output_type": "stream",
     "text": [
      "Salida counts = {'0': 1}\n",
      "Given the former angle theta and quantum state, the new prediction is:\n",
      "Prediction = 0\n",
      "int(Prediction) = 0 \n",
      "\n",
      "Overall Probability = -1.0852509193170525\n"
     ]
    },
    {
     "data": {
      "text/latex": [
       "$\\displaystyle \n",
       "$$ |\\psi\\rangle =\\begin{bmatrix}\n",
       "-0.99105 \\\\\n",
       "-0.13351\\end{bmatrix} $"
      ],
      "text/plain": [
       "<IPython.core.display.Math object>"
      ]
     },
     "metadata": {},
     "output_type": "display_data"
    },
    {
     "name": "stdout",
     "output_type": "stream",
     "text": [
      "Salida counts = {'0': 1}\n",
      "Given the former angle theta and quantum state, the new prediction is:\n",
      "Prediction = 0\n",
      "int(Prediction) = 0 \n",
      "\n",
      "Overall Probability = -1.0847271312041598\n"
     ]
    },
    {
     "data": {
      "text/latex": [
       "$\\displaystyle \n",
       "$$ |\\psi\\rangle =\\begin{bmatrix}\n",
       "-0.99116 \\\\\n",
       "-0.13270\\end{bmatrix} $"
      ],
      "text/plain": [
       "<IPython.core.display.Math object>"
      ]
     },
     "metadata": {},
     "output_type": "display_data"
    },
    {
     "name": "stdout",
     "output_type": "stream",
     "text": [
      "Salida counts = {'0': 1}\n",
      "Given the former angle theta and quantum state, the new prediction is:\n",
      "Prediction = 0\n",
      "int(Prediction) = 0 \n",
      "\n",
      "Overall Probability = -0.31786967498564067\n"
     ]
    },
    {
     "data": {
      "text/latex": [
       "$\\displaystyle \n",
       "$$ |\\psi\\rangle =\\begin{bmatrix}\n",
       "-0.47882 \\\\\n",
       "0.87791\\end{bmatrix} $"
      ],
      "text/plain": [
       "<IPython.core.display.Math object>"
      ]
     },
     "metadata": {},
     "output_type": "display_data"
    },
    {
     "name": "stdout",
     "output_type": "stream",
     "text": [
      "Salida counts = {'1': 1}\n",
      "Given the former angle theta and quantum state, the new prediction is:\n",
      "Prediction = 1\n",
      "int(Prediction) = 1 \n",
      "\n",
      "Overall Probability = -1.0871540201358971\n"
     ]
    },
    {
     "data": {
      "text/latex": [
       "$\\displaystyle \n",
       "$$ |\\psi\\rangle =\\begin{bmatrix}\n",
       "-0.99064 \\\\\n",
       "-0.13647\\end{bmatrix} $"
      ],
      "text/plain": [
       "<IPython.core.display.Math object>"
      ]
     },
     "metadata": {},
     "output_type": "display_data"
    },
    {
     "name": "stdout",
     "output_type": "stream",
     "text": [
      "Salida counts = {'0': 1}\n",
      "Given the former angle theta and quantum state, the new prediction is:\n",
      "Prediction = 0\n",
      "int(Prediction) = 0 \n",
      "\n",
      "Overall Probability = -0.5371982792527599\n"
     ]
    },
    {
     "data": {
      "text/latex": [
       "$\\displaystyle \n",
       "$$ |\\psi\\rangle =\\begin{bmatrix}\n",
       "-0.74719 \\\\\n",
       "0.66461\\end{bmatrix} $"
      ],
      "text/plain": [
       "<IPython.core.display.Math object>"
      ]
     },
     "metadata": {},
     "output_type": "display_data"
    },
    {
     "name": "stdout",
     "output_type": "stream",
     "text": [
      "Salida counts = {'0': 1}\n",
      "Given the former angle theta and quantum state, the new prediction is:\n",
      "Prediction = 0\n",
      "int(Prediction) = 0 \n",
      "\n",
      "Overall Probability = -0.8577758194782742\n"
     ]
    },
    {
     "data": {
      "text/latex": [
       "$\\displaystyle \n",
       "$$ |\\psi\\rangle =\\begin{bmatrix}\n",
       "-0.97515 \\\\\n",
       "0.22155\\end{bmatrix} $"
      ],
      "text/plain": [
       "<IPython.core.display.Math object>"
      ]
     },
     "metadata": {},
     "output_type": "display_data"
    },
    {
     "name": "stdout",
     "output_type": "stream",
     "text": [
      "Salida counts = {'0': 1}\n",
      "Given the former angle theta and quantum state, the new prediction is:\n",
      "Prediction = 0\n",
      "int(Prediction) = 0 \n",
      "\n",
      "Overall Probability = -1.0862378065224751\n"
     ]
    },
    {
     "data": {
      "text/latex": [
       "$\\displaystyle \n",
       "$$ |\\psi\\rangle =\\begin{bmatrix}\n",
       "-0.99084 \\\\\n",
       "-0.13505\\end{bmatrix} $"
      ],
      "text/plain": [
       "<IPython.core.display.Math object>"
      ]
     },
     "metadata": {},
     "output_type": "display_data"
    },
    {
     "name": "stdout",
     "output_type": "stream",
     "text": [
      "Salida counts = {'0': 1}\n",
      "Given the former angle theta and quantum state, the new prediction is:\n",
      "Prediction = 0\n",
      "int(Prediction) = 0 \n",
      "\n",
      "Overall Probability = -1.086963542501821\n"
     ]
    },
    {
     "data": {
      "text/latex": [
       "$\\displaystyle \n",
       "$$ |\\psi\\rangle =\\begin{bmatrix}\n",
       "-0.99068 \\\\\n",
       "-0.13618\\end{bmatrix} $"
      ],
      "text/plain": [
       "<IPython.core.display.Math object>"
      ]
     },
     "metadata": {},
     "output_type": "display_data"
    },
    {
     "name": "stdout",
     "output_type": "stream",
     "text": [
      "Salida counts = {'0': 1}\n",
      "Given the former angle theta and quantum state, the new prediction is:\n",
      "Prediction = 0\n",
      "int(Prediction) = 0 \n",
      "\n",
      "Overall Probability = -1.0663157933433933\n"
     ]
    },
    {
     "data": {
      "text/latex": [
       "$\\displaystyle \n",
       "$$ |\\psi\\rangle =\\begin{bmatrix}\n",
       "-0.99458 \\\\\n",
       "-0.10398\\end{bmatrix} $"
      ],
      "text/plain": [
       "<IPython.core.display.Math object>"
      ]
     },
     "metadata": {},
     "output_type": "display_data"
    },
    {
     "name": "stdout",
     "output_type": "stream",
     "text": [
      "Salida counts = {'0': 1}\n",
      "Given the former angle theta and quantum state, the new prediction is:\n",
      "Prediction = 0\n",
      "int(Prediction) = 0 \n",
      "\n",
      "Overall Probability = -0.4269184564701258\n"
     ]
    },
    {
     "data": {
      "text/latex": [
       "$\\displaystyle \n",
       "$$ |\\psi\\rangle =\\begin{bmatrix}\n",
       "-0.62146 \\\\\n",
       "0.78345\\end{bmatrix} $"
      ],
      "text/plain": [
       "<IPython.core.display.Math object>"
      ]
     },
     "metadata": {},
     "output_type": "display_data"
    },
    {
     "name": "stdout",
     "output_type": "stream",
     "text": [
      "Salida counts = {'0': 1}\n",
      "Given the former angle theta and quantum state, the new prediction is:\n",
      "Prediction = 0\n",
      "int(Prediction) = 0 \n",
      "\n",
      "Overall Probability = -0.916079205839945\n"
     ]
    },
    {
     "data": {
      "text/latex": [
       "$\\displaystyle \n",
       "$$ |\\psi\\rangle =\\begin{bmatrix}\n",
       "-0.99132 \\\\\n",
       "0.13144\\end{bmatrix} $"
      ],
      "text/plain": [
       "<IPython.core.display.Math object>"
      ]
     },
     "metadata": {},
     "output_type": "display_data"
    },
    {
     "name": "stdout",
     "output_type": "stream",
     "text": [
      "Salida counts = {'0': 1}\n",
      "Given the former angle theta and quantum state, the new prediction is:\n",
      "Prediction = 0\n",
      "int(Prediction) = 0 \n",
      "\n",
      "Overall Probability = -1.0830656462484494\n"
     ]
    },
    {
     "data": {
      "text/latex": [
       "$\\displaystyle \n",
       "$$ |\\psi\\rangle =\\begin{bmatrix}\n",
       "-0.99150 \\\\\n",
       "-0.13011\\end{bmatrix} $"
      ],
      "text/plain": [
       "<IPython.core.display.Math object>"
      ]
     },
     "metadata": {},
     "output_type": "display_data"
    },
    {
     "name": "stdout",
     "output_type": "stream",
     "text": [
      "Salida counts = {'0': 1}\n",
      "Given the former angle theta and quantum state, the new prediction is:\n",
      "Prediction = 0\n",
      "int(Prediction) = 0 \n",
      "\n",
      "Overall Probability = -0.42062218251740946\n"
     ]
    },
    {
     "data": {
      "text/latex": [
       "$\\displaystyle \n",
       "$$ |\\psi\\rangle =\\begin{bmatrix}\n",
       "-0.61368 \\\\\n",
       "0.78956\\end{bmatrix} $"
      ],
      "text/plain": [
       "<IPython.core.display.Math object>"
      ]
     },
     "metadata": {},
     "output_type": "display_data"
    },
    {
     "name": "stdout",
     "output_type": "stream",
     "text": [
      "Salida counts = {'1': 1}\n",
      "Given the former angle theta and quantum state, the new prediction is:\n",
      "Prediction = 1\n",
      "int(Prediction) = 1 \n",
      "\n",
      "Overall Probability = -0.49933519873979904\n"
     ]
    },
    {
     "data": {
      "text/latex": [
       "$\\displaystyle \n",
       "$$ |\\psi\\rangle =\\begin{bmatrix}\n",
       "-0.70637 \\\\\n",
       "0.70784\\end{bmatrix} $"
      ],
      "text/plain": [
       "<IPython.core.display.Math object>"
      ]
     },
     "metadata": {},
     "output_type": "display_data"
    },
    {
     "name": "stdout",
     "output_type": "stream",
     "text": [
      "Salida counts = {'1': 1}\n",
      "Given the former angle theta and quantum state, the new prediction is:\n",
      "Prediction = 1\n",
      "int(Prediction) = 1 \n",
      "\n",
      "Overall Probability = -0.5413259756767115\n"
     ]
    },
    {
     "data": {
      "text/latex": [
       "$\\displaystyle \n",
       "$$ |\\psi\\rangle =\\begin{bmatrix}\n",
       "-0.75149 \\\\\n",
       "0.65975\\end{bmatrix} $"
      ],
      "text/plain": [
       "<IPython.core.display.Math object>"
      ]
     },
     "metadata": {},
     "output_type": "display_data"
    },
    {
     "name": "stdout",
     "output_type": "stream",
     "text": [
      "Salida counts = {'0': 1}\n",
      "Given the former angle theta and quantum state, the new prediction is:\n",
      "Prediction = 0\n",
      "int(Prediction) = 0 \n",
      "\n",
      "Overall Probability = -1.0851174069088327\n"
     ]
    },
    {
     "data": {
      "text/latex": [
       "$\\displaystyle \n",
       "$$ |\\psi\\rangle =\\begin{bmatrix}\n",
       "-0.99108 \\\\\n",
       "-0.13330\\end{bmatrix} $"
      ],
      "text/plain": [
       "<IPython.core.display.Math object>"
      ]
     },
     "metadata": {},
     "output_type": "display_data"
    },
    {
     "name": "stdout",
     "output_type": "stream",
     "text": [
      "Salida counts = {'0': 1}\n",
      "Given the former angle theta and quantum state, the new prediction is:\n",
      "Prediction = 0\n",
      "int(Prediction) = 0 \n",
      "\n",
      "Overall Probability = -0.7227596479294758\n"
     ]
    },
    {
     "data": {
      "text/latex": [
       "$\\displaystyle \n",
       "$$ |\\psi\\rangle =\\begin{bmatrix}\n",
       "-0.90666 \\\\\n",
       "0.42185\\end{bmatrix} $"
      ],
      "text/plain": [
       "<IPython.core.display.Math object>"
      ]
     },
     "metadata": {},
     "output_type": "display_data"
    },
    {
     "name": "stdout",
     "output_type": "stream",
     "text": [
      "Salida counts = {'0': 1}\n",
      "Given the former angle theta and quantum state, the new prediction is:\n",
      "Prediction = 0\n",
      "int(Prediction) = 0 \n",
      "\n",
      "Overall Probability = -1.0821758272487307\n"
     ]
    },
    {
     "data": {
      "text/latex": [
       "$\\displaystyle \n",
       "$$ |\\psi\\rangle =\\begin{bmatrix}\n",
       "-0.99168 \\\\\n",
       "-0.12872\\end{bmatrix} $"
      ],
      "text/plain": [
       "<IPython.core.display.Math object>"
      ]
     },
     "metadata": {},
     "output_type": "display_data"
    },
    {
     "name": "stdout",
     "output_type": "stream",
     "text": [
      "Salida counts = {'0': 1}\n",
      "Given the former angle theta and quantum state, the new prediction is:\n",
      "Prediction = 0\n",
      "int(Prediction) = 0 \n",
      "\n",
      "Overall Probability = -1.0840578300441948\n"
     ]
    },
    {
     "data": {
      "text/latex": [
       "$\\displaystyle \n",
       "$$ |\\psi\\rangle =\\begin{bmatrix}\n",
       "-0.99130 \\\\\n",
       "-0.13165\\end{bmatrix} $"
      ],
      "text/plain": [
       "<IPython.core.display.Math object>"
      ]
     },
     "metadata": {},
     "output_type": "display_data"
    },
    {
     "name": "stdout",
     "output_type": "stream",
     "text": [
      "Salida counts = {'0': 1}\n",
      "Given the former angle theta and quantum state, the new prediction is:\n",
      "Prediction = 0\n",
      "int(Prediction) = 0 \n",
      "\n",
      "Overall Probability = -1.0832260836768484\n"
     ]
    },
    {
     "data": {
      "text/latex": [
       "$\\displaystyle \n",
       "$$ |\\psi\\rangle =\\begin{bmatrix}\n",
       "-0.99147 \\\\\n",
       "-0.13036\\end{bmatrix} $"
      ],
      "text/plain": [
       "<IPython.core.display.Math object>"
      ]
     },
     "metadata": {},
     "output_type": "display_data"
    },
    {
     "name": "stdout",
     "output_type": "stream",
     "text": [
      "Salida counts = {'0': 1}\n",
      "Given the former angle theta and quantum state, the new prediction is:\n",
      "Prediction = 0\n",
      "int(Prediction) = 0 \n",
      "\n",
      "Overall Probability = -0.8850360479037849\n"
     ]
    },
    {
     "data": {
      "text/latex": [
       "$\\displaystyle \n",
       "$$ |\\psi\\rangle =\\begin{bmatrix}\n",
       "-0.98374 \\\\\n",
       "0.17961\\end{bmatrix} $"
      ],
      "text/plain": [
       "<IPython.core.display.Math object>"
      ]
     },
     "metadata": {},
     "output_type": "display_data"
    },
    {
     "name": "stdout",
     "output_type": "stream",
     "text": [
      "Salida counts = {'0': 1}\n",
      "Given the former angle theta and quantum state, the new prediction is:\n",
      "Prediction = 0\n",
      "int(Prediction) = 0 \n",
      "\n",
      "Overall Probability = -0.8935330346094283\n"
     ]
    },
    {
     "data": {
      "text/latex": [
       "$\\displaystyle \n",
       "$$ |\\psi\\rangle =\\begin{bmatrix}\n",
       "-0.98605 \\\\\n",
       "0.16646\\end{bmatrix} $"
      ],
      "text/plain": [
       "<IPython.core.display.Math object>"
      ]
     },
     "metadata": {},
     "output_type": "display_data"
    },
    {
     "name": "stdout",
     "output_type": "stream",
     "text": [
      "Salida counts = {'0': 1}\n",
      "Given the former angle theta and quantum state, the new prediction is:\n",
      "Prediction = 0\n",
      "int(Prediction) = 0 \n",
      "\n",
      "Overall Probability = -1.0404845197907522\n"
     ]
    },
    {
     "data": {
      "text/latex": [
       "$\\displaystyle \n",
       "$$ |\\psi\\rangle =\\begin{bmatrix}\n",
       "-0.99798 \\\\\n",
       "-0.06355\\end{bmatrix} $"
      ],
      "text/plain": [
       "<IPython.core.display.Math object>"
      ]
     },
     "metadata": {},
     "output_type": "display_data"
    },
    {
     "name": "stdout",
     "output_type": "stream",
     "text": [
      "Salida counts = {'0': 1}\n",
      "Given the former angle theta and quantum state, the new prediction is:\n",
      "Prediction = 0\n",
      "int(Prediction) = 0 \n",
      "\n",
      "Overall Probability = -1.0915839724139629\n"
     ]
    },
    {
     "data": {
      "text/latex": [
       "$\\displaystyle \n",
       "$$ |\\psi\\rangle =\\begin{bmatrix}\n",
       "-0.98967 \\\\\n",
       "-0.14336\\end{bmatrix} $"
      ],
      "text/plain": [
       "<IPython.core.display.Math object>"
      ]
     },
     "metadata": {},
     "output_type": "display_data"
    },
    {
     "name": "stdout",
     "output_type": "stream",
     "text": [
      "Salida counts = {'0': 1}\n",
      "Given the former angle theta and quantum state, the new prediction is:\n",
      "Prediction = 0\n",
      "int(Prediction) = 0 \n",
      "\n",
      "Overall Probability = -0.4269306339310004\n"
     ]
    },
    {
     "data": {
      "text/latex": [
       "$\\displaystyle \n",
       "$$ |\\psi\\rangle =\\begin{bmatrix}\n",
       "-0.62147 \\\\\n",
       "0.78344\\end{bmatrix} $"
      ],
      "text/plain": [
       "<IPython.core.display.Math object>"
      ]
     },
     "metadata": {},
     "output_type": "display_data"
    },
    {
     "name": "stdout",
     "output_type": "stream",
     "text": [
      "Salida counts = {'1': 1}\n",
      "Given the former angle theta and quantum state, the new prediction is:\n",
      "Prediction = 1\n",
      "int(Prediction) = 1 \n",
      "\n",
      "Overall Probability = -1.083519358040138\n"
     ]
    },
    {
     "data": {
      "text/latex": [
       "$\\displaystyle \n",
       "$$ |\\psi\\rangle =\\begin{bmatrix}\n",
       "-0.99141 \\\\\n",
       "-0.13082\\end{bmatrix} $"
      ],
      "text/plain": [
       "<IPython.core.display.Math object>"
      ]
     },
     "metadata": {},
     "output_type": "display_data"
    },
    {
     "name": "stdout",
     "output_type": "stream",
     "text": [
      "Salida counts = {'0': 1}\n",
      "Given the former angle theta and quantum state, the new prediction is:\n",
      "Prediction = 0\n",
      "int(Prediction) = 0 \n",
      "\n",
      "Overall Probability = -0.8541070065738523\n"
     ]
    },
    {
     "data": {
      "text/latex": [
       "$\\displaystyle \n",
       "$$ |\\psi\\rangle =\\begin{bmatrix}\n",
       "-0.97386 \\\\\n",
       "0.22717\\end{bmatrix} $"
      ],
      "text/plain": [
       "<IPython.core.display.Math object>"
      ]
     },
     "metadata": {},
     "output_type": "display_data"
    },
    {
     "name": "stdout",
     "output_type": "stream",
     "text": [
      "Salida counts = {'0': 1}\n",
      "Given the former angle theta and quantum state, the new prediction is:\n",
      "Prediction = 0\n",
      "int(Prediction) = 0 \n",
      "\n",
      "Overall Probability = -0.6930916023930151\n"
     ]
    },
    {
     "data": {
      "text/latex": [
       "$\\displaystyle \n",
       "$$ |\\psi\\rangle =\\begin{bmatrix}\n",
       "-0.88603 \\\\\n",
       "0.46363\\end{bmatrix} $"
      ],
      "text/plain": [
       "<IPython.core.display.Math object>"
      ]
     },
     "metadata": {},
     "output_type": "display_data"
    },
    {
     "name": "stdout",
     "output_type": "stream",
     "text": [
      "Salida counts = {'0': 1}\n",
      "Given the former angle theta and quantum state, the new prediction is:\n",
      "Prediction = 0\n",
      "int(Prediction) = 0 \n",
      "\n",
      "Overall Probability = -0.7258725308941583\n"
     ]
    },
    {
     "data": {
      "text/latex": [
       "$\\displaystyle \n",
       "$$ |\\psi\\rangle =\\begin{bmatrix}\n",
       "-0.90872 \\\\\n",
       "0.41741\\end{bmatrix} $"
      ],
      "text/plain": [
       "<IPython.core.display.Math object>"
      ]
     },
     "metadata": {},
     "output_type": "display_data"
    },
    {
     "name": "stdout",
     "output_type": "stream",
     "text": [
      "Salida counts = {'0': 1}\n",
      "Given the former angle theta and quantum state, the new prediction is:\n",
      "Prediction = 0\n",
      "int(Prediction) = 0 \n",
      "\n",
      "Overall Probability = -1.0856279216387477\n"
     ]
    },
    {
     "data": {
      "text/latex": [
       "$\\displaystyle \n",
       "$$ |\\psi\\rangle =\\begin{bmatrix}\n",
       "-0.99097 \\\\\n",
       "-0.13410\\end{bmatrix} $"
      ],
      "text/plain": [
       "<IPython.core.display.Math object>"
      ]
     },
     "metadata": {},
     "output_type": "display_data"
    },
    {
     "name": "stdout",
     "output_type": "stream",
     "text": [
      "Salida counts = {'0': 1}\n",
      "Given the former angle theta and quantum state, the new prediction is:\n",
      "Prediction = 0\n",
      "int(Prediction) = 0 \n",
      "\n",
      "Overall Probability = -0.8858209648228378\n"
     ]
    },
    {
     "data": {
      "text/latex": [
       "$\\displaystyle \n",
       "$$ |\\psi\\rangle =\\begin{bmatrix}\n",
       "-0.98396 \\\\\n",
       "0.17839\\end{bmatrix} $"
      ],
      "text/plain": [
       "<IPython.core.display.Math object>"
      ]
     },
     "metadata": {},
     "output_type": "display_data"
    },
    {
     "name": "stdout",
     "output_type": "stream",
     "text": [
      "Salida counts = {'0': 1}\n",
      "Given the former angle theta and quantum state, the new prediction is:\n",
      "Prediction = 0\n",
      "int(Prediction) = 0 \n",
      "\n",
      "Overall Probability = -0.5382681737521662\n"
     ]
    },
    {
     "data": {
      "text/latex": [
       "$\\displaystyle \n",
       "$$ |\\psi\\rangle =\\begin{bmatrix}\n",
       "-0.74831 \\\\\n",
       "0.66335\\end{bmatrix} $"
      ],
      "text/plain": [
       "<IPython.core.display.Math object>"
      ]
     },
     "metadata": {},
     "output_type": "display_data"
    },
    {
     "name": "stdout",
     "output_type": "stream",
     "text": [
      "Salida counts = {'1': 1}\n",
      "Given the former angle theta and quantum state, the new prediction is:\n",
      "Prediction = 1\n",
      "int(Prediction) = 1 \n",
      "\n",
      "Overall Probability = -1.0893744778482486\n"
     ]
    },
    {
     "data": {
      "text/latex": [
       "$\\displaystyle \n",
       "$$ |\\psi\\rangle =\\begin{bmatrix}\n",
       "-0.99016 \\\\\n",
       "-0.13993\\end{bmatrix} $"
      ],
      "text/plain": [
       "<IPython.core.display.Math object>"
      ]
     },
     "metadata": {},
     "output_type": "display_data"
    },
    {
     "name": "stdout",
     "output_type": "stream",
     "text": [
      "Salida counts = {'0': 1}\n",
      "Given the former angle theta and quantum state, the new prediction is:\n",
      "Prediction = 0\n",
      "int(Prediction) = 0 \n",
      "\n",
      "Overall Probability = 0.06771701588094989\n"
     ]
    },
    {
     "data": {
      "text/latex": [
       "$\\displaystyle \n",
       "$$ |\\psi\\rangle =\\begin{bmatrix}\n",
       "0.10617 \\\\\n",
       "0.99435\\end{bmatrix} $"
      ],
      "text/plain": [
       "<IPython.core.display.Math object>"
      ]
     },
     "metadata": {},
     "output_type": "display_data"
    },
    {
     "name": "stdout",
     "output_type": "stream",
     "text": [
      "Salida counts = {'1': 1}\n",
      "Given the former angle theta and quantum state, the new prediction is:\n",
      "Prediction = 1\n",
      "int(Prediction) = 1 \n",
      "\n",
      "Overall Probability = -0.9097401867793418\n"
     ]
    },
    {
     "data": {
      "text/latex": [
       "$\\displaystyle \n",
       "$$ |\\psi\\rangle =\\begin{bmatrix}\n",
       "-0.98997 \\\\\n",
       "0.14131\\end{bmatrix} $"
      ],
      "text/plain": [
       "<IPython.core.display.Math object>"
      ]
     },
     "metadata": {},
     "output_type": "display_data"
    },
    {
     "name": "stdout",
     "output_type": "stream",
     "text": [
      "Salida counts = {'0': 1}\n",
      "Given the former angle theta and quantum state, the new prediction is:\n",
      "Prediction = 0\n",
      "int(Prediction) = 0 \n",
      "\n",
      "Overall Probability = -0.5171165221330789\n"
     ]
    },
    {
     "data": {
      "text/latex": [
       "$\\displaystyle \n",
       "$$ |\\psi\\rangle =\\begin{bmatrix}\n",
       "-0.72586 \\\\\n",
       "0.68784\\end{bmatrix} $"
      ],
      "text/plain": [
       "<IPython.core.display.Math object>"
      ]
     },
     "metadata": {},
     "output_type": "display_data"
    },
    {
     "name": "stdout",
     "output_type": "stream",
     "text": [
      "Salida counts = {'1': 1}\n",
      "Given the former angle theta and quantum state, the new prediction is:\n",
      "Prediction = 1\n",
      "int(Prediction) = 1 \n",
      "\n",
      "Overall Probability = -0.9092444310931438\n"
     ]
    },
    {
     "data": {
      "text/latex": [
       "$\\displaystyle \n",
       "$$ |\\psi\\rangle =\\begin{bmatrix}\n",
       "-0.98986 \\\\\n",
       "0.14208\\end{bmatrix} $"
      ],
      "text/plain": [
       "<IPython.core.display.Math object>"
      ]
     },
     "metadata": {},
     "output_type": "display_data"
    },
    {
     "name": "stdout",
     "output_type": "stream",
     "text": [
      "Salida counts = {'0': 1}\n",
      "Given the former angle theta and quantum state, the new prediction is:\n",
      "Prediction = 0\n",
      "int(Prediction) = 0 \n",
      "\n",
      "Overall Probability = -0.7270834425644139\n"
     ]
    },
    {
     "data": {
      "text/latex": [
       "$\\displaystyle \n",
       "$$ |\\psi\\rangle =\\begin{bmatrix}\n",
       "-0.90951 \\\\\n",
       "0.41569\\end{bmatrix} $"
      ],
      "text/plain": [
       "<IPython.core.display.Math object>"
      ]
     },
     "metadata": {},
     "output_type": "display_data"
    },
    {
     "name": "stdout",
     "output_type": "stream",
     "text": [
      "Salida counts = {'0': 1}\n",
      "Given the former angle theta and quantum state, the new prediction is:\n",
      "Prediction = 0\n",
      "int(Prediction) = 0 \n",
      "\n",
      "Overall Probability = -0.8525151334101242\n"
     ]
    },
    {
     "data": {
      "text/latex": [
       "$\\displaystyle \n",
       "$$ |\\psi\\rangle =\\begin{bmatrix}\n",
       "-0.97328 \\\\\n",
       "0.22960\\end{bmatrix} $"
      ],
      "text/plain": [
       "<IPython.core.display.Math object>"
      ]
     },
     "metadata": {},
     "output_type": "display_data"
    },
    {
     "name": "stdout",
     "output_type": "stream",
     "text": [
      "Salida counts = {'0': 1}\n",
      "Given the former angle theta and quantum state, the new prediction is:\n",
      "Prediction = 0\n",
      "int(Prediction) = 0 \n",
      "\n",
      "Overall Probability = -0.031740615400558364\n"
     ]
    },
    {
     "data": {
      "text/latex": [
       "$\\displaystyle \n",
       "$$ |\\psi\\rangle =\\begin{bmatrix}\n",
       "-0.04984 \\\\\n",
       "0.99876\\end{bmatrix} $"
      ],
      "text/plain": [
       "<IPython.core.display.Math object>"
      ]
     },
     "metadata": {},
     "output_type": "display_data"
    },
    {
     "name": "stdout",
     "output_type": "stream",
     "text": [
      "Salida counts = {'1': 1}\n",
      "Given the former angle theta and quantum state, the new prediction is:\n",
      "Prediction = 1\n",
      "int(Prediction) = 1 \n",
      "\n",
      "Overall Probability = -0.12800022525079258\n"
     ]
    },
    {
     "data": {
      "text/latex": [
       "$\\displaystyle \n",
       "$$ |\\psi\\rangle =\\begin{bmatrix}\n",
       "-0.19971 \\\\\n",
       "0.97985\\end{bmatrix} $"
      ],
      "text/plain": [
       "<IPython.core.display.Math object>"
      ]
     },
     "metadata": {},
     "output_type": "display_data"
    },
    {
     "name": "stdout",
     "output_type": "stream",
     "text": [
      "Salida counts = {'1': 1}\n",
      "Given the former angle theta and quantum state, the new prediction is:\n",
      "Prediction = 1\n",
      "int(Prediction) = 1 \n",
      "\n",
      "Overall Probability = -0.7221215045170819\n"
     ]
    },
    {
     "data": {
      "text/latex": [
       "$\\displaystyle \n",
       "$$ |\\psi\\rangle =\\begin{bmatrix}\n",
       "-0.90624 \\\\\n",
       "0.42276\\end{bmatrix} $"
      ],
      "text/plain": [
       "<IPython.core.display.Math object>"
      ]
     },
     "metadata": {},
     "output_type": "display_data"
    },
    {
     "name": "stdout",
     "output_type": "stream",
     "text": [
      "Salida counts = {'0': 1}\n",
      "Given the former angle theta and quantum state, the new prediction is:\n",
      "Prediction = 0\n",
      "int(Prediction) = 0 \n",
      "\n",
      "Overall Probability = -0.42141069341379456\n"
     ]
    },
    {
     "data": {
      "text/latex": [
       "$\\displaystyle \n",
       "$$ |\\psi\\rangle =\\begin{bmatrix}\n",
       "-0.61466 \\\\\n",
       "0.78879\\end{bmatrix} $"
      ],
      "text/plain": [
       "<IPython.core.display.Math object>"
      ]
     },
     "metadata": {},
     "output_type": "display_data"
    },
    {
     "name": "stdout",
     "output_type": "stream",
     "text": [
      "Salida counts = {'0': 1}\n",
      "Given the former angle theta and quantum state, the new prediction is:\n",
      "Prediction = 0\n",
      "int(Prediction) = 0 \n",
      "\n",
      "Overall Probability = 0.2317463392087459\n"
     ]
    },
    {
     "data": {
      "text/latex": [
       "$\\displaystyle \n",
       "$$ |\\psi\\rangle =\\begin{bmatrix}\n",
       "0.35604 \\\\\n",
       "0.93447\\end{bmatrix} $"
      ],
      "text/plain": [
       "<IPython.core.display.Math object>"
      ]
     },
     "metadata": {},
     "output_type": "display_data"
    },
    {
     "name": "stdout",
     "output_type": "stream",
     "text": [
      "Salida counts = {'1': 1}\n",
      "Given the former angle theta and quantum state, the new prediction is:\n",
      "Prediction = 1\n",
      "int(Prediction) = 1 \n",
      "\n",
      "Overall Probability = -1.0848724282846387\n"
     ]
    },
    {
     "data": {
      "text/latex": [
       "$\\displaystyle \n",
       "$$ |\\psi\\rangle =\\begin{bmatrix}\n",
       "-0.99113 \\\\\n",
       "-0.13292\\end{bmatrix} $"
      ],
      "text/plain": [
       "<IPython.core.display.Math object>"
      ]
     },
     "metadata": {},
     "output_type": "display_data"
    },
    {
     "name": "stdout",
     "output_type": "stream",
     "text": [
      "Salida counts = {'0': 1}\n",
      "Given the former angle theta and quantum state, the new prediction is:\n",
      "Prediction = 0\n",
      "int(Prediction) = 0 \n",
      "\n",
      "Overall Probability = -0.9894781199207401\n"
     ]
    },
    {
     "data": {
      "text/latex": [
       "$\\displaystyle \n",
       "$$ |\\psi\\rangle =\\begin{bmatrix}\n",
       "-0.99986 \\\\\n",
       "0.01653\\end{bmatrix} $"
      ],
      "text/plain": [
       "<IPython.core.display.Math object>"
      ]
     },
     "metadata": {},
     "output_type": "display_data"
    },
    {
     "name": "stdout",
     "output_type": "stream",
     "text": [
      "Salida counts = {'0': 1}\n",
      "Given the former angle theta and quantum state, the new prediction is:\n",
      "Prediction = 0\n",
      "int(Prediction) = 0 \n",
      "\n",
      "Overall Probability = -0.36427045959985505\n"
     ]
    },
    {
     "data": {
      "text/latex": [
       "$\\displaystyle \n",
       "$$ |\\psi\\rangle =\\begin{bmatrix}\n",
       "-0.54148 \\\\\n",
       "0.84071\\end{bmatrix} $"
      ],
      "text/plain": [
       "<IPython.core.display.Math object>"
      ]
     },
     "metadata": {},
     "output_type": "display_data"
    },
    {
     "name": "stdout",
     "output_type": "stream",
     "text": [
      "Salida counts = {'1': 1}\n",
      "Given the former angle theta and quantum state, the new prediction is:\n",
      "Prediction = 1\n",
      "int(Prediction) = 1 \n",
      "\n",
      "Overall Probability = -0.44535695998743496\n"
     ]
    },
    {
     "data": {
      "text/latex": [
       "$\\displaystyle \n",
       "$$ |\\psi\\rangle =\\begin{bmatrix}\n",
       "-0.64388 \\\\\n",
       "0.76512\\end{bmatrix} $"
      ],
      "text/plain": [
       "<IPython.core.display.Math object>"
      ]
     },
     "metadata": {},
     "output_type": "display_data"
    },
    {
     "name": "stdout",
     "output_type": "stream",
     "text": [
      "Salida counts = {'1': 1}\n",
      "Given the former angle theta and quantum state, the new prediction is:\n",
      "Prediction = 1\n",
      "int(Prediction) = 1 \n",
      "\n",
      "Overall Probability = -0.7087204928568136\n"
     ]
    },
    {
     "data": {
      "text/latex": [
       "$\\displaystyle \n",
       "$$ |\\psi\\rangle =\\begin{bmatrix}\n",
       "-0.89714 \\\\\n",
       "0.44174\\end{bmatrix} $"
      ],
      "text/plain": [
       "<IPython.core.display.Math object>"
      ]
     },
     "metadata": {},
     "output_type": "display_data"
    },
    {
     "name": "stdout",
     "output_type": "stream",
     "text": [
      "Salida counts = {'0': 1}\n",
      "Given the former angle theta and quantum state, the new prediction is:\n",
      "Prediction = 0\n",
      "int(Prediction) = 0 \n",
      "\n",
      "Overall Probability = -0.15114639204181324\n"
     ]
    },
    {
     "data": {
      "text/latex": [
       "$\\displaystyle \n",
       "$$ |\\psi\\rangle =\\begin{bmatrix}\n",
       "-0.23520 \\\\\n",
       "0.97195\\end{bmatrix} $"
      ],
      "text/plain": [
       "<IPython.core.display.Math object>"
      ]
     },
     "metadata": {},
     "output_type": "display_data"
    },
    {
     "name": "stdout",
     "output_type": "stream",
     "text": [
      "Salida counts = {'1': 1}\n",
      "Given the former angle theta and quantum state, the new prediction is:\n",
      "Prediction = 1\n",
      "int(Prediction) = 1 \n",
      "\n",
      "Overall Probability = -0.7115040152391576\n"
     ]
    },
    {
     "data": {
      "text/latex": [
       "$\\displaystyle \n",
       "$$ |\\psi\\rangle =\\begin{bmatrix}\n",
       "-0.89906 \\\\\n",
       "0.43782\\end{bmatrix} $"
      ],
      "text/plain": [
       "<IPython.core.display.Math object>"
      ]
     },
     "metadata": {},
     "output_type": "display_data"
    },
    {
     "name": "stdout",
     "output_type": "stream",
     "text": [
      "Salida counts = {'1': 1}\n",
      "Given the former angle theta and quantum state, the new prediction is:\n",
      "Prediction = 1\n",
      "int(Prediction) = 1 \n",
      "\n",
      "Overall Probability = -0.37367314185133393\n"
     ]
    },
    {
     "data": {
      "text/latex": [
       "$\\displaystyle \n",
       "$$ |\\psi\\rangle =\\begin{bmatrix}\n",
       "-0.55384 \\\\\n",
       "0.83263\\end{bmatrix} $"
      ],
      "text/plain": [
       "<IPython.core.display.Math object>"
      ]
     },
     "metadata": {},
     "output_type": "display_data"
    },
    {
     "name": "stdout",
     "output_type": "stream",
     "text": [
      "Salida counts = {'0': 1}\n",
      "Given the former angle theta and quantum state, the new prediction is:\n",
      "Prediction = 0\n",
      "int(Prediction) = 0 \n",
      "\n",
      "Overall Probability = -1.085215808623024\n"
     ]
    },
    {
     "data": {
      "text/latex": [
       "$\\displaystyle \n",
       "$$ |\\psi\\rangle =\\begin{bmatrix}\n",
       "-0.99105 \\\\\n",
       "-0.13346\\end{bmatrix} $"
      ],
      "text/plain": [
       "<IPython.core.display.Math object>"
      ]
     },
     "metadata": {},
     "output_type": "display_data"
    },
    {
     "name": "stdout",
     "output_type": "stream",
     "text": [
      "Salida counts = {'0': 1}\n",
      "Given the former angle theta and quantum state, the new prediction is:\n",
      "Prediction = 0\n",
      "int(Prediction) = 0 \n",
      "\n",
      "Overall Probability = -0.8969976592085727\n"
     ]
    },
    {
     "data": {
      "text/latex": [
       "$\\displaystyle \n",
       "$$ |\\psi\\rangle =\\begin{bmatrix}\n",
       "-0.98694 \\\\\n",
       "0.16109\\end{bmatrix} $"
      ],
      "text/plain": [
       "<IPython.core.display.Math object>"
      ]
     },
     "metadata": {},
     "output_type": "display_data"
    },
    {
     "name": "stdout",
     "output_type": "stream",
     "text": [
      "Salida counts = {'0': 1}\n",
      "Given the former angle theta and quantum state, the new prediction is:\n",
      "Prediction = 0\n",
      "int(Prediction) = 0 \n",
      "\n",
      "Overall Probability = -0.8667729107784183\n"
     ]
    },
    {
     "data": {
      "text/latex": [
       "$\\displaystyle \n",
       "$$ |\\psi\\rangle =\\begin{bmatrix}\n",
       "-0.97818 \\\\\n",
       "0.20775\\end{bmatrix} $"
      ],
      "text/plain": [
       "<IPython.core.display.Math object>"
      ]
     },
     "metadata": {},
     "output_type": "display_data"
    },
    {
     "name": "stdout",
     "output_type": "stream",
     "text": [
      "Salida counts = {'0': 1}\n",
      "Given the former angle theta and quantum state, the new prediction is:\n",
      "Prediction = 0\n",
      "int(Prediction) = 0 \n",
      "\n",
      "Overall Probability = -1.081520167590589\n"
     ]
    },
    {
     "data": {
      "text/latex": [
       "$\\displaystyle \n",
       "$$ |\\psi\\rangle =\\begin{bmatrix}\n",
       "-0.99181 \\\\\n",
       "-0.12770\\end{bmatrix} $"
      ],
      "text/plain": [
       "<IPython.core.display.Math object>"
      ]
     },
     "metadata": {},
     "output_type": "display_data"
    },
    {
     "name": "stdout",
     "output_type": "stream",
     "text": [
      "Salida counts = {'0': 1}\n",
      "Given the former angle theta and quantum state, the new prediction is:\n",
      "Prediction = 0\n",
      "int(Prediction) = 0 \n",
      "\n",
      "Overall Probability = -0.9014443224182231\n"
     ]
    },
    {
     "data": {
      "text/latex": [
       "$\\displaystyle \n",
       "$$ |\\psi\\rangle =\\begin{bmatrix}\n",
       "-0.98804 \\\\\n",
       "0.15419\\end{bmatrix} $"
      ],
      "text/plain": [
       "<IPython.core.display.Math object>"
      ]
     },
     "metadata": {},
     "output_type": "display_data"
    },
    {
     "name": "stdout",
     "output_type": "stream",
     "text": [
      "Salida counts = {'0': 1}\n",
      "Given the former angle theta and quantum state, the new prediction is:\n",
      "Prediction = 0\n",
      "int(Prediction) = 0 \n",
      "\n",
      "Overall Probability = -0.7288000907982135\n"
     ]
    },
    {
     "data": {
      "text/latex": [
       "$\\displaystyle \n",
       "$$ |\\psi\\rangle =\\begin{bmatrix}\n",
       "-0.91063 \\\\\n",
       "0.41323\\end{bmatrix} $"
      ],
      "text/plain": [
       "<IPython.core.display.Math object>"
      ]
     },
     "metadata": {},
     "output_type": "display_data"
    },
    {
     "name": "stdout",
     "output_type": "stream",
     "text": [
      "Salida counts = {'0': 1}\n",
      "Given the former angle theta and quantum state, the new prediction is:\n",
      "Prediction = 0\n",
      "int(Prediction) = 0 \n",
      "\n",
      "Overall Probability = -1.0943024208963\n"
     ]
    },
    {
     "data": {
      "text/latex": [
       "$\\displaystyle \n",
       "$$ |\\psi\\rangle =\\begin{bmatrix}\n",
       "-0.98905 \\\\\n",
       "-0.14759\\end{bmatrix} $"
      ],
      "text/plain": [
       "<IPython.core.display.Math object>"
      ]
     },
     "metadata": {},
     "output_type": "display_data"
    },
    {
     "name": "stdout",
     "output_type": "stream",
     "text": [
      "Salida counts = {'0': 1}\n",
      "Given the former angle theta and quantum state, the new prediction is:\n",
      "Prediction = 0\n",
      "int(Prediction) = 0 \n",
      "\n",
      "Overall Probability = -0.35288715627025447\n"
     ]
    },
    {
     "data": {
      "text/latex": [
       "$\\displaystyle \n",
       "$$ |\\psi\\rangle =\\begin{bmatrix}\n",
       "-0.52636 \\\\\n",
       "0.85026\\end{bmatrix} $"
      ],
      "text/plain": [
       "<IPython.core.display.Math object>"
      ]
     },
     "metadata": {},
     "output_type": "display_data"
    },
    {
     "name": "stdout",
     "output_type": "stream",
     "text": [
      "Salida counts = {'1': 1}\n",
      "Given the former angle theta and quantum state, the new prediction is:\n",
      "Prediction = 1\n",
      "int(Prediction) = 1 \n",
      "\n",
      "Overall Probability = -1.0856902401838697\n"
     ]
    },
    {
     "data": {
      "text/latex": [
       "$\\displaystyle \n",
       "$$ |\\psi\\rangle =\\begin{bmatrix}\n",
       "-0.99095 \\\\\n",
       "-0.13420\\end{bmatrix} $"
      ],
      "text/plain": [
       "<IPython.core.display.Math object>"
      ]
     },
     "metadata": {},
     "output_type": "display_data"
    },
    {
     "name": "stdout",
     "output_type": "stream",
     "text": [
      "Salida counts = {'0': 1}\n",
      "Given the former angle theta and quantum state, the new prediction is:\n",
      "Prediction = 0\n",
      "int(Prediction) = 0 \n",
      "\n",
      "Overall Probability = -0.7438607956018028\n"
     ]
    },
    {
     "data": {
      "text/latex": [
       "$\\displaystyle \n",
       "$$ |\\psi\\rangle =\\begin{bmatrix}\n",
       "-0.92015 \\\\\n",
       "0.39157\\end{bmatrix} $"
      ],
      "text/plain": [
       "<IPython.core.display.Math object>"
      ]
     },
     "metadata": {},
     "output_type": "display_data"
    },
    {
     "name": "stdout",
     "output_type": "stream",
     "text": [
      "Salida counts = {'0': 1}\n",
      "Given the former angle theta and quantum state, the new prediction is:\n",
      "Prediction = 0\n",
      "int(Prediction) = 0 \n",
      "\n",
      "Overall Probability = -0.8864998278558125\n"
     ]
    },
    {
     "data": {
      "text/latex": [
       "$\\displaystyle \n",
       "$$ |\\psi\\rangle =\\begin{bmatrix}\n",
       "-0.98415 \\\\\n",
       "0.17734\\end{bmatrix} $"
      ],
      "text/plain": [
       "<IPython.core.display.Math object>"
      ]
     },
     "metadata": {},
     "output_type": "display_data"
    },
    {
     "name": "stdout",
     "output_type": "stream",
     "text": [
      "Salida counts = {'0': 1}\n",
      "Given the former angle theta and quantum state, the new prediction is:\n",
      "Prediction = 0\n",
      "int(Prediction) = 0 \n",
      "\n",
      "Overall Probability = -0.9066035154535683\n"
     ]
    },
    {
     "data": {
      "text/latex": [
       "$\\displaystyle \n",
       "$$ |\\psi\\rangle =\\begin{bmatrix}\n",
       "-0.98926 \\\\\n",
       "0.14618\\end{bmatrix} $"
      ],
      "text/plain": [
       "<IPython.core.display.Math object>"
      ]
     },
     "metadata": {},
     "output_type": "display_data"
    },
    {
     "name": "stdout",
     "output_type": "stream",
     "text": [
      "Salida counts = {'0': 1}\n",
      "Given the former angle theta and quantum state, the new prediction is:\n",
      "Prediction = 0\n",
      "int(Prediction) = 0 \n",
      "\n",
      "Overall Probability = 0.013596929929780576\n"
     ]
    },
    {
     "data": {
      "text/latex": [
       "$\\displaystyle \n",
       "$$ |\\psi\\rangle =\\begin{bmatrix}\n",
       "0.02136 \\\\\n",
       "0.99977\\end{bmatrix} $"
      ],
      "text/plain": [
       "<IPython.core.display.Math object>"
      ]
     },
     "metadata": {},
     "output_type": "display_data"
    },
    {
     "name": "stdout",
     "output_type": "stream",
     "text": [
      "Salida counts = {'1': 1}\n",
      "Given the former angle theta and quantum state, the new prediction is:\n",
      "Prediction = 1\n",
      "int(Prediction) = 1 \n",
      "\n",
      "Overall Probability = -1.084936242625878\n"
     ]
    },
    {
     "data": {
      "text/latex": [
       "$\\displaystyle \n",
       "$$ |\\psi\\rangle =\\begin{bmatrix}\n",
       "-0.99111 \\\\\n",
       "-0.13302\\end{bmatrix} $"
      ],
      "text/plain": [
       "<IPython.core.display.Math object>"
      ]
     },
     "metadata": {},
     "output_type": "display_data"
    },
    {
     "name": "stdout",
     "output_type": "stream",
     "text": [
      "Salida counts = {'0': 1}\n",
      "Given the former angle theta and quantum state, the new prediction is:\n",
      "Prediction = 0\n",
      "int(Prediction) = 0 \n",
      "\n",
      "Overall Probability = -0.44535695998743496\n"
     ]
    },
    {
     "data": {
      "text/latex": [
       "$\\displaystyle \n",
       "$$ |\\psi\\rangle =\\begin{bmatrix}\n",
       "-0.64388 \\\\\n",
       "0.76512\\end{bmatrix} $"
      ],
      "text/plain": [
       "<IPython.core.display.Math object>"
      ]
     },
     "metadata": {},
     "output_type": "display_data"
    },
    {
     "name": "stdout",
     "output_type": "stream",
     "text": [
      "Salida counts = {'1': 1}\n",
      "Given the former angle theta and quantum state, the new prediction is:\n",
      "Prediction = 1\n",
      "int(Prediction) = 1 \n",
      "\n",
      "Overall Probability = -0.8673685047385928\n"
     ]
    },
    {
     "data": {
      "text/latex": [
       "$\\displaystyle \n",
       "$$ |\\psi\\rangle =\\begin{bmatrix}\n",
       "-0.97838 \\\\\n",
       "0.20683\\end{bmatrix} $"
      ],
      "text/plain": [
       "<IPython.core.display.Math object>"
      ]
     },
     "metadata": {},
     "output_type": "display_data"
    },
    {
     "name": "stdout",
     "output_type": "stream",
     "text": [
      "Salida counts = {'0': 1}\n",
      "Given the former angle theta and quantum state, the new prediction is:\n",
      "Prediction = 0\n",
      "int(Prediction) = 0 \n",
      "\n",
      "Overall Probability = -1.0856279216387477\n"
     ]
    },
    {
     "data": {
      "text/latex": [
       "$\\displaystyle \n",
       "$$ |\\psi\\rangle =\\begin{bmatrix}\n",
       "-0.99097 \\\\\n",
       "-0.13410\\end{bmatrix} $"
      ],
      "text/plain": [
       "<IPython.core.display.Math object>"
      ]
     },
     "metadata": {},
     "output_type": "display_data"
    },
    {
     "name": "stdout",
     "output_type": "stream",
     "text": [
      "Salida counts = {'0': 1}\n",
      "Given the former angle theta and quantum state, the new prediction is:\n",
      "Prediction = 0\n",
      "int(Prediction) = 0 \n",
      "\n",
      "Overall Probability = -0.8966554633723463\n"
     ]
    },
    {
     "data": {
      "text/latex": [
       "$\\displaystyle \n",
       "$$ |\\psi\\rangle =\\begin{bmatrix}\n",
       "-0.98685 \\\\\n",
       "0.16162\\end{bmatrix} $"
      ],
      "text/plain": [
       "<IPython.core.display.Math object>"
      ]
     },
     "metadata": {},
     "output_type": "display_data"
    },
    {
     "name": "stdout",
     "output_type": "stream",
     "text": [
      "Salida counts = {'0': 1}\n",
      "Given the former angle theta and quantum state, the new prediction is:\n",
      "Prediction = 0\n",
      "int(Prediction) = 0 \n",
      "\n",
      "Overall Probability = -1.0218541319214165\n"
     ]
    },
    {
     "data": {
      "text/latex": [
       "$\\displaystyle \n",
       "$$ |\\psi\\rangle =\\begin{bmatrix}\n",
       "-0.99941 \\\\\n",
       "-0.03432\\end{bmatrix} $"
      ],
      "text/plain": [
       "<IPython.core.display.Math object>"
      ]
     },
     "metadata": {},
     "output_type": "display_data"
    },
    {
     "name": "stdout",
     "output_type": "stream",
     "text": [
      "Salida counts = {'0': 1}\n",
      "Given the former angle theta and quantum state, the new prediction is:\n",
      "Prediction = 0\n",
      "int(Prediction) = 0 \n",
      "\n",
      "Overall Probability = 0.05228631526155298\n"
     ]
    },
    {
     "data": {
      "text/latex": [
       "$\\displaystyle \n",
       "$$ |\\psi\\rangle =\\begin{bmatrix}\n",
       "0.08204 \\\\\n",
       "0.99663\\end{bmatrix} $"
      ],
      "text/plain": [
       "<IPython.core.display.Math object>"
      ]
     },
     "metadata": {},
     "output_type": "display_data"
    },
    {
     "name": "stdout",
     "output_type": "stream",
     "text": [
      "Salida counts = {'1': 1}\n",
      "Given the former angle theta and quantum state, the new prediction is:\n",
      "Prediction = 1\n",
      "int(Prediction) = 1 \n",
      "\n",
      "Overall Probability = -0.7332900615204383\n"
     ]
    },
    {
     "data": {
      "text/latex": [
       "$\\displaystyle \n",
       "$$ |\\psi\\rangle =\\begin{bmatrix}\n",
       "-0.91352 \\\\\n",
       "0.40680\\end{bmatrix} $"
      ],
      "text/plain": [
       "<IPython.core.display.Math object>"
      ]
     },
     "metadata": {},
     "output_type": "display_data"
    },
    {
     "name": "stdout",
     "output_type": "stream",
     "text": [
      "Salida counts = {'0': 1}\n",
      "Given the former angle theta and quantum state, the new prediction is:\n",
      "Prediction = 0\n",
      "int(Prediction) = 0 \n",
      "\n",
      "Overall Probability = -1.085995073117447\n"
     ]
    },
    {
     "data": {
      "text/latex": [
       "$\\displaystyle \n",
       "$$ |\\psi\\rangle =\\begin{bmatrix}\n",
       "-0.99089 \\\\\n",
       "-0.13467\\end{bmatrix} $"
      ],
      "text/plain": [
       "<IPython.core.display.Math object>"
      ]
     },
     "metadata": {},
     "output_type": "display_data"
    },
    {
     "name": "stdout",
     "output_type": "stream",
     "text": [
      "Salida counts = {'0': 1}\n",
      "Given the former angle theta and quantum state, the new prediction is:\n",
      "Prediction = 0\n",
      "int(Prediction) = 0 \n",
      "\n",
      "Overall Probability = -0.724961242702234\n"
     ]
    },
    {
     "data": {
      "text/latex": [
       "$\\displaystyle \n",
       "$$ |\\psi\\rangle =\\begin{bmatrix}\n",
       "-0.90812 \\\\\n",
       "0.41872\\end{bmatrix} $"
      ],
      "text/plain": [
       "<IPython.core.display.Math object>"
      ]
     },
     "metadata": {},
     "output_type": "display_data"
    },
    {
     "name": "stdout",
     "output_type": "stream",
     "text": [
      "Salida counts = {'0': 1}\n",
      "Given the former angle theta and quantum state, the new prediction is:\n",
      "Prediction = 0\n",
      "int(Prediction) = 0 \n",
      "\n",
      "Overall Probability = -0.8954794830505054\n"
     ]
    },
    {
     "data": {
      "text/latex": [
       "$\\displaystyle \n",
       "$$ |\\psi\\rangle =\\begin{bmatrix}\n",
       "-0.98655 \\\\\n",
       "0.16344\\end{bmatrix} $"
      ],
      "text/plain": [
       "<IPython.core.display.Math object>"
      ]
     },
     "metadata": {},
     "output_type": "display_data"
    },
    {
     "name": "stdout",
     "output_type": "stream",
     "text": [
      "Salida counts = {'0': 1}\n",
      "Given the former angle theta and quantum state, the new prediction is:\n",
      "Prediction = 0\n",
      "int(Prediction) = 0 \n",
      "\n",
      "Overall Probability = -0.22440207194438266\n"
     ]
    },
    {
     "data": {
      "text/latex": [
       "$\\displaystyle \n",
       "$$ |\\psi\\rangle =\\begin{bmatrix}\n",
       "-0.34524 \\\\\n",
       "0.93852\\end{bmatrix} $"
      ],
      "text/plain": [
       "<IPython.core.display.Math object>"
      ]
     },
     "metadata": {},
     "output_type": "display_data"
    },
    {
     "name": "stdout",
     "output_type": "stream",
     "text": [
      "Salida counts = {'1': 1}\n",
      "Given the former angle theta and quantum state, the new prediction is:\n",
      "Prediction = 1\n",
      "int(Prediction) = 1 \n",
      "\n",
      "Overall Probability = -0.1321641110166617\n"
     ]
    },
    {
     "data": {
      "text/latex": [
       "$\\displaystyle \n",
       "$$ |\\psi\\rangle =\\begin{bmatrix}\n",
       "-0.20611 \\\\\n",
       "0.97853\\end{bmatrix} $"
      ],
      "text/plain": [
       "<IPython.core.display.Math object>"
      ]
     },
     "metadata": {},
     "output_type": "display_data"
    },
    {
     "name": "stdout",
     "output_type": "stream",
     "text": [
      "Salida counts = {'1': 1}\n",
      "Given the former angle theta and quantum state, the new prediction is:\n",
      "Prediction = 1\n",
      "int(Prediction) = 1 \n",
      "\n",
      "Overall Probability = -0.6939853287326938\n"
     ]
    },
    {
     "data": {
      "text/latex": [
       "$\\displaystyle \n",
       "$$ |\\psi\\rangle =\\begin{bmatrix}\n",
       "-0.88668 \\\\\n",
       "0.46239\\end{bmatrix} $"
      ],
      "text/plain": [
       "<IPython.core.display.Math object>"
      ]
     },
     "metadata": {},
     "output_type": "display_data"
    },
    {
     "name": "stdout",
     "output_type": "stream",
     "text": [
      "Salida counts = {'0': 1}\n",
      "Given the former angle theta and quantum state, the new prediction is:\n",
      "Prediction = 0\n",
      "int(Prediction) = 0 \n",
      "\n",
      "Overall Probability = -0.4903764949217567\n"
     ]
    },
    {
     "data": {
      "text/latex": [
       "$\\displaystyle \n",
       "$$ |\\psi\\rangle =\\begin{bmatrix}\n",
       "-0.69634 \\\\\n",
       "0.71771\\end{bmatrix} $"
      ],
      "text/plain": [
       "<IPython.core.display.Math object>"
      ]
     },
     "metadata": {},
     "output_type": "display_data"
    },
    {
     "name": "stdout",
     "output_type": "stream",
     "text": [
      "Salida counts = {'1': 1}\n",
      "Given the former angle theta and quantum state, the new prediction is:\n",
      "Prediction = 1\n",
      "int(Prediction) = 1 \n",
      "\n",
      "Overall Probability = -0.8961270579326956\n"
     ]
    },
    {
     "data": {
      "text/latex": [
       "$\\displaystyle \n",
       "$$ |\\psi\\rangle =\\begin{bmatrix}\n",
       "-0.98672 \\\\\n",
       "0.16244\\end{bmatrix} $"
      ],
      "text/plain": [
       "<IPython.core.display.Math object>"
      ]
     },
     "metadata": {},
     "output_type": "display_data"
    },
    {
     "name": "stdout",
     "output_type": "stream",
     "text": [
      "Salida counts = {'0': 1}\n",
      "Given the former angle theta and quantum state, the new prediction is:\n",
      "Prediction = 0\n",
      "int(Prediction) = 0 \n",
      "\n",
      "Overall Probability = -0.9125526419608474\n"
     ]
    },
    {
     "data": {
      "text/latex": [
       "$\\displaystyle \n",
       "$$ |\\psi\\rangle =\\begin{bmatrix}\n",
       "-0.99058 \\\\\n",
       "0.13693\\end{bmatrix} $"
      ],
      "text/plain": [
       "<IPython.core.display.Math object>"
      ]
     },
     "metadata": {},
     "output_type": "display_data"
    },
    {
     "name": "stdout",
     "output_type": "stream",
     "text": [
      "Salida counts = {'0': 1}\n",
      "Given the former angle theta and quantum state, the new prediction is:\n",
      "Prediction = 0\n",
      "int(Prediction) = 0 \n",
      "\n",
      "Overall Probability = -1.085215808623024\n"
     ]
    },
    {
     "data": {
      "text/latex": [
       "$\\displaystyle \n",
       "$$ |\\psi\\rangle =\\begin{bmatrix}\n",
       "-0.99105 \\\\\n",
       "-0.13346\\end{bmatrix} $"
      ],
      "text/plain": [
       "<IPython.core.display.Math object>"
      ]
     },
     "metadata": {},
     "output_type": "display_data"
    },
    {
     "name": "stdout",
     "output_type": "stream",
     "text": [
      "Salida counts = {'0': 1}\n",
      "Given the former angle theta and quantum state, the new prediction is:\n",
      "Prediction = 0\n",
      "int(Prediction) = 0 \n",
      "\n",
      "Overall Probability = -0.9894674629257532\n"
     ]
    },
    {
     "data": {
      "text/latex": [
       "$\\displaystyle \n",
       "$$ |\\psi\\rangle =\\begin{bmatrix}\n",
       "-0.99986 \\\\\n",
       "0.01654\\end{bmatrix} $"
      ],
      "text/plain": [
       "<IPython.core.display.Math object>"
      ]
     },
     "metadata": {},
     "output_type": "display_data"
    },
    {
     "name": "stdout",
     "output_type": "stream",
     "text": [
      "Salida counts = {'0': 1}\n",
      "Given the former angle theta and quantum state, the new prediction is:\n",
      "Prediction = 0\n",
      "int(Prediction) = 0 \n",
      "\n",
      "Overall Probability = 0.16810012913912725\n"
     ]
    },
    {
     "data": {
      "text/latex": [
       "$\\displaystyle \n",
       "$$ |\\psi\\rangle =\\begin{bmatrix}\n",
       "0.26099 \\\\\n",
       "0.96534\\end{bmatrix} $"
      ],
      "text/plain": [
       "<IPython.core.display.Math object>"
      ]
     },
     "metadata": {},
     "output_type": "display_data"
    },
    {
     "name": "stdout",
     "output_type": "stream",
     "text": [
      "Salida counts = {'1': 1}\n",
      "Given the former angle theta and quantum state, the new prediction is:\n",
      "Prediction = 1\n",
      "int(Prediction) = 1 \n",
      "\n",
      "Overall Probability = -0.2682462447517665\n"
     ]
    },
    {
     "data": {
      "text/latex": [
       "$\\displaystyle \n",
       "$$ |\\psi\\rangle =\\begin{bmatrix}\n",
       "-0.40900 \\\\\n",
       "0.91253\\end{bmatrix} $"
      ],
      "text/plain": [
       "<IPython.core.display.Math object>"
      ]
     },
     "metadata": {},
     "output_type": "display_data"
    },
    {
     "name": "stdout",
     "output_type": "stream",
     "text": [
      "Salida counts = {'1': 1}\n",
      "Given the former angle theta and quantum state, the new prediction is:\n",
      "Prediction = 1\n",
      "int(Prediction) = 1 \n",
      "\n",
      "Overall Probability = -0.9068126268752865\n"
     ]
    },
    {
     "data": {
      "text/latex": [
       "$\\displaystyle \n",
       "$$ |\\psi\\rangle =\\begin{bmatrix}\n",
       "-0.98931 \\\\\n",
       "0.14586\\end{bmatrix} $"
      ],
      "text/plain": [
       "<IPython.core.display.Math object>"
      ]
     },
     "metadata": {},
     "output_type": "display_data"
    },
    {
     "name": "stdout",
     "output_type": "stream",
     "text": [
      "Salida counts = {'0': 1}\n",
      "Given the former angle theta and quantum state, the new prediction is:\n",
      "Prediction = 0\n",
      "int(Prediction) = 0 \n",
      "\n",
      "Overall Probability = -0.7099967796816009\n"
     ]
    },
    {
     "data": {
      "text/latex": [
       "$\\displaystyle \n",
       "$$ |\\psi\\rangle =\\begin{bmatrix}\n",
       "-0.89803 \\\\\n",
       "0.43994\\end{bmatrix} $"
      ],
      "text/plain": [
       "<IPython.core.display.Math object>"
      ]
     },
     "metadata": {},
     "output_type": "display_data"
    },
    {
     "name": "stdout",
     "output_type": "stream",
     "text": [
      "Salida counts = {'0': 1}\n",
      "Given the former angle theta and quantum state, the new prediction is:\n",
      "Prediction = 0\n",
      "int(Prediction) = 0 \n",
      "\n",
      "Overall Probability = -0.9917379753588458\n"
     ]
    },
    {
     "data": {
      "text/latex": [
       "$\\displaystyle \n",
       "$$ |\\psi\\rangle =\\begin{bmatrix}\n",
       "-0.99992 \\\\\n",
       "0.01298\\end{bmatrix} $"
      ],
      "text/plain": [
       "<IPython.core.display.Math object>"
      ]
     },
     "metadata": {},
     "output_type": "display_data"
    },
    {
     "name": "stdout",
     "output_type": "stream",
     "text": [
      "Salida counts = {'0': 1}\n",
      "Given the former angle theta and quantum state, the new prediction is:\n",
      "Prediction = 0\n",
      "int(Prediction) = 0 \n",
      "\n",
      "Overall Probability = -0.49500452103333864\n"
     ]
    },
    {
     "data": {
      "text/latex": [
       "$\\displaystyle \n",
       "$$ |\\psi\\rangle =\\begin{bmatrix}\n",
       "-0.70154 \\\\\n",
       "0.71263\\end{bmatrix} $"
      ],
      "text/plain": [
       "<IPython.core.display.Math object>"
      ]
     },
     "metadata": {},
     "output_type": "display_data"
    },
    {
     "name": "stdout",
     "output_type": "stream",
     "text": [
      "Salida counts = {'1': 1}\n",
      "Given the former angle theta and quantum state, the new prediction is:\n",
      "Prediction = 1\n",
      "int(Prediction) = 1 \n",
      "\n",
      "Overall Probability = -0.15740913966556855\n"
     ]
    },
    {
     "data": {
      "text/latex": [
       "$\\displaystyle \n",
       "$$ |\\psi\\rangle =\\begin{bmatrix}\n",
       "-0.24475 \\\\\n",
       "0.96959\\end{bmatrix} $"
      ],
      "text/plain": [
       "<IPython.core.display.Math object>"
      ]
     },
     "metadata": {},
     "output_type": "display_data"
    },
    {
     "name": "stdout",
     "output_type": "stream",
     "text": [
      "Salida counts = {'1': 1}\n",
      "Given the former angle theta and quantum state, the new prediction is:\n",
      "Prediction = 1\n",
      "int(Prediction) = 1 \n",
      "\n",
      "Overall Probability = -1.0829904254891745\n"
     ]
    },
    {
     "data": {
      "text/latex": [
       "$\\displaystyle \n",
       "$$ |\\psi\\rangle =\\begin{bmatrix}\n",
       "-0.99152 \\\\\n",
       "-0.12999\\end{bmatrix} $"
      ],
      "text/plain": [
       "<IPython.core.display.Math object>"
      ]
     },
     "metadata": {},
     "output_type": "display_data"
    },
    {
     "name": "stdout",
     "output_type": "stream",
     "text": [
      "Salida counts = {'0': 1}\n",
      "Given the former angle theta and quantum state, the new prediction is:\n",
      "Prediction = 0\n",
      "int(Prediction) = 0 \n",
      "\n",
      "Overall Probability = -0.331756617304884\n"
     ]
    },
    {
     "data": {
      "text/latex": [
       "$\\displaystyle \n",
       "$$ |\\psi\\rangle =\\begin{bmatrix}\n",
       "-0.49785 \\\\\n",
       "0.86726\\end{bmatrix} $"
      ],
      "text/plain": [
       "<IPython.core.display.Math object>"
      ]
     },
     "metadata": {},
     "output_type": "display_data"
    },
    {
     "name": "stdout",
     "output_type": "stream",
     "text": [
      "Salida counts = {'0': 1}\n",
      "Given the former angle theta and quantum state, the new prediction is:\n",
      "Prediction = 0\n",
      "int(Prediction) = 0 \n",
      "\n",
      "Overall Probability = -0.44553635820334525\n"
     ]
    },
    {
     "data": {
      "text/latex": [
       "$\\displaystyle \n",
       "$$ |\\psi\\rangle =\\begin{bmatrix}\n",
       "-0.64410 \\\\\n",
       "0.76494\\end{bmatrix} $"
      ],
      "text/plain": [
       "<IPython.core.display.Math object>"
      ]
     },
     "metadata": {},
     "output_type": "display_data"
    },
    {
     "name": "stdout",
     "output_type": "stream",
     "text": [
      "Salida counts = {'1': 1}\n",
      "Given the former angle theta and quantum state, the new prediction is:\n",
      "Prediction = 1\n",
      "int(Prediction) = 1 \n",
      "\n",
      "Overall Probability = -0.7123502295310746\n"
     ]
    },
    {
     "data": {
      "text/latex": [
       "$\\displaystyle \n",
       "$$ |\\psi\\rangle =\\begin{bmatrix}\n",
       "-0.89965 \\\\\n",
       "0.43662\\end{bmatrix} $"
      ],
      "text/plain": [
       "<IPython.core.display.Math object>"
      ]
     },
     "metadata": {},
     "output_type": "display_data"
    },
    {
     "name": "stdout",
     "output_type": "stream",
     "text": [
      "Salida counts = {'0': 1}\n",
      "Given the former angle theta and quantum state, the new prediction is:\n",
      "Prediction = 0\n",
      "int(Prediction) = 0 \n",
      "\n",
      "Overall Probability = -0.36416590388899595\n"
     ]
    },
    {
     "data": {
      "text/latex": [
       "$\\displaystyle \n",
       "$$ |\\psi\\rangle =\\begin{bmatrix}\n",
       "-0.54134 \\\\\n",
       "0.84080\\end{bmatrix} $"
      ],
      "text/plain": [
       "<IPython.core.display.Math object>"
      ]
     },
     "metadata": {},
     "output_type": "display_data"
    },
    {
     "name": "stdout",
     "output_type": "stream",
     "text": [
      "Salida counts = {'0': 1}\n",
      "Given the former angle theta and quantum state, the new prediction is:\n",
      "Prediction = 0\n",
      "int(Prediction) = 0 \n",
      "\n",
      "Overall Probability = -0.9086946296707505\n"
     ]
    },
    {
     "data": {
      "text/latex": [
       "$\\displaystyle \n",
       "$$ |\\psi\\rangle =\\begin{bmatrix}\n",
       "-0.98973 \\\\\n",
       "0.14293\\end{bmatrix} $"
      ],
      "text/plain": [
       "<IPython.core.display.Math object>"
      ]
     },
     "metadata": {},
     "output_type": "display_data"
    },
    {
     "name": "stdout",
     "output_type": "stream",
     "text": [
      "Salida counts = {'0': 1}\n",
      "Given the former angle theta and quantum state, the new prediction is:\n",
      "Prediction = 0\n",
      "int(Prediction) = 0 \n",
      "\n",
      "Overall Probability = -0.06279554502954171\n"
     ]
    },
    {
     "data": {
      "text/latex": [
       "$\\displaystyle \n",
       "$$ |\\psi\\rangle =\\begin{bmatrix}\n",
       "-0.09848 \\\\\n",
       "0.99514\\end{bmatrix} $"
      ],
      "text/plain": [
       "<IPython.core.display.Math object>"
      ]
     },
     "metadata": {},
     "output_type": "display_data"
    },
    {
     "name": "stdout",
     "output_type": "stream",
     "text": [
      "Salida counts = {'1': 1}\n",
      "Given the former angle theta and quantum state, the new prediction is:\n",
      "Prediction = 1\n",
      "int(Prediction) = 1 \n",
      "\n",
      "Overall Probability = -0.8989349853576043\n"
     ]
    },
    {
     "data": {
      "text/latex": [
       "$\\displaystyle \n",
       "$$ |\\psi\\rangle =\\begin{bmatrix}\n",
       "-0.98743 \\\\\n",
       "0.15809\\end{bmatrix} $"
      ],
      "text/plain": [
       "<IPython.core.display.Math object>"
      ]
     },
     "metadata": {},
     "output_type": "display_data"
    },
    {
     "name": "stdout",
     "output_type": "stream",
     "text": [
      "Salida counts = {'0': 1}\n",
      "Given the former angle theta and quantum state, the new prediction is:\n",
      "Prediction = 0\n",
      "int(Prediction) = 0 \n",
      "\n",
      "Overall Probability = -0.8901087677612176\n"
     ]
    },
    {
     "data": {
      "text/latex": [
       "$\\displaystyle \n",
       "$$ |\\psi\\rangle =\\begin{bmatrix}\n",
       "-0.98514 \\\\\n",
       "0.17176\\end{bmatrix} $"
      ],
      "text/plain": [
       "<IPython.core.display.Math object>"
      ]
     },
     "metadata": {},
     "output_type": "display_data"
    },
    {
     "name": "stdout",
     "output_type": "stream",
     "text": [
      "Salida counts = {'0': 1}\n",
      "Given the former angle theta and quantum state, the new prediction is:\n",
      "Prediction = 0\n",
      "int(Prediction) = 0 \n",
      "\n",
      "Overall Probability = -1.0856902401838697\n"
     ]
    },
    {
     "data": {
      "text/latex": [
       "$\\displaystyle \n",
       "$$ |\\psi\\rangle =\\begin{bmatrix}\n",
       "-0.99095 \\\\\n",
       "-0.13420\\end{bmatrix} $"
      ],
      "text/plain": [
       "<IPython.core.display.Math object>"
      ]
     },
     "metadata": {},
     "output_type": "display_data"
    },
    {
     "name": "stdout",
     "output_type": "stream",
     "text": [
      "Salida counts = {'0': 1}\n",
      "Given the former angle theta and quantum state, the new prediction is:\n",
      "Prediction = 0\n",
      "int(Prediction) = 0 \n",
      "\n",
      "Overall Probability = -0.8656170751035057\n"
     ]
    },
    {
     "data": {
      "text/latex": [
       "$\\displaystyle \n",
       "$$ |\\psi\\rangle =\\begin{bmatrix}\n",
       "-0.97780 \\\\\n",
       "0.20952\\end{bmatrix} $"
      ],
      "text/plain": [
       "<IPython.core.display.Math object>"
      ]
     },
     "metadata": {},
     "output_type": "display_data"
    },
    {
     "name": "stdout",
     "output_type": "stream",
     "text": [
      "Salida counts = {'0': 1}\n",
      "Given the former angle theta and quantum state, the new prediction is:\n",
      "Prediction = 0\n",
      "int(Prediction) = 0 \n",
      "\n",
      "Overall Probability = -1.0834857360568282\n"
     ]
    },
    {
     "data": {
      "text/latex": [
       "$\\displaystyle \n",
       "$$ |\\psi\\rangle =\\begin{bmatrix}\n",
       "-0.99141 \\\\\n",
       "-0.13076\\end{bmatrix} $"
      ],
      "text/plain": [
       "<IPython.core.display.Math object>"
      ]
     },
     "metadata": {},
     "output_type": "display_data"
    },
    {
     "name": "stdout",
     "output_type": "stream",
     "text": [
      "Salida counts = {'0': 1}\n",
      "Given the former angle theta and quantum state, the new prediction is:\n",
      "Prediction = 0\n",
      "int(Prediction) = 0 \n",
      "\n",
      "Overall Probability = -0.8923603721394354\n"
     ]
    },
    {
     "data": {
      "text/latex": [
       "$\\displaystyle \n",
       "$$ |\\psi\\rangle =\\begin{bmatrix}\n",
       "-0.98574 \\\\\n",
       "0.16828\\end{bmatrix} $"
      ],
      "text/plain": [
       "<IPython.core.display.Math object>"
      ]
     },
     "metadata": {},
     "output_type": "display_data"
    },
    {
     "name": "stdout",
     "output_type": "stream",
     "text": [
      "Salida counts = {'0': 1}\n",
      "Given the former angle theta and quantum state, the new prediction is:\n",
      "Prediction = 0\n",
      "int(Prediction) = 0 \n",
      "\n",
      "Overall Probability = -0.47667056985428785\n"
     ]
    },
    {
     "data": {
      "text/latex": [
       "$\\displaystyle \n",
       "$$ |\\psi\\rangle =\\begin{bmatrix}\n",
       "-0.68073 \\\\\n",
       "0.73254\\end{bmatrix} $"
      ],
      "text/plain": [
       "<IPython.core.display.Math object>"
      ]
     },
     "metadata": {},
     "output_type": "display_data"
    },
    {
     "name": "stdout",
     "output_type": "stream",
     "text": [
      "Salida counts = {'1': 1}\n",
      "Given the former angle theta and quantum state, the new prediction is:\n",
      "Prediction = 1\n",
      "int(Prediction) = 1 \n",
      "\n",
      "Overall Probability = -1.0438639245215537\n"
     ]
    },
    {
     "data": {
      "text/latex": [
       "$\\displaystyle \n",
       "$$ |\\psi\\rangle =\\begin{bmatrix}\n",
       "-0.99763 \\\\\n",
       "-0.06885\\end{bmatrix} $"
      ],
      "text/plain": [
       "<IPython.core.display.Math object>"
      ]
     },
     "metadata": {},
     "output_type": "display_data"
    },
    {
     "name": "stdout",
     "output_type": "stream",
     "text": [
      "Salida counts = {'0': 1}\n",
      "Given the former angle theta and quantum state, the new prediction is:\n",
      "Prediction = 0\n",
      "int(Prediction) = 0 \n",
      "\n",
      "Overall Probability = -0.5406908836354747\n"
     ]
    },
    {
     "data": {
      "text/latex": [
       "$\\displaystyle \n",
       "$$ |\\psi\\rangle =\\begin{bmatrix}\n",
       "-0.75083 \\\\\n",
       "0.66050\\end{bmatrix} $"
      ],
      "text/plain": [
       "<IPython.core.display.Math object>"
      ]
     },
     "metadata": {},
     "output_type": "display_data"
    },
    {
     "name": "stdout",
     "output_type": "stream",
     "text": [
      "Salida counts = {'0': 1}\n",
      "Given the former angle theta and quantum state, the new prediction is:\n",
      "Prediction = 0\n",
      "int(Prediction) = 0 \n",
      "\n",
      "Overall Probability = -0.8937195963806039\n"
     ]
    },
    {
     "data": {
      "text/latex": [
       "$\\displaystyle \n",
       "$$ |\\psi\\rangle =\\begin{bmatrix}\n",
       "-0.98610 \\\\\n",
       "0.16617\\end{bmatrix} $"
      ],
      "text/plain": [
       "<IPython.core.display.Math object>"
      ]
     },
     "metadata": {},
     "output_type": "display_data"
    },
    {
     "name": "stdout",
     "output_type": "stream",
     "text": [
      "Salida counts = {'0': 1}\n",
      "Given the former angle theta and quantum state, the new prediction is:\n",
      "Prediction = 0\n",
      "int(Prediction) = 0 \n",
      "\n",
      "Overall Probability = -0.42733667931356223\n"
     ]
    },
    {
     "data": {
      "text/latex": [
       "$\\displaystyle \n",
       "$$ |\\psi\\rangle =\\begin{bmatrix}\n",
       "-0.62197 \\\\\n",
       "0.78304\\end{bmatrix} $"
      ],
      "text/plain": [
       "<IPython.core.display.Math object>"
      ]
     },
     "metadata": {},
     "output_type": "display_data"
    },
    {
     "name": "stdout",
     "output_type": "stream",
     "text": [
      "Salida counts = {'1': 1}\n",
      "Given the former angle theta and quantum state, the new prediction is:\n",
      "Prediction = 1\n",
      "int(Prediction) = 1 \n",
      "\n",
      "Overall Probability = -1.0871540201358971\n"
     ]
    },
    {
     "data": {
      "text/latex": [
       "$\\displaystyle \n",
       "$$ |\\psi\\rangle =\\begin{bmatrix}\n",
       "-0.99064 \\\\\n",
       "-0.13647\\end{bmatrix} $"
      ],
      "text/plain": [
       "<IPython.core.display.Math object>"
      ]
     },
     "metadata": {},
     "output_type": "display_data"
    },
    {
     "name": "stdout",
     "output_type": "stream",
     "text": [
      "Salida counts = {'0': 1}\n",
      "Given the former angle theta and quantum state, the new prediction is:\n",
      "Prediction = 0\n",
      "int(Prediction) = 0 \n",
      "\n",
      "Overall Probability = -0.7323549849674234\n"
     ]
    },
    {
     "data": {
      "text/latex": [
       "$\\displaystyle \n",
       "$$ |\\psi\\rangle =\\begin{bmatrix}\n",
       "-0.91292 \\\\\n",
       "0.40814\\end{bmatrix} $"
      ],
      "text/plain": [
       "<IPython.core.display.Math object>"
      ]
     },
     "metadata": {},
     "output_type": "display_data"
    },
    {
     "name": "stdout",
     "output_type": "stream",
     "text": [
      "Salida counts = {'1': 1}\n",
      "Given the former angle theta and quantum state, the new prediction is:\n",
      "Prediction = 1\n",
      "int(Prediction) = 1 \n",
      "\n",
      "Overall Probability = -0.1426688846959627\n"
     ]
    },
    {
     "data": {
      "text/latex": [
       "$\\displaystyle \n",
       "$$ |\\psi\\rangle =\\begin{bmatrix}\n",
       "-0.22223 \\\\\n",
       "0.97499\\end{bmatrix} $"
      ],
      "text/plain": [
       "<IPython.core.display.Math object>"
      ]
     },
     "metadata": {},
     "output_type": "display_data"
    },
    {
     "name": "stdout",
     "output_type": "stream",
     "text": [
      "Salida counts = {'1': 1}\n",
      "Given the former angle theta and quantum state, the new prediction is:\n",
      "Prediction = 1\n",
      "int(Prediction) = 1 \n",
      "\n",
      "Overall Probability = -0.44535695998743496\n"
     ]
    },
    {
     "data": {
      "text/latex": [
       "$\\displaystyle \n",
       "$$ |\\psi\\rangle =\\begin{bmatrix}\n",
       "-0.64388 \\\\\n",
       "0.76512\\end{bmatrix} $"
      ],
      "text/plain": [
       "<IPython.core.display.Math object>"
      ]
     },
     "metadata": {},
     "output_type": "display_data"
    },
    {
     "name": "stdout",
     "output_type": "stream",
     "text": [
      "Salida counts = {'0': 1}\n",
      "Given the former angle theta and quantum state, the new prediction is:\n",
      "Prediction = 0\n",
      "int(Prediction) = 0 \n",
      "\n",
      "Overall Probability = -0.5330788246174398\n"
     ]
    },
    {
     "data": {
      "text/latex": [
       "$\\displaystyle \n",
       "$$ |\\psi\\rangle =\\begin{bmatrix}\n",
       "-0.74288 \\\\\n",
       "0.66943\\end{bmatrix} $"
      ],
      "text/plain": [
       "<IPython.core.display.Math object>"
      ]
     },
     "metadata": {},
     "output_type": "display_data"
    },
    {
     "name": "stdout",
     "output_type": "stream",
     "text": [
      "Salida counts = {'0': 1}\n",
      "Given the former angle theta and quantum state, the new prediction is:\n",
      "Prediction = 0\n",
      "int(Prediction) = 0 \n",
      "\n",
      "Overall Probability = -0.8939611012104621\n"
     ]
    },
    {
     "data": {
      "text/latex": [
       "$\\displaystyle \n",
       "$$ |\\psi\\rangle =\\begin{bmatrix}\n",
       "-0.98616 \\\\\n",
       "0.16580\\end{bmatrix} $"
      ],
      "text/plain": [
       "<IPython.core.display.Math object>"
      ]
     },
     "metadata": {},
     "output_type": "display_data"
    },
    {
     "name": "stdout",
     "output_type": "stream",
     "text": [
      "Salida counts = {'0': 1}\n",
      "Given the former angle theta and quantum state, the new prediction is:\n",
      "Prediction = 0\n",
      "int(Prediction) = 0 \n",
      "\n",
      "Overall Probability = -0.9068126268752865\n"
     ]
    },
    {
     "data": {
      "text/latex": [
       "$\\displaystyle \n",
       "$$ |\\psi\\rangle =\\begin{bmatrix}\n",
       "-0.98931 \\\\\n",
       "0.14586\\end{bmatrix} $"
      ],
      "text/plain": [
       "<IPython.core.display.Math object>"
      ]
     },
     "metadata": {},
     "output_type": "display_data"
    },
    {
     "name": "stdout",
     "output_type": "stream",
     "text": [
      "Salida counts = {'0': 1}\n",
      "Given the former angle theta and quantum state, the new prediction is:\n",
      "Prediction = 0\n",
      "int(Prediction) = 0 \n",
      "\n",
      "Overall Probability = -0.7317276507022685\n"
     ]
    },
    {
     "data": {
      "text/latex": [
       "$\\displaystyle \n",
       "$$ |\\psi\\rangle =\\begin{bmatrix}\n",
       "-0.91252 \\\\\n",
       "0.40904\\end{bmatrix} $"
      ],
      "text/plain": [
       "<IPython.core.display.Math object>"
      ]
     },
     "metadata": {},
     "output_type": "display_data"
    },
    {
     "name": "stdout",
     "output_type": "stream",
     "text": [
      "Salida counts = {'0': 1}\n",
      "Given the former angle theta and quantum state, the new prediction is:\n",
      "Prediction = 0\n",
      "int(Prediction) = 0 \n",
      "\n",
      "Overall Probability = -0.32002324576851293\n"
     ]
    },
    {
     "data": {
      "text/latex": [
       "$\\displaystyle \n",
       "$$ |\\psi\\rangle =\\begin{bmatrix}\n",
       "-0.48179 \\\\\n",
       "0.87629\\end{bmatrix} $"
      ],
      "text/plain": [
       "<IPython.core.display.Math object>"
      ]
     },
     "metadata": {},
     "output_type": "display_data"
    },
    {
     "name": "stdout",
     "output_type": "stream",
     "text": [
      "Salida counts = {'1': 1}\n",
      "Given the former angle theta and quantum state, the new prediction is:\n",
      "Prediction = 1\n",
      "int(Prediction) = 1 \n",
      "\n",
      "Overall Probability = -0.28736189000000634\n"
     ]
    },
    {
     "data": {
      "text/latex": [
       "$\\displaystyle \n",
       "$$ |\\psi\\rangle =\\begin{bmatrix}\n",
       "-0.43621 \\\\\n",
       "0.89984\\end{bmatrix} $"
      ],
      "text/plain": [
       "<IPython.core.display.Math object>"
      ]
     },
     "metadata": {},
     "output_type": "display_data"
    },
    {
     "name": "stdout",
     "output_type": "stream",
     "text": [
      "Salida counts = {'1': 1}\n",
      "Given the former angle theta and quantum state, the new prediction is:\n",
      "Prediction = 1\n",
      "int(Prediction) = 1 \n",
      "\n",
      "Overall Probability = -0.692312437358948\n"
     ]
    },
    {
     "data": {
      "text/latex": [
       "$\\displaystyle \n",
       "$$ |\\psi\\rangle =\\begin{bmatrix}\n",
       "-0.88546 \\\\\n",
       "0.46472\\end{bmatrix} $"
      ],
      "text/plain": [
       "<IPython.core.display.Math object>"
      ]
     },
     "metadata": {},
     "output_type": "display_data"
    },
    {
     "name": "stdout",
     "output_type": "stream",
     "text": [
      "Salida counts = {'1': 1}\n",
      "Given the former angle theta and quantum state, the new prediction is:\n",
      "Prediction = 1\n",
      "int(Prediction) = 1 \n",
      "\n",
      "Overall Probability = -0.7304729821719593\n"
     ]
    },
    {
     "data": {
      "text/latex": [
       "$\\displaystyle \n",
       "$$ |\\psi\\rangle =\\begin{bmatrix}\n",
       "-0.91171 \\\\\n",
       "0.41084\\end{bmatrix} $"
      ],
      "text/plain": [
       "<IPython.core.display.Math object>"
      ]
     },
     "metadata": {},
     "output_type": "display_data"
    },
    {
     "name": "stdout",
     "output_type": "stream",
     "text": [
      "Salida counts = {'0': 1}\n",
      "Given the former angle theta and quantum state, the new prediction is:\n",
      "Prediction = 0\n",
      "int(Prediction) = 0 \n",
      "\n",
      "Overall Probability = -0.8645480308883484\n"
     ]
    },
    {
     "data": {
      "text/latex": [
       "$\\displaystyle \n",
       "$$ |\\psi\\rangle =\\begin{bmatrix}\n",
       "-0.97745 \\\\\n",
       "0.21117\\end{bmatrix} $"
      ],
      "text/plain": [
       "<IPython.core.display.Math object>"
      ]
     },
     "metadata": {},
     "output_type": "display_data"
    },
    {
     "name": "stdout",
     "output_type": "stream",
     "text": [
      "Salida counts = {'1': 1}\n",
      "Given the former angle theta and quantum state, the new prediction is:\n",
      "Prediction = 1\n",
      "int(Prediction) = 1 \n",
      "\n",
      "Overall Probability = -1.0838487186224766\n"
     ]
    },
    {
     "data": {
      "text/latex": [
       "$\\displaystyle \n",
       "$$ |\\psi\\rangle =\\begin{bmatrix}\n",
       "-0.99134 \\\\\n",
       "-0.13133\\end{bmatrix} $"
      ],
      "text/plain": [
       "<IPython.core.display.Math object>"
      ]
     },
     "metadata": {},
     "output_type": "display_data"
    },
    {
     "name": "stdout",
     "output_type": "stream",
     "text": [
      "Salida counts = {'0': 1}\n",
      "Given the former angle theta and quantum state, the new prediction is:\n",
      "Prediction = 0\n",
      "int(Prediction) = 0 \n",
      "\n",
      "Overall Probability = -0.6978239578121004\n"
     ]
    },
    {
     "data": {
      "text/latex": [
       "$\\displaystyle \n",
       "$$ |\\psi\\rangle =\\begin{bmatrix}\n",
       "-0.88945 \\\\\n",
       "0.45703\\end{bmatrix} $"
      ],
      "text/plain": [
       "<IPython.core.display.Math object>"
      ]
     },
     "metadata": {},
     "output_type": "display_data"
    },
    {
     "name": "stdout",
     "output_type": "stream",
     "text": [
      "Salida counts = {'0': 1}\n",
      "Given the former angle theta and quantum state, the new prediction is:\n",
      "Prediction = 0\n",
      "int(Prediction) = 0 \n",
      "\n",
      "Overall Probability = -1.079741527811537\n"
     ]
    },
    {
     "data": {
      "text/latex": [
       "$\\displaystyle \n",
       "$$ |\\psi\\rangle =\\begin{bmatrix}\n",
       "-0.99217 \\\\\n",
       "-0.12493\\end{bmatrix} $"
      ],
      "text/plain": [
       "<IPython.core.display.Math object>"
      ]
     },
     "metadata": {},
     "output_type": "display_data"
    },
    {
     "name": "stdout",
     "output_type": "stream",
     "text": [
      "Salida counts = {'0': 1}\n",
      "Given the former angle theta and quantum state, the new prediction is:\n",
      "Prediction = 0\n",
      "int(Prediction) = 0 \n",
      "\n",
      "Overall Probability = -0.4661676708341057\n"
     ]
    },
    {
     "data": {
      "text/latex": [
       "$\\displaystyle \n",
       "$$ |\\psi\\rangle =\\begin{bmatrix}\n",
       "-0.66855 \\\\\n",
       "0.74367\\end{bmatrix} $"
      ],
      "text/plain": [
       "<IPython.core.display.Math object>"
      ]
     },
     "metadata": {},
     "output_type": "display_data"
    },
    {
     "name": "stdout",
     "output_type": "stream",
     "text": [
      "Salida counts = {'1': 1}\n",
      "Given the former angle theta and quantum state, the new prediction is:\n",
      "Prediction = 1\n",
      "int(Prediction) = 1 \n",
      "\n",
      "Overall Probability = -0.9086946296707505\n"
     ]
    },
    {
     "data": {
      "text/latex": [
       "$\\displaystyle \n",
       "$$ |\\psi\\rangle =\\begin{bmatrix}\n",
       "-0.98973 \\\\\n",
       "0.14293\\end{bmatrix} $"
      ],
      "text/plain": [
       "<IPython.core.display.Math object>"
      ]
     },
     "metadata": {},
     "output_type": "display_data"
    },
    {
     "name": "stdout",
     "output_type": "stream",
     "text": [
      "Salida counts = {'0': 1}\n",
      "Given the former angle theta and quantum state, the new prediction is:\n",
      "Prediction = 0\n",
      "int(Prediction) = 0 \n",
      "\n",
      "Overall Probability = -1.0828920237749835\n"
     ]
    },
    {
     "data": {
      "text/latex": [
       "$\\displaystyle \n",
       "$$ |\\psi\\rangle =\\begin{bmatrix}\n",
       "-0.99154 \\\\\n",
       "-0.12984\\end{bmatrix} $"
      ],
      "text/plain": [
       "<IPython.core.display.Math object>"
      ]
     },
     "metadata": {},
     "output_type": "display_data"
    },
    {
     "name": "stdout",
     "output_type": "stream",
     "text": [
      "Salida counts = {'0': 1}\n",
      "Given the former angle theta and quantum state, the new prediction is:\n",
      "Prediction = 0\n",
      "int(Prediction) = 0 \n",
      "\n",
      "Overall Probability = -0.692333015111231\n"
     ]
    },
    {
     "data": {
      "text/latex": [
       "$\\displaystyle \n",
       "$$ |\\psi\\rangle =\\begin{bmatrix}\n",
       "-0.88547 \\\\\n",
       "0.46469\\end{bmatrix} $"
      ],
      "text/plain": [
       "<IPython.core.display.Math object>"
      ]
     },
     "metadata": {},
     "output_type": "display_data"
    },
    {
     "name": "stdout",
     "output_type": "stream",
     "text": [
      "Salida counts = {'0': 1}\n",
      "Given the former angle theta and quantum state, the new prediction is:\n",
      "Prediction = 0\n",
      "int(Prediction) = 0 \n",
      "\n",
      "Overall Probability = -0.6423832990848449\n"
     ]
    },
    {
     "data": {
      "text/latex": [
       "$\\displaystyle \n",
       "$$ |\\psi\\rangle =\\begin{bmatrix}\n",
       "-0.84633 \\\\\n",
       "0.53266\\end{bmatrix} $"
      ],
      "text/plain": [
       "<IPython.core.display.Math object>"
      ]
     },
     "metadata": {},
     "output_type": "display_data"
    },
    {
     "name": "stdout",
     "output_type": "stream",
     "text": [
      "Salida counts = {'0': 1}\n",
      "Given the former angle theta and quantum state, the new prediction is:\n",
      "Prediction = 0\n",
      "int(Prediction) = 0 \n",
      "\n",
      "Overall Probability = -0.6727380624542655\n"
     ]
    },
    {
     "data": {
      "text/latex": [
       "$\\displaystyle \n",
       "$$ |\\psi\\rangle =\\begin{bmatrix}\n",
       "-0.87075 \\\\\n",
       "0.49172\\end{bmatrix} $"
      ],
      "text/plain": [
       "<IPython.core.display.Math object>"
      ]
     },
     "metadata": {},
     "output_type": "display_data"
    },
    {
     "name": "stdout",
     "output_type": "stream",
     "text": [
      "Salida counts = {'0': 1}\n",
      "Given the former angle theta and quantum state, the new prediction is:\n",
      "Prediction = 0\n",
      "int(Prediction) = 0 \n",
      "\n",
      "Overall Probability = -1.07054915815967\n"
     ]
    },
    {
     "data": {
      "text/latex": [
       "$\\displaystyle \n",
       "$$ |\\psi\\rangle =\\begin{bmatrix}\n",
       "-0.99387 \\\\\n",
       "-0.11059\\end{bmatrix} $"
      ],
      "text/plain": [
       "<IPython.core.display.Math object>"
      ]
     },
     "metadata": {},
     "output_type": "display_data"
    },
    {
     "name": "stdout",
     "output_type": "stream",
     "text": [
      "Salida counts = {'0': 1}\n",
      "Given the former angle theta and quantum state, the new prediction is:\n",
      "Prediction = 0\n",
      "int(Prediction) = 0 \n",
      "\n",
      "Overall Probability = -0.14623771148614223\n"
     ]
    },
    {
     "data": {
      "text/latex": [
       "$\\displaystyle \n",
       "$$ |\\psi\\rangle =\\begin{bmatrix}\n",
       "-0.22769 \\\\\n",
       "0.97373\\end{bmatrix} $"
      ],
      "text/plain": [
       "<IPython.core.display.Math object>"
      ]
     },
     "metadata": {},
     "output_type": "display_data"
    },
    {
     "name": "stdout",
     "output_type": "stream",
     "text": [
      "Salida counts = {'1': 1}\n",
      "Given the former angle theta and quantum state, the new prediction is:\n",
      "Prediction = 1\n",
      "int(Prediction) = 1 \n",
      "\n",
      "Overall Probability = -0.5378347467464684\n"
     ]
    },
    {
     "data": {
      "text/latex": [
       "$\\displaystyle \n",
       "$$ |\\psi\\rangle =\\begin{bmatrix}\n",
       "-0.74786 \\\\\n",
       "0.66386\\end{bmatrix} $"
      ],
      "text/plain": [
       "<IPython.core.display.Math object>"
      ]
     },
     "metadata": {},
     "output_type": "display_data"
    },
    {
     "name": "stdout",
     "output_type": "stream",
     "text": [
      "Salida counts = {'0': 1}\n",
      "Given the former angle theta and quantum state, the new prediction is:\n",
      "Prediction = 0\n",
      "int(Prediction) = 0 \n",
      "\n",
      "Overall Probability = -0.9790790803747074\n"
     ]
    },
    {
     "data": {
      "text/latex": [
       "$\\displaystyle \n",
       "$$ |\\psi\\rangle =\\begin{bmatrix}\n",
       "-0.99946 \\\\\n",
       "0.03286\\end{bmatrix} $"
      ],
      "text/plain": [
       "<IPython.core.display.Math object>"
      ]
     },
     "metadata": {},
     "output_type": "display_data"
    },
    {
     "name": "stdout",
     "output_type": "stream",
     "text": [
      "Salida counts = {'0': 1}\n",
      "Given the former angle theta and quantum state, the new prediction is:\n",
      "Prediction = 0\n",
      "int(Prediction) = 0 \n",
      "\n",
      "Overall Probability = -1.0880206581806995\n"
     ]
    },
    {
     "data": {
      "text/latex": [
       "$\\displaystyle \n",
       "$$ |\\psi\\rangle =\\begin{bmatrix}\n",
       "-0.99046 \\\\\n",
       "-0.13782\\end{bmatrix} $"
      ],
      "text/plain": [
       "<IPython.core.display.Math object>"
      ]
     },
     "metadata": {},
     "output_type": "display_data"
    },
    {
     "name": "stdout",
     "output_type": "stream",
     "text": [
      "Salida counts = {'0': 1}\n",
      "Given the former angle theta and quantum state, the new prediction is:\n",
      "Prediction = 0\n",
      "int(Prediction) = 0 \n",
      "\n",
      "Overall Probability = -0.7155501687720414\n"
     ]
    },
    {
     "data": {
      "text/latex": [
       "$\\displaystyle \n",
       "$$ |\\psi\\rangle =\\begin{bmatrix}\n",
       "-0.90183 \\\\\n",
       "0.43209\\end{bmatrix} $"
      ],
      "text/plain": [
       "<IPython.core.display.Math object>"
      ]
     },
     "metadata": {},
     "output_type": "display_data"
    },
    {
     "name": "stdout",
     "output_type": "stream",
     "text": [
      "Salida counts = {'1': 1}\n",
      "Given the former angle theta and quantum state, the new prediction is:\n",
      "Prediction = 1\n",
      "int(Prediction) = 1 \n",
      "\n",
      "Overall Probability = -0.34138586902641066\n"
     ]
    },
    {
     "data": {
      "text/latex": [
       "$\\displaystyle \n",
       "$$ |\\psi\\rangle =\\begin{bmatrix}\n",
       "-0.51091 \\\\\n",
       "0.85963\\end{bmatrix} $"
      ],
      "text/plain": [
       "<IPython.core.display.Math object>"
      ]
     },
     "metadata": {},
     "output_type": "display_data"
    },
    {
     "name": "stdout",
     "output_type": "stream",
     "text": [
      "Salida counts = {'1': 1}\n",
      "Given the former angle theta and quantum state, the new prediction is:\n",
      "Prediction = 1\n",
      "int(Prediction) = 1 \n",
      "\n",
      "Overall Probability = -1.0671522390302661\n"
     ]
    },
    {
     "data": {
      "text/latex": [
       "$\\displaystyle \n",
       "$$ |\\psi\\rangle =\\begin{bmatrix}\n",
       "-0.99444 \\\\\n",
       "-0.10529\\end{bmatrix} $"
      ],
      "text/plain": [
       "<IPython.core.display.Math object>"
      ]
     },
     "metadata": {},
     "output_type": "display_data"
    },
    {
     "name": "stdout",
     "output_type": "stream",
     "text": [
      "Salida counts = {'0': 1}\n",
      "Given the former angle theta and quantum state, the new prediction is:\n",
      "Prediction = 0\n",
      "int(Prediction) = 0 \n",
      "\n",
      "Overall Probability = -0.6710402473072397\n"
     ]
    },
    {
     "data": {
      "text/latex": [
       "$\\displaystyle \n",
       "$$ |\\psi\\rangle =\\begin{bmatrix}\n",
       "-0.86944 \\\\\n",
       "0.49404\\end{bmatrix} $"
      ],
      "text/plain": [
       "<IPython.core.display.Math object>"
      ]
     },
     "metadata": {},
     "output_type": "display_data"
    },
    {
     "name": "stdout",
     "output_type": "stream",
     "text": [
      "Salida counts = {'1': 1}\n",
      "Given the former angle theta and quantum state, the new prediction is:\n",
      "Prediction = 1\n",
      "int(Prediction) = 1 \n",
      "\n",
      "Overall Probability = -0.5044594272421612\n"
     ]
    },
    {
     "data": {
      "text/latex": [
       "$\\displaystyle \n",
       "$$ |\\psi\\rangle =\\begin{bmatrix}\n",
       "-0.71204 \\\\\n",
       "0.70214\\end{bmatrix} $"
      ],
      "text/plain": [
       "<IPython.core.display.Math object>"
      ]
     },
     "metadata": {},
     "output_type": "display_data"
    },
    {
     "name": "stdout",
     "output_type": "stream",
     "text": [
      "Salida counts = {'0': 1}\n",
      "Given the former angle theta and quantum state, the new prediction is:\n",
      "Prediction = 0\n",
      "int(Prediction) = 0 \n",
      "\n",
      "Overall Probability = -1.0755369006760482\n"
     ]
    },
    {
     "data": {
      "text/latex": [
       "$\\displaystyle \n",
       "$$ |\\psi\\rangle =\\begin{bmatrix}\n",
       "-0.99297 \\\\\n",
       "-0.11837\\end{bmatrix} $"
      ],
      "text/plain": [
       "<IPython.core.display.Math object>"
      ]
     },
     "metadata": {},
     "output_type": "display_data"
    },
    {
     "name": "stdout",
     "output_type": "stream",
     "text": [
      "Salida counts = {'0': 1}\n",
      "Given the former angle theta and quantum state, the new prediction is:\n",
      "Prediction = 0\n",
      "int(Prediction) = 0 \n",
      "\n",
      "Overall Probability = -0.30045347441254333\n"
     ]
    },
    {
     "data": {
      "text/latex": [
       "$\\displaystyle \n",
       "$$ |\\psi\\rangle =\\begin{bmatrix}\n",
       "-0.45463 \\\\\n",
       "0.89068\\end{bmatrix} $"
      ],
      "text/plain": [
       "<IPython.core.display.Math object>"
      ]
     },
     "metadata": {},
     "output_type": "display_data"
    },
    {
     "name": "stdout",
     "output_type": "stream",
     "text": [
      "Salida counts = {'1': 1}\n",
      "Given the former angle theta and quantum state, the new prediction is:\n",
      "Prediction = 1\n",
      "int(Prediction) = 1 \n",
      "\n",
      "Overall Probability = -0.18529485871202742\n"
     ]
    },
    {
     "data": {
      "text/latex": [
       "$\\displaystyle \n",
       "$$ |\\psi\\rangle =\\begin{bmatrix}\n",
       "-0.28697 \\\\\n",
       "0.95794\\end{bmatrix} $"
      ],
      "text/plain": [
       "<IPython.core.display.Math object>"
      ]
     },
     "metadata": {},
     "output_type": "display_data"
    },
    {
     "name": "stdout",
     "output_type": "stream",
     "text": [
      "Salida counts = {'1': 1}\n",
      "Given the former angle theta and quantum state, the new prediction is:\n",
      "Prediction = 1\n",
      "int(Prediction) = 1 \n",
      "\n",
      "Overall Probability = -0.4932789264730706\n"
     ]
    },
    {
     "data": {
      "text/latex": [
       "$\\displaystyle \n",
       "$$ |\\psi\\rangle =\\begin{bmatrix}\n",
       "-0.69960 \\\\\n",
       "0.71453\\end{bmatrix} $"
      ],
      "text/plain": [
       "<IPython.core.display.Math object>"
      ]
     },
     "metadata": {},
     "output_type": "display_data"
    },
    {
     "name": "stdout",
     "output_type": "stream",
     "text": [
      "Salida counts = {'0': 1}\n",
      "Given the former angle theta and quantum state, the new prediction is:\n",
      "Prediction = 0\n",
      "int(Prediction) = 0 \n",
      "\n",
      "Overall Probability = -0.11492734977845062\n"
     ]
    },
    {
     "data": {
      "text/latex": [
       "$\\displaystyle \n",
       "$$ |\\psi\\rangle =\\begin{bmatrix}\n",
       "-0.17955 \\\\\n",
       "0.98375\\end{bmatrix} $"
      ],
      "text/plain": [
       "<IPython.core.display.Math object>"
      ]
     },
     "metadata": {},
     "output_type": "display_data"
    },
    {
     "name": "stdout",
     "output_type": "stream",
     "text": [
      "Salida counts = {'1': 1}\n",
      "Given the former angle theta and quantum state, the new prediction is:\n",
      "Prediction = 1\n",
      "int(Prediction) = 1 \n",
      "\n",
      "Overall Probability = -1.0832260836768484\n"
     ]
    },
    {
     "data": {
      "text/latex": [
       "$\\displaystyle \n",
       "$$ |\\psi\\rangle =\\begin{bmatrix}\n",
       "-0.99147 \\\\\n",
       "-0.13036\\end{bmatrix} $"
      ],
      "text/plain": [
       "<IPython.core.display.Math object>"
      ]
     },
     "metadata": {},
     "output_type": "display_data"
    },
    {
     "name": "stdout",
     "output_type": "stream",
     "text": [
      "Salida counts = {'0': 1}\n",
      "Given the former angle theta and quantum state, the new prediction is:\n",
      "Prediction = 0\n",
      "int(Prediction) = 0 \n",
      "\n",
      "Overall Probability = -1.085192249413884\n"
     ]
    },
    {
     "data": {
      "text/latex": [
       "$\\displaystyle \n",
       "$$ |\\psi\\rangle =\\begin{bmatrix}\n",
       "-0.99106 \\\\\n",
       "-0.13342\\end{bmatrix} $"
      ],
      "text/plain": [
       "<IPython.core.display.Math object>"
      ]
     },
     "metadata": {},
     "output_type": "display_data"
    },
    {
     "name": "stdout",
     "output_type": "stream",
     "text": [
      "Salida counts = {'0': 1}\n",
      "Given the former angle theta and quantum state, the new prediction is:\n",
      "Prediction = 0\n",
      "int(Prediction) = 0 \n",
      "\n",
      "Overall Probability = 0.04840007425486843\n"
     ]
    },
    {
     "data": {
      "text/latex": [
       "$\\displaystyle \n",
       "$$ |\\psi\\rangle =\\begin{bmatrix}\n",
       "0.07595 \\\\\n",
       "0.99711\\end{bmatrix} $"
      ],
      "text/plain": [
       "<IPython.core.display.Math object>"
      ]
     },
     "metadata": {},
     "output_type": "display_data"
    },
    {
     "name": "stdout",
     "output_type": "stream",
     "text": [
      "Salida counts = {'1': 1}\n",
      "Given the former angle theta and quantum state, the new prediction is:\n",
      "Prediction = 1\n",
      "int(Prediction) = 1 \n",
      "\n",
      "Overall Probability = -0.15224967492175448\n"
     ]
    },
    {
     "data": {
      "text/latex": [
       "$\\displaystyle \n",
       "$$ |\\psi\\rangle =\\begin{bmatrix}\n",
       "-0.23688 \\\\\n",
       "0.97154\\end{bmatrix} $"
      ],
      "text/plain": [
       "<IPython.core.display.Math object>"
      ]
     },
     "metadata": {},
     "output_type": "display_data"
    },
    {
     "name": "stdout",
     "output_type": "stream",
     "text": [
      "Salida counts = {'1': 1}\n",
      "Given the former angle theta and quantum state, the new prediction is:\n",
      "Prediction = 1\n",
      "int(Prediction) = 1 \n",
      "\n",
      "Overall Probability = -0.5646706293673939\n"
     ]
    },
    {
     "data": {
      "text/latex": [
       "$\\displaystyle \n",
       "$$ |\\psi\\rangle =\\begin{bmatrix}\n",
       "-0.77517 \\\\\n",
       "0.63175\\end{bmatrix} $"
      ],
      "text/plain": [
       "<IPython.core.display.Math object>"
      ]
     },
     "metadata": {},
     "output_type": "display_data"
    },
    {
     "name": "stdout",
     "output_type": "stream",
     "text": [
      "Salida counts = {'0': 1}\n",
      "Given the former angle theta and quantum state, the new prediction is:\n",
      "Prediction = 0\n",
      "int(Prediction) = 0 \n",
      "\n",
      "Overall Probability = -0.48392716294839283\n"
     ]
    },
    {
     "data": {
      "text/latex": [
       "$\\displaystyle \n",
       "$$ |\\psi\\rangle =\\begin{bmatrix}\n",
       "-0.68903 \\\\\n",
       "0.72473\\end{bmatrix} $"
      ],
      "text/plain": [
       "<IPython.core.display.Math object>"
      ]
     },
     "metadata": {},
     "output_type": "display_data"
    },
    {
     "name": "stdout",
     "output_type": "stream",
     "text": [
      "Salida counts = {'0': 1}\n",
      "Given the former angle theta and quantum state, the new prediction is:\n",
      "Prediction = 0\n",
      "int(Prediction) = 0 \n",
      "\n",
      "Overall Probability = -0.4118107239647396\n"
     ]
    },
    {
     "data": {
      "text/latex": [
       "$\\displaystyle \n",
       "$$ |\\psi\\rangle =\\begin{bmatrix}\n",
       "-0.60269 \\\\\n",
       "0.79797\\end{bmatrix} $"
      ],
      "text/plain": [
       "<IPython.core.display.Math object>"
      ]
     },
     "metadata": {},
     "output_type": "display_data"
    },
    {
     "name": "stdout",
     "output_type": "stream",
     "text": [
      "Salida counts = {'0': 1}\n",
      "Given the former angle theta and quantum state, the new prediction is:\n",
      "Prediction = 0\n",
      "int(Prediction) = 0 \n",
      "\n",
      "Overall Probability = -1.0848942757310678\n"
     ]
    },
    {
     "data": {
      "text/latex": [
       "$\\displaystyle \n",
       "$$ |\\psi\\rangle =\\begin{bmatrix}\n",
       "-0.99112 \\\\\n",
       "-0.13296\\end{bmatrix} $"
      ],
      "text/plain": [
       "<IPython.core.display.Math object>"
      ]
     },
     "metadata": {},
     "output_type": "display_data"
    },
    {
     "name": "stdout",
     "output_type": "stream",
     "text": [
      "Salida counts = {'0': 1}\n",
      "Given the former angle theta and quantum state, the new prediction is:\n",
      "Prediction = 0\n",
      "int(Prediction) = 0 \n",
      "\n",
      "Overall Probability = -0.40432874903245497\n"
     ]
    },
    {
     "data": {
      "text/latex": [
       "$\\displaystyle \n",
       "$$ |\\psi\\rangle =\\begin{bmatrix}\n",
       "-0.59327 \\\\\n",
       "0.80500\\end{bmatrix} $"
      ],
      "text/plain": [
       "<IPython.core.display.Math object>"
      ]
     },
     "metadata": {},
     "output_type": "display_data"
    },
    {
     "name": "stdout",
     "output_type": "stream",
     "text": [
      "Salida counts = {'1': 1}\n",
      "Given the former angle theta and quantum state, the new prediction is:\n",
      "Prediction = 1\n",
      "int(Prediction) = 1 \n",
      "\n",
      "Overall Probability = -0.8879527986606011\n"
     ]
    },
    {
     "data": {
      "text/latex": [
       "$\\displaystyle \n",
       "$$ |\\psi\\rangle =\\begin{bmatrix}\n",
       "-0.98455 \\\\\n",
       "0.17510\\end{bmatrix} $"
      ],
      "text/plain": [
       "<IPython.core.display.Math object>"
      ]
     },
     "metadata": {},
     "output_type": "display_data"
    },
    {
     "name": "stdout",
     "output_type": "stream",
     "text": [
      "Salida counts = {'0': 1}\n",
      "Given the former angle theta and quantum state, the new prediction is:\n",
      "Prediction = 0\n",
      "int(Prediction) = 0 \n",
      "\n",
      "Overall Probability = -0.40502759638280783\n"
     ]
    },
    {
     "data": {
      "text/latex": [
       "$\\displaystyle \n",
       "$$ |\\psi\\rangle =\\begin{bmatrix}\n",
       "-0.59416 \\\\\n",
       "0.80435\\end{bmatrix} $"
      ],
      "text/plain": [
       "<IPython.core.display.Math object>"
      ]
     },
     "metadata": {},
     "output_type": "display_data"
    },
    {
     "name": "stdout",
     "output_type": "stream",
     "text": [
      "Salida counts = {'1': 1}\n",
      "Given the former angle theta and quantum state, the new prediction is:\n",
      "Prediction = 1\n",
      "int(Prediction) = 1 \n",
      "\n",
      "Overall Probability = -0.8890632106526264\n"
     ]
    },
    {
     "data": {
      "text/latex": [
       "$\\displaystyle \n",
       "$$ |\\psi\\rangle =\\begin{bmatrix}\n",
       "-0.98486 \\\\\n",
       "0.17338\\end{bmatrix} $"
      ],
      "text/plain": [
       "<IPython.core.display.Math object>"
      ]
     },
     "metadata": {},
     "output_type": "display_data"
    },
    {
     "name": "stdout",
     "output_type": "stream",
     "text": [
      "Salida counts = {'0': 1}\n",
      "Given the former angle theta and quantum state, the new prediction is:\n",
      "Prediction = 0\n",
      "int(Prediction) = 0 \n",
      "\n",
      "Overall Probability = -0.5223891348903619\n"
     ]
    },
    {
     "data": {
      "text/latex": [
       "$\\displaystyle \n",
       "$$ |\\psi\\rangle =\\begin{bmatrix}\n",
       "-0.73153 \\\\\n",
       "0.68181\\end{bmatrix} $"
      ],
      "text/plain": [
       "<IPython.core.display.Math object>"
      ]
     },
     "metadata": {},
     "output_type": "display_data"
    },
    {
     "name": "stdout",
     "output_type": "stream",
     "text": [
      "Salida counts = {'0': 1}\n",
      "Given the former angle theta and quantum state, the new prediction is:\n",
      "Prediction = 0\n",
      "int(Prediction) = 0 \n",
      "\n",
      "Overall Probability = -0.5306328537295366\n"
     ]
    },
    {
     "data": {
      "text/latex": [
       "$\\displaystyle \n",
       "$$ |\\psi\\rangle =\\begin{bmatrix}\n",
       "-0.74030 \\\\\n",
       "0.67228\\end{bmatrix} $"
      ],
      "text/plain": [
       "<IPython.core.display.Math object>"
      ]
     },
     "metadata": {},
     "output_type": "display_data"
    },
    {
     "name": "stdout",
     "output_type": "stream",
     "text": [
      "Salida counts = {'0': 1}\n",
      "Given the former angle theta and quantum state, the new prediction is:\n",
      "Prediction = 0\n",
      "int(Prediction) = 0 \n",
      "\n",
      "Overall Probability = -0.5003899914468595\n"
     ]
    },
    {
     "data": {
      "text/latex": [
       "$\\displaystyle \n",
       "$$ |\\psi\\rangle =\\begin{bmatrix}\n",
       "-0.70754 \\\\\n",
       "0.70667\\end{bmatrix} $"
      ],
      "text/plain": [
       "<IPython.core.display.Math object>"
      ]
     },
     "metadata": {},
     "output_type": "display_data"
    },
    {
     "name": "stdout",
     "output_type": "stream",
     "text": [
      "Salida counts = {'1': 1}\n",
      "Given the former angle theta and quantum state, the new prediction is:\n",
      "Prediction = 1\n",
      "int(Prediction) = 1 \n",
      "\n",
      "Overall Probability = -0.14928377403816237\n"
     ]
    },
    {
     "data": {
      "text/latex": [
       "$\\displaystyle \n",
       "$$ |\\psi\\rangle =\\begin{bmatrix}\n",
       "-0.23235 \\\\\n",
       "0.97263\\end{bmatrix} $"
      ],
      "text/plain": [
       "<IPython.core.display.Math object>"
      ]
     },
     "metadata": {},
     "output_type": "display_data"
    },
    {
     "name": "stdout",
     "output_type": "stream",
     "text": [
      "Salida counts = {'1': 1}\n",
      "Given the former angle theta and quantum state, the new prediction is:\n",
      "Prediction = 1\n",
      "int(Prediction) = 1 \n",
      "\n",
      "Overall Probability = -0.8599214911484938\n"
     ]
    },
    {
     "data": {
      "text/latex": [
       "$\\displaystyle \n",
       "$$ |\\psi\\rangle =\\begin{bmatrix}\n",
       "-0.97589 \\\\\n",
       "0.21826\\end{bmatrix} $"
      ],
      "text/plain": [
       "<IPython.core.display.Math object>"
      ]
     },
     "metadata": {},
     "output_type": "display_data"
    },
    {
     "name": "stdout",
     "output_type": "stream",
     "text": [
      "Salida counts = {'0': 1}\n",
      "Given the former angle theta and quantum state, the new prediction is:\n",
      "Prediction = 0\n",
      "int(Prediction) = 0 \n",
      "\n",
      "Overall Probability = -0.20409707788861098\n"
     ]
    },
    {
     "data": {
      "text/latex": [
       "$\\displaystyle \n",
       "$$ |\\psi\\rangle =\\begin{bmatrix}\n",
       "-0.31513 \\\\\n",
       "0.94905\\end{bmatrix} $"
      ],
      "text/plain": [
       "<IPython.core.display.Math object>"
      ]
     },
     "metadata": {},
     "output_type": "display_data"
    },
    {
     "name": "stdout",
     "output_type": "stream",
     "text": [
      "Salida counts = {'0': 1}\n",
      "Given the former angle theta and quantum state, the new prediction is:\n",
      "Prediction = 0\n",
      "int(Prediction) = 0 \n",
      "\n",
      "Overall Probability = -0.7281727565330587\n"
     ]
    },
    {
     "data": {
      "text/latex": [
       "$\\displaystyle \n",
       "$$ |\\psi\\rangle =\\begin{bmatrix}\n",
       "-0.91022 \\\\\n",
       "0.41413\\end{bmatrix} $"
      ],
      "text/plain": [
       "<IPython.core.display.Math object>"
      ]
     },
     "metadata": {},
     "output_type": "display_data"
    },
    {
     "name": "stdout",
     "output_type": "stream",
     "text": [
      "Salida counts = {'0': 1}\n",
      "Given the former angle theta and quantum state, the new prediction is:\n",
      "Prediction = 0\n",
      "int(Prediction) = 0 \n",
      "\n",
      "Overall Probability = -0.7313094278588321\n"
     ]
    },
    {
     "data": {
      "text/latex": [
       "$\\displaystyle \n",
       "$$ |\\psi\\rangle =\\begin{bmatrix}\n",
       "-0.91225 \\\\\n",
       "0.40964\\end{bmatrix} $"
      ],
      "text/plain": [
       "<IPython.core.display.Math object>"
      ]
     },
     "metadata": {},
     "output_type": "display_data"
    },
    {
     "name": "stdout",
     "output_type": "stream",
     "text": [
      "Salida counts = {'0': 1}\n",
      "Given the former angle theta and quantum state, the new prediction is:\n",
      "Prediction = 0\n",
      "int(Prediction) = 0 \n",
      "\n",
      "Overall Probability = -0.696076442949876\n"
     ]
    },
    {
     "data": {
      "text/latex": [
       "$\\displaystyle \n",
       "$$ |\\psi\\rangle =\\begin{bmatrix}\n",
       "-0.88819 \\\\\n",
       "0.45947\\end{bmatrix} $"
      ],
      "text/plain": [
       "<IPython.core.display.Math object>"
      ]
     },
     "metadata": {},
     "output_type": "display_data"
    },
    {
     "name": "stdout",
     "output_type": "stream",
     "text": [
      "Salida counts = {'0': 1}\n",
      "Given the former angle theta and quantum state, the new prediction is:\n",
      "Prediction = 0\n",
      "int(Prediction) = 0 \n",
      "\n",
      "Overall Probability = -0.540886721674215\n"
     ]
    },
    {
     "data": {
      "text/latex": [
       "$\\displaystyle \n",
       "$$ |\\psi\\rangle =\\begin{bmatrix}\n",
       "-0.75103 \\\\\n",
       "0.66027\\end{bmatrix} $"
      ],
      "text/plain": [
       "<IPython.core.display.Math object>"
      ]
     },
     "metadata": {},
     "output_type": "display_data"
    },
    {
     "name": "stdout",
     "output_type": "stream",
     "text": [
      "Salida counts = {'0': 1}\n",
      "Given the former angle theta and quantum state, the new prediction is:\n",
      "Prediction = 0\n",
      "int(Prediction) = 0 \n",
      "\n",
      "Overall Probability = -0.7189064788229249\n"
     ]
    },
    {
     "data": {
      "text/latex": [
       "$\\displaystyle \n",
       "$$ |\\psi\\rangle =\\begin{bmatrix}\n",
       "-0.90409 \\\\\n",
       "0.42733\\end{bmatrix} $"
      ],
      "text/plain": [
       "<IPython.core.display.Math object>"
      ]
     },
     "metadata": {},
     "output_type": "display_data"
    },
    {
     "name": "stdout",
     "output_type": "stream",
     "text": [
      "Salida counts = {'0': 1}\n",
      "Given the former angle theta and quantum state, the new prediction is:\n",
      "Prediction = 0\n",
      "int(Prediction) = 0 \n",
      "\n",
      "Overall Probability = -0.09764546188137191\n"
     ]
    },
    {
     "data": {
      "text/latex": [
       "$\\displaystyle \n",
       "$$ |\\psi\\rangle =\\begin{bmatrix}\n",
       "-0.15278 \\\\\n",
       "0.98826\\end{bmatrix} $"
      ],
      "text/plain": [
       "<IPython.core.display.Math object>"
      ]
     },
     "metadata": {},
     "output_type": "display_data"
    },
    {
     "name": "stdout",
     "output_type": "stream",
     "text": [
      "Salida counts = {'1': 1}\n",
      "Given the former angle theta and quantum state, the new prediction is:\n",
      "Prediction = 1\n",
      "int(Prediction) = 1 \n",
      "\n",
      "Overall Probability = -0.9045809937439966\n"
     ]
    },
    {
     "data": {
      "text/latex": [
       "$\\displaystyle \n",
       "$$ |\\psi\\rangle =\\begin{bmatrix}\n",
       "-0.98879 \\\\\n",
       "0.14932\\end{bmatrix} $"
      ],
      "text/plain": [
       "<IPython.core.display.Math object>"
      ]
     },
     "metadata": {},
     "output_type": "display_data"
    },
    {
     "name": "stdout",
     "output_type": "stream",
     "text": [
      "Salida counts = {'0': 1}\n",
      "Given the former angle theta and quantum state, the new prediction is:\n",
      "Prediction = 0\n",
      "int(Prediction) = 0 \n",
      "\n",
      "Overall Probability = -0.7246178623638488\n"
     ]
    },
    {
     "data": {
      "text/latex": [
       "$\\displaystyle \n",
       "$$ |\\psi\\rangle =\\begin{bmatrix}\n",
       "-0.90789 \\\\\n",
       "0.41920\\end{bmatrix} $"
      ],
      "text/plain": [
       "<IPython.core.display.Math object>"
      ]
     },
     "metadata": {},
     "output_type": "display_data"
    },
    {
     "name": "stdout",
     "output_type": "stream",
     "text": [
      "Salida counts = {'0': 1}\n",
      "Given the former angle theta and quantum state, the new prediction is:\n",
      "Prediction = 0\n",
      "int(Prediction) = 0 \n",
      "\n",
      "Overall Probability = -0.44535695998743496\n"
     ]
    },
    {
     "data": {
      "text/latex": [
       "$\\displaystyle \n",
       "$$ |\\psi\\rangle =\\begin{bmatrix}\n",
       "-0.64388 \\\\\n",
       "0.76512\\end{bmatrix} $"
      ],
      "text/plain": [
       "<IPython.core.display.Math object>"
      ]
     },
     "metadata": {},
     "output_type": "display_data"
    },
    {
     "name": "stdout",
     "output_type": "stream",
     "text": [
      "Salida counts = {'1': 1}\n",
      "Given the former angle theta and quantum state, the new prediction is:\n",
      "Prediction = 1\n",
      "int(Prediction) = 1 \n",
      "\n",
      "Overall Probability = -1.0781731921486504\n"
     ]
    },
    {
     "data": {
      "text/latex": [
       "$\\displaystyle \n",
       "$$ |\\psi\\rangle =\\begin{bmatrix}\n",
       "-0.99247 \\\\\n",
       "-0.12249\\end{bmatrix} $"
      ],
      "text/plain": [
       "<IPython.core.display.Math object>"
      ]
     },
     "metadata": {},
     "output_type": "display_data"
    },
    {
     "name": "stdout",
     "output_type": "stream",
     "text": [
      "Salida counts = {'0': 1}\n",
      "Given the former angle theta and quantum state, the new prediction is:\n",
      "Prediction = 0\n",
      "int(Prediction) = 0 \n",
      "\n",
      "Overall Probability = 0.061728896809577966\n"
     ]
    },
    {
     "data": {
      "text/latex": [
       "$\\displaystyle \n",
       "$$ |\\psi\\rangle =\\begin{bmatrix}\n",
       "0.09681 \\\\\n",
       "0.99530\\end{bmatrix} $"
      ],
      "text/plain": [
       "<IPython.core.display.Math object>"
      ]
     },
     "metadata": {},
     "output_type": "display_data"
    },
    {
     "name": "stdout",
     "output_type": "stream",
     "text": [
      "Salida counts = {'1': 1}\n",
      "Given the former angle theta and quantum state, the new prediction is:\n",
      "Prediction = 1\n",
      "int(Prediction) = 1 \n",
      "\n",
      "Overall Probability = -1.082913121798364\n"
     ]
    },
    {
     "data": {
      "text/latex": [
       "$\\displaystyle \n",
       "$$ |\\psi\\rangle =\\begin{bmatrix}\n",
       "-0.99153 \\\\\n",
       "-0.12987\\end{bmatrix} $"
      ],
      "text/plain": [
       "<IPython.core.display.Math object>"
      ]
     },
     "metadata": {},
     "output_type": "display_data"
    },
    {
     "name": "stdout",
     "output_type": "stream",
     "text": [
      "Salida counts = {'0': 1}\n",
      "Given the former angle theta and quantum state, the new prediction is:\n",
      "Prediction = 0\n",
      "int(Prediction) = 0 \n",
      "\n",
      "Overall Probability = -1.082351316687139\n"
     ]
    },
    {
     "data": {
      "text/latex": [
       "$\\displaystyle \n",
       "$$ |\\psi\\rangle =\\begin{bmatrix}\n",
       "-0.99165 \\\\\n",
       "-0.12900\\end{bmatrix} $"
      ],
      "text/plain": [
       "<IPython.core.display.Math object>"
      ]
     },
     "metadata": {},
     "output_type": "display_data"
    },
    {
     "name": "stdout",
     "output_type": "stream",
     "text": [
      "Salida counts = {'0': 1}\n",
      "Given the former angle theta and quantum state, the new prediction is:\n",
      "Prediction = 0\n",
      "int(Prediction) = 0 \n",
      "\n",
      "Overall Probability = -1.084068487039182\n"
     ]
    },
    {
     "data": {
      "text/latex": [
       "$\\displaystyle \n",
       "$$ |\\psi\\rangle =\\begin{bmatrix}\n",
       "-0.99129 \\\\\n",
       "-0.13167\\end{bmatrix} $"
      ],
      "text/plain": [
       "<IPython.core.display.Math object>"
      ]
     },
     "metadata": {},
     "output_type": "display_data"
    },
    {
     "name": "stdout",
     "output_type": "stream",
     "text": [
      "Salida counts = {'0': 1}\n",
      "Given the former angle theta and quantum state, the new prediction is:\n",
      "Prediction = 0\n",
      "int(Prediction) = 0 \n",
      "\n",
      "Overall Probability = -0.72703293258975\n"
     ]
    },
    {
     "data": {
      "text/latex": [
       "$\\displaystyle \n",
       "$$ |\\psi\\rangle =\\begin{bmatrix}\n",
       "-0.90948 \\\\\n",
       "0.41576\\end{bmatrix} $"
      ],
      "text/plain": [
       "<IPython.core.display.Math object>"
      ]
     },
     "metadata": {},
     "output_type": "display_data"
    },
    {
     "name": "stdout",
     "output_type": "stream",
     "text": [
      "Salida counts = {'1': 1}\n",
      "Given the former angle theta and quantum state, the new prediction is:\n",
      "Prediction = 1\n",
      "int(Prediction) = 1 \n",
      "\n",
      "Overall Probability = -0.3662570181061782\n"
     ]
    },
    {
     "data": {
      "text/latex": [
       "$\\displaystyle \n",
       "$$ |\\psi\\rangle =\\begin{bmatrix}\n",
       "-0.54410 \\\\\n",
       "0.83902\\end{bmatrix} $"
      ],
      "text/plain": [
       "<IPython.core.display.Math object>"
      ]
     },
     "metadata": {},
     "output_type": "display_data"
    },
    {
     "name": "stdout",
     "output_type": "stream",
     "text": [
      "Salida counts = {'1': 1}\n",
      "Given the former angle theta and quantum state, the new prediction is:\n",
      "Prediction = 1\n",
      "int(Prediction) = 1 \n",
      "\n",
      "Overall Probability = -0.8681264121641246\n"
     ]
    },
    {
     "data": {
      "text/latex": [
       "$\\displaystyle \n",
       "$$ |\\psi\\rangle =\\begin{bmatrix}\n",
       "-0.97862 \\\\\n",
       "0.20567\\end{bmatrix} $"
      ],
      "text/plain": [
       "<IPython.core.display.Math object>"
      ]
     },
     "metadata": {},
     "output_type": "display_data"
    },
    {
     "name": "stdout",
     "output_type": "stream",
     "text": [
      "Salida counts = {'0': 1}\n",
      "Given the former angle theta and quantum state, the new prediction is:\n",
      "Prediction = 0\n",
      "int(Prediction) = 0 \n",
      "\n",
      "Overall Probability = -0.8869180506992489\n"
     ]
    },
    {
     "data": {
      "text/latex": [
       "$\\displaystyle \n",
       "$$ |\\psi\\rangle =\\begin{bmatrix}\n",
       "-0.98427 \\\\\n",
       "0.17670\\end{bmatrix} $"
      ],
      "text/plain": [
       "<IPython.core.display.Math object>"
      ]
     },
     "metadata": {},
     "output_type": "display_data"
    },
    {
     "name": "stdout",
     "output_type": "stream",
     "text": [
      "Salida counts = {'1': 1}\n",
      "Given the former angle theta and quantum state, the new prediction is:\n",
      "Prediction = 1\n",
      "int(Prediction) = 1 \n",
      "\n",
      "Overall Probability = -1.088029078244753\n"
     ]
    },
    {
     "data": {
      "text/latex": [
       "$\\displaystyle \n",
       "$$ |\\psi\\rangle =\\begin{bmatrix}\n",
       "-0.99046 \\\\\n",
       "-0.13784\\end{bmatrix} $"
      ],
      "text/plain": [
       "<IPython.core.display.Math object>"
      ]
     },
     "metadata": {},
     "output_type": "display_data"
    },
    {
     "name": "stdout",
     "output_type": "stream",
     "text": [
      "Salida counts = {'0': 1}\n",
      "Given the former angle theta and quantum state, the new prediction is:\n",
      "Prediction = 0\n",
      "int(Prediction) = 0 \n",
      "\n",
      "Overall Probability = -1.085292896347241\n"
     ]
    },
    {
     "data": {
      "text/latex": [
       "$\\displaystyle \n",
       "$$ |\\psi\\rangle =\\begin{bmatrix}\n",
       "-0.99104 \\\\\n",
       "-0.13358\\end{bmatrix} $"
      ],
      "text/plain": [
       "<IPython.core.display.Math object>"
      ]
     },
     "metadata": {},
     "output_type": "display_data"
    },
    {
     "name": "stdout",
     "output_type": "stream",
     "text": [
      "Salida counts = {'0': 1}\n",
      "Given the former angle theta and quantum state, the new prediction is:\n",
      "Prediction = 0\n",
      "int(Prediction) = 0 \n",
      "\n",
      "Overall Probability = -0.916079205839945\n"
     ]
    },
    {
     "data": {
      "text/latex": [
       "$\\displaystyle \n",
       "$$ |\\psi\\rangle =\\begin{bmatrix}\n",
       "-0.99132 \\\\\n",
       "0.13144\\end{bmatrix} $"
      ],
      "text/plain": [
       "<IPython.core.display.Math object>"
      ]
     },
     "metadata": {},
     "output_type": "display_data"
    },
    {
     "name": "stdout",
     "output_type": "stream",
     "text": [
      "Salida counts = {'0': 1}\n",
      "Given the former angle theta and quantum state, the new prediction is:\n",
      "Prediction = 0\n",
      "int(Prediction) = 0 \n",
      "\n",
      "Overall Probability = -1.0828743553769833\n"
     ]
    },
    {
     "data": {
      "text/latex": [
       "$\\displaystyle \n",
       "$$ |\\psi\\rangle =\\begin{bmatrix}\n",
       "-0.99154 \\\\\n",
       "-0.12981\\end{bmatrix} $"
      ],
      "text/plain": [
       "<IPython.core.display.Math object>"
      ]
     },
     "metadata": {},
     "output_type": "display_data"
    },
    {
     "name": "stdout",
     "output_type": "stream",
     "text": [
      "Salida counts = {'0': 1}\n",
      "Given the former angle theta and quantum state, the new prediction is:\n",
      "Prediction = 0\n",
      "int(Prediction) = 0 \n",
      "\n",
      "Overall Probability = -0.53260468722572\n"
     ]
    },
    {
     "data": {
      "text/latex": [
       "$\\displaystyle \n",
       "$$ |\\psi\\rangle =\\begin{bmatrix}\n",
       "-0.74238 \\\\\n",
       "0.66998\\end{bmatrix} $"
      ],
      "text/plain": [
       "<IPython.core.display.Math object>"
      ]
     },
     "metadata": {},
     "output_type": "display_data"
    },
    {
     "name": "stdout",
     "output_type": "stream",
     "text": [
      "Salida counts = {'0': 1}\n",
      "Given the former angle theta and quantum state, the new prediction is:\n",
      "Prediction = 0\n",
      "int(Prediction) = 0 \n",
      "\n",
      "Overall Probability = -0.7253122215790506\n"
     ]
    },
    {
     "data": {
      "text/latex": [
       "$\\displaystyle \n",
       "$$ |\\psi\\rangle =\\begin{bmatrix}\n",
       "-0.90835 \\\\\n",
       "0.41821\\end{bmatrix} $"
      ],
      "text/plain": [
       "<IPython.core.display.Math object>"
      ]
     },
     "metadata": {},
     "output_type": "display_data"
    },
    {
     "name": "stdout",
     "output_type": "stream",
     "text": [
      "Salida counts = {'0': 1}\n",
      "Given the former angle theta and quantum state, the new prediction is:\n",
      "Prediction = 0\n",
      "int(Prediction) = 0 \n",
      "\n",
      "Overall Probability = -0.9122387146927213\n"
     ]
    },
    {
     "data": {
      "text/latex": [
       "$\\displaystyle \n",
       "$$ |\\psi\\rangle =\\begin{bmatrix}\n",
       "-0.99051 \\\\\n",
       "0.13742\\end{bmatrix} $"
      ],
      "text/plain": [
       "<IPython.core.display.Math object>"
      ]
     },
     "metadata": {},
     "output_type": "display_data"
    },
    {
     "name": "stdout",
     "output_type": "stream",
     "text": [
      "Salida counts = {'0': 1}\n",
      "Given the former angle theta and quantum state, the new prediction is:\n",
      "Prediction = 0\n",
      "int(Prediction) = 0 \n",
      "\n",
      "Overall Probability = -0.6121473262840371\n"
     ]
    },
    {
     "data": {
      "text/latex": [
       "$\\displaystyle \n",
       "$$ |\\psi\\rangle =\\begin{bmatrix}\n",
       "-0.82008 \\\\\n",
       "0.57224\\end{bmatrix} $"
      ],
      "text/plain": [
       "<IPython.core.display.Math object>"
      ]
     },
     "metadata": {},
     "output_type": "display_data"
    },
    {
     "name": "stdout",
     "output_type": "stream",
     "text": [
      "Salida counts = {'0': 1}\n",
      "Given the former angle theta and quantum state, the new prediction is:\n",
      "Prediction = 0\n",
      "int(Prediction) = 0 \n",
      "\n",
      "Overall Probability = -0.5361445931992618\n"
     ]
    },
    {
     "data": {
      "text/latex": [
       "$\\displaystyle \n",
       "$$ |\\psi\\rangle =\\begin{bmatrix}\n",
       "-0.74609 \\\\\n",
       "0.66584\\end{bmatrix} $"
      ],
      "text/plain": [
       "<IPython.core.display.Math object>"
      ]
     },
     "metadata": {},
     "output_type": "display_data"
    },
    {
     "name": "stdout",
     "output_type": "stream",
     "text": [
      "Salida counts = {'0': 1}\n",
      "Given the former angle theta and quantum state, the new prediction is:\n",
      "Prediction = 0\n",
      "int(Prediction) = 0 \n",
      "\n",
      "Overall Probability = -0.9900364954065847\n"
     ]
    },
    {
     "data": {
      "text/latex": [
       "$\\displaystyle \n",
       "$$ |\\psi\\rangle =\\begin{bmatrix}\n",
       "-0.99988 \\\\\n",
       "0.01565\\end{bmatrix} $"
      ],
      "text/plain": [
       "<IPython.core.display.Math object>"
      ]
     },
     "metadata": {},
     "output_type": "display_data"
    },
    {
     "name": "stdout",
     "output_type": "stream",
     "text": [
      "Salida counts = {'0': 1}\n",
      "Given the former angle theta and quantum state, the new prediction is:\n",
      "Prediction = 0\n",
      "int(Prediction) = 0 \n",
      "\n",
      "Overall Probability = -0.5410069039705145\n"
     ]
    },
    {
     "data": {
      "text/latex": [
       "$\\displaystyle \n",
       "$$ |\\psi\\rangle =\\begin{bmatrix}\n",
       "-0.75116 \\\\\n",
       "0.66012\\end{bmatrix} $"
      ],
      "text/plain": [
       "<IPython.core.display.Math object>"
      ]
     },
     "metadata": {},
     "output_type": "display_data"
    },
    {
     "name": "stdout",
     "output_type": "stream",
     "text": [
      "Salida counts = {'0': 1}\n",
      "Given the former angle theta and quantum state, the new prediction is:\n",
      "Prediction = 0\n",
      "int(Prediction) = 0 \n",
      "\n",
      "Overall Probability = -1.085215808623024\n"
     ]
    },
    {
     "data": {
      "text/latex": [
       "$\\displaystyle \n",
       "$$ |\\psi\\rangle =\\begin{bmatrix}\n",
       "-0.99105 \\\\\n",
       "-0.13346\\end{bmatrix} $"
      ],
      "text/plain": [
       "<IPython.core.display.Math object>"
      ]
     },
     "metadata": {},
     "output_type": "display_data"
    },
    {
     "name": "stdout",
     "output_type": "stream",
     "text": [
      "Salida counts = {'0': 1}\n",
      "Given the former angle theta and quantum state, the new prediction is:\n",
      "Prediction = 0\n",
      "int(Prediction) = 0 \n",
      "\n",
      "Overall Probability = -0.34985059827214393\n"
     ]
    },
    {
     "data": {
      "text/latex": [
       "$\\displaystyle \n",
       "$$ |\\psi\\rangle =\\begin{bmatrix}\n",
       "-0.52230 \\\\\n",
       "0.85276\\end{bmatrix} $"
      ],
      "text/plain": [
       "<IPython.core.display.Math object>"
      ]
     },
     "metadata": {},
     "output_type": "display_data"
    },
    {
     "name": "stdout",
     "output_type": "stream",
     "text": [
      "Salida counts = {'1': 1}\n",
      "Given the former angle theta and quantum state, the new prediction is:\n",
      "Prediction = 1\n",
      "int(Prediction) = 1 \n",
      "\n",
      "Overall Probability = -0.41209162652035214\n"
     ]
    },
    {
     "data": {
      "text/latex": [
       "$\\displaystyle \n",
       "$$ |\\psi\\rangle =\\begin{bmatrix}\n",
       "-0.60304 \\\\\n",
       "0.79771\\end{bmatrix} $"
      ],
      "text/plain": [
       "<IPython.core.display.Math object>"
      ]
     },
     "metadata": {},
     "output_type": "display_data"
    },
    {
     "name": "stdout",
     "output_type": "stream",
     "text": [
      "Salida counts = {'1': 1}\n",
      "Given the former angle theta and quantum state, the new prediction is:\n",
      "Prediction = 1\n",
      "int(Prediction) = 1 \n",
      "\n",
      "Overall Probability = 0.05289756232968856\n"
     ]
    },
    {
     "data": {
      "text/latex": [
       "$\\displaystyle \n",
       "$$ |\\psi\\rangle =\\begin{bmatrix}\n",
       "0.08300 \\\\\n",
       "0.99655\\end{bmatrix} $"
      ],
      "text/plain": [
       "<IPython.core.display.Math object>"
      ]
     },
     "metadata": {},
     "output_type": "display_data"
    },
    {
     "name": "stdout",
     "output_type": "stream",
     "text": [
      "Salida counts = {'1': 1}\n",
      "Given the former angle theta and quantum state, the new prediction is:\n",
      "Prediction = 1\n",
      "int(Prediction) = 1 \n",
      "\n",
      "Overall Probability = -1.0836177597543293\n"
     ]
    },
    {
     "data": {
      "text/latex": [
       "$\\displaystyle \n",
       "$$ |\\psi\\rangle =\\begin{bmatrix}\n",
       "-0.99139 \\\\\n",
       "-0.13097\\end{bmatrix} $"
      ],
      "text/plain": [
       "<IPython.core.display.Math object>"
      ]
     },
     "metadata": {},
     "output_type": "display_data"
    },
    {
     "name": "stdout",
     "output_type": "stream",
     "text": [
      "Salida counts = {'0': 1}\n",
      "Given the former angle theta and quantum state, the new prediction is:\n",
      "Prediction = 0\n",
      "int(Prediction) = 0 \n",
      "\n",
      "Overall Probability = -0.8635449778253144\n"
     ]
    },
    {
     "data": {
      "text/latex": [
       "$\\displaystyle \n",
       "$$ |\\psi\\rangle =\\begin{bmatrix}\n",
       "-0.97712 \\\\\n",
       "0.21271\\end{bmatrix} $"
      ],
      "text/plain": [
       "<IPython.core.display.Math object>"
      ]
     },
     "metadata": {},
     "output_type": "display_data"
    },
    {
     "name": "stdout",
     "output_type": "stream",
     "text": [
      "Salida counts = {'0': 1}\n",
      "Given the former angle theta and quantum state, the new prediction is:\n",
      "Prediction = 0\n",
      "int(Prediction) = 0 \n",
      "\n",
      "Overall Probability = -0.364083900878659\n"
     ]
    },
    {
     "data": {
      "text/latex": [
       "$\\displaystyle \n",
       "$$ |\\psi\\rangle =\\begin{bmatrix}\n",
       "-0.54123 \\\\\n",
       "0.84087\\end{bmatrix} $"
      ],
      "text/plain": [
       "<IPython.core.display.Math object>"
      ]
     },
     "metadata": {},
     "output_type": "display_data"
    },
    {
     "name": "stdout",
     "output_type": "stream",
     "text": [
      "Salida counts = {'1': 1}\n",
      "Given the former angle theta and quantum state, the new prediction is:\n",
      "Prediction = 1\n",
      "int(Prediction) = 1 \n",
      "\n",
      "Overall Probability = -0.8598933329089475\n"
     ]
    },
    {
     "data": {
      "text/latex": [
       "$\\displaystyle \n",
       "$$ |\\psi\\rangle =\\begin{bmatrix}\n",
       "-0.97588 \\\\\n",
       "0.21831\\end{bmatrix} $"
      ],
      "text/plain": [
       "<IPython.core.display.Math object>"
      ]
     },
     "metadata": {},
     "output_type": "display_data"
    },
    {
     "name": "stdout",
     "output_type": "stream",
     "text": [
      "Salida counts = {'1': 1}\n",
      "Given the former angle theta and quantum state, the new prediction is:\n",
      "Prediction = 1\n",
      "int(Prediction) = 1 \n",
      "\n",
      "Overall Probability = -1.0834351950985666\n"
     ]
    },
    {
     "data": {
      "text/latex": [
       "$\\displaystyle \n",
       "$$ |\\psi\\rangle =\\begin{bmatrix}\n",
       "-0.99142 \\\\\n",
       "-0.13068\\end{bmatrix} $"
      ],
      "text/plain": [
       "<IPython.core.display.Math object>"
      ]
     },
     "metadata": {},
     "output_type": "display_data"
    },
    {
     "name": "stdout",
     "output_type": "stream",
     "text": [
      "Salida counts = {'0': 1}\n",
      "Given the former angle theta and quantum state, the new prediction is:\n",
      "Prediction = 0\n",
      "int(Prediction) = 0 \n",
      "\n",
      "Overall Probability = -1.0820829380914558\n"
     ]
    },
    {
     "data": {
      "text/latex": [
       "$\\displaystyle \n",
       "$$ |\\psi\\rangle =\\begin{bmatrix}\n",
       "-0.99170 \\\\\n",
       "-0.12858\\end{bmatrix} $"
      ],
      "text/plain": [
       "<IPython.core.display.Math object>"
      ]
     },
     "metadata": {},
     "output_type": "display_data"
    },
    {
     "name": "stdout",
     "output_type": "stream",
     "text": [
      "Salida counts = {'0': 1}\n",
      "Given the former angle theta and quantum state, the new prediction is:\n",
      "Prediction = 0\n",
      "int(Prediction) = 0 \n",
      "\n",
      "Overall Probability = -0.6974702987329517\n"
     ]
    },
    {
     "data": {
      "text/latex": [
       "$\\displaystyle \n",
       "$$ |\\psi\\rangle =\\begin{bmatrix}\n",
       "-0.88920 \\\\\n",
       "0.45753\\end{bmatrix} $"
      ],
      "text/plain": [
       "<IPython.core.display.Math object>"
      ]
     },
     "metadata": {},
     "output_type": "display_data"
    },
    {
     "name": "stdout",
     "output_type": "stream",
     "text": [
      "Salida counts = {'0': 1}\n",
      "Given the former angle theta and quantum state, the new prediction is:\n",
      "Prediction = 0\n",
      "int(Prediction) = 0 \n",
      "\n",
      "Overall Probability = -0.8934526816966211\n"
     ]
    },
    {
     "data": {
      "text/latex": [
       "$\\displaystyle \n",
       "$$ |\\psi\\rangle =\\begin{bmatrix}\n",
       "-0.98603 \\\\\n",
       "0.16658\\end{bmatrix} $"
      ],
      "text/plain": [
       "<IPython.core.display.Math object>"
      ]
     },
     "metadata": {},
     "output_type": "display_data"
    },
    {
     "name": "stdout",
     "output_type": "stream",
     "text": [
      "Salida counts = {'0': 1}\n",
      "Given the former angle theta and quantum state, the new prediction is:\n",
      "Prediction = 0\n",
      "int(Prediction) = 0 \n",
      "\n",
      "Overall Probability = -1.085215808623024\n"
     ]
    },
    {
     "data": {
      "text/latex": [
       "$\\displaystyle \n",
       "$$ |\\psi\\rangle =\\begin{bmatrix}\n",
       "-0.99105 \\\\\n",
       "-0.13346\\end{bmatrix} $"
      ],
      "text/plain": [
       "<IPython.core.display.Math object>"
      ]
     },
     "metadata": {},
     "output_type": "display_data"
    },
    {
     "name": "stdout",
     "output_type": "stream",
     "text": [
      "Salida counts = {'0': 1}\n",
      "Given the former angle theta and quantum state, the new prediction is:\n",
      "Prediction = 0\n",
      "int(Prediction) = 0 \n",
      "\n",
      "Overall Probability = -0.36656528066513605\n"
     ]
    },
    {
     "data": {
      "text/latex": [
       "$\\displaystyle \n",
       "$$ |\\psi\\rangle =\\begin{bmatrix}\n",
       "-0.54451 \\\\\n",
       "0.83876\\end{bmatrix} $"
      ],
      "text/plain": [
       "<IPython.core.display.Math object>"
      ]
     },
     "metadata": {},
     "output_type": "display_data"
    },
    {
     "name": "stdout",
     "output_type": "stream",
     "text": [
      "Salida counts = {'1': 1}\n",
      "Given the former angle theta and quantum state, the new prediction is:\n",
      "Prediction = 1\n",
      "int(Prediction) = 1 \n",
      "\n",
      "Overall Probability = -0.8933987656927613\n"
     ]
    },
    {
     "data": {
      "text/latex": [
       "$\\displaystyle \n",
       "$$ |\\psi\\rangle =\\begin{bmatrix}\n",
       "-0.98601 \\\\\n",
       "0.16667\\end{bmatrix} $"
      ],
      "text/plain": [
       "<IPython.core.display.Math object>"
      ]
     },
     "metadata": {},
     "output_type": "display_data"
    },
    {
     "name": "stdout",
     "output_type": "stream",
     "text": [
      "Salida counts = {'0': 1}\n",
      "Given the former angle theta and quantum state, the new prediction is:\n",
      "Prediction = 0\n",
      "int(Prediction) = 0 \n",
      "\n",
      "Overall Probability = -0.5216275317085401\n"
     ]
    },
    {
     "data": {
      "text/latex": [
       "$\\displaystyle \n",
       "$$ |\\psi\\rangle =\\begin{bmatrix}\n",
       "-0.73072 \\\\\n",
       "0.68268\\end{bmatrix} $"
      ],
      "text/plain": [
       "<IPython.core.display.Math object>"
      ]
     },
     "metadata": {},
     "output_type": "display_data"
    },
    {
     "name": "stdout",
     "output_type": "stream",
     "text": [
      "Salida counts = {'0': 1}\n",
      "Given the former angle theta and quantum state, the new prediction is:\n",
      "Prediction = 0\n",
      "int(Prediction) = 0 \n",
      "\n",
      "Overall Probability = -0.5407619253463205\n"
     ]
    },
    {
     "data": {
      "text/latex": [
       "$\\displaystyle \n",
       "$$ |\\psi\\rangle =\\begin{bmatrix}\n",
       "-0.75090 \\\\\n",
       "0.66041\\end{bmatrix} $"
      ],
      "text/plain": [
       "<IPython.core.display.Math object>"
      ]
     },
     "metadata": {},
     "output_type": "display_data"
    },
    {
     "name": "stdout",
     "output_type": "stream",
     "text": [
      "Salida counts = {'0': 1}\n",
      "Given the former angle theta and quantum state, the new prediction is:\n",
      "Prediction = 0\n",
      "int(Prediction) = 0 \n",
      "\n",
      "Overall Probability = -0.2703199422407497\n"
     ]
    },
    {
     "data": {
      "text/latex": [
       "$\\displaystyle \n",
       "$$ |\\psi\\rangle =\\begin{bmatrix}\n",
       "-0.41197 \\\\\n",
       "0.91120\\end{bmatrix} $"
      ],
      "text/plain": [
       "<IPython.core.display.Math object>"
      ]
     },
     "metadata": {},
     "output_type": "display_data"
    },
    {
     "name": "stdout",
     "output_type": "stream",
     "text": [
      "Salida counts = {'1': 1}\n",
      "Given the former angle theta and quantum state, the new prediction is:\n",
      "Prediction = 1\n",
      "int(Prediction) = 1 \n",
      "\n",
      "Overall Probability = -0.5396977344500875\n"
     ]
    },
    {
     "data": {
      "text/latex": [
       "$\\displaystyle \n",
       "$$ |\\psi\\rangle =\\begin{bmatrix}\n",
       "-0.74980 \\\\\n",
       "0.66167\\end{bmatrix} $"
      ],
      "text/plain": [
       "<IPython.core.display.Math object>"
      ]
     },
     "metadata": {},
     "output_type": "display_data"
    },
    {
     "name": "stdout",
     "output_type": "stream",
     "text": [
      "Salida counts = {'1': 1}\n",
      "Given the former angle theta and quantum state, the new prediction is:\n",
      "Prediction = 1\n",
      "int(Prediction) = 1 \n",
      "\n",
      "Overall Probability = -0.3202101330299607\n"
     ]
    },
    {
     "data": {
      "text/latex": [
       "$\\displaystyle \n",
       "$$ |\\psi\\rangle =\\begin{bmatrix}\n",
       "-0.48204 \\\\\n",
       "0.87615\\end{bmatrix} $"
      ],
      "text/plain": [
       "<IPython.core.display.Math object>"
      ]
     },
     "metadata": {},
     "output_type": "display_data"
    },
    {
     "name": "stdout",
     "output_type": "stream",
     "text": [
      "Salida counts = {'1': 1}\n",
      "Given the former angle theta and quantum state, the new prediction is:\n",
      "Prediction = 1\n",
      "int(Prediction) = 1 \n",
      "\n",
      "Overall Probability = -1.0828451284086957\n"
     ]
    },
    {
     "data": {
      "text/latex": [
       "$\\displaystyle \n",
       "$$ |\\psi\\rangle =\\begin{bmatrix}\n",
       "-0.99154 \\\\\n",
       "-0.12977\\end{bmatrix} $"
      ],
      "text/plain": [
       "<IPython.core.display.Math object>"
      ]
     },
     "metadata": {},
     "output_type": "display_data"
    },
    {
     "name": "stdout",
     "output_type": "stream",
     "text": [
      "Salida counts = {'0': 1}\n",
      "Given the former angle theta and quantum state, the new prediction is:\n",
      "Prediction = 0\n",
      "int(Prediction) = 0 \n",
      "\n",
      "Overall Probability = -0.6702621755480042\n"
     ]
    },
    {
     "data": {
      "text/latex": [
       "$\\displaystyle \n",
       "$$ |\\psi\\rangle =\\begin{bmatrix}\n",
       "-0.86884 \\\\\n",
       "0.49510\\end{bmatrix} $"
      ],
      "text/plain": [
       "<IPython.core.display.Math object>"
      ]
     },
     "metadata": {},
     "output_type": "display_data"
    },
    {
     "name": "stdout",
     "output_type": "stream",
     "text": [
      "Salida counts = {'1': 1}\n",
      "Given the former angle theta and quantum state, the new prediction is:\n",
      "Prediction = 1\n",
      "int(Prediction) = 1 \n",
      "\n",
      "Overall Probability = -0.512008388479947\n"
     ]
    },
    {
     "data": {
      "text/latex": [
       "$\\displaystyle \n",
       "$$ |\\psi\\rangle =\\begin{bmatrix}\n",
       "-0.72032 \\\\\n",
       "0.69364\\end{bmatrix} $"
      ],
      "text/plain": [
       "<IPython.core.display.Math object>"
      ]
     },
     "metadata": {},
     "output_type": "display_data"
    },
    {
     "name": "stdout",
     "output_type": "stream",
     "text": [
      "Salida counts = {'0': 1}\n",
      "Given the former angle theta and quantum state, the new prediction is:\n",
      "Prediction = 0\n",
      "int(Prediction) = 0 \n",
      "\n",
      "Overall Probability = -0.406909593801998\n"
     ]
    },
    {
     "data": {
      "text/latex": [
       "$\\displaystyle \n",
       "$$ |\\psi\\rangle =\\begin{bmatrix}\n",
       "-0.59653 \\\\\n",
       "0.80259\\end{bmatrix} $"
      ],
      "text/plain": [
       "<IPython.core.display.Math object>"
      ]
     },
     "metadata": {},
     "output_type": "display_data"
    },
    {
     "name": "stdout",
     "output_type": "stream",
     "text": [
      "Salida counts = {'1': 1}\n",
      "Given the former angle theta and quantum state, the new prediction is:\n",
      "Prediction = 1\n",
      "int(Prediction) = 1 \n",
      "\n",
      "Overall Probability = -0.44251489958341794\n"
     ]
    },
    {
     "data": {
      "text/latex": [
       "$\\displaystyle \n",
       "$$ |\\psi\\rangle =\\begin{bmatrix}\n",
       "-0.64046 \\\\\n",
       "0.76799\\end{bmatrix} $"
      ],
      "text/plain": [
       "<IPython.core.display.Math object>"
      ]
     },
     "metadata": {},
     "output_type": "display_data"
    },
    {
     "name": "stdout",
     "output_type": "stream",
     "text": [
      "Salida counts = {'0': 1}\n",
      "Given the former angle theta and quantum state, the new prediction is:\n",
      "Prediction = 0\n",
      "int(Prediction) = 0 \n",
      "\n",
      "Overall Probability = -1.0851174069088327\n"
     ]
    },
    {
     "data": {
      "text/latex": [
       "$\\displaystyle \n",
       "$$ |\\psi\\rangle =\\begin{bmatrix}\n",
       "-0.99108 \\\\\n",
       "-0.13330\\end{bmatrix} $"
      ],
      "text/plain": [
       "<IPython.core.display.Math object>"
      ]
     },
     "metadata": {},
     "output_type": "display_data"
    },
    {
     "name": "stdout",
     "output_type": "stream",
     "text": [
      "Salida counts = {'0': 1}\n",
      "Given the former angle theta and quantum state, the new prediction is:\n",
      "Prediction = 0\n",
      "int(Prediction) = 0 \n",
      "\n",
      "Overall Probability = -1.056664981596713\n"
     ]
    },
    {
     "data": {
      "text/latex": [
       "$\\displaystyle \n",
       "$$ |\\psi\\rangle =\\begin{bmatrix}\n",
       "-0.99604 \\\\\n",
       "-0.08889\\end{bmatrix} $"
      ],
      "text/plain": [
       "<IPython.core.display.Math object>"
      ]
     },
     "metadata": {},
     "output_type": "display_data"
    },
    {
     "name": "stdout",
     "output_type": "stream",
     "text": [
      "Salida counts = {'0': 1}\n",
      "Given the former angle theta and quantum state, the new prediction is:\n",
      "Prediction = 0\n",
      "int(Prediction) = 0 \n",
      "\n",
      "Overall Probability = -0.3215065721651875\n"
     ]
    },
    {
     "data": {
      "text/latex": [
       "$\\displaystyle \n",
       "$$ |\\psi\\rangle =\\begin{bmatrix}\n",
       "-0.48383 \\\\\n",
       "0.87516\\end{bmatrix} $"
      ],
      "text/plain": [
       "<IPython.core.display.Math object>"
      ]
     },
     "metadata": {},
     "output_type": "display_data"
    },
    {
     "name": "stdout",
     "output_type": "stream",
     "text": [
      "Salida counts = {'0': 1}\n",
      "Given the former angle theta and quantum state, the new prediction is:\n",
      "Prediction = 0\n",
      "int(Prediction) = 0 \n",
      "\n",
      "Overall Probability = -1.085292896347241\n"
     ]
    },
    {
     "data": {
      "text/latex": [
       "$\\displaystyle \n",
       "$$ |\\psi\\rangle =\\begin{bmatrix}\n",
       "-0.99104 \\\\\n",
       "-0.13358\\end{bmatrix} $"
      ],
      "text/plain": [
       "<IPython.core.display.Math object>"
      ]
     },
     "metadata": {},
     "output_type": "display_data"
    },
    {
     "name": "stdout",
     "output_type": "stream",
     "text": [
      "Salida counts = {'0': 1}\n",
      "Given the former angle theta and quantum state, the new prediction is:\n",
      "Prediction = 0\n",
      "int(Prediction) = 0 \n",
      "\n",
      "Overall Probability = -0.05184059180666484\n"
     ]
    },
    {
     "data": {
      "text/latex": [
       "$\\displaystyle \n",
       "$$ |\\psi\\rangle =\\begin{bmatrix}\n",
       "-0.08134 \\\\\n",
       "0.99669\\end{bmatrix} $"
      ],
      "text/plain": [
       "<IPython.core.display.Math object>"
      ]
     },
     "metadata": {},
     "output_type": "display_data"
    },
    {
     "name": "stdout",
     "output_type": "stream",
     "text": [
      "Salida counts = {'1': 1}\n",
      "Given the former angle theta and quantum state, the new prediction is:\n",
      "Prediction = 1\n",
      "int(Prediction) = 1 \n",
      "\n",
      "Overall Probability = -1.0701940002344243\n"
     ]
    },
    {
     "data": {
      "text/latex": [
       "$\\displaystyle \n",
       "$$ |\\psi\\rangle =\\begin{bmatrix}\n",
       "-0.99393 \\\\\n",
       "-0.11004\\end{bmatrix} $"
      ],
      "text/plain": [
       "<IPython.core.display.Math object>"
      ]
     },
     "metadata": {},
     "output_type": "display_data"
    },
    {
     "name": "stdout",
     "output_type": "stream",
     "text": [
      "Salida counts = {'0': 1}\n",
      "Given the former angle theta and quantum state, the new prediction is:\n",
      "Prediction = 0\n",
      "int(Prediction) = 0 \n",
      "\n",
      "Overall Probability = -0.34071643354374836\n"
     ]
    },
    {
     "data": {
      "text/latex": [
       "$\\displaystyle \n",
       "$$ |\\psi\\rangle =\\begin{bmatrix}\n",
       "-0.51001 \\\\\n",
       "0.86017\\end{bmatrix} $"
      ],
      "text/plain": [
       "<IPython.core.display.Math object>"
      ]
     },
     "metadata": {},
     "output_type": "display_data"
    },
    {
     "name": "stdout",
     "output_type": "stream",
     "text": [
      "Salida counts = {'1': 1}\n",
      "Given the former angle theta and quantum state, the new prediction is:\n",
      "Prediction = 1\n",
      "int(Prediction) = 1 \n",
      "\n",
      "Overall Probability = -0.13820188080920656\n"
     ]
    },
    {
     "data": {
      "text/latex": [
       "$\\displaystyle \n",
       "$$ |\\psi\\rangle =\\begin{bmatrix}\n",
       "-0.21539 \\\\\n",
       "0.97653\\end{bmatrix} $"
      ],
      "text/plain": [
       "<IPython.core.display.Math object>"
      ]
     },
     "metadata": {},
     "output_type": "display_data"
    },
    {
     "name": "stdout",
     "output_type": "stream",
     "text": [
      "Salida counts = {'1': 1}\n",
      "Given the former angle theta and quantum state, the new prediction is:\n",
      "Prediction = 1\n",
      "int(Prediction) = 1 \n",
      "\n",
      "Overall Probability = -0.8180775985815281\n"
     ]
    },
    {
     "data": {
      "text/latex": [
       "$\\displaystyle \n",
       "$$ |\\psi\\rangle =\\begin{bmatrix}\n",
       "-0.95945 \\\\\n",
       "0.28189\\end{bmatrix} $"
      ],
      "text/plain": [
       "<IPython.core.display.Math object>"
      ]
     },
     "metadata": {},
     "output_type": "display_data"
    },
    {
     "name": "stdout",
     "output_type": "stream",
     "text": [
      "Salida counts = {'0': 1}\n",
      "Given the former angle theta and quantum state, the new prediction is:\n",
      "Prediction = 0\n",
      "int(Prediction) = 0 \n",
      "\n",
      "Overall Probability = -0.9526148108128839\n"
     ]
    },
    {
     "data": {
      "text/latex": [
       "$\\displaystyle \n",
       "$$ |\\psi\\rangle =\\begin{bmatrix}\n",
       "-0.99723 \\\\\n",
       "0.07436\\end{bmatrix} $"
      ],
      "text/plain": [
       "<IPython.core.display.Math object>"
      ]
     },
     "metadata": {},
     "output_type": "display_data"
    },
    {
     "name": "stdout",
     "output_type": "stream",
     "text": [
      "Salida counts = {'0': 1}\n",
      "Given the former angle theta and quantum state, the new prediction is:\n",
      "Prediction = 0\n",
      "int(Prediction) = 0 \n",
      "\n",
      "Overall Probability = -0.42545467651809815\n"
     ]
    },
    {
     "data": {
      "text/latex": [
       "$\\displaystyle \n",
       "$$ |\\psi\\rangle =\\begin{bmatrix}\n",
       "-0.61965 \\\\\n",
       "0.78487\\end{bmatrix} $"
      ],
      "text/plain": [
       "<IPython.core.display.Math object>"
      ]
     },
     "metadata": {},
     "output_type": "display_data"
    },
    {
     "name": "stdout",
     "output_type": "stream",
     "text": [
      "Salida counts = {'1': 1}\n",
      "Given the former angle theta and quantum state, the new prediction is:\n",
      "Prediction = 1\n",
      "int(Prediction) = 1 \n",
      "\n",
      "Overall Probability = 0.11154847898322298\n"
     ]
    },
    {
     "data": {
      "text/latex": [
       "$\\displaystyle \n",
       "$$ |\\psi\\rangle =\\begin{bmatrix}\n",
       "0.17432 \\\\\n",
       "0.98469\\end{bmatrix} $"
      ],
      "text/plain": [
       "<IPython.core.display.Math object>"
      ]
     },
     "metadata": {},
     "output_type": "display_data"
    },
    {
     "name": "stdout",
     "output_type": "stream",
     "text": [
      "Salida counts = {'1': 1}\n",
      "Given the former angle theta and quantum state, the new prediction is:\n",
      "Prediction = 1\n",
      "int(Prediction) = 1 \n",
      "\n",
      "Overall Probability = -0.1127865651633949\n"
     ]
    },
    {
     "data": {
      "text/latex": [
       "$\\displaystyle \n",
       "$$ |\\psi\\rangle =\\begin{bmatrix}\n",
       "-0.17624 \\\\\n",
       "0.98435\\end{bmatrix} $"
      ],
      "text/plain": [
       "<IPython.core.display.Math object>"
      ]
     },
     "metadata": {},
     "output_type": "display_data"
    },
    {
     "name": "stdout",
     "output_type": "stream",
     "text": [
      "Salida counts = {'1': 1}\n",
      "Given the former angle theta and quantum state, the new prediction is:\n",
      "Prediction = 1\n",
      "int(Prediction) = 1 \n",
      "\n",
      "Overall Probability = -0.06343637206791775\n"
     ]
    },
    {
     "data": {
      "text/latex": [
       "$\\displaystyle \n",
       "$$ |\\psi\\rangle =\\begin{bmatrix}\n",
       "-0.09948 \\\\\n",
       "0.99504\\end{bmatrix} $"
      ],
      "text/plain": [
       "<IPython.core.display.Math object>"
      ]
     },
     "metadata": {},
     "output_type": "display_data"
    },
    {
     "name": "stdout",
     "output_type": "stream",
     "text": [
      "Salida counts = {'1': 1}\n",
      "Given the former angle theta and quantum state, the new prediction is:\n",
      "Prediction = 1\n",
      "int(Prediction) = 1 \n",
      "\n",
      "Overall Probability = -0.9894674629257532\n"
     ]
    },
    {
     "data": {
      "text/latex": [
       "$\\displaystyle \n",
       "$$ |\\psi\\rangle =\\begin{bmatrix}\n",
       "-0.99986 \\\\\n",
       "0.01654\\end{bmatrix} $"
      ],
      "text/plain": [
       "<IPython.core.display.Math object>"
      ]
     },
     "metadata": {},
     "output_type": "display_data"
    },
    {
     "name": "stdout",
     "output_type": "stream",
     "text": [
      "Salida counts = {'0': 1}\n",
      "Given the former angle theta and quantum state, the new prediction is:\n",
      "Prediction = 0\n",
      "int(Prediction) = 0 \n",
      "\n",
      "Overall Probability = -0.4730831199527217\n"
     ]
    },
    {
     "data": {
      "text/latex": [
       "$\\displaystyle \n",
       "$$ |\\psi\\rangle =\\begin{bmatrix}\n",
       "-0.67659 \\\\\n",
       "0.73636\\end{bmatrix} $"
      ],
      "text/plain": [
       "<IPython.core.display.Math object>"
      ]
     },
     "metadata": {},
     "output_type": "display_data"
    },
    {
     "name": "stdout",
     "output_type": "stream",
     "text": [
      "Salida counts = {'0': 1}\n",
      "Given the former angle theta and quantum state, the new prediction is:\n",
      "Prediction = 0\n",
      "int(Prediction) = 0 \n",
      "\n",
      "Overall Probability = -0.3651339281548256\n"
     ]
    },
    {
     "data": {
      "text/latex": [
       "$\\displaystyle \n",
       "$$ |\\psi\\rangle =\\begin{bmatrix}\n",
       "-0.54262 \\\\\n",
       "0.83998\\end{bmatrix} $"
      ],
      "text/plain": [
       "<IPython.core.display.Math object>"
      ]
     },
     "metadata": {},
     "output_type": "display_data"
    },
    {
     "name": "stdout",
     "output_type": "stream",
     "text": [
      "Salida counts = {'1': 1}\n",
      "Given the former angle theta and quantum state, the new prediction is:\n",
      "Prediction = 1\n",
      "int(Prediction) = 1 \n",
      "\n",
      "Overall Probability = -0.9097401867793418\n"
     ]
    },
    {
     "data": {
      "text/latex": [
       "$\\displaystyle \n",
       "$$ |\\psi\\rangle =\\begin{bmatrix}\n",
       "-0.98997 \\\\\n",
       "0.14131\\end{bmatrix} $"
      ],
      "text/plain": [
       "<IPython.core.display.Math object>"
      ]
     },
     "metadata": {},
     "output_type": "display_data"
    },
    {
     "name": "stdout",
     "output_type": "stream",
     "text": [
      "Salida counts = {'0': 1}\n",
      "Given the former angle theta and quantum state, the new prediction is:\n",
      "Prediction = 0\n",
      "int(Prediction) = 0 \n",
      "\n",
      "Overall Probability = -1.0846633168629203\n"
     ]
    },
    {
     "data": {
      "text/latex": [
       "$\\displaystyle \n",
       "$$ |\\psi\\rangle =\\begin{bmatrix}\n",
       "-0.99117 \\\\\n",
       "-0.13260\\end{bmatrix} $"
      ],
      "text/plain": [
       "<IPython.core.display.Math object>"
      ]
     },
     "metadata": {},
     "output_type": "display_data"
    },
    {
     "name": "stdout",
     "output_type": "stream",
     "text": [
      "Salida counts = {'0': 1}\n",
      "Given the former angle theta and quantum state, the new prediction is:\n",
      "Prediction = 0\n",
      "int(Prediction) = 0 \n",
      "\n",
      "Overall Probability = -1.0848989750505942\n"
     ]
    },
    {
     "data": {
      "text/latex": [
       "$\\displaystyle \n",
       "$$ |\\psi\\rangle =\\begin{bmatrix}\n",
       "-0.99112 \\\\\n",
       "-0.13296\\end{bmatrix} $"
      ],
      "text/plain": [
       "<IPython.core.display.Math object>"
      ]
     },
     "metadata": {},
     "output_type": "display_data"
    },
    {
     "name": "stdout",
     "output_type": "stream",
     "text": [
      "Salida counts = {'0': 1}\n",
      "Given the former angle theta and quantum state, the new prediction is:\n",
      "Prediction = 0\n",
      "int(Prediction) = 0 \n",
      "\n",
      "Overall Probability = 0.026659931791706077\n"
     ]
    },
    {
     "data": {
      "text/latex": [
       "$\\displaystyle \n",
       "$$ |\\psi\\rangle =\\begin{bmatrix}\n",
       "0.04187 \\\\\n",
       "0.99912\\end{bmatrix} $"
      ],
      "text/plain": [
       "<IPython.core.display.Math object>"
      ]
     },
     "metadata": {},
     "output_type": "display_data"
    },
    {
     "name": "stdout",
     "output_type": "stream",
     "text": [
      "Salida counts = {'1': 1}\n",
      "Given the former angle theta and quantum state, the new prediction is:\n",
      "Prediction = 1\n",
      "int(Prediction) = 1 \n",
      "\n",
      "Overall Probability = -0.9980113180103926\n"
     ]
    },
    {
     "data": {
      "text/latex": [
       "$\\displaystyle \n",
       "$$ |\\psi\\rangle =\\begin{bmatrix}\n",
       "-1.00000 \\\\\n",
       "0.00312\\end{bmatrix} $"
      ],
      "text/plain": [
       "<IPython.core.display.Math object>"
      ]
     },
     "metadata": {},
     "output_type": "display_data"
    },
    {
     "name": "stdout",
     "output_type": "stream",
     "text": [
      "Salida counts = {'0': 1}\n",
      "Given the former angle theta and quantum state, the new prediction is:\n",
      "Prediction = 0\n",
      "int(Prediction) = 0 \n",
      "\n",
      "Overall Probability = -0.4260102196493586\n"
     ]
    },
    {
     "data": {
      "text/latex": [
       "$\\displaystyle \n",
       "$$ |\\psi\\rangle =\\begin{bmatrix}\n",
       "-0.62034 \\\\\n",
       "0.78433\\end{bmatrix} $"
      ],
      "text/plain": [
       "<IPython.core.display.Math object>"
      ]
     },
     "metadata": {},
     "output_type": "display_data"
    },
    {
     "name": "stdout",
     "output_type": "stream",
     "text": [
      "Salida counts = {'0': 1}\n",
      "Given the former angle theta and quantum state, the new prediction is:\n",
      "Prediction = 0\n",
      "int(Prediction) = 0 \n",
      "\n",
      "Overall Probability = -0.7253600823349802\n"
     ]
    },
    {
     "data": {
      "text/latex": [
       "$\\displaystyle \n",
       "$$ |\\psi\\rangle =\\begin{bmatrix}\n",
       "-0.90838 \\\\\n",
       "0.41815\\end{bmatrix} $"
      ],
      "text/plain": [
       "<IPython.core.display.Math object>"
      ]
     },
     "metadata": {},
     "output_type": "display_data"
    },
    {
     "name": "stdout",
     "output_type": "stream",
     "text": [
      "Salida counts = {'1': 1}\n",
      "Given the former angle theta and quantum state, the new prediction is:\n",
      "Prediction = 1\n",
      "int(Prediction) = 1 \n",
      "\n",
      "Overall Probability = -0.3150509399946156\n"
     ]
    },
    {
     "data": {
      "text/latex": [
       "$\\displaystyle \n",
       "$$ |\\psi\\rangle =\\begin{bmatrix}\n",
       "-0.47493 \\\\\n",
       "0.88003\\end{bmatrix} $"
      ],
      "text/plain": [
       "<IPython.core.display.Math object>"
      ]
     },
     "metadata": {},
     "output_type": "display_data"
    },
    {
     "name": "stdout",
     "output_type": "stream",
     "text": [
      "Salida counts = {'0': 1}\n",
      "Given the former angle theta and quantum state, the new prediction is:\n",
      "Prediction = 0\n",
      "int(Prediction) = 0 \n",
      "\n",
      "Overall Probability = -0.5325875390988173\n"
     ]
    },
    {
     "data": {
      "text/latex": [
       "$\\displaystyle \n",
       "$$ |\\psi\\rangle =\\begin{bmatrix}\n",
       "-0.74236 \\\\\n",
       "0.67000\\end{bmatrix} $"
      ],
      "text/plain": [
       "<IPython.core.display.Math object>"
      ]
     },
     "metadata": {},
     "output_type": "display_data"
    },
    {
     "name": "stdout",
     "output_type": "stream",
     "text": [
      "Salida counts = {'1': 1}\n",
      "Given the former angle theta and quantum state, the new prediction is:\n",
      "Prediction = 1\n",
      "int(Prediction) = 1 \n",
      "\n",
      "Overall Probability = -1.0787759987650438\n"
     ]
    },
    {
     "data": {
      "text/latex": [
       "$\\displaystyle \n",
       "$$ |\\psi\\rangle =\\begin{bmatrix}\n",
       "-0.99235 \\\\\n",
       "-0.12343\\end{bmatrix} $"
      ],
      "text/plain": [
       "<IPython.core.display.Math object>"
      ]
     },
     "metadata": {},
     "output_type": "display_data"
    },
    {
     "name": "stdout",
     "output_type": "stream",
     "text": [
      "Salida counts = {'0': 1}\n",
      "Given the former angle theta and quantum state, the new prediction is:\n",
      "Prediction = 0\n",
      "int(Prediction) = 0 \n",
      "\n",
      "Overall Probability = -1.0806184958514569\n"
     ]
    },
    {
     "data": {
      "text/latex": [
       "$\\displaystyle \n",
       "$$ |\\psi\\rangle =\\begin{bmatrix}\n",
       "-0.99199 \\\\\n",
       "-0.12630\\end{bmatrix} $"
      ],
      "text/plain": [
       "<IPython.core.display.Math object>"
      ]
     },
     "metadata": {},
     "output_type": "display_data"
    },
    {
     "name": "stdout",
     "output_type": "stream",
     "text": [
      "Salida counts = {'0': 1}\n",
      "Given the former angle theta and quantum state, the new prediction is:\n",
      "Prediction = 0\n",
      "int(Prediction) = 0 \n",
      "\n",
      "Overall Probability = -1.084029872770053\n"
     ]
    },
    {
     "data": {
      "text/latex": [
       "$\\displaystyle \n",
       "$$ |\\psi\\rangle =\\begin{bmatrix}\n",
       "-0.99130 \\\\\n",
       "-0.13161\\end{bmatrix} $"
      ],
      "text/plain": [
       "<IPython.core.display.Math object>"
      ]
     },
     "metadata": {},
     "output_type": "display_data"
    },
    {
     "name": "stdout",
     "output_type": "stream",
     "text": [
      "Salida counts = {'0': 1}\n",
      "Given the former angle theta and quantum state, the new prediction is:\n",
      "Prediction = 0\n",
      "int(Prediction) = 0 \n",
      "\n",
      "Overall Probability = -0.539919369831735\n"
     ]
    },
    {
     "data": {
      "text/latex": [
       "$\\displaystyle \n",
       "$$ |\\psi\\rangle =\\begin{bmatrix}\n",
       "-0.75003 \\\\\n",
       "0.66141\\end{bmatrix} $"
      ],
      "text/plain": [
       "<IPython.core.display.Math object>"
      ]
     },
     "metadata": {},
     "output_type": "display_data"
    },
    {
     "name": "stdout",
     "output_type": "stream",
     "text": [
      "Salida counts = {'1': 1}\n",
      "Given the former angle theta and quantum state, the new prediction is:\n",
      "Prediction = 1\n",
      "int(Prediction) = 1 \n",
      "\n",
      "Overall Probability = -0.3343428043835134\n"
     ]
    },
    {
     "data": {
      "text/latex": [
       "$\\displaystyle \n",
       "$$ |\\psi\\rangle =\\begin{bmatrix}\n",
       "-0.50137 \\\\\n",
       "0.86523\\end{bmatrix} $"
      ],
      "text/plain": [
       "<IPython.core.display.Math object>"
      ]
     },
     "metadata": {},
     "output_type": "display_data"
    },
    {
     "name": "stdout",
     "output_type": "stream",
     "text": [
      "Salida counts = {'1': 1}\n",
      "Given the former angle theta and quantum state, the new prediction is:\n",
      "Prediction = 1\n",
      "int(Prediction) = 1 \n",
      "\n",
      "Overall Probability = -0.6003770148153353\n"
     ]
    },
    {
     "data": {
      "text/latex": [
       "$\\displaystyle \n",
       "$$ |\\psi\\rangle =\\begin{bmatrix}\n",
       "-0.80936 \\\\\n",
       "0.58731\\end{bmatrix} $"
      ],
      "text/plain": [
       "<IPython.core.display.Math object>"
      ]
     },
     "metadata": {},
     "output_type": "display_data"
    },
    {
     "name": "stdout",
     "output_type": "stream",
     "text": [
      "Salida counts = {'0': 1}\n",
      "Given the former angle theta and quantum state, the new prediction is:\n",
      "Prediction = 0\n",
      "int(Prediction) = 0 \n",
      "\n",
      "Overall Probability = -0.14058340533512947\n"
     ]
    },
    {
     "data": {
      "text/latex": [
       "$\\displaystyle \n",
       "$$ |\\psi\\rangle =\\begin{bmatrix}\n",
       "-0.21904 \\\\\n",
       "0.97572\\end{bmatrix} $"
      ],
      "text/plain": [
       "<IPython.core.display.Math object>"
      ]
     },
     "metadata": {},
     "output_type": "display_data"
    },
    {
     "name": "stdout",
     "output_type": "stream",
     "text": [
      "Salida counts = {'1': 1}\n",
      "Given the former angle theta and quantum state, the new prediction is:\n",
      "Prediction = 1\n",
      "int(Prediction) = 1 \n",
      "\n",
      "Overall Probability = -0.31560187678845736\n"
     ]
    },
    {
     "data": {
      "text/latex": [
       "$\\displaystyle \n",
       "$$ |\\psi\\rangle =\\begin{bmatrix}\n",
       "-0.47569 \\\\\n",
       "0.87961\\end{bmatrix} $"
      ],
      "text/plain": [
       "<IPython.core.display.Math object>"
      ]
     },
     "metadata": {},
     "output_type": "display_data"
    },
    {
     "name": "stdout",
     "output_type": "stream",
     "text": [
      "Salida counts = {'0': 1}\n",
      "Given the former angle theta and quantum state, the new prediction is:\n",
      "Prediction = 0\n",
      "int(Prediction) = 0 \n",
      "\n",
      "Overall Probability = -1.0829786509522936\n"
     ]
    },
    {
     "data": {
      "text/latex": [
       "$\\displaystyle \n",
       "$$ |\\psi\\rangle =\\begin{bmatrix}\n",
       "-0.99152 \\\\\n",
       "-0.12997\\end{bmatrix} $"
      ],
      "text/plain": [
       "<IPython.core.display.Math object>"
      ]
     },
     "metadata": {},
     "output_type": "display_data"
    },
    {
     "name": "stdout",
     "output_type": "stream",
     "text": [
      "Salida counts = {'0': 1}\n",
      "Given the former angle theta and quantum state, the new prediction is:\n",
      "Prediction = 0\n",
      "int(Prediction) = 0 \n",
      "\n",
      "Overall Probability = -1.0890812034849588\n"
     ]
    },
    {
     "data": {
      "text/latex": [
       "$\\displaystyle \n",
       "$$ |\\psi\\rangle =\\begin{bmatrix}\n",
       "-0.99023 \\\\\n",
       "-0.13947\\end{bmatrix} $"
      ],
      "text/plain": [
       "<IPython.core.display.Math object>"
      ]
     },
     "metadata": {},
     "output_type": "display_data"
    },
    {
     "name": "stdout",
     "output_type": "stream",
     "text": [
      "Salida counts = {'0': 1}\n",
      "Given the former angle theta and quantum state, the new prediction is:\n",
      "Prediction = 0\n",
      "int(Prediction) = 0 \n",
      "\n",
      "Overall Probability = -1.0830640835880112\n"
     ]
    },
    {
     "data": {
      "text/latex": [
       "$\\displaystyle \n",
       "$$ |\\psi\\rangle =\\begin{bmatrix}\n",
       "-0.99150 \\\\\n",
       "-0.13011\\end{bmatrix} $"
      ],
      "text/plain": [
       "<IPython.core.display.Math object>"
      ]
     },
     "metadata": {},
     "output_type": "display_data"
    },
    {
     "name": "stdout",
     "output_type": "stream",
     "text": [
      "Salida counts = {'0': 1}\n",
      "Given the former angle theta and quantum state, the new prediction is:\n",
      "Prediction = 0\n",
      "int(Prediction) = 0 \n",
      "\n",
      "Overall Probability = -0.9655211963521128\n"
     ]
    },
    {
     "data": {
      "text/latex": [
       "$\\displaystyle \n",
       "$$ |\\psi\\rangle =\\begin{bmatrix}\n",
       "-0.99853 \\\\\n",
       "0.05413\\end{bmatrix} $"
      ],
      "text/plain": [
       "<IPython.core.display.Math object>"
      ]
     },
     "metadata": {},
     "output_type": "display_data"
    },
    {
     "name": "stdout",
     "output_type": "stream",
     "text": [
      "Salida counts = {'0': 1}\n",
      "Given the former angle theta and quantum state, the new prediction is:\n",
      "Prediction = 0\n",
      "int(Prediction) = 0 \n",
      "\n",
      "Overall Probability = -1.0826897716040262\n"
     ]
    },
    {
     "data": {
      "text/latex": [
       "$\\displaystyle \n",
       "$$ |\\psi\\rangle =\\begin{bmatrix}\n",
       "-0.99158 \\\\\n",
       "-0.12952\\end{bmatrix} $"
      ],
      "text/plain": [
       "<IPython.core.display.Math object>"
      ]
     },
     "metadata": {},
     "output_type": "display_data"
    },
    {
     "name": "stdout",
     "output_type": "stream",
     "text": [
      "Salida counts = {'0': 1}\n",
      "Given the former angle theta and quantum state, the new prediction is:\n",
      "Prediction = 0\n",
      "int(Prediction) = 0 \n",
      "\n",
      "Overall Probability = -1.0881198093179392\n"
     ]
    },
    {
     "data": {
      "text/latex": [
       "$\\displaystyle \n",
       "$$ |\\psi\\rangle =\\begin{bmatrix}\n",
       "-0.99044 \\\\\n",
       "-0.13798\\end{bmatrix} $"
      ],
      "text/plain": [
       "<IPython.core.display.Math object>"
      ]
     },
     "metadata": {},
     "output_type": "display_data"
    },
    {
     "name": "stdout",
     "output_type": "stream",
     "text": [
      "Salida counts = {'0': 1}\n",
      "Given the former angle theta and quantum state, the new prediction is:\n",
      "Prediction = 0\n",
      "int(Prediction) = 0 \n",
      "\n",
      "Overall Probability = -1.0840997969390052\n"
     ]
    },
    {
     "data": {
      "text/latex": [
       "$\\displaystyle \n",
       "$$ |\\psi\\rangle =\\begin{bmatrix}\n",
       "-0.99129 \\\\\n",
       "-0.13172\\end{bmatrix} $"
      ],
      "text/plain": [
       "<IPython.core.display.Math object>"
      ]
     },
     "metadata": {},
     "output_type": "display_data"
    },
    {
     "name": "stdout",
     "output_type": "stream",
     "text": [
      "Salida counts = {'0': 1}\n",
      "Given the former angle theta and quantum state, the new prediction is:\n",
      "Prediction = 0\n",
      "int(Prediction) = 0 \n",
      "\n",
      "Overall Probability = -0.5026164928755559\n"
     ]
    },
    {
     "data": {
      "text/latex": [
       "$\\displaystyle \n",
       "$$ |\\psi\\rangle =\\begin{bmatrix}\n",
       "-0.71001 \\\\\n",
       "0.70419\\end{bmatrix} $"
      ],
      "text/plain": [
       "<IPython.core.display.Math object>"
      ]
     },
     "metadata": {},
     "output_type": "display_data"
    },
    {
     "name": "stdout",
     "output_type": "stream",
     "text": [
      "Salida counts = {'1': 1}\n",
      "Given the former angle theta and quantum state, the new prediction is:\n",
      "Prediction = 1\n",
      "int(Prediction) = 1 \n",
      "\n",
      "Overall Probability = -0.5270399010244529\n"
     ]
    },
    {
     "data": {
      "text/latex": [
       "$\\displaystyle \n",
       "$$ |\\psi\\rangle =\\begin{bmatrix}\n",
       "-0.73649 \\\\\n",
       "0.67644\\end{bmatrix} $"
      ],
      "text/plain": [
       "<IPython.core.display.Math object>"
      ]
     },
     "metadata": {},
     "output_type": "display_data"
    },
    {
     "name": "stdout",
     "output_type": "stream",
     "text": [
      "Salida counts = {'1': 1}\n",
      "Given the former angle theta and quantum state, the new prediction is:\n",
      "Prediction = 1\n",
      "int(Prediction) = 1 \n",
      "\n",
      "Overall Probability = -0.4505043951974591\n"
     ]
    },
    {
     "data": {
      "text/latex": [
       "$\\displaystyle \n",
       "$$ |\\psi\\rangle =\\begin{bmatrix}\n",
       "-0.65005 \\\\\n",
       "0.75989\\end{bmatrix} $"
      ],
      "text/plain": [
       "<IPython.core.display.Math object>"
      ]
     },
     "metadata": {},
     "output_type": "display_data"
    },
    {
     "name": "stdout",
     "output_type": "stream",
     "text": [
      "Salida counts = {'0': 1}\n",
      "Given the former angle theta and quantum state, the new prediction is:\n",
      "Prediction = 0\n",
      "int(Prediction) = 0 \n",
      "\n",
      "Overall Probability = -0.3311029624605841\n"
     ]
    },
    {
     "data": {
      "text/latex": [
       "$\\displaystyle \n",
       "$$ |\\psi\\rangle =\\begin{bmatrix}\n",
       "-0.49696 \\\\\n",
       "0.86777\\end{bmatrix} $"
      ],
      "text/plain": [
       "<IPython.core.display.Math object>"
      ]
     },
     "metadata": {},
     "output_type": "display_data"
    },
    {
     "name": "stdout",
     "output_type": "stream",
     "text": [
      "Salida counts = {'1': 1}\n",
      "Given the former angle theta and quantum state, the new prediction is:\n",
      "Prediction = 1\n",
      "int(Prediction) = 1 \n",
      "\n",
      "Overall Probability = -0.89395842100813\n"
     ]
    },
    {
     "data": {
      "text/latex": [
       "$\\displaystyle \n",
       "$$ |\\psi\\rangle =\\begin{bmatrix}\n",
       "-0.98616 \\\\\n",
       "0.16580\\end{bmatrix} $"
      ],
      "text/plain": [
       "<IPython.core.display.Math object>"
      ]
     },
     "metadata": {},
     "output_type": "display_data"
    },
    {
     "name": "stdout",
     "output_type": "stream",
     "text": [
      "Salida counts = {'0': 1}\n",
      "Given the former angle theta and quantum state, the new prediction is:\n",
      "Prediction = 0\n",
      "int(Prediction) = 0 \n",
      "\n",
      "Overall Probability = -0.9878802232042976\n"
     ]
    },
    {
     "data": {
      "text/latex": [
       "$\\displaystyle \n",
       "$$ |\\psi\\rangle =\\begin{bmatrix}\n",
       "-0.99982 \\\\\n",
       "0.01904\\end{bmatrix} $"
      ],
      "text/plain": [
       "<IPython.core.display.Math object>"
      ]
     },
     "metadata": {},
     "output_type": "display_data"
    },
    {
     "name": "stdout",
     "output_type": "stream",
     "text": [
      "Salida counts = {'0': 1}\n",
      "Given the former angle theta and quantum state, the new prediction is:\n",
      "Prediction = 0\n",
      "int(Prediction) = 0 \n",
      "\n",
      "Overall Probability = -0.9890154659467547\n"
     ]
    },
    {
     "data": {
      "text/latex": [
       "$\\displaystyle \n",
       "$$ |\\psi\\rangle =\\begin{bmatrix}\n",
       "-0.99985 \\\\\n",
       "0.01725\\end{bmatrix} $"
      ],
      "text/plain": [
       "<IPython.core.display.Math object>"
      ]
     },
     "metadata": {},
     "output_type": "display_data"
    },
    {
     "name": "stdout",
     "output_type": "stream",
     "text": [
      "Salida counts = {'0': 1}\n",
      "Given the former angle theta and quantum state, the new prediction is:\n",
      "Prediction = 0\n",
      "int(Prediction) = 0 \n",
      "\n",
      "Overall Probability = -0.34678876945142173\n"
     ]
    },
    {
     "data": {
      "text/latex": [
       "$\\displaystyle \n",
       "$$ |\\psi\\rangle =\\begin{bmatrix}\n",
       "-0.51819 \\\\\n",
       "0.85526\\end{bmatrix} $"
      ],
      "text/plain": [
       "<IPython.core.display.Math object>"
      ]
     },
     "metadata": {},
     "output_type": "display_data"
    },
    {
     "name": "stdout",
     "output_type": "stream",
     "text": [
      "Salida counts = {'1': 1}\n",
      "Given the former angle theta and quantum state, the new prediction is:\n",
      "Prediction = 1\n",
      "int(Prediction) = 1 \n",
      "\n",
      "Overall Probability = -0.6252064952781213\n"
     ]
    },
    {
     "data": {
      "text/latex": [
       "$\\displaystyle \n",
       "$$ |\\psi\\rangle =\\begin{bmatrix}\n",
       "-0.83165 \\\\\n",
       "0.55530\\end{bmatrix} $"
      ],
      "text/plain": [
       "<IPython.core.display.Math object>"
      ]
     },
     "metadata": {},
     "output_type": "display_data"
    },
    {
     "name": "stdout",
     "output_type": "stream",
     "text": [
      "Salida counts = {'0': 1}\n",
      "Given the former angle theta and quantum state, the new prediction is:\n",
      "Prediction = 0\n",
      "int(Prediction) = 0 \n",
      "\n",
      "Overall Probability = -0.14671423611390186\n"
     ]
    },
    {
     "data": {
      "text/latex": [
       "$\\displaystyle \n",
       "$$ |\\psi\\rangle =\\begin{bmatrix}\n",
       "-0.22842 \\\\\n",
       "0.97356\\end{bmatrix} $"
      ],
      "text/plain": [
       "<IPython.core.display.Math object>"
      ]
     },
     "metadata": {},
     "output_type": "display_data"
    },
    {
     "name": "stdout",
     "output_type": "stream",
     "text": [
      "Salida counts = {'1': 1}\n",
      "Given the former angle theta and quantum state, the new prediction is:\n",
      "Prediction = 1\n",
      "int(Prediction) = 1 \n",
      "\n",
      "Overall Probability = -0.9894674629257532\n"
     ]
    },
    {
     "data": {
      "text/latex": [
       "$\\displaystyle \n",
       "$$ |\\psi\\rangle =\\begin{bmatrix}\n",
       "-0.99986 \\\\\n",
       "0.01654\\end{bmatrix} $"
      ],
      "text/plain": [
       "<IPython.core.display.Math object>"
      ]
     },
     "metadata": {},
     "output_type": "display_data"
    },
    {
     "name": "stdout",
     "output_type": "stream",
     "text": [
      "Salida counts = {'0': 1}\n",
      "Given the former angle theta and quantum state, the new prediction is:\n",
      "Prediction = 0\n",
      "int(Prediction) = 0 \n",
      "\n",
      "Overall Probability = -0.10350261905526101\n"
     ]
    },
    {
     "data": {
      "text/latex": [
       "$\\displaystyle \n",
       "$$ |\\psi\\rangle =\\begin{bmatrix}\n",
       "-0.16187 \\\\\n",
       "0.98681\\end{bmatrix} $"
      ],
      "text/plain": [
       "<IPython.core.display.Math object>"
      ]
     },
     "metadata": {},
     "output_type": "display_data"
    },
    {
     "name": "stdout",
     "output_type": "stream",
     "text": [
      "Salida counts = {'1': 1}\n",
      "Given the former angle theta and quantum state, the new prediction is:\n",
      "Prediction = 1\n",
      "int(Prediction) = 1 \n",
      "\n",
      "Overall Probability = -0.15154771716812138\n"
     ]
    },
    {
     "data": {
      "text/latex": [
       "$\\displaystyle \n",
       "$$ |\\psi\\rangle =\\begin{bmatrix}\n",
       "-0.23581 \\\\\n",
       "0.97180\\end{bmatrix} $"
      ],
      "text/plain": [
       "<IPython.core.display.Math object>"
      ]
     },
     "metadata": {},
     "output_type": "display_data"
    },
    {
     "name": "stdout",
     "output_type": "stream",
     "text": [
      "Salida counts = {'1': 1}\n",
      "Given the former angle theta and quantum state, the new prediction is:\n",
      "Prediction = 1\n",
      "int(Prediction) = 1 \n",
      "\n",
      "Overall Probability = -0.17009590894034426\n"
     ]
    },
    {
     "data": {
      "text/latex": [
       "$\\displaystyle \n",
       "$$ |\\psi\\rangle =\\begin{bmatrix}\n",
       "-0.26402 \\\\\n",
       "0.96452\\end{bmatrix} $"
      ],
      "text/plain": [
       "<IPython.core.display.Math object>"
      ]
     },
     "metadata": {},
     "output_type": "display_data"
    },
    {
     "name": "stdout",
     "output_type": "stream",
     "text": [
      "Salida counts = {'1': 1}\n",
      "Given the former angle theta and quantum state, the new prediction is:\n",
      "Prediction = 1\n",
      "int(Prediction) = 1 \n",
      "\n",
      "Overall Probability = -1.0928313384221127\n"
     ]
    },
    {
     "data": {
      "text/latex": [
       "$\\displaystyle \n",
       "$$ |\\psi\\rangle =\\begin{bmatrix}\n",
       "-0.98939 \\\\\n",
       "-0.14530\\end{bmatrix} $"
      ],
      "text/plain": [
       "<IPython.core.display.Math object>"
      ]
     },
     "metadata": {},
     "output_type": "display_data"
    },
    {
     "name": "stdout",
     "output_type": "stream",
     "text": [
      "Salida counts = {'0': 1}\n",
      "Given the former angle theta and quantum state, the new prediction is:\n",
      "Prediction = 0\n",
      "int(Prediction) = 0 \n",
      "\n",
      "Overall Probability = -0.8742279928696401\n"
     ]
    },
    {
     "data": {
      "text/latex": [
       "$\\displaystyle \n",
       "$$ |\\psi\\rangle =\\begin{bmatrix}\n",
       "-0.98055 \\\\\n",
       "0.19628\\end{bmatrix} $"
      ],
      "text/plain": [
       "<IPython.core.display.Math object>"
      ]
     },
     "metadata": {},
     "output_type": "display_data"
    },
    {
     "name": "stdout",
     "output_type": "stream",
     "text": [
      "Salida counts = {'0': 1}\n",
      "Given the former angle theta and quantum state, the new prediction is:\n",
      "Prediction = 0\n",
      "int(Prediction) = 0 \n",
      "\n",
      "Overall Probability = -0.9074399611404413\n"
     ]
    },
    {
     "data": {
      "text/latex": [
       "$\\displaystyle \n",
       "$$ |\\psi\\rangle =\\begin{bmatrix}\n",
       "-0.98945 \\\\\n",
       "0.14488\\end{bmatrix} $"
      ],
      "text/plain": [
       "<IPython.core.display.Math object>"
      ]
     },
     "metadata": {},
     "output_type": "display_data"
    },
    {
     "name": "stdout",
     "output_type": "stream",
     "text": [
      "Salida counts = {'0': 1}\n",
      "Given the former angle theta and quantum state, the new prediction is:\n",
      "Prediction = 0\n",
      "int(Prediction) = 0 \n",
      "\n",
      "Overall Probability = -0.8751055170613804\n"
     ]
    },
    {
     "data": {
      "text/latex": [
       "$\\displaystyle \n",
       "$$ |\\psi\\rangle =\\begin{bmatrix}\n",
       "-0.98082 \\\\\n",
       "0.19493\\end{bmatrix} $"
      ],
      "text/plain": [
       "<IPython.core.display.Math object>"
      ]
     },
     "metadata": {},
     "output_type": "display_data"
    },
    {
     "name": "stdout",
     "output_type": "stream",
     "text": [
      "Salida counts = {'0': 1}\n",
      "Given the former angle theta and quantum state, the new prediction is:\n",
      "Prediction = 0\n",
      "int(Prediction) = 0 \n",
      "\n",
      "Overall Probability = -1.0847848357176866\n"
     ]
    },
    {
     "data": {
      "text/latex": [
       "$\\displaystyle \n",
       "$$ |\\psi\\rangle =\\begin{bmatrix}\n",
       "-0.99114 \\\\\n",
       "-0.13279\\end{bmatrix} $"
      ],
      "text/plain": [
       "<IPython.core.display.Math object>"
      ]
     },
     "metadata": {},
     "output_type": "display_data"
    },
    {
     "name": "stdout",
     "output_type": "stream",
     "text": [
      "Salida counts = {'0': 1}\n",
      "Given the former angle theta and quantum state, the new prediction is:\n",
      "Prediction = 0\n",
      "int(Prediction) = 0 \n",
      "\n",
      "Overall Probability = -0.9081988739845528\n"
     ]
    },
    {
     "data": {
      "text/latex": [
       "$\\displaystyle \n",
       "$$ |\\psi\\rangle =\\begin{bmatrix}\n",
       "-0.98962 \\\\\n",
       "0.14370\\end{bmatrix} $"
      ],
      "text/plain": [
       "<IPython.core.display.Math object>"
      ]
     },
     "metadata": {},
     "output_type": "display_data"
    },
    {
     "name": "stdout",
     "output_type": "stream",
     "text": [
      "Salida counts = {'0': 1}\n",
      "Given the former angle theta and quantum state, the new prediction is:\n",
      "Prediction = 0\n",
      "int(Prediction) = 0 \n",
      "\n",
      "Overall Probability = -1.0852968051247431\n"
     ]
    },
    {
     "data": {
      "text/latex": [
       "$\\displaystyle \n",
       "$$ |\\psi\\rangle =\\begin{bmatrix}\n",
       "-0.99104 \\\\\n",
       "-0.13358\\end{bmatrix} $"
      ],
      "text/plain": [
       "<IPython.core.display.Math object>"
      ]
     },
     "metadata": {},
     "output_type": "display_data"
    },
    {
     "name": "stdout",
     "output_type": "stream",
     "text": [
      "Salida counts = {'0': 1}\n",
      "Given the former angle theta and quantum state, the new prediction is:\n",
      "Prediction = 0\n",
      "int(Prediction) = 0 \n",
      "\n",
      "Overall Probability = -0.7436516841800846\n"
     ]
    },
    {
     "data": {
      "text/latex": [
       "$\\displaystyle \n",
       "$$ |\\psi\\rangle =\\begin{bmatrix}\n",
       "-0.92002 \\\\\n",
       "0.39188\\end{bmatrix} $"
      ],
      "text/plain": [
       "<IPython.core.display.Math object>"
      ]
     },
     "metadata": {},
     "output_type": "display_data"
    },
    {
     "name": "stdout",
     "output_type": "stream",
     "text": [
      "Salida counts = {'0': 1}\n",
      "Given the former angle theta and quantum state, the new prediction is:\n",
      "Prediction = 0\n",
      "int(Prediction) = 0 \n",
      "\n",
      "Overall Probability = -1.082264689509829\n"
     ]
    },
    {
     "data": {
      "text/latex": [
       "$\\displaystyle \n",
       "$$ |\\psi\\rangle =\\begin{bmatrix}\n",
       "-0.99166 \\\\\n",
       "-0.12886\\end{bmatrix} $"
      ],
      "text/plain": [
       "<IPython.core.display.Math object>"
      ]
     },
     "metadata": {},
     "output_type": "display_data"
    },
    {
     "name": "stdout",
     "output_type": "stream",
     "text": [
      "Salida counts = {'0': 1}\n",
      "Given the former angle theta and quantum state, the new prediction is:\n",
      "Prediction = 0\n",
      "int(Prediction) = 0 \n",
      "\n",
      "Overall Probability = -0.9169815536967183\n"
     ]
    },
    {
     "data": {
      "text/latex": [
       "$\\displaystyle \n",
       "$$ |\\psi\\rangle =\\begin{bmatrix}\n",
       "-0.99151 \\\\\n",
       "0.13004\\end{bmatrix} $"
      ],
      "text/plain": [
       "<IPython.core.display.Math object>"
      ]
     },
     "metadata": {},
     "output_type": "display_data"
    },
    {
     "name": "stdout",
     "output_type": "stream",
     "text": [
      "Salida counts = {'0': 1}\n",
      "Given the former angle theta and quantum state, the new prediction is:\n",
      "Prediction = 0\n",
      "int(Prediction) = 0 \n",
      "\n",
      "Overall Probability = -1.0856279216387477\n"
     ]
    },
    {
     "data": {
      "text/latex": [
       "$\\displaystyle \n",
       "$$ |\\psi\\rangle =\\begin{bmatrix}\n",
       "-0.99097 \\\\\n",
       "-0.13410\\end{bmatrix} $"
      ],
      "text/plain": [
       "<IPython.core.display.Math object>"
      ]
     },
     "metadata": {},
     "output_type": "display_data"
    },
    {
     "name": "stdout",
     "output_type": "stream",
     "text": [
      "Salida counts = {'0': 1}\n",
      "Given the former angle theta and quantum state, the new prediction is:\n",
      "Prediction = 0\n",
      "int(Prediction) = 0 \n",
      "\n",
      "Overall Probability = -0.3624930125152501\n"
     ]
    },
    {
     "data": {
      "text/latex": [
       "$\\displaystyle \n",
       "$$ |\\psi\\rangle =\\begin{bmatrix}\n",
       "-0.53913 \\\\\n",
       "0.84222\\end{bmatrix} $"
      ],
      "text/plain": [
       "<IPython.core.display.Math object>"
      ]
     },
     "metadata": {},
     "output_type": "display_data"
    },
    {
     "name": "stdout",
     "output_type": "stream",
     "text": [
      "Salida counts = {'1': 1}\n",
      "Given the former angle theta and quantum state, the new prediction is:\n",
      "Prediction = 1\n",
      "int(Prediction) = 1 \n",
      "\n",
      "Overall Probability = -0.4720335830948334\n"
     ]
    },
    {
     "data": {
      "text/latex": [
       "$\\displaystyle \n",
       "$$ |\\psi\\rangle =\\begin{bmatrix}\n",
       "-0.67537 \\\\\n",
       "0.73748\\end{bmatrix} $"
      ],
      "text/plain": [
       "<IPython.core.display.Math object>"
      ]
     },
     "metadata": {},
     "output_type": "display_data"
    },
    {
     "name": "stdout",
     "output_type": "stream",
     "text": [
      "Salida counts = {'1': 1}\n",
      "Given the former angle theta and quantum state, the new prediction is:\n",
      "Prediction = 1\n",
      "int(Prediction) = 1 \n",
      "\n",
      "Overall Probability = -0.04560317304579592\n"
     ]
    },
    {
     "data": {
      "text/latex": [
       "$\\displaystyle \n",
       "$$ |\\psi\\rangle =\\begin{bmatrix}\n",
       "-0.07157 \\\\\n",
       "0.99744\\end{bmatrix} $"
      ],
      "text/plain": [
       "<IPython.core.display.Math object>"
      ]
     },
     "metadata": {},
     "output_type": "display_data"
    },
    {
     "name": "stdout",
     "output_type": "stream",
     "text": [
      "Salida counts = {'1': 1}\n",
      "Given the former angle theta and quantum state, the new prediction is:\n",
      "Prediction = 1\n",
      "int(Prediction) = 1 \n",
      "\n",
      "Overall Probability = -0.337688587131005\n"
     ]
    },
    {
     "data": {
      "text/latex": [
       "$\\displaystyle \n",
       "$$ |\\psi\\rangle =\\begin{bmatrix}\n",
       "-0.50591 \\\\\n",
       "0.86258\\end{bmatrix} $"
      ],
      "text/plain": [
       "<IPython.core.display.Math object>"
      ]
     },
     "metadata": {},
     "output_type": "display_data"
    },
    {
     "name": "stdout",
     "output_type": "stream",
     "text": [
      "Salida counts = {'1': 1}\n",
      "Given the former angle theta and quantum state, the new prediction is:\n",
      "Prediction = 1\n",
      "int(Prediction) = 1 \n",
      "\n",
      "Overall Probability = -0.30642086015111153\n"
     ]
    },
    {
     "data": {
      "text/latex": [
       "$\\displaystyle \n",
       "$$ |\\psi\\rangle =\\begin{bmatrix}\n",
       "-0.46295 \\\\\n",
       "0.88638\\end{bmatrix} $"
      ],
      "text/plain": [
       "<IPython.core.display.Math object>"
      ]
     },
     "metadata": {},
     "output_type": "display_data"
    },
    {
     "name": "stdout",
     "output_type": "stream",
     "text": [
      "Salida counts = {'0': 1}\n",
      "Given the former angle theta and quantum state, the new prediction is:\n",
      "Prediction = 0\n",
      "int(Prediction) = 0 \n",
      "\n",
      "Overall Probability = -0.9068126268752865\n"
     ]
    },
    {
     "data": {
      "text/latex": [
       "$\\displaystyle \n",
       "$$ |\\psi\\rangle =\\begin{bmatrix}\n",
       "-0.98931 \\\\\n",
       "0.14586\\end{bmatrix} $"
      ],
      "text/plain": [
       "<IPython.core.display.Math object>"
      ]
     },
     "metadata": {},
     "output_type": "display_data"
    },
    {
     "name": "stdout",
     "output_type": "stream",
     "text": [
      "Salida counts = {'0': 1}\n",
      "Given the former angle theta and quantum state, the new prediction is:\n",
      "Prediction = 0\n",
      "int(Prediction) = 0 \n",
      "\n",
      "Overall Probability = -0.5346972871036415\n"
     ]
    },
    {
     "data": {
      "text/latex": [
       "$\\displaystyle \n",
       "$$ |\\psi\\rangle =\\begin{bmatrix}\n",
       "-0.74458 \\\\\n",
       "0.66754\\end{bmatrix} $"
      ],
      "text/plain": [
       "<IPython.core.display.Math object>"
      ]
     },
     "metadata": {},
     "output_type": "display_data"
    },
    {
     "name": "stdout",
     "output_type": "stream",
     "text": [
      "Salida counts = {'0': 1}\n",
      "Given the former angle theta and quantum state, the new prediction is:\n",
      "Prediction = 0\n",
      "int(Prediction) = 0 \n",
      "\n",
      "Overall Probability = -1.0834697824715183\n"
     ]
    },
    {
     "data": {
      "text/latex": [
       "$\\displaystyle \n",
       "$$ |\\psi\\rangle =\\begin{bmatrix}\n",
       "-0.99142 \\\\\n",
       "-0.13074\\end{bmatrix} $"
      ],
      "text/plain": [
       "<IPython.core.display.Math object>"
      ]
     },
     "metadata": {},
     "output_type": "display_data"
    },
    {
     "name": "stdout",
     "output_type": "stream",
     "text": [
      "Salida counts = {'0': 1}\n",
      "Given the former angle theta and quantum state, the new prediction is:\n",
      "Prediction = 0\n",
      "int(Prediction) = 0 \n",
      "\n",
      "Overall Probability = -0.3391199396413155\n"
     ]
    },
    {
     "data": {
      "text/latex": [
       "$\\displaystyle \n",
       "$$ |\\psi\\rangle =\\begin{bmatrix}\n",
       "-0.50785 \\\\\n",
       "0.86144\\end{bmatrix} $"
      ],
      "text/plain": [
       "<IPython.core.display.Math object>"
      ]
     },
     "metadata": {},
     "output_type": "display_data"
    },
    {
     "name": "stdout",
     "output_type": "stream",
     "text": [
      "Salida counts = {'1': 1}\n",
      "Given the former angle theta and quantum state, the new prediction is:\n",
      "Prediction = 1\n",
      "int(Prediction) = 1 \n",
      "\n",
      "Overall Probability = 0.03929249115476996\n"
     ]
    },
    {
     "data": {
      "text/latex": [
       "$\\displaystyle \n",
       "$$ |\\psi\\rangle =\\begin{bmatrix}\n",
       "0.06168 \\\\\n",
       "0.99810\\end{bmatrix} $"
      ],
      "text/plain": [
       "<IPython.core.display.Math object>"
      ]
     },
     "metadata": {},
     "output_type": "display_data"
    },
    {
     "name": "stdout",
     "output_type": "stream",
     "text": [
      "Salida counts = {'1': 1}\n",
      "Given the former angle theta and quantum state, the new prediction is:\n",
      "Prediction = 1\n",
      "int(Prediction) = 1 \n",
      "\n",
      "Overall Probability = -1.0644440794240708\n"
     ]
    },
    {
     "data": {
      "text/latex": [
       "$\\displaystyle \n",
       "$$ |\\psi\\rangle =\\begin{bmatrix}\n",
       "-0.99488 \\\\\n",
       "-0.10106\\end{bmatrix} $"
      ],
      "text/plain": [
       "<IPython.core.display.Math object>"
      ]
     },
     "metadata": {},
     "output_type": "display_data"
    },
    {
     "name": "stdout",
     "output_type": "stream",
     "text": [
      "Salida counts = {'0': 1}\n",
      "Given the former angle theta and quantum state, the new prediction is:\n",
      "Prediction = 0\n",
      "int(Prediction) = 0 \n",
      "\n",
      "Overall Probability = -0.1397413247919075\n"
     ]
    },
    {
     "data": {
      "text/latex": [
       "$\\displaystyle \n",
       "$$ |\\psi\\rangle =\\begin{bmatrix}\n",
       "-0.21775 \\\\\n",
       "0.97601\\end{bmatrix} $"
      ],
      "text/plain": [
       "<IPython.core.display.Math object>"
      ]
     },
     "metadata": {},
     "output_type": "display_data"
    },
    {
     "name": "stdout",
     "output_type": "stream",
     "text": [
      "Salida counts = {'1': 1}\n",
      "Given the former angle theta and quantum state, the new prediction is:\n",
      "Prediction = 1\n",
      "int(Prediction) = 1 \n",
      "\n",
      "Overall Probability = -1.0851174069088327\n"
     ]
    },
    {
     "data": {
      "text/latex": [
       "$\\displaystyle \n",
       "$$ |\\psi\\rangle =\\begin{bmatrix}\n",
       "-0.99108 \\\\\n",
       "-0.13330\\end{bmatrix} $"
      ],
      "text/plain": [
       "<IPython.core.display.Math object>"
      ]
     },
     "metadata": {},
     "output_type": "display_data"
    },
    {
     "name": "stdout",
     "output_type": "stream",
     "text": [
      "Salida counts = {'1': 1}\n",
      "Given the former angle theta and quantum state, the new prediction is:\n",
      "Prediction = 1\n",
      "int(Prediction) = 1 \n",
      "\n",
      "Overall Probability = -0.4530235956923756\n"
     ]
    },
    {
     "data": {
      "text/latex": [
       "$\\displaystyle \n",
       "$$ |\\psi\\rangle =\\begin{bmatrix}\n",
       "-0.65305 \\\\\n",
       "0.75731\\end{bmatrix} $"
      ],
      "text/plain": [
       "<IPython.core.display.Math object>"
      ]
     },
     "metadata": {},
     "output_type": "display_data"
    },
    {
     "name": "stdout",
     "output_type": "stream",
     "text": [
      "Salida counts = {'1': 1}\n",
      "Given the former angle theta and quantum state, the new prediction is:\n",
      "Prediction = 1\n",
      "int(Prediction) = 1 \n",
      "\n",
      "Overall Probability = -0.04079361034627668\n"
     ]
    },
    {
     "data": {
      "text/latex": [
       "$\\displaystyle \n",
       "$$ |\\psi\\rangle =\\begin{bmatrix}\n",
       "-0.06403 \\\\\n",
       "0.99795\\end{bmatrix} $"
      ],
      "text/plain": [
       "<IPython.core.display.Math object>"
      ]
     },
     "metadata": {},
     "output_type": "display_data"
    },
    {
     "name": "stdout",
     "output_type": "stream",
     "text": [
      "Salida counts = {'1': 1}\n",
      "Given the former angle theta and quantum state, the new prediction is:\n",
      "Prediction = 1\n",
      "int(Prediction) = 1 \n",
      "\n",
      "Overall Probability = -1.0836177597543293\n"
     ]
    },
    {
     "data": {
      "text/latex": [
       "$\\displaystyle \n",
       "$$ |\\psi\\rangle =\\begin{bmatrix}\n",
       "-0.99139 \\\\\n",
       "-0.13097\\end{bmatrix} $"
      ],
      "text/plain": [
       "<IPython.core.display.Math object>"
      ]
     },
     "metadata": {},
     "output_type": "display_data"
    },
    {
     "name": "stdout",
     "output_type": "stream",
     "text": [
      "Salida counts = {'0': 1}\n",
      "Given the former angle theta and quantum state, the new prediction is:\n",
      "Prediction = 0\n",
      "int(Prediction) = 0 \n",
      "\n",
      "Overall Probability = -0.7440699070235213\n"
     ]
    },
    {
     "data": {
      "text/latex": [
       "$\\displaystyle \n",
       "$$ |\\psi\\rangle =\\begin{bmatrix}\n",
       "-0.92027 \\\\\n",
       "0.39127\\end{bmatrix} $"
      ],
      "text/plain": [
       "<IPython.core.display.Math object>"
      ]
     },
     "metadata": {},
     "output_type": "display_data"
    },
    {
     "name": "stdout",
     "output_type": "stream",
     "text": [
      "Salida counts = {'0': 1}\n",
      "Given the former angle theta and quantum state, the new prediction is:\n",
      "Prediction = 0\n",
      "int(Prediction) = 0 \n",
      "\n",
      "Overall Probability = -1.084454205441202\n"
     ]
    },
    {
     "data": {
      "text/latex": [
       "$\\displaystyle \n",
       "$$ |\\psi\\rangle =\\begin{bmatrix}\n",
       "-0.99121 \\\\\n",
       "-0.13227\\end{bmatrix} $"
      ],
      "text/plain": [
       "<IPython.core.display.Math object>"
      ]
     },
     "metadata": {},
     "output_type": "display_data"
    },
    {
     "name": "stdout",
     "output_type": "stream",
     "text": [
      "Salida counts = {'0': 1}\n",
      "Given the former angle theta and quantum state, the new prediction is:\n",
      "Prediction = 0\n",
      "int(Prediction) = 0 \n",
      "\n",
      "Overall Probability = -0.30370396663503624\n"
     ]
    },
    {
     "data": {
      "text/latex": [
       "$\\displaystyle \n",
       "$$ |\\psi\\rangle =\\begin{bmatrix}\n",
       "-0.45917 \\\\\n",
       "0.88835\\end{bmatrix} $"
      ],
      "text/plain": [
       "<IPython.core.display.Math object>"
      ]
     },
     "metadata": {},
     "output_type": "display_data"
    },
    {
     "name": "stdout",
     "output_type": "stream",
     "text": [
      "Salida counts = {'1': 1}\n",
      "Given the former angle theta and quantum state, the new prediction is:\n",
      "Prediction = 1\n",
      "int(Prediction) = 1 \n",
      "\n",
      "Overall Probability = -1.0839375808835747\n"
     ]
    },
    {
     "data": {
      "text/latex": [
       "$\\displaystyle \n",
       "$$ |\\psi\\rangle =\\begin{bmatrix}\n",
       "-0.99132 \\\\\n",
       "-0.13147\\end{bmatrix} $"
      ],
      "text/plain": [
       "<IPython.core.display.Math object>"
      ]
     },
     "metadata": {},
     "output_type": "display_data"
    },
    {
     "name": "stdout",
     "output_type": "stream",
     "text": [
      "Salida counts = {'0': 1}\n",
      "Given the former angle theta and quantum state, the new prediction is:\n",
      "Prediction = 0\n",
      "int(Prediction) = 0 \n",
      "\n",
      "Overall Probability = -0.3286947884841618\n"
     ]
    },
    {
     "data": {
      "text/latex": [
       "$\\displaystyle \n",
       "$$ |\\psi\\rangle =\\begin{bmatrix}\n",
       "-0.49368 \\\\\n",
       "0.86965\\end{bmatrix} $"
      ],
      "text/plain": [
       "<IPython.core.display.Math object>"
      ]
     },
     "metadata": {},
     "output_type": "display_data"
    },
    {
     "name": "stdout",
     "output_type": "stream",
     "text": [
      "Salida counts = {'1': 1}\n",
      "Given the former angle theta and quantum state, the new prediction is:\n",
      "Prediction = 1\n",
      "int(Prediction) = 1 \n",
      "\n",
      "Overall Probability = -0.5396002981255381\n"
     ]
    },
    {
     "data": {
      "text/latex": [
       "$\\displaystyle \n",
       "$$ |\\psi\\rangle =\\begin{bmatrix}\n",
       "-0.74970 \\\\\n",
       "0.66178\\end{bmatrix} $"
      ],
      "text/plain": [
       "<IPython.core.display.Math object>"
      ]
     },
     "metadata": {},
     "output_type": "display_data"
    },
    {
     "name": "stdout",
     "output_type": "stream",
     "text": [
      "Salida counts = {'1': 1}\n",
      "Given the former angle theta and quantum state, the new prediction is:\n",
      "Prediction = 1\n",
      "int(Prediction) = 1 \n",
      "\n",
      "Overall Probability = -0.36583879526274177\n"
     ]
    },
    {
     "data": {
      "text/latex": [
       "$\\displaystyle \n",
       "$$ |\\psi\\rangle =\\begin{bmatrix}\n",
       "-0.54355 \\\\\n",
       "0.83938\\end{bmatrix} $"
      ],
      "text/plain": [
       "<IPython.core.display.Math object>"
      ]
     },
     "metadata": {},
     "output_type": "display_data"
    },
    {
     "name": "stdout",
     "output_type": "stream",
     "text": [
      "Salida counts = {'1': 1}\n",
      "Given the former angle theta and quantum state, the new prediction is:\n",
      "Prediction = 1\n",
      "int(Prediction) = 1 \n",
      "\n",
      "Overall Probability = -0.9845017920554258\n"
     ]
    },
    {
     "data": {
      "text/latex": [
       "$\\displaystyle \n",
       "$$ |\\psi\\rangle =\\begin{bmatrix}\n",
       "-0.99970 \\\\\n",
       "0.02434\\end{bmatrix} $"
      ],
      "text/plain": [
       "<IPython.core.display.Math object>"
      ]
     },
     "metadata": {},
     "output_type": "display_data"
    },
    {
     "name": "stdout",
     "output_type": "stream",
     "text": [
      "Salida counts = {'0': 1}\n",
      "Given the former angle theta and quantum state, the new prediction is:\n",
      "Prediction = 0\n",
      "int(Prediction) = 0 \n",
      "\n",
      "Overall Probability = -1.0845757242959684\n"
     ]
    },
    {
     "data": {
      "text/latex": [
       "$\\displaystyle \n",
       "$$ |\\psi\\rangle =\\begin{bmatrix}\n",
       "-0.99119 \\\\\n",
       "-0.13246\\end{bmatrix} $"
      ],
      "text/plain": [
       "<IPython.core.display.Math object>"
      ]
     },
     "metadata": {},
     "output_type": "display_data"
    },
    {
     "name": "stdout",
     "output_type": "stream",
     "text": [
      "Salida counts = {'0': 1}\n",
      "Given the former angle theta and quantum state, the new prediction is:\n",
      "Prediction = 0\n",
      "int(Prediction) = 0 \n",
      "\n",
      "Overall Probability = -0.13903033952730587\n"
     ]
    },
    {
     "data": {
      "text/latex": [
       "$\\displaystyle \n",
       "$$ |\\psi\\rangle =\\begin{bmatrix}\n",
       "-0.21666 \\\\\n",
       "0.97625\\end{bmatrix} $"
      ],
      "text/plain": [
       "<IPython.core.display.Math object>"
      ]
     },
     "metadata": {},
     "output_type": "display_data"
    },
    {
     "name": "stdout",
     "output_type": "stream",
     "text": [
      "Salida counts = {'1': 1}\n",
      "Given the former angle theta and quantum state, the new prediction is:\n",
      "Prediction = 1\n",
      "int(Prediction) = 1 \n",
      "\n",
      "Overall Probability = -1.0868759499348688\n"
     ]
    },
    {
     "data": {
      "text/latex": [
       "$\\displaystyle \n",
       "$$ |\\psi\\rangle =\\begin{bmatrix}\n",
       "-0.99070 \\\\\n",
       "-0.13604\\end{bmatrix} $"
      ],
      "text/plain": [
       "<IPython.core.display.Math object>"
      ]
     },
     "metadata": {},
     "output_type": "display_data"
    },
    {
     "name": "stdout",
     "output_type": "stream",
     "text": [
      "Salida counts = {'0': 1}\n",
      "Given the former angle theta and quantum state, the new prediction is:\n",
      "Prediction = 0\n",
      "int(Prediction) = 0 \n",
      "\n",
      "Overall Probability = 0.052640126492953666\n"
     ]
    },
    {
     "data": {
      "text/latex": [
       "$\\displaystyle \n",
       "$$ |\\psi\\rangle =\\begin{bmatrix}\n",
       "0.08259 \\\\\n",
       "0.99658\\end{bmatrix} $"
      ],
      "text/plain": [
       "<IPython.core.display.Math object>"
      ]
     },
     "metadata": {},
     "output_type": "display_data"
    },
    {
     "name": "stdout",
     "output_type": "stream",
     "text": [
      "Salida counts = {'1': 1}\n",
      "Given the former angle theta and quantum state, the new prediction is:\n",
      "Prediction = 1\n",
      "int(Prediction) = 1 \n",
      "\n",
      "Overall Probability = -0.8901087677612176\n"
     ]
    },
    {
     "data": {
      "text/latex": [
       "$\\displaystyle \n",
       "$$ |\\psi\\rangle =\\begin{bmatrix}\n",
       "-0.98514 \\\\\n",
       "0.17176\\end{bmatrix} $"
      ],
      "text/plain": [
       "<IPython.core.display.Math object>"
      ]
     },
     "metadata": {},
     "output_type": "display_data"
    },
    {
     "name": "stdout",
     "output_type": "stream",
     "text": [
      "Salida counts = {'0': 1}\n",
      "Given the former angle theta and quantum state, the new prediction is:\n",
      "Prediction = 0\n",
      "int(Prediction) = 0 \n",
      "\n",
      "Overall Probability = 0.05111127569089845\n"
     ]
    },
    {
     "data": {
      "text/latex": [
       "$\\displaystyle \n",
       "$$ |\\psi\\rangle =\\begin{bmatrix}\n",
       "0.08020 \\\\\n",
       "0.99678\\end{bmatrix} $"
      ],
      "text/plain": [
       "<IPython.core.display.Math object>"
      ]
     },
     "metadata": {},
     "output_type": "display_data"
    },
    {
     "name": "stdout",
     "output_type": "stream",
     "text": [
      "Salida counts = {'1': 1}\n",
      "Given the former angle theta and quantum state, the new prediction is:\n",
      "Prediction = 1\n",
      "int(Prediction) = 1 \n",
      "\n",
      "Overall Probability = -0.33967087643515725\n"
     ]
    },
    {
     "data": {
      "text/latex": [
       "$\\displaystyle \n",
       "$$ |\\psi\\rangle =\\begin{bmatrix}\n",
       "-0.50860 \\\\\n",
       "0.86101\\end{bmatrix} $"
      ],
      "text/plain": [
       "<IPython.core.display.Math object>"
      ]
     },
     "metadata": {},
     "output_type": "display_data"
    },
    {
     "name": "stdout",
     "output_type": "stream",
     "text": [
      "Salida counts = {'1': 1}\n",
      "Given the former angle theta and quantum state, the new prediction is:\n",
      "Prediction = 1\n",
      "int(Prediction) = 1 \n",
      "\n",
      "Overall Probability = 0.06195861398925277\n"
     ]
    },
    {
     "data": {
      "text/latex": [
       "$\\displaystyle \n",
       "$$ |\\psi\\rangle =\\begin{bmatrix}\n",
       "0.09717 \\\\\n",
       "0.99527\\end{bmatrix} $"
      ],
      "text/plain": [
       "<IPython.core.display.Math object>"
      ]
     },
     "metadata": {},
     "output_type": "display_data"
    },
    {
     "name": "stdout",
     "output_type": "stream",
     "text": [
      "Salida counts = {'1': 1}\n",
      "Given the former angle theta and quantum state, the new prediction is:\n",
      "Prediction = 1\n",
      "int(Prediction) = 1 \n",
      "\n",
      "Overall Probability = -0.9078581839838777\n"
     ]
    },
    {
     "data": {
      "text/latex": [
       "$\\displaystyle \n",
       "$$ |\\psi\\rangle =\\begin{bmatrix}\n",
       "-0.98954 \\\\\n",
       "0.14423\\end{bmatrix} $"
      ],
      "text/plain": [
       "<IPython.core.display.Math object>"
      ]
     },
     "metadata": {},
     "output_type": "display_data"
    },
    {
     "name": "stdout",
     "output_type": "stream",
     "text": [
      "Salida counts = {'0': 1}\n",
      "Given the former angle theta and quantum state, the new prediction is:\n",
      "Prediction = 0\n",
      "int(Prediction) = 0 \n",
      "\n",
      "Overall Probability = -0.9872202405377628\n"
     ]
    },
    {
     "data": {
      "text/latex": [
       "$\\displaystyle \n",
       "$$ |\\psi\\rangle =\\begin{bmatrix}\n",
       "-0.99980 \\\\\n",
       "0.02007\\end{bmatrix} $"
      ],
      "text/plain": [
       "<IPython.core.display.Math object>"
      ]
     },
     "metadata": {},
     "output_type": "display_data"
    },
    {
     "name": "stdout",
     "output_type": "stream",
     "text": [
      "Salida counts = {'0': 1}\n",
      "Given the former angle theta and quantum state, the new prediction is:\n",
      "Prediction = 0\n",
      "int(Prediction) = 0 \n",
      "\n",
      "Overall Probability = -0.3824429759110829\n"
     ]
    },
    {
     "data": {
      "text/latex": [
       "$\\displaystyle \n",
       "$$ |\\psi\\rangle =\\begin{bmatrix}\n",
       "-0.56525 \\\\\n",
       "0.82492\\end{bmatrix} $"
      ],
      "text/plain": [
       "<IPython.core.display.Math object>"
      ]
     },
     "metadata": {},
     "output_type": "display_data"
    },
    {
     "name": "stdout",
     "output_type": "stream",
     "text": [
      "Salida counts = {'1': 1}\n",
      "Given the former angle theta and quantum state, the new prediction is:\n",
      "Prediction = 1\n",
      "int(Prediction) = 1 \n",
      "\n",
      "Overall Probability = -0.5410069039705145\n"
     ]
    },
    {
     "data": {
      "text/latex": [
       "$\\displaystyle \n",
       "$$ |\\psi\\rangle =\\begin{bmatrix}\n",
       "-0.75116 \\\\\n",
       "0.66012\\end{bmatrix} $"
      ],
      "text/plain": [
       "<IPython.core.display.Math object>"
      ]
     },
     "metadata": {},
     "output_type": "display_data"
    },
    {
     "name": "stdout",
     "output_type": "stream",
     "text": [
      "Salida counts = {'0': 1}\n",
      "Given the former angle theta and quantum state, the new prediction is:\n",
      "Prediction = 0\n",
      "int(Prediction) = 0 \n",
      "\n",
      "Overall Probability = -0.8404070755178263\n"
     ]
    },
    {
     "data": {
      "text/latex": [
       "$\\displaystyle \n",
       "$$ |\\psi\\rangle =\\begin{bmatrix}\n",
       "-0.96874 \\\\\n",
       "0.24807\\end{bmatrix} $"
      ],
      "text/plain": [
       "<IPython.core.display.Math object>"
      ]
     },
     "metadata": {},
     "output_type": "display_data"
    },
    {
     "name": "stdout",
     "output_type": "stream",
     "text": [
      "Salida counts = {'0': 1}\n",
      "Given the former angle theta and quantum state, the new prediction is:\n",
      "Prediction = 0\n",
      "int(Prediction) = 0 \n",
      "\n",
      "Overall Probability = -0.4672132279426968\n"
     ]
    },
    {
     "data": {
      "text/latex": [
       "$\\displaystyle \n",
       "$$ |\\psi\\rangle =\\begin{bmatrix}\n",
       "-0.66977 \\\\\n",
       "0.74257\\end{bmatrix} $"
      ],
      "text/plain": [
       "<IPython.core.display.Math object>"
      ]
     },
     "metadata": {},
     "output_type": "display_data"
    },
    {
     "name": "stdout",
     "output_type": "stream",
     "text": [
      "Salida counts = {'1': 1}\n",
      "Given the former angle theta and quantum state, the new prediction is:\n",
      "Prediction = 1\n",
      "int(Prediction) = 1 \n",
      "\n",
      "Overall Probability = -0.9091128525141872\n"
     ]
    },
    {
     "data": {
      "text/latex": [
       "$\\displaystyle \n",
       "$$ |\\psi\\rangle =\\begin{bmatrix}\n",
       "-0.98983 \\\\\n",
       "0.14228\\end{bmatrix} $"
      ],
      "text/plain": [
       "<IPython.core.display.Math object>"
      ]
     },
     "metadata": {},
     "output_type": "display_data"
    },
    {
     "name": "stdout",
     "output_type": "stream",
     "text": [
      "Salida counts = {'0': 1}\n",
      "Given the former angle theta and quantum state, the new prediction is:\n",
      "Prediction = 0\n",
      "int(Prediction) = 0 \n",
      "\n",
      "Overall Probability = -0.34176199065233953\n"
     ]
    },
    {
     "data": {
      "text/latex": [
       "$\\displaystyle \n",
       "$$ |\\psi\\rangle =\\begin{bmatrix}\n",
       "-0.51142 \\\\\n",
       "0.85933\\end{bmatrix} $"
      ],
      "text/plain": [
       "<IPython.core.display.Math object>"
      ]
     },
     "metadata": {},
     "output_type": "display_data"
    },
    {
     "name": "stdout",
     "output_type": "stream",
     "text": [
      "Salida counts = {'1': 1}\n",
      "Given the former angle theta and quantum state, the new prediction is:\n",
      "Prediction = 1\n",
      "int(Prediction) = 1 \n",
      "\n",
      "Overall Probability = -1.0881198093179392\n"
     ]
    },
    {
     "data": {
      "text/latex": [
       "$\\displaystyle \n",
       "$$ |\\psi\\rangle =\\begin{bmatrix}\n",
       "-0.99044 \\\\\n",
       "-0.13798\\end{bmatrix} $"
      ],
      "text/plain": [
       "<IPython.core.display.Math object>"
      ]
     },
     "metadata": {},
     "output_type": "display_data"
    },
    {
     "name": "stdout",
     "output_type": "stream",
     "text": [
      "Salida counts = {'0': 1}\n",
      "Given the former angle theta and quantum state, the new prediction is:\n",
      "Prediction = 0\n",
      "int(Prediction) = 0 \n",
      "\n",
      "Overall Probability = -1.0479816643441835\n"
     ]
    },
    {
     "data": {
      "text/latex": [
       "$\\displaystyle \n",
       "$$ |\\psi\\rangle =\\begin{bmatrix}\n",
       "-0.99716 \\\\\n",
       "-0.07530\\end{bmatrix} $"
      ],
      "text/plain": [
       "<IPython.core.display.Math object>"
      ]
     },
     "metadata": {},
     "output_type": "display_data"
    },
    {
     "name": "stdout",
     "output_type": "stream",
     "text": [
      "Salida counts = {'0': 1}\n",
      "Given the former angle theta and quantum state, the new prediction is:\n",
      "Prediction = 0\n",
      "int(Prediction) = 0 \n",
      "\n",
      "Overall Probability = -0.7134061162251795\n"
     ]
    },
    {
     "data": {
      "text/latex": [
       "$\\displaystyle \n",
       "$$ |\\psi\\rangle =\\begin{bmatrix}\n",
       "-0.90037 \\\\\n",
       "0.43513\\end{bmatrix} $"
      ],
      "text/plain": [
       "<IPython.core.display.Math object>"
      ]
     },
     "metadata": {},
     "output_type": "display_data"
    },
    {
     "name": "stdout",
     "output_type": "stream",
     "text": [
      "Salida counts = {'0': 1}\n",
      "Given the former angle theta and quantum state, the new prediction is:\n",
      "Prediction = 0\n",
      "int(Prediction) = 0 \n",
      "\n",
      "Overall Probability = -0.31525224645263145\n"
     ]
    },
    {
     "data": {
      "text/latex": [
       "$\\displaystyle \n",
       "$$ |\\psi\\rangle =\\begin{bmatrix}\n",
       "-0.47521 \\\\\n",
       "0.87988\\end{bmatrix} $"
      ],
      "text/plain": [
       "<IPython.core.display.Math object>"
      ]
     },
     "metadata": {},
     "output_type": "display_data"
    },
    {
     "name": "stdout",
     "output_type": "stream",
     "text": [
      "Salida counts = {'1': 1}\n",
      "Given the former angle theta and quantum state, the new prediction is:\n",
      "Prediction = 1\n",
      "int(Prediction) = 1 \n",
      "\n",
      "Overall Probability = -0.8893452184655944\n"
     ]
    },
    {
     "data": {
      "text/latex": [
       "$\\displaystyle \n",
       "$$ |\\psi\\rangle =\\begin{bmatrix}\n",
       "-0.98493 \\\\\n",
       "0.17294\\end{bmatrix} $"
      ],
      "text/plain": [
       "<IPython.core.display.Math object>"
      ]
     },
     "metadata": {},
     "output_type": "display_data"
    },
    {
     "name": "stdout",
     "output_type": "stream",
     "text": [
      "Salida counts = {'0': 1}\n",
      "Given the former angle theta and quantum state, the new prediction is:\n",
      "Prediction = 0\n",
      "int(Prediction) = 0 \n",
      "\n",
      "Overall Probability = -0.5395843445402282\n"
     ]
    },
    {
     "data": {
      "text/latex": [
       "$\\displaystyle \n",
       "$$ |\\psi\\rangle =\\begin{bmatrix}\n",
       "-0.74968 \\\\\n",
       "0.66180\\end{bmatrix} $"
      ],
      "text/plain": [
       "<IPython.core.display.Math object>"
      ]
     },
     "metadata": {},
     "output_type": "display_data"
    },
    {
     "name": "stdout",
     "output_type": "stream",
     "text": [
      "Salida counts = {'1': 1}\n",
      "Given the former angle theta and quantum state, the new prediction is:\n",
      "Prediction = 1\n",
      "int(Prediction) = 1 \n",
      "\n",
      "Overall Probability = 0.15499811572146108\n"
     ]
    },
    {
     "data": {
      "text/latex": [
       "$\\displaystyle \n",
       "$$ |\\psi\\rangle =\\begin{bmatrix}\n",
       "0.24107 \\\\\n",
       "0.97051\\end{bmatrix} $"
      ],
      "text/plain": [
       "<IPython.core.display.Math object>"
      ]
     },
     "metadata": {},
     "output_type": "display_data"
    },
    {
     "name": "stdout",
     "output_type": "stream",
     "text": [
      "Salida counts = {'1': 1}\n",
      "Given the former angle theta and quantum state, the new prediction is:\n",
      "Prediction = 1\n",
      "int(Prediction) = 1 \n",
      "\n",
      "Overall Probability = -0.9161451080098453\n"
     ]
    },
    {
     "data": {
      "text/latex": [
       "$\\displaystyle \n",
       "$$ |\\psi\\rangle =\\begin{bmatrix}\n",
       "-0.99134 \\\\\n",
       "0.13134\\end{bmatrix} $"
      ],
      "text/plain": [
       "<IPython.core.display.Math object>"
      ]
     },
     "metadata": {},
     "output_type": "display_data"
    },
    {
     "name": "stdout",
     "output_type": "stream",
     "text": [
      "Salida counts = {'0': 1}\n",
      "Given the former angle theta and quantum state, the new prediction is:\n",
      "Prediction = 0\n",
      "int(Prediction) = 0 \n",
      "\n",
      "Overall Probability = -0.4410891251453102\n"
     ]
    },
    {
     "data": {
      "text/latex": [
       "$\\displaystyle \n",
       "$$ |\\psi\\rangle =\\begin{bmatrix}\n",
       "-0.63874 \\\\\n",
       "0.76942\\end{bmatrix} $"
      ],
      "text/plain": [
       "<IPython.core.display.Math object>"
      ]
     },
     "metadata": {},
     "output_type": "display_data"
    },
    {
     "name": "stdout",
     "output_type": "stream",
     "text": [
      "Salida counts = {'1': 1}\n",
      "Given the former angle theta and quantum state, the new prediction is:\n",
      "Prediction = 1\n",
      "int(Prediction) = 1 \n",
      "\n",
      "Overall Probability = -0.442504242588431\n"
     ]
    },
    {
     "data": {
      "text/latex": [
       "$\\displaystyle \n",
       "$$ |\\psi\\rangle =\\begin{bmatrix}\n",
       "-0.64045 \\\\\n",
       "0.76800\\end{bmatrix} $"
      ],
      "text/plain": [
       "<IPython.core.display.Math object>"
      ]
     },
     "metadata": {},
     "output_type": "display_data"
    },
    {
     "name": "stdout",
     "output_type": "stream",
     "text": [
      "Salida counts = {'0': 1}\n",
      "Given the former angle theta and quantum state, the new prediction is:\n",
      "Prediction = 0\n",
      "int(Prediction) = 0 \n",
      "\n",
      "Overall Probability = -0.6771628524647056\n"
     ]
    },
    {
     "data": {
      "text/latex": [
       "$\\displaystyle \n",
       "$$ |\\psi\\rangle =\\begin{bmatrix}\n",
       "-0.87415 \\\\\n",
       "0.48565\\end{bmatrix} $"
      ],
      "text/plain": [
       "<IPython.core.display.Math object>"
      ]
     },
     "metadata": {},
     "output_type": "display_data"
    },
    {
     "name": "stdout",
     "output_type": "stream",
     "text": [
      "Salida counts = {'0': 1}\n",
      "Given the former angle theta and quantum state, the new prediction is:\n",
      "Prediction = 0\n",
      "int(Prediction) = 0 \n",
      "\n",
      "Overall Probability = -0.15112927530811213\n"
     ]
    },
    {
     "data": {
      "text/latex": [
       "$\\displaystyle \n",
       "$$ |\\psi\\rangle =\\begin{bmatrix}\n",
       "-0.23517 \\\\\n",
       "0.97195\\end{bmatrix} $"
      ],
      "text/plain": [
       "<IPython.core.display.Math object>"
      ]
     },
     "metadata": {},
     "output_type": "display_data"
    },
    {
     "name": "stdout",
     "output_type": "stream",
     "text": [
      "Salida counts = {'0': 1}\n",
      "Given the former angle theta and quantum state, the new prediction is:\n",
      "Prediction = 0\n",
      "int(Prediction) = 0 \n",
      "\n",
      "Overall Probability = -0.28865442586932305\n"
     ]
    },
    {
     "data": {
      "text/latex": [
       "$\\displaystyle \n",
       "$$ |\\psi\\rangle =\\begin{bmatrix}\n",
       "-0.43804 \\\\\n",
       "0.89896\\end{bmatrix} $"
      ],
      "text/plain": [
       "<IPython.core.display.Math object>"
      ]
     },
     "metadata": {},
     "output_type": "display_data"
    },
    {
     "name": "stdout",
     "output_type": "stream",
     "text": [
      "Salida counts = {'1': 1}\n",
      "Given the former angle theta and quantum state, the new prediction is:\n",
      "Prediction = 1\n",
      "int(Prediction) = 1 \n",
      "\n",
      "Overall Probability = -0.842707301156727\n"
     ]
    },
    {
     "data": {
      "text/latex": [
       "$\\displaystyle \n",
       "$$ |\\psi\\rangle =\\begin{bmatrix}\n",
       "-0.96963 \\\\\n",
       "0.24457\\end{bmatrix} $"
      ],
      "text/plain": [
       "<IPython.core.display.Math object>"
      ]
     },
     "metadata": {},
     "output_type": "display_data"
    },
    {
     "name": "stdout",
     "output_type": "stream",
     "text": [
      "Salida counts = {'0': 1}\n",
      "Given the former angle theta and quantum state, the new prediction is:\n",
      "Prediction = 0\n",
      "int(Prediction) = 0 \n",
      "\n",
      "Overall Probability = -0.9894169219674915\n"
     ]
    },
    {
     "data": {
      "text/latex": [
       "$\\displaystyle \n",
       "$$ |\\psi\\rangle =\\begin{bmatrix}\n",
       "-0.99986 \\\\\n",
       "0.01662\\end{bmatrix} $"
      ],
      "text/plain": [
       "<IPython.core.display.Math object>"
      ]
     },
     "metadata": {},
     "output_type": "display_data"
    },
    {
     "name": "stdout",
     "output_type": "stream",
     "text": [
      "Salida counts = {'0': 1}\n",
      "Given the former angle theta and quantum state, the new prediction is:\n",
      "Prediction = 0\n",
      "int(Prediction) = 0 \n",
      "\n",
      "Overall Probability = -0.5245863245127197\n"
     ]
    },
    {
     "data": {
      "text/latex": [
       "$\\displaystyle \n",
       "$$ |\\psi\\rangle =\\begin{bmatrix}\n",
       "-0.73388 \\\\\n",
       "0.67928\\end{bmatrix} $"
      ],
      "text/plain": [
       "<IPython.core.display.Math object>"
      ]
     },
     "metadata": {},
     "output_type": "display_data"
    },
    {
     "name": "stdout",
     "output_type": "stream",
     "text": [
      "Salida counts = {'0': 1}\n",
      "Given the former angle theta and quantum state, the new prediction is:\n",
      "Prediction = 0\n",
      "int(Prediction) = 0 \n",
      "\n",
      "Overall Probability = -0.09948476434600446\n"
     ]
    },
    {
     "data": {
      "text/latex": [
       "$\\displaystyle \n",
       "$$ |\\psi\\rangle =\\begin{bmatrix}\n",
       "-0.15564 \\\\\n",
       "0.98781\\end{bmatrix} $"
      ],
      "text/plain": [
       "<IPython.core.display.Math object>"
      ]
     },
     "metadata": {},
     "output_type": "display_data"
    },
    {
     "name": "stdout",
     "output_type": "stream",
     "text": [
      "Salida counts = {'1': 1}\n",
      "Given the former angle theta and quantum state, the new prediction is:\n",
      "Prediction = 1\n",
      "int(Prediction) = 1 \n",
      "\n",
      "Overall Probability = 0.07911331251148848\n"
     ]
    },
    {
     "data": {
      "text/latex": [
       "$\\displaystyle \n",
       "$$ |\\psi\\rangle =\\begin{bmatrix}\n",
       "0.12395 \\\\\n",
       "0.99229\\end{bmatrix} $"
      ],
      "text/plain": [
       "<IPython.core.display.Math object>"
      ]
     },
     "metadata": {},
     "output_type": "display_data"
    },
    {
     "name": "stdout",
     "output_type": "stream",
     "text": [
      "Salida counts = {'1': 1}\n",
      "Given the former angle theta and quantum state, the new prediction is:\n",
      "Prediction = 1\n",
      "int(Prediction) = 1 \n",
      "\n",
      "Overall Probability = -0.9078581839838777\n"
     ]
    },
    {
     "data": {
      "text/latex": [
       "$\\displaystyle \n",
       "$$ |\\psi\\rangle =\\begin{bmatrix}\n",
       "-0.98954 \\\\\n",
       "0.14423\\end{bmatrix} $"
      ],
      "text/plain": [
       "<IPython.core.display.Math object>"
      ]
     },
     "metadata": {},
     "output_type": "display_data"
    },
    {
     "name": "stdout",
     "output_type": "stream",
     "text": [
      "Salida counts = {'0': 1}\n",
      "Given the former angle theta and quantum state, the new prediction is:\n",
      "Prediction = 0\n",
      "int(Prediction) = 0 \n",
      "\n",
      "Overall Probability = -0.8741629874150765\n"
     ]
    },
    {
     "data": {
      "text/latex": [
       "$\\displaystyle \n",
       "$$ |\\psi\\rangle =\\begin{bmatrix}\n",
       "-0.98053 \\\\\n",
       "0.19638\\end{bmatrix} $"
      ],
      "text/plain": [
       "<IPython.core.display.Math object>"
      ]
     },
     "metadata": {},
     "output_type": "display_data"
    },
    {
     "name": "stdout",
     "output_type": "stream",
     "text": [
      "Salida counts = {'0': 1}\n",
      "Given the former angle theta and quantum state, the new prediction is:\n",
      "Prediction = 0\n",
      "int(Prediction) = 0 \n",
      "\n",
      "Overall Probability = -0.7277432042712857\n"
     ]
    },
    {
     "data": {
      "text/latex": [
       "$\\displaystyle \n",
       "$$ |\\psi\\rangle =\\begin{bmatrix}\n",
       "-0.90994 \\\\\n",
       "0.41474\\end{bmatrix} $"
      ],
      "text/plain": [
       "<IPython.core.display.Math object>"
      ]
     },
     "metadata": {},
     "output_type": "display_data"
    },
    {
     "name": "stdout",
     "output_type": "stream",
     "text": [
      "Salida counts = {'0': 1}\n",
      "Given the former angle theta and quantum state, the new prediction is:\n",
      "Prediction = 0\n",
      "int(Prediction) = 0 \n",
      "\n",
      "Overall Probability = -0.4856985843677094\n"
     ]
    },
    {
     "data": {
      "text/latex": [
       "$\\displaystyle \n",
       "$$ |\\psi\\rangle =\\begin{bmatrix}\n",
       "-0.69104 \\\\\n",
       "0.72281\\end{bmatrix} $"
      ],
      "text/plain": [
       "<IPython.core.display.Math object>"
      ]
     },
     "metadata": {},
     "output_type": "display_data"
    },
    {
     "name": "stdout",
     "output_type": "stream",
     "text": [
      "Salida counts = {'0': 1}\n",
      "Given the former angle theta and quantum state, the new prediction is:\n",
      "Prediction = 0\n",
      "int(Prediction) = 0 \n",
      "\n",
      "Overall Probability = -0.8940332635131812\n"
     ]
    },
    {
     "data": {
      "text/latex": [
       "$\\displaystyle \n",
       "$$ |\\psi\\rangle =\\begin{bmatrix}\n",
       "-0.98618 \\\\\n",
       "0.16568\\end{bmatrix} $"
      ],
      "text/plain": [
       "<IPython.core.display.Math object>"
      ]
     },
     "metadata": {},
     "output_type": "display_data"
    },
    {
     "name": "stdout",
     "output_type": "stream",
     "text": [
      "Salida counts = {'0': 1}\n",
      "Given the former angle theta and quantum state, the new prediction is:\n",
      "Prediction = 0\n",
      "int(Prediction) = 0 \n",
      "\n",
      "Overall Probability = -0.7218880844631752\n"
     ]
    },
    {
     "data": {
      "text/latex": [
       "$\\displaystyle \n",
       "$$ |\\psi\\rangle =\\begin{bmatrix}\n",
       "-0.90609 \\\\\n",
       "0.42309\\end{bmatrix} $"
      ],
      "text/plain": [
       "<IPython.core.display.Math object>"
      ]
     },
     "metadata": {},
     "output_type": "display_data"
    },
    {
     "name": "stdout",
     "output_type": "stream",
     "text": [
      "Salida counts = {'0': 1}\n",
      "Given the former angle theta and quantum state, the new prediction is:\n",
      "Prediction = 0\n",
      "int(Prediction) = 0 \n",
      "\n",
      "Overall Probability = 0.044430284912209767\n"
     ]
    },
    {
     "data": {
      "text/latex": [
       "$\\displaystyle \n",
       "$$ |\\psi\\rangle =\\begin{bmatrix}\n",
       "0.06973 \\\\\n",
       "0.99757\\end{bmatrix} $"
      ],
      "text/plain": [
       "<IPython.core.display.Math object>"
      ]
     },
     "metadata": {},
     "output_type": "display_data"
    },
    {
     "name": "stdout",
     "output_type": "stream",
     "text": [
      "Salida counts = {'1': 1}\n",
      "Given the former angle theta and quantum state, the new prediction is:\n",
      "Prediction = 1\n",
      "int(Prediction) = 1 \n",
      "\n",
      "Overall Probability = -1.042243683377006\n"
     ]
    },
    {
     "data": {
      "text/latex": [
       "$\\displaystyle \n",
       "$$ |\\psi\\rangle =\\begin{bmatrix}\n",
       "-0.99780 \\\\\n",
       "-0.06631\\end{bmatrix} $"
      ],
      "text/plain": [
       "<IPython.core.display.Math object>"
      ]
     },
     "metadata": {},
     "output_type": "display_data"
    },
    {
     "name": "stdout",
     "output_type": "stream",
     "text": [
      "Salida counts = {'0': 1}\n",
      "Given the former angle theta and quantum state, the new prediction is:\n",
      "Prediction = 0\n",
      "int(Prediction) = 0 \n",
      "\n",
      "Overall Probability = -0.36471570531138914\n"
     ]
    },
    {
     "data": {
      "text/latex": [
       "$\\displaystyle \n",
       "$$ |\\psi\\rangle =\\begin{bmatrix}\n",
       "-0.54207 \\\\\n",
       "0.84034\\end{bmatrix} $"
      ],
      "text/plain": [
       "<IPython.core.display.Math object>"
      ]
     },
     "metadata": {},
     "output_type": "display_data"
    },
    {
     "name": "stdout",
     "output_type": "stream",
     "text": [
      "Salida counts = {'1': 1}\n",
      "Given the former angle theta and quantum state, the new prediction is:\n",
      "Prediction = 1\n",
      "int(Prediction) = 1 \n",
      "\n",
      "Overall Probability = -0.9104990996234532\n"
     ]
    },
    {
     "data": {
      "text/latex": [
       "$\\displaystyle \n",
       "$$ |\\psi\\rangle =\\begin{bmatrix}\n",
       "-0.99013 \\\\\n",
       "0.14013\\end{bmatrix} $"
      ],
      "text/plain": [
       "<IPython.core.display.Math object>"
      ]
     },
     "metadata": {},
     "output_type": "display_data"
    },
    {
     "name": "stdout",
     "output_type": "stream",
     "text": [
      "Salida counts = {'0': 1}\n",
      "Given the former angle theta and quantum state, the new prediction is:\n",
      "Prediction = 0\n",
      "int(Prediction) = 0 \n",
      "\n",
      "Overall Probability = -0.3254520331989573\n"
     ]
    },
    {
     "data": {
      "text/latex": [
       "$\\displaystyle \n",
       "$$ |\\psi\\rangle =\\begin{bmatrix}\n",
       "-0.48924 \\\\\n",
       "0.87215\\end{bmatrix} $"
      ],
      "text/plain": [
       "<IPython.core.display.Math object>"
      ]
     },
     "metadata": {},
     "output_type": "display_data"
    },
    {
     "name": "stdout",
     "output_type": "stream",
     "text": [
      "Salida counts = {'0': 1}\n",
      "Given the former angle theta and quantum state, the new prediction is:\n",
      "Prediction = 0\n",
      "int(Prediction) = 0 \n",
      "\n",
      "Overall Probability = -0.5003471338650802\n"
     ]
    },
    {
     "data": {
      "text/latex": [
       "$\\displaystyle \n",
       "$$ |\\psi\\rangle =\\begin{bmatrix}\n",
       "-0.70749 \\\\\n",
       "0.70672\\end{bmatrix} $"
      ],
      "text/plain": [
       "<IPython.core.display.Math object>"
      ]
     },
     "metadata": {},
     "output_type": "display_data"
    },
    {
     "name": "stdout",
     "output_type": "stream",
     "text": [
      "Salida counts = {'1': 1}\n",
      "Given the former angle theta and quantum state, the new prediction is:\n",
      "Prediction = 1\n",
      "int(Prediction) = 1 \n",
      "\n",
      "Overall Probability = -1.0850948130893348\n"
     ]
    },
    {
     "data": {
      "text/latex": [
       "$\\displaystyle \n",
       "$$ |\\psi\\rangle =\\begin{bmatrix}\n",
       "-0.99108 \\\\\n",
       "-0.13327\\end{bmatrix} $"
      ],
      "text/plain": [
       "<IPython.core.display.Math object>"
      ]
     },
     "metadata": {},
     "output_type": "display_data"
    },
    {
     "name": "stdout",
     "output_type": "stream",
     "text": [
      "Salida counts = {'0': 1}\n",
      "Given the former angle theta and quantum state, the new prediction is:\n",
      "Prediction = 0\n",
      "int(Prediction) = 0 \n",
      "\n",
      "Overall Probability = -0.47764815558767776\n"
     ]
    },
    {
     "data": {
      "text/latex": [
       "$\\displaystyle \n",
       "$$ |\\psi\\rangle =\\begin{bmatrix}\n",
       "-0.68185 \\\\\n",
       "0.73149\\end{bmatrix} $"
      ],
      "text/plain": [
       "<IPython.core.display.Math object>"
      ]
     },
     "metadata": {},
     "output_type": "display_data"
    },
    {
     "name": "stdout",
     "output_type": "stream",
     "text": [
      "Salida counts = {'1': 1}\n",
      "Given the former angle theta and quantum state, the new prediction is:\n",
      "Prediction = 1\n",
      "int(Prediction) = 1 \n",
      "\n",
      "Overall Probability = -1.0820829380914558\n"
     ]
    },
    {
     "data": {
      "text/latex": [
       "$\\displaystyle \n",
       "$$ |\\psi\\rangle =\\begin{bmatrix}\n",
       "-0.99170 \\\\\n",
       "-0.12858\\end{bmatrix} $"
      ],
      "text/plain": [
       "<IPython.core.display.Math object>"
      ]
     },
     "metadata": {},
     "output_type": "display_data"
    },
    {
     "name": "stdout",
     "output_type": "stream",
     "text": [
      "Salida counts = {'0': 1}\n",
      "Given the former angle theta and quantum state, the new prediction is:\n",
      "Prediction = 0\n",
      "int(Prediction) = 0 \n",
      "\n",
      "Overall Probability = -0.8890091649164311\n"
     ]
    },
    {
     "data": {
      "text/latex": [
       "$\\displaystyle \n",
       "$$ |\\psi\\rangle =\\begin{bmatrix}\n",
       "-0.98484 \\\\\n",
       "0.17346\\end{bmatrix} $"
      ],
      "text/plain": [
       "<IPython.core.display.Math object>"
      ]
     },
     "metadata": {},
     "output_type": "display_data"
    },
    {
     "name": "stdout",
     "output_type": "stream",
     "text": [
      "Salida counts = {'0': 1}\n",
      "Given the former angle theta and quantum state, the new prediction is:\n",
      "Prediction = 0\n",
      "int(Prediction) = 0 \n",
      "\n",
      "Overall Probability = -1.0855880376754732\n"
     ]
    },
    {
     "data": {
      "text/latex": [
       "$\\displaystyle \n",
       "$$ |\\psi\\rangle =\\begin{bmatrix}\n",
       "-0.99098 \\\\\n",
       "-0.13404\\end{bmatrix} $"
      ],
      "text/plain": [
       "<IPython.core.display.Math object>"
      ]
     },
     "metadata": {},
     "output_type": "display_data"
    },
    {
     "name": "stdout",
     "output_type": "stream",
     "text": [
      "Salida counts = {'0': 1}\n",
      "Given the former angle theta and quantum state, the new prediction is:\n",
      "Prediction = 0\n",
      "int(Prediction) = 0 \n",
      "\n",
      "Overall Probability = -0.9090353196714256\n"
     ]
    },
    {
     "data": {
      "text/latex": [
       "$\\displaystyle \n",
       "$$ |\\psi\\rangle =\\begin{bmatrix}\n",
       "-0.98981 \\\\\n",
       "0.14240\\end{bmatrix} $"
      ],
      "text/plain": [
       "<IPython.core.display.Math object>"
      ]
     },
     "metadata": {},
     "output_type": "display_data"
    },
    {
     "name": "stdout",
     "output_type": "stream",
     "text": [
      "Salida counts = {'0': 1}\n",
      "Given the former angle theta and quantum state, the new prediction is:\n",
      "Prediction = 0\n",
      "int(Prediction) = 0 \n",
      "\n",
      "Overall Probability = -0.8548478604404612\n"
     ]
    },
    {
     "data": {
      "text/latex": [
       "$\\displaystyle \n",
       "$$ |\\psi\\rangle =\\begin{bmatrix}\n",
       "-0.97412 \\\\\n",
       "0.22603\\end{bmatrix} $"
      ],
      "text/plain": [
       "<IPython.core.display.Math object>"
      ]
     },
     "metadata": {},
     "output_type": "display_data"
    },
    {
     "name": "stdout",
     "output_type": "stream",
     "text": [
      "Salida counts = {'0': 1}\n",
      "Given the former angle theta and quantum state, the new prediction is:\n",
      "Prediction = 0\n",
      "int(Prediction) = 0 \n",
      "\n",
      "Overall Probability = -1.0838268711760475\n"
     ]
    },
    {
     "data": {
      "text/latex": [
       "$\\displaystyle \n",
       "$$ |\\psi\\rangle =\\begin{bmatrix}\n",
       "-0.99134 \\\\\n",
       "-0.13129\\end{bmatrix} $"
      ],
      "text/plain": [
       "<IPython.core.display.Math object>"
      ]
     },
     "metadata": {},
     "output_type": "display_data"
    },
    {
     "name": "stdout",
     "output_type": "stream",
     "text": [
      "Salida counts = {'0': 1}\n",
      "Given the former angle theta and quantum state, the new prediction is:\n",
      "Prediction = 0\n",
      "int(Prediction) = 0 \n",
      "\n",
      "Overall Probability = -0.4962894182928998\n"
     ]
    },
    {
     "data": {
      "text/latex": [
       "$\\displaystyle \n",
       "$$ |\\psi\\rangle =\\begin{bmatrix}\n",
       "-0.70297 \\\\\n",
       "0.71122\\end{bmatrix} $"
      ],
      "text/plain": [
       "<IPython.core.display.Math object>"
      ]
     },
     "metadata": {},
     "output_type": "display_data"
    },
    {
     "name": "stdout",
     "output_type": "stream",
     "text": [
      "Salida counts = {'1': 1}\n",
      "Given the former angle theta and quantum state, the new prediction is:\n",
      "Prediction = 1\n",
      "int(Prediction) = 1 \n",
      "\n",
      "Overall Probability = -0.7224405762232788\n"
     ]
    },
    {
     "data": {
      "text/latex": [
       "$\\displaystyle \n",
       "$$ |\\psi\\rangle =\\begin{bmatrix}\n",
       "-0.90645 \\\\\n",
       "0.42231\\end{bmatrix} $"
      ],
      "text/plain": [
       "<IPython.core.display.Math object>"
      ]
     },
     "metadata": {},
     "output_type": "display_data"
    },
    {
     "name": "stdout",
     "output_type": "stream",
     "text": [
      "Salida counts = {'1': 1}\n",
      "Given the former angle theta and quantum state, the new prediction is:\n",
      "Prediction = 1\n",
      "int(Prediction) = 1 \n",
      "\n",
      "Overall Probability = -1.083519358040138\n"
     ]
    },
    {
     "data": {
      "text/latex": [
       "$\\displaystyle \n",
       "$$ |\\psi\\rangle =\\begin{bmatrix}\n",
       "-0.99141 \\\\\n",
       "-0.13082\\end{bmatrix} $"
      ],
      "text/plain": [
       "<IPython.core.display.Math object>"
      ]
     },
     "metadata": {},
     "output_type": "display_data"
    },
    {
     "name": "stdout",
     "output_type": "stream",
     "text": [
      "Salida counts = {'0': 1}\n",
      "Given the former angle theta and quantum state, the new prediction is:\n",
      "Prediction = 0\n",
      "int(Prediction) = 0 \n",
      "\n",
      "Overall Probability = -0.906525982610807\n"
     ]
    },
    {
     "data": {
      "text/latex": [
       "$\\displaystyle \n",
       "$$ |\\psi\\rangle =\\begin{bmatrix}\n",
       "-0.98924 \\\\\n",
       "0.14630\\end{bmatrix} $"
      ],
      "text/plain": [
       "<IPython.core.display.Math object>"
      ]
     },
     "metadata": {},
     "output_type": "display_data"
    },
    {
     "name": "stdout",
     "output_type": "stream",
     "text": [
      "Salida counts = {'0': 1}\n",
      "Given the former angle theta and quantum state, the new prediction is:\n",
      "Prediction = 0\n",
      "int(Prediction) = 0 \n",
      "\n",
      "Overall Probability = -1.0851174069088327\n"
     ]
    },
    {
     "data": {
      "text/latex": [
       "$\\displaystyle \n",
       "$$ |\\psi\\rangle =\\begin{bmatrix}\n",
       "-0.99108 \\\\\n",
       "-0.13330\\end{bmatrix} $"
      ],
      "text/plain": [
       "<IPython.core.display.Math object>"
      ]
     },
     "metadata": {},
     "output_type": "display_data"
    },
    {
     "name": "stdout",
     "output_type": "stream",
     "text": [
      "Salida counts = {'0': 1}\n",
      "Given the former angle theta and quantum state, the new prediction is:\n",
      "Prediction = 0\n",
      "int(Prediction) = 0 \n",
      "\n",
      "Overall Probability = -0.9526929881140621\n"
     ]
    },
    {
     "data": {
      "text/latex": [
       "$\\displaystyle \n",
       "$$ |\\psi\\rangle =\\begin{bmatrix}\n",
       "-0.99724 \\\\\n",
       "0.07424\\end{bmatrix} $"
      ],
      "text/plain": [
       "<IPython.core.display.Math object>"
      ]
     },
     "metadata": {},
     "output_type": "display_data"
    },
    {
     "name": "stdout",
     "output_type": "stream",
     "text": [
      "Salida counts = {'0': 1}\n",
      "Given the former angle theta and quantum state, the new prediction is:\n",
      "Prediction = 0\n",
      "int(Prediction) = 0 \n",
      "\n",
      "Overall Probability = -1.070841467133318\n"
     ]
    },
    {
     "data": {
      "text/latex": [
       "$\\displaystyle \n",
       "$$ |\\psi\\rangle =\\begin{bmatrix}\n",
       "-0.99382 \\\\\n",
       "-0.11105\\end{bmatrix} $"
      ],
      "text/plain": [
       "<IPython.core.display.Math object>"
      ]
     },
     "metadata": {},
     "output_type": "display_data"
    },
    {
     "name": "stdout",
     "output_type": "stream",
     "text": [
      "Salida counts = {'0': 1}\n",
      "Given the former angle theta and quantum state, the new prediction is:\n",
      "Prediction = 0\n",
      "int(Prediction) = 0 \n",
      "\n",
      "Overall Probability = -0.34636786640565326\n"
     ]
    },
    {
     "data": {
      "text/latex": [
       "$\\displaystyle \n",
       "$$ |\\psi\\rangle =\\begin{bmatrix}\n",
       "-0.51763 \\\\\n",
       "0.85561\\end{bmatrix} $"
      ],
      "text/plain": [
       "<IPython.core.display.Math object>"
      ]
     },
     "metadata": {},
     "output_type": "display_data"
    },
    {
     "name": "stdout",
     "output_type": "stream",
     "text": [
      "Salida counts = {'1': 1}\n",
      "Given the former angle theta and quantum state, the new prediction is:\n",
      "Prediction = 1\n",
      "int(Prediction) = 1 \n",
      "\n",
      "Overall Probability = -0.3338921540983598\n"
     ]
    },
    {
     "data": {
      "text/latex": [
       "$\\displaystyle \n",
       "$$ |\\psi\\rangle =\\begin{bmatrix}\n",
       "-0.50076 \\\\\n",
       "0.86559\\end{bmatrix} $"
      ],
      "text/plain": [
       "<IPython.core.display.Math object>"
      ]
     },
     "metadata": {},
     "output_type": "display_data"
    },
    {
     "name": "stdout",
     "output_type": "stream",
     "text": [
      "Salida counts = {'1': 1}\n",
      "Given the former angle theta and quantum state, the new prediction is:\n",
      "Prediction = 1\n",
      "int(Prediction) = 1 \n",
      "\n",
      "Overall Probability = -0.6759106361468705\n"
     ]
    },
    {
     "data": {
      "text/latex": [
       "$\\displaystyle \n",
       "$$ |\\psi\\rangle =\\begin{bmatrix}\n",
       "-0.87319 \\\\\n",
       "0.48737\\end{bmatrix} $"
      ],
      "text/plain": [
       "<IPython.core.display.Math object>"
      ]
     },
     "metadata": {},
     "output_type": "display_data"
    },
    {
     "name": "stdout",
     "output_type": "stream",
     "text": [
      "Salida counts = {'0': 1}\n",
      "Given the former angle theta and quantum state, the new prediction is:\n",
      "Prediction = 0\n",
      "int(Prediction) = 0 \n",
      "\n",
      "Overall Probability = -1.0846572070352078\n"
     ]
    },
    {
     "data": {
      "text/latex": [
       "$\\displaystyle \n",
       "$$ |\\psi\\rangle =\\begin{bmatrix}\n",
       "-0.99117 \\\\\n",
       "-0.13259\\end{bmatrix} $"
      ],
      "text/plain": [
       "<IPython.core.display.Math object>"
      ]
     },
     "metadata": {},
     "output_type": "display_data"
    },
    {
     "name": "stdout",
     "output_type": "stream",
     "text": [
      "Salida counts = {'0': 1}\n",
      "Given the former angle theta and quantum state, the new prediction is:\n",
      "Prediction = 0\n",
      "int(Prediction) = 0 \n",
      "\n",
      "Overall Probability = -1.0640321286959773\n"
     ]
    },
    {
     "data": {
      "text/latex": [
       "$\\displaystyle \n",
       "$$ |\\psi\\rangle =\\begin{bmatrix}\n",
       "-0.99495 \\\\\n",
       "-0.10041\\end{bmatrix} $"
      ],
      "text/plain": [
       "<IPython.core.display.Math object>"
      ]
     },
     "metadata": {},
     "output_type": "display_data"
    },
    {
     "name": "stdout",
     "output_type": "stream",
     "text": [
      "Salida counts = {'0': 1}\n",
      "Given the former angle theta and quantum state, the new prediction is:\n",
      "Prediction = 0\n",
      "int(Prediction) = 0 \n",
      "\n",
      "Overall Probability = -1.0534404355988667\n"
     ]
    },
    {
     "data": {
      "text/latex": [
       "$\\displaystyle \n",
       "$$ |\\psi\\rangle =\\begin{bmatrix}\n",
       "-0.99648 \\\\\n",
       "-0.08385\\end{bmatrix} $"
      ],
      "text/plain": [
       "<IPython.core.display.Math object>"
      ]
     },
     "metadata": {},
     "output_type": "display_data"
    },
    {
     "name": "stdout",
     "output_type": "stream",
     "text": [
      "Salida counts = {'0': 1}\n",
      "Given the former angle theta and quantum state, the new prediction is:\n",
      "Prediction = 0\n",
      "int(Prediction) = 0 \n",
      "\n",
      "Overall Probability = -1.0697001885128679\n"
     ]
    },
    {
     "data": {
      "text/latex": [
       "$\\displaystyle \n",
       "$$ |\\psi\\rangle =\\begin{bmatrix}\n",
       "-0.99401 \\\\\n",
       "-0.10927\\end{bmatrix} $"
      ],
      "text/plain": [
       "<IPython.core.display.Math object>"
      ]
     },
     "metadata": {},
     "output_type": "display_data"
    },
    {
     "name": "stdout",
     "output_type": "stream",
     "text": [
      "Salida counts = {'0': 1}\n",
      "Given the former angle theta and quantum state, the new prediction is:\n",
      "Prediction = 0\n",
      "int(Prediction) = 0 \n",
      "\n",
      "Overall Probability = -0.3094545071768432\n"
     ]
    },
    {
     "data": {
      "text/latex": [
       "$\\displaystyle \n",
       "$$ |\\psi\\rangle =\\begin{bmatrix}\n",
       "-0.46717 \\\\\n",
       "0.88417\\end{bmatrix} $"
      ],
      "text/plain": [
       "<IPython.core.display.Math object>"
      ]
     },
     "metadata": {},
     "output_type": "display_data"
    },
    {
     "name": "stdout",
     "output_type": "stream",
     "text": [
      "Salida counts = {'1': 1}\n",
      "Given the former angle theta and quantum state, the new prediction is:\n",
      "Prediction = 1\n",
      "int(Prediction) = 1 \n",
      "\n",
      "Overall Probability = -0.28954314941162557\n"
     ]
    },
    {
     "data": {
      "text/latex": [
       "$\\displaystyle \n",
       "$$ |\\psi\\rangle =\\begin{bmatrix}\n",
       "-0.43929 \\\\\n",
       "0.89834\\end{bmatrix} $"
      ],
      "text/plain": [
       "<IPython.core.display.Math object>"
      ]
     },
     "metadata": {},
     "output_type": "display_data"
    },
    {
     "name": "stdout",
     "output_type": "stream",
     "text": [
      "Salida counts = {'1': 1}\n",
      "Given the former angle theta and quantum state, the new prediction is:\n",
      "Prediction = 1\n",
      "int(Prediction) = 1 \n",
      "\n",
      "Overall Probability = -0.7175098464271408\n"
     ]
    },
    {
     "data": {
      "text/latex": [
       "$\\displaystyle \n",
       "$$ |\\psi\\rangle =\\begin{bmatrix}\n",
       "-0.90315 \\\\\n",
       "0.42932\\end{bmatrix} $"
      ],
      "text/plain": [
       "<IPython.core.display.Math object>"
      ]
     },
     "metadata": {},
     "output_type": "display_data"
    },
    {
     "name": "stdout",
     "output_type": "stream",
     "text": [
      "Salida counts = {'1': 1}\n",
      "Given the former angle theta and quantum state, the new prediction is:\n",
      "Prediction = 1\n",
      "int(Prediction) = 1 \n",
      "\n",
      "Overall Probability = -0.44535695998743496\n"
     ]
    },
    {
     "data": {
      "text/latex": [
       "$\\displaystyle \n",
       "$$ |\\psi\\rangle =\\begin{bmatrix}\n",
       "-0.64388 \\\\\n",
       "0.76512\\end{bmatrix} $"
      ],
      "text/plain": [
       "<IPython.core.display.Math object>"
      ]
     },
     "metadata": {},
     "output_type": "display_data"
    },
    {
     "name": "stdout",
     "output_type": "stream",
     "text": [
      "Salida counts = {'0': 1}\n",
      "Given the former angle theta and quantum state, the new prediction is:\n",
      "Prediction = 0\n",
      "int(Prediction) = 0 \n",
      "\n",
      "Overall Probability = -1.0865453196583845\n"
     ]
    },
    {
     "data": {
      "text/latex": [
       "$\\displaystyle \n",
       "$$ |\\psi\\rangle =\\begin{bmatrix}\n",
       "-0.99077 \\\\\n",
       "-0.13553\\end{bmatrix} $"
      ],
      "text/plain": [
       "<IPython.core.display.Math object>"
      ]
     },
     "metadata": {},
     "output_type": "display_data"
    },
    {
     "name": "stdout",
     "output_type": "stream",
     "text": [
      "Salida counts = {'0': 1}\n",
      "Given the former angle theta and quantum state, the new prediction is:\n",
      "Prediction = 0\n",
      "int(Prediction) = 0 \n",
      "\n",
      "Overall Probability = -0.9876384633811992\n"
     ]
    },
    {
     "data": {
      "text/latex": [
       "$\\displaystyle \n",
       "$$ |\\psi\\rangle =\\begin{bmatrix}\n",
       "-0.99981 \\\\\n",
       "0.01942\\end{bmatrix} $"
      ],
      "text/plain": [
       "<IPython.core.display.Math object>"
      ]
     },
     "metadata": {},
     "output_type": "display_data"
    },
    {
     "name": "stdout",
     "output_type": "stream",
     "text": [
      "Salida counts = {'0': 1}\n",
      "Given the former angle theta and quantum state, the new prediction is:\n",
      "Prediction = 0\n",
      "int(Prediction) = 0 \n",
      "\n",
      "Overall Probability = -0.9101367913283\n"
     ]
    },
    {
     "data": {
      "text/latex": [
       "$\\displaystyle \n",
       "$$ |\\psi\\rangle =\\begin{bmatrix}\n",
       "-0.99005 \\\\\n",
       "0.14069\\end{bmatrix} $"
      ],
      "text/plain": [
       "<IPython.core.display.Math object>"
      ]
     },
     "metadata": {},
     "output_type": "display_data"
    },
    {
     "name": "stdout",
     "output_type": "stream",
     "text": [
      "Salida counts = {'0': 1}\n",
      "Given the former angle theta and quantum state, the new prediction is:\n",
      "Prediction = 0\n",
      "int(Prediction) = 0 \n",
      "\n",
      "Overall Probability = -0.3305357127747584\n"
     ]
    },
    {
     "data": {
      "text/latex": [
       "$\\displaystyle \n",
       "$$ |\\psi\\rangle =\\begin{bmatrix}\n",
       "-0.49619 \\\\\n",
       "0.86821\\end{bmatrix} $"
      ],
      "text/plain": [
       "<IPython.core.display.Math object>"
      ]
     },
     "metadata": {},
     "output_type": "display_data"
    },
    {
     "name": "stdout",
     "output_type": "stream",
     "text": [
      "Salida counts = {'1': 1}\n",
      "Given the former angle theta and quantum state, the new prediction is:\n",
      "Prediction = 1\n",
      "int(Prediction) = 1 \n",
      "\n",
      "Overall Probability = -0.29916517161438577\n"
     ]
    },
    {
     "data": {
      "text/latex": [
       "$\\displaystyle \n",
       "$$ |\\psi\\rangle =\\begin{bmatrix}\n",
       "-0.45282 \\\\\n",
       "0.89160\\end{bmatrix} $"
      ],
      "text/plain": [
       "<IPython.core.display.Math object>"
      ]
     },
     "metadata": {},
     "output_type": "display_data"
    },
    {
     "name": "stdout",
     "output_type": "stream",
     "text": [
      "Salida counts = {'1': 1}\n",
      "Given the former angle theta and quantum state, the new prediction is:\n",
      "Prediction = 1\n",
      "int(Prediction) = 1 \n",
      "\n",
      "\n",
      "The precision score of the Variational Hybrid Quantum Circuit with Data Train classifier is 0.70\n",
      "The recall score of the Variational Hybrid Quantum Circuit with Data Train classifier is 0.59\n",
      "The specificity score of the Variational Hybrid Quantum Circuit with Data Train classifier is 0.85\n",
      "The npv score of the Variational Hybrid Quantum Circuit with Data Train classifier is 0.77\n",
      "The information level is: 0.73\n"
     ]
    }
   ],
   "source": [
    "# Listing 3.28: Run the PQC with the weighted pre‐processing\n",
    "classifier_report(\"Variational Hybrid Quantum Circuit with Data Train\", \n",
    "    run,\n",
    "    lambda passenger: post_process(pqc(backend, pre_process_weighted(passenger))),\n",
    "    train_input,\n",
    "    train_labels)"
   ]
  },
  {
   "cell_type": "code",
   "execution_count": 24,
   "metadata": {
    "scrolled": true,
    "tags": []
   },
   "outputs": [
    {
     "name": "stdout",
     "output_type": "stream",
     "text": [
      "Overall Probability = -0.36346103678107977\n"
     ]
    },
    {
     "data": {
      "text/latex": [
       "$\\displaystyle \n",
       "$$ |\\psi\\rangle =\\begin{bmatrix}\n",
       "-0.54041 \\\\\n",
       "0.84140\\end{bmatrix} $"
      ],
      "text/plain": [
       "<IPython.core.display.Math object>"
      ]
     },
     "metadata": {},
     "output_type": "display_data"
    },
    {
     "name": "stdout",
     "output_type": "stream",
     "text": [
      "Salida counts = {'0': 1}\n",
      "Given the former angle theta and quantum state, the new prediction is:\n",
      "Prediction = 0\n",
      "int(Prediction) = 0 \n",
      "\n",
      "Overall Probability = -0.5243772130910014\n"
     ]
    },
    {
     "data": {
      "text/latex": [
       "$\\displaystyle \n",
       "$$ |\\psi\\rangle =\\begin{bmatrix}\n",
       "-0.73366 \\\\\n",
       "0.67952\\end{bmatrix} $"
      ],
      "text/plain": [
       "<IPython.core.display.Math object>"
      ]
     },
     "metadata": {},
     "output_type": "display_data"
    },
    {
     "name": "stdout",
     "output_type": "stream",
     "text": [
      "Salida counts = {'0': 1}\n",
      "Given the former angle theta and quantum state, the new prediction is:\n",
      "Prediction = 0\n",
      "int(Prediction) = 0 \n",
      "\n",
      "Overall Probability = -1.0838207613483348\n"
     ]
    },
    {
     "data": {
      "text/latex": [
       "$\\displaystyle \n",
       "$$ |\\psi\\rangle =\\begin{bmatrix}\n",
       "-0.99134 \\\\\n",
       "-0.13129\\end{bmatrix} $"
      ],
      "text/plain": [
       "<IPython.core.display.Math object>"
      ]
     },
     "metadata": {},
     "output_type": "display_data"
    },
    {
     "name": "stdout",
     "output_type": "stream",
     "text": [
      "Salida counts = {'0': 1}\n",
      "Given the former angle theta and quantum state, the new prediction is:\n",
      "Prediction = 0\n",
      "int(Prediction) = 0 \n",
      "\n",
      "Overall Probability = -0.3035696977183692\n"
     ]
    },
    {
     "data": {
      "text/latex": [
       "$\\displaystyle \n",
       "$$ |\\psi\\rangle =\\begin{bmatrix}\n",
       "-0.45898 \\\\\n",
       "0.88845\\end{bmatrix} $"
      ],
      "text/plain": [
       "<IPython.core.display.Math object>"
      ]
     },
     "metadata": {},
     "output_type": "display_data"
    },
    {
     "name": "stdout",
     "output_type": "stream",
     "text": [
      "Salida counts = {'1': 1}\n",
      "Given the former angle theta and quantum state, the new prediction is:\n",
      "Prediction = 1\n",
      "int(Prediction) = 1 \n",
      "\n",
      "Overall Probability = -0.9103675210444964\n"
     ]
    },
    {
     "data": {
      "text/latex": [
       "$\\displaystyle \n",
       "$$ |\\psi\\rangle =\\begin{bmatrix}\n",
       "-0.99010 \\\\\n",
       "0.14033\\end{bmatrix} $"
      ],
      "text/plain": [
       "<IPython.core.display.Math object>"
      ]
     },
     "metadata": {},
     "output_type": "display_data"
    },
    {
     "name": "stdout",
     "output_type": "stream",
     "text": [
      "Salida counts = {'0': 1}\n",
      "Given the former angle theta and quantum state, the new prediction is:\n",
      "Prediction = 0\n",
      "int(Prediction) = 0 \n",
      "\n",
      "Overall Probability = -0.9894754397184081\n"
     ]
    },
    {
     "data": {
      "text/latex": [
       "$\\displaystyle \n",
       "$$ |\\psi\\rangle =\\begin{bmatrix}\n",
       "-0.99986 \\\\\n",
       "0.01653\\end{bmatrix} $"
      ],
      "text/plain": [
       "<IPython.core.display.Math object>"
      ]
     },
     "metadata": {},
     "output_type": "display_data"
    },
    {
     "name": "stdout",
     "output_type": "stream",
     "text": [
      "Salida counts = {'0': 1}\n",
      "Given the former angle theta and quantum state, the new prediction is:\n",
      "Prediction = 0\n",
      "int(Prediction) = 0 \n",
      "\n",
      "Overall Probability = -0.44354979969702213\n"
     ]
    },
    {
     "data": {
      "text/latex": [
       "$\\displaystyle \n",
       "$$ |\\psi\\rangle =\\begin{bmatrix}\n",
       "-0.64171 \\\\\n",
       "0.76695\\end{bmatrix} $"
      ],
      "text/plain": [
       "<IPython.core.display.Math object>"
      ]
     },
     "metadata": {},
     "output_type": "display_data"
    },
    {
     "name": "stdout",
     "output_type": "stream",
     "text": [
      "Salida counts = {'0': 1}\n",
      "Given the former angle theta and quantum state, the new prediction is:\n",
      "Prediction = 0\n",
      "int(Prediction) = 0 \n",
      "\n",
      "Overall Probability = -0.2973981225920528\n"
     ]
    },
    {
     "data": {
      "text/latex": [
       "$\\displaystyle \n",
       "$$ |\\psi\\rangle =\\begin{bmatrix}\n",
       "-0.45035 \\\\\n",
       "0.89285\\end{bmatrix} $"
      ],
      "text/plain": [
       "<IPython.core.display.Math object>"
      ]
     },
     "metadata": {},
     "output_type": "display_data"
    },
    {
     "name": "stdout",
     "output_type": "stream",
     "text": [
      "Salida counts = {'1': 1}\n",
      "Given the former angle theta and quantum state, the new prediction is:\n",
      "Prediction = 1\n",
      "int(Prediction) = 1 \n",
      "\n",
      "Overall Probability = -0.7192498591613101\n"
     ]
    },
    {
     "data": {
      "text/latex": [
       "$\\displaystyle \n",
       "$$ |\\psi\\rangle =\\begin{bmatrix}\n",
       "-0.90432 \\\\\n",
       "0.42685\\end{bmatrix} $"
      ],
      "text/plain": [
       "<IPython.core.display.Math object>"
      ]
     },
     "metadata": {},
     "output_type": "display_data"
    },
    {
     "name": "stdout",
     "output_type": "stream",
     "text": [
      "Salida counts = {'0': 1}\n",
      "Given the former angle theta and quantum state, the new prediction is:\n",
      "Prediction = 0\n",
      "int(Prediction) = 0 \n",
      "\n",
      "Overall Probability = -0.44375891111874033\n"
     ]
    },
    {
     "data": {
      "text/latex": [
       "$\\displaystyle \n",
       "$$ |\\psi\\rangle =\\begin{bmatrix}\n",
       "-0.64196 \\\\\n",
       "0.76674\\end{bmatrix} $"
      ],
      "text/plain": [
       "<IPython.core.display.Math object>"
      ]
     },
     "metadata": {},
     "output_type": "display_data"
    },
    {
     "name": "stdout",
     "output_type": "stream",
     "text": [
      "Salida counts = {'0': 1}\n",
      "Given the former angle theta and quantum state, the new prediction is:\n",
      "Prediction = 0\n",
      "int(Prediction) = 0 \n",
      "\n",
      "Overall Probability = -1.0870204975922992\n"
     ]
    },
    {
     "data": {
      "text/latex": [
       "$\\displaystyle \n",
       "$$ |\\psi\\rangle =\\begin{bmatrix}\n",
       "-0.99067 \\\\\n",
       "-0.13627\\end{bmatrix} $"
      ],
      "text/plain": [
       "<IPython.core.display.Math object>"
      ]
     },
     "metadata": {},
     "output_type": "display_data"
    },
    {
     "name": "stdout",
     "output_type": "stream",
     "text": [
      "Salida counts = {'0': 1}\n",
      "Given the former angle theta and quantum state, the new prediction is:\n",
      "Prediction = 0\n",
      "int(Prediction) = 0 \n",
      "\n",
      "Overall Probability = -0.539937038229735\n"
     ]
    },
    {
     "data": {
      "text/latex": [
       "$\\displaystyle \n",
       "$$ |\\psi\\rangle =\\begin{bmatrix}\n",
       "-0.75005 \\\\\n",
       "0.66139\\end{bmatrix} $"
      ],
      "text/plain": [
       "<IPython.core.display.Math object>"
      ]
     },
     "metadata": {},
     "output_type": "display_data"
    },
    {
     "name": "stdout",
     "output_type": "stream",
     "text": [
      "Salida counts = {'0': 1}\n",
      "Given the former angle theta and quantum state, the new prediction is:\n",
      "Prediction = 0\n",
      "int(Prediction) = 0 \n",
      "\n",
      "Overall Probability = -1.0905245906676988\n"
     ]
    },
    {
     "data": {
      "text/latex": [
       "$\\displaystyle \n",
       "$$ |\\psi\\rangle =\\begin{bmatrix}\n",
       "-0.98991 \\\\\n",
       "-0.14172\\end{bmatrix} $"
      ],
      "text/plain": [
       "<IPython.core.display.Math object>"
      ]
     },
     "metadata": {},
     "output_type": "display_data"
    },
    {
     "name": "stdout",
     "output_type": "stream",
     "text": [
      "Salida counts = {'0': 1}\n",
      "Given the former angle theta and quantum state, the new prediction is:\n",
      "Prediction = 0\n",
      "int(Prediction) = 0 \n",
      "\n",
      "Overall Probability = -0.724961242702234\n"
     ]
    },
    {
     "data": {
      "text/latex": [
       "$\\displaystyle \n",
       "$$ |\\psi\\rangle =\\begin{bmatrix}\n",
       "-0.90812 \\\\\n",
       "0.41872\\end{bmatrix} $"
      ],
      "text/plain": [
       "<IPython.core.display.Math object>"
      ]
     },
     "metadata": {},
     "output_type": "display_data"
    },
    {
     "name": "stdout",
     "output_type": "stream",
     "text": [
      "Salida counts = {'0': 1}\n",
      "Given the former angle theta and quantum state, the new prediction is:\n",
      "Prediction = 0\n",
      "int(Prediction) = 0 \n",
      "\n",
      "Overall Probability = -1.0849831379921657\n"
     ]
    },
    {
     "data": {
      "text/latex": [
       "$\\displaystyle \n",
       "$$ |\\psi\\rangle =\\begin{bmatrix}\n",
       "-0.99110 \\\\\n",
       "-0.13310\\end{bmatrix} $"
      ],
      "text/plain": [
       "<IPython.core.display.Math object>"
      ]
     },
     "metadata": {},
     "output_type": "display_data"
    },
    {
     "name": "stdout",
     "output_type": "stream",
     "text": [
      "Salida counts = {'0': 1}\n",
      "Given the former angle theta and quantum state, the new prediction is:\n",
      "Prediction = 0\n",
      "int(Prediction) = 0 \n",
      "\n",
      "Overall Probability = -0.5405341801369603\n"
     ]
    },
    {
     "data": {
      "text/latex": [
       "$\\displaystyle \n",
       "$$ |\\psi\\rangle =\\begin{bmatrix}\n",
       "-0.75067 \\\\\n",
       "0.66068\\end{bmatrix} $"
      ],
      "text/plain": [
       "<IPython.core.display.Math object>"
      ]
     },
     "metadata": {},
     "output_type": "display_data"
    },
    {
     "name": "stdout",
     "output_type": "stream",
     "text": [
      "Salida counts = {'0': 1}\n",
      "Given the former angle theta and quantum state, the new prediction is:\n",
      "Prediction = 0\n",
      "int(Prediction) = 0 \n",
      "\n",
      "Overall Probability = -1.084517206545052\n"
     ]
    },
    {
     "data": {
      "text/latex": [
       "$\\displaystyle \n",
       "$$ |\\psi\\rangle =\\begin{bmatrix}\n",
       "-0.99120 \\\\\n",
       "-0.13237\\end{bmatrix} $"
      ],
      "text/plain": [
       "<IPython.core.display.Math object>"
      ]
     },
     "metadata": {},
     "output_type": "display_data"
    },
    {
     "name": "stdout",
     "output_type": "stream",
     "text": [
      "Salida counts = {'0': 1}\n",
      "Given the former angle theta and quantum state, the new prediction is:\n",
      "Prediction = 0\n",
      "int(Prediction) = 0 \n",
      "\n",
      "Overall Probability = -0.9710411368693186\n"
     ]
    },
    {
     "data": {
      "text/latex": [
       "$\\displaystyle \n",
       "$$ |\\psi\\rangle =\\begin{bmatrix}\n",
       "-0.99897 \\\\\n",
       "0.04547\\end{bmatrix} $"
      ],
      "text/plain": [
       "<IPython.core.display.Math object>"
      ]
     },
     "metadata": {},
     "output_type": "display_data"
    },
    {
     "name": "stdout",
     "output_type": "stream",
     "text": [
      "Salida counts = {'0': 1}\n",
      "Given the former angle theta and quantum state, the new prediction is:\n",
      "Prediction = 0\n",
      "int(Prediction) = 0 \n",
      "\n",
      "Overall Probability = -0.89395842100813\n"
     ]
    },
    {
     "data": {
      "text/latex": [
       "$\\displaystyle \n",
       "$$ |\\psi\\rangle =\\begin{bmatrix}\n",
       "-0.98616 \\\\\n",
       "0.16580\\end{bmatrix} $"
      ],
      "text/plain": [
       "<IPython.core.display.Math object>"
      ]
     },
     "metadata": {},
     "output_type": "display_data"
    },
    {
     "name": "stdout",
     "output_type": "stream",
     "text": [
      "Salida counts = {'0': 1}\n",
      "Given the former angle theta and quantum state, the new prediction is:\n",
      "Prediction = 0\n",
      "int(Prediction) = 0 \n",
      "\n",
      "Overall Probability = -0.8939611012104621\n"
     ]
    },
    {
     "data": {
      "text/latex": [
       "$\\displaystyle \n",
       "$$ |\\psi\\rangle =\\begin{bmatrix}\n",
       "-0.98616 \\\\\n",
       "0.16580\\end{bmatrix} $"
      ],
      "text/plain": [
       "<IPython.core.display.Math object>"
      ]
     },
     "metadata": {},
     "output_type": "display_data"
    },
    {
     "name": "stdout",
     "output_type": "stream",
     "text": [
      "Salida counts = {'0': 1}\n",
      "Given the former angle theta and quantum state, the new prediction is:\n",
      "Prediction = 0\n",
      "int(Prediction) = 0 \n",
      "\n",
      "Overall Probability = -1.0568356852153142\n"
     ]
    },
    {
     "data": {
      "text/latex": [
       "$\\displaystyle \n",
       "$$ |\\psi\\rangle =\\begin{bmatrix}\n",
       "-0.99602 \\\\\n",
       "-0.08916\\end{bmatrix} $"
      ],
      "text/plain": [
       "<IPython.core.display.Math object>"
      ]
     },
     "metadata": {},
     "output_type": "display_data"
    },
    {
     "name": "stdout",
     "output_type": "stream",
     "text": [
      "Salida counts = {'0': 1}\n",
      "Given the former angle theta and quantum state, the new prediction is:\n",
      "Prediction = 0\n",
      "int(Prediction) = 0 \n",
      "\n",
      "Overall Probability = -1.0830122729356038\n"
     ]
    },
    {
     "data": {
      "text/latex": [
       "$\\displaystyle \n",
       "$$ |\\psi\\rangle =\\begin{bmatrix}\n",
       "-0.99151 \\\\\n",
       "-0.13003\\end{bmatrix} $"
      ],
      "text/plain": [
       "<IPython.core.display.Math object>"
      ]
     },
     "metadata": {},
     "output_type": "display_data"
    },
    {
     "name": "stdout",
     "output_type": "stream",
     "text": [
      "Salida counts = {'0': 1}\n",
      "Given the former angle theta and quantum state, the new prediction is:\n",
      "Prediction = 0\n",
      "int(Prediction) = 0 \n",
      "\n",
      "Overall Probability = -0.4357899119159483\n"
     ]
    },
    {
     "data": {
      "text/latex": [
       "$\\displaystyle \n",
       "$$ |\\psi\\rangle =\\begin{bmatrix}\n",
       "-0.63231 \\\\\n",
       "0.77471\\end{bmatrix} $"
      ],
      "text/plain": [
       "<IPython.core.display.Math object>"
      ]
     },
     "metadata": {},
     "output_type": "display_data"
    },
    {
     "name": "stdout",
     "output_type": "stream",
     "text": [
      "Salida counts = {'0': 1}\n",
      "Given the former angle theta and quantum state, the new prediction is:\n",
      "Prediction = 0\n",
      "int(Prediction) = 0 \n",
      "\n",
      "Overall Probability = -1.0854811287621513\n"
     ]
    },
    {
     "data": {
      "text/latex": [
       "$\\displaystyle \n",
       "$$ |\\psi\\rangle =\\begin{bmatrix}\n",
       "-0.99100 \\\\\n",
       "-0.13387\\end{bmatrix} $"
      ],
      "text/plain": [
       "<IPython.core.display.Math object>"
      ]
     },
     "metadata": {},
     "output_type": "display_data"
    },
    {
     "name": "stdout",
     "output_type": "stream",
     "text": [
      "Salida counts = {'0': 1}\n",
      "Given the former angle theta and quantum state, the new prediction is:\n",
      "Prediction = 0\n",
      "int(Prediction) = 0 \n",
      "\n",
      "Overall Probability = -0.8960281291071917\n"
     ]
    },
    {
     "data": {
      "text/latex": [
       "$\\displaystyle \n",
       "$$ |\\psi\\rangle =\\begin{bmatrix}\n",
       "-0.98669 \\\\\n",
       "0.16259\\end{bmatrix} $"
      ],
      "text/plain": [
       "<IPython.core.display.Math object>"
      ]
     },
     "metadata": {},
     "output_type": "display_data"
    },
    {
     "name": "stdout",
     "output_type": "stream",
     "text": [
      "Salida counts = {'0': 1}\n",
      "Given the former angle theta and quantum state, the new prediction is:\n",
      "Prediction = 0\n",
      "int(Prediction) = 0 \n",
      "\n",
      "Overall Probability = -1.0847265440687417\n"
     ]
    },
    {
     "data": {
      "text/latex": [
       "$\\displaystyle \n",
       "$$ |\\psi\\rangle =\\begin{bmatrix}\n",
       "-0.99116 \\\\\n",
       "-0.13270\\end{bmatrix} $"
      ],
      "text/plain": [
       "<IPython.core.display.Math object>"
      ]
     },
     "metadata": {},
     "output_type": "display_data"
    },
    {
     "name": "stdout",
     "output_type": "stream",
     "text": [
      "Salida counts = {'0': 1}\n",
      "Given the former angle theta and quantum state, the new prediction is:\n",
      "Prediction = 0\n",
      "int(Prediction) = 0 \n",
      "\n",
      "Overall Probability = -0.36355280839646087\n"
     ]
    },
    {
     "data": {
      "text/latex": [
       "$\\displaystyle \n",
       "$$ |\\psi\\rangle =\\begin{bmatrix}\n",
       "-0.54053 \\\\\n",
       "0.84132\\end{bmatrix} $"
      ],
      "text/plain": [
       "<IPython.core.display.Math object>"
      ]
     },
     "metadata": {},
     "output_type": "display_data"
    },
    {
     "name": "stdout",
     "output_type": "stream",
     "text": [
      "Salida counts = {'1': 1}\n",
      "Given the former angle theta and quantum state, the new prediction is:\n",
      "Prediction = 1\n",
      "int(Prediction) = 1 \n",
      "\n",
      "Overall Probability = -0.1452949522688577\n"
     ]
    },
    {
     "data": {
      "text/latex": [
       "$\\displaystyle \n",
       "$$ |\\psi\\rangle =\\begin{bmatrix}\n",
       "-0.22625 \\\\\n",
       "0.97407\\end{bmatrix} $"
      ],
      "text/plain": [
       "<IPython.core.display.Math object>"
      ]
     },
     "metadata": {},
     "output_type": "display_data"
    },
    {
     "name": "stdout",
     "output_type": "stream",
     "text": [
      "Salida counts = {'1': 1}\n",
      "Given the former angle theta and quantum state, the new prediction is:\n",
      "Prediction = 1\n",
      "int(Prediction) = 1 \n",
      "\n",
      "Overall Probability = -0.4454340477116522\n"
     ]
    },
    {
     "data": {
      "text/latex": [
       "$\\displaystyle \n",
       "$$ |\\psi\\rangle =\\begin{bmatrix}\n",
       "-0.64398 \\\\\n",
       "0.76504\\end{bmatrix} $"
      ],
      "text/plain": [
       "<IPython.core.display.Math object>"
      ]
     },
     "metadata": {},
     "output_type": "display_data"
    },
    {
     "name": "stdout",
     "output_type": "stream",
     "text": [
      "Salida counts = {'0': 1}\n",
      "Given the former angle theta and quantum state, the new prediction is:\n",
      "Prediction = 0\n",
      "int(Prediction) = 0 \n",
      "\n",
      "Overall Probability = -1.085215808623024\n"
     ]
    },
    {
     "data": {
      "text/latex": [
       "$\\displaystyle \n",
       "$$ |\\psi\\rangle =\\begin{bmatrix}\n",
       "-0.99105 \\\\\n",
       "-0.13346\\end{bmatrix} $"
      ],
      "text/plain": [
       "<IPython.core.display.Math object>"
      ]
     },
     "metadata": {},
     "output_type": "display_data"
    },
    {
     "name": "stdout",
     "output_type": "stream",
     "text": [
      "Salida counts = {'0': 1}\n",
      "Given the former angle theta and quantum state, the new prediction is:\n",
      "Prediction = 0\n",
      "int(Prediction) = 0 \n",
      "\n",
      "Overall Probability = -0.9079897625628344\n"
     ]
    },
    {
     "data": {
      "text/latex": [
       "$\\displaystyle \n",
       "$$ |\\psi\\rangle =\\begin{bmatrix}\n",
       "-0.98957 \\\\\n",
       "0.14403\\end{bmatrix} $"
      ],
      "text/plain": [
       "<IPython.core.display.Math object>"
      ]
     },
     "metadata": {},
     "output_type": "display_data"
    },
    {
     "name": "stdout",
     "output_type": "stream",
     "text": [
      "Salida counts = {'0': 1}\n",
      "Given the former angle theta and quantum state, the new prediction is:\n",
      "Prediction = 0\n",
      "int(Prediction) = 0 \n",
      "\n",
      "Overall Probability = -0.32228873188220963\n"
     ]
    },
    {
     "data": {
      "text/latex": [
       "$\\displaystyle \n",
       "$$ |\\psi\\rangle =\\begin{bmatrix}\n",
       "-0.48490 \\\\\n",
       "0.87457\\end{bmatrix} $"
      ],
      "text/plain": [
       "<IPython.core.display.Math object>"
      ]
     },
     "metadata": {},
     "output_type": "display_data"
    },
    {
     "name": "stdout",
     "output_type": "stream",
     "text": [
      "Salida counts = {'1': 1}\n",
      "Given the former angle theta and quantum state, the new prediction is:\n",
      "Prediction = 1\n",
      "int(Prediction) = 1 \n",
      "\n",
      "Overall Probability = -1.0710000375967745\n"
     ]
    },
    {
     "data": {
      "text/latex": [
       "$\\displaystyle \n",
       "$$ |\\psi\\rangle =\\begin{bmatrix}\n",
       "-0.99379 \\\\\n",
       "-0.11130\\end{bmatrix} $"
      ],
      "text/plain": [
       "<IPython.core.display.Math object>"
      ]
     },
     "metadata": {},
     "output_type": "display_data"
    },
    {
     "name": "stdout",
     "output_type": "stream",
     "text": [
      "Salida counts = {'0': 1}\n",
      "Given the former angle theta and quantum state, the new prediction is:\n",
      "Prediction = 0\n",
      "int(Prediction) = 0 \n",
      "\n",
      "Overall Probability = -0.5053382939835745\n"
     ]
    },
    {
     "data": {
      "text/latex": [
       "$\\displaystyle \n",
       "$$ |\\psi\\rangle =\\begin{bmatrix}\n",
       "-0.71301 \\\\\n",
       "0.70115\\end{bmatrix} $"
      ],
      "text/plain": [
       "<IPython.core.display.Math object>"
      ]
     },
     "metadata": {},
     "output_type": "display_data"
    },
    {
     "name": "stdout",
     "output_type": "stream",
     "text": [
      "Salida counts = {'0': 1}\n",
      "Given the former angle theta and quantum state, the new prediction is:\n",
      "Prediction = 0\n",
      "int(Prediction) = 0 \n",
      "\n",
      "Overall Probability = -1.085215808623024\n"
     ]
    },
    {
     "data": {
      "text/latex": [
       "$\\displaystyle \n",
       "$$ |\\psi\\rangle =\\begin{bmatrix}\n",
       "-0.99105 \\\\\n",
       "-0.13346\\end{bmatrix} $"
      ],
      "text/plain": [
       "<IPython.core.display.Math object>"
      ]
     },
     "metadata": {},
     "output_type": "display_data"
    },
    {
     "name": "stdout",
     "output_type": "stream",
     "text": [
      "Salida counts = {'0': 1}\n",
      "Given the former angle theta and quantum state, the new prediction is:\n",
      "Prediction = 0\n",
      "int(Prediction) = 0 \n",
      "\n",
      "Overall Probability = -0.2683210872568177\n"
     ]
    },
    {
     "data": {
      "text/latex": [
       "$\\displaystyle \n",
       "$$ |\\psi\\rangle =\\begin{bmatrix}\n",
       "-0.40911 \\\\\n",
       "0.91249\\end{bmatrix} $"
      ],
      "text/plain": [
       "<IPython.core.display.Math object>"
      ]
     },
     "metadata": {},
     "output_type": "display_data"
    },
    {
     "name": "stdout",
     "output_type": "stream",
     "text": [
      "Salida counts = {'1': 1}\n",
      "Given the former angle theta and quantum state, the new prediction is:\n",
      "Prediction = 1\n",
      "int(Prediction) = 1 \n",
      "\n",
      "Overall Probability = -0.9459043626056629\n"
     ]
    },
    {
     "data": {
      "text/latex": [
       "$\\displaystyle \n",
       "$$ |\\psi\\rangle =\\begin{bmatrix}\n",
       "-0.99639 \\\\\n",
       "0.08487\\end{bmatrix} $"
      ],
      "text/plain": [
       "<IPython.core.display.Math object>"
      ]
     },
     "metadata": {},
     "output_type": "display_data"
    },
    {
     "name": "stdout",
     "output_type": "stream",
     "text": [
      "Salida counts = {'0': 1}\n",
      "Given the former angle theta and quantum state, the new prediction is:\n",
      "Prediction = 0\n",
      "int(Prediction) = 0 \n",
      "\n",
      "Overall Probability = -0.44535695998743496\n"
     ]
    },
    {
     "data": {
      "text/latex": [
       "$\\displaystyle \n",
       "$$ |\\psi\\rangle =\\begin{bmatrix}\n",
       "-0.64388 \\\\\n",
       "0.76512\\end{bmatrix} $"
      ],
      "text/plain": [
       "<IPython.core.display.Math object>"
      ]
     },
     "metadata": {},
     "output_type": "display_data"
    },
    {
     "name": "stdout",
     "output_type": "stream",
     "text": [
      "Salida counts = {'0': 1}\n",
      "Given the former angle theta and quantum state, the new prediction is:\n",
      "Prediction = 0\n",
      "int(Prediction) = 0 \n",
      "\n",
      "Overall Probability = -0.1443447911097982\n"
     ]
    },
    {
     "data": {
      "text/latex": [
       "$\\displaystyle \n",
       "$$ |\\psi\\rangle =\\begin{bmatrix}\n",
       "-0.22480 \\\\\n",
       "0.97441\\end{bmatrix} $"
      ],
      "text/plain": [
       "<IPython.core.display.Math object>"
      ]
     },
     "metadata": {},
     "output_type": "display_data"
    },
    {
     "name": "stdout",
     "output_type": "stream",
     "text": [
      "Salida counts = {'1': 1}\n",
      "Given the former angle theta and quantum state, the new prediction is:\n",
      "Prediction = 1\n",
      "int(Prediction) = 1 \n",
      "\n",
      "Overall Probability = -1.0810013818988933\n"
     ]
    },
    {
     "data": {
      "text/latex": [
       "$\\displaystyle \n",
       "$$ |\\psi\\rangle =\\begin{bmatrix}\n",
       "-0.99192 \\\\\n",
       "-0.12689\\end{bmatrix} $"
      ],
      "text/plain": [
       "<IPython.core.display.Math object>"
      ]
     },
     "metadata": {},
     "output_type": "display_data"
    },
    {
     "name": "stdout",
     "output_type": "stream",
     "text": [
      "Salida counts = {'0': 1}\n",
      "Given the former angle theta and quantum state, the new prediction is:\n",
      "Prediction = 0\n",
      "int(Prediction) = 0 \n",
      "\n",
      "Overall Probability = -1.054695104129176\n"
     ]
    },
    {
     "data": {
      "text/latex": [
       "$\\displaystyle \n",
       "$$ |\\psi\\rangle =\\begin{bmatrix}\n",
       "-0.99631 \\\\\n",
       "-0.08581\\end{bmatrix} $"
      ],
      "text/plain": [
       "<IPython.core.display.Math object>"
      ]
     },
     "metadata": {},
     "output_type": "display_data"
    },
    {
     "name": "stdout",
     "output_type": "stream",
     "text": [
      "Salida counts = {'0': 1}\n",
      "Given the former angle theta and quantum state, the new prediction is:\n",
      "Prediction = 0\n",
      "int(Prediction) = 0 \n",
      "\n",
      "Overall Probability = -1.082264689509829\n"
     ]
    },
    {
     "data": {
      "text/latex": [
       "$\\displaystyle \n",
       "$$ |\\psi\\rangle =\\begin{bmatrix}\n",
       "-0.99166 \\\\\n",
       "-0.12886\\end{bmatrix} $"
      ],
      "text/plain": [
       "<IPython.core.display.Math object>"
      ]
     },
     "metadata": {},
     "output_type": "display_data"
    },
    {
     "name": "stdout",
     "output_type": "stream",
     "text": [
      "Salida counts = {'0': 1}\n",
      "Given the former angle theta and quantum state, the new prediction is:\n",
      "Prediction = 0\n",
      "int(Prediction) = 0 \n",
      "\n",
      "Overall Probability = -0.8929903866069222\n"
     ]
    },
    {
     "data": {
      "text/latex": [
       "$\\displaystyle \n",
       "$$ |\\psi\\rangle =\\begin{bmatrix}\n",
       "-0.98591 \\\\\n",
       "0.16730\\end{bmatrix} $"
      ],
      "text/plain": [
       "<IPython.core.display.Math object>"
      ]
     },
     "metadata": {},
     "output_type": "display_data"
    },
    {
     "name": "stdout",
     "output_type": "stream",
     "text": [
      "Salida counts = {'0': 1}\n",
      "Given the former angle theta and quantum state, the new prediction is:\n",
      "Prediction = 0\n",
      "int(Prediction) = 0 \n",
      "\n",
      "Overall Probability = -0.36952526801090835\n"
     ]
    },
    {
     "data": {
      "text/latex": [
       "$\\displaystyle \n",
       "$$ |\\psi\\rangle =\\begin{bmatrix}\n",
       "-0.54840 \\\\\n",
       "0.83622\\end{bmatrix} $"
      ],
      "text/plain": [
       "<IPython.core.display.Math object>"
      ]
     },
     "metadata": {},
     "output_type": "display_data"
    },
    {
     "name": "stdout",
     "output_type": "stream",
     "text": [
      "Salida counts = {'1': 1}\n",
      "Given the former angle theta and quantum state, the new prediction is:\n",
      "Prediction = 1\n",
      "int(Prediction) = 1 \n",
      "\n",
      "Overall Probability = -0.948622811088\n"
     ]
    },
    {
     "data": {
      "text/latex": [
       "$\\displaystyle \n",
       "$$ |\\psi\\rangle =\\begin{bmatrix}\n",
       "-0.99675 \\\\\n",
       "0.08062\\end{bmatrix} $"
      ],
      "text/plain": [
       "<IPython.core.display.Math object>"
      ]
     },
     "metadata": {},
     "output_type": "display_data"
    },
    {
     "name": "stdout",
     "output_type": "stream",
     "text": [
      "Salida counts = {'0': 1}\n",
      "Given the former angle theta and quantum state, the new prediction is:\n",
      "Prediction = 0\n",
      "int(Prediction) = 0 \n",
      "\n",
      "Overall Probability = -1.0542020387806883\n"
     ]
    },
    {
     "data": {
      "text/latex": [
       "$\\displaystyle \n",
       "$$ |\\psi\\rangle =\\begin{bmatrix}\n",
       "-0.99638 \\\\\n",
       "-0.08504\\end{bmatrix} $"
      ],
      "text/plain": [
       "<IPython.core.display.Math object>"
      ]
     },
     "metadata": {},
     "output_type": "display_data"
    },
    {
     "name": "stdout",
     "output_type": "stream",
     "text": [
      "Salida counts = {'0': 1}\n",
      "Given the former angle theta and quantum state, the new prediction is:\n",
      "Prediction = 0\n",
      "int(Prediction) = 0 \n",
      "\n",
      "Overall Probability = -1.0824401789482372\n"
     ]
    },
    {
     "data": {
      "text/latex": [
       "$\\displaystyle \n",
       "$$ |\\psi\\rangle =\\begin{bmatrix}\n",
       "-0.99163 \\\\\n",
       "-0.12914\\end{bmatrix} $"
      ],
      "text/plain": [
       "<IPython.core.display.Math object>"
      ]
     },
     "metadata": {},
     "output_type": "display_data"
    },
    {
     "name": "stdout",
     "output_type": "stream",
     "text": [
      "Salida counts = {'0': 1}\n",
      "Given the former angle theta and quantum state, the new prediction is:\n",
      "Prediction = 0\n",
      "int(Prediction) = 0 \n",
      "\n",
      "Overall Probability = -1.0851174069088327\n"
     ]
    },
    {
     "data": {
      "text/latex": [
       "$\\displaystyle \n",
       "$$ |\\psi\\rangle =\\begin{bmatrix}\n",
       "-0.99108 \\\\\n",
       "-0.13330\\end{bmatrix} $"
      ],
      "text/plain": [
       "<IPython.core.display.Math object>"
      ]
     },
     "metadata": {},
     "output_type": "display_data"
    },
    {
     "name": "stdout",
     "output_type": "stream",
     "text": [
      "Salida counts = {'0': 1}\n",
      "Given the former angle theta and quantum state, the new prediction is:\n",
      "Prediction = 0\n",
      "int(Prediction) = 0 \n",
      "\n",
      "Overall Probability = -0.5213688447182021\n"
     ]
    },
    {
     "data": {
      "text/latex": [
       "$\\displaystyle \n",
       "$$ |\\psi\\rangle =\\begin{bmatrix}\n",
       "-0.73044 \\\\\n",
       "0.68298\\end{bmatrix} $"
      ],
      "text/plain": [
       "<IPython.core.display.Math object>"
      ]
     },
     "metadata": {},
     "output_type": "display_data"
    },
    {
     "name": "stdout",
     "output_type": "stream",
     "text": [
      "Salida counts = {'0': 1}\n",
      "Given the former angle theta and quantum state, the new prediction is:\n",
      "Prediction = 0\n",
      "int(Prediction) = 0 \n",
      "\n",
      "Overall Probability = -0.9897514168525225\n"
     ]
    },
    {
     "data": {
      "text/latex": [
       "$\\displaystyle \n",
       "$$ |\\psi\\rangle =\\begin{bmatrix}\n",
       "-0.99987 \\\\\n",
       "0.01610\\end{bmatrix} $"
      ],
      "text/plain": [
       "<IPython.core.display.Math object>"
      ]
     },
     "metadata": {},
     "output_type": "display_data"
    },
    {
     "name": "stdout",
     "output_type": "stream",
     "text": [
      "Salida counts = {'0': 1}\n",
      "Given the former angle theta and quantum state, the new prediction is:\n",
      "Prediction = 0\n",
      "int(Prediction) = 0 \n",
      "\n",
      "Overall Probability = -1.0843558037270111\n"
     ]
    },
    {
     "data": {
      "text/latex": [
       "$\\displaystyle \n",
       "$$ |\\psi\\rangle =\\begin{bmatrix}\n",
       "-0.99123 \\\\\n",
       "-0.13212\\end{bmatrix} $"
      ],
      "text/plain": [
       "<IPython.core.display.Math object>"
      ]
     },
     "metadata": {},
     "output_type": "display_data"
    },
    {
     "name": "stdout",
     "output_type": "stream",
     "text": [
      "Salida counts = {'0': 1}\n",
      "Given the former angle theta and quantum state, the new prediction is:\n",
      "Prediction = 0\n",
      "int(Prediction) = 0 \n",
      "\n",
      "Overall Probability = -0.3654205724193053\n"
     ]
    },
    {
     "data": {
      "text/latex": [
       "$\\displaystyle \n",
       "$$ |\\psi\\rangle =\\begin{bmatrix}\n",
       "-0.54300 \\\\\n",
       "0.83974\\end{bmatrix} $"
      ],
      "text/plain": [
       "<IPython.core.display.Math object>"
      ]
     },
     "metadata": {},
     "output_type": "display_data"
    },
    {
     "name": "stdout",
     "output_type": "stream",
     "text": [
      "Salida counts = {'1': 1}\n",
      "Given the former angle theta and quantum state, the new prediction is:\n",
      "Prediction = 1\n",
      "int(Prediction) = 1 \n",
      "\n",
      "Overall Probability = -1.086800577023342\n"
     ]
    },
    {
     "data": {
      "text/latex": [
       "$\\displaystyle \n",
       "$$ |\\psi\\rangle =\\begin{bmatrix}\n",
       "-0.99072 \\\\\n",
       "-0.13592\\end{bmatrix} $"
      ],
      "text/plain": [
       "<IPython.core.display.Math object>"
      ]
     },
     "metadata": {},
     "output_type": "display_data"
    },
    {
     "name": "stdout",
     "output_type": "stream",
     "text": [
      "Salida counts = {'0': 1}\n",
      "Given the former angle theta and quantum state, the new prediction is:\n",
      "Prediction = 0\n",
      "int(Prediction) = 0 \n",
      "\n",
      "Overall Probability = -1.0640321286959773\n"
     ]
    },
    {
     "data": {
      "text/latex": [
       "$\\displaystyle \n",
       "$$ |\\psi\\rangle =\\begin{bmatrix}\n",
       "-0.99495 \\\\\n",
       "-0.10041\\end{bmatrix} $"
      ],
      "text/plain": [
       "<IPython.core.display.Math object>"
      ]
     },
     "metadata": {},
     "output_type": "display_data"
    },
    {
     "name": "stdout",
     "output_type": "stream",
     "text": [
      "Salida counts = {'0': 1}\n",
      "Given the former angle theta and quantum state, the new prediction is:\n",
      "Prediction = 0\n",
      "int(Prediction) = 0 \n",
      "\n",
      "Overall Probability = -1.0892837467750625\n"
     ]
    },
    {
     "data": {
      "text/latex": [
       "$\\displaystyle \n",
       "$$ |\\psi\\rangle =\\begin{bmatrix}\n",
       "-0.99018 \\\\\n",
       "-0.13979\\end{bmatrix} $"
      ],
      "text/plain": [
       "<IPython.core.display.Math object>"
      ]
     },
     "metadata": {},
     "output_type": "display_data"
    },
    {
     "name": "stdout",
     "output_type": "stream",
     "text": [
      "Salida counts = {'0': 1}\n",
      "Given the former angle theta and quantum state, the new prediction is:\n",
      "Prediction = 0\n",
      "int(Prediction) = 0 \n",
      "\n",
      "Overall Probability = -0.518869796533725\n"
     ]
    },
    {
     "data": {
      "text/latex": [
       "$\\displaystyle \n",
       "$$ |\\psi\\rangle =\\begin{bmatrix}\n",
       "-0.72775 \\\\\n",
       "0.68584\\end{bmatrix} $"
      ],
      "text/plain": [
       "<IPython.core.display.Math object>"
      ]
     },
     "metadata": {},
     "output_type": "display_data"
    },
    {
     "name": "stdout",
     "output_type": "stream",
     "text": [
      "Salida counts = {'1': 1}\n",
      "Given the former angle theta and quantum state, the new prediction is:\n",
      "Prediction = 1\n",
      "int(Prediction) = 1 \n",
      "\n",
      "Overall Probability = -1.0417966636826372\n"
     ]
    },
    {
     "data": {
      "text/latex": [
       "$\\displaystyle \n",
       "$$ |\\psi\\rangle =\\begin{bmatrix}\n",
       "-0.99785 \\\\\n",
       "-0.06561\\end{bmatrix} $"
      ],
      "text/plain": [
       "<IPython.core.display.Math object>"
      ]
     },
     "metadata": {},
     "output_type": "display_data"
    },
    {
     "name": "stdout",
     "output_type": "stream",
     "text": [
      "Salida counts = {'0': 1}\n",
      "Given the former angle theta and quantum state, the new prediction is:\n",
      "Prediction = 0\n",
      "int(Prediction) = 0 \n",
      "\n",
      "Overall Probability = -0.916079205839945\n"
     ]
    },
    {
     "data": {
      "text/latex": [
       "$\\displaystyle \n",
       "$$ |\\psi\\rangle =\\begin{bmatrix}\n",
       "-0.99132 \\\\\n",
       "0.13144\\end{bmatrix} $"
      ],
      "text/plain": [
       "<IPython.core.display.Math object>"
      ]
     },
     "metadata": {},
     "output_type": "display_data"
    },
    {
     "name": "stdout",
     "output_type": "stream",
     "text": [
      "Salida counts = {'0': 1}\n",
      "Given the former angle theta and quantum state, the new prediction is:\n",
      "Prediction = 0\n",
      "int(Prediction) = 0 \n",
      "\n",
      "Overall Probability = -0.9968612051909423\n"
     ]
    },
    {
     "data": {
      "text/latex": [
       "$\\displaystyle \n",
       "$$ |\\psi\\rangle =\\begin{bmatrix}\n",
       "-0.99999 \\\\\n",
       "0.00493\\end{bmatrix} $"
      ],
      "text/plain": [
       "<IPython.core.display.Math object>"
      ]
     },
     "metadata": {},
     "output_type": "display_data"
    },
    {
     "name": "stdout",
     "output_type": "stream",
     "text": [
      "Salida counts = {'0': 1}\n",
      "Given the former angle theta and quantum state, the new prediction is:\n",
      "Prediction = 0\n",
      "int(Prediction) = 0 \n",
      "\n",
      "Overall Probability = -0.5214606163335832\n"
     ]
    },
    {
     "data": {
      "text/latex": [
       "$\\displaystyle \n",
       "$$ |\\psi\\rangle =\\begin{bmatrix}\n",
       "-0.73054 \\\\\n",
       "0.68287\\end{bmatrix} $"
      ],
      "text/plain": [
       "<IPython.core.display.Math object>"
      ]
     },
     "metadata": {},
     "output_type": "display_data"
    },
    {
     "name": "stdout",
     "output_type": "stream",
     "text": [
      "Salida counts = {'0': 1}\n",
      "Given the former angle theta and quantum state, the new prediction is:\n",
      "Prediction = 0\n",
      "int(Prediction) = 0 \n",
      "\n",
      "Overall Probability = -0.893745946825352\n"
     ]
    },
    {
     "data": {
      "text/latex": [
       "$\\displaystyle \n",
       "$$ |\\psi\\rangle =\\begin{bmatrix}\n",
       "-0.98610 \\\\\n",
       "0.16613\\end{bmatrix} $"
      ],
      "text/plain": [
       "<IPython.core.display.Math object>"
      ]
     },
     "metadata": {},
     "output_type": "display_data"
    },
    {
     "name": "stdout",
     "output_type": "stream",
     "text": [
      "Salida counts = {'0': 1}\n",
      "Given the former angle theta and quantum state, the new prediction is:\n",
      "Prediction = 0\n",
      "int(Prediction) = 0 \n",
      "\n",
      "Overall Probability = -0.34176199065233953\n"
     ]
    },
    {
     "data": {
      "text/latex": [
       "$\\displaystyle \n",
       "$$ |\\psi\\rangle =\\begin{bmatrix}\n",
       "-0.51142 \\\\\n",
       "0.85933\\end{bmatrix} $"
      ],
      "text/plain": [
       "<IPython.core.display.Math object>"
      ]
     },
     "metadata": {},
     "output_type": "display_data"
    },
    {
     "name": "stdout",
     "output_type": "stream",
     "text": [
      "Salida counts = {'1': 1}\n",
      "Given the former angle theta and quantum state, the new prediction is:\n",
      "Prediction = 1\n",
      "int(Prediction) = 1 \n",
      "\n",
      "Overall Probability = -0.3624930125152501\n"
     ]
    },
    {
     "data": {
      "text/latex": [
       "$\\displaystyle \n",
       "$$ |\\psi\\rangle =\\begin{bmatrix}\n",
       "-0.53913 \\\\\n",
       "0.84222\\end{bmatrix} $"
      ],
      "text/plain": [
       "<IPython.core.display.Math object>"
      ]
     },
     "metadata": {},
     "output_type": "display_data"
    },
    {
     "name": "stdout",
     "output_type": "stream",
     "text": [
      "Salida counts = {'1': 1}\n",
      "Given the former angle theta and quantum state, the new prediction is:\n",
      "Prediction = 1\n",
      "int(Prediction) = 1 \n",
      "\n",
      "Overall Probability = -0.89395842100813\n"
     ]
    },
    {
     "data": {
      "text/latex": [
       "$\\displaystyle \n",
       "$$ |\\psi\\rangle =\\begin{bmatrix}\n",
       "-0.98616 \\\\\n",
       "0.16580\\end{bmatrix} $"
      ],
      "text/plain": [
       "<IPython.core.display.Math object>"
      ]
     },
     "metadata": {},
     "output_type": "display_data"
    },
    {
     "name": "stdout",
     "output_type": "stream",
     "text": [
      "Salida counts = {'0': 1}\n",
      "Given the former angle theta and quantum state, the new prediction is:\n",
      "Prediction = 0\n",
      "int(Prediction) = 0 \n",
      "\n",
      "Overall Probability = 0.030143478098420187\n"
     ]
    },
    {
     "data": {
      "text/latex": [
       "$\\displaystyle \n",
       "$$ |\\psi\\rangle =\\begin{bmatrix}\n",
       "0.04733 \\\\\n",
       "0.99888\\end{bmatrix} $"
      ],
      "text/plain": [
       "<IPython.core.display.Math object>"
      ]
     },
     "metadata": {},
     "output_type": "display_data"
    },
    {
     "name": "stdout",
     "output_type": "stream",
     "text": [
      "Salida counts = {'1': 1}\n",
      "Given the former angle theta and quantum state, the new prediction is:\n",
      "Prediction = 1\n",
      "int(Prediction) = 1 \n",
      "\n",
      "Overall Probability = -0.8505198982590771\n"
     ]
    },
    {
     "data": {
      "text/latex": [
       "$\\displaystyle \n",
       "$$ |\\psi\\rangle =\\begin{bmatrix}\n",
       "-0.97256 \\\\\n",
       "0.23265\\end{bmatrix} $"
      ],
      "text/plain": [
       "<IPython.core.display.Math object>"
      ]
     },
     "metadata": {},
     "output_type": "display_data"
    },
    {
     "name": "stdout",
     "output_type": "stream",
     "text": [
      "Salida counts = {'0': 1}\n",
      "Given the former angle theta and quantum state, the new prediction is:\n",
      "Prediction = 0\n",
      "int(Prediction) = 0 \n",
      "\n",
      "Overall Probability = -1.08331024661842\n"
     ]
    },
    {
     "data": {
      "text/latex": [
       "$\\displaystyle \n",
       "$$ |\\psi\\rangle =\\begin{bmatrix}\n",
       "-0.99145 \\\\\n",
       "-0.13049\\end{bmatrix} $"
      ],
      "text/plain": [
       "<IPython.core.display.Math object>"
      ]
     },
     "metadata": {},
     "output_type": "display_data"
    },
    {
     "name": "stdout",
     "output_type": "stream",
     "text": [
      "Salida counts = {'0': 1}\n",
      "Given the former angle theta and quantum state, the new prediction is:\n",
      "Prediction = 0\n",
      "int(Prediction) = 0 \n",
      "\n",
      "Overall Probability = -0.5266352426831407\n"
     ]
    },
    {
     "data": {
      "text/latex": [
       "$\\displaystyle \n",
       "$$ |\\psi\\rangle =\\begin{bmatrix}\n",
       "-0.73606 \\\\\n",
       "0.67691\\end{bmatrix} $"
      ],
      "text/plain": [
       "<IPython.core.display.Math object>"
      ]
     },
     "metadata": {},
     "output_type": "display_data"
    },
    {
     "name": "stdout",
     "output_type": "stream",
     "text": [
      "Salida counts = {'0': 1}\n",
      "Given the former angle theta and quantum state, the new prediction is:\n",
      "Prediction = 0\n",
      "int(Prediction) = 0 \n",
      "\n",
      "Overall Probability = -1.0862378065224751\n"
     ]
    },
    {
     "data": {
      "text/latex": [
       "$\\displaystyle \n",
       "$$ |\\psi\\rangle =\\begin{bmatrix}\n",
       "-0.99084 \\\\\n",
       "-0.13505\\end{bmatrix} $"
      ],
      "text/plain": [
       "<IPython.core.display.Math object>"
      ]
     },
     "metadata": {},
     "output_type": "display_data"
    },
    {
     "name": "stdout",
     "output_type": "stream",
     "text": [
      "Salida counts = {'0': 1}\n",
      "Given the former angle theta and quantum state, the new prediction is:\n",
      "Prediction = 0\n",
      "int(Prediction) = 0 \n",
      "\n",
      "Overall Probability = -0.3415528792306213\n"
     ]
    },
    {
     "data": {
      "text/latex": [
       "$\\displaystyle \n",
       "$$ |\\psi\\rangle =\\begin{bmatrix}\n",
       "-0.51114 \\\\\n",
       "0.85950\\end{bmatrix} $"
      ],
      "text/plain": [
       "<IPython.core.display.Math object>"
      ]
     },
     "metadata": {},
     "output_type": "display_data"
    },
    {
     "name": "stdout",
     "output_type": "stream",
     "text": [
      "Salida counts = {'1': 1}\n",
      "Given the former angle theta and quantum state, the new prediction is:\n",
      "Prediction = 1\n",
      "int(Prediction) = 1 \n",
      "\n",
      "Overall Probability = -0.36262459109420686\n"
     ]
    },
    {
     "data": {
      "text/latex": [
       "$\\displaystyle \n",
       "$$ |\\psi\\rangle =\\begin{bmatrix}\n",
       "-0.53930 \\\\\n",
       "0.84211\\end{bmatrix} $"
      ],
      "text/plain": [
       "<IPython.core.display.Math object>"
      ]
     },
     "metadata": {},
     "output_type": "display_data"
    },
    {
     "name": "stdout",
     "output_type": "stream",
     "text": [
      "Salida counts = {'1': 1}\n",
      "Given the former angle theta and quantum state, the new prediction is:\n",
      "Prediction = 1\n",
      "int(Prediction) = 1 \n",
      "\n",
      "Overall Probability = -1.0857555503212264\n"
     ]
    },
    {
     "data": {
      "text/latex": [
       "$\\displaystyle \n",
       "$$ |\\psi\\rangle =\\begin{bmatrix}\n",
       "-0.99094 \\\\\n",
       "-0.13430\\end{bmatrix} $"
      ],
      "text/plain": [
       "<IPython.core.display.Math object>"
      ]
     },
     "metadata": {},
     "output_type": "display_data"
    },
    {
     "name": "stdout",
     "output_type": "stream",
     "text": [
      "Salida counts = {'0': 1}\n",
      "Given the former angle theta and quantum state, the new prediction is:\n",
      "Prediction = 0\n",
      "int(Prediction) = 0 \n",
      "\n",
      "Overall Probability = -0.3444804391346765\n"
     ]
    },
    {
     "data": {
      "text/latex": [
       "$\\displaystyle \n",
       "$$ |\\psi\\rangle =\\begin{bmatrix}\n",
       "-0.51509 \\\\\n",
       "0.85714\\end{bmatrix} $"
      ],
      "text/plain": [
       "<IPython.core.display.Math object>"
      ]
     },
     "metadata": {},
     "output_type": "display_data"
    },
    {
     "name": "stdout",
     "output_type": "stream",
     "text": [
      "Salida counts = {'1': 1}\n",
      "Given the former angle theta and quantum state, the new prediction is:\n",
      "Prediction = 1\n",
      "int(Prediction) = 1 \n",
      "\n",
      "Overall Probability = -0.9089481722230177\n"
     ]
    },
    {
     "data": {
      "text/latex": [
       "$\\displaystyle \n",
       "$$ |\\psi\\rangle =\\begin{bmatrix}\n",
       "-0.98979 \\\\\n",
       "0.14254\\end{bmatrix} $"
      ],
      "text/plain": [
       "<IPython.core.display.Math object>"
      ]
     },
     "metadata": {},
     "output_type": "display_data"
    },
    {
     "name": "stdout",
     "output_type": "stream",
     "text": [
      "Salida counts = {'0': 1}\n",
      "Given the former angle theta and quantum state, the new prediction is:\n",
      "Prediction = 0\n",
      "int(Prediction) = 0 \n",
      "\n",
      "Overall Probability = -0.5249506971569003\n"
     ]
    },
    {
     "data": {
      "text/latex": [
       "$\\displaystyle \n",
       "$$ |\\psi\\rangle =\\begin{bmatrix}\n",
       "-0.73427 \\\\\n",
       "0.67886\\end{bmatrix} $"
      ],
      "text/plain": [
       "<IPython.core.display.Math object>"
      ]
     },
     "metadata": {},
     "output_type": "display_data"
    },
    {
     "name": "stdout",
     "output_type": "stream",
     "text": [
      "Salida counts = {'1': 1}\n",
      "Given the former angle theta and quantum state, the new prediction is:\n",
      "Prediction = 1\n",
      "int(Prediction) = 1 \n",
      "\n",
      "Overall Probability = -0.44349199652326526\n"
     ]
    },
    {
     "data": {
      "text/latex": [
       "$\\displaystyle \n",
       "$$ |\\psi\\rangle =\\begin{bmatrix}\n",
       "-0.64164 \\\\\n",
       "0.76701\\end{bmatrix} $"
      ],
      "text/plain": [
       "<IPython.core.display.Math object>"
      ]
     },
     "metadata": {},
     "output_type": "display_data"
    },
    {
     "name": "stdout",
     "output_type": "stream",
     "text": [
      "Salida counts = {'1': 1}\n",
      "Given the former angle theta and quantum state, the new prediction is:\n",
      "Prediction = 1\n",
      "int(Prediction) = 1 \n",
      "\n",
      "Overall Probability = -1.086028695100757\n"
     ]
    },
    {
     "data": {
      "text/latex": [
       "$\\displaystyle \n",
       "$$ |\\psi\\rangle =\\begin{bmatrix}\n",
       "-0.99088 \\\\\n",
       "-0.13472\\end{bmatrix} $"
      ],
      "text/plain": [
       "<IPython.core.display.Math object>"
      ]
     },
     "metadata": {},
     "output_type": "display_data"
    },
    {
     "name": "stdout",
     "output_type": "stream",
     "text": [
      "Salida counts = {'0': 1}\n",
      "Given the former angle theta and quantum state, the new prediction is:\n",
      "Prediction = 0\n",
      "int(Prediction) = 0 \n",
      "\n",
      "Overall Probability = -0.3244341320692427\n"
     ]
    },
    {
     "data": {
      "text/latex": [
       "$\\displaystyle \n",
       "$$ |\\psi\\rangle =\\begin{bmatrix}\n",
       "-0.48785 \\\\\n",
       "0.87293\\end{bmatrix} $"
      ],
      "text/plain": [
       "<IPython.core.display.Math object>"
      ]
     },
     "metadata": {},
     "output_type": "display_data"
    },
    {
     "name": "stdout",
     "output_type": "stream",
     "text": [
      "Salida counts = {'1': 1}\n",
      "Given the former angle theta and quantum state, the new prediction is:\n",
      "Prediction = 1\n",
      "int(Prediction) = 1 \n",
      "\n",
      "Overall Probability = -0.9121395635554819\n"
     ]
    },
    {
     "data": {
      "text/latex": [
       "$\\displaystyle \n",
       "$$ |\\psi\\rangle =\\begin{bmatrix}\n",
       "-0.99049 \\\\\n",
       "0.13757\\end{bmatrix} $"
      ],
      "text/plain": [
       "<IPython.core.display.Math object>"
      ]
     },
     "metadata": {},
     "output_type": "display_data"
    },
    {
     "name": "stdout",
     "output_type": "stream",
     "text": [
      "Salida counts = {'0': 1}\n",
      "Given the former angle theta and quantum state, the new prediction is:\n",
      "Prediction = 0\n",
      "int(Prediction) = 0 \n",
      "\n",
      "Overall Probability = -0.9063060620418495\n"
     ]
    },
    {
     "data": {
      "text/latex": [
       "$\\displaystyle \n",
       "$$ |\\psi\\rangle =\\begin{bmatrix}\n",
       "-0.98919 \\\\\n",
       "0.14664\\end{bmatrix} $"
      ],
      "text/plain": [
       "<IPython.core.display.Math object>"
      ]
     },
     "metadata": {},
     "output_type": "display_data"
    },
    {
     "name": "stdout",
     "output_type": "stream",
     "text": [
      "Salida counts = {'0': 1}\n",
      "Given the former angle theta and quantum state, the new prediction is:\n",
      "Prediction = 0\n",
      "int(Prediction) = 0 \n",
      "\n",
      "Overall Probability = -0.4961300889058129\n"
     ]
    },
    {
     "data": {
      "text/latex": [
       "$\\displaystyle \n",
       "$$ |\\psi\\rangle =\\begin{bmatrix}\n",
       "-0.70280 \\\\\n",
       "0.71139\\end{bmatrix} $"
      ],
      "text/plain": [
       "<IPython.core.display.Math object>"
      ]
     },
     "metadata": {},
     "output_type": "display_data"
    },
    {
     "name": "stdout",
     "output_type": "stream",
     "text": [
      "Salida counts = {'0': 1}\n",
      "Given the former angle theta and quantum state, the new prediction is:\n",
      "Prediction = 0\n",
      "int(Prediction) = 0 \n",
      "\n",
      "Overall Probability = -0.7317276507022685\n"
     ]
    },
    {
     "data": {
      "text/latex": [
       "$\\displaystyle \n",
       "$$ |\\psi\\rangle =\\begin{bmatrix}\n",
       "-0.91252 \\\\\n",
       "0.40904\\end{bmatrix} $"
      ],
      "text/plain": [
       "<IPython.core.display.Math object>"
      ]
     },
     "metadata": {},
     "output_type": "display_data"
    },
    {
     "name": "stdout",
     "output_type": "stream",
     "text": [
      "Salida counts = {'0': 1}\n",
      "Given the former angle theta and quantum state, the new prediction is:\n",
      "Prediction = 0\n",
      "int(Prediction) = 0 \n",
      "\n",
      "Overall Probability = -0.4839603266278008\n"
     ]
    },
    {
     "data": {
      "text/latex": [
       "$\\displaystyle \n",
       "$$ |\\psi\\rangle =\\begin{bmatrix}\n",
       "-0.68907 \\\\\n",
       "0.72470\\end{bmatrix} $"
      ],
      "text/plain": [
       "<IPython.core.display.Math object>"
      ]
     },
     "metadata": {},
     "output_type": "display_data"
    },
    {
     "name": "stdout",
     "output_type": "stream",
     "text": [
      "Salida counts = {'0': 1}\n",
      "Given the former angle theta and quantum state, the new prediction is:\n",
      "Prediction = 0\n",
      "int(Prediction) = 0 \n",
      "\n",
      "Overall Probability = -0.1421814542038241\n"
     ]
    },
    {
     "data": {
      "text/latex": [
       "$\\displaystyle \n",
       "$$ |\\psi\\rangle =\\begin{bmatrix}\n",
       "-0.22149 \\\\\n",
       "0.97516\\end{bmatrix} $"
      ],
      "text/plain": [
       "<IPython.core.display.Math object>"
      ]
     },
     "metadata": {},
     "output_type": "display_data"
    },
    {
     "name": "stdout",
     "output_type": "stream",
     "text": [
      "Salida counts = {'1': 1}\n",
      "Given the former angle theta and quantum state, the new prediction is:\n",
      "Prediction = 1\n",
      "int(Prediction) = 1 \n",
      "\n",
      "Overall Probability = -0.4689363022912371\n"
     ]
    },
    {
     "data": {
      "text/latex": [
       "$\\displaystyle \n",
       "$$ |\\psi\\rangle =\\begin{bmatrix}\n",
       "-0.67178 \\\\\n",
       "0.74075\\end{bmatrix} $"
      ],
      "text/plain": [
       "<IPython.core.display.Math object>"
      ]
     },
     "metadata": {},
     "output_type": "display_data"
    },
    {
     "name": "stdout",
     "output_type": "stream",
     "text": [
      "Salida counts = {'0': 1}\n",
      "Given the former angle theta and quantum state, the new prediction is:\n",
      "Prediction = 0\n",
      "int(Prediction) = 0 \n",
      "\n",
      "Overall Probability = -0.8926740392720127\n"
     ]
    },
    {
     "data": {
      "text/latex": [
       "$\\displaystyle \n",
       "$$ |\\psi\\rangle =\\begin{bmatrix}\n",
       "-0.98582 \\\\\n",
       "0.16779\\end{bmatrix} $"
      ],
      "text/plain": [
       "<IPython.core.display.Math object>"
      ]
     },
     "metadata": {},
     "output_type": "display_data"
    },
    {
     "name": "stdout",
     "output_type": "stream",
     "text": [
      "Salida counts = {'0': 1}\n",
      "Given the former angle theta and quantum state, the new prediction is:\n",
      "Prediction = 0\n",
      "int(Prediction) = 0 \n",
      "\n",
      "Overall Probability = -0.9120404124182422\n"
     ]
    },
    {
     "data": {
      "text/latex": [
       "$\\displaystyle \n",
       "$$ |\\psi\\rangle =\\begin{bmatrix}\n",
       "-0.99047 \\\\\n",
       "0.13773\\end{bmatrix} $"
      ],
      "text/plain": [
       "<IPython.core.display.Math object>"
      ]
     },
     "metadata": {},
     "output_type": "display_data"
    },
    {
     "name": "stdout",
     "output_type": "stream",
     "text": [
      "Salida counts = {'0': 1}\n",
      "Given the former angle theta and quantum state, the new prediction is:\n",
      "Prediction = 0\n",
      "int(Prediction) = 0 \n",
      "\n",
      "Overall Probability = -1.0889317273560508\n"
     ]
    },
    {
     "data": {
      "text/latex": [
       "$\\displaystyle \n",
       "$$ |\\psi\\rangle =\\begin{bmatrix}\n",
       "-0.99026 \\\\\n",
       "-0.13924\\end{bmatrix} $"
      ],
      "text/plain": [
       "<IPython.core.display.Math object>"
      ]
     },
     "metadata": {},
     "output_type": "display_data"
    },
    {
     "name": "stdout",
     "output_type": "stream",
     "text": [
      "Salida counts = {'0': 1}\n",
      "Given the former angle theta and quantum state, the new prediction is:\n",
      "Prediction = 0\n",
      "int(Prediction) = 0 \n",
      "\n",
      "Overall Probability = -0.29424352066039205\n"
     ]
    },
    {
     "data": {
      "text/latex": [
       "$\\displaystyle \n",
       "$$ |\\psi\\rangle =\\begin{bmatrix}\n",
       "-0.44592 \\\\\n",
       "0.89508\\end{bmatrix} $"
      ],
      "text/plain": [
       "<IPython.core.display.Math object>"
      ]
     },
     "metadata": {},
     "output_type": "display_data"
    },
    {
     "name": "stdout",
     "output_type": "stream",
     "text": [
      "Salida counts = {'1': 1}\n",
      "Given the former angle theta and quantum state, the new prediction is:\n",
      "Prediction = 1\n",
      "int(Prediction) = 1 \n",
      "\n",
      "Overall Probability = -0.9080672954055959\n"
     ]
    },
    {
     "data": {
      "text/latex": [
       "$\\displaystyle \n",
       "$$ |\\psi\\rangle =\\begin{bmatrix}\n",
       "-0.98959 \\\\\n",
       "0.14391\\end{bmatrix} $"
      ],
      "text/plain": [
       "<IPython.core.display.Math object>"
      ]
     },
     "metadata": {},
     "output_type": "display_data"
    },
    {
     "name": "stdout",
     "output_type": "stream",
     "text": [
      "Salida counts = {'0': 1}\n",
      "Given the former angle theta and quantum state, the new prediction is:\n",
      "Prediction = 0\n",
      "int(Prediction) = 0 \n",
      "\n",
      "Overall Probability = -1.0856902401838697\n"
     ]
    },
    {
     "data": {
      "text/latex": [
       "$\\displaystyle \n",
       "$$ |\\psi\\rangle =\\begin{bmatrix}\n",
       "-0.99095 \\\\\n",
       "-0.13420\\end{bmatrix} $"
      ],
      "text/plain": [
       "<IPython.core.display.Math object>"
      ]
     },
     "metadata": {},
     "output_type": "display_data"
    },
    {
     "name": "stdout",
     "output_type": "stream",
     "text": [
      "Salida counts = {'0': 1}\n",
      "Given the former angle theta and quantum state, the new prediction is:\n",
      "Prediction = 0\n",
      "int(Prediction) = 0 \n",
      "\n",
      "Overall Probability = 0.06810368538779052\n"
     ]
    },
    {
     "data": {
      "text/latex": [
       "$\\displaystyle \n",
       "$$ |\\psi\\rangle =\\begin{bmatrix}\n",
       "0.10677 \\\\\n",
       "0.99428\\end{bmatrix} $"
      ],
      "text/plain": [
       "<IPython.core.display.Math object>"
      ]
     },
     "metadata": {},
     "output_type": "display_data"
    },
    {
     "name": "stdout",
     "output_type": "stream",
     "text": [
      "Salida counts = {'1': 1}\n",
      "Given the former angle theta and quantum state, the new prediction is:\n",
      "Prediction = 1\n",
      "int(Prediction) = 1 \n",
      "\n",
      "Overall Probability = -0.37057347683451713\n"
     ]
    },
    {
     "data": {
      "text/latex": [
       "$\\displaystyle \n",
       "$$ |\\psi\\rangle =\\begin{bmatrix}\n",
       "-0.54978 \\\\\n",
       "0.83531\\end{bmatrix} $"
      ],
      "text/plain": [
       "<IPython.core.display.Math object>"
      ]
     },
     "metadata": {},
     "output_type": "display_data"
    },
    {
     "name": "stdout",
     "output_type": "stream",
     "text": [
      "Salida counts = {'0': 1}\n",
      "Given the former angle theta and quantum state, the new prediction is:\n",
      "Prediction = 0\n",
      "int(Prediction) = 0 \n",
      "\n",
      "Overall Probability = -0.532531330381408\n"
     ]
    },
    {
     "data": {
      "text/latex": [
       "$\\displaystyle \n",
       "$$ |\\psi\\rangle =\\begin{bmatrix}\n",
       "-0.74230 \\\\\n",
       "0.67007\\end{bmatrix} $"
      ],
      "text/plain": [
       "<IPython.core.display.Math object>"
      ]
     },
     "metadata": {},
     "output_type": "display_data"
    },
    {
     "name": "stdout",
     "output_type": "stream",
     "text": [
      "Salida counts = {'0': 1}\n",
      "Given the former angle theta and quantum state, the new prediction is:\n",
      "Prediction = 0\n",
      "int(Prediction) = 0 \n",
      "\n",
      "Overall Probability = -0.9894674629257532\n"
     ]
    },
    {
     "data": {
      "text/latex": [
       "$\\displaystyle \n",
       "$$ |\\psi\\rangle =\\begin{bmatrix}\n",
       "-0.99986 \\\\\n",
       "0.01654\\end{bmatrix} $"
      ],
      "text/plain": [
       "<IPython.core.display.Math object>"
      ]
     },
     "metadata": {},
     "output_type": "display_data"
    },
    {
     "name": "stdout",
     "output_type": "stream",
     "text": [
      "Salida counts = {'0': 1}\n",
      "Given the former angle theta and quantum state, the new prediction is:\n",
      "Prediction = 0\n",
      "int(Prediction) = 0 \n",
      "\n",
      "Overall Probability = -1.0437929447779033\n"
     ]
    },
    {
     "data": {
      "text/latex": [
       "$\\displaystyle \n",
       "$$ |\\psi\\rangle =\\begin{bmatrix}\n",
       "-0.99763 \\\\\n",
       "-0.06874\\end{bmatrix} $"
      ],
      "text/plain": [
       "<IPython.core.display.Math object>"
      ]
     },
     "metadata": {},
     "output_type": "display_data"
    },
    {
     "name": "stdout",
     "output_type": "stream",
     "text": [
      "Salida counts = {'0': 1}\n",
      "Given the former angle theta and quantum state, the new prediction is:\n",
      "Prediction = 0\n",
      "int(Prediction) = 0 \n",
      "\n",
      "Overall Probability = 0.052688450907970336\n"
     ]
    },
    {
     "data": {
      "text/latex": [
       "$\\displaystyle \n",
       "$$ |\\psi\\rangle =\\begin{bmatrix}\n",
       "0.08267 \\\\\n",
       "0.99658\\end{bmatrix} $"
      ],
      "text/plain": [
       "<IPython.core.display.Math object>"
      ]
     },
     "metadata": {},
     "output_type": "display_data"
    },
    {
     "name": "stdout",
     "output_type": "stream",
     "text": [
      "Salida counts = {'1': 1}\n",
      "Given the former angle theta and quantum state, the new prediction is:\n",
      "Prediction = 1\n",
      "int(Prediction) = 1 \n",
      "\n",
      "Overall Probability = -0.42629112220497106\n"
     ]
    },
    {
     "data": {
      "text/latex": [
       "$\\displaystyle \n",
       "$$ |\\psi\\rangle =\\begin{bmatrix}\n",
       "-0.62069 \\\\\n",
       "0.78406\\end{bmatrix} $"
      ],
      "text/plain": [
       "<IPython.core.display.Math object>"
      ]
     },
     "metadata": {},
     "output_type": "display_data"
    },
    {
     "name": "stdout",
     "output_type": "stream",
     "text": [
      "Salida counts = {'1': 1}\n",
      "Given the former angle theta and quantum state, the new prediction is:\n",
      "Prediction = 1\n",
      "int(Prediction) = 1 \n",
      "\n",
      "Overall Probability = -0.4453649367800899\n"
     ]
    },
    {
     "data": {
      "text/latex": [
       "$\\displaystyle \n",
       "$$ |\\psi\\rangle =\\begin{bmatrix}\n",
       "-0.64389 \\\\\n",
       "0.76511\\end{bmatrix} $"
      ],
      "text/plain": [
       "<IPython.core.display.Math object>"
      ]
     },
     "metadata": {},
     "output_type": "display_data"
    },
    {
     "name": "stdout",
     "output_type": "stream",
     "text": [
      "Salida counts = {'1': 1}\n",
      "Given the former angle theta and quantum state, the new prediction is:\n",
      "Prediction = 1\n",
      "int(Prediction) = 1 \n",
      "\n",
      "Overall Probability = -0.9053488469232589\n"
     ]
    },
    {
     "data": {
      "text/latex": [
       "$\\displaystyle \n",
       "$$ |\\psi\\rangle =\\begin{bmatrix}\n",
       "-0.98897 \\\\\n",
       "0.14813\\end{bmatrix} $"
      ],
      "text/plain": [
       "<IPython.core.display.Math object>"
      ]
     },
     "metadata": {},
     "output_type": "display_data"
    },
    {
     "name": "stdout",
     "output_type": "stream",
     "text": [
      "Salida counts = {'0': 1}\n",
      "Given the former angle theta and quantum state, the new prediction is:\n",
      "Prediction = 0\n",
      "int(Prediction) = 0 \n",
      "\n",
      "Overall Probability = -0.14329621896111738\n"
     ]
    },
    {
     "data": {
      "text/latex": [
       "$\\displaystyle \n",
       "$$ |\\psi\\rangle =\\begin{bmatrix}\n",
       "-0.22319 \\\\\n",
       "0.97477\\end{bmatrix} $"
      ],
      "text/plain": [
       "<IPython.core.display.Math object>"
      ]
     },
     "metadata": {},
     "output_type": "display_data"
    },
    {
     "name": "stdout",
     "output_type": "stream",
     "text": [
      "Salida counts = {'1': 1}\n",
      "Given the former angle theta and quantum state, the new prediction is:\n",
      "Prediction = 1\n",
      "int(Prediction) = 1 \n",
      "\n",
      "Overall Probability = -1.084174052308638\n"
     ]
    },
    {
     "data": {
      "text/latex": [
       "$\\displaystyle \n",
       "$$ |\\psi\\rangle =\\begin{bmatrix}\n",
       "-0.99127 \\\\\n",
       "-0.13184\\end{bmatrix} $"
      ],
      "text/plain": [
       "<IPython.core.display.Math object>"
      ]
     },
     "metadata": {},
     "output_type": "display_data"
    },
    {
     "name": "stdout",
     "output_type": "stream",
     "text": [
      "Salida counts = {'0': 1}\n",
      "Given the former angle theta and quantum state, the new prediction is:\n",
      "Prediction = 0\n",
      "int(Prediction) = 0 \n",
      "\n",
      "Overall Probability = -0.8972771707521459\n"
     ]
    },
    {
     "data": {
      "text/latex": [
       "$\\displaystyle \n",
       "$$ |\\psi\\rangle =\\begin{bmatrix}\n",
       "-0.98701 \\\\\n",
       "0.16066\\end{bmatrix} $"
      ],
      "text/plain": [
       "<IPython.core.display.Math object>"
      ]
     },
     "metadata": {},
     "output_type": "display_data"
    },
    {
     "name": "stdout",
     "output_type": "stream",
     "text": [
      "Salida counts = {'0': 1}\n",
      "Given the former angle theta and quantum state, the new prediction is:\n",
      "Prediction = 0\n",
      "int(Prediction) = 0 \n",
      "\n",
      "Overall Probability = -0.6970080898775106\n"
     ]
    },
    {
     "data": {
      "text/latex": [
       "$\\displaystyle \n",
       "$$ |\\psi\\rangle =\\begin{bmatrix}\n",
       "-0.88886 \\\\\n",
       "0.45817\\end{bmatrix} $"
      ],
      "text/plain": [
       "<IPython.core.display.Math object>"
      ]
     },
     "metadata": {},
     "output_type": "display_data"
    },
    {
     "name": "stdout",
     "output_type": "stream",
     "text": [
      "Salida counts = {'0': 1}\n",
      "Given the former angle theta and quantum state, the new prediction is:\n",
      "Prediction = 0\n",
      "int(Prediction) = 0 \n",
      "\n",
      "Overall Probability = -0.5272788079673688\n"
     ]
    },
    {
     "data": {
      "text/latex": [
       "$\\displaystyle \n",
       "$$ |\\psi\\rangle =\\begin{bmatrix}\n",
       "-0.73675 \\\\\n",
       "0.67617\\end{bmatrix} $"
      ],
      "text/plain": [
       "<IPython.core.display.Math object>"
      ]
     },
     "metadata": {},
     "output_type": "display_data"
    },
    {
     "name": "stdout",
     "output_type": "stream",
     "text": [
      "Salida counts = {'0': 1}\n",
      "Given the former angle theta and quantum state, the new prediction is:\n",
      "Prediction = 0\n",
      "int(Prediction) = 0 \n",
      "\n",
      "Overall Probability = -1.06649963782868\n"
     ]
    },
    {
     "data": {
      "text/latex": [
       "$\\displaystyle \n",
       "$$ |\\psi\\rangle =\\begin{bmatrix}\n",
       "-0.99455 \\\\\n",
       "-0.10427\\end{bmatrix} $"
      ],
      "text/plain": [
       "<IPython.core.display.Math object>"
      ]
     },
     "metadata": {},
     "output_type": "display_data"
    },
    {
     "name": "stdout",
     "output_type": "stream",
     "text": [
      "Salida counts = {'0': 1}\n",
      "Given the former angle theta and quantum state, the new prediction is:\n",
      "Prediction = 0\n",
      "int(Prediction) = 0 \n",
      "\n",
      "Overall Probability = -0.9479954768228451\n"
     ]
    },
    {
     "data": {
      "text/latex": [
       "$\\displaystyle \n",
       "$$ |\\psi\\rangle =\\begin{bmatrix}\n",
       "-0.99667 \\\\\n",
       "0.08160\\end{bmatrix} $"
      ],
      "text/plain": [
       "<IPython.core.display.Math object>"
      ]
     },
     "metadata": {},
     "output_type": "display_data"
    },
    {
     "name": "stdout",
     "output_type": "stream",
     "text": [
      "Salida counts = {'0': 1}\n",
      "Given the former angle theta and quantum state, the new prediction is:\n",
      "Prediction = 0\n",
      "int(Prediction) = 0 \n",
      "\n",
      "Overall Probability = -0.8640942591032199\n"
     ]
    },
    {
     "data": {
      "text/latex": [
       "$\\displaystyle \n",
       "$$ |\\psi\\rangle =\\begin{bmatrix}\n",
       "-0.97730 \\\\\n",
       "0.21186\\end{bmatrix} $"
      ],
      "text/plain": [
       "<IPython.core.display.Math object>"
      ]
     },
     "metadata": {},
     "output_type": "display_data"
    },
    {
     "name": "stdout",
     "output_type": "stream",
     "text": [
      "Salida counts = {'0': 1}\n",
      "Given the former angle theta and quantum state, the new prediction is:\n",
      "Prediction = 0\n",
      "int(Prediction) = 0 \n",
      "\n",
      "Overall Probability = -0.8969976592085727\n"
     ]
    },
    {
     "data": {
      "text/latex": [
       "$\\displaystyle \n",
       "$$ |\\psi\\rangle =\\begin{bmatrix}\n",
       "-0.98694 \\\\\n",
       "0.16109\\end{bmatrix} $"
      ],
      "text/plain": [
       "<IPython.core.display.Math object>"
      ]
     },
     "metadata": {},
     "output_type": "display_data"
    },
    {
     "name": "stdout",
     "output_type": "stream",
     "text": [
      "Salida counts = {'0': 1}\n",
      "Given the former angle theta and quantum state, the new prediction is:\n",
      "Prediction = 0\n",
      "int(Prediction) = 0 \n",
      "\n",
      "Overall Probability = -0.9029081023702508\n"
     ]
    },
    {
     "data": {
      "text/latex": [
       "$\\displaystyle \n",
       "$$ |\\psi\\rangle =\\begin{bmatrix}\n",
       "-0.98839 \\\\\n",
       "0.15192\\end{bmatrix} $"
      ],
      "text/plain": [
       "<IPython.core.display.Math object>"
      ]
     },
     "metadata": {},
     "output_type": "display_data"
    },
    {
     "name": "stdout",
     "output_type": "stream",
     "text": [
      "Salida counts = {'0': 1}\n",
      "Given the former angle theta and quantum state, the new prediction is:\n",
      "Prediction = 0\n",
      "int(Prediction) = 0 \n",
      "\n",
      "Overall Probability = -0.09902486568616374\n"
     ]
    },
    {
     "data": {
      "text/latex": [
       "$\\displaystyle \n",
       "$$ |\\psi\\rangle =\\begin{bmatrix}\n",
       "-0.15492 \\\\\n",
       "0.98793\\end{bmatrix} $"
      ],
      "text/plain": [
       "<IPython.core.display.Math object>"
      ]
     },
     "metadata": {},
     "output_type": "display_data"
    },
    {
     "name": "stdout",
     "output_type": "stream",
     "text": [
      "Salida counts = {'1': 1}\n",
      "Given the former angle theta and quantum state, the new prediction is:\n",
      "Prediction = 1\n",
      "int(Prediction) = 1 \n",
      "\n",
      "Overall Probability = -0.8935330346094283\n"
     ]
    },
    {
     "data": {
      "text/latex": [
       "$\\displaystyle \n",
       "$$ |\\psi\\rangle =\\begin{bmatrix}\n",
       "-0.98605 \\\\\n",
       "0.16646\\end{bmatrix} $"
      ],
      "text/plain": [
       "<IPython.core.display.Math object>"
      ]
     },
     "metadata": {},
     "output_type": "display_data"
    },
    {
     "name": "stdout",
     "output_type": "stream",
     "text": [
      "Salida counts = {'0': 1}\n",
      "Given the former angle theta and quantum state, the new prediction is:\n",
      "Prediction = 0\n",
      "int(Prediction) = 0 \n",
      "\n",
      "Overall Probability = -0.9116221895748058\n"
     ]
    },
    {
     "data": {
      "text/latex": [
       "$\\displaystyle \n",
       "$$ |\\psi\\rangle =\\begin{bmatrix}\n",
       "-0.99038 \\\\\n",
       "0.13838\\end{bmatrix} $"
      ],
      "text/plain": [
       "<IPython.core.display.Math object>"
      ]
     },
     "metadata": {},
     "output_type": "display_data"
    },
    {
     "name": "stdout",
     "output_type": "stream",
     "text": [
      "Salida counts = {'0': 1}\n",
      "Given the former angle theta and quantum state, the new prediction is:\n",
      "Prediction = 0\n",
      "int(Prediction) = 0 \n",
      "\n",
      "Overall Probability = -1.083390014544969\n"
     ]
    },
    {
     "data": {
      "text/latex": [
       "$\\displaystyle \n",
       "$$ |\\psi\\rangle =\\begin{bmatrix}\n",
       "-0.99143 \\\\\n",
       "-0.13061\\end{bmatrix} $"
      ],
      "text/plain": [
       "<IPython.core.display.Math object>"
      ]
     },
     "metadata": {},
     "output_type": "display_data"
    },
    {
     "name": "stdout",
     "output_type": "stream",
     "text": [
      "Salida counts = {'0': 1}\n",
      "Given the former angle theta and quantum state, the new prediction is:\n",
      "Prediction = 0\n",
      "int(Prediction) = 0 \n",
      "\n",
      "Overall Probability = -0.6857886155088149\n"
     ]
    },
    {
     "data": {
      "text/latex": [
       "$\\displaystyle \n",
       "$$ |\\psi\\rangle =\\begin{bmatrix}\n",
       "-0.88065 \\\\\n",
       "0.47377\\end{bmatrix} $"
      ],
      "text/plain": [
       "<IPython.core.display.Math object>"
      ]
     },
     "metadata": {},
     "output_type": "display_data"
    },
    {
     "name": "stdout",
     "output_type": "stream",
     "text": [
      "Salida counts = {'1': 1}\n",
      "Given the former angle theta and quantum state, the new prediction is:\n",
      "Prediction = 1\n",
      "int(Prediction) = 1 \n",
      "\n",
      "Overall Probability = -0.6783657281721622\n"
     ]
    },
    {
     "data": {
      "text/latex": [
       "$\\displaystyle \n",
       "$$ |\\psi\\rangle =\\begin{bmatrix}\n",
       "-0.87507 \\\\\n",
       "0.48400\\end{bmatrix} $"
      ],
      "text/plain": [
       "<IPython.core.display.Math object>"
      ]
     },
     "metadata": {},
     "output_type": "display_data"
    },
    {
     "name": "stdout",
     "output_type": "stream",
     "text": [
      "Salida counts = {'0': 1}\n",
      "Given the former angle theta and quantum state, the new prediction is:\n",
      "Prediction = 0\n",
      "int(Prediction) = 0 \n",
      "\n",
      "Overall Probability = -0.2794494846900582\n"
     ]
    },
    {
     "data": {
      "text/latex": [
       "$\\displaystyle \n",
       "$$ |\\psi\\rangle =\\begin{bmatrix}\n",
       "-0.42500 \\\\\n",
       "0.90519\\end{bmatrix} $"
      ],
      "text/plain": [
       "<IPython.core.display.Math object>"
      ]
     },
     "metadata": {},
     "output_type": "display_data"
    },
    {
     "name": "stdout",
     "output_type": "stream",
     "text": [
      "Salida counts = {'1': 1}\n",
      "Given the former angle theta and quantum state, the new prediction is:\n",
      "Prediction = 1\n",
      "int(Prediction) = 1 \n",
      "\n",
      "Overall Probability = -1.0489537333357448\n"
     ]
    },
    {
     "data": {
      "text/latex": [
       "$\\displaystyle \n",
       "$$ |\\psi\\rangle =\\begin{bmatrix}\n",
       "-0.99704 \\\\\n",
       "-0.07682\\end{bmatrix} $"
      ],
      "text/plain": [
       "<IPython.core.display.Math object>"
      ]
     },
     "metadata": {},
     "output_type": "display_data"
    },
    {
     "name": "stdout",
     "output_type": "stream",
     "text": [
      "Salida counts = {'0': 1}\n",
      "Given the former angle theta and quantum state, the new prediction is:\n",
      "Prediction = 0\n",
      "int(Prediction) = 0 \n",
      "\n",
      "Overall Probability = -0.5403702492688396\n"
     ]
    },
    {
     "data": {
      "text/latex": [
       "$\\displaystyle \n",
       "$$ |\\psi\\rangle =\\begin{bmatrix}\n",
       "-0.75050 \\\\\n",
       "0.66088\\end{bmatrix} $"
      ],
      "text/plain": [
       "<IPython.core.display.Math object>"
      ]
     },
     "metadata": {},
     "output_type": "display_data"
    },
    {
     "name": "stdout",
     "output_type": "stream",
     "text": [
      "Salida counts = {'0': 1}\n",
      "Given the former angle theta and quantum state, the new prediction is:\n",
      "Prediction = 0\n",
      "int(Prediction) = 0 \n",
      "\n",
      "Overall Probability = -1.0880827577092487\n"
     ]
    },
    {
     "data": {
      "text/latex": [
       "$\\displaystyle \n",
       "$$ |\\psi\\rangle =\\begin{bmatrix}\n",
       "-0.99044 \\\\\n",
       "-0.13792\\end{bmatrix} $"
      ],
      "text/plain": [
       "<IPython.core.display.Math object>"
      ]
     },
     "metadata": {},
     "output_type": "display_data"
    },
    {
     "name": "stdout",
     "output_type": "stream",
     "text": [
      "Salida counts = {'0': 1}\n",
      "Given the former angle theta and quantum state, the new prediction is:\n",
      "Prediction = 0\n",
      "int(Prediction) = 0 \n",
      "\n",
      "Overall Probability = -1.0855768502740104\n"
     ]
    },
    {
     "data": {
      "text/latex": [
       "$\\displaystyle \n",
       "$$ |\\psi\\rangle =\\begin{bmatrix}\n",
       "-0.99098 \\\\\n",
       "-0.13402\\end{bmatrix} $"
      ],
      "text/plain": [
       "<IPython.core.display.Math object>"
      ]
     },
     "metadata": {},
     "output_type": "display_data"
    },
    {
     "name": "stdout",
     "output_type": "stream",
     "text": [
      "Salida counts = {'0': 1}\n",
      "Given the former angle theta and quantum state, the new prediction is:\n",
      "Prediction = 0\n",
      "int(Prediction) = 0 \n",
      "\n",
      "Overall Probability = -0.36500234957586886\n"
     ]
    },
    {
     "data": {
      "text/latex": [
       "$\\displaystyle \n",
       "$$ |\\psi\\rangle =\\begin{bmatrix}\n",
       "-0.54244 \\\\\n",
       "0.84009\\end{bmatrix} $"
      ],
      "text/plain": [
       "<IPython.core.display.Math object>"
      ]
     },
     "metadata": {},
     "output_type": "display_data"
    },
    {
     "name": "stdout",
     "output_type": "stream",
     "text": [
      "Salida counts = {'1': 1}\n",
      "Given the former angle theta and quantum state, the new prediction is:\n",
      "Prediction = 1\n",
      "int(Prediction) = 1 \n",
      "\n",
      "Overall Probability = 0.05425519406297881\n"
     ]
    },
    {
     "data": {
      "text/latex": [
       "$\\displaystyle \n",
       "$$ |\\psi\\rangle =\\begin{bmatrix}\n",
       "0.08512 \\\\\n",
       "0.99637\\end{bmatrix} $"
      ],
      "text/plain": [
       "<IPython.core.display.Math object>"
      ]
     },
     "metadata": {},
     "output_type": "display_data"
    },
    {
     "name": "stdout",
     "output_type": "stream",
     "text": [
      "Salida counts = {'1': 1}\n",
      "Given the former angle theta and quantum state, the new prediction is:\n",
      "Prediction = 1\n",
      "int(Prediction) = 1 \n",
      "\n",
      "Overall Probability = -0.9899605282742409\n"
     ]
    },
    {
     "data": {
      "text/latex": [
       "$\\displaystyle \n",
       "$$ |\\psi\\rangle =\\begin{bmatrix}\n",
       "-0.99988 \\\\\n",
       "0.01577\\end{bmatrix} $"
      ],
      "text/plain": [
       "<IPython.core.display.Math object>"
      ]
     },
     "metadata": {},
     "output_type": "display_data"
    },
    {
     "name": "stdout",
     "output_type": "stream",
     "text": [
      "Salida counts = {'0': 1}\n",
      "Given the former angle theta and quantum state, the new prediction is:\n",
      "Prediction = 0\n",
      "int(Prediction) = 0 \n",
      "\n",
      "Overall Probability = -1.0488130407455387\n"
     ]
    },
    {
     "data": {
      "text/latex": [
       "$\\displaystyle \n",
       "$$ |\\psi\\rangle =\\begin{bmatrix}\n",
       "-0.99706 \\\\\n",
       "-0.07660\\end{bmatrix} $"
      ],
      "text/plain": [
       "<IPython.core.display.Math object>"
      ]
     },
     "metadata": {},
     "output_type": "display_data"
    },
    {
     "name": "stdout",
     "output_type": "stream",
     "text": [
      "Salida counts = {'0': 1}\n",
      "Given the former angle theta and quantum state, the new prediction is:\n",
      "Prediction = 0\n",
      "int(Prediction) = 0 \n",
      "\n",
      "Overall Probability = -0.16998460196202075\n"
     ]
    },
    {
     "data": {
      "text/latex": [
       "$\\displaystyle \n",
       "$$ |\\psi\\rangle =\\begin{bmatrix}\n",
       "-0.26385 \\\\\n",
       "0.96456\\end{bmatrix} $"
      ],
      "text/plain": [
       "<IPython.core.display.Math object>"
      ]
     },
     "metadata": {},
     "output_type": "display_data"
    },
    {
     "name": "stdout",
     "output_type": "stream",
     "text": [
      "Salida counts = {'1': 1}\n",
      "Given the former angle theta and quantum state, the new prediction is:\n",
      "Prediction = 1\n",
      "int(Prediction) = 1 \n",
      "\n",
      "Overall Probability = -1.086028695100757\n"
     ]
    },
    {
     "data": {
      "text/latex": [
       "$\\displaystyle \n",
       "$$ |\\psi\\rangle =\\begin{bmatrix}\n",
       "-0.99088 \\\\\n",
       "-0.13472\\end{bmatrix} $"
      ],
      "text/plain": [
       "<IPython.core.display.Math object>"
      ]
     },
     "metadata": {},
     "output_type": "display_data"
    },
    {
     "name": "stdout",
     "output_type": "stream",
     "text": [
      "Salida counts = {'0': 1}\n",
      "Given the former angle theta and quantum state, the new prediction is:\n",
      "Prediction = 0\n",
      "int(Prediction) = 0 \n",
      "\n",
      "Overall Probability = -0.4452745118585537\n"
     ]
    },
    {
     "data": {
      "text/latex": [
       "$\\displaystyle \n",
       "$$ |\\psi\\rangle =\\begin{bmatrix}\n",
       "-0.64379 \\\\\n",
       "0.76521\\end{bmatrix} $"
      ],
      "text/plain": [
       "<IPython.core.display.Math object>"
      ]
     },
     "metadata": {},
     "output_type": "display_data"
    },
    {
     "name": "stdout",
     "output_type": "stream",
     "text": [
      "Salida counts = {'0': 1}\n",
      "Given the former angle theta and quantum state, the new prediction is:\n",
      "Prediction = 0\n",
      "int(Prediction) = 0 \n",
      "\n",
      "Overall Probability = -0.3498479180698119\n"
     ]
    },
    {
     "data": {
      "text/latex": [
       "$\\displaystyle \n",
       "$$ |\\psi\\rangle =\\begin{bmatrix}\n",
       "-0.52229 \\\\\n",
       "0.85276\\end{bmatrix} $"
      ],
      "text/plain": [
       "<IPython.core.display.Math object>"
      ]
     },
     "metadata": {},
     "output_type": "display_data"
    },
    {
     "name": "stdout",
     "output_type": "stream",
     "text": [
      "Salida counts = {'0': 1}\n",
      "Given the former angle theta and quantum state, the new prediction is:\n",
      "Prediction = 0\n",
      "int(Prediction) = 0 \n",
      "\n",
      "Overall Probability = -1.0854364786150297\n"
     ]
    },
    {
     "data": {
      "text/latex": [
       "$\\displaystyle \n",
       "$$ |\\psi\\rangle =\\begin{bmatrix}\n",
       "-0.99101 \\\\\n",
       "-0.13380\\end{bmatrix} $"
      ],
      "text/plain": [
       "<IPython.core.display.Math object>"
      ]
     },
     "metadata": {},
     "output_type": "display_data"
    },
    {
     "name": "stdout",
     "output_type": "stream",
     "text": [
      "Salida counts = {'0': 1}\n",
      "Given the former angle theta and quantum state, the new prediction is:\n",
      "Prediction = 0\n",
      "int(Prediction) = 0 \n",
      "\n",
      "Overall Probability = -0.7394154100095249\n"
     ]
    },
    {
     "data": {
      "text/latex": [
       "$\\displaystyle \n",
       "$$ |\\psi\\rangle =\\begin{bmatrix}\n",
       "-0.91739 \\\\\n",
       "0.39799\\end{bmatrix} $"
      ],
      "text/plain": [
       "<IPython.core.display.Math object>"
      ]
     },
     "metadata": {},
     "output_type": "display_data"
    },
    {
     "name": "stdout",
     "output_type": "stream",
     "text": [
      "Salida counts = {'0': 1}\n",
      "Given the former angle theta and quantum state, the new prediction is:\n",
      "Prediction = 0\n",
      "int(Prediction) = 0 \n",
      "\n",
      "Overall Probability = -0.3206205509096948\n"
     ]
    },
    {
     "data": {
      "text/latex": [
       "$\\displaystyle \n",
       "$$ |\\psi\\rangle =\\begin{bmatrix}\n",
       "-0.48261 \\\\\n",
       "0.87584\\end{bmatrix} $"
      ],
      "text/plain": [
       "<IPython.core.display.Math object>"
      ]
     },
     "metadata": {},
     "output_type": "display_data"
    },
    {
     "name": "stdout",
     "output_type": "stream",
     "text": [
      "Salida counts = {'1': 1}\n",
      "Given the former angle theta and quantum state, the new prediction is:\n",
      "Prediction = 1\n",
      "int(Prediction) = 1 \n",
      "\n",
      "Overall Probability = -1.085215808623024\n"
     ]
    },
    {
     "data": {
      "text/latex": [
       "$\\displaystyle \n",
       "$$ |\\psi\\rangle =\\begin{bmatrix}\n",
       "-0.99105 \\\\\n",
       "-0.13346\\end{bmatrix} $"
      ],
      "text/plain": [
       "<IPython.core.display.Math object>"
      ]
     },
     "metadata": {},
     "output_type": "display_data"
    },
    {
     "name": "stdout",
     "output_type": "stream",
     "text": [
      "Salida counts = {'0': 1}\n",
      "Given the former angle theta and quantum state, the new prediction is:\n",
      "Prediction = 0\n",
      "int(Prediction) = 0 \n",
      "\n",
      "Overall Probability = -1.0854110524409475\n"
     ]
    },
    {
     "data": {
      "text/latex": [
       "$\\displaystyle \n",
       "$$ |\\psi\\rangle =\\begin{bmatrix}\n",
       "-0.99101 \\\\\n",
       "-0.13376\\end{bmatrix} $"
      ],
      "text/plain": [
       "<IPython.core.display.Math object>"
      ]
     },
     "metadata": {},
     "output_type": "display_data"
    },
    {
     "name": "stdout",
     "output_type": "stream",
     "text": [
      "Salida counts = {'0': 1}\n",
      "Given the former angle theta and quantum state, the new prediction is:\n",
      "Prediction = 0\n",
      "int(Prediction) = 0 \n",
      "\n",
      "Overall Probability = -0.317934529869075\n"
     ]
    },
    {
     "data": {
      "text/latex": [
       "$\\displaystyle \n",
       "$$ |\\psi\\rangle =\\begin{bmatrix}\n",
       "-0.47891 \\\\\n",
       "0.87787\\end{bmatrix} $"
      ],
      "text/plain": [
       "<IPython.core.display.Math object>"
      ]
     },
     "metadata": {},
     "output_type": "display_data"
    },
    {
     "name": "stdout",
     "output_type": "stream",
     "text": [
      "Salida counts = {'1': 1}\n",
      "Given the former angle theta and quantum state, the new prediction is:\n",
      "Prediction = 1\n",
      "int(Prediction) = 1 \n",
      "\n",
      "Overall Probability = -0.5414158063774308\n"
     ]
    },
    {
     "data": {
      "text/latex": [
       "$\\displaystyle \n",
       "$$ |\\psi\\rangle =\\begin{bmatrix}\n",
       "-0.75158 \\\\\n",
       "0.65964\\end{bmatrix} $"
      ],
      "text/plain": [
       "<IPython.core.display.Math object>"
      ]
     },
     "metadata": {},
     "output_type": "display_data"
    },
    {
     "name": "stdout",
     "output_type": "stream",
     "text": [
      "Salida counts = {'1': 1}\n",
      "Given the former angle theta and quantum state, the new prediction is:\n",
      "Prediction = 1\n",
      "int(Prediction) = 1 \n",
      "\n",
      "Overall Probability = -0.7264582663833481\n"
     ]
    },
    {
     "data": {
      "text/latex": [
       "$\\displaystyle \n",
       "$$ |\\psi\\rangle =\\begin{bmatrix}\n",
       "-0.90910 \\\\\n",
       "0.41658\\end{bmatrix} $"
      ],
      "text/plain": [
       "<IPython.core.display.Math object>"
      ]
     },
     "metadata": {},
     "output_type": "display_data"
    },
    {
     "name": "stdout",
     "output_type": "stream",
     "text": [
      "Salida counts = {'0': 1}\n",
      "Given the former angle theta and quantum state, the new prediction is:\n",
      "Prediction = 0\n",
      "int(Prediction) = 0 \n",
      "\n",
      "Overall Probability = -0.44283723260697355\n"
     ]
    },
    {
     "data": {
      "text/latex": [
       "$\\displaystyle \n",
       "$$ |\\psi\\rangle =\\begin{bmatrix}\n",
       "-0.64085 \\\\\n",
       "0.76766\\end{bmatrix} $"
      ],
      "text/plain": [
       "<IPython.core.display.Math object>"
      ]
     },
     "metadata": {},
     "output_type": "display_data"
    },
    {
     "name": "stdout",
     "output_type": "stream",
     "text": [
      "Salida counts = {'1': 1}\n",
      "Given the former angle theta and quantum state, the new prediction is:\n",
      "Prediction = 1\n",
      "int(Prediction) = 1 \n",
      "\n",
      "Overall Probability = -0.8410344097829812\n"
     ]
    },
    {
     "data": {
      "text/latex": [
       "$\\displaystyle \n",
       "$$ |\\psi\\rangle =\\begin{bmatrix}\n",
       "-0.96899 \\\\\n",
       "0.24712\\end{bmatrix} $"
      ],
      "text/plain": [
       "<IPython.core.display.Math object>"
      ]
     },
     "metadata": {},
     "output_type": "display_data"
    },
    {
     "name": "stdout",
     "output_type": "stream",
     "text": [
      "Salida counts = {'0': 1}\n",
      "Given the former angle theta and quantum state, the new prediction is:\n",
      "Prediction = 0\n",
      "int(Prediction) = 0 \n",
      "\n",
      "Overall Probability = -0.1850857472903092\n"
     ]
    },
    {
     "data": {
      "text/latex": [
       "$\\displaystyle \n",
       "$$ |\\psi\\rangle =\\begin{bmatrix}\n",
       "-0.28665 \\\\\n",
       "0.95803\\end{bmatrix} $"
      ],
      "text/plain": [
       "<IPython.core.display.Math object>"
      ]
     },
     "metadata": {},
     "output_type": "display_data"
    },
    {
     "name": "stdout",
     "output_type": "stream",
     "text": [
      "Salida counts = {'1': 1}\n",
      "Given the former angle theta and quantum state, the new prediction is:\n",
      "Prediction = 1\n",
      "int(Prediction) = 1 \n",
      "\n",
      "Overall Probability = -1.054695104129176\n"
     ]
    },
    {
     "data": {
      "text/latex": [
       "$\\displaystyle \n",
       "$$ |\\psi\\rangle =\\begin{bmatrix}\n",
       "-0.99631 \\\\\n",
       "-0.08581\\end{bmatrix} $"
      ],
      "text/plain": [
       "<IPython.core.display.Math object>"
      ]
     },
     "metadata": {},
     "output_type": "display_data"
    },
    {
     "name": "stdout",
     "output_type": "stream",
     "text": [
      "Salida counts = {'0': 1}\n",
      "Given the former angle theta and quantum state, the new prediction is:\n",
      "Prediction = 0\n",
      "int(Prediction) = 0 \n",
      "\n",
      "Overall Probability = -0.9124586352616788\n"
     ]
    },
    {
     "data": {
      "text/latex": [
       "$\\displaystyle \n",
       "$$ |\\psi\\rangle =\\begin{bmatrix}\n",
       "-0.99056 \\\\\n",
       "0.13708\\end{bmatrix} $"
      ],
      "text/plain": [
       "<IPython.core.display.Math object>"
      ]
     },
     "metadata": {},
     "output_type": "display_data"
    },
    {
     "name": "stdout",
     "output_type": "stream",
     "text": [
      "Salida counts = {'0': 1}\n",
      "Given the former angle theta and quantum state, the new prediction is:\n",
      "Prediction = 0\n",
      "int(Prediction) = 0 \n",
      "\n",
      "Overall Probability = -1.0624686493706796\n"
     ]
    },
    {
     "data": {
      "text/latex": [
       "$\\displaystyle \n",
       "$$ |\\psi\\rangle =\\begin{bmatrix}\n",
       "-0.99519 \\\\\n",
       "-0.09797\\end{bmatrix} $"
      ],
      "text/plain": [
       "<IPython.core.display.Math object>"
      ]
     },
     "metadata": {},
     "output_type": "display_data"
    },
    {
     "name": "stdout",
     "output_type": "stream",
     "text": [
      "Salida counts = {'0': 1}\n",
      "Given the former angle theta and quantum state, the new prediction is:\n",
      "Prediction = 0\n",
      "int(Prediction) = 0 \n",
      "\n",
      "Overall Probability = -0.6617563011991059\n"
     ]
    },
    {
     "data": {
      "text/latex": [
       "$\\displaystyle \n",
       "$$ |\\psi\\rangle =\\begin{bmatrix}\n",
       "-0.86214 \\\\\n",
       "0.50666\\end{bmatrix} $"
      ],
      "text/plain": [
       "<IPython.core.display.Math object>"
      ]
     },
     "metadata": {},
     "output_type": "display_data"
    },
    {
     "name": "stdout",
     "output_type": "stream",
     "text": [
      "Salida counts = {'0': 1}\n",
      "Given the former angle theta and quantum state, the new prediction is:\n",
      "Prediction = 0\n",
      "int(Prediction) = 0 \n",
      "\n",
      "Overall Probability = -1.053858658442303\n"
     ]
    },
    {
     "data": {
      "text/latex": [
       "$\\displaystyle \n",
       "$$ |\\psi\\rangle =\\begin{bmatrix}\n",
       "-0.99642 \\\\\n",
       "-0.08450\\end{bmatrix} $"
      ],
      "text/plain": [
       "<IPython.core.display.Math object>"
      ]
     },
     "metadata": {},
     "output_type": "display_data"
    },
    {
     "name": "stdout",
     "output_type": "stream",
     "text": [
      "Salida counts = {'0': 1}\n",
      "Given the former angle theta and quantum state, the new prediction is:\n",
      "Prediction = 0\n",
      "int(Prediction) = 0 \n",
      "\n",
      "Overall Probability = -0.28865442586932305\n"
     ]
    },
    {
     "data": {
      "text/latex": [
       "$\\displaystyle \n",
       "$$ |\\psi\\rangle =\\begin{bmatrix}\n",
       "-0.43804 \\\\\n",
       "0.89896\\end{bmatrix} $"
      ],
      "text/plain": [
       "<IPython.core.display.Math object>"
      ]
     },
     "metadata": {},
     "output_type": "display_data"
    },
    {
     "name": "stdout",
     "output_type": "stream",
     "text": [
      "Salida counts = {'0': 1}\n",
      "Given the former angle theta and quantum state, the new prediction is:\n",
      "Prediction = 0\n",
      "int(Prediction) = 0 \n",
      "\n",
      "Overall Probability = -0.9098717653582986\n"
     ]
    },
    {
     "data": {
      "text/latex": [
       "$\\displaystyle \n",
       "$$ |\\psi\\rangle =\\begin{bmatrix}\n",
       "-0.99000 \\\\\n",
       "0.14110\\end{bmatrix} $"
      ],
      "text/plain": [
       "<IPython.core.display.Math object>"
      ]
     },
     "metadata": {},
     "output_type": "display_data"
    },
    {
     "name": "stdout",
     "output_type": "stream",
     "text": [
      "Salida counts = {'0': 1}\n",
      "Given the former angle theta and quantum state, the new prediction is:\n",
      "Prediction = 0\n",
      "int(Prediction) = 0 \n",
      "\n",
      "Overall Probability = -1.0841096406966024\n"
     ]
    },
    {
     "data": {
      "text/latex": [
       "$\\displaystyle \n",
       "$$ |\\psi\\rangle =\\begin{bmatrix}\n",
       "-0.99128 \\\\\n",
       "-0.13174\\end{bmatrix} $"
      ],
      "text/plain": [
       "<IPython.core.display.Math object>"
      ]
     },
     "metadata": {},
     "output_type": "display_data"
    },
    {
     "name": "stdout",
     "output_type": "stream",
     "text": [
      "Salida counts = {'0': 1}\n",
      "Given the former angle theta and quantum state, the new prediction is:\n",
      "Prediction = 0\n",
      "int(Prediction) = 0 \n",
      "\n",
      "Overall Probability = 0.05222190364951721\n"
     ]
    },
    {
     "data": {
      "text/latex": [
       "$\\displaystyle \n",
       "$$ |\\psi\\rangle =\\begin{bmatrix}\n",
       "0.08194 \\\\\n",
       "0.99664\\end{bmatrix} $"
      ],
      "text/plain": [
       "<IPython.core.display.Math object>"
      ]
     },
     "metadata": {},
     "output_type": "display_data"
    },
    {
     "name": "stdout",
     "output_type": "stream",
     "text": [
      "Salida counts = {'1': 1}\n",
      "Given the former angle theta and quantum state, the new prediction is:\n",
      "Prediction = 1\n",
      "int(Prediction) = 1 \n",
      "\n",
      "Overall Probability = -0.7277129349136573\n"
     ]
    },
    {
     "data": {
      "text/latex": [
       "$\\displaystyle \n",
       "$$ |\\psi\\rangle =\\begin{bmatrix}\n",
       "-0.90992 \\\\\n",
       "0.41479\\end{bmatrix} $"
      ],
      "text/plain": [
       "<IPython.core.display.Math object>"
      ]
     },
     "metadata": {},
     "output_type": "display_data"
    },
    {
     "name": "stdout",
     "output_type": "stream",
     "text": [
      "Salida counts = {'0': 1}\n",
      "Given the former angle theta and quantum state, the new prediction is:\n",
      "Prediction = 0\n",
      "int(Prediction) = 0 \n",
      "\n",
      "Overall Probability = -1.0840421365944337\n"
     ]
    },
    {
     "data": {
      "text/latex": [
       "$\\displaystyle \n",
       "$$ |\\psi\\rangle =\\begin{bmatrix}\n",
       "-0.99130 \\\\\n",
       "-0.13163\\end{bmatrix} $"
      ],
      "text/plain": [
       "<IPython.core.display.Math object>"
      ]
     },
     "metadata": {},
     "output_type": "display_data"
    },
    {
     "name": "stdout",
     "output_type": "stream",
     "text": [
      "Salida counts = {'0': 1}\n",
      "Given the former angle theta and quantum state, the new prediction is:\n",
      "Prediction = 0\n",
      "int(Prediction) = 0 \n",
      "\n",
      "Overall Probability = -0.916079205839945\n"
     ]
    },
    {
     "data": {
      "text/latex": [
       "$\\displaystyle \n",
       "$$ |\\psi\\rangle =\\begin{bmatrix}\n",
       "-0.99132 \\\\\n",
       "0.13144\\end{bmatrix} $"
      ],
      "text/plain": [
       "<IPython.core.display.Math object>"
      ]
     },
     "metadata": {},
     "output_type": "display_data"
    },
    {
     "name": "stdout",
     "output_type": "stream",
     "text": [
      "Salida counts = {'0': 1}\n",
      "Given the former angle theta and quantum state, the new prediction is:\n",
      "Prediction = 0\n",
      "int(Prediction) = 0 \n",
      "\n",
      "Overall Probability = -0.3205075864416795\n"
     ]
    },
    {
     "data": {
      "text/latex": [
       "$\\displaystyle \n",
       "$$ |\\psi\\rangle =\\begin{bmatrix}\n",
       "-0.48245 \\\\\n",
       "0.87592\\end{bmatrix} $"
      ],
      "text/plain": [
       "<IPython.core.display.Math object>"
      ]
     },
     "metadata": {},
     "output_type": "display_data"
    },
    {
     "name": "stdout",
     "output_type": "stream",
     "text": [
      "Salida counts = {'0': 1}\n",
      "Given the former angle theta and quantum state, the new prediction is:\n",
      "Prediction = 0\n",
      "int(Prediction) = 0 \n",
      "\n",
      "Overall Probability = -0.6955237321731997\n"
     ]
    },
    {
     "data": {
      "text/latex": [
       "$\\displaystyle \n",
       "$$ |\\psi\\rangle =\\begin{bmatrix}\n",
       "-0.88779 \\\\\n",
       "0.46024\\end{bmatrix} $"
      ],
      "text/plain": [
       "<IPython.core.display.Math object>"
      ]
     },
     "metadata": {},
     "output_type": "display_data"
    },
    {
     "name": "stdout",
     "output_type": "stream",
     "text": [
      "Salida counts = {'0': 1}\n",
      "Given the former angle theta and quantum state, the new prediction is:\n",
      "Prediction = 0\n",
      "int(Prediction) = 0 \n",
      "\n",
      "Overall Probability = -1.084459502031525\n"
     ]
    },
    {
     "data": {
      "text/latex": [
       "$\\displaystyle \n",
       "$$ |\\psi\\rangle =\\begin{bmatrix}\n",
       "-0.99121 \\\\\n",
       "-0.13228\\end{bmatrix} $"
      ],
      "text/plain": [
       "<IPython.core.display.Math object>"
      ]
     },
     "metadata": {},
     "output_type": "display_data"
    },
    {
     "name": "stdout",
     "output_type": "stream",
     "text": [
      "Salida counts = {'0': 1}\n",
      "Given the former angle theta and quantum state, the new prediction is:\n",
      "Prediction = 0\n",
      "int(Prediction) = 0 \n",
      "\n",
      "Overall Probability = -0.4452745118585537\n"
     ]
    },
    {
     "data": {
      "text/latex": [
       "$\\displaystyle \n",
       "$$ |\\psi\\rangle =\\begin{bmatrix}\n",
       "-0.64379 \\\\\n",
       "0.76521\\end{bmatrix} $"
      ],
      "text/plain": [
       "<IPython.core.display.Math object>"
      ]
     },
     "metadata": {},
     "output_type": "display_data"
    },
    {
     "name": "stdout",
     "output_type": "stream",
     "text": [
      "Salida counts = {'0': 1}\n",
      "Given the former angle theta and quantum state, the new prediction is:\n",
      "Prediction = 0\n",
      "int(Prediction) = 0 \n",
      "\n",
      "Overall Probability = 0.13649872698984042\n"
     ]
    },
    {
     "data": {
      "text/latex": [
       "$\\displaystyle \n",
       "$$ |\\psi\\rangle =\\begin{bmatrix}\n",
       "0.21277 \\\\\n",
       "0.97710\\end{bmatrix} $"
      ],
      "text/plain": [
       "<IPython.core.display.Math object>"
      ]
     },
     "metadata": {},
     "output_type": "display_data"
    },
    {
     "name": "stdout",
     "output_type": "stream",
     "text": [
      "Salida counts = {'1': 1}\n",
      "Given the former angle theta and quantum state, the new prediction is:\n",
      "Prediction = 1\n",
      "int(Prediction) = 1 \n",
      "\n",
      "Overall Probability = -0.866741170473438\n"
     ]
    },
    {
     "data": {
      "text/latex": [
       "$\\displaystyle \n",
       "$$ |\\psi\\rangle =\\begin{bmatrix}\n",
       "-0.97817 \\\\\n",
       "0.20780\\end{bmatrix} $"
      ],
      "text/plain": [
       "<IPython.core.display.Math object>"
      ]
     },
     "metadata": {},
     "output_type": "display_data"
    },
    {
     "name": "stdout",
     "output_type": "stream",
     "text": [
      "Salida counts = {'0': 1}\n",
      "Given the former angle theta and quantum state, the new prediction is:\n",
      "Prediction = 0\n",
      "int(Prediction) = 0 \n",
      "\n",
      "Overall Probability = -0.8573199949429712\n"
     ]
    },
    {
     "data": {
      "text/latex": [
       "$\\displaystyle \n",
       "$$ |\\psi\\rangle =\\begin{bmatrix}\n",
       "-0.97499 \\\\\n",
       "0.22225\\end{bmatrix} $"
      ],
      "text/plain": [
       "<IPython.core.display.Math object>"
      ]
     },
     "metadata": {},
     "output_type": "display_data"
    },
    {
     "name": "stdout",
     "output_type": "stream",
     "text": [
      "Salida counts = {'0': 1}\n",
      "Given the former angle theta and quantum state, the new prediction is:\n",
      "Prediction = 0\n",
      "int(Prediction) = 0 \n",
      "\n",
      "Overall Probability = -1.0842450940194839\n"
     ]
    },
    {
     "data": {
      "text/latex": [
       "$\\displaystyle \n",
       "$$ |\\psi\\rangle =\\begin{bmatrix}\n",
       "-0.99126 \\\\\n",
       "-0.13195\\end{bmatrix} $"
      ],
      "text/plain": [
       "<IPython.core.display.Math object>"
      ]
     },
     "metadata": {},
     "output_type": "display_data"
    },
    {
     "name": "stdout",
     "output_type": "stream",
     "text": [
      "Salida counts = {'0': 1}\n",
      "Given the former angle theta and quantum state, the new prediction is:\n",
      "Prediction = 0\n",
      "int(Prediction) = 0 \n",
      "\n",
      "Overall Probability = -0.44530641902917345\n"
     ]
    },
    {
     "data": {
      "text/latex": [
       "$\\displaystyle \n",
       "$$ |\\psi\\rangle =\\begin{bmatrix}\n",
       "-0.64382 \\\\\n",
       "0.76517\\end{bmatrix} $"
      ],
      "text/plain": [
       "<IPython.core.display.Math object>"
      ]
     },
     "metadata": {},
     "output_type": "display_data"
    },
    {
     "name": "stdout",
     "output_type": "stream",
     "text": [
      "Salida counts = {'1': 1}\n",
      "Given the former angle theta and quantum state, the new prediction is:\n",
      "Prediction = 1\n",
      "int(Prediction) = 1 \n",
      "\n",
      "Overall Probability = -1.0542020387806883\n"
     ]
    },
    {
     "data": {
      "text/latex": [
       "$\\displaystyle \n",
       "$$ |\\psi\\rangle =\\begin{bmatrix}\n",
       "-0.99638 \\\\\n",
       "-0.08504\\end{bmatrix} $"
      ],
      "text/plain": [
       "<IPython.core.display.Math object>"
      ]
     },
     "metadata": {},
     "output_type": "display_data"
    },
    {
     "name": "stdout",
     "output_type": "stream",
     "text": [
      "Salida counts = {'0': 1}\n",
      "Given the former angle theta and quantum state, the new prediction is:\n",
      "Prediction = 0\n",
      "int(Prediction) = 0 \n",
      "\n",
      "Overall Probability = -1.0851174069088327\n"
     ]
    },
    {
     "data": {
      "text/latex": [
       "$\\displaystyle \n",
       "$$ |\\psi\\rangle =\\begin{bmatrix}\n",
       "-0.99108 \\\\\n",
       "-0.13330\\end{bmatrix} $"
      ],
      "text/plain": [
       "<IPython.core.display.Math object>"
      ]
     },
     "metadata": {},
     "output_type": "display_data"
    },
    {
     "name": "stdout",
     "output_type": "stream",
     "text": [
      "Salida counts = {'0': 1}\n",
      "Given the former angle theta and quantum state, the new prediction is:\n",
      "Prediction = 0\n",
      "int(Prediction) = 0 \n",
      "\n",
      "Overall Probability = -0.1377673385231719\n"
     ]
    },
    {
     "data": {
      "text/latex": [
       "$\\displaystyle \n",
       "$$ |\\psi\\rangle =\\begin{bmatrix}\n",
       "-0.21472 \\\\\n",
       "0.97668\\end{bmatrix} $"
      ],
      "text/plain": [
       "<IPython.core.display.Math object>"
      ]
     },
     "metadata": {},
     "output_type": "display_data"
    },
    {
     "name": "stdout",
     "output_type": "stream",
     "text": [
      "Salida counts = {'1': 1}\n",
      "Given the former angle theta and quantum state, the new prediction is:\n",
      "Prediction = 1\n",
      "int(Prediction) = 1 \n",
      "\n",
      "Overall Probability = -0.49850039200085033\n"
     ]
    },
    {
     "data": {
      "text/latex": [
       "$\\displaystyle \n",
       "$$ |\\psi\\rangle =\\begin{bmatrix}\n",
       "-0.70544 \\\\\n",
       "0.70877\\end{bmatrix} $"
      ],
      "text/plain": [
       "<IPython.core.display.Math object>"
      ]
     },
     "metadata": {},
     "output_type": "display_data"
    },
    {
     "name": "stdout",
     "output_type": "stream",
     "text": [
      "Salida counts = {'0': 1}\n",
      "Given the former angle theta and quantum state, the new prediction is:\n",
      "Prediction = 0\n",
      "int(Prediction) = 0 \n",
      "\n",
      "Overall Probability = -1.0130468052295554\n"
     ]
    },
    {
     "data": {
      "text/latex": [
       "$\\displaystyle \n",
       "$$ |\\psi\\rangle =\\begin{bmatrix}\n",
       "-0.99979 \\\\\n",
       "-0.02049\\end{bmatrix} $"
      ],
      "text/plain": [
       "<IPython.core.display.Math object>"
      ]
     },
     "metadata": {},
     "output_type": "display_data"
    },
    {
     "name": "stdout",
     "output_type": "stream",
     "text": [
      "Salida counts = {'0': 1}\n",
      "Given the former angle theta and quantum state, the new prediction is:\n",
      "Prediction = 0\n",
      "int(Prediction) = 0 \n",
      "\n",
      "Overall Probability = -0.7271158700061311\n"
     ]
    },
    {
     "data": {
      "text/latex": [
       "$\\displaystyle \n",
       "$$ |\\psi\\rangle =\\begin{bmatrix}\n",
       "-0.90953 \\\\\n",
       "0.41564\\end{bmatrix} $"
      ],
      "text/plain": [
       "<IPython.core.display.Math object>"
      ]
     },
     "metadata": {},
     "output_type": "display_data"
    },
    {
     "name": "stdout",
     "output_type": "stream",
     "text": [
      "Salida counts = {'1': 1}\n",
      "Given the former angle theta and quantum state, the new prediction is:\n",
      "Prediction = 1\n",
      "int(Prediction) = 1 \n",
      "\n",
      "Overall Probability = -0.5415643809310381\n"
     ]
    },
    {
     "data": {
      "text/latex": [
       "$\\displaystyle \n",
       "$$ |\\psi\\rangle =\\begin{bmatrix}\n",
       "-0.75173 \\\\\n",
       "0.65947\\end{bmatrix} $"
      ],
      "text/plain": [
       "<IPython.core.display.Math object>"
      ]
     },
     "metadata": {},
     "output_type": "display_data"
    },
    {
     "name": "stdout",
     "output_type": "stream",
     "text": [
      "Salida counts = {'0': 1}\n",
      "Given the former angle theta and quantum state, the new prediction is:\n",
      "Prediction = 0\n",
      "int(Prediction) = 0 \n",
      "\n",
      "Overall Probability = -0.5343988683022809\n"
     ]
    },
    {
     "data": {
      "text/latex": [
       "$\\displaystyle \n",
       "$$ |\\psi\\rangle =\\begin{bmatrix}\n",
       "-0.74426 \\\\\n",
       "0.66789\\end{bmatrix} $"
      ],
      "text/plain": [
       "<IPython.core.display.Math object>"
      ]
     },
     "metadata": {},
     "output_type": "display_data"
    },
    {
     "name": "stdout",
     "output_type": "stream",
     "text": [
      "Salida counts = {'0': 1}\n",
      "Given the former angle theta and quantum state, the new prediction is:\n",
      "Prediction = 0\n",
      "int(Prediction) = 0 \n",
      "\n",
      "Overall Probability = -0.10880751199913435\n"
     ]
    },
    {
     "data": {
      "text/latex": [
       "$\\displaystyle \n",
       "$$ |\\psi\\rangle =\\begin{bmatrix}\n",
       "-0.17008 \\\\\n",
       "0.98543\\end{bmatrix} $"
      ],
      "text/plain": [
       "<IPython.core.display.Math object>"
      ]
     },
     "metadata": {},
     "output_type": "display_data"
    },
    {
     "name": "stdout",
     "output_type": "stream",
     "text": [
      "Salida counts = {'1': 1}\n",
      "Given the former angle theta and quantum state, the new prediction is:\n",
      "Prediction = 1\n",
      "int(Prediction) = 1 \n",
      "\n",
      "Overall Probability = -0.7419039503012876\n"
     ]
    },
    {
     "data": {
      "text/latex": [
       "$\\displaystyle \n",
       "$$ |\\psi\\rangle =\\begin{bmatrix}\n",
       "-0.91894 \\\\\n",
       "0.39440\\end{bmatrix} $"
      ],
      "text/plain": [
       "<IPython.core.display.Math object>"
      ]
     },
     "metadata": {},
     "output_type": "display_data"
    },
    {
     "name": "stdout",
     "output_type": "stream",
     "text": [
      "Salida counts = {'0': 1}\n",
      "Given the former angle theta and quantum state, the new prediction is:\n",
      "Prediction = 0\n",
      "int(Prediction) = 0 \n",
      "\n",
      "Overall Probability = -0.5444098608250574\n"
     ]
    },
    {
     "data": {
      "text/latex": [
       "$\\displaystyle \n",
       "$$ |\\psi\\rangle =\\begin{bmatrix}\n",
       "-0.75467 \\\\\n",
       "0.65610\\end{bmatrix} $"
      ],
      "text/plain": [
       "<IPython.core.display.Math object>"
      ]
     },
     "metadata": {},
     "output_type": "display_data"
    },
    {
     "name": "stdout",
     "output_type": "stream",
     "text": [
      "Salida counts = {'0': 1}\n",
      "Given the former angle theta and quantum state, the new prediction is:\n",
      "Prediction = 0\n",
      "int(Prediction) = 0 \n",
      "\n",
      "Overall Probability = -0.9103675210444964\n"
     ]
    },
    {
     "data": {
      "text/latex": [
       "$\\displaystyle \n",
       "$$ |\\psi\\rangle =\\begin{bmatrix}\n",
       "-0.99010 \\\\\n",
       "0.14033\\end{bmatrix} $"
      ],
      "text/plain": [
       "<IPython.core.display.Math object>"
      ]
     },
     "metadata": {},
     "output_type": "display_data"
    },
    {
     "name": "stdout",
     "output_type": "stream",
     "text": [
      "Salida counts = {'0': 1}\n",
      "Given the former angle theta and quantum state, the new prediction is:\n",
      "Prediction = 0\n",
      "int(Prediction) = 0 \n",
      "\n",
      "Overall Probability = -0.9894674629257532\n"
     ]
    },
    {
     "data": {
      "text/latex": [
       "$\\displaystyle \n",
       "$$ |\\psi\\rangle =\\begin{bmatrix}\n",
       "-0.99986 \\\\\n",
       "0.01654\\end{bmatrix} $"
      ],
      "text/plain": [
       "<IPython.core.display.Math object>"
      ]
     },
     "metadata": {},
     "output_type": "display_data"
    },
    {
     "name": "stdout",
     "output_type": "stream",
     "text": [
      "Salida counts = {'0': 1}\n",
      "Given the former angle theta and quantum state, the new prediction is:\n",
      "Prediction = 0\n",
      "int(Prediction) = 0 \n",
      "\n",
      "Overall Probability = -1.0868280891789392\n"
     ]
    },
    {
     "data": {
      "text/latex": [
       "$\\displaystyle \n",
       "$$ |\\psi\\rangle =\\begin{bmatrix}\n",
       "-0.99071 \\\\\n",
       "-0.13597\\end{bmatrix} $"
      ],
      "text/plain": [
       "<IPython.core.display.Math object>"
      ]
     },
     "metadata": {},
     "output_type": "display_data"
    },
    {
     "name": "stdout",
     "output_type": "stream",
     "text": [
      "Salida counts = {'0': 1}\n",
      "Given the former angle theta and quantum state, the new prediction is:\n",
      "Prediction = 0\n",
      "int(Prediction) = 0 \n",
      "\n",
      "Overall Probability = -1.0844019496702504\n"
     ]
    },
    {
     "data": {
      "text/latex": [
       "$\\displaystyle \n",
       "$$ |\\psi\\rangle =\\begin{bmatrix}\n",
       "-0.99122 \\\\\n",
       "-0.13219\\end{bmatrix} $"
      ],
      "text/plain": [
       "<IPython.core.display.Math object>"
      ]
     },
     "metadata": {},
     "output_type": "display_data"
    },
    {
     "name": "stdout",
     "output_type": "stream",
     "text": [
      "Salida counts = {'0': 1}\n",
      "Given the former angle theta and quantum state, the new prediction is:\n",
      "Prediction = 0\n",
      "int(Prediction) = 0 \n",
      "\n",
      "Overall Probability = -0.061801542577826885\n"
     ]
    },
    {
     "data": {
      "text/latex": [
       "$\\displaystyle \n",
       "$$ |\\psi\\rangle =\\begin{bmatrix}\n",
       "-0.09693 \\\\\n",
       "0.99529\\end{bmatrix} $"
      ],
      "text/plain": [
       "<IPython.core.display.Math object>"
      ]
     },
     "metadata": {},
     "output_type": "display_data"
    },
    {
     "name": "stdout",
     "output_type": "stream",
     "text": [
      "Salida counts = {'1': 1}\n",
      "Given the former angle theta and quantum state, the new prediction is:\n",
      "Prediction = 1\n",
      "int(Prediction) = 1 \n",
      "\n",
      "Overall Probability = -1.0837392786090954\n"
     ]
    },
    {
     "data": {
      "text/latex": [
       "$\\displaystyle \n",
       "$$ |\\psi\\rangle =\\begin{bmatrix}\n",
       "-0.99136 \\\\\n",
       "-0.13116\\end{bmatrix} $"
      ],
      "text/plain": [
       "<IPython.core.display.Math object>"
      ]
     },
     "metadata": {},
     "output_type": "display_data"
    },
    {
     "name": "stdout",
     "output_type": "stream",
     "text": [
      "Salida counts = {'0': 1}\n",
      "Given the former angle theta and quantum state, the new prediction is:\n",
      "Prediction = 0\n",
      "int(Prediction) = 0 \n",
      "\n",
      "\n",
      "The precision score of the Variational HQC with Data Test classifier is 0.80\n",
      "The recall score of the Variational HQC with Data Test classifier is 0.51\n",
      "The specificity score of the Variational HQC with Data Test classifier is 0.92\n",
      "The npv score of the Variational HQC with Data Test classifier is 0.75\n",
      "The information level is: 0.74\n"
     ]
    }
   ],
   "source": [
    "# Listing 3.29: Test the PQC‐based classifier on data it has not seen before\n",
    "classifier_report(\"Variational HQC with Data Test\", \n",
    "    run,\n",
    "    lambda passenger: post_process(pqc(backend, pre_process_weighted(passenger))),\n",
    "    test_input,\n",
    "    test_labels)"
   ]
  },
  {
   "cell_type": "code",
   "execution_count": 25,
   "metadata": {},
   "outputs": [
    {
     "data": {
      "text/html": [
       "<h3>Version Information</h3><table><tr><th>Qiskit Software</th><th>Version</th></tr><tr><td><code>qiskit-terra</code></td><td>0.21.1</td></tr><tr><td><code>qiskit-aer</code></td><td>0.10.4</td></tr><tr><td><code>qiskit-ibmq-provider</code></td><td>0.19.2</td></tr><tr><td><code>qiskit</code></td><td>0.37.1</td></tr><tr><td><code>qiskit-nature</code></td><td>0.4.2</td></tr><tr><td><code>qiskit-finance</code></td><td>0.3.3</td></tr><tr><td><code>qiskit-optimization</code></td><td>0.4.0</td></tr><tr><td><code>qiskit-machine-learning</code></td><td>0.4.0</td></tr><tr><th>System information</th></tr><tr><td>Python version</td><td>3.8.13</td></tr><tr><td>Python compiler</td><td>GCC 10.3.0</td></tr><tr><td>Python build</td><td>default, Mar 25 2022 06:04:10</td></tr><tr><td>OS</td><td>Linux</td></tr><tr><td>CPUs</td><td>8</td></tr><tr><td>Memory (Gb)</td><td>31.211315155029297</td></tr><tr><td colspan='2'>Wed Sep 14 02:04:21 2022 UTC</td></tr></table>"
      ],
      "text/plain": [
       "<IPython.core.display.HTML object>"
      ]
     },
     "metadata": {},
     "output_type": "display_data"
    },
    {
     "data": {
      "text/html": [
       "<div style='width: 100%; background-color:#d5d9e0;padding-left: 10px; padding-bottom: 10px; padding-right: 10px; padding-top: 5px'><h3>This code is a part of Qiskit</h3><p>&copy; Copyright IBM 2017, 2022.</p><p>This code is licensed under the Apache License, Version 2.0. You may<br>obtain a copy of this license in the LICENSE.txt file in the root directory<br> of this source tree or at http://www.apache.org/licenses/LICENSE-2.0.<p>Any modifications or derivative works of this code must retain this<br>copyright notice, and modified files need to carry a notice indicating<br>that they have been altered from the originals.</p></div>"
      ],
      "text/plain": [
       "<IPython.core.display.HTML object>"
      ]
     },
     "metadata": {},
     "output_type": "display_data"
    }
   ],
   "source": [
    "import qiskit.tools.jupyter\n",
    "%qiskit_version_table\n",
    "%qiskit_copyright"
   ]
  }
 ],
 "metadata": {
  "kernelspec": {
   "display_name": "Python 3 (ipykernel)",
   "language": "python",
   "name": "python3"
  },
  "language_info": {
   "codemirror_mode": {
    "name": "ipython",
    "version": 3
   },
   "file_extension": ".py",
   "mimetype": "text/x-python",
   "name": "python",
   "nbconvert_exporter": "python",
   "pygments_lexer": "ipython3",
   "version": "3.8.13"
  },
  "metadata": {
   "interpreter": {
    "hash": "f54d5a9a292554231b0e4cdeb199e00a9515f991e8d01877fcef19d91dd80062"
   }
  },
  "widgets": {
   "application/vnd.jupyter.widget-state+json": {
    "state": {},
    "version_major": 2,
    "version_minor": 0
   }
  }
 },
 "nbformat": 4,
 "nbformat_minor": 4
}
