{
 "cells": [
  {
   "cell_type": "code",
   "execution_count": 1,
   "id": "23e039fd",
   "metadata": {},
   "outputs": [],
   "source": [
    "#****************************************************************************************************************#\n",
    "# Implementación de circuito Cuántico de Generación de Numéros Aleatorios (QRNG) en la plataforma Qiskit de IBM.\n",
    "#****************************************************************************************************************#\n",
    "\n",
    "#****************************************************************************************************************#\n",
    "#****************************************************************************************************************#\n",
    "\n",
    "#****************************************************************************************************************#\n",
    "# Taller de Computación Cuántica\n",
    "# Prof. Gustavo Patino (adolfo.patino@udea.edu.co)\n",
    "# CORE 2022\n",
    "# CIC - IPN \n",
    "# Ciudad de México - México\n",
    "# Septiembre del 2022\n",
    "#****************************************************************************************************************#"
   ]
  },
  {
   "cell_type": "code",
   "execution_count": 3,
   "id": "e2d8dbe8-ac91-4b73-aa36-f8782e7b780a",
   "metadata": {
    "scrolled": true
   },
   "outputs": [
    {
     "name": "stderr",
     "output_type": "stream",
     "text": [
      "<frozen importlib._bootstrap>:219: RuntimeWarning: scipy._lib.messagestream.MessageStream size changed, may indicate binary incompatibility. Expected 56 from C header, got 64 from PyObject\n"
     ]
    },
    {
     "data": {
      "text/plain": [
       "<AccountProvider for IBMQ(hub='ibm-q', group='open', project='main')>"
      ]
     },
     "execution_count": 3,
     "metadata": {},
     "output_type": "execute_result"
    }
   ],
   "source": [
    "import numpy as np\n",
    "\n",
    "# Importing standard Qiskit libraries\n",
    "from qiskit import QuantumCircuit, transpile, Aer, IBMQ\n",
    "from qiskit import QuantumRegister, ClassicalRegister, execute\n",
    "from qiskit.tools.jupyter import *\n",
    "from qiskit.visualization import *\n",
    "#from ibm_quantum_widgets import *\n",
    "from qiskit.providers.aer import QasmSimulator\n",
    "from qiskit.tools.monitor import job_monitor\n",
    "\n",
    "# Loading your IBM Quantum account(s)\n",
    "IBMQ.load_account()"
   ]
  },
  {
   "cell_type": "code",
   "execution_count": null,
   "id": "39736156",
   "metadata": {},
   "outputs": [],
   "source": [
    "# Descomente la siguiente linea si desea ver las imágenes más grandes.\n",
    "#%config InlineBackend.figure_format = 'svg' # Makes the images look nice"
   ]
  },
  {
   "cell_type": "code",
   "execution_count": 4,
   "id": "20079e47-6ccd-4b89-9d79-da6f7d1f3d02",
   "metadata": {},
   "outputs": [],
   "source": [
    "min = 0\n",
    "max = 50"
   ]
  },
  {
   "cell_type": "code",
   "execution_count": null,
   "id": "91cdaed4-8974-4d2d-b8b8-afd83b66c3f5",
   "metadata": {},
   "outputs": [],
   "source": [
    "#backend = Aer.get_backend('aer_simulator')\n",
    "#backend = provider.get_backend(\"ibmq_qasm_simulator\")"
   ]
  },
  {
   "cell_type": "code",
   "execution_count": 5,
   "id": "91704576-bccb-48fa-a696-627ba712c9ec",
   "metadata": {},
   "outputs": [
    {
     "data": {
      "text/plain": [
       "[<IBMQSimulator('ibmq_qasm_simulator') from IBMQ(hub='ibm-q', group='open', project='main')>,\n",
       " <IBMQBackend('ibmq_lima') from IBMQ(hub='ibm-q', group='open', project='main')>,\n",
       " <IBMQBackend('ibmq_belem') from IBMQ(hub='ibm-q', group='open', project='main')>,\n",
       " <IBMQBackend('ibmq_quito') from IBMQ(hub='ibm-q', group='open', project='main')>,\n",
       " <IBMQSimulator('simulator_statevector') from IBMQ(hub='ibm-q', group='open', project='main')>,\n",
       " <IBMQSimulator('simulator_mps') from IBMQ(hub='ibm-q', group='open', project='main')>,\n",
       " <IBMQSimulator('simulator_extended_stabilizer') from IBMQ(hub='ibm-q', group='open', project='main')>,\n",
       " <IBMQSimulator('simulator_stabilizer') from IBMQ(hub='ibm-q', group='open', project='main')>,\n",
       " <IBMQBackend('ibmq_manila') from IBMQ(hub='ibm-q', group='open', project='main')>,\n",
       " <IBMQBackend('ibm_nairobi') from IBMQ(hub='ibm-q', group='open', project='main')>,\n",
       " <IBMQBackend('ibm_oslo') from IBMQ(hub='ibm-q', group='open', project='main')>]"
      ]
     },
     "execution_count": 5,
     "metadata": {},
     "output_type": "execute_result"
    }
   ],
   "source": [
    "provider=IBMQ.get_provider(hub='ibm-q')\n",
    "provider.backends()"
   ]
  },
  {
   "cell_type": "code",
   "execution_count": null,
   "id": "8079c886-c000-4bb8-b917-ebdc9ffb7438",
   "metadata": {},
   "outputs": [],
   "source": [
    "num_q = 12\n",
    "\n",
    "q = QuantumRegister(num_q, 'q')\n",
    "c = ClassicalRegister(num_q, 'c')"
   ]
  },
  {
   "cell_type": "code",
   "execution_count": null,
   "id": "1748b490-c397-449e-b648-a365cffa3af2",
   "metadata": {},
   "outputs": [],
   "source": [
    "circuit = QuantumCircuit(q, c)"
   ]
  },
  {
   "cell_type": "code",
   "execution_count": null,
   "id": "da67d452-c33b-481f-9491-c6838cee9d5c",
   "metadata": {},
   "outputs": [],
   "source": [
    "circuit.draw('mpl')"
   ]
  },
  {
   "cell_type": "code",
   "execution_count": null,
   "id": "54167f09-c527-445b-9d3c-28415c26f46e",
   "metadata": {},
   "outputs": [],
   "source": [
    "circuit.h(q)  # Applies hadamard gate to all qubits\n",
    "circuit.measure(q, c)  # Measures all qubits\n",
    "\n",
    "circuit.draw('mpl')"
   ]
  },
  {
   "cell_type": "code",
   "execution_count": null,
   "id": "6791af8e-8e40-4d36-82b6-91d9645e292a",
   "metadata": {},
   "outputs": [],
   "source": [
    "job = execute(circuit, backend, shots=1)\n",
    "\n",
    "print('Ejecutando el circuito (job) en IBM ...\\n')\n",
    "job_monitor(job)"
   ]
  },
  {
   "cell_type": "code",
   "execution_count": null,
   "id": "18ceb225-146e-4be5-9848-e501564b1136",
   "metadata": {},
   "outputs": [],
   "source": [
    "conteos = job.result().get_counts()\n",
    "print('Conteo de resultados por cada medida: ', conteos, '\\n')\n",
    "\n",
    "resultado = int(conteos.most_frequent(), 2)\n",
    "print('El resultado binario como un entero decimal es: ', resultado, '\\n')"
   ]
  },
  {
   "cell_type": "code",
   "execution_count": null,
   "id": "7f7757b5-4ccc-4fc6-b6eb-64a0464c9898",
   "metadata": {},
   "outputs": [],
   "source": [
    "resultado_aleat = min + resultado % (max+1 - min)\n",
    "print('El numero aleatorio entre',min ,'y',max, 'es:', resultado_aleat, '\\n')"
   ]
  },
  {
   "cell_type": "code",
   "execution_count": null,
   "id": "b6684a3a-75a5-4f30-ac10-19465a56e12a",
   "metadata": {},
   "outputs": [],
   "source": [
    "import qiskit.tools.jupyter\n",
    "%qiskit_version_table\n",
    "%qiskit_copyright"
   ]
  },
  {
   "cell_type": "code",
   "execution_count": null,
   "id": "784a0f7c-122f-481d-a1b5-d7551c4d5a5b",
   "metadata": {},
   "outputs": [],
   "source": []
  }
 ],
 "metadata": {
  "kernelspec": {
   "display_name": "Python 3 (ipykernel)",
   "language": "python",
   "name": "python3"
  },
  "language_info": {
   "codemirror_mode": {
    "name": "ipython",
    "version": 3
   },
   "file_extension": ".py",
   "mimetype": "text/x-python",
   "name": "python",
   "nbconvert_exporter": "python",
   "pygments_lexer": "ipython3",
   "version": "3.8.13"
  },
  "widgets": {
   "application/vnd.jupyter.widget-state+json": {
    "state": {
     "15653b96cee8406680c2d43f79133a3b": {
      "model_module": "@jupyter-widgets/controls",
      "model_module_version": "1.5.0",
      "model_name": "DescriptionStyleModel",
      "state": {
       "description_width": ""
      }
     },
     "1832aa5d70d84ab682b5c7afe8aa7e69": {
      "model_module": "@jupyter-widgets/controls",
      "model_module_version": "1.5.0",
      "model_name": "GridBoxModel",
      "state": {
       "children": [
        "IPY_MODEL_73ab07416abe486b90a921e1a85aeb34"
       ],
       "layout": "IPY_MODEL_a4522ddf249a470bb02767b16a317c8c"
      }
     },
     "18d8b6fd4235419c988c57dd781d2602": {
      "model_module": "@jupyter-widgets/base",
      "model_module_version": "1.2.0",
      "model_name": "LayoutModel",
      "state": {
       "margin": "0px 0px 0px 37px",
       "width": "600px"
      }
     },
     "299a79910e4b41718af982add44a7b62": {
      "model_module": "@jupyter-widgets/controls",
      "model_module_version": "1.5.0",
      "model_name": "HTMLModel",
      "state": {
       "layout": "IPY_MODEL_f8e5cf055ce24463baed7872023eaac8",
       "style": "IPY_MODEL_53d00a33c51740b7b7bfdc1d2de9a6da",
       "value": "<h5>Status</h5>"
      }
     },
     "2df35cab7fd54a49882ce2983be0888f": {
      "model_module": "@jupyter-widgets/controls",
      "model_module_version": "1.5.0",
      "model_name": "HTMLModel",
      "state": {
       "layout": "IPY_MODEL_b7387cad080d4b60b0e215a249bc0ac5",
       "style": "IPY_MODEL_c07ddc975e0f4aac8b2ad1202525f18a",
       "value": "<h5>Queue</h5>"
      }
     },
     "3452473bde14400ba60672503a9abd0b": {
      "model_module": "@jupyter-widgets/base",
      "model_module_version": "1.2.0",
      "model_name": "LayoutModel",
      "state": {
       "width": "190px"
      }
     },
     "4abe951611c14e9b9b6514c61695327b": {
      "model_module": "@jupyter-widgets/controls",
      "model_module_version": "1.5.0",
      "model_name": "DescriptionStyleModel",
      "state": {
       "description_width": ""
      }
     },
     "53d00a33c51740b7b7bfdc1d2de9a6da": {
      "model_module": "@jupyter-widgets/controls",
      "model_module_version": "1.5.0",
      "model_name": "DescriptionStyleModel",
      "state": {
       "description_width": ""
      }
     },
     "669bbd7167c0463ba95df93b3515be36": {
      "model_module": "@jupyter-widgets/controls",
      "model_module_version": "1.5.0",
      "model_name": "HTMLModel",
      "state": {
       "layout": "IPY_MODEL_c7d7dc2cd6a94f7eb19e3b1d26809e6c",
       "style": "IPY_MODEL_4abe951611c14e9b9b6514c61695327b",
       "value": "<p style='font-family: IBM Plex Sans, Arial, Helvetica, sans-serif; font-size: 20px; font-weight: medium;'>Circuit Properties</p>"
      }
     },
     "695e049cc71f4efd816c95461eba49c5": {
      "model_module": "@jupyter-widgets/controls",
      "model_module_version": "1.5.0",
      "model_name": "DescriptionStyleModel",
      "state": {
       "description_width": ""
      }
     },
     "696b9be01399474a85d8bf7405bc2f6b": {
      "model_module": "@jupyter-widgets/controls",
      "model_module_version": "1.5.0",
      "model_name": "HTMLModel",
      "state": {
       "layout": "IPY_MODEL_7421d5ad6f684aaa906251d7602b5ea2",
       "style": "IPY_MODEL_695e049cc71f4efd816c95461eba49c5",
       "value": "<h5>Backend</h5>"
      }
     },
     "6cacef342b7d46f6b00bad2c2f5f90a8": {
      "model_module": "@jupyter-widgets/base",
      "model_module_version": "1.2.0",
      "model_name": "LayoutModel",
      "state": {
       "grid_area": "right",
       "padding": "0px 0px 0px 0px",
       "width": "70px"
      }
     },
     "73ab07416abe486b90a921e1a85aeb34": {
      "model_module": "@jupyter-widgets/controls",
      "model_module_version": "1.5.0",
      "model_name": "ButtonModel",
      "state": {
       "button_style": "primary",
       "description": "Clear",
       "layout": "IPY_MODEL_6cacef342b7d46f6b00bad2c2f5f90a8",
       "style": "IPY_MODEL_ea599854202842d1a8a42dbb789f6508"
      }
     },
     "7421d5ad6f684aaa906251d7602b5ea2": {
      "model_module": "@jupyter-widgets/base",
      "model_module_version": "1.2.0",
      "model_name": "LayoutModel",
      "state": {
       "width": "145px"
      }
     },
     "7d2231c7e44a4611991a793440e5af56": {
      "model_module": "@jupyter-widgets/controls",
      "model_module_version": "1.5.0",
      "model_name": "HBoxModel",
      "state": {
       "children": [
        "IPY_MODEL_e734d428716041d49488e94388e51ae9",
        "IPY_MODEL_696b9be01399474a85d8bf7405bc2f6b",
        "IPY_MODEL_299a79910e4b41718af982add44a7b62",
        "IPY_MODEL_2df35cab7fd54a49882ce2983be0888f",
        "IPY_MODEL_e32590cb1dd74d8bab29879851504eef"
       ],
       "layout": "IPY_MODEL_18d8b6fd4235419c988c57dd781d2602"
      }
     },
     "a4522ddf249a470bb02767b16a317c8c": {
      "model_module": "@jupyter-widgets/base",
      "model_module_version": "1.2.0",
      "model_name": "LayoutModel",
      "state": {
       "grid_template_areas": "\n                                       \". . . . right \"\n                                        ",
       "grid_template_columns": "20% 20% 20% 20% 20%",
       "width": "100%"
      }
     },
     "b7387cad080d4b60b0e215a249bc0ac5": {
      "model_module": "@jupyter-widgets/base",
      "model_module_version": "1.2.0",
      "model_name": "LayoutModel",
      "state": {
       "width": "70px"
      }
     },
     "c07ddc975e0f4aac8b2ad1202525f18a": {
      "model_module": "@jupyter-widgets/controls",
      "model_module_version": "1.5.0",
      "model_name": "DescriptionStyleModel",
      "state": {
       "description_width": ""
      }
     },
     "c20d1d5ae9364e6fb04e1ac76e2ba3a7": {
      "model_module": "@jupyter-widgets/controls",
      "model_module_version": "1.5.0",
      "model_name": "DescriptionStyleModel",
      "state": {
       "description_width": ""
      }
     },
     "c7d7dc2cd6a94f7eb19e3b1d26809e6c": {
      "model_module": "@jupyter-widgets/base",
      "model_module_version": "1.2.0",
      "model_name": "LayoutModel",
      "state": {
       "margin": "0px 0px 10px 0px"
      }
     },
     "d0325dbd2c6a45e494c1b81d4145848d": {
      "model_module": "@jupyter-widgets/base",
      "model_module_version": "1.2.0",
      "model_name": "LayoutModel",
      "state": {}
     },
     "e32590cb1dd74d8bab29879851504eef": {
      "model_module": "@jupyter-widgets/controls",
      "model_module_version": "1.5.0",
      "model_name": "HTMLModel",
      "state": {
       "layout": "IPY_MODEL_d0325dbd2c6a45e494c1b81d4145848d",
       "style": "IPY_MODEL_15653b96cee8406680c2d43f79133a3b",
       "value": "<h5>Message</h5>"
      }
     },
     "e734d428716041d49488e94388e51ae9": {
      "model_module": "@jupyter-widgets/controls",
      "model_module_version": "1.5.0",
      "model_name": "HTMLModel",
      "state": {
       "layout": "IPY_MODEL_3452473bde14400ba60672503a9abd0b",
       "style": "IPY_MODEL_c20d1d5ae9364e6fb04e1ac76e2ba3a7",
       "value": "<h5>Job ID</h5>"
      }
     },
     "ea599854202842d1a8a42dbb789f6508": {
      "model_module": "@jupyter-widgets/controls",
      "model_module_version": "1.5.0",
      "model_name": "ButtonStyleModel",
      "state": {}
     },
     "f8e5cf055ce24463baed7872023eaac8": {
      "model_module": "@jupyter-widgets/base",
      "model_module_version": "1.2.0",
      "model_name": "LayoutModel",
      "state": {
       "width": "95px"
      }
     }
    },
    "version_major": 2,
    "version_minor": 0
   }
  }
 },
 "nbformat": 4,
 "nbformat_minor": 5
}
