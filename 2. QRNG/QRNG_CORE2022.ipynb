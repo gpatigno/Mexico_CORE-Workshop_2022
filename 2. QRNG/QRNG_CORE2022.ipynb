{
 "cells": [
  {
   "cell_type": "code",
   "execution_count": null,
   "id": "23e039fd",
   "metadata": {},
   "outputs": [],
   "source": [
    "#****************************************************************************************************************#\n",
    "# Implementación de circuito Cuántico de Generación de Numéros Aleatorios (QRNG) en la plataforma Qiskit de IBM.\n",
    "#****************************************************************************************************************#\n",
    "\n",
    "#****************************************************************************************************************#\n",
    "# Para esta implementación se ha tenido en cuenta la descripción del circuito dada en el siguiente \n",
    "# tutorial del libro de Qiskit:\n",
    "# https://qiskit.org/textbook/ch-algorithms/superdense-coding.html  ********** CORREGIR *****\n",
    "#****************************************************************************************************************#\n",
    "\n",
    "#****************************************************************************************************************#\n",
    "# Taller de Computación Cuántica\n",
    "# Prof. Gustavo Patino (adolfo.patino@udea.edu.co)\n",
    "# CORE 2022\n",
    "# CIC - IPN \n",
    "# Ciudad de México - México\n",
    "# Septiembre del 2022\n",
    "#****************************************************************************************************************#"
   ]
  },
  {
   "cell_type": "code",
   "execution_count": 1,
   "id": "e2d8dbe8-ac91-4b73-aa36-f8782e7b780a",
   "metadata": {
    "scrolled": true
   },
   "outputs": [
    {
     "name": "stderr",
     "output_type": "stream",
     "text": [
      "<frozen importlib._bootstrap>:219: RuntimeWarning: scipy._lib.messagestream.MessageStream size changed, may indicate binary incompatibility. Expected 56 from C header, got 64 from PyObject\n"
     ]
    }
   ],
   "source": [
    "import numpy as np\n",
    "\n",
    "# Importing standard Qiskit libraries\n",
    "from qiskit import QuantumCircuit, transpile, Aer, IBMQ\n",
    "from qiskit import QuantumRegister, ClassicalRegister, execute\n",
    "from qiskit.tools.jupyter import *\n",
    "from qiskit.visualization import *\n",
    "#from ibm_quantum_widgets import *\n",
    "from qiskit.providers.aer import QasmSimulator\n",
    "from qiskit.tools.monitor import job_monitor\n",
    "\n",
    "# Loading your IBM Quantum account(s)\n",
    "provider = IBMQ.load_account()"
   ]
  },
  {
   "cell_type": "code",
   "execution_count": null,
   "id": "39736156",
   "metadata": {},
   "outputs": [],
   "source": [
    "# Descomente la siguiente linea si desea ver las imágenes más grandes.\n",
    "#%config InlineBackend.figure_format = 'svg' # Makes the images look nice"
   ]
  },
  {
   "cell_type": "code",
   "execution_count": null,
   "id": "20079e47-6ccd-4b89-9d79-da6f7d1f3d02",
   "metadata": {},
   "outputs": [],
   "source": [
    "min = 0\n",
    "max = 100"
   ]
  },
  {
   "cell_type": "code",
   "execution_count": null,
   "id": "91cdaed4-8974-4d2d-b8b8-afd83b66c3f5",
   "metadata": {},
   "outputs": [],
   "source": [
    "backend = Aer.get_backend('aer_simulator')\n",
    "#backend = provider.get_backend(\"ibmq_qasm_simulator\")"
   ]
  },
  {
   "cell_type": "code",
   "execution_count": null,
   "id": "8079c886-c000-4bb8-b917-ebdc9ffb7438",
   "metadata": {},
   "outputs": [],
   "source": [
    "num_q = 12\n",
    "\n",
    "q = QuantumRegister(num_q, 'q')\n",
    "c = ClassicalRegister(num_q, 'c')"
   ]
  },
  {
   "cell_type": "code",
   "execution_count": null,
   "id": "1748b490-c397-449e-b648-a365cffa3af2",
   "metadata": {},
   "outputs": [],
   "source": [
    "circuit = QuantumCircuit(q, c)"
   ]
  },
  {
   "cell_type": "code",
   "execution_count": null,
   "id": "da67d452-c33b-481f-9491-c6838cee9d5c",
   "metadata": {},
   "outputs": [],
   "source": [
    "circuit.draw('mpl')"
   ]
  },
  {
   "cell_type": "code",
   "execution_count": null,
   "id": "54167f09-c527-445b-9d3c-28415c26f46e",
   "metadata": {},
   "outputs": [],
   "source": [
    "circuit.h(q)  # Applies hadamard gate to all qubits\n",
    "circuit.measure(q, c)  # Measures all qubits\n",
    "\n",
    "circuit.draw('mpl')"
   ]
  },
  {
   "cell_type": "code",
   "execution_count": null,
   "id": "6791af8e-8e40-4d36-82b6-91d9645e292a",
   "metadata": {},
   "outputs": [],
   "source": [
    "job = execute(circuit, backend, shots=1)\n",
    "\n",
    "print('Ejecutando el circuito (job) en IBM ...\\n')\n",
    "job_monitor(job)"
   ]
  },
  {
   "cell_type": "code",
   "execution_count": null,
   "id": "18ceb225-146e-4be5-9848-e501564b1136",
   "metadata": {},
   "outputs": [],
   "source": [
    "conteos = job.result().get_counts()\n",
    "print('Conteo de resultados por cada medida: ', conteos, '\\n')\n",
    "\n",
    "resultado = int(conteos.most_frequent(), 2)\n",
    "print('El resultado binario como un entero decimal es: ', resultado, '\\n')"
   ]
  },
  {
   "cell_type": "code",
   "execution_count": null,
   "id": "7f7757b5-4ccc-4fc6-b6eb-64a0464c9898",
   "metadata": {},
   "outputs": [],
   "source": [
    "resultado_aleat = min + resultado % (max+1 - min)\n",
    "print('El numero aleatorio entre',min ,'y',max, 'es:', resultado_aleat, '\\n')"
   ]
  },
  {
   "cell_type": "code",
   "execution_count": null,
   "id": "b6684a3a-75a5-4f30-ac10-19465a56e12a",
   "metadata": {},
   "outputs": [],
   "source": [
    "import qiskit.tools.jupyter\n",
    "%qiskit_version_table\n",
    "%qiskit_copyright"
   ]
  },
  {
   "cell_type": "code",
   "execution_count": null,
   "id": "784a0f7c-122f-481d-a1b5-d7551c4d5a5b",
   "metadata": {},
   "outputs": [],
   "source": []
  }
 ],
 "metadata": {
  "kernelspec": {
   "display_name": "Python 3 (ipykernel)",
   "language": "python",
   "name": "python3"
  },
  "language_info": {
   "codemirror_mode": {
    "name": "ipython",
    "version": 3
   },
   "file_extension": ".py",
   "mimetype": "text/x-python",
   "name": "python",
   "nbconvert_exporter": "python",
   "pygments_lexer": "ipython3",
   "version": "3.8.13"
  },
  "widgets": {
   "application/vnd.jupyter.widget-state+json": {
    "state": {
     "0e6ddb81267248099fe266ff36e87f20": {
      "model_module": "@jupyter-widgets/controls",
      "model_module_version": "1.5.0",
      "model_name": "HTMLModel",
      "state": {
       "layout": "IPY_MODEL_9437647093144cf2ab707a1d159d1417",
       "style": "IPY_MODEL_63dfa7514bac4fdea9be2c1d46723753",
       "value": "<h5>Status</h5>"
      }
     },
     "1330874c6d8d42e6829adabf0315a3ea": {
      "model_module": "@jupyter-widgets/base",
      "model_module_version": "1.2.0",
      "model_name": "LayoutModel",
      "state": {
       "margin": "0px 0px 10px 0px"
      }
     },
     "217dc02b2fb844ab94fa0b8ccf7f4ccf": {
      "model_module": "@jupyter-widgets/base",
      "model_module_version": "1.2.0",
      "model_name": "LayoutModel",
      "state": {
       "width": "190px"
      }
     },
     "2c13c4576c25473aa06ac6cc1130b54a": {
      "model_module": "@jupyter-widgets/base",
      "model_module_version": "1.2.0",
      "model_name": "LayoutModel",
      "state": {
       "grid_area": "right",
       "padding": "0px 0px 0px 0px",
       "width": "70px"
      }
     },
     "3a5821ed418444e2bcd169654d9a1331": {
      "model_module": "@jupyter-widgets/base",
      "model_module_version": "1.2.0",
      "model_name": "LayoutModel",
      "state": {
       "width": "145px"
      }
     },
     "3c1f79280e9349caa5bdb8a39808c078": {
      "model_module": "@jupyter-widgets/controls",
      "model_module_version": "1.5.0",
      "model_name": "DescriptionStyleModel",
      "state": {
       "description_width": ""
      }
     },
     "409771072eb7486bbf9ddea12dd9b3c4": {
      "model_module": "@jupyter-widgets/controls",
      "model_module_version": "1.5.0",
      "model_name": "DescriptionStyleModel",
      "state": {
       "description_width": ""
      }
     },
     "480a47eca91f4ef988d9234d64e5b30d": {
      "model_module": "@jupyter-widgets/controls",
      "model_module_version": "1.5.0",
      "model_name": "HTMLModel",
      "state": {
       "layout": "IPY_MODEL_1330874c6d8d42e6829adabf0315a3ea",
       "style": "IPY_MODEL_3c1f79280e9349caa5bdb8a39808c078",
       "value": "<p style='font-family: IBM Plex Sans, Arial, Helvetica, sans-serif; font-size: 20px; font-weight: medium;'>Circuit Properties</p>"
      }
     },
     "48a9f0c439214d7eb7c4d53ca0a50402": {
      "model_module": "@jupyter-widgets/controls",
      "model_module_version": "1.5.0",
      "model_name": "DescriptionStyleModel",
      "state": {
       "description_width": ""
      }
     },
     "4a18336ef6f54f88a4cb74d3cece6426": {
      "model_module": "@jupyter-widgets/controls",
      "model_module_version": "1.5.0",
      "model_name": "DescriptionStyleModel",
      "state": {
       "description_width": ""
      }
     },
     "54e9cf3e57ac4b12874916306dad4653": {
      "model_module": "@jupyter-widgets/base",
      "model_module_version": "1.2.0",
      "model_name": "LayoutModel",
      "state": {}
     },
     "5c0fcb20707849fab94c7f1af5600f82": {
      "model_module": "@jupyter-widgets/controls",
      "model_module_version": "1.5.0",
      "model_name": "GridBoxModel",
      "state": {
       "children": [
        "IPY_MODEL_a188eddf6b9f4daab6fb11177b78a490"
       ],
       "layout": "IPY_MODEL_a66c86ae781f4605aed8a7f3b9bbf2db"
      }
     },
     "5e5f67178198485da751ddef0f6f0dfa": {
      "model_module": "@jupyter-widgets/controls",
      "model_module_version": "1.5.0",
      "model_name": "HTMLModel",
      "state": {
       "layout": "IPY_MODEL_3a5821ed418444e2bcd169654d9a1331",
       "style": "IPY_MODEL_bf5abd2dde05483a8b3b4cbee91d46eb",
       "value": "<h5>Backend</h5>"
      }
     },
     "63dfa7514bac4fdea9be2c1d46723753": {
      "model_module": "@jupyter-widgets/controls",
      "model_module_version": "1.5.0",
      "model_name": "DescriptionStyleModel",
      "state": {
       "description_width": ""
      }
     },
     "8988477c3c1f494782be50c1327cdbb5": {
      "model_module": "@jupyter-widgets/base",
      "model_module_version": "1.2.0",
      "model_name": "LayoutModel",
      "state": {
       "margin": "0px 0px 0px 37px",
       "width": "600px"
      }
     },
     "8c2a4654e6014be397b46335eafd2b37": {
      "model_module": "@jupyter-widgets/controls",
      "model_module_version": "1.5.0",
      "model_name": "HTMLModel",
      "state": {
       "layout": "IPY_MODEL_217dc02b2fb844ab94fa0b8ccf7f4ccf",
       "style": "IPY_MODEL_4a18336ef6f54f88a4cb74d3cece6426",
       "value": "<h5>Job ID</h5>"
      }
     },
     "93894b129d8947a08390599e2cbbc8b2": {
      "model_module": "@jupyter-widgets/base",
      "model_module_version": "1.2.0",
      "model_name": "LayoutModel",
      "state": {
       "width": "70px"
      }
     },
     "9437647093144cf2ab707a1d159d1417": {
      "model_module": "@jupyter-widgets/base",
      "model_module_version": "1.2.0",
      "model_name": "LayoutModel",
      "state": {
       "width": "95px"
      }
     },
     "a188eddf6b9f4daab6fb11177b78a490": {
      "model_module": "@jupyter-widgets/controls",
      "model_module_version": "1.5.0",
      "model_name": "ButtonModel",
      "state": {
       "button_style": "primary",
       "description": "Clear",
       "layout": "IPY_MODEL_2c13c4576c25473aa06ac6cc1130b54a",
       "style": "IPY_MODEL_cb234dd67dfb4c3a908af03cf283f716"
      }
     },
     "a66c86ae781f4605aed8a7f3b9bbf2db": {
      "model_module": "@jupyter-widgets/base",
      "model_module_version": "1.2.0",
      "model_name": "LayoutModel",
      "state": {
       "grid_template_areas": "\n                                       \". . . . right \"\n                                        ",
       "grid_template_columns": "20% 20% 20% 20% 20%",
       "width": "100%"
      }
     },
     "b8873be392db45b09a7a47b080f895fd": {
      "model_module": "@jupyter-widgets/controls",
      "model_module_version": "1.5.0",
      "model_name": "HBoxModel",
      "state": {
       "children": [
        "IPY_MODEL_8c2a4654e6014be397b46335eafd2b37",
        "IPY_MODEL_5e5f67178198485da751ddef0f6f0dfa",
        "IPY_MODEL_0e6ddb81267248099fe266ff36e87f20",
        "IPY_MODEL_bfba22a31f8842d89c70192ade8b4279",
        "IPY_MODEL_fa0aa1705a884c658b0bb27e52e9b504"
       ],
       "layout": "IPY_MODEL_8988477c3c1f494782be50c1327cdbb5"
      }
     },
     "bf5abd2dde05483a8b3b4cbee91d46eb": {
      "model_module": "@jupyter-widgets/controls",
      "model_module_version": "1.5.0",
      "model_name": "DescriptionStyleModel",
      "state": {
       "description_width": ""
      }
     },
     "bfba22a31f8842d89c70192ade8b4279": {
      "model_module": "@jupyter-widgets/controls",
      "model_module_version": "1.5.0",
      "model_name": "HTMLModel",
      "state": {
       "layout": "IPY_MODEL_93894b129d8947a08390599e2cbbc8b2",
       "style": "IPY_MODEL_48a9f0c439214d7eb7c4d53ca0a50402",
       "value": "<h5>Queue</h5>"
      }
     },
     "cb234dd67dfb4c3a908af03cf283f716": {
      "model_module": "@jupyter-widgets/controls",
      "model_module_version": "1.5.0",
      "model_name": "ButtonStyleModel",
      "state": {}
     },
     "fa0aa1705a884c658b0bb27e52e9b504": {
      "model_module": "@jupyter-widgets/controls",
      "model_module_version": "1.5.0",
      "model_name": "HTMLModel",
      "state": {
       "layout": "IPY_MODEL_54e9cf3e57ac4b12874916306dad4653",
       "style": "IPY_MODEL_409771072eb7486bbf9ddea12dd9b3c4",
       "value": "<h5>Message</h5>"
      }
     }
    },
    "version_major": 2,
    "version_minor": 0
   }
  }
 },
 "nbformat": 4,
 "nbformat_minor": 5
}
