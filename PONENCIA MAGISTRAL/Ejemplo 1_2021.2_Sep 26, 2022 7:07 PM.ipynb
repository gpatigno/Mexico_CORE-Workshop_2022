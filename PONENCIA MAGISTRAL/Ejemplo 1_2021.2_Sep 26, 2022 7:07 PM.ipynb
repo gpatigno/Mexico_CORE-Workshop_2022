{
 "cells": [
  {
   "cell_type": "code",
   "execution_count": 1,
   "metadata": {},
   "outputs": [],
   "source": [
    "from ibm_quantum_widgets import CircuitComposer\n",
    "from qiskit import QuantumRegister, ClassicalRegister, QuantumCircuit\n",
    "from numpy import pi"
   ]
  },
  {
   "cell_type": "code",
   "execution_count": 2,
   "metadata": {},
   "outputs": [],
   "source": [
    "from qiskit import QuantumCircuit, Aer, assemble, execute\n",
    "import numpy as np\n",
    "from qiskit.visualization import plot_histogram, plot_bloch_multivector"
   ]
  },
  {
   "cell_type": "code",
   "execution_count": 3,
   "metadata": {},
   "outputs": [
    {
     "name": "stderr",
     "output_type": "stream",
     "text": [
      "<frozen importlib._bootstrap>:219: RuntimeWarning: scipy._lib.messagestream.MessageStream size changed, may indicate binary incompatibility. Expected 56 from C header, got 64 from PyObject\n"
     ]
    }
   ],
   "source": [
    "sim = Aer.get_backend('aer_simulator')"
   ]
  },
  {
   "cell_type": "code",
   "execution_count": 4,
   "metadata": {},
   "outputs": [],
   "source": [
    "qreg_q = QuantumRegister(3, 'q')\n",
    "creg_c = ClassicalRegister(3, 'c')\n",
    "circuit = QuantumCircuit(qreg_q, creg_c)"
   ]
  },
  {
   "cell_type": "code",
   "execution_count": 5,
   "metadata": {},
   "outputs": [
    {
     "data": {
      "text/plain": [
       "<qiskit.circuit.instructionset.InstructionSet at 0x7fda8e060280>"
      ]
     },
     "execution_count": 5,
     "metadata": {},
     "output_type": "execute_result"
    }
   ],
   "source": [
    "circuit.h(qreg_q[1])\n",
    "circuit.h(qreg_q[2])\n",
    "circuit.barrier(qreg_q[0], qreg_q[1], qreg_q[2])\n",
    "circuit.rx(pi / 5, qreg_q[0])\n",
    "circuit.ry(pi / 3, qreg_q[1])\n",
    "circuit.ry(pi / 5, qreg_q[2])\n",
    "circuit.barrier(qreg_q[0], qreg_q[1], qreg_q[2])\n",
    "circuit.cx(qreg_q[1], qreg_q[2])\n",
    "circuit.cx(qreg_q[0], qreg_q[1])\n",
    "circuit.barrier(qreg_q[0], qreg_q[1], qreg_q[2])"
   ]
  },
  {
   "cell_type": "code",
   "execution_count": 6,
   "metadata": {},
   "outputs": [
    {
     "data": {
      "application/vnd.jupyter.widget-view+json": {
       "model_id": "62f88baee7794f2bbe470c4a0969ab15",
       "version_major": 2,
       "version_minor": 0
      },
      "text/plain": [
       "CircuitComposer(circuit=<qiskit.circuit.quantumcircuit.QuantumCircuit object at 0x7fda8e10d700>)"
      ]
     },
     "metadata": {},
     "output_type": "display_data"
    }
   ],
   "source": [
    "editor = CircuitComposer(circuit=circuit)\n",
    "editor"
   ]
  },
  {
   "cell_type": "code",
   "execution_count": 7,
   "metadata": {},
   "outputs": [],
   "source": [
    "circuit_unitary = circuit.copy()\n",
    "\n",
    "circuit_unitary.save_unitary()\n",
    "qobj = assemble(circuit_unitary)\n",
    "result = sim.run(qobj).result()\n",
    "unitary = result.get_unitary()"
   ]
  },
  {
   "cell_type": "code",
   "execution_count": 8,
   "metadata": {},
   "outputs": [
    {
     "data": {
      "text/latex": [
       "$$\n",
       "\\text{Circuit = }\n",
       "\n",
       "\\begin{bmatrix}\n",
       "0.11175 & -0.03631i & 0.41706 & -0.13551i & 0.21932 & -0.07126i & 0.81852 & -0.26595i  \\\\\n",
       " -0.26595i & 0.81852 & 0.07126i & -0.21932 & 0.13551i & -0.41706 & -0.03631i & 0.11175  \\\\\n",
       " 0.81852 & -0.26595i & -0.21932 & 0.07126i & -0.41706 & 0.13551i & 0.11175 & -0.03631i  \\\\\n",
       " -0.03631i & 0.11175 & -0.13551i & 0.41706 & -0.07126i & 0.21932 & -0.26595i & 0.81852  \\\\\n",
       " 0.21932 & -0.07126i & 0.81852 & -0.26595i & -0.11175 & 0.03631i & -0.41706 & 0.13551i  \\\\\n",
       " -0.13551i & 0.41706 & 0.03631i & -0.11175 & -0.26595i & 0.81852 & 0.07126i & -0.21932  \\\\\n",
       " 0.41706 & -0.13551i & -0.11175 & 0.03631i & 0.81852 & -0.26595i & -0.21932 & 0.07126i  \\\\\n",
       " -0.07126i & 0.21932 & -0.26595i & 0.81852 & 0.03631i & -0.11175 & 0.13551i & -0.41706  \\\\\n",
       " \\end{bmatrix}\n",
       "$$"
      ],
      "text/plain": [
       "<IPython.core.display.Latex object>"
      ]
     },
     "execution_count": 8,
     "metadata": {},
     "output_type": "execute_result"
    }
   ],
   "source": [
    "# In Jupyter Notebooks we can display this nicely using Latex.\n",
    "# If not using Jupyter Notebooks you may need to remove the \n",
    "# array_to_latex function and use print(unitary) instead.\n",
    "from qiskit.visualization import array_to_latex\n",
    "array_to_latex(unitary, prefix=\"\\\\text{Circuit = }\\n\")"
   ]
  },
  {
   "cell_type": "code",
   "execution_count": 9,
   "metadata": {},
   "outputs": [],
   "source": [
    "circuit_vector  = circuit.copy()\n",
    "\n",
    "circuit_vector.save_statevector()\n",
    "qobj2 = assemble(circuit_vector)\n",
    "result2 = sim.run(qobj2).result()\n",
    "statevector2 = result2.get_statevector()"
   ]
  },
  {
   "cell_type": "code",
   "execution_count": 10,
   "metadata": {},
   "outputs": [
    {
     "data": {
      "text/latex": [
       "$$\n",
       "\\text{Output statevector = }\n",
       "\\begin{bmatrix}\n",
       "0.11175 & -0.26595i & 0.81852 & -0.03631i & 0.21932 & -0.13551i & 0.41706 & -0.07126i  \\\\\n",
       " \\end{bmatrix}\n",
       "$$"
      ],
      "text/plain": [
       "<IPython.core.display.Latex object>"
      ]
     },
     "execution_count": 10,
     "metadata": {},
     "output_type": "execute_result"
    }
   ],
   "source": [
    "array_to_latex(statevector2, prefix=\"\\\\text{Output statevector = }\")"
   ]
  },
  {
   "cell_type": "code",
   "execution_count": 11,
   "metadata": {},
   "outputs": [
    {
     "data": {
      "image/png": "[encoded data removed]",
      "text/plain": [
       "<Figure size 688.597x264.88 with 1 Axes>"
      ]
     },
     "execution_count": 11,
     "metadata": {},
     "output_type": "execute_result"
    }
   ],
   "source": [
    "circuit.measure(qreg_q[2], creg_c[2])\n",
    "circuit.measure(qreg_q[1], creg_c[1])\n",
    "circuit.measure(qreg_q[0], creg_c[0])\n",
    "\n",
    "circuit.draw('mpl')"
   ]
  },
  {
   "cell_type": "code",
   "execution_count": 12,
   "metadata": {},
   "outputs": [],
   "source": [
    "job = execute(circuit, sim, shots=8192)  # shots default = 1024\n",
    "result = job.result()"
   ]
  },
  {
   "cell_type": "code",
   "execution_count": 13,
   "metadata": {},
   "outputs": [
    {
     "data": {
      "image/png": "[encoded data removed]",
      "text/plain": [
       "<Figure size 504x360 with 1 Axes>"
      ]
     },
     "execution_count": 13,
     "metadata": {},
     "output_type": "execute_result"
    }
   ],
   "source": [
    "data = result.get_counts(circuit)\n",
    "plot_histogram(data)"
   ]
  },
  {
   "cell_type": "code",
   "execution_count": 14,
   "metadata": {},
   "outputs": [
    {
     "data": {
      "text/html": [
       "<h3>Version Information</h3><table><tr><th>Qiskit Software</th><th>Version</th></tr><tr><td><code>qiskit-terra</code></td><td>0.22.2</td></tr><tr><td><code>qiskit-aer</code></td><td>0.11.1</td></tr><tr><td><code>qiskit-ibmq-provider</code></td><td>0.19.2</td></tr><tr><td><code>qiskit</code></td><td>0.39.2</td></tr><tr><td><code>qiskit-nature</code></td><td>0.5.0</td></tr><tr><td><code>qiskit-finance</code></td><td>0.3.4</td></tr><tr><td><code>qiskit-optimization</code></td><td>0.4.0</td></tr><tr><td><code>qiskit-machine-learning</code></td><td>0.5.0</td></tr><tr><th>System information</th></tr><tr><td>Python version</td><td>3.8.15</td></tr><tr><td>Python compiler</td><td>GCC 10.4.0</td></tr><tr><td>Python build</td><td>default, Nov 22 2022 08:46:39</td></tr><tr><td>OS</td><td>Linux</td></tr><tr><td>CPUs</td><td>8</td></tr><tr><td>Memory (Gb)</td><td>31.211322784423828</td></tr><tr><td colspan='2'>Fri Mar 10 11:11:53 2023 UTC</td></tr></table>"
      ],
      "text/plain": [
       "<IPython.core.display.HTML object>"
      ]
     },
     "metadata": {},
     "output_type": "display_data"
    }
   ],
   "source": [
    "import qiskit.tools.jupyter\n",
    "%qiskit_version_table"
   ]
  }
 ],
 "metadata": {
  "kernelspec": {
   "display_name": "Python 3 (ipykernel)",
   "language": "python",
   "name": "python3"
  },
  "language_info": {
   "codemirror_mode": {
    "name": "ipython",
    "version": 3
   },
   "file_extension": ".py",
   "mimetype": "text/x-python",
   "name": "python",
   "nbconvert_exporter": "python",
   "pygments_lexer": "ipython3",
   "version": "3.8.15"
  },
  "widgets": {
   "application/vnd.jupyter.widget-state+json": {
    "state": {
     "03237aa5e43944ceb2b65763de3245ff": {
      "model_module": "@jupyter-widgets/controls",
      "model_module_version": "1.5.0",
      "model_name": "ButtonStyleModel",
      "state": {}
     },
     "032cc91e43474c1190b7da86280d881d": {
      "model_module": "@jupyter-widgets/controls",
      "model_module_version": "1.5.0",
      "model_name": "GridBoxModel",
      "state": {
       "children": [
        "IPY_MODEL_ce8c1b4d0141459588fa6acdf577459c"
       ],
       "layout": "IPY_MODEL_c1eaa97b20644e418e1347121a228fa0"
      }
     },
     "1200611daa2a4fe6803b2db58158103f": {
      "model_module": "@jupyter-widgets/base",
      "model_module_version": "1.2.0",
      "model_name": "LayoutModel",
      "state": {
       "margin": "0px 0px 10px 0px"
      }
     },
     "244055aa4d62475888d88f6dbb471ac0": {
      "model_module": "@jupyter-widgets/base",
      "model_module_version": "1.2.0",
      "model_name": "LayoutModel",
      "state": {
       "width": "95px"
      }
     },
     "3425c81c1b4246fcb0a918c06585e00c": {
      "model_module": "@jupyter-widgets/controls",
      "model_module_version": "1.5.0",
      "model_name": "DescriptionStyleModel",
      "state": {
       "description_width": ""
      }
     },
     "36ffb1c1a6744743b98026a935ab1805": {
      "model_module": "@jupyter-widgets/controls",
      "model_module_version": "1.5.0",
      "model_name": "DescriptionStyleModel",
      "state": {
       "description_width": ""
      }
     },
     "4fbbf17355c94e02897a38a6acd96372": {
      "model_module": "@jupyter-widgets/controls",
      "model_module_version": "1.5.0",
      "model_name": "HTMLModel",
      "state": {
       "layout": "IPY_MODEL_244055aa4d62475888d88f6dbb471ac0",
       "style": "IPY_MODEL_8008f8daf279490ba7b2a13624ddcb60",
       "value": "<h5>Status</h5>"
      }
     },
     "52958749aa864247acbc08d64d813d92": {
      "model_module": "@jupyter-widgets/controls",
      "model_module_version": "1.5.0",
      "model_name": "HTMLModel",
      "state": {
       "layout": "IPY_MODEL_fcb349c5c19e44e98e0a9a26e341b36a",
       "style": "IPY_MODEL_9300bfea56f948f196e81ac523a18537",
       "value": "<h5>Backend</h5>"
      }
     },
     "54a22e483e954c5eb94c5d8e7ca61206": {
      "model_module": "@jupyter-widgets/controls",
      "model_module_version": "1.5.0",
      "model_name": "HTMLModel",
      "state": {
       "layout": "IPY_MODEL_1200611daa2a4fe6803b2db58158103f",
       "style": "IPY_MODEL_fb53041dbe4a414d839fc2a1d7ac68ca",
       "value": "<p style='font-family: IBM Plex Sans, Arial, Helvetica, sans-serif; font-size: 20px; font-weight: medium;'>Circuit Properties</p>"
      }
     },
     "561f97fc92b049f4bb2875003e7a544c": {
      "model_module": "@jupyter-widgets/base",
      "model_module_version": "1.2.0",
      "model_name": "LayoutModel",
      "state": {
       "width": "190px"
      }
     },
     "62f88baee7794f2bbe470c4a0969ab15": {
      "model_module": "@quantum/lab-widgets",
      "model_module_version": "4.0.7",
      "model_name": "CircuitComposerModel",
      "state": {
       "circuit": "\"OPENQASM 2.0;\\ninclude \\\"qelib1.inc\\\";\\nqreg q[3];\\ncreg c[3];\\nh q[1];\\nh q[2];\\nbarrier q[0],q[1],q[2];\\nrx(pi/5) q[0];\\nry(pi/3) q[1];\\nry(pi/5) q[2];\\nbarrier q[0],q[1],q[2];\\ncx q[1],q[2];\\ncx q[0],q[1];\\nbarrier q[0],q[1],q[2];\\n\"",
       "editable": true,
       "layout": "IPY_MODEL_e6886dc679564f56867a1b8099de3b95",
       "qiskit_code_cell_index": -1
      }
     },
     "6a1ef00c58ac4e149951c489b26f1ec9": {
      "model_module": "@jupyter-widgets/base",
      "model_module_version": "1.2.0",
      "model_name": "LayoutModel",
      "state": {
       "margin": "0px 0px 0px 37px",
       "width": "600px"
      }
     },
     "8008f8daf279490ba7b2a13624ddcb60": {
      "model_module": "@jupyter-widgets/controls",
      "model_module_version": "1.5.0",
      "model_name": "DescriptionStyleModel",
      "state": {
       "description_width": ""
      }
     },
     "8744976945db4488a6b02635dd7fa1cd": {
      "model_module": "@jupyter-widgets/controls",
      "model_module_version": "1.5.0",
      "model_name": "HTMLModel",
      "state": {
       "layout": "IPY_MODEL_561f97fc92b049f4bb2875003e7a544c",
       "style": "IPY_MODEL_3425c81c1b4246fcb0a918c06585e00c",
       "value": "<h5>Job ID</h5>"
      }
     },
     "9300bfea56f948f196e81ac523a18537": {
      "model_module": "@jupyter-widgets/controls",
      "model_module_version": "1.5.0",
      "model_name": "DescriptionStyleModel",
      "state": {
       "description_width": ""
      }
     },
     "97bf3597a6f04e0c8259dff0f0130a7d": {
      "model_module": "@jupyter-widgets/controls",
      "model_module_version": "1.5.0",
      "model_name": "HBoxModel",
      "state": {
       "children": [
        "IPY_MODEL_8744976945db4488a6b02635dd7fa1cd",
        "IPY_MODEL_52958749aa864247acbc08d64d813d92",
        "IPY_MODEL_4fbbf17355c94e02897a38a6acd96372",
        "IPY_MODEL_a77fef310b4942aa8c444a0d6dd82411",
        "IPY_MODEL_f9cc04a5eebf4c9ba27f3522600da5da"
       ],
       "layout": "IPY_MODEL_6a1ef00c58ac4e149951c489b26f1ec9"
      }
     },
     "993bafeeda6e4363b5b0b0c14c537077": {
      "model_module": "@jupyter-widgets/base",
      "model_module_version": "1.2.0",
      "model_name": "LayoutModel",
      "state": {}
     },
     "a77fef310b4942aa8c444a0d6dd82411": {
      "model_module": "@jupyter-widgets/controls",
      "model_module_version": "1.5.0",
      "model_name": "HTMLModel",
      "state": {
       "layout": "IPY_MODEL_faa72add23fc4123aa1423d9a6ee74da",
       "style": "IPY_MODEL_36ffb1c1a6744743b98026a935ab1805",
       "value": "<h5>Queue</h5>"
      }
     },
     "b241dfd9ab834c748649eb96b26ff94f": {
      "model_module": "@jupyter-widgets/controls",
      "model_module_version": "1.5.0",
      "model_name": "DescriptionStyleModel",
      "state": {
       "description_width": ""
      }
     },
     "c1eaa97b20644e418e1347121a228fa0": {
      "model_module": "@jupyter-widgets/base",
      "model_module_version": "1.2.0",
      "model_name": "LayoutModel",
      "state": {
       "grid_template_areas": "\n                                       \". . . . right \"\n                                        ",
       "grid_template_columns": "20% 20% 20% 20% 20%",
       "width": "100%"
      }
     },
     "ce8c1b4d0141459588fa6acdf577459c": {
      "model_module": "@jupyter-widgets/controls",
      "model_module_version": "1.5.0",
      "model_name": "ButtonModel",
      "state": {
       "button_style": "primary",
       "description": "Clear",
       "layout": "IPY_MODEL_e67ce3b3f6804b249cdc790cedcd29aa",
       "style": "IPY_MODEL_03237aa5e43944ceb2b65763de3245ff"
      }
     },
     "e67ce3b3f6804b249cdc790cedcd29aa": {
      "model_module": "@jupyter-widgets/base",
      "model_module_version": "1.2.0",
      "model_name": "LayoutModel",
      "state": {
       "grid_area": "right",
       "padding": "0px 0px 0px 0px",
       "width": "70px"
      }
     },
     "e6886dc679564f56867a1b8099de3b95": {
      "model_module": "@jupyter-widgets/base",
      "model_module_version": "1.2.0",
      "model_name": "LayoutModel",
      "state": {}
     },
     "f9cc04a5eebf4c9ba27f3522600da5da": {
      "model_module": "@jupyter-widgets/controls",
      "model_module_version": "1.5.0",
      "model_name": "HTMLModel",
      "state": {
       "layout": "IPY_MODEL_993bafeeda6e4363b5b0b0c14c537077",
       "style": "IPY_MODEL_b241dfd9ab834c748649eb96b26ff94f",
       "value": "<h5>Message</h5>"
      }
     },
     "faa72add23fc4123aa1423d9a6ee74da": {
      "model_module": "@jupyter-widgets/base",
      "model_module_version": "1.2.0",
      "model_name": "LayoutModel",
      "state": {
       "width": "70px"
      }
     },
     "fb53041dbe4a414d839fc2a1d7ac68ca": {
      "model_module": "@jupyter-widgets/controls",
      "model_module_version": "1.5.0",
      "model_name": "DescriptionStyleModel",
      "state": {
       "description_width": ""
      }
     },
     "fcb349c5c19e44e98e0a9a26e341b36a": {
      "model_module": "@jupyter-widgets/base",
      "model_module_version": "1.2.0",
      "model_name": "LayoutModel",
      "state": {
       "width": "145px"
      }
     }
    },
    "version_major": 2,
    "version_minor": 0
   }
  }
 },
 "nbformat": 4,
 "nbformat_minor": 4
}
