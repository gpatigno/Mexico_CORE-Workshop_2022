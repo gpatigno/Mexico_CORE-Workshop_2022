{
 "cells": [
  {
   "cell_type": "code",
   "execution_count": null,
   "metadata": {},
   "outputs": [],
   "source": [
    "#***********************************************************************************************#\n",
    "# Implementación del circuito de Teletransportación Cuántica en la plataforma Qiskit de IBM.\n",
    "#***********************************************************************************************#\n",
    "\n",
    "#***********************************************************************************************#\n",
    "# Para esta implementación se ha tenido en cuenta la descripción del circuito dada en el siguiente \n",
    "# tutorial del libro de Qiskit:\n",
    "# https://qiskit.org/textbook/ch-algorithms/teleportation.html\n",
    "\n",
    "# Además se han tomando instrucciones e ideas del tutorial de la comunidad de desarrolladores de Qiskit disponible en:\n",
    "# https://github.com/Qiskit/qiskit-community-tutorials/blob/master/terra/qis_intro/teleportation_superdensecoding.ipynb\n",
    "#***********************************************************************************************#\n",
    "#***********************************************************************************************#\n",
    "# Curso de Computación Cuántica\n",
    "# Prof. Gustavo Patino\n",
    "# Departamento de Ingeniería Electrónica y Telecomunicaciones\n",
    "# Facultad de Ingeniería\n",
    "# Universidad de Antioquia\n",
    "# Medellin, 2020-2022.\n",
    "#***********************************************************************************************#"
   ]
  },
  {
   "cell_type": "code",
   "execution_count": null,
   "metadata": {},
   "outputs": [],
   "source": [
    "from qiskit import QuantumCircuit, QuantumRegister, ClassicalRegister, execute, Aer, IBMQ\n",
    "from qiskit.visualization import plot_histogram, plot_bloch_multivector"
   ]
  },
  {
   "cell_type": "code",
   "execution_count": null,
   "metadata": {},
   "outputs": [],
   "source": [
    "from qiskit_textbook.tools import random_state, vector2latex\n",
    "from qiskit.extensions import Initialize"
   ]
  },
  {
   "cell_type": "code",
   "execution_count": null,
   "metadata": {},
   "outputs": [],
   "source": [
    "from qiskit.providers.ibmq import least_busy\n",
    "from qiskit.tools.monitor import job_monitor"
   ]
  },
  {
   "cell_type": "code",
   "execution_count": null,
   "metadata": {},
   "outputs": [],
   "source": [
    "# Descomente la siguiente linea si desea ver las imágenes más grandes.\n",
    "%config InlineBackend.figure_format = 'svg' # Makes the images look nice"
   ]
  },
  {
   "cell_type": "code",
   "execution_count": null,
   "metadata": {},
   "outputs": [],
   "source": [
    "# Definición de funciones para implementar las diversas etapas del circuito de teletransportación cuántica"
   ]
  },
  {
   "cell_type": "code",
   "execution_count": null,
   "metadata": {},
   "outputs": [],
   "source": [
    "def crear_estado_bell00(qc, a, b):\n"
   ]
  },
  {
   "cell_type": "code",
   "execution_count": null,
   "metadata": {},
   "outputs": [],
   "source": [
    "def circuito_de_alice(qc, q2send, beta0):\n"
   ]
  },
  {
   "cell_type": "code",
   "execution_count": null,
   "metadata": {},
   "outputs": [],
   "source": [
    "def medicion_de_alice(qc, a, b):\n"
   ]
  },
  {
   "cell_type": "code",
   "execution_count": null,
   "metadata": {},
   "outputs": [],
   "source": [
    "def circuito_de_bob(qc, beta1, m1, m2):\n"
   ]
  },
  {
   "cell_type": "code",
   "execution_count": null,
   "metadata": {},
   "outputs": [],
   "source": [
    "# Definición del circuito de teletransportación cuántica\n",
    "\n"
   ]
  },
  {
   "cell_type": "code",
   "execution_count": null,
   "metadata": {},
   "outputs": [],
   "source": [
    "# si la función random_set no está disponible en su instalación del Qiskit, entonces comente las siguientes instrucciones.\n",
    "# Luego descomente la instrucción de rotación mostrada en la siguiente linea.\n",
    "qrandom = random_state(1)\n",
    "print(qrandom)\n",
    "vector2latex(qrandom, pretext=\"|\\\\psi\\\\rangle =\")\n",
    "\n",
    "plot_bloch_multivector(qrandom)"
   ]
  },
  {
   "cell_type": "code",
   "execution_count": null,
   "metadata": {},
   "outputs": [],
   "source": [
    "init_gate=Initialize(qrandom)"
   ]
  },
  {
   "cell_type": "code",
   "execution_count": null,
   "metadata": {},
   "outputs": [],
   "source": [
    "# Descomente estas instrucciones si el comando Random_set() no está disponible en su instalación del qiskit\n",
    "#teleport_cir.reset(qr[0])\n",
    "#teleport_cir.ry(np.pi/10,qr[0]) \n",
    "#teleport_cir.barrier()\n",
    "#teleport_cir.draw('mpl')"
   ]
  },
  {
   "cell_type": "code",
   "execution_count": null,
   "metadata": {},
   "outputs": [],
   "source": [
    "# Comente estas instrucciones si el comando Random_set() no está disponible en su instalación del qiskit\n",
    "\n",
    "teleport_cir.append(init_gate, [0])\n",
    "\n",
    "teleport_cir.barrier()\n",
    "teleport_cir.draw('mpl')"
   ]
  },
  {
   "cell_type": "code",
   "execution_count": null,
   "metadata": {},
   "outputs": [],
   "source": [
    "crear_estado_bell00(teleport_cir, qr[1], qr[2])\n",
    "teleport_cir.barrier()\n",
    "teleport_cir.draw('mpl')"
   ]
  },
  {
   "cell_type": "code",
   "execution_count": null,
   "metadata": {},
   "outputs": [],
   "source": [
    "circuito_de_alice(teleport_cir, qr[0], qr[1])\n",
    "teleport_cir.draw('mpl')"
   ]
  },
  {
   "cell_type": "code",
   "execution_count": null,
   "metadata": {},
   "outputs": [],
   "source": [
    "medicion_de_alice(teleport_cir, qr[0], qr[1])\n",
    "teleport_cir.draw('mpl')\n",
    "\n",
    "# El resultado de la medida realizada por Alice \n",
    "# se envía a Bob por un canal clásico (correo electronico, Whatsapp, llamada telefónica).\n",
    "# Este canal clásico se representa por la doble barrera indicada en el circuito."
   ]
  },
  {
   "cell_type": "code",
   "execution_count": null,
   "metadata": {},
   "outputs": [],
   "source": [
    "circuito_de_bob(teleport_cir, qr[2], crz, crx)\n",
    "teleport_cir.draw('mpl')"
   ]
  },
  {
   "cell_type": "code",
   "execution_count": null,
   "metadata": {},
   "outputs": [],
   "source": [
    "backend = Aer.get_backend('statevector_simulator')\n",
    "out_vector = execute(teleport_cir, backend).result().get_statevector()\n",
    "plot_bloch_multivector(out_vector)\n",
    "\n",
    "#Los qubits 0 y 1 están colapsados como se indica en las siguientes figuras. El qubit2 es el recibido por Bob.\n",
    "#El qubit2 debe corresponder al qubit enviado por Alice en los pasos anteriores."
   ]
  },
  {
   "cell_type": "code",
   "execution_count": null,
   "metadata": {},
   "outputs": [],
   "source": [
    "vector2latex(out_vector, pretext=\"|\\\\psi\\\\rangle =\")"
   ]
  },
  {
   "cell_type": "code",
   "execution_count": null,
   "metadata": {},
   "outputs": [],
   "source": [
    "teleport_cir.barrier() # Use barrier to separate steps\n",
    "teleport_cir.measure(qr[2], crbob[0])\n",
    "teleport_cir.draw('mpl')"
   ]
  },
  {
   "cell_type": "code",
   "execution_count": null,
   "metadata": {},
   "outputs": [],
   "source": [
    "local_backend = Aer.get_backend('qasm_simulator') # note that this circuit can not be run on an IBM Q device\n",
    "teleport_job = execute(teleport_cir, local_backend, shots=1024) \n",
    "teleport_result = teleport_job.result()"
   ]
  },
  {
   "cell_type": "code",
   "execution_count": null,
   "metadata": {},
   "outputs": [],
   "source": [
    "data = teleport_result.get_counts(teleport_cir)\n",
    "plot_histogram(data)\n",
    "\n",
    "# En este conjunto de datos de probabilidad está todo el universo del circuito. \n",
    "# Los qubits q0 y q1 corresponden a los obtenidos por Alice antes de la medida.\n",
    "# Y el qubit q2 corresponde al recibido por Bob. "
   ]
  },
  {
   "cell_type": "code",
   "execution_count": null,
   "metadata": {},
   "outputs": [],
   "source": [
    "# Con las siguientes instrucciones se pueden extraer de manera más clara los qubits de Alice.\n",
    "alice = {}\n",
    "\n",
    "\n",
    "\n",
    "plot_histogram(alice)"
   ]
  },
  {
   "cell_type": "code",
   "execution_count": null,
   "metadata": {},
   "outputs": [],
   "source": [
    "# Y con las siguientes instrucciones se puede extraer de manera más clara el qubit de Bob.\n",
    "bob = {}\n",
    "\n",
    "plot_histogram(bob)"
   ]
  },
  {
   "cell_type": "code",
   "execution_count": null,
   "metadata": {},
   "outputs": [],
   "source": [
    "# Este circuito, como fue descrito en este código, no puede ser implementado en un computador cuántico real de IBM \n",
    "# debido a la imposibilidad de agregar compuertas cuánticas luego de que se realice alguna medida.\n",
    "\n",
    "# Además de ello, en un circuito real de teletransportación cuántica, sería necesario que el circuito de Bob estuviera \n",
    "# fisicamente en otro lugar separado del circuito real de Alice, y los bits medidos por Alice se deberían enviar \n",
    "# clásicamente al circuito de Bob.\n",
    "\n",
    "# Aun así, en otro ejercicio podremos implementar este circuito en un computador cuántico real a fin de\n",
    "# evaluar su ejecución y tasa de error."
   ]
  },
  {
   "cell_type": "code",
   "execution_count": null,
   "metadata": {},
   "outputs": [],
   "source": [
    "import qiskit.tools.jupyter\n",
    "%qiskit_version_table\n",
    "%qiskit_copyright"
   ]
  }
 ],
 "metadata": {
  "kernelspec": {
   "display_name": "Python 3 (ipykernel)",
   "language": "python",
   "name": "python3"
  },
  "language_info": {
   "codemirror_mode": {
    "name": "ipython",
    "version": 3
   },
   "file_extension": ".py",
   "mimetype": "text/x-python",
   "name": "python",
   "nbconvert_exporter": "python",
   "pygments_lexer": "ipython3",
   "version": "3.8.13"
  },
  "widgets": {
   "application/vnd.jupyter.widget-state+json": {
    "state": {},
    "version_major": 2,
    "version_minor": 0
   }
  }
 },
 "nbformat": 4,
 "nbformat_minor": 4
}
